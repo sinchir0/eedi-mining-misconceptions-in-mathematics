{
 "cells": [
  {
   "cell_type": "code",
   "execution_count": 1,
   "metadata": {},
   "outputs": [],
   "source": [
    "import polars as pl"
   ]
  },
  {
   "cell_type": "code",
   "execution_count": 3,
   "metadata": {},
   "outputs": [],
   "source": [
    "train = pl.read_csv(\"../retrieved_data/e001-train_ret25_map0.1378_recall0.4531.csv\")"
   ]
  },
  {
   "cell_type": "code",
   "execution_count": 4,
   "metadata": {},
   "outputs": [
    {
     "data": {
      "text/html": [
       "<div><style>\n",
       ".dataframe > thead > tr,\n",
       ".dataframe > tbody > tr {\n",
       "  text-align: right;\n",
       "  white-space: pre-wrap;\n",
       "}\n",
       "</style>\n",
       "<small>shape: (109_250, 14)</small><table border=\"1\" class=\"dataframe\"><thead><tr><th>QuestionId</th><th>ConstructName</th><th>SubjectName</th><th>QuestionText</th><th>CorrectAnswer</th><th>AnswerType</th><th>AnswerText</th><th>AnswerAlphabet</th><th>MisconceptionId</th><th>MisconceptionAlphabet</th><th>AllText</th><th>PredictMisconceptionId</th><th>target</th><th>PredictMisconceptionName</th></tr><tr><td>i64</td><td>str</td><td>str</td><td>str</td><td>str</td><td>str</td><td>str</td><td>str</td><td>i64</td><td>str</td><td>str</td><td>i64</td><td>i64</td><td>str</td></tr></thead><tbody><tr><td>0</td><td>&quot;Use the order of operations to…</td><td>&quot;BIDMAS&quot;</td><td>&quot;\\[\n",
       "3 \\times 2+4-5\n",
       "\\]\n",
       "Where do …</td><td>&quot;A&quot;</td><td>&quot;AnswerDText&quot;</td><td>&quot;Does not need brackets&quot;</td><td>&quot;D&quot;</td><td>1672</td><td>&quot;D&quot;</td><td>&quot;Use the order of operations to…</td><td>2488</td><td>0</td><td>&quot;Answers order of operations qu…</td></tr><tr><td>0</td><td>&quot;Use the order of operations to…</td><td>&quot;BIDMAS&quot;</td><td>&quot;\\[\n",
       "3 \\times 2+4-5\n",
       "\\]\n",
       "Where do …</td><td>&quot;A&quot;</td><td>&quot;AnswerDText&quot;</td><td>&quot;Does not need brackets&quot;</td><td>&quot;D&quot;</td><td>1672</td><td>&quot;D&quot;</td><td>&quot;Use the order of operations to…</td><td>2551</td><td>0</td><td>&quot;Believes range does not need u…</td></tr><tr><td>0</td><td>&quot;Use the order of operations to…</td><td>&quot;BIDMAS&quot;</td><td>&quot;\\[\n",
       "3 \\times 2+4-5\n",
       "\\]\n",
       "Where do …</td><td>&quot;A&quot;</td><td>&quot;AnswerDText&quot;</td><td>&quot;Does not need brackets&quot;</td><td>&quot;D&quot;</td><td>1672</td><td>&quot;D&quot;</td><td>&quot;Use the order of operations to…</td><td>2532</td><td>0</td><td>&quot;Believes order of operations d…</td></tr><tr><td>0</td><td>&quot;Use the order of operations to…</td><td>&quot;BIDMAS&quot;</td><td>&quot;\\[\n",
       "3 \\times 2+4-5\n",
       "\\]\n",
       "Where do …</td><td>&quot;A&quot;</td><td>&quot;AnswerDText&quot;</td><td>&quot;Does not need brackets&quot;</td><td>&quot;D&quot;</td><td>1672</td><td>&quot;D&quot;</td><td>&quot;Use the order of operations to…</td><td>2039</td><td>0</td><td>&quot;Thinks you need to just add a …</td></tr><tr><td>0</td><td>&quot;Use the order of operations to…</td><td>&quot;BIDMAS&quot;</td><td>&quot;\\[\n",
       "3 \\times 2+4-5\n",
       "\\]\n",
       "Where do …</td><td>&quot;A&quot;</td><td>&quot;AnswerDText&quot;</td><td>&quot;Does not need brackets&quot;</td><td>&quot;D&quot;</td><td>1672</td><td>&quot;D&quot;</td><td>&quot;Use the order of operations to…</td><td>1872</td><td>0</td><td>&quot;Believes they only need to mul…</td></tr><tr><td>&hellip;</td><td>&hellip;</td><td>&hellip;</td><td>&hellip;</td><td>&hellip;</td><td>&hellip;</td><td>&hellip;</td><td>&hellip;</td><td>&hellip;</td><td>&hellip;</td><td>&hellip;</td><td>&hellip;</td><td>&hellip;</td><td>&hellip;</td></tr><tr><td>1868</td><td>&quot;Describe a 90° or 270° rotatio…</td><td>&quot;Rotation&quot;</td><td>&quot;Jo and Paul are arguing about …</td><td>&quot;B&quot;</td><td>&quot;AnswerDText&quot;</td><td>&quot;Neither is correct&quot;</td><td>&quot;D&quot;</td><td>95</td><td>&quot;D&quot;</td><td>&quot;Describe a 90° or 270° rotatio…</td><td>1583</td><td>0</td><td>&quot;Does not recognise the origin …</td></tr><tr><td>1868</td><td>&quot;Describe a 90° or 270° rotatio…</td><td>&quot;Rotation&quot;</td><td>&quot;Jo and Paul are arguing about …</td><td>&quot;B&quot;</td><td>&quot;AnswerDText&quot;</td><td>&quot;Neither is correct&quot;</td><td>&quot;D&quot;</td><td>95</td><td>&quot;D&quot;</td><td>&quot;Describe a 90° or 270° rotatio…</td><td>311</td><td>0</td><td>&quot;Believes gradient is the sum o…</td></tr><tr><td>1868</td><td>&quot;Describe a 90° or 270° rotatio…</td><td>&quot;Rotation&quot;</td><td>&quot;Jo and Paul are arguing about …</td><td>&quot;B&quot;</td><td>&quot;AnswerDText&quot;</td><td>&quot;Neither is correct&quot;</td><td>&quot;D&quot;</td><td>95</td><td>&quot;D&quot;</td><td>&quot;Describe a 90° or 270° rotatio…</td><td>2090</td><td>0</td><td>&quot;Finds the area of the whole gr…</td></tr><tr><td>1868</td><td>&quot;Describe a 90° or 270° rotatio…</td><td>&quot;Rotation&quot;</td><td>&quot;Jo and Paul are arguing about …</td><td>&quot;B&quot;</td><td>&quot;AnswerDText&quot;</td><td>&quot;Neither is correct&quot;</td><td>&quot;D&quot;</td><td>95</td><td>&quot;D&quot;</td><td>&quot;Describe a 90° or 270° rotatio…</td><td>1498</td><td>0</td><td>&quot;Does not understand that a sca…</td></tr><tr><td>1868</td><td>&quot;Describe a 90° or 270° rotatio…</td><td>&quot;Rotation&quot;</td><td>&quot;Jo and Paul are arguing about …</td><td>&quot;B&quot;</td><td>&quot;AnswerDText&quot;</td><td>&quot;Neither is correct&quot;</td><td>&quot;D&quot;</td><td>95</td><td>&quot;D&quot;</td><td>&quot;Describe a 90° or 270° rotatio…</td><td>1605</td><td>0</td><td>&quot;When rounding up from a 9, doe…</td></tr></tbody></table></div>"
      ],
      "text/plain": [
       "shape: (109_250, 14)\n",
       "┌────────────┬────────────┬───────────┬───────────┬───┬───────────┬───────────┬────────┬───────────┐\n",
       "│ QuestionId ┆ ConstructN ┆ SubjectNa ┆ QuestionT ┆ … ┆ AllText   ┆ PredictMi ┆ target ┆ PredictMi │\n",
       "│ ---        ┆ ame        ┆ me        ┆ ext       ┆   ┆ ---       ┆ sconcepti ┆ ---    ┆ sconcepti │\n",
       "│ i64        ┆ ---        ┆ ---       ┆ ---       ┆   ┆ str       ┆ onId      ┆ i64    ┆ onName    │\n",
       "│            ┆ str        ┆ str       ┆ str       ┆   ┆           ┆ ---       ┆        ┆ ---       │\n",
       "│            ┆            ┆           ┆           ┆   ┆           ┆ i64       ┆        ┆ str       │\n",
       "╞════════════╪════════════╪═══════════╪═══════════╪═══╪═══════════╪═══════════╪════════╪═══════════╡\n",
       "│ 0          ┆ Use the    ┆ BIDMAS    ┆ \\[        ┆ … ┆ Use the   ┆ 2488      ┆ 0      ┆ Answers   │\n",
       "│            ┆ order of   ┆           ┆ 3 \\times  ┆   ┆ order of  ┆           ┆        ┆ order of  │\n",
       "│            ┆ operations ┆           ┆ 2+4-5     ┆   ┆ operation ┆           ┆        ┆ operation │\n",
       "│            ┆ to…        ┆           ┆ \\]        ┆   ┆ s to…     ┆           ┆        ┆ s qu…     │\n",
       "│            ┆            ┆           ┆ Where do  ┆   ┆           ┆           ┆        ┆           │\n",
       "│            ┆            ┆           ┆ …         ┆   ┆           ┆           ┆        ┆           │\n",
       "│ 0          ┆ Use the    ┆ BIDMAS    ┆ \\[        ┆ … ┆ Use the   ┆ 2551      ┆ 0      ┆ Believes  │\n",
       "│            ┆ order of   ┆           ┆ 3 \\times  ┆   ┆ order of  ┆           ┆        ┆ range     │\n",
       "│            ┆ operations ┆           ┆ 2+4-5     ┆   ┆ operation ┆           ┆        ┆ does not  │\n",
       "│            ┆ to…        ┆           ┆ \\]        ┆   ┆ s to…     ┆           ┆        ┆ need u…   │\n",
       "│            ┆            ┆           ┆ Where do  ┆   ┆           ┆           ┆        ┆           │\n",
       "│            ┆            ┆           ┆ …         ┆   ┆           ┆           ┆        ┆           │\n",
       "│ 0          ┆ Use the    ┆ BIDMAS    ┆ \\[        ┆ … ┆ Use the   ┆ 2532      ┆ 0      ┆ Believes  │\n",
       "│            ┆ order of   ┆           ┆ 3 \\times  ┆   ┆ order of  ┆           ┆        ┆ order of  │\n",
       "│            ┆ operations ┆           ┆ 2+4-5     ┆   ┆ operation ┆           ┆        ┆ operation │\n",
       "│            ┆ to…        ┆           ┆ \\]        ┆   ┆ s to…     ┆           ┆        ┆ s d…      │\n",
       "│            ┆            ┆           ┆ Where do  ┆   ┆           ┆           ┆        ┆           │\n",
       "│            ┆            ┆           ┆ …         ┆   ┆           ┆           ┆        ┆           │\n",
       "│ 0          ┆ Use the    ┆ BIDMAS    ┆ \\[        ┆ … ┆ Use the   ┆ 2039      ┆ 0      ┆ Thinks    │\n",
       "│            ┆ order of   ┆           ┆ 3 \\times  ┆   ┆ order of  ┆           ┆        ┆ you need  │\n",
       "│            ┆ operations ┆           ┆ 2+4-5     ┆   ┆ operation ┆           ┆        ┆ to just   │\n",
       "│            ┆ to…        ┆           ┆ \\]        ┆   ┆ s to…     ┆           ┆        ┆ add a …   │\n",
       "│            ┆            ┆           ┆ Where do  ┆   ┆           ┆           ┆        ┆           │\n",
       "│            ┆            ┆           ┆ …         ┆   ┆           ┆           ┆        ┆           │\n",
       "│ 0          ┆ Use the    ┆ BIDMAS    ┆ \\[        ┆ … ┆ Use the   ┆ 1872      ┆ 0      ┆ Believes  │\n",
       "│            ┆ order of   ┆           ┆ 3 \\times  ┆   ┆ order of  ┆           ┆        ┆ they only │\n",
       "│            ┆ operations ┆           ┆ 2+4-5     ┆   ┆ operation ┆           ┆        ┆ need to   │\n",
       "│            ┆ to…        ┆           ┆ \\]        ┆   ┆ s to…     ┆           ┆        ┆ mul…      │\n",
       "│            ┆            ┆           ┆ Where do  ┆   ┆           ┆           ┆        ┆           │\n",
       "│            ┆            ┆           ┆ …         ┆   ┆           ┆           ┆        ┆           │\n",
       "│ …          ┆ …          ┆ …         ┆ …         ┆ … ┆ …         ┆ …         ┆ …      ┆ …         │\n",
       "│ 1868       ┆ Describe a ┆ Rotation  ┆ Jo and    ┆ … ┆ Describe  ┆ 1583      ┆ 0      ┆ Does not  │\n",
       "│            ┆ 90° or     ┆           ┆ Paul are  ┆   ┆ a 90° or  ┆           ┆        ┆ recognise │\n",
       "│            ┆ 270°       ┆           ┆ arguing   ┆   ┆ 270°      ┆           ┆        ┆ the       │\n",
       "│            ┆ rotatio…   ┆           ┆ about …   ┆   ┆ rotatio…  ┆           ┆        ┆ origin …  │\n",
       "│ 1868       ┆ Describe a ┆ Rotation  ┆ Jo and    ┆ … ┆ Describe  ┆ 311       ┆ 0      ┆ Believes  │\n",
       "│            ┆ 90° or     ┆           ┆ Paul are  ┆   ┆ a 90° or  ┆           ┆        ┆ gradient  │\n",
       "│            ┆ 270°       ┆           ┆ arguing   ┆   ┆ 270°      ┆           ┆        ┆ is the    │\n",
       "│            ┆ rotatio…   ┆           ┆ about …   ┆   ┆ rotatio…  ┆           ┆        ┆ sum o…    │\n",
       "│ 1868       ┆ Describe a ┆ Rotation  ┆ Jo and    ┆ … ┆ Describe  ┆ 2090      ┆ 0      ┆ Finds the │\n",
       "│            ┆ 90° or     ┆           ┆ Paul are  ┆   ┆ a 90° or  ┆           ┆        ┆ area of   │\n",
       "│            ┆ 270°       ┆           ┆ arguing   ┆   ┆ 270°      ┆           ┆        ┆ the whole │\n",
       "│            ┆ rotatio…   ┆           ┆ about …   ┆   ┆ rotatio…  ┆           ┆        ┆ gr…       │\n",
       "│ 1868       ┆ Describe a ┆ Rotation  ┆ Jo and    ┆ … ┆ Describe  ┆ 1498      ┆ 0      ┆ Does not  │\n",
       "│            ┆ 90° or     ┆           ┆ Paul are  ┆   ┆ a 90° or  ┆           ┆        ┆ understan │\n",
       "│            ┆ 270°       ┆           ┆ arguing   ┆   ┆ 270°      ┆           ┆        ┆ d that a  │\n",
       "│            ┆ rotatio…   ┆           ┆ about …   ┆   ┆ rotatio…  ┆           ┆        ┆ sca…      │\n",
       "│ 1868       ┆ Describe a ┆ Rotation  ┆ Jo and    ┆ … ┆ Describe  ┆ 1605      ┆ 0      ┆ When      │\n",
       "│            ┆ 90° or     ┆           ┆ Paul are  ┆   ┆ a 90° or  ┆           ┆        ┆ rounding  │\n",
       "│            ┆ 270°       ┆           ┆ arguing   ┆   ┆ 270°      ┆           ┆        ┆ up from a │\n",
       "│            ┆ rotatio…   ┆           ┆ about …   ┆   ┆ rotatio…  ┆           ┆        ┆ 9, doe…   │\n",
       "└────────────┴────────────┴───────────┴───────────┴───┴───────────┴───────────┴────────┴───────────┘"
      ]
     },
     "execution_count": 4,
     "metadata": {},
     "output_type": "execute_result"
    }
   ],
   "source": [
    "train"
   ]
  },
  {
   "cell_type": "code",
   "execution_count": 7,
   "metadata": {},
   "outputs": [],
   "source": [
    "train_for_cv = (\n",
    "    train\n",
    "    .group_by([\"QuestionId\", \"AnswerAlphabet\"], maintain_order=True)\n",
    "    .agg(pl.col(\"PredictMisconceptionId\").alias(\"Predict\"))\n",
    "    .join(\n",
    "        train\n",
    "        .select([\"QuestionId\", \"AnswerAlphabet\", \"MisconceptionId\"])\n",
    "        .unique(),\n",
    "        on=[\"QuestionId\", \"AnswerAlphabet\"],\n",
    "    )\n",
    "    .sort(by=[\"QuestionId\", \"AnswerAlphabet\"])\n",
    ")"
   ]
  },
  {
   "cell_type": "code",
   "execution_count": 9,
   "metadata": {},
   "outputs": [
    {
     "name": "stdout",
     "output_type": "stream",
     "text": [
      "MAP@25 Score: 0.13781884858544377\n"
     ]
    }
   ],
   "source": [
    "import numpy as np\n",
    "# https://www.kaggle.com/code/cdeotte/how-to-train-open-book-model-part-1#MAP@3-Metric\n",
    "def map_at_25(predictions, labels):\n",
    "    map_sum = 0\n",
    "    for x, y in zip(predictions, labels):\n",
    "        z = [1 / i if y == j else 0 for i, j in zip(range(1, 26), x)]\n",
    "        map_sum += np.sum(z)\n",
    "    return map_sum / len(predictions)\n",
    "\n",
    "\n",
    "map_at_25_score = map_at_25(\n",
    "    train_for_cv[\"Predict\"], train_for_cv[\"MisconceptionId\"]\n",
    ")\n",
    "print(f\"MAP@25 Score: {map_at_25_score}\")"
   ]
  },
  {
   "cell_type": "code",
   "execution_count": null,
   "metadata": {},
   "outputs": [],
   "source": [
    "# tfidfの時点でのスコアは保たれているから、正しくrerankでスコアが落ちている。"
   ]
  },
  {
   "cell_type": "code",
   "execution_count": 12,
   "metadata": {},
   "outputs": [],
   "source": [
    "valid_for_cv = train_for_cv.filter(\n",
    "    pl.col(\"QuestionId\") % 3 == 0\n",
    ")"
   ]
  },
  {
   "cell_type": "code",
   "execution_count": 13,
   "metadata": {},
   "outputs": [
    {
     "name": "stdout",
     "output_type": "stream",
     "text": [
      "MAP@25 Score: 0.12841481863612564\n"
     ]
    }
   ],
   "source": [
    "map_at_25_score = map_at_25(\n",
    "    valid_for_cv[\"Predict\"], valid_for_cv[\"MisconceptionId\"]\n",
    ")\n",
    "print(f\"MAP@25 Score: {map_at_25_score}\")"
   ]
  },
  {
   "cell_type": "code",
   "execution_count": null,
   "metadata": {},
   "outputs": [],
   "source": [
    "# validに限定してもスコアは十分に保たれている"
   ]
  },
  {
   "cell_type": "code",
   "execution_count": 15,
   "metadata": {},
   "outputs": [
    {
     "name": "stdout",
     "output_type": "stream",
     "text": [
      "shape: (8, 3)\n",
      "┌────────────┬────────────┬─────────────┐\n",
      "│ QuestionId ┆ valid_pred ┆ OtherColumn │\n",
      "│ ---        ┆ ---        ┆ ---         │\n",
      "│ i64        ┆ f64        ┆ str         │\n",
      "╞════════════╪════════════╪═════════════╡\n",
      "│ 1          ┆ 0.8        ┆ A           │\n",
      "│ 1          ┆ 0.5        ┆ B           │\n",
      "│ 1          ┆ 0.3        ┆ G           │\n",
      "│ 2          ┆ 0.95       ┆ H           │\n",
      "│ 2          ┆ 0.7        ┆ C           │\n",
      "│ 2          ┆ 0.6        ┆ D           │\n",
      "│ 3          ┆ 0.9        ┆ E           │\n",
      "│ 3          ┆ 0.4        ┆ F           │\n",
      "└────────────┴────────────┴─────────────┘\n"
     ]
    }
   ],
   "source": [
    "# sortの動作の確認\n",
    "import polars as pl\n",
    "\n",
    "# 仮のデータを作成\n",
    "data = {\n",
    "    \"QuestionId\": [1, 1, 2, 2, 3, 3, 1, 2],\n",
    "    \"valid_pred\": [0.8, 0.5, 0.7, 0.6, 0.9, 0.4, 0.3, 0.95],\n",
    "    \"OtherColumn\": [\"A\", \"B\", \"C\", \"D\", \"E\", \"F\", \"G\", \"H\"]\n",
    "}\n",
    "\n",
    "# DataFrameを作成\n",
    "df = pl.DataFrame(data)\n",
    "\n",
    "# 'QuestionId'を昇順、'valid_pred'を降順にソート\n",
    "sorted_df = df.sort(\n",
    "    by=[\"QuestionId\", \"valid_pred\"],\n",
    "    descending=[False, True]\n",
    ")\n",
    "\n",
    "print(sorted_df)"
   ]
  },
  {
   "cell_type": "code",
   "execution_count": null,
   "metadata": {},
   "outputs": [],
   "source": []
  }
 ],
 "metadata": {
  "kernelspec": {
   "display_name": "base",
   "language": "python",
   "name": "python3"
  },
  "language_info": {
   "codemirror_mode": {
    "name": "ipython",
    "version": 3
   },
   "file_extension": ".py",
   "mimetype": "text/x-python",
   "name": "python",
   "nbconvert_exporter": "python",
   "pygments_lexer": "ipython3",
   "version": "3.10.14"
  }
 },
 "nbformat": 4,
 "nbformat_minor": 2
}
