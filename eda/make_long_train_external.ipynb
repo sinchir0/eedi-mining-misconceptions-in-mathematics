{
 "cells": [
  {
   "cell_type": "code",
   "execution_count": 2,
   "metadata": {},
   "outputs": [],
   "source": [
    "import polars as pl"
   ]
  },
  {
   "cell_type": "code",
   "execution_count": 3,
   "metadata": {},
   "outputs": [],
   "source": [
    "DATA_PATH = \"../data\"\n",
    "train = pl.read_csv(f\"{DATA_PATH}/train_external.csv\")\n",
    "misconception_mapping = pl.read_csv(f\"{DATA_PATH}/misconception_mapping.csv\")"
   ]
  },
  {
   "cell_type": "code",
   "execution_count": 12,
   "metadata": {},
   "outputs": [],
   "source": [
    "train = train.filter(pl.col(\"CorrectAnswer\").is_not_null())"
   ]
  },
  {
   "cell_type": "code",
   "execution_count": 13,
   "metadata": {},
   "outputs": [],
   "source": [
    "# TODO: refactor by Polars Expression\n",
    "correct_answer = []\n",
    "for row in train.select(\n",
    "    pl.col(\n",
    "        [\"CorrectAnswer\", \"AnswerAText\", \"AnswerBText\", \"AnswerCText\", \"AnswerDText\"]\n",
    "    )\n",
    ").iter_rows():\n",
    "    if row[0] == \"A\":\n",
    "        correct_answer.append(row[1])\n",
    "    elif row[0] == \"B\":\n",
    "        correct_answer.append(row[2])\n",
    "    elif row[0] == \"C\":\n",
    "        correct_answer.append(row[3])\n",
    "    elif row[0] == \"D\":\n",
    "        correct_answer.append(row[4])\n",
    "    else:\n",
    "        raise Exception\n",
    "\n",
    "\n",
    "train = train.with_columns(pl.Series(correct_answer).alias(\"CorrectAnswerText\"))"
   ]
  },
  {
   "cell_type": "code",
   "execution_count": 14,
   "metadata": {},
   "outputs": [
    {
     "data": {
      "text/html": [
       "<div><style>\n",
       ".dataframe > thead > tr,\n",
       ".dataframe > tbody > tr {\n",
       "  text-align: right;\n",
       "  white-space: pre-wrap;\n",
       "}\n",
       "</style>\n",
       "<small>shape: (1_868, 16)</small><table border=\"1\" class=\"dataframe\"><thead><tr><th>QuestionId</th><th>ConstructName</th><th>SubjectName</th><th>CorrectAnswer</th><th>QuestionText</th><th>AnswerAText</th><th>AnswerBText</th><th>AnswerCText</th><th>AnswerDText</th><th>MisconceptionAName</th><th>MisconceptionBName</th><th>MisconceptionCName</th><th>MisconceptionDName</th><th>OriginalQuestionId</th><th>source</th><th>CorrectAnswerText</th></tr><tr><td>str</td><td>str</td><td>str</td><td>str</td><td>str</td><td>str</td><td>str</td><td>str</td><td>str</td><td>str</td><td>str</td><td>str</td><td>str</td><td>i64</td><td>str</td><td>str</td></tr></thead><tbody><tr><td>&quot;eedi_1194&quot;</td><td>&quot;Given a midpoint and a coordin…</td><td>&quot;Midpoint Between Two Co-ordina…</td><td>&quot;B&quot;</td><td>&quot;Here are two points and their …</td><td>&quot;\\(\\color{gold}\\bigstar\\) = 6&quot;</td><td>&quot;\\(\\color{gold}\\bigstar\\) = 4&quot;</td><td>&quot;\\(\\color{gold}\\bigstar\\) = 1&quot;</td><td>&quot;\\(\\color{gold}\\bigstar\\) = 5&quot;</td><td>&quot;Assumes the midpoint is the av…</td><td>&quot;Given two points, thinks the m…</td><td>&quot;Mistakenly calculates the x-co…</td><td>&quot;Incorrectly averages the two x…</td><td>1194</td><td>&quot;gpt-4o-mini&quot;</td><td>&quot;\\(\\color{gold}\\bigstar\\) = 4&quot;</td></tr><tr><td>&quot;eedi_679&quot;</td><td>&quot;Convert the reminders from wri…</td><td>&quot;Written Division&quot;</td><td>&quot;A&quot;</td><td>&quot;Emily is calculating the answe…</td><td>&quot;\\( 2 \\)&quot;</td><td>&quot;\\( 0.33 \\)&quot;</td><td>&quot;\\( 0.2 \\)&quot;</td><td>&quot;\\( 0.67 \\)&quot;</td><td>&quot;Does not understand that a rem…</td><td>&quot;Miscalculates the fractional v…</td><td>&quot;Misinterprets the remainder as…</td><td>&quot;Incorrectly calculates the dec…</td><td>679</td><td>&quot;gpt-4o-mini&quot;</td><td>&quot;\\( 2 \\)&quot;</td></tr><tr><td>&quot;eedi_1180&quot;</td><td>&quot;Estimate the gradient at a poi…</td><td>&quot;Gradient as change in y over c…</td><td>&quot;D&quot;</td><td>&quot;A graph displays the relations…</td><td>&quot;\\( 5 \\)&quot;</td><td>&quot;\\( 4 \\)&quot;</td><td>&quot;\\( 1.5 \\)&quot;</td><td>&quot;\\( 2.5 \\)&quot;</td><td>&quot;Misunderstands the concept of …</td><td>&quot;Incorrectly assumes that the g…</td><td>null</td><td>&quot;Fails to use the correct measu…</td><td>1180</td><td>&quot;gpt-4o-mini&quot;</td><td>&quot;\\( 2.5 \\)&quot;</td></tr><tr><td>&quot;eedi_651&quot;</td><td>&quot;Use brackets to write function…</td><td>&quot;Writing Expressions&quot;</td><td>&quot;C&quot;</td><td>&quot;Lucy and Mark are discussing t…</td><td>&quot;Only Lucy&quot;</td><td>&quot;Only Mark&quot;</td><td>&quot;Both Lucy and Mark&quot;</td><td>&quot;Neither is correct&quot;</td><td>&quot;Does not realize that distribu…</td><td>&quot;Does not recognize that a fact…</td><td>null</td><td>null</td><td>651</td><td>&quot;gpt-4o-mini&quot;</td><td>&quot;Both Lucy and Mark&quot;</td></tr><tr><td>&quot;eedi_889&quot;</td><td>&quot;Solve one-step linear inequali…</td><td>&quot;Solving Linear Inequalities&quot;</td><td>&quot;A&quot;</td><td>&quot;Lisa and Mark are debating the…</td><td>&quot;Only Lisa&quot;</td><td>&quot;Only Mark&quot;</td><td>&quot;Both Lisa and Mark&quot;</td><td>&quot;Neither is correct&quot;</td><td>null</td><td>&quot;Incorrectly believes that the …</td><td>null</td><td>&quot;Fails to understand that the c…</td><td>889</td><td>&quot;gpt-4o-mini&quot;</td><td>&quot;Only Lisa&quot;</td></tr><tr><td>&hellip;</td><td>&hellip;</td><td>&hellip;</td><td>&hellip;</td><td>&hellip;</td><td>&hellip;</td><td>&hellip;</td><td>&hellip;</td><td>&hellip;</td><td>&hellip;</td><td>&hellip;</td><td>&hellip;</td><td>&hellip;</td><td>&hellip;</td><td>&hellip;</td><td>&hellip;</td></tr><tr><td>&quot;eedi_106&quot;</td><td>&quot;Calculate the sector angle on …</td><td>&quot;Pie Chart&quot;</td><td>&quot;A&quot;</td><td>&quot;A survey was conducted to find…</td><td>&quot;\\( 84^\\circ \\)&quot;</td><td>&quot;\\( 60^\\circ \\)&quot;</td><td>&quot;\\( 28^\\circ \\)&quot;</td><td>&quot;Not enough information&quot;</td><td>&quot;Believes that to find the angl…</td><td>&quot;Believes each pet category tak…</td><td>&quot;Believes that the angle is cal…</td><td>&quot;Believes that there needs to b…</td><td>106</td><td>&quot;gpt-4o-mini&quot;</td><td>&quot;\\( 84^\\circ \\)&quot;</td></tr><tr><td>&quot;eedi_1827&quot;</td><td>&quot;Write the next term of a desce…</td><td>&quot;Linear Sequences (nth term)&quot;</td><td>&quot;A&quot;</td><td>&quot;\\( \\begin{array}{llll}10.2, &amp; …</td><td>&quot;\\( 7.9 \\)&quot;</td><td>&quot;\\( 8.1 \\)&quot;</td><td>&quot;\\( 8.0 \\)&quot;</td><td>&quot;\\( 8.2 \\)&quot;</td><td>&quot;Assumes the pattern continues …</td><td>&quot;Incorrectly adds to the last t…</td><td>&quot;Thinks the next term must roun…</td><td>&quot;Assumes the sequence increment…</td><td>1827</td><td>&quot;gpt-4o-mini&quot;</td><td>&quot;\\( 7.9 \\)&quot;</td></tr><tr><td>&quot;eedi_112&quot;</td><td>&quot;Express a division as a fracti…</td><td>&quot;Mental Multiplication and Divi…</td><td>&quot;B&quot;</td><td>&quot;Which calculation is equivalen…</td><td>&quot;\\( 5 + 8 \\)&quot;</td><td>&quot;\\( 5 \\div 8 \\)&quot;</td><td>&quot;\\( 8 - 5 \\)&quot;</td><td>&quot;\\( 8 \\div 5 \\)&quot;</td><td>&quot;Thinks the fraction bar means …</td><td>null</td><td>&quot;Thinks the fraction bar means …</td><td>&quot;Believes that a fraction means…</td><td>112</td><td>&quot;gpt-4o-mini&quot;</td><td>&quot;\\( 5 \\div 8 \\)&quot;</td></tr><tr><td>&quot;eedi_1833&quot;</td><td>&quot;Determine the function of a si…</td><td>&quot;Function Machines&quot;</td><td>&quot;D&quot;</td><td>&quot;A function machine is presente…</td><td>&quot;Only Jamie&quot;</td><td>&quot;Only Alex&quot;</td><td>&quot;Both Jamie and Alex&quot;</td><td>&quot;Neither is correct&quot;</td><td>&quot;Does not understand that the o…</td><td>&quot;Misunderstands how to apply mu…</td><td>null</td><td>&quot;Fails to see that the output i…</td><td>1833</td><td>&quot;gpt-4o-mini&quot;</td><td>&quot;Neither is correct&quot;</td></tr><tr><td>&quot;eedi_674&quot;</td><td>&quot;Divide a quantity into two par…</td><td>&quot;Writing Ratios&quot;</td><td>&quot;C&quot;</td><td>&quot;In a fruit basket, the ratio o…</td><td>&quot;\\( 10 \\)&quot;</td><td>&quot;\\( 28 \\)&quot;</td><td>&quot;\\( 35 \\)&quot;</td><td>&quot;\\( 42 \\)&quot;</td><td>&quot;Incorrectly applies the ratio,…</td><td>&quot;Assumes the total number of fr…</td><td>&quot;Correctly calculates based on …</td><td>&quot;Assumes a linear increase with…</td><td>674</td><td>&quot;gpt-4o-mini&quot;</td><td>&quot;\\( 35 \\)&quot;</td></tr></tbody></table></div>"
      ],
      "text/plain": [
       "shape: (1_868, 16)\n",
       "┌───────────┬───────────┬───────────┬───────────┬───┬───────────┬───────────┬───────────┬──────────┐\n",
       "│ QuestionI ┆ Construct ┆ SubjectNa ┆ CorrectAn ┆ … ┆ Misconcep ┆ OriginalQ ┆ source    ┆ CorrectA │\n",
       "│ d         ┆ Name      ┆ me        ┆ swer      ┆   ┆ tionDName ┆ uestionId ┆ ---       ┆ nswerTex │\n",
       "│ ---       ┆ ---       ┆ ---       ┆ ---       ┆   ┆ ---       ┆ ---       ┆ str       ┆ t        │\n",
       "│ str       ┆ str       ┆ str       ┆ str       ┆   ┆ str       ┆ i64       ┆           ┆ ---      │\n",
       "│           ┆           ┆           ┆           ┆   ┆           ┆           ┆           ┆ str      │\n",
       "╞═══════════╪═══════════╪═══════════╪═══════════╪═══╪═══════════╪═══════════╪═══════════╪══════════╡\n",
       "│ eedi_1194 ┆ Given a   ┆ Midpoint  ┆ B         ┆ … ┆ Incorrect ┆ 1194      ┆ gpt-4o-mi ┆ \\(\\color │\n",
       "│           ┆ midpoint  ┆ Between   ┆           ┆   ┆ ly        ┆           ┆ ni        ┆ {gold}\\b │\n",
       "│           ┆ and a     ┆ Two Co-or ┆           ┆   ┆ averages  ┆           ┆           ┆ igstar\\) │\n",
       "│           ┆ coordin…  ┆ dina…     ┆           ┆   ┆ the two   ┆           ┆           ┆ = 4      │\n",
       "│           ┆           ┆           ┆           ┆   ┆ x…        ┆           ┆           ┆          │\n",
       "│ eedi_679  ┆ Convert   ┆ Written   ┆ A         ┆ … ┆ Incorrect ┆ 679       ┆ gpt-4o-mi ┆ \\( 2 \\)  │\n",
       "│           ┆ the       ┆ Division  ┆           ┆   ┆ ly calcul ┆           ┆ ni        ┆          │\n",
       "│           ┆ reminders ┆           ┆           ┆   ┆ ates the  ┆           ┆           ┆          │\n",
       "│           ┆ from wri… ┆           ┆           ┆   ┆ dec…      ┆           ┆           ┆          │\n",
       "│ eedi_1180 ┆ Estimate  ┆ Gradient  ┆ D         ┆ … ┆ Fails to  ┆ 1180      ┆ gpt-4o-mi ┆ \\( 2.5   │\n",
       "│           ┆ the       ┆ as change ┆           ┆   ┆ use the   ┆           ┆ ni        ┆ \\)       │\n",
       "│           ┆ gradient  ┆ in y over ┆           ┆   ┆ correct   ┆           ┆           ┆          │\n",
       "│           ┆ at a poi… ┆ c…        ┆           ┆   ┆ measu…    ┆           ┆           ┆          │\n",
       "│ eedi_651  ┆ Use       ┆ Writing   ┆ C         ┆ … ┆ null      ┆ 651       ┆ gpt-4o-mi ┆ Both     │\n",
       "│           ┆ brackets  ┆ Expressio ┆           ┆   ┆           ┆           ┆ ni        ┆ Lucy and │\n",
       "│           ┆ to write  ┆ ns        ┆           ┆   ┆           ┆           ┆           ┆ Mark     │\n",
       "│           ┆ function… ┆           ┆           ┆   ┆           ┆           ┆           ┆          │\n",
       "│ eedi_889  ┆ Solve     ┆ Solving   ┆ A         ┆ … ┆ Fails to  ┆ 889       ┆ gpt-4o-mi ┆ Only     │\n",
       "│           ┆ one-step  ┆ Linear    ┆           ┆   ┆ understan ┆           ┆ ni        ┆ Lisa     │\n",
       "│           ┆ linear    ┆ Inequalit ┆           ┆   ┆ d that    ┆           ┆           ┆          │\n",
       "│           ┆ inequali… ┆ ies       ┆           ┆   ┆ the c…    ┆           ┆           ┆          │\n",
       "│ …         ┆ …         ┆ …         ┆ …         ┆ … ┆ …         ┆ …         ┆ …         ┆ …        │\n",
       "│ eedi_106  ┆ Calculate ┆ Pie Chart ┆ A         ┆ … ┆ Believes  ┆ 106       ┆ gpt-4o-mi ┆ \\(       │\n",
       "│           ┆ the       ┆           ┆           ┆   ┆ that      ┆           ┆ ni        ┆ 84^\\circ │\n",
       "│           ┆ sector    ┆           ┆           ┆   ┆ there     ┆           ┆           ┆ \\)       │\n",
       "│           ┆ angle on  ┆           ┆           ┆   ┆ needs to  ┆           ┆           ┆          │\n",
       "│           ┆ …         ┆           ┆           ┆   ┆ b…        ┆           ┆           ┆          │\n",
       "│ eedi_1827 ┆ Write the ┆ Linear    ┆ A         ┆ … ┆ Assumes   ┆ 1827      ┆ gpt-4o-mi ┆ \\( 7.9   │\n",
       "│           ┆ next term ┆ Sequences ┆           ┆   ┆ the       ┆           ┆ ni        ┆ \\)       │\n",
       "│           ┆ of a      ┆ (nth      ┆           ┆   ┆ sequence  ┆           ┆           ┆          │\n",
       "│           ┆ desce…    ┆ term)     ┆           ┆   ┆ increment ┆           ┆           ┆          │\n",
       "│           ┆           ┆           ┆           ┆   ┆ …         ┆           ┆           ┆          │\n",
       "│ eedi_112  ┆ Express a ┆ Mental    ┆ B         ┆ … ┆ Believes  ┆ 112       ┆ gpt-4o-mi ┆ \\( 5     │\n",
       "│           ┆ division  ┆ Multiplic ┆           ┆   ┆ that a    ┆           ┆ ni        ┆ \\div 8   │\n",
       "│           ┆ as a      ┆ ation and ┆           ┆   ┆ fraction  ┆           ┆           ┆ \\)       │\n",
       "│           ┆ fracti…   ┆ Divi…     ┆           ┆   ┆ means…    ┆           ┆           ┆          │\n",
       "│ eedi_1833 ┆ Determine ┆ Function  ┆ D         ┆ … ┆ Fails to  ┆ 1833      ┆ gpt-4o-mi ┆ Neither  │\n",
       "│           ┆ the       ┆ Machines  ┆           ┆   ┆ see that  ┆           ┆ ni        ┆ is       │\n",
       "│           ┆ function  ┆           ┆           ┆   ┆ the       ┆           ┆           ┆ correct  │\n",
       "│           ┆ of a si…  ┆           ┆           ┆   ┆ output i… ┆           ┆           ┆          │\n",
       "│ eedi_674  ┆ Divide a  ┆ Writing   ┆ C         ┆ … ┆ Assumes a ┆ 674       ┆ gpt-4o-mi ┆ \\( 35 \\) │\n",
       "│           ┆ quantity  ┆ Ratios    ┆           ┆   ┆ linear    ┆           ┆ ni        ┆          │\n",
       "│           ┆ into two  ┆           ┆           ┆   ┆ increase  ┆           ┆           ┆          │\n",
       "│           ┆ par…      ┆           ┆           ┆   ┆ with…     ┆           ┆           ┆          │\n",
       "└───────────┴───────────┴───────────┴───────────┴───┴───────────┴───────────┴───────────┴──────────┘"
      ]
     },
     "execution_count": 14,
     "metadata": {},
     "output_type": "execute_result"
    }
   ],
   "source": [
    "train"
   ]
  },
  {
   "cell_type": "code",
   "execution_count": 19,
   "metadata": {},
   "outputs": [],
   "source": [
    "common_col = [\n",
    "    \"QuestionId\",\n",
    "    \"ConstructName\",\n",
    "    \"SubjectName\",\n",
    "    \"QuestionText\",\n",
    "    \"CorrectAnswer\",\n",
    "    \"CorrectAnswerText\",\n",
    "]\n",
    "\n",
    "train_long = (\n",
    "    train.select(\n",
    "        pl.col(common_col + [f\"Answer{alpha}Text\" for alpha in [\"A\", \"B\", \"C\", \"D\"]])\n",
    "    )\n",
    "    .unpivot(\n",
    "        index=common_col,\n",
    "        variable_name=\"AnswerType\",\n",
    "        value_name=\"AnswerText\",\n",
    "    )\n",
    "    .with_columns(\n",
    "        pl.concat_str(\n",
    "            [\n",
    "                pl.col(\"ConstructName\"),\n",
    "                pl.col(\"SubjectName\"),\n",
    "                pl.col(\"QuestionText\"),\n",
    "                pl.col(\"AnswerText\"),\n",
    "            ],\n",
    "            separator=\" \",\n",
    "        ).alias(\"AllText\"),\n",
    "        pl.col(\"AnswerType\").str.extract(r\"Answer([A-D])Text$\").alias(\"AnswerAlphabet\"),\n",
    "    )\n",
    "    .with_columns(\n",
    "        pl.concat_str(\n",
    "            [pl.col(\"QuestionId\"), pl.col(\"AnswerAlphabet\")], separator=\"_\"\n",
    "        ).alias(\"QuestionId_Answer\"),\n",
    "    )\n",
    "    .sort(\"QuestionId_Answer\")\n",
    ")\n",
    "train_long.head()\n",
    "\n",
    "train_misconception_long = (\n",
    "    train.select(\n",
    "        pl.col(\n",
    "            common_col + [f\"Misconception{alpha}Name\" for alpha in [\"A\", \"B\", \"C\", \"D\"]]\n",
    "        )\n",
    "    )\n",
    "    .unpivot(\n",
    "        index=common_col,\n",
    "        variable_name=\"MisconceptionType\",\n",
    "        value_name=\"MisconceptionName\",\n",
    "    )\n",
    "    .with_columns(\n",
    "        pl.col(\"MisconceptionType\")\n",
    "        .str.extract(r\"Misconception([A-D])Name$\")\n",
    "        .alias(\"AnswerAlphabet\"),\n",
    "    )\n",
    "    .with_columns(\n",
    "        pl.concat_str(\n",
    "            [pl.col(\"QuestionId\"), pl.col(\"AnswerAlphabet\")], separator=\"_\"\n",
    "        ).alias(\"QuestionId_Answer\"),\n",
    "    )\n",
    "    .sort(\"QuestionId_Answer\")\n",
    "    .select(pl.col([\"QuestionId_Answer\", \"MisconceptionName\"]))\n",
    "    # .with_columns(pl.col(\"MisconceptionId\").cast(pl.Int64))\n",
    ")\n",
    "train_misconception_long.head()\n",
    "\n",
    "# join MisconceptionId\n",
    "train_long = train_long.join(train_misconception_long, on=\"QuestionId_Answer\")"
   ]
  },
  {
   "cell_type": "code",
   "execution_count": 23,
   "metadata": {},
   "outputs": [],
   "source": [
    "train_long.write_csv(\"../data/train_external_long.csv\")"
   ]
  },
  {
   "cell_type": "code",
   "execution_count": null,
   "metadata": {},
   "outputs": [],
   "source": []
  }
 ],
 "metadata": {
  "kernelspec": {
   "display_name": "base",
   "language": "python",
   "name": "python3"
  },
  "language_info": {
   "codemirror_mode": {
    "name": "ipython",
    "version": 3
   },
   "file_extension": ".py",
   "mimetype": "text/x-python",
   "name": "python",
   "nbconvert_exporter": "python",
   "pygments_lexer": "ipython3",
   "version": "3.10.14"
  }
 },
 "nbformat": 4,
 "nbformat_minor": 2
}
