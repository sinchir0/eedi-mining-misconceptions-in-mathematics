{
 "cells": [
  {
   "cell_type": "markdown",
   "id": "71acc131",
   "metadata": {
    "papermill": {
     "duration": 0.011532,
     "end_time": "2024-09-14T01:45:57.074016",
     "exception": false,
     "start_time": "2024-09-14T01:45:57.062484",
     "status": "completed"
    },
    "tags": []
   },
   "source": [
    "# 目的\n",
    "bgeのfine-tuningに、tfidfのretrieveの結果を用いる。\n",
    "\n",
    "ref: https://sbert.net/docs/sentence_transformer/training_overview.html#trainer"
   ]
  },
  {
   "cell_type": "markdown",
   "id": "82cc8a91",
   "metadata": {},
   "source": [
    "# Setting"
   ]
  },
  {
   "cell_type": "code",
   "execution_count": 1,
   "id": "6c063a5a",
   "metadata": {
    "execution": {
     "iopub.execute_input": "2024-09-21T00:12:57.872394Z",
     "iopub.status.busy": "2024-09-21T00:12:57.872181Z",
     "iopub.status.idle": "2024-09-21T00:12:57.886144Z",
     "shell.execute_reply": "2024-09-21T00:12:57.885343Z"
    }
   },
   "outputs": [],
   "source": [
    "EXP_NAME = \"e010-ret-use-tfidf-result\"\n",
    "DATA_PATH = \"data\"\n",
    "MODEL_NAME = \"BAAI/bge-large-en-v1.5\"\n",
    "ENV_PATH = \"env_file\"\n",
    "COMPETITION_NAME = \"eedi-mining-misconceptions-in-mathematics\"\n",
    "RETRIVED_FILE_PATH = \"retrieved_data/e001-train_ret25_map0.1378_recall0.4531.csv\"\n",
    "\n",
    "DATASET_NAME = EXP_NAME\n",
    "OUTPUT_PATH = f\"output/retriever/{EXP_NAME}\"\n",
    "MODEL_OUTPUT_PATH = f\"{OUTPUT_PATH}/trained_model\"\n",
    "\n",
    "TRAIN_USE_NUM = 5\n",
    "RETRIEVE_NUM = 25  # TODO: 多くしてみる\n",
    "\n",
    "EPOCH = 2\n",
    "LR = 2e-5\n",
    "BS = 8\n",
    "GRAD_ACC_STEP = 128 // BS\n",
    "\n",
    "TRAINING = False\n",
    "DEBUG = False\n",
    "WANDB = True"
   ]
  },
  {
   "cell_type": "code",
   "execution_count": 2,
   "id": "e30d2d7a",
   "metadata": {
    "execution": {
     "iopub.execute_input": "2024-09-21T00:12:57.889769Z",
     "iopub.status.busy": "2024-09-21T00:12:57.889535Z",
     "iopub.status.idle": "2024-09-21T00:12:57.899110Z",
     "shell.execute_reply": "2024-09-21T00:12:57.898100Z"
    }
   },
   "outputs": [],
   "source": [
    "def resolve_path(base_path: str) -> str:\n",
    "    import os\n",
    "\n",
    "    cwd = os.getcwd()\n",
    "    print(cwd)\n",
    "    if cwd == f\"/notebooks\":\n",
    "        print(\"Jupyter Kernel By VSCode!\")\n",
    "        return f\"/notebooks/{COMPETITION_NAME}/{base_path}\"\n",
    "    elif cwd == f\"/notebooks/{COMPETITION_NAME}\":\n",
    "        print(\"nohup!\")\n",
    "        return base_path\n",
    "    elif cwd == f\"/notebooks/{COMPETITION_NAME}/{COMPETITION_NAME}/exp\":\n",
    "        print(\"Jupyter Lab!\")\n",
    "        return f\"../../{base_path}\"\n",
    "    elif cwd == f\"/root/{COMPETITION_NAME}/exp/reranker\":\n",
    "        print(\"VastAi! Reranker\")\n",
    "        return f\"../../{base_path}\"\n",
    "    elif cwd == f\"/root/{COMPETITION_NAME}/exp/retriever\":\n",
    "        print(\"VastAi! Retriever\")\n",
    "        return f\"../../{base_path}\"\n",
    "    elif cwd == f\"/root/{COMPETITION_NAME}\":\n",
    "        print(\"VastAi!\")\n",
    "        return base_path\n",
    "    else:\n",
    "        raise Exception(\"Unknown environment\")\n",
    "\n",
    "\n",
    "DATA_PATH = resolve_path(DATA_PATH)\n",
    "print(DATA_PATH)\n",
    "OUTPUT_PATH = resolve_path(OUTPUT_PATH)\n",
    "print(OUTPUT_PATH)\n",
    "MODEL_OUTPUT_PATH = resolve_path(MODEL_OUTPUT_PATH)\n",
    "print(MODEL_OUTPUT_PATH)\n",
    "ENV_PATH = resolve_path(ENV_PATH)\n",
    "print(ENV_PATH)\n",
    "RETRIVED_FILE_PATH = resolve_path(RETRIVED_FILE_PATH)\n",
    "print(RETRIVED_FILE_PATH)"
   ]
  },
  {
   "cell_type": "markdown",
   "id": "27e26266",
   "metadata": {
    "papermill": {
     "duration": 0.010544,
     "end_time": "2024-09-14T01:45:57.095623",
     "exception": false,
     "start_time": "2024-09-14T01:45:57.085079",
     "status": "completed"
    },
    "tags": []
   },
   "source": [
    "# Import"
   ]
  },
  {
   "cell_type": "code",
   "execution_count": 3,
   "id": "e5c0dbcc",
   "metadata": {
    "_cell_guid": "b1076dfc-b9ad-4769-8c92-a6c4dae69d19",
    "_uuid": "8f2839f25d086af736a60e9eeb907d3b93b6e0e5",
    "execution": {
     "iopub.execute_input": "2024-09-21T00:12:57.903608Z",
     "iopub.status.busy": "2024-09-21T00:12:57.902926Z",
     "iopub.status.idle": "2024-09-21T00:13:01.897452Z",
     "shell.execute_reply": "2024-09-21T00:13:01.896799Z"
    },
    "papermill": {
     "duration": 2.430721,
     "end_time": "2024-09-14T01:45:59.537229",
     "exception": false,
     "start_time": "2024-09-14T01:45:57.106508",
     "status": "completed"
    },
    "tags": []
   },
   "outputs": [],
   "source": [
    "import os\n",
    "import numpy as np\n",
    "\n",
    "from datasets import load_dataset, Dataset\n",
    "\n",
    "import wandb\n",
    "import polars as pl\n",
    "\n",
    "from sklearn.metrics.pairwise import cosine_similarity\n",
    "\n",
    "from sentence_transformers.losses import MultipleNegativesRankingLoss\n",
    "from sentence_transformers import (\n",
    "    SentenceTransformer,\n",
    "    SentenceTransformerTrainer,\n",
    "    SentenceTransformerTrainingArguments,\n",
    ")\n",
    "from sentence_transformers.training_args import BatchSamplers\n",
    "from sentence_transformers.evaluation import TripletEvaluator"
   ]
  },
  {
   "cell_type": "code",
   "execution_count": 4,
   "id": "5dc40cda",
   "metadata": {
    "execution": {
     "iopub.execute_input": "2024-09-21T00:13:01.901704Z",
     "iopub.status.busy": "2024-09-21T00:13:01.901297Z",
     "iopub.status.idle": "2024-09-21T00:13:01.904368Z",
     "shell.execute_reply": "2024-09-21T00:13:01.903886Z"
    }
   },
   "outputs": [],
   "source": [
    "import sentence_transformers\n",
    "\n",
    "assert sentence_transformers.__version__ == \"3.1.0\""
   ]
  },
  {
   "cell_type": "code",
   "execution_count": 5,
   "id": "29d1b181",
   "metadata": {
    "execution": {
     "iopub.execute_input": "2024-09-21T00:13:01.907481Z",
     "iopub.status.busy": "2024-09-21T00:13:01.907316Z",
     "iopub.status.idle": "2024-09-21T00:13:01.909851Z",
     "shell.execute_reply": "2024-09-21T00:13:01.909383Z"
    }
   },
   "outputs": [],
   "source": [
    "NUM_PROC = 16"
   ]
  },
  {
   "cell_type": "markdown",
   "id": "f85aefdc",
   "metadata": {},
   "source": [
    "# Setting"
   ]
  },
  {
   "cell_type": "code",
   "execution_count": 6,
   "id": "896ee0be",
   "metadata": {
    "autoscroll": "auto",
    "collapsed": false,
    "execution": {
     "iopub.execute_input": "2024-09-21T00:13:01.913085Z",
     "iopub.status.busy": "2024-09-21T00:13:01.912922Z",
     "iopub.status.idle": "2024-09-21T00:13:01.921958Z",
     "shell.execute_reply": "2024-09-21T00:13:01.921477Z"
    }
   },
   "outputs": [
    {
     "data": {
      "text/plain": [
       "True"
      ]
     },
     "execution_count": 6,
     "metadata": {},
     "output_type": "execute_result"
    }
   ],
   "source": [
    "from dotenv import load_dotenv\n",
    "\n",
    "load_dotenv(f\"{ENV_PATH}/.env\")"
   ]
  },
  {
   "cell_type": "markdown",
   "id": "cb645be4",
   "metadata": {},
   "source": [
    "# WANDB"
   ]
  },
  {
   "cell_type": "code",
   "execution_count": 7,
   "id": "d7360a36",
   "metadata": {
    "autoscroll": "auto",
    "collapsed": false,
    "execution": {
     "iopub.execute_input": "2024-09-21T00:13:01.925215Z",
     "iopub.status.busy": "2024-09-21T00:13:01.925055Z",
     "iopub.status.idle": "2024-09-21T00:13:03.885498Z",
     "shell.execute_reply": "2024-09-21T00:13:03.884715Z"
    }
   },
   "outputs": [
    {
     "data": {
      "text/plain": [
       "'wandb'"
      ]
     },
     "execution_count": 7,
     "metadata": {},
     "output_type": "execute_result"
    }
   ],
   "source": [
    "if WANDB:\n",
    "    wandb.login(key=os.environ[\"WANDB_API_KEY\"])\n",
    "    wandb.init(project=COMPETITION_NAME, name=EXP_NAME)\n",
    "    REPORT_TO = \"wandb\"\n",
    "else:\n",
    "    REPORT_TO = \"none\"\n",
    "\n",
    "REPORT_TO"
   ]
  },
  {
   "cell_type": "markdown",
   "id": "98570c57",
   "metadata": {},
   "source": [
    "# Data Load"
   ]
  },
  {
   "cell_type": "code",
   "execution_count": 8,
   "id": "be7320b8",
   "metadata": {
    "autoscroll": "auto",
    "collapsed": false,
    "execution": {
     "iopub.execute_input": "2024-09-21T00:13:03.888430Z",
     "iopub.status.busy": "2024-09-21T00:13:03.888259Z",
     "iopub.status.idle": "2024-09-21T00:13:04.031385Z",
     "shell.execute_reply": "2024-09-21T00:13:04.030205Z"
    }
   },
   "outputs": [],
   "source": [
    "train = (\n",
    "    load_dataset(\n",
    "        \"csv\",\n",
    "        data_files=RETRIVED_FILE_PATH,\n",
    "        split=\"train\",\n",
    "    )\n",
    "    .filter(\n",
    "        lambda example: example[\"MisconceptionId\"] is not None,\n",
    "        num_proc=NUM_PROC,\n",
    "    )\n",
    "    .filter(  # anchor、positive、negativeの構成にするため、positiveとnegativeが一致している行を削除する\n",
    "        lambda example: example[\"MisconceptionId\"] != example[\"PredictMisconceptionId\"],\n",
    "        num_proc=NUM_PROC,\n",
    "    )\n",
    ")"
   ]
  },
  {
   "cell_type": "code",
   "execution_count": 9,
   "id": "c578adf1",
   "metadata": {
    "autoscroll": "auto",
    "collapsed": false,
    "execution": {
     "iopub.execute_input": "2024-09-21T00:13:04.035496Z",
     "iopub.status.busy": "2024-09-21T00:13:04.035302Z",
     "iopub.status.idle": "2024-09-21T00:13:04.066080Z",
     "shell.execute_reply": "2024-09-21T00:13:04.065224Z"
    }
   },
   "outputs": [
    {
     "data": {
      "text/html": [
       "<div><style>\n",
       ".dataframe > thead > tr,\n",
       ".dataframe > tbody > tr {\n",
       "  text-align: right;\n",
       "  white-space: pre-wrap;\n",
       "}\n",
       "</style>\n",
       "<small>shape: (100, 15)</small><table border=\"1\" class=\"dataframe\"><thead><tr><th>QuestionId</th><th>ConstructName</th><th>SubjectName</th><th>QuestionText</th><th>CorrectAnswer</th><th>AnswerType</th><th>AnswerText</th><th>AllText</th><th>AnswerAlphabet</th><th>QuestionId_Answer</th><th>MisconceptionId</th><th>PredictMisconceptionId</th><th>target</th><th>MisconceptionName</th><th>PredictMisconceptionName</th></tr><tr><td>i64</td><td>str</td><td>str</td><td>str</td><td>str</td><td>str</td><td>str</td><td>str</td><td>str</td><td>str</td><td>i64</td><td>i64</td><td>i64</td><td>str</td><td>str</td></tr></thead><tbody><tr><td>0</td><td>&quot;Use the order of operations to…</td><td>&quot;BIDMAS&quot;</td><td>&quot;\\[\n",
       "3 \\times 2+4-5\n",
       "\\]\n",
       "Where do …</td><td>&quot;A&quot;</td><td>&quot;AnswerDText&quot;</td><td>&quot;Does not need brackets&quot;</td><td>&quot;Use the order of operations to…</td><td>&quot;D&quot;</td><td>&quot;0_D&quot;</td><td>1672</td><td>2488</td><td>0</td><td>&quot;Confuses the order of operatio…</td><td>&quot;Answers order of operations qu…</td></tr><tr><td>0</td><td>&quot;Use the order of operations to…</td><td>&quot;BIDMAS&quot;</td><td>&quot;\\[\n",
       "3 \\times 2+4-5\n",
       "\\]\n",
       "Where do …</td><td>&quot;A&quot;</td><td>&quot;AnswerDText&quot;</td><td>&quot;Does not need brackets&quot;</td><td>&quot;Use the order of operations to…</td><td>&quot;D&quot;</td><td>&quot;0_D&quot;</td><td>1672</td><td>2551</td><td>0</td><td>&quot;Confuses the order of operatio…</td><td>&quot;Believes range does not need u…</td></tr><tr><td>0</td><td>&quot;Use the order of operations to…</td><td>&quot;BIDMAS&quot;</td><td>&quot;\\[\n",
       "3 \\times 2+4-5\n",
       "\\]\n",
       "Where do …</td><td>&quot;A&quot;</td><td>&quot;AnswerDText&quot;</td><td>&quot;Does not need brackets&quot;</td><td>&quot;Use the order of operations to…</td><td>&quot;D&quot;</td><td>&quot;0_D&quot;</td><td>1672</td><td>2532</td><td>0</td><td>&quot;Confuses the order of operatio…</td><td>&quot;Believes order of operations d…</td></tr><tr><td>0</td><td>&quot;Use the order of operations to…</td><td>&quot;BIDMAS&quot;</td><td>&quot;\\[\n",
       "3 \\times 2+4-5\n",
       "\\]\n",
       "Where do …</td><td>&quot;A&quot;</td><td>&quot;AnswerDText&quot;</td><td>&quot;Does not need brackets&quot;</td><td>&quot;Use the order of operations to…</td><td>&quot;D&quot;</td><td>&quot;0_D&quot;</td><td>1672</td><td>2039</td><td>0</td><td>&quot;Confuses the order of operatio…</td><td>&quot;Thinks you need to just add a …</td></tr><tr><td>0</td><td>&quot;Use the order of operations to…</td><td>&quot;BIDMAS&quot;</td><td>&quot;\\[\n",
       "3 \\times 2+4-5\n",
       "\\]\n",
       "Where do …</td><td>&quot;A&quot;</td><td>&quot;AnswerDText&quot;</td><td>&quot;Does not need brackets&quot;</td><td>&quot;Use the order of operations to…</td><td>&quot;D&quot;</td><td>&quot;0_D&quot;</td><td>1672</td><td>1872</td><td>0</td><td>&quot;Confuses the order of operatio…</td><td>&quot;Believes they only need to mul…</td></tr><tr><td>&hellip;</td><td>&hellip;</td><td>&hellip;</td><td>&hellip;</td><td>&hellip;</td><td>&hellip;</td><td>&hellip;</td><td>&hellip;</td><td>&hellip;</td><td>&hellip;</td><td>&hellip;</td><td>&hellip;</td><td>&hellip;</td><td>&hellip;</td><td>&hellip;</td></tr><tr><td>1000</td><td>&quot;Simplify an algebraic fraction…</td><td>&quot;Simplifying Algebraic Fraction…</td><td>&quot;Simplify the following, if pos…</td><td>&quot;B&quot;</td><td>&quot;AnswerDText&quot;</td><td>&quot;Does not simplify&quot;</td><td>&quot;Simplify an algebraic fraction…</td><td>&quot;D&quot;</td><td>&quot;1000_D&quot;</td><td>353</td><td>346</td><td>0</td><td>&quot;Does not recognise when one pa…</td><td>&quot;Does not understand how to mul…</td></tr><tr><td>1000</td><td>&quot;Simplify an algebraic fraction…</td><td>&quot;Simplifying Algebraic Fraction…</td><td>&quot;Simplify the following, if pos…</td><td>&quot;B&quot;</td><td>&quot;AnswerDText&quot;</td><td>&quot;Does not simplify&quot;</td><td>&quot;Simplify an algebraic fraction…</td><td>&quot;D&quot;</td><td>&quot;1000_D&quot;</td><td>353</td><td>609</td><td>0</td><td>&quot;Does not recognise when one pa…</td><td>&quot;when dividing a fraction by an…</td></tr><tr><td>1000</td><td>&quot;Simplify an algebraic fraction…</td><td>&quot;Simplifying Algebraic Fraction…</td><td>&quot;Simplify the following, if pos…</td><td>&quot;B&quot;</td><td>&quot;AnswerDText&quot;</td><td>&quot;Does not simplify&quot;</td><td>&quot;Simplify an algebraic fraction…</td><td>&quot;D&quot;</td><td>&quot;1000_D&quot;</td><td>353</td><td>1630</td><td>0</td><td>&quot;Does not recognise when one pa…</td><td>&quot;Does not realize we can simpli…</td></tr><tr><td>1000</td><td>&quot;Simplify an algebraic fraction…</td><td>&quot;Simplifying Algebraic Fraction…</td><td>&quot;Simplify the following, if pos…</td><td>&quot;B&quot;</td><td>&quot;AnswerDText&quot;</td><td>&quot;Does not simplify&quot;</td><td>&quot;Simplify an algebraic fraction…</td><td>&quot;D&quot;</td><td>&quot;1000_D&quot;</td><td>353</td><td>1309</td><td>0</td><td>&quot;Does not recognise when one pa…</td><td>&quot;Believes the numerator is the …</td></tr><tr><td>1000</td><td>&quot;Simplify an algebraic fraction…</td><td>&quot;Simplifying Algebraic Fraction…</td><td>&quot;Simplify the following, if pos…</td><td>&quot;B&quot;</td><td>&quot;AnswerDText&quot;</td><td>&quot;Does not simplify&quot;</td><td>&quot;Simplify an algebraic fraction…</td><td>&quot;D&quot;</td><td>&quot;1000_D&quot;</td><td>353</td><td>2163</td><td>0</td><td>&quot;Does not recognise when one pa…</td><td>&quot;Attempts to simplify ratio by …</td></tr></tbody></table></div>"
      ],
      "text/plain": [
       "shape: (100, 15)\n",
       "┌────────────┬────────────┬───────────┬───────────┬───┬───────────┬────────┬───────────┬───────────┐\n",
       "│ QuestionId ┆ ConstructN ┆ SubjectNa ┆ QuestionT ┆ … ┆ PredictMi ┆ target ┆ Misconcep ┆ PredictMi │\n",
       "│ ---        ┆ ame        ┆ me        ┆ ext       ┆   ┆ sconcepti ┆ ---    ┆ tionName  ┆ sconcepti │\n",
       "│ i64        ┆ ---        ┆ ---       ┆ ---       ┆   ┆ onId      ┆ i64    ┆ ---       ┆ onName    │\n",
       "│            ┆ str        ┆ str       ┆ str       ┆   ┆ ---       ┆        ┆ str       ┆ ---       │\n",
       "│            ┆            ┆           ┆           ┆   ┆ i64       ┆        ┆           ┆ str       │\n",
       "╞════════════╪════════════╪═══════════╪═══════════╪═══╪═══════════╪════════╪═══════════╪═══════════╡\n",
       "│ 0          ┆ Use the    ┆ BIDMAS    ┆ \\[        ┆ … ┆ 2488      ┆ 0      ┆ Confuses  ┆ Answers   │\n",
       "│            ┆ order of   ┆           ┆ 3 \\times  ┆   ┆           ┆        ┆ the order ┆ order of  │\n",
       "│            ┆ operations ┆           ┆ 2+4-5     ┆   ┆           ┆        ┆ of        ┆ operation │\n",
       "│            ┆ to…        ┆           ┆ \\]        ┆   ┆           ┆        ┆ operatio… ┆ s qu…     │\n",
       "│            ┆            ┆           ┆ Where do  ┆   ┆           ┆        ┆           ┆           │\n",
       "│            ┆            ┆           ┆ …         ┆   ┆           ┆        ┆           ┆           │\n",
       "│ 0          ┆ Use the    ┆ BIDMAS    ┆ \\[        ┆ … ┆ 2551      ┆ 0      ┆ Confuses  ┆ Believes  │\n",
       "│            ┆ order of   ┆           ┆ 3 \\times  ┆   ┆           ┆        ┆ the order ┆ range     │\n",
       "│            ┆ operations ┆           ┆ 2+4-5     ┆   ┆           ┆        ┆ of        ┆ does not  │\n",
       "│            ┆ to…        ┆           ┆ \\]        ┆   ┆           ┆        ┆ operatio… ┆ need u…   │\n",
       "│            ┆            ┆           ┆ Where do  ┆   ┆           ┆        ┆           ┆           │\n",
       "│            ┆            ┆           ┆ …         ┆   ┆           ┆        ┆           ┆           │\n",
       "│ 0          ┆ Use the    ┆ BIDMAS    ┆ \\[        ┆ … ┆ 2532      ┆ 0      ┆ Confuses  ┆ Believes  │\n",
       "│            ┆ order of   ┆           ┆ 3 \\times  ┆   ┆           ┆        ┆ the order ┆ order of  │\n",
       "│            ┆ operations ┆           ┆ 2+4-5     ┆   ┆           ┆        ┆ of        ┆ operation │\n",
       "│            ┆ to…        ┆           ┆ \\]        ┆   ┆           ┆        ┆ operatio… ┆ s d…      │\n",
       "│            ┆            ┆           ┆ Where do  ┆   ┆           ┆        ┆           ┆           │\n",
       "│            ┆            ┆           ┆ …         ┆   ┆           ┆        ┆           ┆           │\n",
       "│ 0          ┆ Use the    ┆ BIDMAS    ┆ \\[        ┆ … ┆ 2039      ┆ 0      ┆ Confuses  ┆ Thinks    │\n",
       "│            ┆ order of   ┆           ┆ 3 \\times  ┆   ┆           ┆        ┆ the order ┆ you need  │\n",
       "│            ┆ operations ┆           ┆ 2+4-5     ┆   ┆           ┆        ┆ of        ┆ to just   │\n",
       "│            ┆ to…        ┆           ┆ \\]        ┆   ┆           ┆        ┆ operatio… ┆ add a …   │\n",
       "│            ┆            ┆           ┆ Where do  ┆   ┆           ┆        ┆           ┆           │\n",
       "│            ┆            ┆           ┆ …         ┆   ┆           ┆        ┆           ┆           │\n",
       "│ 0          ┆ Use the    ┆ BIDMAS    ┆ \\[        ┆ … ┆ 1872      ┆ 0      ┆ Confuses  ┆ Believes  │\n",
       "│            ┆ order of   ┆           ┆ 3 \\times  ┆   ┆           ┆        ┆ the order ┆ they only │\n",
       "│            ┆ operations ┆           ┆ 2+4-5     ┆   ┆           ┆        ┆ of        ┆ need to   │\n",
       "│            ┆ to…        ┆           ┆ \\]        ┆   ┆           ┆        ┆ operatio… ┆ mul…      │\n",
       "│            ┆            ┆           ┆ Where do  ┆   ┆           ┆        ┆           ┆           │\n",
       "│            ┆            ┆           ┆ …         ┆   ┆           ┆        ┆           ┆           │\n",
       "│ …          ┆ …          ┆ …         ┆ …         ┆ … ┆ …         ┆ …      ┆ …         ┆ …         │\n",
       "│ 1000       ┆ Simplify   ┆ Simplifyi ┆ Simplify  ┆ … ┆ 346       ┆ 0      ┆ Does not  ┆ Does not  │\n",
       "│            ┆ an         ┆ ng        ┆ the follo ┆   ┆           ┆        ┆ recognise ┆ understan │\n",
       "│            ┆ algebraic  ┆ Algebraic ┆ wing, if  ┆   ┆           ┆        ┆ when one  ┆ d how to  │\n",
       "│            ┆ fraction…  ┆ Fraction… ┆ pos…      ┆   ┆           ┆        ┆ pa…       ┆ mul…      │\n",
       "│ 1000       ┆ Simplify   ┆ Simplifyi ┆ Simplify  ┆ … ┆ 609       ┆ 0      ┆ Does not  ┆ when      │\n",
       "│            ┆ an         ┆ ng        ┆ the follo ┆   ┆           ┆        ┆ recognise ┆ dividing  │\n",
       "│            ┆ algebraic  ┆ Algebraic ┆ wing, if  ┆   ┆           ┆        ┆ when one  ┆ a         │\n",
       "│            ┆ fraction…  ┆ Fraction… ┆ pos…      ┆   ┆           ┆        ┆ pa…       ┆ fraction  │\n",
       "│            ┆            ┆           ┆           ┆   ┆           ┆        ┆           ┆ by an…    │\n",
       "│ 1000       ┆ Simplify   ┆ Simplifyi ┆ Simplify  ┆ … ┆ 1630      ┆ 0      ┆ Does not  ┆ Does not  │\n",
       "│            ┆ an         ┆ ng        ┆ the follo ┆   ┆           ┆        ┆ recognise ┆ realize   │\n",
       "│            ┆ algebraic  ┆ Algebraic ┆ wing, if  ┆   ┆           ┆        ┆ when one  ┆ we can    │\n",
       "│            ┆ fraction…  ┆ Fraction… ┆ pos…      ┆   ┆           ┆        ┆ pa…       ┆ simpli…   │\n",
       "│ 1000       ┆ Simplify   ┆ Simplifyi ┆ Simplify  ┆ … ┆ 1309      ┆ 0      ┆ Does not  ┆ Believes  │\n",
       "│            ┆ an         ┆ ng        ┆ the follo ┆   ┆           ┆        ┆ recognise ┆ the       │\n",
       "│            ┆ algebraic  ┆ Algebraic ┆ wing, if  ┆   ┆           ┆        ┆ when one  ┆ numerator │\n",
       "│            ┆ fraction…  ┆ Fraction… ┆ pos…      ┆   ┆           ┆        ┆ pa…       ┆ is the …  │\n",
       "│ 1000       ┆ Simplify   ┆ Simplifyi ┆ Simplify  ┆ … ┆ 2163      ┆ 0      ┆ Does not  ┆ Attempts  │\n",
       "│            ┆ an         ┆ ng        ┆ the follo ┆   ┆           ┆        ┆ recognise ┆ to        │\n",
       "│            ┆ algebraic  ┆ Algebraic ┆ wing, if  ┆   ┆           ┆        ┆ when one  ┆ simplify  │\n",
       "│            ┆ fraction…  ┆ Fraction… ┆ pos…      ┆   ┆           ┆        ┆ pa…       ┆ ratio by  │\n",
       "│            ┆            ┆           ┆           ┆   ┆           ┆        ┆           ┆ …         │\n",
       "└────────────┴────────────┴───────────┴───────────┴───┴───────────┴────────┴───────────┴───────────┘"
      ]
     },
     "execution_count": 9,
     "metadata": {},
     "output_type": "execute_result"
    }
   ],
   "source": [
    "train.select(range(100)).to_polars()"
   ]
  },
  {
   "cell_type": "code",
   "execution_count": 10,
   "id": "a95079c3",
   "metadata": {
    "execution": {
     "iopub.execute_input": "2024-09-21T00:13:04.068754Z",
     "iopub.status.busy": "2024-09-21T00:13:04.068572Z",
     "iopub.status.idle": "2024-09-21T00:13:04.072117Z",
     "shell.execute_reply": "2024-09-21T00:13:04.071286Z"
    }
   },
   "outputs": [],
   "source": [
    "# # 同じMisconceptionNameのpositiveの例を25個→5個に減らす\n",
    "# train = Dataset.from_pandas(\n",
    "#     train.to_pandas().groupby(\"QuestionId_Answer\").head(TRAIN_USE_NUM)\n",
    "# )"
   ]
  },
  {
   "cell_type": "code",
   "execution_count": 11,
   "id": "cc872920",
   "metadata": {
    "execution": {
     "iopub.execute_input": "2024-09-21T00:13:04.074582Z",
     "iopub.status.busy": "2024-09-21T00:13:04.074303Z",
     "iopub.status.idle": "2024-09-21T00:13:04.077925Z",
     "shell.execute_reply": "2024-09-21T00:13:04.077093Z"
    }
   },
   "outputs": [],
   "source": [
    "if DEBUG:\n",
    "    train = train.select(range(1000))"
   ]
  },
  {
   "cell_type": "code",
   "execution_count": 12,
   "id": "0fafd4a3",
   "metadata": {
    "autoscroll": "auto",
    "collapsed": false,
    "execution": {
     "iopub.execute_input": "2024-09-21T00:13:04.080411Z",
     "iopub.status.busy": "2024-09-21T00:13:04.080127Z",
     "iopub.status.idle": "2024-09-21T00:13:04.814382Z",
     "shell.execute_reply": "2024-09-21T00:13:04.812714Z"
    }
   },
   "outputs": [],
   "source": [
    "print(train[\"AllText\"][0])"
   ]
  },
  {
   "cell_type": "code",
   "execution_count": 13,
   "id": "46c762b2",
   "metadata": {
    "autoscroll": "auto",
    "collapsed": false,
    "execution": {
     "iopub.execute_input": "2024-09-21T00:13:04.818390Z",
     "iopub.status.busy": "2024-09-21T00:13:04.818180Z",
     "iopub.status.idle": "2024-09-21T00:13:05.244080Z",
     "shell.execute_reply": "2024-09-21T00:13:05.242360Z"
    }
   },
   "outputs": [],
   "source": [
    "print(train[\"MisconceptionName\"][0])"
   ]
  },
  {
   "cell_type": "code",
   "execution_count": 14,
   "id": "9db6787d",
   "metadata": {
    "autoscroll": "auto",
    "collapsed": false,
    "execution": {
     "iopub.execute_input": "2024-09-21T00:13:05.247760Z",
     "iopub.status.busy": "2024-09-21T00:13:05.247564Z",
     "iopub.status.idle": "2024-09-21T00:13:05.866738Z",
     "shell.execute_reply": "2024-09-21T00:13:05.864998Z"
    }
   },
   "outputs": [],
   "source": [
    "print(train[\"PredictMisconceptionName\"][0])"
   ]
  },
  {
   "cell_type": "markdown",
   "id": "adf26818",
   "metadata": {},
   "source": [
    "# Train Valid Split"
   ]
  },
  {
   "cell_type": "code",
   "execution_count": 15,
   "id": "3dcb4968",
   "metadata": {
    "autoscroll": "auto",
    "collapsed": false,
    "execution": {
     "iopub.execute_input": "2024-09-21T00:13:05.870626Z",
     "iopub.status.busy": "2024-09-21T00:13:05.870422Z",
     "iopub.status.idle": "2024-09-21T00:13:05.979576Z",
     "shell.execute_reply": "2024-09-21T00:13:05.978528Z"
    }
   },
   "outputs": [],
   "source": [
    "train, valid = (\n",
    "    train.filter(lambda example: example[\"QuestionId\"] % 3 != 0, num_proc=NUM_PROC),\n",
    "    train.filter(lambda example: example[\"QuestionId\"] % 3 == 0, num_proc=NUM_PROC),\n",
    ")"
   ]
  },
  {
   "cell_type": "code",
   "execution_count": 16,
   "id": "8184ebdf",
   "metadata": {
    "autoscroll": "auto",
    "collapsed": false,
    "execution": {
     "iopub.execute_input": "2024-09-21T00:13:05.983250Z",
     "iopub.status.busy": "2024-09-21T00:13:05.983059Z",
     "iopub.status.idle": "2024-09-21T00:13:05.988930Z",
     "shell.execute_reply": "2024-09-21T00:13:05.987463Z"
    }
   },
   "outputs": [],
   "source": [
    "print(train)\n",
    "print(valid)"
   ]
  },
  {
   "cell_type": "markdown",
   "id": "26d11def",
   "metadata": {
    "papermill": {
     "duration": 0.010829,
     "end_time": "2024-09-14T01:46:00.109663",
     "exception": false,
     "start_time": "2024-09-14T01:46:00.098834",
     "status": "completed"
    },
    "tags": []
   },
   "source": [
    "# Fine-tuning BGE"
   ]
  },
  {
   "cell_type": "code",
   "execution_count": 17,
   "id": "c6ec1e23",
   "metadata": {
    "autoscroll": "auto",
    "collapsed": false,
    "execution": {
     "iopub.execute_input": "2024-09-21T00:13:05.992581Z",
     "iopub.status.busy": "2024-09-21T00:13:05.992277Z",
     "iopub.status.idle": "2024-09-21T02:20:16.202824Z",
     "shell.execute_reply": "2024-09-21T02:20:16.201864Z"
    }
   },
   "outputs": [
    {
     "data": {
      "text/html": [
       "\n",
       "    <div>\n",
       "      \n",
       "      <progress value='1114' max='1114' style='width:300px; height:20px; vertical-align: middle;'></progress>\n",
       "      [1114/1114 2:02:12, Epoch 1/2]\n",
       "    </div>\n",
       "    <table border=\"1\" class=\"dataframe\">\n",
       "  <thead>\n",
       " <tr style=\"text-align: left;\">\n",
       "      <th>Step</th>\n",
       "      <th>Training Loss</th>\n",
       "      <th>Validation Loss</th>\n",
       "      <th>Baai/bge-large-en-v1.5-dev Cosine Accuracy</th>\n",
       "      <th>Baai/bge-large-en-v1.5-dev Dot Accuracy</th>\n",
       "      <th>Baai/bge-large-en-v1.5-dev Manhattan Accuracy</th>\n",
       "      <th>Baai/bge-large-en-v1.5-dev Euclidean Accuracy</th>\n",
       "      <th>Baai/bge-large-en-v1.5-dev Max Accuracy</th>\n",
       "    </tr>\n",
       "  </thead>\n",
       "  <tbody>\n",
       "    <tr>\n",
       "      <td>112</td>\n",
       "      <td>1.525700</td>\n",
       "      <td>1.619208</td>\n",
       "      <td>0.744704</td>\n",
       "      <td>0.255268</td>\n",
       "      <td>0.742836</td>\n",
       "      <td>0.744704</td>\n",
       "      <td>0.744704</td>\n",
       "    </tr>\n",
       "    <tr>\n",
       "      <td>224</td>\n",
       "      <td>1.344700</td>\n",
       "      <td>1.433274</td>\n",
       "      <td>0.789637</td>\n",
       "      <td>0.210336</td>\n",
       "      <td>0.790584</td>\n",
       "      <td>0.789637</td>\n",
       "      <td>0.790584</td>\n",
       "    </tr>\n",
       "    <tr>\n",
       "      <td>336</td>\n",
       "      <td>1.383400</td>\n",
       "      <td>1.363564</td>\n",
       "      <td>0.809343</td>\n",
       "      <td>0.190629</td>\n",
       "      <td>0.808089</td>\n",
       "      <td>0.809343</td>\n",
       "      <td>0.809343</td>\n",
       "    </tr>\n",
       "    <tr>\n",
       "      <td>448</td>\n",
       "      <td>1.290100</td>\n",
       "      <td>1.281770</td>\n",
       "      <td>0.847280</td>\n",
       "      <td>0.152693</td>\n",
       "      <td>0.846666</td>\n",
       "      <td>0.847280</td>\n",
       "      <td>0.847280</td>\n",
       "    </tr>\n",
       "    <tr>\n",
       "      <td>560</td>\n",
       "      <td>1.214300</td>\n",
       "      <td>1.228228</td>\n",
       "      <td>0.865147</td>\n",
       "      <td>0.134826</td>\n",
       "      <td>0.864338</td>\n",
       "      <td>0.865147</td>\n",
       "      <td>0.865147</td>\n",
       "    </tr>\n",
       "    <tr>\n",
       "      <td>672</td>\n",
       "      <td>1.132700</td>\n",
       "      <td>1.210311</td>\n",
       "      <td>0.862415</td>\n",
       "      <td>0.137557</td>\n",
       "      <td>0.862192</td>\n",
       "      <td>0.862415</td>\n",
       "      <td>0.862415</td>\n",
       "    </tr>\n",
       "    <tr>\n",
       "      <td>784</td>\n",
       "      <td>0.877400</td>\n",
       "      <td>1.145685</td>\n",
       "      <td>0.879780</td>\n",
       "      <td>0.120192</td>\n",
       "      <td>0.879195</td>\n",
       "      <td>0.879780</td>\n",
       "      <td>0.879780</td>\n",
       "    </tr>\n",
       "    <tr>\n",
       "      <td>896</td>\n",
       "      <td>0.822400</td>\n",
       "      <td>1.119493</td>\n",
       "      <td>0.879641</td>\n",
       "      <td>0.120331</td>\n",
       "      <td>0.879307</td>\n",
       "      <td>0.879641</td>\n",
       "      <td>0.879641</td>\n",
       "    </tr>\n",
       "    <tr>\n",
       "      <td>1008</td>\n",
       "      <td>0.701900</td>\n",
       "      <td>1.106345</td>\n",
       "      <td>0.882763</td>\n",
       "      <td>0.117209</td>\n",
       "      <td>0.882400</td>\n",
       "      <td>0.882763</td>\n",
       "      <td>0.882763</td>\n",
       "    </tr>\n",
       "  </tbody>\n",
       "</table><p>"
      ],
      "text/plain": [
       "<IPython.core.display.HTML object>"
      ]
     },
     "metadata": {},
     "output_type": "display_data"
    },
    {
     "data": {
      "application/vnd.jupyter.widget-view+json": {
       "model_id": "0ae09f3378a44253ba3a19f1fd9f543a",
       "version_major": 2,
       "version_minor": 0
      },
      "text/plain": [
       "Computing widget examples:   0%|          | 0/1 [00:00<?, ?example/s]"
      ]
     },
     "metadata": {},
     "output_type": "display_data"
    }
   ],
   "source": [
    "if TRAINING:\n",
    "    model = SentenceTransformer(MODEL_NAME)\n",
    "\n",
    "    loss = MultipleNegativesRankingLoss(model)\n",
    "\n",
    "    args = SentenceTransformerTrainingArguments(\n",
    "        # Required parameter:\n",
    "        output_dir=OUTPUT_PATH,\n",
    "        # Optional training parameters:\n",
    "        num_train_epochs=EPOCH,\n",
    "        per_device_train_batch_size=BS,  # 16,\n",
    "        gradient_accumulation_steps=GRAD_ACC_STEP,\n",
    "        per_device_eval_batch_size=BS,  # 16,\n",
    "        eval_accumulation_steps=GRAD_ACC_STEP,\n",
    "        learning_rate=LR,\n",
    "        weight_decay=0.01,\n",
    "        warmup_ratio=0.1,\n",
    "        fp16=True,  # Set to False if you get an error that your GPU can't run on FP16\n",
    "        fp16_full_eval=True,\n",
    "        bf16=False,  # Set to True if you have a GPU that supports BF16\n",
    "        batch_sampler=BatchSamplers.NO_DUPLICATES,  # MultipleNegativesRankingLoss benefits from no duplicate samples in a batch\n",
    "        # Optional tracking/debugging parameters:\n",
    "        lr_scheduler_type=\"cosine_with_restarts\",\n",
    "        eval_strategy=\"steps\",\n",
    "        eval_steps=0.1,\n",
    "        save_strategy=\"steps\",\n",
    "        save_steps=0.1,\n",
    "        save_total_limit=2,\n",
    "        logging_steps=100,\n",
    "        report_to=REPORT_TO,  # Will be used in W&B if `wandb` is installed\n",
    "        load_best_model_at_end=True,\n",
    "        metric_for_best_model=\"eval_loss\",\n",
    "    )\n",
    "\n",
    "    dev_evaluator = TripletEvaluator(\n",
    "        anchors=valid[\"AllText\"],\n",
    "        positives=valid[\"MisconceptionName\"],\n",
    "        negatives=valid[\"PredictMisconceptionName\"],\n",
    "        name=f\"{MODEL_NAME}-dev\",\n",
    "    )\n",
    "    dev_evaluator(model)\n",
    "\n",
    "    trainer = SentenceTransformerTrainer(\n",
    "        model=model,\n",
    "        args=args,\n",
    "        train_dataset=train.select_columns(\n",
    "            [\"AllText\", \"MisconceptionName\", \"PredictMisconceptionName\"]\n",
    "        ),\n",
    "        eval_dataset=valid.select_columns(\n",
    "            [\"AllText\", \"MisconceptionName\", \"PredictMisconceptionName\"]\n",
    "        ),\n",
    "        loss=loss,\n",
    "        evaluator=dev_evaluator,\n",
    "    )\n",
    "\n",
    "    trainer.train()\n",
    "    model.save_pretrained(MODEL_OUTPUT_PATH)\n",
    "else:\n",
    "    model = SentenceTransformer(MODEL_OUTPUT_PATH)"
   ]
  },
  {
   "cell_type": "markdown",
   "id": "cee5e067",
   "metadata": {},
   "source": [
    "# Make Vector"
   ]
  },
  {
   "cell_type": "code",
   "execution_count": 18,
   "id": "b9e617cb",
   "metadata": {
    "autoscroll": "auto",
    "collapsed": false,
    "execution": {
     "iopub.execute_input": "2024-09-21T02:20:16.208133Z",
     "iopub.status.busy": "2024-09-21T02:20:16.207300Z",
     "iopub.status.idle": "2024-09-21T02:20:16.232350Z",
     "shell.execute_reply": "2024-09-21T02:20:16.231623Z"
    }
   },
   "outputs": [
    {
     "data": {
      "text/html": [
       "<div><style>\n",
       ".dataframe > thead > tr,\n",
       ".dataframe > tbody > tr {\n",
       "  text-align: right;\n",
       "  white-space: pre-wrap;\n",
       "}\n",
       "</style>\n",
       "<small>shape: (5, 10)</small><table border=\"1\" class=\"dataframe\"><thead><tr><th>QuestionId</th><th>ConstructName</th><th>SubjectName</th><th>QuestionText</th><th>CorrectAnswer</th><th>AnswerType</th><th>AnswerText</th><th>AllText</th><th>AnswerAlphabet</th><th>QuestionId_Answer</th></tr><tr><td>i64</td><td>str</td><td>str</td><td>str</td><td>str</td><td>str</td><td>str</td><td>str</td><td>str</td><td>str</td></tr></thead><tbody><tr><td>0</td><td>&quot;Use the order of operations to…</td><td>&quot;BIDMAS&quot;</td><td>&quot;\\[\n",
       "3 \\times 2+4-5\n",
       "\\]\n",
       "Where do …</td><td>&quot;A&quot;</td><td>&quot;AnswerAText&quot;</td><td>&quot;\\( 3 \\times(2+4)-5 \\)&quot;</td><td>&quot;Use the order of operations to…</td><td>&quot;A&quot;</td><td>&quot;0_A&quot;</td></tr><tr><td>0</td><td>&quot;Use the order of operations to…</td><td>&quot;BIDMAS&quot;</td><td>&quot;\\[\n",
       "3 \\times 2+4-5\n",
       "\\]\n",
       "Where do …</td><td>&quot;A&quot;</td><td>&quot;AnswerBText&quot;</td><td>&quot;\\( 3 \\times 2+(4-5) \\)&quot;</td><td>&quot;Use the order of operations to…</td><td>&quot;B&quot;</td><td>&quot;0_B&quot;</td></tr><tr><td>0</td><td>&quot;Use the order of operations to…</td><td>&quot;BIDMAS&quot;</td><td>&quot;\\[\n",
       "3 \\times 2+4-5\n",
       "\\]\n",
       "Where do …</td><td>&quot;A&quot;</td><td>&quot;AnswerCText&quot;</td><td>&quot;\\( 3 \\times(2+4-5) \\)&quot;</td><td>&quot;Use the order of operations to…</td><td>&quot;C&quot;</td><td>&quot;0_C&quot;</td></tr><tr><td>0</td><td>&quot;Use the order of operations to…</td><td>&quot;BIDMAS&quot;</td><td>&quot;\\[\n",
       "3 \\times 2+4-5\n",
       "\\]\n",
       "Where do …</td><td>&quot;A&quot;</td><td>&quot;AnswerDText&quot;</td><td>&quot;Does not need brackets&quot;</td><td>&quot;Use the order of operations to…</td><td>&quot;D&quot;</td><td>&quot;0_D&quot;</td></tr><tr><td>1000</td><td>&quot;Simplify an algebraic fraction…</td><td>&quot;Simplifying Algebraic Fraction…</td><td>&quot;Simplify the following, if pos…</td><td>&quot;B&quot;</td><td>&quot;AnswerAText&quot;</td><td>&quot;\\( t \\)&quot;</td><td>&quot;Simplify an algebraic fraction…</td><td>&quot;A&quot;</td><td>&quot;1000_A&quot;</td></tr></tbody></table></div>"
      ],
      "text/plain": [
       "shape: (5, 10)\n",
       "┌───────────┬───────────┬───────────┬───────────┬───┬───────────┬───────────┬───────────┬──────────┐\n",
       "│ QuestionI ┆ Construct ┆ SubjectNa ┆ QuestionT ┆ … ┆ AnswerTex ┆ AllText   ┆ AnswerAlp ┆ Question │\n",
       "│ d         ┆ Name      ┆ me        ┆ ext       ┆   ┆ t         ┆ ---       ┆ habet     ┆ Id_Answe │\n",
       "│ ---       ┆ ---       ┆ ---       ┆ ---       ┆   ┆ ---       ┆ str       ┆ ---       ┆ r        │\n",
       "│ i64       ┆ str       ┆ str       ┆ str       ┆   ┆ str       ┆           ┆ str       ┆ ---      │\n",
       "│           ┆           ┆           ┆           ┆   ┆           ┆           ┆           ┆ str      │\n",
       "╞═══════════╪═══════════╪═══════════╪═══════════╪═══╪═══════════╪═══════════╪═══════════╪══════════╡\n",
       "│ 0         ┆ Use the   ┆ BIDMAS    ┆ \\[        ┆ … ┆ \\( 3 \\tim ┆ Use the   ┆ A         ┆ 0_A      │\n",
       "│           ┆ order of  ┆           ┆ 3 \\times  ┆   ┆ es(2+4)-5 ┆ order of  ┆           ┆          │\n",
       "│           ┆ operation ┆           ┆ 2+4-5     ┆   ┆ \\)        ┆ operation ┆           ┆          │\n",
       "│           ┆ s to…     ┆           ┆ \\]        ┆   ┆           ┆ s to…     ┆           ┆          │\n",
       "│           ┆           ┆           ┆ Where do  ┆   ┆           ┆           ┆           ┆          │\n",
       "│           ┆           ┆           ┆ …         ┆   ┆           ┆           ┆           ┆          │\n",
       "│ 0         ┆ Use the   ┆ BIDMAS    ┆ \\[        ┆ … ┆ \\( 3      ┆ Use the   ┆ B         ┆ 0_B      │\n",
       "│           ┆ order of  ┆           ┆ 3 \\times  ┆   ┆ \\times    ┆ order of  ┆           ┆          │\n",
       "│           ┆ operation ┆           ┆ 2+4-5     ┆   ┆ 2+(4-5)   ┆ operation ┆           ┆          │\n",
       "│           ┆ s to…     ┆           ┆ \\]        ┆   ┆ \\)        ┆ s to…     ┆           ┆          │\n",
       "│           ┆           ┆           ┆ Where do  ┆   ┆           ┆           ┆           ┆          │\n",
       "│           ┆           ┆           ┆ …         ┆   ┆           ┆           ┆           ┆          │\n",
       "│ 0         ┆ Use the   ┆ BIDMAS    ┆ \\[        ┆ … ┆ \\( 3 \\tim ┆ Use the   ┆ C         ┆ 0_C      │\n",
       "│           ┆ order of  ┆           ┆ 3 \\times  ┆   ┆ es(2+4-5) ┆ order of  ┆           ┆          │\n",
       "│           ┆ operation ┆           ┆ 2+4-5     ┆   ┆ \\)        ┆ operation ┆           ┆          │\n",
       "│           ┆ s to…     ┆           ┆ \\]        ┆   ┆           ┆ s to…     ┆           ┆          │\n",
       "│           ┆           ┆           ┆ Where do  ┆   ┆           ┆           ┆           ┆          │\n",
       "│           ┆           ┆           ┆ …         ┆   ┆           ┆           ┆           ┆          │\n",
       "│ 0         ┆ Use the   ┆ BIDMAS    ┆ \\[        ┆ … ┆ Does not  ┆ Use the   ┆ D         ┆ 0_D      │\n",
       "│           ┆ order of  ┆           ┆ 3 \\times  ┆   ┆ need      ┆ order of  ┆           ┆          │\n",
       "│           ┆ operation ┆           ┆ 2+4-5     ┆   ┆ brackets  ┆ operation ┆           ┆          │\n",
       "│           ┆ s to…     ┆           ┆ \\]        ┆   ┆           ┆ s to…     ┆           ┆          │\n",
       "│           ┆           ┆           ┆ Where do  ┆   ┆           ┆           ┆           ┆          │\n",
       "│           ┆           ┆           ┆ …         ┆   ┆           ┆           ┆           ┆          │\n",
       "│ 1000      ┆ Simplify  ┆ Simplifyi ┆ Simplify  ┆ … ┆ \\( t \\)   ┆ Simplify  ┆ A         ┆ 1000_A   │\n",
       "│           ┆ an        ┆ ng        ┆ the follo ┆   ┆           ┆ an        ┆           ┆          │\n",
       "│           ┆ algebraic ┆ Algebraic ┆ wing, if  ┆   ┆           ┆ algebraic ┆           ┆          │\n",
       "│           ┆ fraction… ┆ Fraction… ┆ pos…      ┆   ┆           ┆ fraction… ┆           ┆          │\n",
       "└───────────┴───────────┴───────────┴───────────┴───┴───────────┴───────────┴───────────┴──────────┘"
      ]
     },
     "execution_count": 18,
     "metadata": {},
     "output_type": "execute_result"
    }
   ],
   "source": [
    "common_col = [\n",
    "    \"QuestionId\",\n",
    "    \"ConstructName\",\n",
    "    \"SubjectName\",\n",
    "    \"QuestionText\",\n",
    "    \"CorrectAnswer\",\n",
    "]\n",
    "\n",
    "train_long = (\n",
    "    pl.read_csv(f\"{DATA_PATH}/train.csv\")\n",
    "    .select(\n",
    "        pl.col(common_col + [f\"Answer{alpha}Text\" for alpha in [\"A\", \"B\", \"C\", \"D\"]])\n",
    "    )\n",
    "    .unpivot(\n",
    "        index=common_col,\n",
    "        variable_name=\"AnswerType\",\n",
    "        value_name=\"AnswerText\",\n",
    "    )\n",
    "    .with_columns(\n",
    "        pl.concat_str(\n",
    "            [\n",
    "                pl.col(\"ConstructName\"),\n",
    "                pl.col(\"SubjectName\"),\n",
    "                pl.col(\"QuestionText\"),\n",
    "                pl.col(\"AnswerText\"),\n",
    "            ],\n",
    "            separator=\" \",\n",
    "        ).alias(\"AllText\"),\n",
    "        pl.col(\"AnswerType\").str.extract(r\"Answer([A-D])Text$\").alias(\"AnswerAlphabet\"),\n",
    "    )\n",
    "    .with_columns(\n",
    "        pl.concat_str(\n",
    "            [pl.col(\"QuestionId\"), pl.col(\"AnswerAlphabet\")], separator=\"_\"\n",
    "        ).alias(\"QuestionId_Answer\"),\n",
    "    )\n",
    "    .sort(\"QuestionId_Answer\")\n",
    ")\n",
    "train_long.head()"
   ]
  },
  {
   "cell_type": "code",
   "execution_count": 19,
   "id": "5ee44be4",
   "metadata": {
    "autoscroll": "auto",
    "collapsed": false,
    "execution": {
     "iopub.execute_input": "2024-09-21T02:20:16.235922Z",
     "iopub.status.busy": "2024-09-21T02:20:16.235565Z",
     "iopub.status.idle": "2024-09-21T02:20:16.252688Z",
     "shell.execute_reply": "2024-09-21T02:20:16.252055Z"
    }
   },
   "outputs": [
    {
     "data": {
      "text/html": [
       "<div><style>\n",
       ".dataframe > thead > tr,\n",
       ".dataframe > tbody > tr {\n",
       "  text-align: right;\n",
       "  white-space: pre-wrap;\n",
       "}\n",
       "</style>\n",
       "<small>shape: (5, 2)</small><table border=\"1\" class=\"dataframe\"><thead><tr><th>QuestionId_Answer</th><th>MisconceptionId</th></tr><tr><td>str</td><td>i64</td></tr></thead><tbody><tr><td>&quot;0_A&quot;</td><td>null</td></tr><tr><td>&quot;0_B&quot;</td><td>null</td></tr><tr><td>&quot;0_C&quot;</td><td>null</td></tr><tr><td>&quot;0_D&quot;</td><td>1672</td></tr><tr><td>&quot;1000_A&quot;</td><td>891</td></tr></tbody></table></div>"
      ],
      "text/plain": [
       "shape: (5, 2)\n",
       "┌───────────────────┬─────────────────┐\n",
       "│ QuestionId_Answer ┆ MisconceptionId │\n",
       "│ ---               ┆ ---             │\n",
       "│ str               ┆ i64             │\n",
       "╞═══════════════════╪═════════════════╡\n",
       "│ 0_A               ┆ null            │\n",
       "│ 0_B               ┆ null            │\n",
       "│ 0_C               ┆ null            │\n",
       "│ 0_D               ┆ 1672            │\n",
       "│ 1000_A            ┆ 891             │\n",
       "└───────────────────┴─────────────────┘"
      ]
     },
     "execution_count": 19,
     "metadata": {},
     "output_type": "execute_result"
    }
   ],
   "source": [
    "train_misconception_long = (\n",
    "    pl.read_csv(f\"{DATA_PATH}/train.csv\")\n",
    "    .select(\n",
    "        pl.col(\n",
    "            common_col + [f\"Misconception{alpha}Id\" for alpha in [\"A\", \"B\", \"C\", \"D\"]]\n",
    "        )\n",
    "    )\n",
    "    .unpivot(\n",
    "        index=common_col,\n",
    "        variable_name=\"MisconceptionType\",\n",
    "        value_name=\"MisconceptionId\",\n",
    "    )\n",
    "    .with_columns(\n",
    "        pl.col(\"MisconceptionType\")\n",
    "        .str.extract(r\"Misconception([A-D])Id$\")\n",
    "        .alias(\"AnswerAlphabet\"),\n",
    "    )\n",
    "    .with_columns(\n",
    "        pl.concat_str(\n",
    "            [pl.col(\"QuestionId\"), pl.col(\"AnswerAlphabet\")], separator=\"_\"\n",
    "        ).alias(\"QuestionId_Answer\"),\n",
    "    )\n",
    "    .sort(\"QuestionId_Answer\")\n",
    "    .select(pl.col([\"QuestionId_Answer\", \"MisconceptionId\"]))\n",
    "    .with_columns(pl.col(\"MisconceptionId\").cast(pl.Int64))\n",
    ")\n",
    "train_misconception_long.head()"
   ]
  },
  {
   "cell_type": "code",
   "execution_count": 20,
   "id": "22d824b9",
   "metadata": {
    "execution": {
     "iopub.execute_input": "2024-09-21T02:20:16.256410Z",
     "iopub.status.busy": "2024-09-21T02:20:16.255732Z",
     "iopub.status.idle": "2024-09-21T02:20:16.260571Z",
     "shell.execute_reply": "2024-09-21T02:20:16.259962Z"
    }
   },
   "outputs": [],
   "source": [
    "# join MisconceptionId\n",
    "train_long = train_long.join(train_misconception_long, on=\"QuestionId_Answer\")"
   ]
  },
  {
   "cell_type": "code",
   "execution_count": 21,
   "id": "2b9bad18",
   "metadata": {
    "execution": {
     "iopub.execute_input": "2024-09-21T02:20:16.263946Z",
     "iopub.status.busy": "2024-09-21T02:20:16.263484Z",
     "iopub.status.idle": "2024-09-21T02:20:16.616406Z",
     "shell.execute_reply": "2024-09-21T02:20:16.615462Z"
    }
   },
   "outputs": [],
   "source": [
    "valid_long = train_long.filter(\n",
    "    pl.col(\"QuestionId_Answer\").is_in(set(valid[\"QuestionId_Answer\"]))\n",
    ")"
   ]
  },
  {
   "cell_type": "code",
   "execution_count": 22,
   "id": "22563ddd",
   "metadata": {
    "autoscroll": "auto",
    "collapsed": false,
    "execution": {
     "iopub.execute_input": "2024-09-21T02:20:16.620219Z",
     "iopub.status.busy": "2024-09-21T02:20:16.619850Z",
     "iopub.status.idle": "2024-09-21T02:20:16.626472Z",
     "shell.execute_reply": "2024-09-21T02:20:16.625878Z"
    }
   },
   "outputs": [
    {
     "data": {
      "text/html": [
       "<div><style>\n",
       ".dataframe > thead > tr,\n",
       ".dataframe > tbody > tr {\n",
       "  text-align: right;\n",
       "  white-space: pre-wrap;\n",
       "}\n",
       "</style>\n",
       "<small>shape: (1_460, 11)</small><table border=\"1\" class=\"dataframe\"><thead><tr><th>QuestionId</th><th>ConstructName</th><th>SubjectName</th><th>QuestionText</th><th>CorrectAnswer</th><th>AnswerType</th><th>AnswerText</th><th>AllText</th><th>AnswerAlphabet</th><th>QuestionId_Answer</th><th>MisconceptionId</th></tr><tr><td>i64</td><td>str</td><td>str</td><td>str</td><td>str</td><td>str</td><td>str</td><td>str</td><td>str</td><td>str</td><td>i64</td></tr></thead><tbody><tr><td>0</td><td>&quot;Use the order of operations to…</td><td>&quot;BIDMAS&quot;</td><td>&quot;\\[\n",
       "3 \\times 2+4-5\n",
       "\\]\n",
       "Where do …</td><td>&quot;A&quot;</td><td>&quot;AnswerDText&quot;</td><td>&quot;Does not need brackets&quot;</td><td>&quot;Use the order of operations to…</td><td>&quot;D&quot;</td><td>&quot;0_D&quot;</td><td>1672</td></tr><tr><td>1002</td><td>&quot;Convert fractions less than 1 …</td><td>&quot;Converting between Fractions a…</td><td>&quot;Convert \\( \\frac{3}{20} \\) int…</td><td>&quot;A&quot;</td><td>&quot;AnswerBText&quot;</td><td>&quot;\\( 0.3 \\)&quot;</td><td>&quot;Convert fractions less than 1 …</td><td>&quot;B&quot;</td><td>&quot;1002_B&quot;</td><td>1715</td></tr><tr><td>1002</td><td>&quot;Convert fractions less than 1 …</td><td>&quot;Converting between Fractions a…</td><td>&quot;Convert \\( \\frac{3}{20} \\) int…</td><td>&quot;A&quot;</td><td>&quot;AnswerCText&quot;</td><td>&quot;\\( 3.20 \\)&quot;</td><td>&quot;Convert fractions less than 1 …</td><td>&quot;C&quot;</td><td>&quot;1002_C&quot;</td><td>2308</td></tr><tr><td>1005</td><td>&quot;Convert fractions less than 1 …</td><td>&quot;Converting between Fractions a…</td><td>&quot;What is \\( \\frac{3}{5} \\) as a…</td><td>&quot;D&quot;</td><td>&quot;AnswerAText&quot;</td><td>&quot;\\( 0.5 \\)&quot;</td><td>&quot;Convert fractions less than 1 …</td><td>&quot;A&quot;</td><td>&quot;1005_A&quot;</td><td>760</td></tr><tr><td>1005</td><td>&quot;Convert fractions less than 1 …</td><td>&quot;Converting between Fractions a…</td><td>&quot;What is \\( \\frac{3}{5} \\) as a…</td><td>&quot;D&quot;</td><td>&quot;AnswerBText&quot;</td><td>&quot;\\( 0.3 \\)&quot;</td><td>&quot;Convert fractions less than 1 …</td><td>&quot;B&quot;</td><td>&quot;1005_B&quot;</td><td>1715</td></tr><tr><td>&hellip;</td><td>&hellip;</td><td>&hellip;</td><td>&hellip;</td><td>&hellip;</td><td>&hellip;</td><td>&hellip;</td><td>&hellip;</td><td>&hellip;</td><td>&hellip;</td><td>&hellip;</td></tr><tr><td>99</td><td>&quot;Given the perimeter, work out …</td><td>&quot;Volume and Capacity Units&quot;</td><td>&quot;A regular pentagon has a total…</td><td>&quot;C&quot;</td><td>&quot;AnswerBText&quot;</td><td>&quot;\\( 12 \\mathrm{~cm} \\)&quot;</td><td>&quot;Given the perimeter, work out …</td><td>&quot;B&quot;</td><td>&quot;99_B&quot;</td><td>1815</td></tr><tr><td>99</td><td>&quot;Given the perimeter, work out …</td><td>&quot;Volume and Capacity Units&quot;</td><td>&quot;A regular pentagon has a total…</td><td>&quot;C&quot;</td><td>&quot;AnswerDText&quot;</td><td>&quot;Not enough information&quot;</td><td>&quot;Given the perimeter, work out …</td><td>&quot;D&quot;</td><td>&quot;99_D&quot;</td><td>255</td></tr><tr><td>9</td><td>&quot;Identify horizontal translatio…</td><td>&quot;Transformations of functions i…</td><td>&quot;What transformation maps the g…</td><td>&quot;C&quot;</td><td>&quot;AnswerAText&quot;</td><td>&quot;Translation by vector\n",
       "\\(\n",
       "\\left…</td><td>&quot;Identify horizontal translatio…</td><td>&quot;A&quot;</td><td>&quot;9_A&quot;</td><td>1889</td></tr><tr><td>9</td><td>&quot;Identify horizontal translatio…</td><td>&quot;Transformations of functions i…</td><td>&quot;What transformation maps the g…</td><td>&quot;C&quot;</td><td>&quot;AnswerBText&quot;</td><td>&quot;Translation by vector\n",
       "\\(\n",
       "\\left…</td><td>&quot;Identify horizontal translatio…</td><td>&quot;B&quot;</td><td>&quot;9_B&quot;</td><td>1234</td></tr><tr><td>9</td><td>&quot;Identify horizontal translatio…</td><td>&quot;Transformations of functions i…</td><td>&quot;What transformation maps the g…</td><td>&quot;C&quot;</td><td>&quot;AnswerDText&quot;</td><td>&quot;Translation by vector\n",
       "\\(\n",
       "\\left…</td><td>&quot;Identify horizontal translatio…</td><td>&quot;D&quot;</td><td>&quot;9_D&quot;</td><td>1312</td></tr></tbody></table></div>"
      ],
      "text/plain": [
       "shape: (1_460, 11)\n",
       "┌───────────┬───────────┬───────────┬───────────┬───┬───────────┬───────────┬───────────┬──────────┐\n",
       "│ QuestionI ┆ Construct ┆ SubjectNa ┆ QuestionT ┆ … ┆ AllText   ┆ AnswerAlp ┆ QuestionI ┆ Misconce │\n",
       "│ d         ┆ Name      ┆ me        ┆ ext       ┆   ┆ ---       ┆ habet     ┆ d_Answer  ┆ ptionId  │\n",
       "│ ---       ┆ ---       ┆ ---       ┆ ---       ┆   ┆ str       ┆ ---       ┆ ---       ┆ ---      │\n",
       "│ i64       ┆ str       ┆ str       ┆ str       ┆   ┆           ┆ str       ┆ str       ┆ i64      │\n",
       "╞═══════════╪═══════════╪═══════════╪═══════════╪═══╪═══════════╪═══════════╪═══════════╪══════════╡\n",
       "│ 0         ┆ Use the   ┆ BIDMAS    ┆ \\[        ┆ … ┆ Use the   ┆ D         ┆ 0_D       ┆ 1672     │\n",
       "│           ┆ order of  ┆           ┆ 3 \\times  ┆   ┆ order of  ┆           ┆           ┆          │\n",
       "│           ┆ operation ┆           ┆ 2+4-5     ┆   ┆ operation ┆           ┆           ┆          │\n",
       "│           ┆ s to…     ┆           ┆ \\]        ┆   ┆ s to…     ┆           ┆           ┆          │\n",
       "│           ┆           ┆           ┆ Where do  ┆   ┆           ┆           ┆           ┆          │\n",
       "│           ┆           ┆           ┆ …         ┆   ┆           ┆           ┆           ┆          │\n",
       "│ 1002      ┆ Convert   ┆ Convertin ┆ Convert   ┆ … ┆ Convert   ┆ B         ┆ 1002_B    ┆ 1715     │\n",
       "│           ┆ fractions ┆ g between ┆ \\( \\frac{ ┆   ┆ fractions ┆           ┆           ┆          │\n",
       "│           ┆ less than ┆ Fractions ┆ 3}{20} \\) ┆   ┆ less than ┆           ┆           ┆          │\n",
       "│           ┆ 1 …       ┆ a…        ┆ int…      ┆   ┆ 1 …       ┆           ┆           ┆          │\n",
       "│ 1002      ┆ Convert   ┆ Convertin ┆ Convert   ┆ … ┆ Convert   ┆ C         ┆ 1002_C    ┆ 2308     │\n",
       "│           ┆ fractions ┆ g between ┆ \\( \\frac{ ┆   ┆ fractions ┆           ┆           ┆          │\n",
       "│           ┆ less than ┆ Fractions ┆ 3}{20} \\) ┆   ┆ less than ┆           ┆           ┆          │\n",
       "│           ┆ 1 …       ┆ a…        ┆ int…      ┆   ┆ 1 …       ┆           ┆           ┆          │\n",
       "│ 1005      ┆ Convert   ┆ Convertin ┆ What is   ┆ … ┆ Convert   ┆ A         ┆ 1005_A    ┆ 760      │\n",
       "│           ┆ fractions ┆ g between ┆ \\( \\frac{ ┆   ┆ fractions ┆           ┆           ┆          │\n",
       "│           ┆ less than ┆ Fractions ┆ 3}{5} \\)  ┆   ┆ less than ┆           ┆           ┆          │\n",
       "│           ┆ 1 …       ┆ a…        ┆ as a…     ┆   ┆ 1 …       ┆           ┆           ┆          │\n",
       "│ 1005      ┆ Convert   ┆ Convertin ┆ What is   ┆ … ┆ Convert   ┆ B         ┆ 1005_B    ┆ 1715     │\n",
       "│           ┆ fractions ┆ g between ┆ \\( \\frac{ ┆   ┆ fractions ┆           ┆           ┆          │\n",
       "│           ┆ less than ┆ Fractions ┆ 3}{5} \\)  ┆   ┆ less than ┆           ┆           ┆          │\n",
       "│           ┆ 1 …       ┆ a…        ┆ as a…     ┆   ┆ 1 …       ┆           ┆           ┆          │\n",
       "│ …         ┆ …         ┆ …         ┆ …         ┆ … ┆ …         ┆ …         ┆ …         ┆ …        │\n",
       "│ 99        ┆ Given the ┆ Volume    ┆ A regular ┆ … ┆ Given the ┆ B         ┆ 99_B      ┆ 1815     │\n",
       "│           ┆ perimeter ┆ and       ┆ pentagon  ┆   ┆ perimeter ┆           ┆           ┆          │\n",
       "│           ┆ , work    ┆ Capacity  ┆ has a     ┆   ┆ , work    ┆           ┆           ┆          │\n",
       "│           ┆ out …     ┆ Units     ┆ total…    ┆   ┆ out …     ┆           ┆           ┆          │\n",
       "│ 99        ┆ Given the ┆ Volume    ┆ A regular ┆ … ┆ Given the ┆ D         ┆ 99_D      ┆ 255      │\n",
       "│           ┆ perimeter ┆ and       ┆ pentagon  ┆   ┆ perimeter ┆           ┆           ┆          │\n",
       "│           ┆ , work    ┆ Capacity  ┆ has a     ┆   ┆ , work    ┆           ┆           ┆          │\n",
       "│           ┆ out …     ┆ Units     ┆ total…    ┆   ┆ out …     ┆           ┆           ┆          │\n",
       "│ 9         ┆ Identify  ┆ Transform ┆ What tran ┆ … ┆ Identify  ┆ A         ┆ 9_A       ┆ 1889     │\n",
       "│           ┆ horizonta ┆ ations of ┆ sformatio ┆   ┆ horizonta ┆           ┆           ┆          │\n",
       "│           ┆ l transla ┆ functions ┆ n maps    ┆   ┆ l transla ┆           ┆           ┆          │\n",
       "│           ┆ tio…      ┆ i…        ┆ the g…    ┆   ┆ tio…      ┆           ┆           ┆          │\n",
       "│ 9         ┆ Identify  ┆ Transform ┆ What tran ┆ … ┆ Identify  ┆ B         ┆ 9_B       ┆ 1234     │\n",
       "│           ┆ horizonta ┆ ations of ┆ sformatio ┆   ┆ horizonta ┆           ┆           ┆          │\n",
       "│           ┆ l transla ┆ functions ┆ n maps    ┆   ┆ l transla ┆           ┆           ┆          │\n",
       "│           ┆ tio…      ┆ i…        ┆ the g…    ┆   ┆ tio…      ┆           ┆           ┆          │\n",
       "│ 9         ┆ Identify  ┆ Transform ┆ What tran ┆ … ┆ Identify  ┆ D         ┆ 9_D       ┆ 1312     │\n",
       "│           ┆ horizonta ┆ ations of ┆ sformatio ┆   ┆ horizonta ┆           ┆           ┆          │\n",
       "│           ┆ l transla ┆ functions ┆ n maps    ┆   ┆ l transla ┆           ┆           ┆          │\n",
       "│           ┆ tio…      ┆ i…        ┆ the g…    ┆   ┆ tio…      ┆           ┆           ┆          │\n",
       "└───────────┴───────────┴───────────┴───────────┴───┴───────────┴───────────┴───────────┴──────────┘"
      ]
     },
     "execution_count": 22,
     "metadata": {},
     "output_type": "execute_result"
    }
   ],
   "source": [
    "valid_long"
   ]
  },
  {
   "cell_type": "code",
   "execution_count": 23,
   "id": "a92d8541",
   "metadata": {
    "autoscroll": "auto",
    "collapsed": false,
    "execution": {
     "iopub.execute_input": "2024-09-21T02:20:16.630761Z",
     "iopub.status.busy": "2024-09-21T02:20:16.630099Z",
     "iopub.status.idle": "2024-09-21T02:20:20.775511Z",
     "shell.execute_reply": "2024-09-21T02:20:20.774556Z"
    }
   },
   "outputs": [],
   "source": [
    "valid_long_vec = model.encode(\n",
    "    valid_long[\"AllText\"].to_list(), normalize_embeddings=True\n",
    ")\n",
    "misconception_mapping = pl.read_csv(f\"{DATA_PATH}/misconception_mapping.csv\")\n",
    "misconception_mapping_vec = model.encode(\n",
    "    misconception_mapping[\"MisconceptionName\"].to_list(), normalize_embeddings=True\n",
    ")\n",
    "print(valid_long_vec.shape)\n",
    "print(misconception_mapping_vec.shape)"
   ]
  },
  {
   "cell_type": "code",
   "execution_count": 24,
   "id": "6368fe01",
   "metadata": {
    "execution": {
     "iopub.execute_input": "2024-09-21T02:20:20.778478Z",
     "iopub.status.busy": "2024-09-21T02:20:20.778287Z",
     "iopub.status.idle": "2024-09-21T02:20:20.790263Z",
     "shell.execute_reply": "2024-09-21T02:20:20.789083Z"
    }
   },
   "outputs": [],
   "source": [
    "# misconception_mapping_vecを保存する\n",
    "os.makedirs(OUTPUT_PATH, exist_ok=True)\n",
    "np.save(f\"{OUTPUT_PATH}/misconception_mapping_vec.npy\", misconception_mapping_vec)"
   ]
  },
  {
   "cell_type": "code",
   "execution_count": 25,
   "id": "8171be61",
   "metadata": {
    "execution": {
     "iopub.execute_input": "2024-09-21T02:20:20.793067Z",
     "iopub.status.busy": "2024-09-21T02:20:20.792882Z",
     "iopub.status.idle": "2024-09-21T02:20:21.205435Z",
     "shell.execute_reply": "2024-09-21T02:20:21.204303Z"
    },
    "papermill": {
     "duration": 5.023799,
     "end_time": "2024-09-14T01:46:06.422421",
     "exception": false,
     "start_time": "2024-09-14T01:46:01.398622",
     "status": "completed"
    },
    "tags": []
   },
   "outputs": [],
   "source": [
    "valid_cos_sim_arr = cosine_similarity(valid_long_vec, misconception_mapping_vec)\n",
    "valid_sorted_indices = np.argsort(-valid_cos_sim_arr, axis=1)"
   ]
  },
  {
   "cell_type": "code",
   "execution_count": 26,
   "id": "3288a590",
   "metadata": {
    "execution": {
     "iopub.execute_input": "2024-09-21T02:20:21.209649Z",
     "iopub.status.busy": "2024-09-21T02:20:21.209466Z",
     "iopub.status.idle": "2024-09-21T02:20:21.214728Z",
     "shell.execute_reply": "2024-09-21T02:20:21.213834Z"
    },
    "papermill": {
     "duration": 0.025202,
     "end_time": "2024-09-14T01:46:06.496371",
     "exception": false,
     "start_time": "2024-09-14T01:46:06.471169",
     "status": "completed"
    },
    "tags": []
   },
   "outputs": [],
   "source": [
    "# example\n",
    "def print_example(df: pl.DataFrame, sorted_indices: np.ndarray, idx: int) -> None:\n",
    "    print(f\"Query idx{idx}\")\n",
    "    print(df[\"AllText\"][idx])\n",
    "    print(\"\\nCos Sim No.1\")\n",
    "    print(misconception_mapping[\"MisconceptionName\"][int(sorted_indices[idx, 0])])\n",
    "    print(\"\\nCos Sim No.2\")\n",
    "    print(misconception_mapping[\"MisconceptionName\"][int(sorted_indices[idx, 1])])"
   ]
  },
  {
   "cell_type": "code",
   "execution_count": 27,
   "id": "0b85607c",
   "metadata": {
    "autoscroll": "auto",
    "collapsed": false,
    "execution": {
     "iopub.execute_input": "2024-09-21T02:20:21.218049Z",
     "iopub.status.busy": "2024-09-21T02:20:21.217882Z",
     "iopub.status.idle": "2024-09-21T02:20:21.223045Z",
     "shell.execute_reply": "2024-09-21T02:20:21.222307Z"
    }
   },
   "outputs": [],
   "source": [
    "print_example(train_long, valid_sorted_indices, 0)"
   ]
  },
  {
   "cell_type": "code",
   "execution_count": 28,
   "id": "1211ff44",
   "metadata": {
    "autoscroll": "auto",
    "collapsed": false,
    "execution": {
     "iopub.execute_input": "2024-09-21T02:20:21.226791Z",
     "iopub.status.busy": "2024-09-21T02:20:21.226628Z",
     "iopub.status.idle": "2024-09-21T02:20:21.231806Z",
     "shell.execute_reply": "2024-09-21T02:20:21.230677Z"
    },
    "papermill": {
     "duration": 0.022384,
     "end_time": "2024-09-14T01:46:06.530441",
     "exception": false,
     "start_time": "2024-09-14T01:46:06.508057",
     "status": "completed"
    },
    "tags": []
   },
   "outputs": [],
   "source": [
    "print_example(train_long, valid_sorted_indices, 1)"
   ]
  },
  {
   "cell_type": "markdown",
   "id": "7ffe1e2c",
   "metadata": {
    "papermill": {
     "duration": 0.011086,
     "end_time": "2024-09-14T01:46:06.552908",
     "exception": false,
     "start_time": "2024-09-14T01:46:06.541822",
     "status": "completed"
    },
    "tags": []
   },
   "source": [
    "# Evaluate"
   ]
  },
  {
   "cell_type": "code",
   "execution_count": 29,
   "id": "37b5f922",
   "metadata": {
    "execution": {
     "iopub.execute_input": "2024-09-21T02:20:21.235598Z",
     "iopub.status.busy": "2024-09-21T02:20:21.235119Z",
     "iopub.status.idle": "2024-09-21T02:20:21.254735Z",
     "shell.execute_reply": "2024-09-21T02:20:21.253998Z"
    },
    "papermill": {
     "duration": 0.04065,
     "end_time": "2024-09-14T01:46:06.605893",
     "exception": false,
     "start_time": "2024-09-14T01:46:06.565243",
     "status": "completed"
    },
    "tags": []
   },
   "outputs": [],
   "source": [
    "valid_long = valid_long.with_columns(\n",
    "    pl.Series(valid_sorted_indices[:, :RETRIEVE_NUM].tolist()).alias(\n",
    "        \"PredictMisconceptionId\"\n",
    "    )\n",
    ")"
   ]
  },
  {
   "cell_type": "code",
   "execution_count": 30,
   "id": "19b400a0",
   "metadata": {
    "execution": {
     "iopub.execute_input": "2024-09-21T02:20:21.257748Z",
     "iopub.status.busy": "2024-09-21T02:20:21.257589Z",
     "iopub.status.idle": "2024-09-21T02:20:21.261876Z",
     "shell.execute_reply": "2024-09-21T02:20:21.261119Z"
    },
    "papermill": {
     "duration": 0.023321,
     "end_time": "2024-09-14T01:46:06.640719",
     "exception": false,
     "start_time": "2024-09-14T01:46:06.617398",
     "status": "completed"
    },
    "tags": []
   },
   "outputs": [],
   "source": [
    "# https://www.kaggle.com/code/cdeotte/how-to-train-open-book-model-part-1#MAP@3-Metric\n",
    "def map_at_25(predictions, labels):\n",
    "    map_sum = 0\n",
    "    for x, y in zip(predictions, labels):\n",
    "        z = [1 / i if y == j else 0 for i, j in zip(range(1, 26), x)]\n",
    "        map_sum += np.sum(z)\n",
    "    return map_sum / len(predictions)"
   ]
  },
  {
   "cell_type": "code",
   "execution_count": 31,
   "id": "dbd99f42",
   "metadata": {
    "autoscroll": "auto",
    "collapsed": false,
    "execution": {
     "iopub.execute_input": "2024-09-21T02:20:21.265003Z",
     "iopub.status.busy": "2024-09-21T02:20:21.264840Z",
     "iopub.status.idle": "2024-09-21T02:20:21.294761Z",
     "shell.execute_reply": "2024-09-21T02:20:21.294052Z"
    },
    "papermill": {
     "duration": 0.113621,
     "end_time": "2024-09-14T01:46:06.765721",
     "exception": false,
     "start_time": "2024-09-14T01:46:06.652100",
     "status": "completed"
    },
    "tags": []
   },
   "outputs": [
    {
     "data": {
      "text/plain": [
       "0.3372139125562692"
      ]
     },
     "execution_count": 31,
     "metadata": {},
     "output_type": "execute_result"
    }
   ],
   "source": [
    "map_at_25_score = map_at_25(\n",
    "    valid_long.filter(pl.col(\"MisconceptionId\").is_not_null())[\n",
    "        \"PredictMisconceptionId\"\n",
    "    ],\n",
    "    valid_long.filter(pl.col(\"MisconceptionId\").is_not_null())[\"MisconceptionId\"],\n",
    ")\n",
    "map_at_25_score"
   ]
  },
  {
   "cell_type": "code",
   "execution_count": 32,
   "id": "1a66afa0",
   "metadata": {
    "autoscroll": "auto",
    "collapsed": false,
    "execution": {
     "iopub.execute_input": "2024-09-21T02:20:21.297795Z",
     "iopub.status.busy": "2024-09-21T02:20:21.297638Z",
     "iopub.status.idle": "2024-09-21T02:20:21.470738Z",
     "shell.execute_reply": "2024-09-21T02:20:21.469894Z"
    },
    "papermill": {
     "duration": 0.034606,
     "end_time": "2024-09-14T01:46:06.812192",
     "exception": false,
     "start_time": "2024-09-14T01:46:06.777586",
     "status": "completed"
    },
    "tags": []
   },
   "outputs": [
    {
     "data": {
      "text/plain": [
       "0.7945205479452054"
      ]
     },
     "execution_count": 32,
     "metadata": {},
     "output_type": "execute_result"
    }
   ],
   "source": [
    "def recall(predictions, labels):\n",
    "    acc_num = np.sum([1 for x, y in zip(predictions, labels) if y in x])\n",
    "    return acc_num / len(predictions)\n",
    "\n",
    "\n",
    "recall_score = recall(\n",
    "    valid_long.filter(pl.col(\"MisconceptionId\").is_not_null())[\n",
    "        \"PredictMisconceptionId\"\n",
    "    ],\n",
    "    valid_long.filter(pl.col(\"MisconceptionId\").is_not_null())[\"MisconceptionId\"],\n",
    ")\n",
    "recall_score"
   ]
  },
  {
   "cell_type": "code",
   "execution_count": 33,
   "id": "c0988734",
   "metadata": {
    "execution": {
     "iopub.execute_input": "2024-09-21T02:20:21.474135Z",
     "iopub.status.busy": "2024-09-21T02:20:21.473836Z",
     "iopub.status.idle": "2024-09-21T02:20:21.477897Z",
     "shell.execute_reply": "2024-09-21T02:20:21.477073Z"
    }
   },
   "outputs": [],
   "source": [
    "# output_textを保存\n",
    "with open(f\"{OUTPUT_PATH}/cv_score.txt\", \"w\") as f:\n",
    "    f.write(f\"MAP@25:{map_at_25_score:.4f}, Recall:{recall_score:.4f}\")"
   ]
  },
  {
   "cell_type": "markdown",
   "id": "0657bf3d",
   "metadata": {
    "papermill": {
     "duration": 0.011875,
     "end_time": "2024-09-14T01:46:07.146569",
     "exception": false,
     "start_time": "2024-09-14T01:46:07.134694",
     "status": "completed"
    },
    "tags": []
   },
   "source": [
    "# Make Retrieved Train File"
   ]
  },
  {
   "cell_type": "code",
   "execution_count": 34,
   "id": "297ca4b1",
   "metadata": {
    "autoscroll": "auto",
    "collapsed": false,
    "execution": {
     "iopub.execute_input": "2024-09-21T02:20:21.481281Z",
     "iopub.status.busy": "2024-09-21T02:20:21.481118Z",
     "iopub.status.idle": "2024-09-21T02:20:21.494976Z",
     "shell.execute_reply": "2024-09-21T02:20:21.494149Z"
    }
   },
   "outputs": [
    {
     "data": {
      "text/html": [
       "<div><style>\n",
       ".dataframe > thead > tr,\n",
       ".dataframe > tbody > tr {\n",
       "  text-align: right;\n",
       "  white-space: pre-wrap;\n",
       "}\n",
       "</style>\n",
       "<small>shape: (5, 14)</small><table border=\"1\" class=\"dataframe\"><thead><tr><th>QuestionId</th><th>ConstructName</th><th>SubjectName</th><th>QuestionText</th><th>CorrectAnswer</th><th>AnswerType</th><th>AnswerText</th><th>AllText</th><th>AnswerAlphabet</th><th>QuestionId_Answer</th><th>MisconceptionId</th><th>PredictMisconceptionId</th><th>target</th><th>PredictMisconceptionName</th></tr><tr><td>i64</td><td>str</td><td>str</td><td>str</td><td>str</td><td>str</td><td>str</td><td>str</td><td>str</td><td>str</td><td>i64</td><td>i64</td><td>i64</td><td>str</td></tr></thead><tbody><tr><td>0</td><td>&quot;Use the order of operations to…</td><td>&quot;BIDMAS&quot;</td><td>&quot;\\[\n",
       "3 \\times 2+4-5\n",
       "\\]\n",
       "Where do …</td><td>&quot;A&quot;</td><td>&quot;AnswerDText&quot;</td><td>&quot;Does not need brackets&quot;</td><td>&quot;Use the order of operations to…</td><td>&quot;D&quot;</td><td>&quot;0_D&quot;</td><td>1672</td><td>1392</td><td>0</td><td>&quot;Does not include brackets when…</td></tr><tr><td>0</td><td>&quot;Use the order of operations to…</td><td>&quot;BIDMAS&quot;</td><td>&quot;\\[\n",
       "3 \\times 2+4-5\n",
       "\\]\n",
       "Where do …</td><td>&quot;A&quot;</td><td>&quot;AnswerDText&quot;</td><td>&quot;Does not need brackets&quot;</td><td>&quot;Use the order of operations to…</td><td>&quot;D&quot;</td><td>&quot;0_D&quot;</td><td>1672</td><td>315</td><td>0</td><td>&quot;Has not realised that the answ…</td></tr><tr><td>0</td><td>&quot;Use the order of operations to…</td><td>&quot;BIDMAS&quot;</td><td>&quot;\\[\n",
       "3 \\times 2+4-5\n",
       "\\]\n",
       "Where do …</td><td>&quot;A&quot;</td><td>&quot;AnswerDText&quot;</td><td>&quot;Does not need brackets&quot;</td><td>&quot;Use the order of operations to…</td><td>&quot;D&quot;</td><td>&quot;0_D&quot;</td><td>1672</td><td>1084</td><td>0</td><td>&quot;Has removed brackets but not p…</td></tr><tr><td>0</td><td>&quot;Use the order of operations to…</td><td>&quot;BIDMAS&quot;</td><td>&quot;\\[\n",
       "3 \\times 2+4-5\n",
       "\\]\n",
       "Where do …</td><td>&quot;A&quot;</td><td>&quot;AnswerDText&quot;</td><td>&quot;Does not need brackets&quot;</td><td>&quot;Use the order of operations to…</td><td>&quot;D&quot;</td><td>&quot;0_D&quot;</td><td>1672</td><td>1345</td><td>0</td><td>&quot;Inserts brackets but not chang…</td></tr><tr><td>0</td><td>&quot;Use the order of operations to…</td><td>&quot;BIDMAS&quot;</td><td>&quot;\\[\n",
       "3 \\times 2+4-5\n",
       "\\]\n",
       "Where do …</td><td>&quot;A&quot;</td><td>&quot;AnswerDText&quot;</td><td>&quot;Does not need brackets&quot;</td><td>&quot;Use the order of operations to…</td><td>&quot;D&quot;</td><td>&quot;0_D&quot;</td><td>1672</td><td>1005</td><td>0</td><td>&quot;Carries out operations from le…</td></tr></tbody></table></div>"
      ],
      "text/plain": [
       "shape: (5, 14)\n",
       "┌────────────┬────────────┬───────────┬───────────┬───┬───────────┬───────────┬────────┬───────────┐\n",
       "│ QuestionId ┆ ConstructN ┆ SubjectNa ┆ QuestionT ┆ … ┆ Misconcep ┆ PredictMi ┆ target ┆ PredictMi │\n",
       "│ ---        ┆ ame        ┆ me        ┆ ext       ┆   ┆ tionId    ┆ sconcepti ┆ ---    ┆ sconcepti │\n",
       "│ i64        ┆ ---        ┆ ---       ┆ ---       ┆   ┆ ---       ┆ onId      ┆ i64    ┆ onName    │\n",
       "│            ┆ str        ┆ str       ┆ str       ┆   ┆ i64       ┆ ---       ┆        ┆ ---       │\n",
       "│            ┆            ┆           ┆           ┆   ┆           ┆ i64       ┆        ┆ str       │\n",
       "╞════════════╪════════════╪═══════════╪═══════════╪═══╪═══════════╪═══════════╪════════╪═══════════╡\n",
       "│ 0          ┆ Use the    ┆ BIDMAS    ┆ \\[        ┆ … ┆ 1672      ┆ 1392      ┆ 0      ┆ Does not  │\n",
       "│            ┆ order of   ┆           ┆ 3 \\times  ┆   ┆           ┆           ┆        ┆ include   │\n",
       "│            ┆ operations ┆           ┆ 2+4-5     ┆   ┆           ┆           ┆        ┆ brackets  │\n",
       "│            ┆ to…        ┆           ┆ \\]        ┆   ┆           ┆           ┆        ┆ when…     │\n",
       "│            ┆            ┆           ┆ Where do  ┆   ┆           ┆           ┆        ┆           │\n",
       "│            ┆            ┆           ┆ …         ┆   ┆           ┆           ┆        ┆           │\n",
       "│ 0          ┆ Use the    ┆ BIDMAS    ┆ \\[        ┆ … ┆ 1672      ┆ 315       ┆ 0      ┆ Has not   │\n",
       "│            ┆ order of   ┆           ┆ 3 \\times  ┆   ┆           ┆           ┆        ┆ realised  │\n",
       "│            ┆ operations ┆           ┆ 2+4-5     ┆   ┆           ┆           ┆        ┆ that the  │\n",
       "│            ┆ to…        ┆           ┆ \\]        ┆   ┆           ┆           ┆        ┆ answ…     │\n",
       "│            ┆            ┆           ┆ Where do  ┆   ┆           ┆           ┆        ┆           │\n",
       "│            ┆            ┆           ┆ …         ┆   ┆           ┆           ┆        ┆           │\n",
       "│ 0          ┆ Use the    ┆ BIDMAS    ┆ \\[        ┆ … ┆ 1672      ┆ 1084      ┆ 0      ┆ Has       │\n",
       "│            ┆ order of   ┆           ┆ 3 \\times  ┆   ┆           ┆           ┆        ┆ removed   │\n",
       "│            ┆ operations ┆           ┆ 2+4-5     ┆   ┆           ┆           ┆        ┆ brackets  │\n",
       "│            ┆ to…        ┆           ┆ \\]        ┆   ┆           ┆           ┆        ┆ but not   │\n",
       "│            ┆            ┆           ┆ Where do  ┆   ┆           ┆           ┆        ┆ p…        │\n",
       "│            ┆            ┆           ┆ …         ┆   ┆           ┆           ┆        ┆           │\n",
       "│ 0          ┆ Use the    ┆ BIDMAS    ┆ \\[        ┆ … ┆ 1672      ┆ 1345      ┆ 0      ┆ Inserts   │\n",
       "│            ┆ order of   ┆           ┆ 3 \\times  ┆   ┆           ┆           ┆        ┆ brackets  │\n",
       "│            ┆ operations ┆           ┆ 2+4-5     ┆   ┆           ┆           ┆        ┆ but not   │\n",
       "│            ┆ to…        ┆           ┆ \\]        ┆   ┆           ┆           ┆        ┆ chang…    │\n",
       "│            ┆            ┆           ┆ Where do  ┆   ┆           ┆           ┆        ┆           │\n",
       "│            ┆            ┆           ┆ …         ┆   ┆           ┆           ┆        ┆           │\n",
       "│ 0          ┆ Use the    ┆ BIDMAS    ┆ \\[        ┆ … ┆ 1672      ┆ 1005      ┆ 0      ┆ Carries   │\n",
       "│            ┆ order of   ┆           ┆ 3 \\times  ┆   ┆           ┆           ┆        ┆ out opera │\n",
       "│            ┆ operations ┆           ┆ 2+4-5     ┆   ┆           ┆           ┆        ┆ tions     │\n",
       "│            ┆ to…        ┆           ┆ \\]        ┆   ┆           ┆           ┆        ┆ from le…  │\n",
       "│            ┆            ┆           ┆ Where do  ┆   ┆           ┆           ┆        ┆           │\n",
       "│            ┆            ┆           ┆ …         ┆   ┆           ┆           ┆        ┆           │\n",
       "└────────────┴────────────┴───────────┴───────────┴───┴───────────┴───────────┴────────┴───────────┘"
      ]
     },
     "execution_count": 34,
     "metadata": {},
     "output_type": "execute_result"
    }
   ],
   "source": [
    "valid_retrieved = (\n",
    "    valid_long.filter(pl.col(\"MisconceptionId\").is_not_null())\n",
    "    .explode(\"PredictMisconceptionId\")\n",
    "    .with_columns(\n",
    "        (pl.col(\"MisconceptionId\") == pl.col(\"PredictMisconceptionId\"))\n",
    "        .cast(pl.Int64)\n",
    "        .alias(\"target\")\n",
    "    )\n",
    "    .join(\n",
    "        misconception_mapping.rename(lambda x: \"Predict\" + x),\n",
    "        on=\"PredictMisconceptionId\",\n",
    "    )\n",
    ")\n",
    "valid_retrieved.head()"
   ]
  },
  {
   "cell_type": "code",
   "execution_count": 35,
   "id": "5fdd7ac6",
   "metadata": {
    "execution": {
     "iopub.execute_input": "2024-09-21T02:20:21.498008Z",
     "iopub.status.busy": "2024-09-21T02:20:21.497845Z",
     "iopub.status.idle": "2024-09-21T02:20:21.520771Z",
     "shell.execute_reply": "2024-09-21T02:20:21.519727Z"
    }
   },
   "outputs": [],
   "source": [
    "valid_retrieved.write_csv(\n",
    "    f\"{OUTPUT_PATH}/{EXP_NAME}-valid-ret{RETRIEVE_NUM}-map{map_at_25_score:.4f}-recall{recall_score:.4f}.csv\",\n",
    ")"
   ]
  },
  {
   "cell_type": "code",
   "execution_count": 36,
   "id": "0f7d6dcf",
   "metadata": {
    "execution": {
     "iopub.execute_input": "2024-09-21T02:20:21.524152Z",
     "iopub.status.busy": "2024-09-21T02:20:21.523966Z",
     "iopub.status.idle": "2024-09-21T02:20:21.528820Z",
     "shell.execute_reply": "2024-09-21T02:20:21.528098Z"
    }
   },
   "outputs": [],
   "source": [
    "print(\n",
    "    f\"{OUTPUT_PATH}/{EXP_NAME}-valid-ret{RETRIEVE_NUM}-map{map_at_25_score:.4f}-recall{recall_score:.4f}.csv\",\n",
    ")"
   ]
  },
  {
   "cell_type": "markdown",
   "id": "ffaa7596",
   "metadata": {},
   "source": [
    "# Kaggle Upload"
   ]
  },
  {
   "cell_type": "code",
   "execution_count": 37,
   "id": "f368627a",
   "metadata": {
    "execution": {
     "iopub.execute_input": "2024-09-21T02:20:21.532490Z",
     "iopub.status.busy": "2024-09-21T02:20:21.531840Z",
     "iopub.status.idle": "2024-09-21T02:24:58.672013Z",
     "shell.execute_reply": "2024-09-21T02:24:58.670261Z"
    }
   },
   "outputs": [],
   "source": [
    "import os\n",
    "import json\n",
    "\n",
    "from kaggle.api.kaggle_api_extended import KaggleApi\n",
    "\n",
    "\n",
    "def dataset_create_new(dataset_name: str, upload_dir: str):\n",
    "    # if \"_\" in dataset_name:\n",
    "    #     raise ValueError(\"datasetの名称に_の使用は禁止です\")\n",
    "    dataset_metadata = {}\n",
    "    dataset_metadata[\"id\"] = f\"sinchir0/{dataset_name}\"\n",
    "    dataset_metadata[\"licenses\"] = [{\"name\": \"CC0-1.0\"}]\n",
    "    dataset_metadata[\"title\"] = dataset_name\n",
    "    with open(os.path.join(upload_dir, \"dataset-metadata.json\"), \"w\") as f:\n",
    "        json.dump(dataset_metadata, f, indent=4)\n",
    "    api = KaggleApi()\n",
    "    api.authenticate()\n",
    "    api.dataset_create_new(folder=upload_dir, convert_to_csv=False, dir_mode=\"tar\")\n",
    "\n",
    "\n",
    "print(f\"Create Dataset name:{DATASET_NAME}, output_dir:{OUTPUT_PATH}\")\n",
    "dataset_create_new(dataset_name=DATASET_NAME, upload_dir=OUTPUT_PATH)"
   ]
  },
  {
   "cell_type": "code",
   "execution_count": null,
   "id": "20375e8b",
   "metadata": {},
   "outputs": [],
   "source": []
  }
 ],
 "metadata": {
  "kaggle": {
   "accelerator": "none",
   "dataSources": [
    {
     "databundleVersionId": 9551816,
     "sourceId": 82695,
     "sourceType": "competition"
    }
   ],
   "dockerImageVersionId": 30761,
   "isGpuEnabled": false,
   "isInternetEnabled": false,
   "language": "python",
   "sourceType": "notebook"
  },
  "kernelspec": {
   "display_name": "base",
   "language": "python",
   "name": "python3"
  },
  "language_info": {
   "codemirror_mode": {
    "name": "ipython",
    "version": 3
   },
   "file_extension": ".py",
   "mimetype": "text/x-python",
   "name": "python",
   "nbconvert_exporter": "python",
   "pygments_lexer": "ipython3",
   "version": "3.10.14"
  },
  "papermill": {
   "default_parameters": {},
   "duration": 14.614286,
   "end_time": "2024-09-14T01:46:08.075104",
   "environment_variables": {},
   "exception": null,
   "input_path": "__notebook__.ipynb",
   "output_path": "__notebook__.ipynb",
   "parameters": {},
   "start_time": "2024-09-14T01:45:53.460818",
   "version": "2.6.0"
  },
  "widgets": {
   "application/vnd.jupyter.widget-state+json": {
    "state": {
     "0ae09f3378a44253ba3a19f1fd9f543a": {
      "model_module": "@jupyter-widgets/controls",
      "model_module_version": "2.0.0",
      "model_name": "HBoxModel",
      "state": {
       "_dom_classes": [],
       "_model_module": "@jupyter-widgets/controls",
       "_model_module_version": "2.0.0",
       "_model_name": "HBoxModel",
       "_view_count": null,
       "_view_module": "@jupyter-widgets/controls",
       "_view_module_version": "2.0.0",
       "_view_name": "HBoxView",
       "box_style": "",
       "children": [
        "IPY_MODEL_db8fb14deddd4cca9f35d13bfc8db39a",
        "IPY_MODEL_72cbd2600eeb47aaa2c59e56764fb9e6",
        "IPY_MODEL_e3d29b01cddf43ea815810289a5928aa"
       ],
       "layout": "IPY_MODEL_771f55b8928545f8aa75d19f95c9c363",
       "tabbable": null,
       "tooltip": null
      }
     },
     "5a24dde4c9f449a2987c6b2c58d8ccfe": {
      "model_module": "@jupyter-widgets/base",
      "model_module_version": "2.0.0",
      "model_name": "LayoutModel",
      "state": {
       "_model_module": "@jupyter-widgets/base",
       "_model_module_version": "2.0.0",
       "_model_name": "LayoutModel",
       "_view_count": null,
       "_view_module": "@jupyter-widgets/base",
       "_view_module_version": "2.0.0",
       "_view_name": "LayoutView",
       "align_content": null,
       "align_items": null,
       "align_self": null,
       "border_bottom": null,
       "border_left": null,
       "border_right": null,
       "border_top": null,
       "bottom": null,
       "display": null,
       "flex": null,
       "flex_flow": null,
       "grid_area": null,
       "grid_auto_columns": null,
       "grid_auto_flow": null,
       "grid_auto_rows": null,
       "grid_column": null,
       "grid_gap": null,
       "grid_row": null,
       "grid_template_areas": null,
       "grid_template_columns": null,
       "grid_template_rows": null,
       "height": null,
       "justify_content": null,
       "justify_items": null,
       "left": null,
       "margin": null,
       "max_height": null,
       "max_width": null,
       "min_height": null,
       "min_width": null,
       "object_fit": null,
       "object_position": null,
       "order": null,
       "overflow": null,
       "padding": null,
       "right": null,
       "top": null,
       "visibility": null,
       "width": null
      }
     },
     "6a46c01627db44159dd17dcce10fef8f": {
      "model_module": "@jupyter-widgets/controls",
      "model_module_version": "2.0.0",
      "model_name": "HTMLStyleModel",
      "state": {
       "_model_module": "@jupyter-widgets/controls",
       "_model_module_version": "2.0.0",
       "_model_name": "HTMLStyleModel",
       "_view_count": null,
       "_view_module": "@jupyter-widgets/base",
       "_view_module_version": "2.0.0",
       "_view_name": "StyleView",
       "background": null,
       "description_width": "",
       "font_size": null,
       "text_color": null
      }
     },
     "72cbd2600eeb47aaa2c59e56764fb9e6": {
      "model_module": "@jupyter-widgets/controls",
      "model_module_version": "2.0.0",
      "model_name": "FloatProgressModel",
      "state": {
       "_dom_classes": [],
       "_model_module": "@jupyter-widgets/controls",
       "_model_module_version": "2.0.0",
       "_model_name": "FloatProgressModel",
       "_view_count": null,
       "_view_module": "@jupyter-widgets/controls",
       "_view_module_version": "2.0.0",
       "_view_name": "ProgressView",
       "bar_style": "",
       "description": "",
       "description_allow_html": false,
       "layout": "IPY_MODEL_5a24dde4c9f449a2987c6b2c58d8ccfe",
       "max": 1,
       "min": 0,
       "orientation": "horizontal",
       "style": "IPY_MODEL_a18b0ab5a4234cb398d6e4aa488c91d6",
       "tabbable": null,
       "tooltip": null,
       "value": 1
      }
     },
     "771f55b8928545f8aa75d19f95c9c363": {
      "model_module": "@jupyter-widgets/base",
      "model_module_version": "2.0.0",
      "model_name": "LayoutModel",
      "state": {
       "_model_module": "@jupyter-widgets/base",
       "_model_module_version": "2.0.0",
       "_model_name": "LayoutModel",
       "_view_count": null,
       "_view_module": "@jupyter-widgets/base",
       "_view_module_version": "2.0.0",
       "_view_name": "LayoutView",
       "align_content": null,
       "align_items": null,
       "align_self": null,
       "border_bottom": null,
       "border_left": null,
       "border_right": null,
       "border_top": null,
       "bottom": null,
       "display": null,
       "flex": null,
       "flex_flow": null,
       "grid_area": null,
       "grid_auto_columns": null,
       "grid_auto_flow": null,
       "grid_auto_rows": null,
       "grid_column": null,
       "grid_gap": null,
       "grid_row": null,
       "grid_template_areas": null,
       "grid_template_columns": null,
       "grid_template_rows": null,
       "height": null,
       "justify_content": null,
       "justify_items": null,
       "left": null,
       "margin": null,
       "max_height": null,
       "max_width": null,
       "min_height": null,
       "min_width": null,
       "object_fit": null,
       "object_position": null,
       "order": null,
       "overflow": null,
       "padding": null,
       "right": null,
       "top": null,
       "visibility": "hidden",
       "width": null
      }
     },
     "7bb429645de5483f964d0b1f92b62dde": {
      "model_module": "@jupyter-widgets/base",
      "model_module_version": "2.0.0",
      "model_name": "LayoutModel",
      "state": {
       "_model_module": "@jupyter-widgets/base",
       "_model_module_version": "2.0.0",
       "_model_name": "LayoutModel",
       "_view_count": null,
       "_view_module": "@jupyter-widgets/base",
       "_view_module_version": "2.0.0",
       "_view_name": "LayoutView",
       "align_content": null,
       "align_items": null,
       "align_self": null,
       "border_bottom": null,
       "border_left": null,
       "border_right": null,
       "border_top": null,
       "bottom": null,
       "display": null,
       "flex": null,
       "flex_flow": null,
       "grid_area": null,
       "grid_auto_columns": null,
       "grid_auto_flow": null,
       "grid_auto_rows": null,
       "grid_column": null,
       "grid_gap": null,
       "grid_row": null,
       "grid_template_areas": null,
       "grid_template_columns": null,
       "grid_template_rows": null,
       "height": null,
       "justify_content": null,
       "justify_items": null,
       "left": null,
       "margin": null,
       "max_height": null,
       "max_width": null,
       "min_height": null,
       "min_width": null,
       "object_fit": null,
       "object_position": null,
       "order": null,
       "overflow": null,
       "padding": null,
       "right": null,
       "top": null,
       "visibility": null,
       "width": null
      }
     },
     "990228de462e47c58a83e771485afc15": {
      "model_module": "@jupyter-widgets/base",
      "model_module_version": "2.0.0",
      "model_name": "LayoutModel",
      "state": {
       "_model_module": "@jupyter-widgets/base",
       "_model_module_version": "2.0.0",
       "_model_name": "LayoutModel",
       "_view_count": null,
       "_view_module": "@jupyter-widgets/base",
       "_view_module_version": "2.0.0",
       "_view_name": "LayoutView",
       "align_content": null,
       "align_items": null,
       "align_self": null,
       "border_bottom": null,
       "border_left": null,
       "border_right": null,
       "border_top": null,
       "bottom": null,
       "display": null,
       "flex": null,
       "flex_flow": null,
       "grid_area": null,
       "grid_auto_columns": null,
       "grid_auto_flow": null,
       "grid_auto_rows": null,
       "grid_column": null,
       "grid_gap": null,
       "grid_row": null,
       "grid_template_areas": null,
       "grid_template_columns": null,
       "grid_template_rows": null,
       "height": null,
       "justify_content": null,
       "justify_items": null,
       "left": null,
       "margin": null,
       "max_height": null,
       "max_width": null,
       "min_height": null,
       "min_width": null,
       "object_fit": null,
       "object_position": null,
       "order": null,
       "overflow": null,
       "padding": null,
       "right": null,
       "top": null,
       "visibility": null,
       "width": null
      }
     },
     "a18b0ab5a4234cb398d6e4aa488c91d6": {
      "model_module": "@jupyter-widgets/controls",
      "model_module_version": "2.0.0",
      "model_name": "ProgressStyleModel",
      "state": {
       "_model_module": "@jupyter-widgets/controls",
       "_model_module_version": "2.0.0",
       "_model_name": "ProgressStyleModel",
       "_view_count": null,
       "_view_module": "@jupyter-widgets/base",
       "_view_module_version": "2.0.0",
       "_view_name": "StyleView",
       "bar_color": null,
       "description_width": ""
      }
     },
     "db8fb14deddd4cca9f35d13bfc8db39a": {
      "model_module": "@jupyter-widgets/controls",
      "model_module_version": "2.0.0",
      "model_name": "HTMLModel",
      "state": {
       "_dom_classes": [],
       "_model_module": "@jupyter-widgets/controls",
       "_model_module_version": "2.0.0",
       "_model_name": "HTMLModel",
       "_view_count": null,
       "_view_module": "@jupyter-widgets/controls",
       "_view_module_version": "2.0.0",
       "_view_name": "HTMLView",
       "description": "",
       "description_allow_html": false,
       "layout": "IPY_MODEL_7bb429645de5483f964d0b1f92b62dde",
       "placeholder": "​",
       "style": "IPY_MODEL_f0c48e7e78214613923b9ce0ae17f5eb",
       "tabbable": null,
       "tooltip": null,
       "value": "Computing widget examples:   0%"
      }
     },
     "e3d29b01cddf43ea815810289a5928aa": {
      "model_module": "@jupyter-widgets/controls",
      "model_module_version": "2.0.0",
      "model_name": "HTMLModel",
      "state": {
       "_dom_classes": [],
       "_model_module": "@jupyter-widgets/controls",
       "_model_module_version": "2.0.0",
       "_model_name": "HTMLModel",
       "_view_count": null,
       "_view_module": "@jupyter-widgets/controls",
       "_view_module_version": "2.0.0",
       "_view_name": "HTMLView",
       "description": "",
       "description_allow_html": false,
       "layout": "IPY_MODEL_990228de462e47c58a83e771485afc15",
       "placeholder": "​",
       "style": "IPY_MODEL_6a46c01627db44159dd17dcce10fef8f",
       "tabbable": null,
       "tooltip": null,
       "value": " 0/1 [00:00&lt;?, ?example/s]"
      }
     },
     "f0c48e7e78214613923b9ce0ae17f5eb": {
      "model_module": "@jupyter-widgets/controls",
      "model_module_version": "2.0.0",
      "model_name": "HTMLStyleModel",
      "state": {
       "_model_module": "@jupyter-widgets/controls",
       "_model_module_version": "2.0.0",
       "_model_name": "HTMLStyleModel",
       "_view_count": null,
       "_view_module": "@jupyter-widgets/base",
       "_view_module_version": "2.0.0",
       "_view_name": "StyleView",
       "background": null,
       "description_width": "",
       "font_size": null,
       "text_color": null
      }
     }
    },
    "version_major": 2,
    "version_minor": 0
   }
  }
 },
 "nbformat": 4,
 "nbformat_minor": 5
}
