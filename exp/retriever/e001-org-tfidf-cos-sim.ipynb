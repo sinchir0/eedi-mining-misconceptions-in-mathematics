{
 "cells": [
  {
   "cell_type": "markdown",
   "id": "71acc131",
   "metadata": {
    "papermill": {
     "duration": 0.011532,
     "end_time": "2024-09-14T01:45:57.074016",
     "exception": false,
     "start_time": "2024-09-14T01:45:57.062484",
     "status": "completed"
    },
    "tags": []
   },
   "source": [
    "# Overview\n",
    "In this notebook, `ConstructName` + `SubjectName` + `QuestionText` and `Answer[A-D]Text` are vectorized using TFIDF, and those with high cosine similarity are submitted as inference results.\n",
    "\n",
    "- MAP@25: 0.1378\n",
    "- recall: 0.4530\n",
    "\n",
    "Please let me know if there are any mistakes."
   ]
  },
  {
   "cell_type": "markdown",
   "id": "82cc8a91",
   "metadata": {},
   "source": [
    "# Setting"
   ]
  },
  {
   "cell_type": "code",
   "execution_count": 3,
   "id": "6c063a5a",
   "metadata": {},
   "outputs": [],
   "source": [
    "DATA_PATH = \"../../data\"\n",
    "OUTPUT_PATH = \"../../retrieved_data\""
   ]
  },
  {
   "cell_type": "markdown",
   "id": "27e26266",
   "metadata": {
    "papermill": {
     "duration": 0.010544,
     "end_time": "2024-09-14T01:45:57.095623",
     "exception": false,
     "start_time": "2024-09-14T01:45:57.085079",
     "status": "completed"
    },
    "tags": []
   },
   "source": [
    "# Import"
   ]
  },
  {
   "cell_type": "code",
   "execution_count": 4,
   "id": "e5c0dbcc",
   "metadata": {
    "_cell_guid": "b1076dfc-b9ad-4769-8c92-a6c4dae69d19",
    "_uuid": "8f2839f25d086af736a60e9eeb907d3b93b6e0e5",
    "execution": {
     "iopub.execute_input": "2024-09-14T01:45:57.119081Z",
     "iopub.status.busy": "2024-09-14T01:45:57.118643Z",
     "iopub.status.idle": "2024-09-14T01:45:59.534275Z",
     "shell.execute_reply": "2024-09-14T01:45:59.532994Z"
    },
    "papermill": {
     "duration": 2.430721,
     "end_time": "2024-09-14T01:45:59.537229",
     "exception": false,
     "start_time": "2024-09-14T01:45:57.106508",
     "status": "completed"
    },
    "tags": []
   },
   "outputs": [],
   "source": [
    "import pandas as pd\n",
    "import numpy as np\n",
    "\n",
    "from sklearn.feature_extraction.text import TfidfVectorizer\n",
    "from sklearn.metrics.pairwise import cosine_similarity"
   ]
  },
  {
   "cell_type": "markdown",
   "id": "5a32e060",
   "metadata": {
    "papermill": {
     "duration": 0.011076,
     "end_time": "2024-09-14T01:45:59.559566",
     "exception": false,
     "start_time": "2024-09-14T01:45:59.548490",
     "status": "completed"
    },
    "tags": []
   },
   "source": [
    "# Data Load"
   ]
  },
  {
   "cell_type": "code",
   "execution_count": 5,
   "id": "3958cd14",
   "metadata": {
    "execution": {
     "iopub.execute_input": "2024-09-14T01:45:59.584553Z",
     "iopub.status.busy": "2024-09-14T01:45:59.583242Z",
     "iopub.status.idle": "2024-09-14T01:45:59.655219Z",
     "shell.execute_reply": "2024-09-14T01:45:59.653998Z"
    },
    "papermill": {
     "duration": 0.087244,
     "end_time": "2024-09-14T01:45:59.658201",
     "exception": false,
     "start_time": "2024-09-14T01:45:59.570957",
     "status": "completed"
    },
    "tags": []
   },
   "outputs": [],
   "source": [
    "train = pd.read_csv(f\"{DATA_PATH}/train.csv\")\n",
    "test = pd.read_csv(f\"{DATA_PATH}/test.csv\")\n",
    "\n",
    "misconception_mapping = pd.read_csv(f\"{DATA_PATH}/misconception_mapping.csv\")\n",
    "sample_submission = pd.read_csv(f\"{DATA_PATH}/sample_submission.csv\")"
   ]
  },
  {
   "cell_type": "markdown",
   "id": "c6c21264",
   "metadata": {
    "papermill": {
     "duration": 0.010552,
     "end_time": "2024-09-14T01:45:59.679936",
     "exception": false,
     "start_time": "2024-09-14T01:45:59.669384",
     "status": "completed"
    },
    "tags": []
   },
   "source": [
    "# Preprocess"
   ]
  },
  {
   "cell_type": "code",
   "execution_count": 6,
   "id": "fd791059",
   "metadata": {
    "execution": {
     "iopub.execute_input": "2024-09-14T01:45:59.704032Z",
     "iopub.status.busy": "2024-09-14T01:45:59.703588Z",
     "iopub.status.idle": "2024-09-14T01:45:59.720708Z",
     "shell.execute_reply": "2024-09-14T01:45:59.719138Z"
    },
    "papermill": {
     "duration": 0.032362,
     "end_time": "2024-09-14T01:45:59.723618",
     "exception": false,
     "start_time": "2024-09-14T01:45:59.691256",
     "status": "completed"
    },
    "tags": []
   },
   "outputs": [],
   "source": [
    "def make_all_question_text(df: pd.DataFrame) -> pd.DataFrame:\n",
    "    df[\"AllQuestionText\"] = (\n",
    "        df[\"ConstructName\"] + \" \" + df[\"SubjectName\"] + \" \" + df[\"QuestionText\"]\n",
    "    )\n",
    "    return df\n",
    "\n",
    "\n",
    "train = make_all_question_text(train)\n",
    "test = make_all_question_text(test)"
   ]
  },
  {
   "cell_type": "code",
   "execution_count": 7,
   "id": "8b785134",
   "metadata": {
    "execution": {
     "iopub.execute_input": "2024-09-14T01:45:59.748361Z",
     "iopub.status.busy": "2024-09-14T01:45:59.747260Z",
     "iopub.status.idle": "2024-09-14T01:45:59.783052Z",
     "shell.execute_reply": "2024-09-14T01:45:59.781736Z"
    },
    "papermill": {
     "duration": 0.051291,
     "end_time": "2024-09-14T01:45:59.785946",
     "exception": false,
     "start_time": "2024-09-14T01:45:59.734655",
     "status": "completed"
    },
    "tags": []
   },
   "outputs": [],
   "source": [
    "from typing import Literal\n",
    "\n",
    "\n",
    "def wide_to_long(\n",
    "    df: pd.DataFrame, col: Literal[\"AnswerText\", \"MisconceptionId\"]\n",
    ") -> pd.DataFrame:\n",
    "    if col == \"AnswerText\":\n",
    "        add_col = [f\"Answer{alpha}Text\" for alpha in [\"A\", \"B\", \"C\", \"D\"]]\n",
    "        var_name = \"AnswerType\"\n",
    "    elif col == \"MisconceptionId\":\n",
    "        add_col = [f\"Misconception{alpha}Id\" for alpha in [\"A\", \"B\", \"C\", \"D\"]]\n",
    "        var_name = \"MisconceptionType\"\n",
    "    else:\n",
    "        raise Exception\n",
    "\n",
    "    return pd.melt(\n",
    "        df[[\"QuestionId\", \"AllQuestionText\", \"CorrectAnswer\"] + add_col],\n",
    "        id_vars=[\"QuestionId\", \"AllQuestionText\", \"CorrectAnswer\"],\n",
    "        var_name=var_name,\n",
    "        value_name=col,\n",
    "    )\n",
    "\n",
    "\n",
    "train_long = wide_to_long(train, col=\"AnswerText\")\n",
    "test_long = wide_to_long(test, col=\"AnswerText\")\n",
    "\n",
    "train_long_mis = wide_to_long(train, col=\"MisconceptionId\")"
   ]
  },
  {
   "cell_type": "code",
   "execution_count": 8,
   "id": "1065f2c2",
   "metadata": {
    "execution": {
     "iopub.execute_input": "2024-09-14T01:45:59.810532Z",
     "iopub.status.busy": "2024-09-14T01:45:59.809319Z",
     "iopub.status.idle": "2024-09-14T01:45:59.940814Z",
     "shell.execute_reply": "2024-09-14T01:45:59.939657Z"
    },
    "papermill": {
     "duration": 0.146917,
     "end_time": "2024-09-14T01:45:59.943822",
     "exception": false,
     "start_time": "2024-09-14T01:45:59.796905",
     "status": "completed"
    },
    "tags": []
   },
   "outputs": [],
   "source": [
    "train_long[\"AnswerAlphabet\"] = train_long[\"AnswerType\"].str.extract(\n",
    "    r\"Answer([A-Z])Text$\"\n",
    ")\n",
    "test_long[\"AnswerAlphabet\"] = test_long[\"AnswerType\"].str.extract(r\"Answer([A-Z])Text$\")\n",
    "\n",
    "train_long_mis[\"MisconceptionAlphabet\"] = train_long_mis[\n",
    "    \"MisconceptionType\"\n",
    "].str.extract(r\"Misconception([A-Z])Id$\")"
   ]
  },
  {
   "cell_type": "code",
   "execution_count": 9,
   "id": "1f5668c7",
   "metadata": {
    "execution": {
     "iopub.execute_input": "2024-09-14T01:45:59.969481Z",
     "iopub.status.busy": "2024-09-14T01:45:59.969015Z",
     "iopub.status.idle": "2024-09-14T01:45:59.993123Z",
     "shell.execute_reply": "2024-09-14T01:45:59.991975Z"
    },
    "papermill": {
     "duration": 0.03973,
     "end_time": "2024-09-14T01:45:59.996350",
     "exception": false,
     "start_time": "2024-09-14T01:45:59.956620",
     "status": "completed"
    },
    "tags": []
   },
   "outputs": [],
   "source": [
    "train_long = pd.merge(\n",
    "    train_long,\n",
    "    train_long_mis[[\"QuestionId\", \"MisconceptionId\", \"MisconceptionAlphabet\"]],\n",
    "    left_on=[\"QuestionId\", \"AnswerAlphabet\"],\n",
    "    right_on=[\"QuestionId\", \"MisconceptionAlphabet\"],\n",
    ")"
   ]
  },
  {
   "cell_type": "code",
   "execution_count": 10,
   "id": "7ebf4dd0",
   "metadata": {
    "execution": {
     "iopub.execute_input": "2024-09-14T01:46:00.021307Z",
     "iopub.status.busy": "2024-09-14T01:46:00.020699Z",
     "iopub.status.idle": "2024-09-14T01:46:00.038449Z",
     "shell.execute_reply": "2024-09-14T01:46:00.037170Z"
    },
    "papermill": {
     "duration": 0.033661,
     "end_time": "2024-09-14T01:46:00.041555",
     "exception": false,
     "start_time": "2024-09-14T01:46:00.007894",
     "status": "completed"
    },
    "tags": []
   },
   "outputs": [],
   "source": [
    "def make_all_text(df: pd.DataFrame) -> pd.DataFrame:\n",
    "    df[\"AllText\"] = df[\"AllQuestionText\"] + \" \" + df[\"AnswerText\"]\n",
    "    return df\n",
    "\n",
    "\n",
    "train_long = make_all_text(train_long)\n",
    "test_long = make_all_text(test_long)"
   ]
  },
  {
   "cell_type": "code",
   "execution_count": 11,
   "id": "e8b6ac08",
   "metadata": {
    "execution": {
     "iopub.execute_input": "2024-09-14T01:46:00.066658Z",
     "iopub.status.busy": "2024-09-14T01:46:00.066177Z",
     "iopub.status.idle": "2024-09-14T01:46:00.084910Z",
     "shell.execute_reply": "2024-09-14T01:46:00.083800Z"
    },
    "papermill": {
     "duration": 0.035128,
     "end_time": "2024-09-14T01:46:00.087739",
     "exception": false,
     "start_time": "2024-09-14T01:46:00.052611",
     "status": "completed"
    },
    "tags": []
   },
   "outputs": [],
   "source": [
    "# sort\n",
    "train_long = train_long.sort_values([\"QuestionId\", \"AnswerType\"]).reset_index(drop=True)\n",
    "test_long = test_long.sort_values([\"QuestionId\", \"AnswerType\"]).reset_index(drop=True)"
   ]
  },
  {
   "cell_type": "markdown",
   "id": "26d11def",
   "metadata": {
    "papermill": {
     "duration": 0.010829,
     "end_time": "2024-09-14T01:46:00.109663",
     "exception": false,
     "start_time": "2024-09-14T01:46:00.098834",
     "status": "completed"
    },
    "tags": []
   },
   "source": [
    "# Train tfidf"
   ]
  },
  {
   "cell_type": "code",
   "execution_count": 12,
   "id": "bb34e27b",
   "metadata": {
    "execution": {
     "iopub.execute_input": "2024-09-14T01:46:00.133900Z",
     "iopub.status.busy": "2024-09-14T01:46:00.133378Z",
     "iopub.status.idle": "2024-09-14T01:46:00.628494Z",
     "shell.execute_reply": "2024-09-14T01:46:00.627364Z"
    },
    "papermill": {
     "duration": 0.510358,
     "end_time": "2024-09-14T01:46:00.631304",
     "exception": false,
     "start_time": "2024-09-14T01:46:00.120946",
     "status": "completed"
    },
    "tags": []
   },
   "outputs": [],
   "source": [
    "vectorizer = TfidfVectorizer()\n",
    "tfidf_matrix = vectorizer.fit_transform(\n",
    "    pd.concat([train_long[\"AllText\"], misconception_mapping[\"MisconceptionName\"]])\n",
    ")"
   ]
  },
  {
   "cell_type": "code",
   "execution_count": 13,
   "id": "fd2a1d9c",
   "metadata": {
    "execution": {
     "iopub.execute_input": "2024-09-14T01:46:00.656101Z",
     "iopub.status.busy": "2024-09-14T01:46:00.654921Z",
     "iopub.status.idle": "2024-09-14T01:46:01.379382Z",
     "shell.execute_reply": "2024-09-14T01:46:01.377502Z"
    },
    "papermill": {
     "duration": 0.74008,
     "end_time": "2024-09-14T01:46:01.382606",
     "exception": false,
     "start_time": "2024-09-14T01:46:00.642526",
     "status": "completed"
    },
    "tags": []
   },
   "outputs": [
    {
     "name": "stdout",
     "output_type": "stream",
     "text": [
      "(7476, 3564)\n",
      "(2587, 3564)\n"
     ]
    }
   ],
   "source": [
    "train_long_vec = tfidf_matrix.toarray()[: len(train_long)]\n",
    "misconception_mapping_vec = tfidf_matrix.toarray()[len(train_long) :]\n",
    "\n",
    "print(train_long_vec.shape)\n",
    "print(misconception_mapping_vec.shape)"
   ]
  },
  {
   "cell_type": "code",
   "execution_count": 14,
   "id": "8171be61",
   "metadata": {
    "execution": {
     "iopub.execute_input": "2024-09-14T01:46:01.415427Z",
     "iopub.status.busy": "2024-09-14T01:46:01.414946Z",
     "iopub.status.idle": "2024-09-14T01:46:06.419565Z",
     "shell.execute_reply": "2024-09-14T01:46:06.418520Z"
    },
    "papermill": {
     "duration": 5.023799,
     "end_time": "2024-09-14T01:46:06.422421",
     "exception": false,
     "start_time": "2024-09-14T01:46:01.398622",
     "status": "completed"
    },
    "tags": []
   },
   "outputs": [],
   "source": [
    "train_cos_sim_arr = cosine_similarity(train_long_vec, misconception_mapping_vec)\n",
    "train_sorted_indices = np.argsort(-train_cos_sim_arr, axis=1)"
   ]
  },
  {
   "cell_type": "code",
   "execution_count": 15,
   "id": "1d2efc1e",
   "metadata": {
    "execution": {
     "iopub.execute_input": "2024-09-14T01:46:06.447049Z",
     "iopub.status.busy": "2024-09-14T01:46:06.446333Z",
     "iopub.status.idle": "2024-09-14T01:46:06.457011Z",
     "shell.execute_reply": "2024-09-14T01:46:06.455825Z"
    },
    "papermill": {
     "duration": 0.02636,
     "end_time": "2024-09-14T01:46:06.459779",
     "exception": false,
     "start_time": "2024-09-14T01:46:06.433419",
     "status": "completed"
    },
    "tags": []
   },
   "outputs": [
    {
     "data": {
      "text/plain": [
       "array([[2488, 2532, 2039, ..., 1672, 1941,   15],\n",
       "       [2488, 2532, 2039, ..., 1672, 1941,   15],\n",
       "       [2488, 2532, 2039, ..., 1672, 1941,   15],\n",
       "       ...,\n",
       "       [1640,  801,  805, ..., 2090,  311, 1498],\n",
       "       [1640,  801,  805, ...,  141, 2090,  311],\n",
       "       [1640,  801,  805, ..., 2090, 1498, 1605]])"
      ]
     },
     "execution_count": 15,
     "metadata": {},
     "output_type": "execute_result"
    }
   ],
   "source": [
    "train_sorted_indices[:, :25]"
   ]
  },
  {
   "cell_type": "code",
   "execution_count": 16,
   "id": "3288a590",
   "metadata": {
    "execution": {
     "iopub.execute_input": "2024-09-14T01:46:06.485692Z",
     "iopub.status.busy": "2024-09-14T01:46:06.484542Z",
     "iopub.status.idle": "2024-09-14T01:46:06.493692Z",
     "shell.execute_reply": "2024-09-14T01:46:06.492283Z"
    },
    "papermill": {
     "duration": 0.025202,
     "end_time": "2024-09-14T01:46:06.496371",
     "exception": false,
     "start_time": "2024-09-14T01:46:06.471169",
     "status": "completed"
    },
    "tags": []
   },
   "outputs": [
    {
     "name": "stdout",
     "output_type": "stream",
     "text": [
      "Query idx0\n",
      "Use the order of operations to carry out calculations involving powers BIDMAS \\[\n",
      "3 \\times 2+4-5\n",
      "\\]\n",
      "Where do the brackets need to go to make the answer equal \\( 13 \\) ? \\( 3 \\times(2+4)-5 \\)\n",
      "\n",
      "Cos Sim No.1\n",
      "Answers order of operations questions with brackets as if the brackets are not there\n",
      "\n",
      "Cos Sim No.2\n",
      "Believes order of operations does not affect the answer to a calculation\n"
     ]
    }
   ],
   "source": [
    "# example\n",
    "def print_example(df: pd.DataFrame, sorted_indices: np.ndarray, idx: int) -> None:\n",
    "    print(f\"Query idx{idx}\")\n",
    "    print(df[\"AllText\"][idx])\n",
    "    print(\"\\nCos Sim No.1\")\n",
    "    print(misconception_mapping[\"MisconceptionName\"][sorted_indices[idx, 0]])\n",
    "    print(\"\\nCos Sim No.2\")\n",
    "    print(misconception_mapping[\"MisconceptionName\"][sorted_indices[idx, 1]])\n",
    "\n",
    "\n",
    "print_example(train_long, train_sorted_indices, 0)"
   ]
  },
  {
   "cell_type": "code",
   "execution_count": 17,
   "id": "1211ff44",
   "metadata": {
    "execution": {
     "iopub.execute_input": "2024-09-14T01:46:06.521580Z",
     "iopub.status.busy": "2024-09-14T01:46:06.521011Z",
     "iopub.status.idle": "2024-09-14T01:46:06.527584Z",
     "shell.execute_reply": "2024-09-14T01:46:06.526276Z"
    },
    "papermill": {
     "duration": 0.022384,
     "end_time": "2024-09-14T01:46:06.530441",
     "exception": false,
     "start_time": "2024-09-14T01:46:06.508057",
     "status": "completed"
    },
    "tags": []
   },
   "outputs": [
    {
     "name": "stdout",
     "output_type": "stream",
     "text": [
      "Query idx1\n",
      "Use the order of operations to carry out calculations involving powers BIDMAS \\[\n",
      "3 \\times 2+4-5\n",
      "\\]\n",
      "Where do the brackets need to go to make the answer equal \\( 13 \\) ? \\( 3 \\times 2+(4-5) \\)\n",
      "\n",
      "Cos Sim No.1\n",
      "Answers order of operations questions with brackets as if the brackets are not there\n",
      "\n",
      "Cos Sim No.2\n",
      "Believes order of operations does not affect the answer to a calculation\n"
     ]
    }
   ],
   "source": [
    "print_example(train_long, train_sorted_indices, 1)"
   ]
  },
  {
   "cell_type": "markdown",
   "id": "7ffe1e2c",
   "metadata": {
    "papermill": {
     "duration": 0.011086,
     "end_time": "2024-09-14T01:46:06.552908",
     "exception": false,
     "start_time": "2024-09-14T01:46:06.541822",
     "status": "completed"
    },
    "tags": []
   },
   "source": [
    "# Evaluate"
   ]
  },
  {
   "cell_type": "code",
   "execution_count": 18,
   "id": "37b5f922",
   "metadata": {
    "execution": {
     "iopub.execute_input": "2024-09-14T01:46:06.579007Z",
     "iopub.status.busy": "2024-09-14T01:46:06.578594Z",
     "iopub.status.idle": "2024-09-14T01:46:06.602802Z",
     "shell.execute_reply": "2024-09-14T01:46:06.601417Z"
    },
    "papermill": {
     "duration": 0.04065,
     "end_time": "2024-09-14T01:46:06.605893",
     "exception": false,
     "start_time": "2024-09-14T01:46:06.565243",
     "status": "completed"
    },
    "tags": []
   },
   "outputs": [],
   "source": [
    "train_long[\"PredictMisconceptionId\"] = train_sorted_indices[:, :25].tolist()"
   ]
  },
  {
   "cell_type": "code",
   "execution_count": 19,
   "id": "19b400a0",
   "metadata": {
    "execution": {
     "iopub.execute_input": "2024-09-14T01:46:06.631229Z",
     "iopub.status.busy": "2024-09-14T01:46:06.630809Z",
     "iopub.status.idle": "2024-09-14T01:46:06.638133Z",
     "shell.execute_reply": "2024-09-14T01:46:06.636961Z"
    },
    "papermill": {
     "duration": 0.023321,
     "end_time": "2024-09-14T01:46:06.640719",
     "exception": false,
     "start_time": "2024-09-14T01:46:06.617398",
     "status": "completed"
    },
    "tags": []
   },
   "outputs": [],
   "source": [
    "# https://www.kaggle.com/code/cdeotte/how-to-train-open-book-model-part-1#MAP@3-Metric\n",
    "def map_at_25(predictions, labels):\n",
    "    map_sum = 0\n",
    "    for x, y in zip(predictions, labels):\n",
    "        z = [1 / i if y == j else 0 for i, j in zip(range(1, 26), x)]\n",
    "        map_sum += np.sum(z)\n",
    "    return map_sum / len(predictions)"
   ]
  },
  {
   "cell_type": "code",
   "execution_count": 20,
   "id": "dbd99f42",
   "metadata": {
    "execution": {
     "iopub.execute_input": "2024-09-14T01:46:06.666065Z",
     "iopub.status.busy": "2024-09-14T01:46:06.665606Z",
     "iopub.status.idle": "2024-09-14T01:46:06.762803Z",
     "shell.execute_reply": "2024-09-14T01:46:06.761446Z"
    },
    "papermill": {
     "duration": 0.113621,
     "end_time": "2024-09-14T01:46:06.765721",
     "exception": false,
     "start_time": "2024-09-14T01:46:06.652100",
     "status": "completed"
    },
    "tags": []
   },
   "outputs": [
    {
     "data": {
      "text/plain": [
       "0.13781884858544377"
      ]
     },
     "execution_count": 20,
     "metadata": {},
     "output_type": "execute_result"
    }
   ],
   "source": [
    "map_at_25(\n",
    "    train_long[\"PredictMisconceptionId\"][train_long[\"MisconceptionId\"].notnull()],\n",
    "    train_long[\"MisconceptionId\"][train_long[\"MisconceptionId\"].notnull()],\n",
    ")"
   ]
  },
  {
   "cell_type": "code",
   "execution_count": 21,
   "id": "1a66afa0",
   "metadata": {
    "execution": {
     "iopub.execute_input": "2024-09-14T01:46:06.790904Z",
     "iopub.status.busy": "2024-09-14T01:46:06.790453Z",
     "iopub.status.idle": "2024-09-14T01:46:06.809203Z",
     "shell.execute_reply": "2024-09-14T01:46:06.807875Z"
    },
    "papermill": {
     "duration": 0.034606,
     "end_time": "2024-09-14T01:46:06.812192",
     "exception": false,
     "start_time": "2024-09-14T01:46:06.777586",
     "status": "completed"
    },
    "tags": []
   },
   "outputs": [
    {
     "data": {
      "text/plain": [
       "0.45308924485125857"
      ]
     },
     "execution_count": 21,
     "metadata": {},
     "output_type": "execute_result"
    }
   ],
   "source": [
    "def recall(predictions, labels):\n",
    "    acc_num = np.sum([1 for x, y in zip(predictions, labels) if y in x])\n",
    "    return acc_num / len(predictions)\n",
    "\n",
    "\n",
    "recall(\n",
    "    train_long[\"PredictMisconceptionId\"][train_long[\"MisconceptionId\"].notnull()],\n",
    "    train_long[\"MisconceptionId\"][train_long[\"MisconceptionId\"].notnull()],\n",
    ")"
   ]
  },
  {
   "cell_type": "markdown",
   "id": "c250e4d4",
   "metadata": {
    "papermill": {
     "duration": 0.012042,
     "end_time": "2024-09-14T01:46:06.836673",
     "exception": false,
     "start_time": "2024-09-14T01:46:06.824631",
     "status": "completed"
    },
    "tags": []
   },
   "source": [
    "# Predict"
   ]
  },
  {
   "cell_type": "code",
   "execution_count": 22,
   "id": "8bbf11ee",
   "metadata": {
    "execution": {
     "iopub.execute_input": "2024-09-14T01:46:06.863314Z",
     "iopub.status.busy": "2024-09-14T01:46:06.862897Z",
     "iopub.status.idle": "2024-09-14T01:46:06.871714Z",
     "shell.execute_reply": "2024-09-14T01:46:06.870441Z"
    },
    "papermill": {
     "duration": 0.025449,
     "end_time": "2024-09-14T01:46:06.874413",
     "exception": false,
     "start_time": "2024-09-14T01:46:06.848964",
     "status": "completed"
    },
    "tags": []
   },
   "outputs": [],
   "source": [
    "test_long_vec = vectorizer.transform(test_long[\"AllText\"])"
   ]
  },
  {
   "cell_type": "code",
   "execution_count": 23,
   "id": "a9e6b8ea",
   "metadata": {
    "execution": {
     "iopub.execute_input": "2024-09-14T01:46:06.900479Z",
     "iopub.status.busy": "2024-09-14T01:46:06.899373Z",
     "iopub.status.idle": "2024-09-14T01:46:07.009753Z",
     "shell.execute_reply": "2024-09-14T01:46:07.008593Z"
    },
    "papermill": {
     "duration": 0.126522,
     "end_time": "2024-09-14T01:46:07.012822",
     "exception": false,
     "start_time": "2024-09-14T01:46:06.886300",
     "status": "completed"
    },
    "tags": []
   },
   "outputs": [],
   "source": [
    "test_cos_sim_arr = cosine_similarity(test_long_vec, misconception_mapping_vec)\n",
    "test_sorted_indices = np.argsort(-test_cos_sim_arr, axis=1)"
   ]
  },
  {
   "cell_type": "code",
   "execution_count": 24,
   "id": "7049daa2",
   "metadata": {
    "execution": {
     "iopub.execute_input": "2024-09-14T01:46:07.039388Z",
     "iopub.status.busy": "2024-09-14T01:46:07.038344Z",
     "iopub.status.idle": "2024-09-14T01:46:07.047645Z",
     "shell.execute_reply": "2024-09-14T01:46:07.046452Z"
    },
    "papermill": {
     "duration": 0.025355,
     "end_time": "2024-09-14T01:46:07.050262",
     "exception": false,
     "start_time": "2024-09-14T01:46:07.024907",
     "status": "completed"
    },
    "tags": []
   },
   "outputs": [
    {
     "data": {
      "text/plain": [
       "array([[2488, 2532, 2039,  294, 1965, 1005, 2475, 1728, 1507,  706,  656,\n",
       "        1872, 2586,  521,  256, 1119, 1999,  537, 2479, 2104, 1026,  987,\n",
       "        1672, 1941,   15],\n",
       "       [2488, 2532, 2039,  294, 1965, 1005, 2475, 1728, 1507,  706,  656,\n",
       "        1872, 2586,  521,  256, 1119, 1999,  537, 2479, 2104, 1026,  987,\n",
       "        1672, 1941,   15],\n",
       "       [2488, 2532, 2039,  294, 1965, 1005, 2475, 1728, 1507,  706,  656,\n",
       "        1872, 2586,  521,  256, 1119, 1999,  537, 2479, 2104, 1026,  987,\n",
       "        1672, 1941,   15],\n",
       "       [2488, 2551, 2532, 2039, 1872,  294, 1965,  537, 1392, 1728, 2479,\n",
       "         256, 2475, 1999, 2131, 2104, 1005, 1119, 1026, 1432, 1643,  656,\n",
       "         802,  259, 1756],\n",
       "       [1540,  979,  363, 2398, 1825, 1593,   29,  606,   59,  848,  885,\n",
       "        2307,  609, 1309,   80, 2463, 2020, 1621, 2199,   78,  381, 1976,\n",
       "        1542, 1008,  419],\n",
       "       [1540,  979,  363, 2398, 1825, 1593,   29,  606,   59,  848,  885,\n",
       "        2307,  609, 1309,   80, 2463, 2020, 1621, 2199,   78,  381, 1976,\n",
       "        1542, 1008,  419],\n",
       "       [1540,  979,  363, 2398, 1825, 1593,   29,  606,   59,  848,  885,\n",
       "        2307,  609, 1309,   80, 2463, 2020, 1621, 2199,   78,  381, 1976,\n",
       "        1542, 1008,  419],\n",
       "       [1540, 1825,  606, 1918, 2020,   29,  979,  885,  363,  633,  792,\n",
       "        2398,  634, 1593,   59,  538, 1119,  848, 2307,  167,  346,  609,\n",
       "        1630, 1309, 2163],\n",
       "       [ 632, 1073, 1287, 2064, 2243, 1873, 1098, 1306, 1797, 2151, 1059,\n",
       "        2456, 2551, 2319,  365, 2165,  188, 1923, 2211, 2471, 1177, 1200,\n",
       "        1349,  397, 1677],\n",
       "       [ 632, 1073, 1287, 2064, 2243, 1873, 1098, 1306, 1797, 2151, 1059,\n",
       "        2456, 2551, 2319,  365, 2165,  188, 1923, 2211, 2471, 1177, 1200,\n",
       "        1349,  397, 1677],\n",
       "       [ 632, 1073, 1287, 2064, 2243, 1873, 1098, 1306, 1797, 2151, 1059,\n",
       "        2456, 2551, 2319,  365, 2165,  188, 2211, 1923, 2471, 1177, 1200,\n",
       "        1349,  397, 1677],\n",
       "       [ 632, 1073, 1287, 2064, 1873, 2243, 1098, 1306, 1797, 2151, 1059,\n",
       "        2456, 2551, 2319,  365, 2165,  188, 2211, 1923, 2471, 1177, 1200,\n",
       "        1349,  397, 1677]])"
      ]
     },
     "execution_count": 24,
     "metadata": {},
     "output_type": "execute_result"
    }
   ],
   "source": [
    "test_sorted_indices[:, :25]"
   ]
  },
  {
   "cell_type": "code",
   "execution_count": 25,
   "id": "b244027c",
   "metadata": {
    "execution": {
     "iopub.execute_input": "2024-09-14T01:46:07.077739Z",
     "iopub.status.busy": "2024-09-14T01:46:07.077261Z",
     "iopub.status.idle": "2024-09-14T01:46:07.083536Z",
     "shell.execute_reply": "2024-09-14T01:46:07.082316Z"
    },
    "papermill": {
     "duration": 0.022924,
     "end_time": "2024-09-14T01:46:07.086745",
     "exception": false,
     "start_time": "2024-09-14T01:46:07.063821",
     "status": "completed"
    },
    "tags": []
   },
   "outputs": [
    {
     "name": "stdout",
     "output_type": "stream",
     "text": [
      "Query idx0\n",
      "Use the order of operations to carry out calculations involving powers BIDMAS \\[\n",
      "3 \\times 2+4-5\n",
      "\\]\n",
      "Where do the brackets need to go to make the answer equal \\( 13 \\) ? \\( 3 \\times(2+4)-5 \\)\n",
      "\n",
      "Cos Sim No.1\n",
      "Answers order of operations questions with brackets as if the brackets are not there\n",
      "\n",
      "Cos Sim No.2\n",
      "Believes order of operations does not affect the answer to a calculation\n"
     ]
    }
   ],
   "source": [
    "print_example(test_long, test_sorted_indices, 0)"
   ]
  },
  {
   "cell_type": "code",
   "execution_count": 26,
   "id": "45604a63",
   "metadata": {
    "execution": {
     "iopub.execute_input": "2024-09-14T01:46:07.113171Z",
     "iopub.status.busy": "2024-09-14T01:46:07.112724Z",
     "iopub.status.idle": "2024-09-14T01:46:07.118818Z",
     "shell.execute_reply": "2024-09-14T01:46:07.117634Z"
    },
    "papermill": {
     "duration": 0.023458,
     "end_time": "2024-09-14T01:46:07.122540",
     "exception": false,
     "start_time": "2024-09-14T01:46:07.099082",
     "status": "completed"
    },
    "tags": []
   },
   "outputs": [
    {
     "name": "stdout",
     "output_type": "stream",
     "text": [
      "Query idx1\n",
      "Use the order of operations to carry out calculations involving powers BIDMAS \\[\n",
      "3 \\times 2+4-5\n",
      "\\]\n",
      "Where do the brackets need to go to make the answer equal \\( 13 \\) ? \\( 3 \\times 2+(4-5) \\)\n",
      "\n",
      "Cos Sim No.1\n",
      "Answers order of operations questions with brackets as if the brackets are not there\n",
      "\n",
      "Cos Sim No.2\n",
      "Believes order of operations does not affect the answer to a calculation\n"
     ]
    }
   ],
   "source": [
    "print_example(test_long, test_sorted_indices, 1)"
   ]
  },
  {
   "cell_type": "markdown",
   "id": "0657bf3d",
   "metadata": {
    "papermill": {
     "duration": 0.011875,
     "end_time": "2024-09-14T01:46:07.146569",
     "exception": false,
     "start_time": "2024-09-14T01:46:07.134694",
     "status": "completed"
    },
    "tags": []
   },
   "source": [
    "# Make Submit File"
   ]
  },
  {
   "cell_type": "code",
   "execution_count": 27,
   "id": "05dd24b4",
   "metadata": {
    "execution": {
     "iopub.execute_input": "2024-09-14T01:46:07.173385Z",
     "iopub.status.busy": "2024-09-14T01:46:07.172321Z",
     "iopub.status.idle": "2024-09-14T01:46:07.184744Z",
     "shell.execute_reply": "2024-09-14T01:46:07.183397Z"
    },
    "papermill": {
     "duration": 0.028472,
     "end_time": "2024-09-14T01:46:07.187319",
     "exception": false,
     "start_time": "2024-09-14T01:46:07.158847",
     "status": "completed"
    },
    "tags": []
   },
   "outputs": [],
   "source": [
    "test_long[\"QuestionId_Answer\"] = (\n",
    "    test_long[\"QuestionId\"].astype(\"str\") + \"_\" + test_long[\"AnswerAlphabet\"]\n",
    ")\n",
    "test_long[\"MisconceptionId\"] = test_sorted_indices[:, :25].tolist()\n",
    "test_long[\"MisconceptionId\"] = test_long[\"MisconceptionId\"].apply(\n",
    "    lambda x: \" \".join(map(str, x))\n",
    ")\n",
    "test_long = test_long[\n",
    "    test_long[\"CorrectAnswer\"] != test_long[\"AnswerAlphabet\"]\n",
    "]  # filter correct row\n",
    "submission = test_long[[\"QuestionId_Answer\", \"MisconceptionId\"]].reset_index(drop=True)"
   ]
  },
  {
   "cell_type": "code",
   "execution_count": 28,
   "id": "5b8deb24",
   "metadata": {
    "execution": {
     "iopub.execute_input": "2024-09-14T01:46:07.214614Z",
     "iopub.status.busy": "2024-09-14T01:46:07.214128Z",
     "iopub.status.idle": "2024-09-14T01:46:07.230735Z",
     "shell.execute_reply": "2024-09-14T01:46:07.229552Z"
    },
    "papermill": {
     "duration": 0.033641,
     "end_time": "2024-09-14T01:46:07.233508",
     "exception": false,
     "start_time": "2024-09-14T01:46:07.199867",
     "status": "completed"
    },
    "tags": []
   },
   "outputs": [
    {
     "data": {
      "text/html": [
       "<div>\n",
       "<style scoped>\n",
       "    .dataframe tbody tr th:only-of-type {\n",
       "        vertical-align: middle;\n",
       "    }\n",
       "\n",
       "    .dataframe tbody tr th {\n",
       "        vertical-align: top;\n",
       "    }\n",
       "\n",
       "    .dataframe thead th {\n",
       "        text-align: right;\n",
       "    }\n",
       "</style>\n",
       "<table border=\"1\" class=\"dataframe\">\n",
       "  <thead>\n",
       "    <tr style=\"text-align: right;\">\n",
       "      <th></th>\n",
       "      <th>QuestionId_Answer</th>\n",
       "      <th>MisconceptionId</th>\n",
       "    </tr>\n",
       "  </thead>\n",
       "  <tbody>\n",
       "    <tr>\n",
       "      <th>0</th>\n",
       "      <td>1869_B</td>\n",
       "      <td>2488 2532 2039 294 1965 1005 2475 1728 1507 70...</td>\n",
       "    </tr>\n",
       "    <tr>\n",
       "      <th>1</th>\n",
       "      <td>1869_C</td>\n",
       "      <td>2488 2532 2039 294 1965 1005 2475 1728 1507 70...</td>\n",
       "    </tr>\n",
       "    <tr>\n",
       "      <th>2</th>\n",
       "      <td>1869_D</td>\n",
       "      <td>2488 2551 2532 2039 1872 294 1965 537 1392 172...</td>\n",
       "    </tr>\n",
       "    <tr>\n",
       "      <th>3</th>\n",
       "      <td>1870_A</td>\n",
       "      <td>1540 979 363 2398 1825 1593 29 606 59 848 885 ...</td>\n",
       "    </tr>\n",
       "    <tr>\n",
       "      <th>4</th>\n",
       "      <td>1870_B</td>\n",
       "      <td>1540 979 363 2398 1825 1593 29 606 59 848 885 ...</td>\n",
       "    </tr>\n",
       "    <tr>\n",
       "      <th>5</th>\n",
       "      <td>1870_C</td>\n",
       "      <td>1540 979 363 2398 1825 1593 29 606 59 848 885 ...</td>\n",
       "    </tr>\n",
       "    <tr>\n",
       "      <th>6</th>\n",
       "      <td>1871_A</td>\n",
       "      <td>632 1073 1287 2064 2243 1873 1098 1306 1797 21...</td>\n",
       "    </tr>\n",
       "    <tr>\n",
       "      <th>7</th>\n",
       "      <td>1871_C</td>\n",
       "      <td>632 1073 1287 2064 2243 1873 1098 1306 1797 21...</td>\n",
       "    </tr>\n",
       "    <tr>\n",
       "      <th>8</th>\n",
       "      <td>1871_D</td>\n",
       "      <td>632 1073 1287 2064 1873 2243 1098 1306 1797 21...</td>\n",
       "    </tr>\n",
       "  </tbody>\n",
       "</table>\n",
       "</div>"
      ],
      "text/plain": [
       "  QuestionId_Answer                                    MisconceptionId\n",
       "0            1869_B  2488 2532 2039 294 1965 1005 2475 1728 1507 70...\n",
       "1            1869_C  2488 2532 2039 294 1965 1005 2475 1728 1507 70...\n",
       "2            1869_D  2488 2551 2532 2039 1872 294 1965 537 1392 172...\n",
       "3            1870_A  1540 979 363 2398 1825 1593 29 606 59 848 885 ...\n",
       "4            1870_B  1540 979 363 2398 1825 1593 29 606 59 848 885 ...\n",
       "5            1870_C  1540 979 363 2398 1825 1593 29 606 59 848 885 ...\n",
       "6            1871_A  632 1073 1287 2064 2243 1873 1098 1306 1797 21...\n",
       "7            1871_C  632 1073 1287 2064 2243 1873 1098 1306 1797 21...\n",
       "8            1871_D  632 1073 1287 2064 1873 2243 1098 1306 1797 21..."
      ]
     },
     "execution_count": 28,
     "metadata": {},
     "output_type": "execute_result"
    }
   ],
   "source": [
    "submission.head(10)"
   ]
  },
  {
   "cell_type": "code",
   "execution_count": 29,
   "id": "9aa2d3da",
   "metadata": {
    "execution": {
     "iopub.execute_input": "2024-09-14T01:46:07.261737Z",
     "iopub.status.busy": "2024-09-14T01:46:07.260305Z",
     "iopub.status.idle": "2024-09-14T01:46:07.272885Z",
     "shell.execute_reply": "2024-09-14T01:46:07.271503Z"
    },
    "papermill": {
     "duration": 0.029458,
     "end_time": "2024-09-14T01:46:07.275496",
     "exception": false,
     "start_time": "2024-09-14T01:46:07.246038",
     "status": "completed"
    },
    "tags": []
   },
   "outputs": [
    {
     "data": {
      "text/html": [
       "<div>\n",
       "<style scoped>\n",
       "    .dataframe tbody tr th:only-of-type {\n",
       "        vertical-align: middle;\n",
       "    }\n",
       "\n",
       "    .dataframe tbody tr th {\n",
       "        vertical-align: top;\n",
       "    }\n",
       "\n",
       "    .dataframe thead th {\n",
       "        text-align: right;\n",
       "    }\n",
       "</style>\n",
       "<table border=\"1\" class=\"dataframe\">\n",
       "  <thead>\n",
       "    <tr style=\"text-align: right;\">\n",
       "      <th></th>\n",
       "      <th>QuestionId_Answer</th>\n",
       "      <th>MisconceptionId</th>\n",
       "    </tr>\n",
       "  </thead>\n",
       "  <tbody>\n",
       "    <tr>\n",
       "      <th>0</th>\n",
       "      <td>1869_A</td>\n",
       "      <td>1 2 3 4 5 6 7 8 9 10 11 12 13 14 15 16 17 18 1...</td>\n",
       "    </tr>\n",
       "    <tr>\n",
       "      <th>1</th>\n",
       "      <td>1869_B</td>\n",
       "      <td>1 2 3 4 5 6 7 8 9 10 11 12 13 14 15 16 17 18 1...</td>\n",
       "    </tr>\n",
       "    <tr>\n",
       "      <th>2</th>\n",
       "      <td>1869_C</td>\n",
       "      <td>1 2 3 4 5 6 7 8 9 10 11 12 13 14 15 16 17 18 1...</td>\n",
       "    </tr>\n",
       "    <tr>\n",
       "      <th>3</th>\n",
       "      <td>1870_B</td>\n",
       "      <td>1 2 3 4 5 6 7 8 9 10 11 12 13 14 15 16 17 18 1...</td>\n",
       "    </tr>\n",
       "    <tr>\n",
       "      <th>4</th>\n",
       "      <td>1870_C</td>\n",
       "      <td>1 2 3 4 5 6 7 8 9 10 11 12 13 14 15 16 17 18 1...</td>\n",
       "    </tr>\n",
       "    <tr>\n",
       "      <th>5</th>\n",
       "      <td>1870_D</td>\n",
       "      <td>1 2 3 4 5 6 7 8 9 10 11 12 13 14 15 16 17 18 1...</td>\n",
       "    </tr>\n",
       "    <tr>\n",
       "      <th>6</th>\n",
       "      <td>1871_A</td>\n",
       "      <td>1 2 3 4 5 6 7 8 9 10 11 12 13 14 15 16 17 18 1...</td>\n",
       "    </tr>\n",
       "    <tr>\n",
       "      <th>7</th>\n",
       "      <td>1871_C</td>\n",
       "      <td>1 2 3 4 5 6 7 8 9 10 11 12 13 14 15 16 17 18 1...</td>\n",
       "    </tr>\n",
       "    <tr>\n",
       "      <th>8</th>\n",
       "      <td>1871_D</td>\n",
       "      <td>1 2 3 4 5 6 7 8 9 10 11 12 13 14 15 16 17 18 1...</td>\n",
       "    </tr>\n",
       "  </tbody>\n",
       "</table>\n",
       "</div>"
      ],
      "text/plain": [
       "  QuestionId_Answer                                    MisconceptionId\n",
       "0            1869_A  1 2 3 4 5 6 7 8 9 10 11 12 13 14 15 16 17 18 1...\n",
       "1            1869_B  1 2 3 4 5 6 7 8 9 10 11 12 13 14 15 16 17 18 1...\n",
       "2            1869_C  1 2 3 4 5 6 7 8 9 10 11 12 13 14 15 16 17 18 1...\n",
       "3            1870_B  1 2 3 4 5 6 7 8 9 10 11 12 13 14 15 16 17 18 1...\n",
       "4            1870_C  1 2 3 4 5 6 7 8 9 10 11 12 13 14 15 16 17 18 1...\n",
       "5            1870_D  1 2 3 4 5 6 7 8 9 10 11 12 13 14 15 16 17 18 1...\n",
       "6            1871_A  1 2 3 4 5 6 7 8 9 10 11 12 13 14 15 16 17 18 1...\n",
       "7            1871_C  1 2 3 4 5 6 7 8 9 10 11 12 13 14 15 16 17 18 1...\n",
       "8            1871_D  1 2 3 4 5 6 7 8 9 10 11 12 13 14 15 16 17 18 1..."
      ]
     },
     "execution_count": 29,
     "metadata": {},
     "output_type": "execute_result"
    }
   ],
   "source": [
    "sample_submission.head(10)"
   ]
  },
  {
   "cell_type": "code",
   "execution_count": 30,
   "id": "726a6d2f",
   "metadata": {
    "execution": {
     "iopub.execute_input": "2024-09-14T01:46:07.302644Z",
     "iopub.status.busy": "2024-09-14T01:46:07.302185Z",
     "iopub.status.idle": "2024-09-14T01:46:07.311230Z",
     "shell.execute_reply": "2024-09-14T01:46:07.310065Z"
    },
    "papermill": {
     "duration": 0.025598,
     "end_time": "2024-09-14T01:46:07.313940",
     "exception": false,
     "start_time": "2024-09-14T01:46:07.288342",
     "status": "completed"
    },
    "tags": []
   },
   "outputs": [],
   "source": [
    "submission.to_csv(\"submission.csv\", index=False)"
   ]
  },
  {
   "cell_type": "code",
   "execution_count": null,
   "id": "ab64ce00",
   "metadata": {
    "papermill": {
     "duration": 0.012293,
     "end_time": "2024-09-14T01:46:07.339039",
     "exception": false,
     "start_time": "2024-09-14T01:46:07.326746",
     "status": "completed"
    },
    "tags": []
   },
   "outputs": [],
   "source": []
  }
 ],
 "metadata": {
  "kaggle": {
   "accelerator": "none",
   "dataSources": [
    {
     "databundleVersionId": 9551816,
     "sourceId": 82695,
     "sourceType": "competition"
    }
   ],
   "dockerImageVersionId": 30761,
   "isGpuEnabled": false,
   "isInternetEnabled": false,
   "language": "python",
   "sourceType": "notebook"
  },
  "kernelspec": {
   "display_name": "base",
   "language": "python",
   "name": "python3"
  },
  "language_info": {
   "codemirror_mode": {
    "name": "ipython",
    "version": 3
   },
   "file_extension": ".py",
   "mimetype": "text/x-python",
   "name": "python",
   "nbconvert_exporter": "python",
   "pygments_lexer": "ipython3",
   "version": "3.10.14"
  },
  "papermill": {
   "default_parameters": {},
   "duration": 14.614286,
   "end_time": "2024-09-14T01:46:08.075104",
   "environment_variables": {},
   "exception": null,
   "input_path": "__notebook__.ipynb",
   "output_path": "__notebook__.ipynb",
   "parameters": {},
   "start_time": "2024-09-14T01:45:53.460818",
   "version": "2.6.0"
  }
 },
 "nbformat": 4,
 "nbformat_minor": 5
}
