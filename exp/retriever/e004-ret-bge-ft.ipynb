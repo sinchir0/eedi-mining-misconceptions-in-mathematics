{
 "cells": [
  {
   "cell_type": "markdown",
   "id": "71acc131",
   "metadata": {
    "papermill": {
     "duration": 0.011532,
     "end_time": "2024-09-14T01:45:57.074016",
     "exception": false,
     "start_time": "2024-09-14T01:45:57.062484",
     "status": "completed"
    },
    "tags": []
   },
   "source": [
    "# 目的\n",
    "bgeでのretrieveファイルの作成\n",
    "\n",
    "- MAP@25: \n",
    "- recall: \n",
    "\n",
    "Please let me know if there are any mistakes."
   ]
  },
  {
   "cell_type": "markdown",
   "id": "82cc8a91",
   "metadata": {},
   "source": [
    "# Setting"
   ]
  },
  {
   "cell_type": "code",
   "execution_count": 11,
   "id": "6c063a5a",
   "metadata": {},
   "outputs": [],
   "source": [
    "EXP_NAME = \"e004-ret-bge-ft\"\n",
    "DATA_PATH = \"../../data\"\n",
    "MODEL_NAME = \"BAAI/bge-large-en-v1.5\"\n",
    "\n",
    "DATASET_NAME = EXP_NAME\n",
    "MODEL_OUTPUT_PATH = f\"../../eedi-mining-misconceptions-in-mathematics/trained_models/retriever/{EXP_NAME}\"\n",
    "\n",
    "RETRIEVE_NUM = 25  # TODO: 多くしてみる"
   ]
  },
  {
   "cell_type": "markdown",
   "id": "27e26266",
   "metadata": {
    "papermill": {
     "duration": 0.010544,
     "end_time": "2024-09-14T01:45:57.095623",
     "exception": false,
     "start_time": "2024-09-14T01:45:57.085079",
     "status": "completed"
    },
    "tags": []
   },
   "source": [
    "# Import"
   ]
  },
  {
   "cell_type": "code",
   "execution_count": 12,
   "id": "e5c0dbcc",
   "metadata": {
    "_cell_guid": "b1076dfc-b9ad-4769-8c92-a6c4dae69d19",
    "_uuid": "8f2839f25d086af736a60e9eeb907d3b93b6e0e5",
    "execution": {
     "iopub.execute_input": "2024-09-14T01:45:57.119081Z",
     "iopub.status.busy": "2024-09-14T01:45:57.118643Z",
     "iopub.status.idle": "2024-09-14T01:45:59.534275Z",
     "shell.execute_reply": "2024-09-14T01:45:59.532994Z"
    },
    "papermill": {
     "duration": 2.430721,
     "end_time": "2024-09-14T01:45:59.537229",
     "exception": false,
     "start_time": "2024-09-14T01:45:57.106508",
     "status": "completed"
    },
    "tags": []
   },
   "outputs": [],
   "source": [
    "import os\n",
    "\n",
    "import polars as pl\n",
    "import numpy as np\n",
    "\n",
    "from sklearn.metrics.pairwise import cosine_similarity\n",
    "\n",
    "import torch\n",
    "from transformers import AutoTokenizer, AutoModel\n",
    "from sentence_transformers import SentenceTransformer"
   ]
  },
  {
   "cell_type": "code",
   "execution_count": 45,
   "id": "29d1b181",
   "metadata": {},
   "outputs": [],
   "source": [
    "NUM_PROC = 16"
   ]
  },
  {
   "cell_type": "code",
   "execution_count": 13,
   "id": "31a4f5d4",
   "metadata": {},
   "outputs": [],
   "source": [
    "# import transformers\n",
    "# import torch\n",
    "# import sentence_transformers\n",
    "\n",
    "# assert transformers.__version__ == \"4.44.2\"\n",
    "# assert torch.__version__ == \"2.3.1\"\n",
    "# assert sentence_transformers.__version__ == \"3.1.0\""
   ]
  },
  {
   "cell_type": "markdown",
   "id": "98570c57",
   "metadata": {},
   "source": [
    "# Data Load"
   ]
  },
  {
   "cell_type": "code",
   "execution_count": 65,
   "id": "be7320b8",
   "metadata": {},
   "outputs": [
    {
     "data": {
      "application/vnd.jupyter.widget-view+json": {
       "model_id": "86169ac41e464793b649d0784333f446",
       "version_major": 2,
       "version_minor": 0
      },
      "text/plain": [
       "Filter (num_proc=16):   0%|          | 0/109250 [00:00<?, ? examples/s]"
      ]
     },
     "metadata": {},
     "output_type": "display_data"
    },
    {
     "data": {
      "application/vnd.jupyter.widget-view+json": {
       "model_id": "95551f4e764d43cebd1aeeba6371cb1f",
       "version_major": 2,
       "version_minor": 0
      },
      "text/plain": [
       "Filter (num_proc=16):   0%|          | 0/109250 [00:00<?, ? examples/s]"
      ]
     },
     "metadata": {},
     "output_type": "display_data"
    }
   ],
   "source": [
    "from datasets import load_dataset\n",
    "\n",
    "train = (\n",
    "    load_dataset(\n",
    "        \"csv\",\n",
    "        data_files=\"../../output/retriever/e003-ret-bge/e003-ret-bge-ret25-map0.1841-recall0.5506.csv\",\n",
    "        split=\"train\",\n",
    "    )\n",
    "    .filter(\n",
    "        lambda example: example[\"MisconceptionId\"] is not None,\n",
    "        num_proc=NUM_PROC,\n",
    "    )\n",
    "    .filter(  # anchor、positive、negativeの構成にするため、positiveとnegativeが一致している行を削除する\n",
    "        lambda example: example[\"MisconceptionId\"] != example[\"PredictMisconceptionId\"],\n",
    "        num_proc=NUM_PROC,\n",
    "    )\n",
    ")"
   ]
  },
  {
   "cell_type": "code",
   "execution_count": 61,
   "id": "0fafd4a3",
   "metadata": {},
   "outputs": [
    {
     "name": "stdout",
     "output_type": "stream",
     "text": [
      "Use the order of operations to carry out calculations involving powers BIDMAS \\[\n",
      "3 \\times 2+4-5\n",
      "\\]\n",
      "Where do the brackets need to go to make the answer equal \\( 13 \\) ? Does not need brackets\n"
     ]
    }
   ],
   "source": [
    "print(train[\"AllText\"][0])"
   ]
  },
  {
   "cell_type": "code",
   "execution_count": 62,
   "id": "46c762b2",
   "metadata": {},
   "outputs": [
    {
     "name": "stdout",
     "output_type": "stream",
     "text": [
      "Confuses the order of operations, believes addition comes before multiplication \n"
     ]
    }
   ],
   "source": [
    "print(train[\"MisconceptionName\"][0])"
   ]
  },
  {
   "cell_type": "code",
   "execution_count": 63,
   "id": "9db6787d",
   "metadata": {},
   "outputs": [
    {
     "name": "stdout",
     "output_type": "stream",
     "text": [
      "Applies BIDMAS in strict order (does not realize addition and subtraction, and multiplication and division, are of equal priority)\n"
     ]
    }
   ],
   "source": [
    "print(train[\"PredictMisconceptionName\"][0])"
   ]
  },
  {
   "cell_type": "markdown",
   "id": "26d11def",
   "metadata": {
    "papermill": {
     "duration": 0.010829,
     "end_time": "2024-09-14T01:46:00.109663",
     "exception": false,
     "start_time": "2024-09-14T01:46:00.098834",
     "status": "completed"
    },
    "tags": []
   },
   "source": [
    "# Fine-tuning BGE"
   ]
  },
  {
   "cell_type": "code",
   "execution_count": 36,
   "id": "7a2ade16",
   "metadata": {},
   "outputs": [],
   "source": [
    "from sentence_transformers.losses import MultipleNegativesRankingLoss\n",
    "from sentence_transformers import (\n",
    "    SentenceTransformer,\n",
    "    SentenceTransformerTrainer,\n",
    "    SentenceTransformerTrainingArguments,\n",
    ")\n",
    "from sentence_transformers.training_args import BatchSamplers\n",
    "from sentence_transformers.evaluation import TripletEvaluator"
   ]
  },
  {
   "cell_type": "code",
   "execution_count": 33,
   "id": "3b9b7d1d",
   "metadata": {},
   "outputs": [],
   "source": [
    "model = SentenceTransformer()  # CV: 0.1841439184198388"
   ]
  },
  {
   "cell_type": "code",
   "execution_count": 34,
   "id": "2e950685",
   "metadata": {},
   "outputs": [],
   "source": [
    "loss = MultipleNegativesRankingLoss(model)"
   ]
  },
  {
   "cell_type": "code",
   "execution_count": 35,
   "id": "379cad43",
   "metadata": {},
   "outputs": [],
   "source": [
    "args = SentenceTransformerTrainingArguments(\n",
    "    # Required parameter:\n",
    "    output_dir=MODEL_OUTPUT_PATH,\n",
    "    # Optional training parameters:\n",
    "    num_train_epochs=1,\n",
    "    per_device_train_batch_size=16,\n",
    "    per_device_eval_batch_size=16,\n",
    "    learning_rate=2e-5,\n",
    "    warmup_ratio=0.1,\n",
    "    fp16=True,  # Set to False if you get an error that your GPU can't run on FP16\n",
    "    bf16=False,  # Set to True if you have a GPU that supports BF16\n",
    "    batch_sampler=BatchSamplers.NO_DUPLICATES,  # MultipleNegativesRankingLoss benefits from no duplicate samples in a batch\n",
    "    # Optional tracking/debugging parameters:\n",
    "    eval_strategy=\"steps\",\n",
    "    eval_steps=100,\n",
    "    save_strategy=\"steps\",\n",
    "    save_steps=100,\n",
    "    save_total_limit=2,\n",
    "    logging_steps=100,\n",
    "    run_name=EXP_NAME,  # Will be used in W&B if `wandb` is installed\n",
    ")"
   ]
  },
  {
   "cell_type": "code",
   "execution_count": 78,
   "id": "2b596bef",
   "metadata": {},
   "outputs": [
    {
     "data": {
      "text/plain": [
       "['Applies BIDMAS in strict order (does not realize addition and subtraction, and multiplication and division, are of equal priority)',\n",
       " 'Misunderstands order of operations in algebraic expressions',\n",
       " 'Answers order of operations questions with brackets as if the brackets are not there',\n",
       " 'May have made a calculation error using the order of operations',\n",
       " 'Does not understand that the numerator and denominator of fractions represent groupings and have the same order of priority as brackets']"
      ]
     },
     "execution_count": 78,
     "metadata": {},
     "output_type": "execute_result"
    }
   ],
   "source": [
    "train[\"PredictMisconceptionName\"][:5]"
   ]
  },
  {
   "cell_type": "code",
   "execution_count": 86,
   "id": "bdbdfa96",
   "metadata": {},
   "outputs": [
    {
     "ename": "AttributeError",
     "evalue": "'NoneType' object has no attribute 'tokenize'",
     "output_type": "error",
     "traceback": [
      "\u001b[0;31m---------------------------------------------------------------------------\u001b[0m",
      "\u001b[0;31mAttributeError\u001b[0m                            Traceback (most recent call last)",
      "Cell \u001b[0;32mIn[86], line 9\u001b[0m\n\u001b[1;32m      1\u001b[0m \u001b[38;5;66;03m# 6. (Optional) Create an evaluator & evaluate the base model\u001b[39;00m\n\u001b[1;32m      2\u001b[0m dev_evaluator \u001b[38;5;241m=\u001b[39m TripletEvaluator(\n\u001b[1;32m      3\u001b[0m     anchors\u001b[38;5;241m=\u001b[39mtrain[\u001b[38;5;124m\"\u001b[39m\u001b[38;5;124mAllText\u001b[39m\u001b[38;5;124m\"\u001b[39m][:\u001b[38;5;241m2\u001b[39m],\n\u001b[1;32m      4\u001b[0m     positives\u001b[38;5;241m=\u001b[39mtrain[\u001b[38;5;124m\"\u001b[39m\u001b[38;5;124mMisconceptionName\u001b[39m\u001b[38;5;124m\"\u001b[39m][:\u001b[38;5;241m2\u001b[39m],\n\u001b[0;32m   (...)\u001b[0m\n\u001b[1;32m      7\u001b[0m     name\u001b[38;5;241m=\u001b[39m\u001b[38;5;124m\"\u001b[39m\u001b[38;5;124mhoge\u001b[39m\u001b[38;5;124m\"\u001b[39m\n\u001b[1;32m      8\u001b[0m )\n\u001b[0;32m----> 9\u001b[0m \u001b[43mdev_evaluator\u001b[49m\u001b[43m(\u001b[49m\u001b[43mmodel\u001b[49m\u001b[43m)\u001b[49m\n",
      "File \u001b[0;32m/opt/conda/lib/python3.10/site-packages/sentence_transformers/evaluation/TripletEvaluator.py:149\u001b[0m, in \u001b[0;36mTripletEvaluator.__call__\u001b[0;34m(self, model, output_path, epoch, steps)\u001b[0m\n\u001b[1;32m    141\u001b[0m (\n\u001b[1;32m    142\u001b[0m     num_correct_cos_triplets,\n\u001b[1;32m    143\u001b[0m     num_correct_dot_triplets,\n\u001b[1;32m    144\u001b[0m     num_correct_manhattan_triplets,\n\u001b[1;32m    145\u001b[0m     num_correct_euclidean_triplets,\n\u001b[1;32m    146\u001b[0m ) \u001b[38;5;241m=\u001b[39m \u001b[38;5;241m0\u001b[39m, \u001b[38;5;241m0\u001b[39m, \u001b[38;5;241m0\u001b[39m, \u001b[38;5;241m0\u001b[39m\n\u001b[1;32m    148\u001b[0m \u001b[38;5;28;01mwith\u001b[39;00m nullcontext() \u001b[38;5;28;01mif\u001b[39;00m \u001b[38;5;28mself\u001b[39m\u001b[38;5;241m.\u001b[39mtruncate_dim \u001b[38;5;129;01mis\u001b[39;00m \u001b[38;5;28;01mNone\u001b[39;00m \u001b[38;5;28;01melse\u001b[39;00m model\u001b[38;5;241m.\u001b[39mtruncate_sentence_embeddings(\u001b[38;5;28mself\u001b[39m\u001b[38;5;241m.\u001b[39mtruncate_dim):\n\u001b[0;32m--> 149\u001b[0m     embeddings_anchors \u001b[38;5;241m=\u001b[39m \u001b[43mmodel\u001b[49m\u001b[38;5;241;43m.\u001b[39;49m\u001b[43mencode\u001b[49m\u001b[43m(\u001b[49m\n\u001b[1;32m    150\u001b[0m \u001b[43m        \u001b[49m\u001b[38;5;28;43mself\u001b[39;49m\u001b[38;5;241;43m.\u001b[39;49m\u001b[43manchors\u001b[49m\u001b[43m,\u001b[49m\n\u001b[1;32m    151\u001b[0m \u001b[43m        \u001b[49m\u001b[43mbatch_size\u001b[49m\u001b[38;5;241;43m=\u001b[39;49m\u001b[38;5;28;43mself\u001b[39;49m\u001b[38;5;241;43m.\u001b[39;49m\u001b[43mbatch_size\u001b[49m\u001b[43m,\u001b[49m\n\u001b[1;32m    152\u001b[0m \u001b[43m        \u001b[49m\u001b[43mshow_progress_bar\u001b[49m\u001b[38;5;241;43m=\u001b[39;49m\u001b[38;5;28;43mself\u001b[39;49m\u001b[38;5;241;43m.\u001b[39;49m\u001b[43mshow_progress_bar\u001b[49m\u001b[43m,\u001b[49m\n\u001b[1;32m    153\u001b[0m \u001b[43m        \u001b[49m\u001b[43mconvert_to_numpy\u001b[49m\u001b[38;5;241;43m=\u001b[39;49m\u001b[38;5;28;43;01mTrue\u001b[39;49;00m\u001b[43m,\u001b[49m\n\u001b[1;32m    154\u001b[0m \u001b[43m    \u001b[49m\u001b[43m)\u001b[49m\n\u001b[1;32m    155\u001b[0m     embeddings_positives \u001b[38;5;241m=\u001b[39m model\u001b[38;5;241m.\u001b[39mencode(\n\u001b[1;32m    156\u001b[0m         \u001b[38;5;28mself\u001b[39m\u001b[38;5;241m.\u001b[39mpositives,\n\u001b[1;32m    157\u001b[0m         batch_size\u001b[38;5;241m=\u001b[39m\u001b[38;5;28mself\u001b[39m\u001b[38;5;241m.\u001b[39mbatch_size,\n\u001b[1;32m    158\u001b[0m         show_progress_bar\u001b[38;5;241m=\u001b[39m\u001b[38;5;28mself\u001b[39m\u001b[38;5;241m.\u001b[39mshow_progress_bar,\n\u001b[1;32m    159\u001b[0m         convert_to_numpy\u001b[38;5;241m=\u001b[39m\u001b[38;5;28;01mTrue\u001b[39;00m,\n\u001b[1;32m    160\u001b[0m     )\n\u001b[1;32m    161\u001b[0m     embeddings_negatives \u001b[38;5;241m=\u001b[39m model\u001b[38;5;241m.\u001b[39mencode(\n\u001b[1;32m    162\u001b[0m         \u001b[38;5;28mself\u001b[39m\u001b[38;5;241m.\u001b[39mnegatives,\n\u001b[1;32m    163\u001b[0m         batch_size\u001b[38;5;241m=\u001b[39m\u001b[38;5;28mself\u001b[39m\u001b[38;5;241m.\u001b[39mbatch_size,\n\u001b[1;32m    164\u001b[0m         show_progress_bar\u001b[38;5;241m=\u001b[39m\u001b[38;5;28mself\u001b[39m\u001b[38;5;241m.\u001b[39mshow_progress_bar,\n\u001b[1;32m    165\u001b[0m         convert_to_numpy\u001b[38;5;241m=\u001b[39m\u001b[38;5;28;01mTrue\u001b[39;00m,\n\u001b[1;32m    166\u001b[0m     )\n",
      "File \u001b[0;32m/opt/conda/lib/python3.10/site-packages/sentence_transformers/SentenceTransformer.py:569\u001b[0m, in \u001b[0;36mSentenceTransformer.encode\u001b[0;34m(self, sentences, prompt_name, prompt, batch_size, show_progress_bar, output_value, precision, convert_to_numpy, convert_to_tensor, device, normalize_embeddings, **kwargs)\u001b[0m\n\u001b[1;32m    567\u001b[0m \u001b[38;5;28;01mfor\u001b[39;00m start_index \u001b[38;5;129;01min\u001b[39;00m trange(\u001b[38;5;241m0\u001b[39m, \u001b[38;5;28mlen\u001b[39m(sentences), batch_size, desc\u001b[38;5;241m=\u001b[39m\u001b[38;5;124m\"\u001b[39m\u001b[38;5;124mBatches\u001b[39m\u001b[38;5;124m\"\u001b[39m, disable\u001b[38;5;241m=\u001b[39m\u001b[38;5;129;01mnot\u001b[39;00m show_progress_bar):\n\u001b[1;32m    568\u001b[0m     sentences_batch \u001b[38;5;241m=\u001b[39m sentences_sorted[start_index : start_index \u001b[38;5;241m+\u001b[39m batch_size]\n\u001b[0;32m--> 569\u001b[0m     features \u001b[38;5;241m=\u001b[39m \u001b[38;5;28;43mself\u001b[39;49m\u001b[38;5;241;43m.\u001b[39;49m\u001b[43mtokenize\u001b[49m\u001b[43m(\u001b[49m\u001b[43msentences_batch\u001b[49m\u001b[43m)\u001b[49m\n\u001b[1;32m    570\u001b[0m     \u001b[38;5;28;01mif\u001b[39;00m \u001b[38;5;28mself\u001b[39m\u001b[38;5;241m.\u001b[39mdevice\u001b[38;5;241m.\u001b[39mtype \u001b[38;5;241m==\u001b[39m \u001b[38;5;124m\"\u001b[39m\u001b[38;5;124mhpu\u001b[39m\u001b[38;5;124m\"\u001b[39m:\n\u001b[1;32m    571\u001b[0m         \u001b[38;5;28;01mif\u001b[39;00m \u001b[38;5;124m\"\u001b[39m\u001b[38;5;124minput_ids\u001b[39m\u001b[38;5;124m\"\u001b[39m \u001b[38;5;129;01min\u001b[39;00m features:\n",
      "File \u001b[0;32m/opt/conda/lib/python3.10/site-packages/sentence_transformers/SentenceTransformer.py:1024\u001b[0m, in \u001b[0;36mSentenceTransformer.tokenize\u001b[0;34m(self, texts)\u001b[0m\n\u001b[1;32m   1013\u001b[0m \u001b[38;5;28;01mdef\u001b[39;00m \u001b[38;5;21mtokenize\u001b[39m(\u001b[38;5;28mself\u001b[39m, texts: \u001b[38;5;28mlist\u001b[39m[\u001b[38;5;28mstr\u001b[39m] \u001b[38;5;241m|\u001b[39m \u001b[38;5;28mlist\u001b[39m[\u001b[38;5;28mdict\u001b[39m] \u001b[38;5;241m|\u001b[39m \u001b[38;5;28mlist\u001b[39m[\u001b[38;5;28mtuple\u001b[39m[\u001b[38;5;28mstr\u001b[39m, \u001b[38;5;28mstr\u001b[39m]]) \u001b[38;5;241m-\u001b[39m\u001b[38;5;241m>\u001b[39m \u001b[38;5;28mdict\u001b[39m[\u001b[38;5;28mstr\u001b[39m, Tensor]:\n\u001b[1;32m   1014\u001b[0m \u001b[38;5;250m    \u001b[39m\u001b[38;5;124;03m\"\"\"\u001b[39;00m\n\u001b[1;32m   1015\u001b[0m \u001b[38;5;124;03m    Tokenizes the texts.\u001b[39;00m\n\u001b[1;32m   1016\u001b[0m \n\u001b[0;32m   (...)\u001b[0m\n\u001b[1;32m   1022\u001b[0m \u001b[38;5;124;03m            \"attention_mask\", and \"token_type_ids\".\u001b[39;00m\n\u001b[1;32m   1023\u001b[0m \u001b[38;5;124;03m    \"\"\"\u001b[39;00m\n\u001b[0;32m-> 1024\u001b[0m     \u001b[38;5;28;01mreturn\u001b[39;00m \u001b[38;5;28;43mself\u001b[39;49m\u001b[38;5;241;43m.\u001b[39;49m\u001b[43m_first_module\u001b[49m\u001b[43m(\u001b[49m\u001b[43m)\u001b[49m\u001b[38;5;241;43m.\u001b[39;49m\u001b[43mtokenize\u001b[49m(texts)\n",
      "\u001b[0;31mAttributeError\u001b[0m: 'NoneType' object has no attribute 'tokenize'"
     ]
    }
   ],
   "source": [
    "# 6. (Optional) Create an evaluator & evaluate the base model\n",
    "dev_evaluator = TripletEvaluator(\n",
    "    anchors=train[\"AllText\"][:2],\n",
    "    positives=train[\"MisconceptionName\"][:2],\n",
    "    negatives=train[\"PredictMisconceptionName\"][:2],\n",
    "    name=f\"{MODEL_NAME}-dev\",\n",
    ")\n",
    "dev_evaluator(model)"
   ]
  },
  {
   "cell_type": "code",
   "execution_count": 7,
   "id": "6f8792d9",
   "metadata": {},
   "outputs": [
    {
     "data": {
      "application/vnd.jupyter.widget-view+json": {
       "model_id": "353bbb2d39a740a6a0cff4cbb2d8c55b",
       "version_major": 2,
       "version_minor": 0
      },
      "text/plain": [
       "README.md:   0%|          | 0.00/5.15k [00:00<?, ?B/s]"
      ]
     },
     "metadata": {},
     "output_type": "display_data"
    },
    {
     "data": {
      "application/vnd.jupyter.widget-view+json": {
       "model_id": "361a836379bb4c7a889038fbcacce7c4",
       "version_major": 2,
       "version_minor": 0
      },
      "text/plain": [
       "train-00000-of-00001.parquet:   0%|          | 0.00/38.4M [00:00<?, ?B/s]"
      ]
     },
     "metadata": {},
     "output_type": "display_data"
    },
    {
     "data": {
      "application/vnd.jupyter.widget-view+json": {
       "model_id": "6bf26df8b23e41f6b2cbc9f36fae1772",
       "version_major": 2,
       "version_minor": 0
      },
      "text/plain": [
       "dev-00000-of-00001.parquet:   0%|          | 0.00/782k [00:00<?, ?B/s]"
      ]
     },
     "metadata": {},
     "output_type": "display_data"
    },
    {
     "data": {
      "application/vnd.jupyter.widget-view+json": {
       "model_id": "7c62021def884adfbd169a625afe6906",
       "version_major": 2,
       "version_minor": 0
      },
      "text/plain": [
       "test-00000-of-00001.parquet:   0%|          | 0.00/810k [00:00<?, ?B/s]"
      ]
     },
     "metadata": {},
     "output_type": "display_data"
    },
    {
     "data": {
      "application/vnd.jupyter.widget-view+json": {
       "model_id": "181f40a3f64a4bc2ab438ef6929f6dfb",
       "version_major": 2,
       "version_minor": 0
      },
      "text/plain": [
       "Generating train split:   0%|          | 0/557850 [00:00<?, ? examples/s]"
      ]
     },
     "metadata": {},
     "output_type": "display_data"
    },
    {
     "data": {
      "application/vnd.jupyter.widget-view+json": {
       "model_id": "b14d697136344e4ba4decd24e506d826",
       "version_major": 2,
       "version_minor": 0
      },
      "text/plain": [
       "Generating dev split:   0%|          | 0/6584 [00:00<?, ? examples/s]"
      ]
     },
     "metadata": {},
     "output_type": "display_data"
    },
    {
     "data": {
      "application/vnd.jupyter.widget-view+json": {
       "model_id": "60e307ad6ef34cc9ab5d2f52199982f7",
       "version_major": 2,
       "version_minor": 0
      },
      "text/plain": [
       "Generating test split:   0%|          | 0/6609 [00:00<?, ? examples/s]"
      ]
     },
     "metadata": {},
     "output_type": "display_data"
    }
   ],
   "source": [
    "from datasets import load_dataset\n",
    "\n",
    "dataset = load_dataset(\"sentence-transformers/all-nli\", \"triplet\")"
   ]
  },
  {
   "cell_type": "code",
   "execution_count": 9,
   "id": "817a3330",
   "metadata": {},
   "outputs": [
    {
     "data": {
      "text/plain": [
       "{'anchor': 'A person on a horse jumps over a broken down airplane.',\n",
       " 'positive': 'A person is outdoors, on a horse.',\n",
       " 'negative': 'A person is at a diner, ordering an omelette.'}"
      ]
     },
     "execution_count": 9,
     "metadata": {},
     "output_type": "execute_result"
    }
   ],
   "source": [
    "dataset[\"train\"][0]"
   ]
  },
  {
   "cell_type": "code",
   "execution_count": null,
   "metadata": {},
   "outputs": [],
   "source": []
  },
  {
   "cell_type": "code",
   "execution_count": null,
   "metadata": {},
   "outputs": [],
   "source": []
  },
  {
   "cell_type": "code",
   "execution_count": 11,
   "id": "a92d8541",
   "metadata": {},
   "outputs": [
    {
     "name": "stdout",
     "output_type": "stream",
     "text": [
      "(7476, 1024)\n",
      "(2587, 1024)\n"
     ]
    }
   ],
   "source": [
    "# model = SentenceTransformer(\"BAAI/bge-large-zh-v1.5\") # CV: 0.06ぐらい\n",
    "model = SentenceTransformer(\"BAAI/bge-large-en-v1.5\")  # CV: 0.1841439184198388\n",
    "# model = SentenceTransformer(\"all-MiniLM-L6-v2\") # CV: 0.17806659878200218\n",
    "# model = SentenceTransformer(\"nvidia/NV-Embed-v2\", trust_remote_code=True)  # CV: OOMのため、試せていない\n",
    "# model.max_seq_length = 32768\n",
    "# model.tokenizer.padding_side = \"right\"\n",
    "# model = SentenceTransformer(\"dunzhang/stella_en_1.5B_v5\", trust_remote_code=True)\n",
    "\n",
    "train_long_vec = model.encode(\n",
    "    train_long[\"AllText\"].to_list(), normalize_embeddings=True\n",
    ")\n",
    "misconception_mapping_vec = model.encode(\n",
    "    misconception_mapping[\"MisconceptionName\"].to_list(), normalize_embeddings=True\n",
    ")\n",
    "print(train_long_vec.shape)\n",
    "print(misconception_mapping_vec.shape)"
   ]
  },
  {
   "cell_type": "code",
   "execution_count": 12,
   "id": "6368fe01",
   "metadata": {},
   "outputs": [],
   "source": [
    "# misconception_mapping_vecを保存する\n",
    "os.makedirs(MODEL_OUTPUT_PATH, exist_ok=True)\n",
    "np.save(f\"{MODEL_OUTPUT_PATH}/misconception_mapping_vec.npy\", misconception_mapping_vec)"
   ]
  },
  {
   "cell_type": "code",
   "execution_count": 13,
   "id": "8171be61",
   "metadata": {
    "execution": {
     "iopub.execute_input": "2024-09-14T01:46:01.415427Z",
     "iopub.status.busy": "2024-09-14T01:46:01.414946Z",
     "iopub.status.idle": "2024-09-14T01:46:06.419565Z",
     "shell.execute_reply": "2024-09-14T01:46:06.418520Z"
    },
    "papermill": {
     "duration": 5.023799,
     "end_time": "2024-09-14T01:46:06.422421",
     "exception": false,
     "start_time": "2024-09-14T01:46:01.398622",
     "status": "completed"
    },
    "tags": []
   },
   "outputs": [],
   "source": [
    "train_cos_sim_arr = cosine_similarity(train_long_vec, misconception_mapping_vec)\n",
    "train_sorted_indices = np.argsort(-train_cos_sim_arr, axis=1)"
   ]
  },
  {
   "cell_type": "code",
   "execution_count": 14,
   "id": "3288a590",
   "metadata": {
    "execution": {
     "iopub.execute_input": "2024-09-14T01:46:06.485692Z",
     "iopub.status.busy": "2024-09-14T01:46:06.484542Z",
     "iopub.status.idle": "2024-09-14T01:46:06.493692Z",
     "shell.execute_reply": "2024-09-14T01:46:06.492283Z"
    },
    "papermill": {
     "duration": 0.025202,
     "end_time": "2024-09-14T01:46:06.496371",
     "exception": false,
     "start_time": "2024-09-14T01:46:06.471169",
     "status": "completed"
    },
    "tags": []
   },
   "outputs": [],
   "source": [
    "# example\n",
    "def print_example(df: pl.DataFrame, sorted_indices: np.ndarray, idx: int) -> None:\n",
    "    print(f\"Query idx{idx}\")\n",
    "    print(df[\"AllText\"][idx])\n",
    "    print(\"\\nCos Sim No.1\")\n",
    "    print(misconception_mapping[\"MisconceptionName\"][int(sorted_indices[idx, 0])])\n",
    "    print(\"\\nCos Sim No.2\")\n",
    "    print(misconception_mapping[\"MisconceptionName\"][int(sorted_indices[idx, 1])])"
   ]
  },
  {
   "cell_type": "code",
   "execution_count": 15,
   "id": "0b85607c",
   "metadata": {},
   "outputs": [
    {
     "name": "stdout",
     "output_type": "stream",
     "text": [
      "Query idx0\n",
      "Use the order of operations to carry out calculations involving powers BIDMAS \\[\n",
      "3 \\times 2+4-5\n",
      "\\]\n",
      "Where do the brackets need to go to make the answer equal \\( 13 \\) ? \\( 3 \\times(2+4)-5 \\)\n",
      "\n",
      "Cos Sim No.1\n",
      "Applies BIDMAS in strict order (does not realize addition and subtraction, and multiplication and division, are of equal priority)\n",
      "\n",
      "Cos Sim No.2\n",
      "Misunderstands order of operations in algebraic expressions\n"
     ]
    }
   ],
   "source": [
    "print_example(train_long, train_sorted_indices, 0)"
   ]
  },
  {
   "cell_type": "code",
   "execution_count": 16,
   "id": "1211ff44",
   "metadata": {
    "execution": {
     "iopub.execute_input": "2024-09-14T01:46:06.521580Z",
     "iopub.status.busy": "2024-09-14T01:46:06.521011Z",
     "iopub.status.idle": "2024-09-14T01:46:06.527584Z",
     "shell.execute_reply": "2024-09-14T01:46:06.526276Z"
    },
    "papermill": {
     "duration": 0.022384,
     "end_time": "2024-09-14T01:46:06.530441",
     "exception": false,
     "start_time": "2024-09-14T01:46:06.508057",
     "status": "completed"
    },
    "tags": []
   },
   "outputs": [
    {
     "name": "stdout",
     "output_type": "stream",
     "text": [
      "Query idx1\n",
      "Use the order of operations to carry out calculations involving powers BIDMAS \\[\n",
      "3 \\times 2+4-5\n",
      "\\]\n",
      "Where do the brackets need to go to make the answer equal \\( 13 \\) ? \\( 3 \\times 2+(4-5) \\)\n",
      "\n",
      "Cos Sim No.1\n",
      "Applies BIDMAS in strict order (does not realize addition and subtraction, and multiplication and division, are of equal priority)\n",
      "\n",
      "Cos Sim No.2\n",
      "Misunderstands order of operations in algebraic expressions\n"
     ]
    }
   ],
   "source": [
    "print_example(train_long, train_sorted_indices, 1)"
   ]
  },
  {
   "cell_type": "markdown",
   "id": "7ffe1e2c",
   "metadata": {
    "papermill": {
     "duration": 0.011086,
     "end_time": "2024-09-14T01:46:06.552908",
     "exception": false,
     "start_time": "2024-09-14T01:46:06.541822",
     "status": "completed"
    },
    "tags": []
   },
   "source": [
    "# Evaluate"
   ]
  },
  {
   "cell_type": "code",
   "execution_count": 17,
   "id": "37b5f922",
   "metadata": {
    "execution": {
     "iopub.execute_input": "2024-09-14T01:46:06.579007Z",
     "iopub.status.busy": "2024-09-14T01:46:06.578594Z",
     "iopub.status.idle": "2024-09-14T01:46:06.602802Z",
     "shell.execute_reply": "2024-09-14T01:46:06.601417Z"
    },
    "papermill": {
     "duration": 0.04065,
     "end_time": "2024-09-14T01:46:06.605893",
     "exception": false,
     "start_time": "2024-09-14T01:46:06.565243",
     "status": "completed"
    },
    "tags": []
   },
   "outputs": [],
   "source": [
    "train_long = train_long.with_columns(\n",
    "    pl.Series(train_sorted_indices[:, :RETRIEVE_NUM].tolist()).alias(\n",
    "        \"PredictMisconceptionId\"\n",
    "    )\n",
    ")"
   ]
  },
  {
   "cell_type": "code",
   "execution_count": 18,
   "id": "19b400a0",
   "metadata": {
    "execution": {
     "iopub.execute_input": "2024-09-14T01:46:06.631229Z",
     "iopub.status.busy": "2024-09-14T01:46:06.630809Z",
     "iopub.status.idle": "2024-09-14T01:46:06.638133Z",
     "shell.execute_reply": "2024-09-14T01:46:06.636961Z"
    },
    "papermill": {
     "duration": 0.023321,
     "end_time": "2024-09-14T01:46:06.640719",
     "exception": false,
     "start_time": "2024-09-14T01:46:06.617398",
     "status": "completed"
    },
    "tags": []
   },
   "outputs": [],
   "source": [
    "# https://www.kaggle.com/code/cdeotte/how-to-train-open-book-model-part-1#MAP@3-Metric\n",
    "def map_at_25(predictions, labels):\n",
    "    map_sum = 0\n",
    "    for x, y in zip(predictions, labels):\n",
    "        z = [1 / i if y == j else 0 for i, j in zip(range(1, 26), x)]\n",
    "        map_sum += np.sum(z)\n",
    "    return map_sum / len(predictions)"
   ]
  },
  {
   "cell_type": "code",
   "execution_count": 19,
   "id": "dbd99f42",
   "metadata": {
    "execution": {
     "iopub.execute_input": "2024-09-14T01:46:06.666065Z",
     "iopub.status.busy": "2024-09-14T01:46:06.665606Z",
     "iopub.status.idle": "2024-09-14T01:46:06.762803Z",
     "shell.execute_reply": "2024-09-14T01:46:06.761446Z"
    },
    "papermill": {
     "duration": 0.113621,
     "end_time": "2024-09-14T01:46:06.765721",
     "exception": false,
     "start_time": "2024-09-14T01:46:06.652100",
     "status": "completed"
    },
    "tags": []
   },
   "outputs": [
    {
     "data": {
      "text/plain": [
       "0.1841439184198388"
      ]
     },
     "execution_count": 19,
     "metadata": {},
     "output_type": "execute_result"
    }
   ],
   "source": [
    "map_at_25_score = map_at_25(\n",
    "    train_long.filter(pl.col(\"MisconceptionId\").is_not_null())[\n",
    "        \"PredictMisconceptionId\"\n",
    "    ],\n",
    "    train_long.filter(pl.col(\"MisconceptionId\").is_not_null())[\"MisconceptionId\"],\n",
    ")\n",
    "map_at_25_score"
   ]
  },
  {
   "cell_type": "code",
   "execution_count": 20,
   "id": "1a66afa0",
   "metadata": {
    "execution": {
     "iopub.execute_input": "2024-09-14T01:46:06.790904Z",
     "iopub.status.busy": "2024-09-14T01:46:06.790453Z",
     "iopub.status.idle": "2024-09-14T01:46:06.809203Z",
     "shell.execute_reply": "2024-09-14T01:46:06.807875Z"
    },
    "papermill": {
     "duration": 0.034606,
     "end_time": "2024-09-14T01:46:06.812192",
     "exception": false,
     "start_time": "2024-09-14T01:46:06.777586",
     "status": "completed"
    },
    "tags": []
   },
   "outputs": [
    {
     "data": {
      "text/plain": [
       "0.5505720823798627"
      ]
     },
     "execution_count": 20,
     "metadata": {},
     "output_type": "execute_result"
    }
   ],
   "source": [
    "def recall(predictions, labels):\n",
    "    acc_num = np.sum([1 for x, y in zip(predictions, labels) if y in x])\n",
    "    return acc_num / len(predictions)\n",
    "\n",
    "\n",
    "recall_score = recall(\n",
    "    train_long.filter(pl.col(\"MisconceptionId\").is_not_null())[\n",
    "        \"PredictMisconceptionId\"\n",
    "    ],\n",
    "    train_long.filter(pl.col(\"MisconceptionId\").is_not_null())[\"MisconceptionId\"],\n",
    ")\n",
    "recall_score"
   ]
  },
  {
   "cell_type": "markdown",
   "id": "0657bf3d",
   "metadata": {
    "papermill": {
     "duration": 0.011875,
     "end_time": "2024-09-14T01:46:07.146569",
     "exception": false,
     "start_time": "2024-09-14T01:46:07.134694",
     "status": "completed"
    },
    "tags": []
   },
   "source": [
    "# Make Retrieved Train File"
   ]
  },
  {
   "cell_type": "code",
   "execution_count": 21,
   "id": "297ca4b1",
   "metadata": {},
   "outputs": [
    {
     "data": {
      "text/html": [
       "<div><style>\n",
       ".dataframe > thead > tr,\n",
       ".dataframe > tbody > tr {\n",
       "  text-align: right;\n",
       "  white-space: pre-wrap;\n",
       "}\n",
       "</style>\n",
       "<small>shape: (5, 16)</small><table border=\"1\" class=\"dataframe\"><thead><tr><th>QuestionId</th><th>ConstructName</th><th>SubjectName</th><th>QuestionText</th><th>CorrectAnswer</th><th>AnswerType</th><th>AnswerText</th><th>AllText</th><th>AnswerAlphabet</th><th>QuestionId_Answer</th><th>MisconceptionId</th><th>PredictMisconceptionId</th><th>target</th><th>MisconceptionId_right</th><th>MisconceptionName</th><th>PredictMisconceptionName</th></tr><tr><td>i64</td><td>str</td><td>str</td><td>str</td><td>str</td><td>str</td><td>str</td><td>str</td><td>str</td><td>str</td><td>i64</td><td>i64</td><td>i64</td><td>i64</td><td>str</td><td>str</td></tr></thead><tbody><tr><td>0</td><td>&quot;Use the order of operations to…</td><td>&quot;BIDMAS&quot;</td><td>&quot;\\[\n",
       "3 \\times 2+4-5\n",
       "\\]\n",
       "Where do …</td><td>&quot;A&quot;</td><td>&quot;AnswerDText&quot;</td><td>&quot;Does not need brackets&quot;</td><td>&quot;Use the order of operations to…</td><td>&quot;D&quot;</td><td>&quot;0_D&quot;</td><td>1672</td><td>2306</td><td>0</td><td>2306</td><td>&quot;Applies BIDMAS in strict order…</td><td>&quot;Applies BIDMAS in strict order…</td></tr><tr><td>0</td><td>&quot;Use the order of operations to…</td><td>&quot;BIDMAS&quot;</td><td>&quot;\\[\n",
       "3 \\times 2+4-5\n",
       "\\]\n",
       "Where do …</td><td>&quot;A&quot;</td><td>&quot;AnswerDText&quot;</td><td>&quot;Does not need brackets&quot;</td><td>&quot;Use the order of operations to…</td><td>&quot;D&quot;</td><td>&quot;0_D&quot;</td><td>1672</td><td>2586</td><td>0</td><td>2586</td><td>&quot;Misunderstands order of operat…</td><td>&quot;Misunderstands order of operat…</td></tr><tr><td>0</td><td>&quot;Use the order of operations to…</td><td>&quot;BIDMAS&quot;</td><td>&quot;\\[\n",
       "3 \\times 2+4-5\n",
       "\\]\n",
       "Where do …</td><td>&quot;A&quot;</td><td>&quot;AnswerDText&quot;</td><td>&quot;Does not need brackets&quot;</td><td>&quot;Use the order of operations to…</td><td>&quot;D&quot;</td><td>&quot;0_D&quot;</td><td>1672</td><td>2488</td><td>0</td><td>2488</td><td>&quot;Answers order of operations qu…</td><td>&quot;Answers order of operations qu…</td></tr><tr><td>0</td><td>&quot;Use the order of operations to…</td><td>&quot;BIDMAS&quot;</td><td>&quot;\\[\n",
       "3 \\times 2+4-5\n",
       "\\]\n",
       "Where do …</td><td>&quot;A&quot;</td><td>&quot;AnswerDText&quot;</td><td>&quot;Does not need brackets&quot;</td><td>&quot;Use the order of operations to…</td><td>&quot;D&quot;</td><td>&quot;0_D&quot;</td><td>1672</td><td>2518</td><td>0</td><td>2518</td><td>&quot;May have made a calculation er…</td><td>&quot;May have made a calculation er…</td></tr><tr><td>0</td><td>&quot;Use the order of operations to…</td><td>&quot;BIDMAS&quot;</td><td>&quot;\\[\n",
       "3 \\times 2+4-5\n",
       "\\]\n",
       "Where do …</td><td>&quot;A&quot;</td><td>&quot;AnswerDText&quot;</td><td>&quot;Does not need brackets&quot;</td><td>&quot;Use the order of operations to…</td><td>&quot;D&quot;</td><td>&quot;0_D&quot;</td><td>1672</td><td>1316</td><td>0</td><td>1316</td><td>&quot;Does not understand that the n…</td><td>&quot;Does not understand that the n…</td></tr></tbody></table></div>"
      ],
      "text/plain": [
       "shape: (5, 16)\n",
       "┌────────────┬────────────┬───────────┬───────────┬───┬────────┬───────────┬───────────┬───────────┐\n",
       "│ QuestionId ┆ ConstructN ┆ SubjectNa ┆ QuestionT ┆ … ┆ target ┆ Misconcep ┆ Misconcep ┆ PredictMi │\n",
       "│ ---        ┆ ame        ┆ me        ┆ ext       ┆   ┆ ---    ┆ tionId_ri ┆ tionName  ┆ sconcepti │\n",
       "│ i64        ┆ ---        ┆ ---       ┆ ---       ┆   ┆ i64    ┆ ght       ┆ ---       ┆ onName    │\n",
       "│            ┆ str        ┆ str       ┆ str       ┆   ┆        ┆ ---       ┆ str       ┆ ---       │\n",
       "│            ┆            ┆           ┆           ┆   ┆        ┆ i64       ┆           ┆ str       │\n",
       "╞════════════╪════════════╪═══════════╪═══════════╪═══╪════════╪═══════════╪═══════════╪═══════════╡\n",
       "│ 0          ┆ Use the    ┆ BIDMAS    ┆ \\[        ┆ … ┆ 0      ┆ 2306      ┆ Applies   ┆ Applies   │\n",
       "│            ┆ order of   ┆           ┆ 3 \\times  ┆   ┆        ┆           ┆ BIDMAS in ┆ BIDMAS in │\n",
       "│            ┆ operations ┆           ┆ 2+4-5     ┆   ┆        ┆           ┆ strict    ┆ strict    │\n",
       "│            ┆ to…        ┆           ┆ \\]        ┆   ┆        ┆           ┆ order…    ┆ order…    │\n",
       "│            ┆            ┆           ┆ Where do  ┆   ┆        ┆           ┆           ┆           │\n",
       "│            ┆            ┆           ┆ …         ┆   ┆        ┆           ┆           ┆           │\n",
       "│ 0          ┆ Use the    ┆ BIDMAS    ┆ \\[        ┆ … ┆ 0      ┆ 2586      ┆ Misunders ┆ Misunders │\n",
       "│            ┆ order of   ┆           ┆ 3 \\times  ┆   ┆        ┆           ┆ tands     ┆ tands     │\n",
       "│            ┆ operations ┆           ┆ 2+4-5     ┆   ┆        ┆           ┆ order of  ┆ order of  │\n",
       "│            ┆ to…        ┆           ┆ \\]        ┆   ┆        ┆           ┆ operat…   ┆ operat…   │\n",
       "│            ┆            ┆           ┆ Where do  ┆   ┆        ┆           ┆           ┆           │\n",
       "│            ┆            ┆           ┆ …         ┆   ┆        ┆           ┆           ┆           │\n",
       "│ 0          ┆ Use the    ┆ BIDMAS    ┆ \\[        ┆ … ┆ 0      ┆ 2488      ┆ Answers   ┆ Answers   │\n",
       "│            ┆ order of   ┆           ┆ 3 \\times  ┆   ┆        ┆           ┆ order of  ┆ order of  │\n",
       "│            ┆ operations ┆           ┆ 2+4-5     ┆   ┆        ┆           ┆ operation ┆ operation │\n",
       "│            ┆ to…        ┆           ┆ \\]        ┆   ┆        ┆           ┆ s qu…     ┆ s qu…     │\n",
       "│            ┆            ┆           ┆ Where do  ┆   ┆        ┆           ┆           ┆           │\n",
       "│            ┆            ┆           ┆ …         ┆   ┆        ┆           ┆           ┆           │\n",
       "│ 0          ┆ Use the    ┆ BIDMAS    ┆ \\[        ┆ … ┆ 0      ┆ 2518      ┆ May have  ┆ May have  │\n",
       "│            ┆ order of   ┆           ┆ 3 \\times  ┆   ┆        ┆           ┆ made a    ┆ made a    │\n",
       "│            ┆ operations ┆           ┆ 2+4-5     ┆   ┆        ┆           ┆ calculati ┆ calculati │\n",
       "│            ┆ to…        ┆           ┆ \\]        ┆   ┆        ┆           ┆ on er…    ┆ on er…    │\n",
       "│            ┆            ┆           ┆ Where do  ┆   ┆        ┆           ┆           ┆           │\n",
       "│            ┆            ┆           ┆ …         ┆   ┆        ┆           ┆           ┆           │\n",
       "│ 0          ┆ Use the    ┆ BIDMAS    ┆ \\[        ┆ … ┆ 0      ┆ 1316      ┆ Does not  ┆ Does not  │\n",
       "│            ┆ order of   ┆           ┆ 3 \\times  ┆   ┆        ┆           ┆ understan ┆ understan │\n",
       "│            ┆ operations ┆           ┆ 2+4-5     ┆   ┆        ┆           ┆ d that    ┆ d that    │\n",
       "│            ┆ to…        ┆           ┆ \\]        ┆   ┆        ┆           ┆ the n…    ┆ the n…    │\n",
       "│            ┆            ┆           ┆ Where do  ┆   ┆        ┆           ┆           ┆           │\n",
       "│            ┆            ┆           ┆ …         ┆   ┆        ┆           ┆           ┆           │\n",
       "└────────────┴────────────┴───────────┴───────────┴───┴────────┴───────────┴───────────┴───────────┘"
      ]
     },
     "execution_count": 21,
     "metadata": {},
     "output_type": "execute_result"
    }
   ],
   "source": [
    "train_retrieved = (\n",
    "    train_long.filter(\n",
    "        pl.col(\n",
    "            \"MisconceptionId\"\n",
    "        ).is_not_null()  # TODO: Consider ways to utilize data where MisconceptionId is NaN.\n",
    "    )\n",
    "    .explode(\"PredictMisconceptionId\")\n",
    "    .with_columns(\n",
    "        (pl.col(\"MisconceptionId\") == pl.col(\"PredictMisconceptionId\"))\n",
    "        .cast(pl.Int64)\n",
    "        .alias(\"target\")\n",
    "    )\n",
    "    .join(\n",
    "        misconception_mapping.with_columns(pl.all().name.prefix(\"Predict\")),\n",
    "        on=\"PredictMisconceptionId\",\n",
    "    )\n",
    ")\n",
    "train_retrieved.head()"
   ]
  },
  {
   "cell_type": "code",
   "execution_count": 25,
   "id": "5fdd7ac6",
   "metadata": {},
   "outputs": [],
   "source": [
    "train_retrieved.write_csv(\n",
    "    f\"{MODEL_OUTPUT_PATH}/{EXP_NAME}-ret{RETRIEVE_NUM}-map{map_at_25_score:.4f}-recall{recall_score:.4f}.csv\",\n",
    ")"
   ]
  },
  {
   "cell_type": "code",
   "execution_count": 26,
   "id": "0f7d6dcf",
   "metadata": {},
   "outputs": [
    {
     "name": "stdout",
     "output_type": "stream",
     "text": [
      "../../retrieved_data/e003-ret-bge-ret25_map0.1841_recall0.5506.csv\n"
     ]
    }
   ],
   "source": [
    "print(\n",
    "    f\"{MODEL_OUTPUT_PATH}/{EXP_NAME}-ret{RETRIEVE_NUM}-map{map_at_25_score:.4f}-recall{recall_score:.4f}.csv\",\n",
    ")"
   ]
  },
  {
   "cell_type": "markdown",
   "id": "ffaa7596",
   "metadata": {},
   "source": [
    "# Kaggle Upload"
   ]
  },
  {
   "cell_type": "code",
   "execution_count": 27,
   "id": "f368627a",
   "metadata": {},
   "outputs": [
    {
     "name": "stdout",
     "output_type": "stream",
     "text": [
      "Create Dataset name:e003-ret-bge, output_dir:../../eedi-mining-misconceptions-in-mathematics/trained_models/retriever/e003-ret-bge\n",
      "Starting upload for file misconception_mapping_vec.npy\n"
     ]
    },
    {
     "name": "stderr",
     "output_type": "stream",
     "text": [
      "100%|██████████| 10.1M/10.1M [00:04<00:00, 2.38MB/s]"
     ]
    },
    {
     "name": "stdout",
     "output_type": "stream",
     "text": [
      "Upload successful: misconception_mapping_vec.npy (10MB)\n"
     ]
    },
    {
     "name": "stderr",
     "output_type": "stream",
     "text": [
      "\n"
     ]
    }
   ],
   "source": [
    "import os\n",
    "import json\n",
    "\n",
    "from kaggle.api.kaggle_api_extended import KaggleApi\n",
    "\n",
    "\n",
    "def dataset_create_new(dataset_name: str, upload_dir: str):\n",
    "    # if \"_\" in dataset_name:\n",
    "    #     raise ValueError(\"datasetの名称に_の使用は禁止です\")\n",
    "    dataset_metadata = {}\n",
    "    dataset_metadata[\"id\"] = f\"sinchir0/{dataset_name}\"\n",
    "    dataset_metadata[\"licenses\"] = [{\"name\": \"CC0-1.0\"}]\n",
    "    dataset_metadata[\"title\"] = dataset_name\n",
    "    with open(os.path.join(upload_dir, \"dataset-metadata.json\"), \"w\") as f:\n",
    "        json.dump(dataset_metadata, f, indent=4)\n",
    "    api = KaggleApi()\n",
    "    api.authenticate()\n",
    "    api.dataset_create_new(folder=upload_dir, convert_to_csv=False, dir_mode=\"tar\")\n",
    "\n",
    "\n",
    "print(f\"Create Dataset name:{DATASET_NAME}, output_dir:{MODEL_OUTPUT_PATH}\")\n",
    "dataset_create_new(dataset_name=DATASET_NAME, upload_dir=MODEL_OUTPUT_PATH)"
   ]
  },
  {
   "cell_type": "code",
   "execution_count": null,
   "id": "5a0f1c40",
   "metadata": {},
   "outputs": [],
   "source": []
  }
 ],
 "metadata": {
  "kaggle": {
   "accelerator": "none",
   "dataSources": [
    {
     "databundleVersionId": 9551816,
     "sourceId": 82695,
     "sourceType": "competition"
    }
   ],
   "dockerImageVersionId": 30761,
   "isGpuEnabled": false,
   "isInternetEnabled": false,
   "language": "python",
   "sourceType": "notebook"
  },
  "kernelspec": {
   "display_name": "base",
   "language": "python",
   "name": "python3"
  },
  "language_info": {
   "codemirror_mode": {
    "name": "ipython",
    "version": 3
   },
   "file_extension": ".py",
   "mimetype": "text/x-python",
   "name": "python",
   "nbconvert_exporter": "python",
   "pygments_lexer": "ipython3",
   "version": "3.10.14"
  },
  "papermill": {
   "default_parameters": {},
   "duration": 14.614286,
   "end_time": "2024-09-14T01:46:08.075104",
   "environment_variables": {},
   "exception": null,
   "input_path": "__notebook__.ipynb",
   "output_path": "__notebook__.ipynb",
   "parameters": {},
   "start_time": "2024-09-14T01:45:53.460818",
   "version": "2.6.0"
  }
 },
 "nbformat": 4,
 "nbformat_minor": 5
}
