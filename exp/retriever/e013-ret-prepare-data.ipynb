{
 "cells": [
  {
   "cell_type": "markdown",
   "id": "71acc131",
   "metadata": {
    "papermill": {
     "duration": 0.011532,
     "end_time": "2024-09-14T01:45:57.074016",
     "exception": false,
     "start_time": "2024-09-14T01:45:57.062484",
     "status": "completed"
    },
    "tags": []
   },
   "source": [
    "# 目的\n",
    "生成したデータに対する、bgeでのretrieveファイルの作成\n",
    "\n",
    "- MAP@25: \n",
    "- recall: \n",
    "\n",
    "Please let me know if there are any mistakes."
   ]
  },
  {
   "cell_type": "markdown",
   "id": "82cc8a91",
   "metadata": {},
   "source": [
    "# Setting"
   ]
  },
  {
   "cell_type": "code",
   "execution_count": 1,
   "id": "6c063a5a",
   "metadata": {},
   "outputs": [],
   "source": [
    "EXP_NAME = \"e013-ret-bge-prepare\"\n",
    "DATA_PATH = \"../../data\"\n",
    "\n",
    "DATASET_NAME = EXP_NAME\n",
    "OUTPUT_PATH = f\"../../output/retriever/{EXP_NAME}\"\n",
    "\n",
    "RETRIEVE_NUM = 25  # TODO: 多くしてみる"
   ]
  },
  {
   "cell_type": "markdown",
   "id": "65096f42",
   "metadata": {},
   "source": [
    "# Install"
   ]
  },
  {
   "cell_type": "code",
   "execution_count": 2,
   "id": "58124e75",
   "metadata": {},
   "outputs": [],
   "source": [
    "# %pip install sentence-transformers==3.1.0"
   ]
  },
  {
   "cell_type": "markdown",
   "id": "27e26266",
   "metadata": {
    "papermill": {
     "duration": 0.010544,
     "end_time": "2024-09-14T01:45:57.095623",
     "exception": false,
     "start_time": "2024-09-14T01:45:57.085079",
     "status": "completed"
    },
    "tags": []
   },
   "source": [
    "# Import"
   ]
  },
  {
   "cell_type": "code",
   "execution_count": 3,
   "id": "e5c0dbcc",
   "metadata": {
    "_cell_guid": "b1076dfc-b9ad-4769-8c92-a6c4dae69d19",
    "_uuid": "8f2839f25d086af736a60e9eeb907d3b93b6e0e5",
    "execution": {
     "iopub.execute_input": "2024-09-14T01:45:57.119081Z",
     "iopub.status.busy": "2024-09-14T01:45:57.118643Z",
     "iopub.status.idle": "2024-09-14T01:45:59.534275Z",
     "shell.execute_reply": "2024-09-14T01:45:59.532994Z"
    },
    "papermill": {
     "duration": 2.430721,
     "end_time": "2024-09-14T01:45:59.537229",
     "exception": false,
     "start_time": "2024-09-14T01:45:57.106508",
     "status": "completed"
    },
    "tags": []
   },
   "outputs": [],
   "source": [
    "import os\n",
    "\n",
    "import polars as pl\n",
    "import numpy as np\n",
    "\n",
    "from sklearn.metrics.pairwise import cosine_similarity\n",
    "\n",
    "import torch\n",
    "from transformers import AutoTokenizer, AutoModel\n",
    "from sentence_transformers import SentenceTransformer"
   ]
  },
  {
   "cell_type": "code",
   "execution_count": 4,
   "id": "31a4f5d4",
   "metadata": {},
   "outputs": [],
   "source": [
    "# import transformers\n",
    "# import torch\n",
    "# import sentence_transformers\n",
    "\n",
    "# assert transformers.__version__ == \"4.44.2\"\n",
    "# assert torch.__version__ == \"2.3.1\"\n",
    "# assert sentence_transformers.__version__ == \"3.1.0\""
   ]
  },
  {
   "cell_type": "markdown",
   "id": "98570c57",
   "metadata": {},
   "source": [
    "# Data Load"
   ]
  },
  {
   "cell_type": "code",
   "execution_count": 5,
   "id": "3575674e",
   "metadata": {},
   "outputs": [],
   "source": [
    "# train = pl.read_csv(f\"{DATA_PATH}/train.csv\")\n",
    "misconception_mapping = pl.read_csv(f\"{DATA_PATH}/misconception_mapping.csv\")"
   ]
  },
  {
   "cell_type": "markdown",
   "id": "c6c21264",
   "metadata": {
    "papermill": {
     "duration": 0.010552,
     "end_time": "2024-09-14T01:45:59.679936",
     "exception": false,
     "start_time": "2024-09-14T01:45:59.669384",
     "status": "completed"
    },
    "tags": []
   },
   "source": [
    "# Preprocess"
   ]
  },
  {
   "cell_type": "code",
   "execution_count": 6,
   "id": "8b785134",
   "metadata": {
    "execution": {
     "iopub.execute_input": "2024-09-14T01:45:59.748361Z",
     "iopub.status.busy": "2024-09-14T01:45:59.747260Z",
     "iopub.status.idle": "2024-09-14T01:45:59.783052Z",
     "shell.execute_reply": "2024-09-14T01:45:59.781736Z"
    },
    "papermill": {
     "duration": 0.051291,
     "end_time": "2024-09-14T01:45:59.785946",
     "exception": false,
     "start_time": "2024-09-14T01:45:59.734655",
     "status": "completed"
    },
    "tags": []
   },
   "outputs": [],
   "source": [
    "# common_col = [\n",
    "#     \"QuestionId\",\n",
    "#     \"ConstructName\",\n",
    "#     \"SubjectName\",\n",
    "#     \"QuestionText\",\n",
    "#     \"CorrectAnswer\",\n",
    "# ]\n",
    "\n",
    "# train_long = (\n",
    "#     pl.read_csv(f\"{DATA_PATH}/train.csv\")\n",
    "#     .select(\n",
    "#         pl.col(common_col + [f\"Answer{alpha}Text\" for alpha in [\"A\", \"B\", \"C\", \"D\"]])\n",
    "#     )\n",
    "#     .unpivot(\n",
    "#         index=common_col,\n",
    "#         variable_name=\"AnswerType\",\n",
    "#         value_name=\"AnswerText\",\n",
    "#     )\n",
    "#     .with_columns(\n",
    "#         pl.concat_str(\n",
    "#             [\n",
    "#                 pl.col(\"ConstructName\"),\n",
    "#                 pl.col(\"SubjectName\"),\n",
    "#                 pl.col(\"QuestionText\"),\n",
    "#                 pl.col(\"AnswerText\"),\n",
    "#             ],\n",
    "#             separator=\" \",\n",
    "#         ).alias(\"AllText\"),\n",
    "#         pl.col(\"AnswerType\").str.extract(r\"Answer([A-D])Text$\").alias(\"AnswerAlphabet\"),\n",
    "#     )\n",
    "#     .with_columns(\n",
    "#         pl.concat_str(\n",
    "#             [pl.col(\"QuestionId\"), pl.col(\"AnswerAlphabet\")], separator=\"_\"\n",
    "#         ).alias(\"QuestionId_Answer\"),\n",
    "#     )\n",
    "#     .sort(\"QuestionId_Answer\")\n",
    "# )\n",
    "# train_long.head()"
   ]
  },
  {
   "cell_type": "code",
   "execution_count": 7,
   "id": "fff8dcce",
   "metadata": {},
   "outputs": [],
   "source": [
    "# train_misconception_long = (\n",
    "#     train.select(\n",
    "#         pl.col(\n",
    "#             common_col + [f\"Misconception{alpha}Id\" for alpha in [\"A\", \"B\", \"C\", \"D\"]]\n",
    "#         )\n",
    "#     )\n",
    "#     .unpivot(\n",
    "#         index=common_col,\n",
    "#         variable_name=\"MisconceptionType\",\n",
    "#         value_name=\"MisconceptionId\",\n",
    "#     )\n",
    "#     .with_columns(\n",
    "#         pl.col(\"MisconceptionType\")\n",
    "#         .str.extract(r\"Misconception([A-D])Id$\")\n",
    "#         .alias(\"AnswerAlphabet\"),\n",
    "#     )\n",
    "#     .with_columns(\n",
    "#         pl.concat_str(\n",
    "#             [pl.col(\"QuestionId\"), pl.col(\"AnswerAlphabet\")], separator=\"_\"\n",
    "#         ).alias(\"QuestionId_Answer\"),\n",
    "#     )\n",
    "#     .sort(\"QuestionId_Answer\")\n",
    "#     .select(pl.col([\"QuestionId_Answer\", \"MisconceptionId\"]))\n",
    "#     .with_columns(pl.col(\"MisconceptionId\").cast(pl.Int64))\n",
    "# )\n",
    "# train_misconception_long.head()"
   ]
  },
  {
   "cell_type": "code",
   "execution_count": 8,
   "id": "f1c72715",
   "metadata": {},
   "outputs": [],
   "source": [
    "# # join MisconceptionId\n",
    "# train_long = train_long.join(train_misconception_long, on=\"QuestionId_Answer\")"
   ]
  },
  {
   "cell_type": "code",
   "execution_count": 10,
   "id": "2a1de492",
   "metadata": {},
   "outputs": [],
   "source": [
    "train_ex_long = pl.read_csv(\"../../data/e001-generate.csv\")"
   ]
  },
  {
   "cell_type": "code",
   "execution_count": 12,
   "id": "ab804e0f",
   "metadata": {},
   "outputs": [
    {
     "data": {
      "text/plain": [
       "(2570, 6)"
      ]
     },
     "execution_count": 12,
     "metadata": {},
     "output_type": "execute_result"
    }
   ],
   "source": [
    "train_ex_long.shape"
   ]
  },
  {
   "cell_type": "code",
   "execution_count": 13,
   "id": "210bcdbe",
   "metadata": {},
   "outputs": [],
   "source": [
    "misconception_name_to_id = dict(\n",
    "    zip(\n",
    "        misconception_mapping[\"MisconceptionName\"],\n",
    "        misconception_mapping[\"MisconceptionId\"],\n",
    "    )\n",
    ")"
   ]
  },
  {
   "cell_type": "code",
   "execution_count": 14,
   "id": "8f559a63",
   "metadata": {},
   "outputs": [
    {
     "data": {
      "text/plain": [
       "['QuestionText',\n",
       " 'ConstructName',\n",
       " 'SubjectName',\n",
       " 'CorrectAnswerText',\n",
       " 'IncorrectAnswerText',\n",
       " 'MisconceptionName']"
      ]
     },
     "execution_count": 14,
     "metadata": {},
     "output_type": "execute_result"
    }
   ],
   "source": [
    "train_ex_long.columns"
   ]
  },
  {
   "cell_type": "code",
   "execution_count": 15,
   "id": "e9a0a270",
   "metadata": {},
   "outputs": [],
   "source": [
    "train_ex_long = train_ex_long.with_columns(\n",
    "    pl.concat_str(\n",
    "        [\n",
    "            pl.col(\"ConstructName\"),\n",
    "            pl.col(\"SubjectName\"),\n",
    "            pl.col(\"QuestionText\"),\n",
    "            pl.col(\"IncorrectAnswerText\"),\n",
    "        ],\n",
    "        separator=\" \",\n",
    "    ).alias(\"AllText\"),\n",
    "    pl.col(\"MisconceptionName\")\n",
    "    .replace_strict(misconception_name_to_id, default=None)\n",
    "    .alias(\"MisconceptionId\"),\n",
    ")"
   ]
  },
  {
   "cell_type": "markdown",
   "id": "26d11def",
   "metadata": {
    "papermill": {
     "duration": 0.010829,
     "end_time": "2024-09-14T01:46:00.109663",
     "exception": false,
     "start_time": "2024-09-14T01:46:00.098834",
     "status": "completed"
    },
    "tags": []
   },
   "source": [
    "# BGE"
   ]
  },
  {
   "cell_type": "code",
   "execution_count": 16,
   "id": "a92d8541",
   "metadata": {},
   "outputs": [
    {
     "name": "stdout",
     "output_type": "stream",
     "text": [
      "(2570, 1024)\n",
      "(2587, 1024)\n"
     ]
    }
   ],
   "source": [
    "# model = SentenceTransformer(\"BAAI/bge-large-zh-v1.5\") # CV: 0.06ぐらい\n",
    "model = SentenceTransformer(\"BAAI/bge-large-en-v1.5\")  # CV: 0.1841439184198388\n",
    "# model = SentenceTransformer(\"all-MiniLM-L6-v2\") # CV: 0.17806659878200218\n",
    "# model = SentenceTransformer(\"nvidia/NV-Embed-v2\", trust_remote_code=True)  # CV: OOMのため、試せていない\n",
    "# model.max_seq_length = 32768\n",
    "# model.tokenizer.padding_side = \"right\"\n",
    "# model = SentenceTransformer(\"dunzhang/stella_en_1.5B_v5\", trust_remote_code=True)\n",
    "\n",
    "train_long_vec = model.encode(\n",
    "    train_ex_long[\"AllText\"].to_list(), normalize_embeddings=True\n",
    ")\n",
    "misconception_mapping_vec = model.encode(\n",
    "    misconception_mapping[\"MisconceptionName\"].to_list(), normalize_embeddings=True\n",
    ")\n",
    "print(train_long_vec.shape)\n",
    "print(misconception_mapping_vec.shape)"
   ]
  },
  {
   "cell_type": "code",
   "execution_count": 17,
   "id": "6368fe01",
   "metadata": {},
   "outputs": [],
   "source": [
    "# misconception_mapping_vecを保存する\n",
    "os.makedirs(OUTPUT_PATH, exist_ok=True)\n",
    "np.save(f\"{OUTPUT_PATH}/misconception_mapping_vec.npy\", misconception_mapping_vec)"
   ]
  },
  {
   "cell_type": "code",
   "execution_count": 18,
   "id": "8171be61",
   "metadata": {
    "execution": {
     "iopub.execute_input": "2024-09-14T01:46:01.415427Z",
     "iopub.status.busy": "2024-09-14T01:46:01.414946Z",
     "iopub.status.idle": "2024-09-14T01:46:06.419565Z",
     "shell.execute_reply": "2024-09-14T01:46:06.418520Z"
    },
    "papermill": {
     "duration": 5.023799,
     "end_time": "2024-09-14T01:46:06.422421",
     "exception": false,
     "start_time": "2024-09-14T01:46:01.398622",
     "status": "completed"
    },
    "tags": []
   },
   "outputs": [],
   "source": [
    "train_cos_sim_arr = cosine_similarity(train_long_vec, misconception_mapping_vec)\n",
    "train_sorted_indices = np.argsort(-train_cos_sim_arr, axis=1)"
   ]
  },
  {
   "cell_type": "code",
   "execution_count": 19,
   "id": "3288a590",
   "metadata": {
    "execution": {
     "iopub.execute_input": "2024-09-14T01:46:06.485692Z",
     "iopub.status.busy": "2024-09-14T01:46:06.484542Z",
     "iopub.status.idle": "2024-09-14T01:46:06.493692Z",
     "shell.execute_reply": "2024-09-14T01:46:06.492283Z"
    },
    "papermill": {
     "duration": 0.025202,
     "end_time": "2024-09-14T01:46:06.496371",
     "exception": false,
     "start_time": "2024-09-14T01:46:06.471169",
     "status": "completed"
    },
    "tags": []
   },
   "outputs": [],
   "source": [
    "# example\n",
    "def print_example(df: pl.DataFrame, sorted_indices: np.ndarray, idx: int) -> None:\n",
    "    print(f\"Query idx{idx}\")\n",
    "    print(df[\"AllText\"][idx])\n",
    "    print(\"\\nCos Sim No.1\")\n",
    "    print(misconception_mapping[\"MisconceptionName\"][int(sorted_indices[idx, 0])])\n",
    "    print(\"\\nCos Sim No.2\")\n",
    "    print(misconception_mapping[\"MisconceptionName\"][int(sorted_indices[idx, 1])])"
   ]
  },
  {
   "cell_type": "code",
   "execution_count": 20,
   "id": "0b85607c",
   "metadata": {},
   "outputs": [
    {
     "name": "stdout",
     "output_type": "stream",
     "text": [
      "Query idx0\n",
      "Use the angle sum property of triangles to find a missing angle Geometry If you have a triangle with two angles measuring \\(60^\\circ\\) and \\(80^\\circ\\), what is the measure of the third angle in the triangle? \\(50^\\circ\\)\n",
      "\n",
      "Cos Sim No.1\n",
      "Forgets to subtract sum of angles we know from 180 to find missing angle in a triangle\n",
      "\n",
      "Cos Sim No.2\n",
      "Finds the sum of the missing angles but not the angle being asked\n"
     ]
    }
   ],
   "source": [
    "print_example(train_ex_long, train_sorted_indices, 0)"
   ]
  },
  {
   "cell_type": "code",
   "execution_count": 21,
   "id": "1211ff44",
   "metadata": {
    "execution": {
     "iopub.execute_input": "2024-09-14T01:46:06.521580Z",
     "iopub.status.busy": "2024-09-14T01:46:06.521011Z",
     "iopub.status.idle": "2024-09-14T01:46:06.527584Z",
     "shell.execute_reply": "2024-09-14T01:46:06.526276Z"
    },
    "papermill": {
     "duration": 0.022384,
     "end_time": "2024-09-14T01:46:06.530441",
     "exception": false,
     "start_time": "2024-09-14T01:46:06.508057",
     "status": "completed"
    },
    "tags": []
   },
   "outputs": [
    {
     "name": "stdout",
     "output_type": "stream",
     "text": [
      "Query idx1\n",
      "Multiply fractions by applying the correct multiplication rule Fractions What is the product of \\( \\frac{1}{3} \\) and \\( \\frac{4}{5} \\)? \\( \\frac{5}{12} \\)\n",
      "\n",
      "Cos Sim No.1\n",
      "When multiplying fractions, multiplies the denominator\n",
      "\n",
      "Cos Sim No.2\n",
      "When multiplying fractions, multiplies the numerator and adds the denominator\n"
     ]
    }
   ],
   "source": [
    "print_example(train_ex_long, train_sorted_indices, 1)"
   ]
  },
  {
   "cell_type": "markdown",
   "id": "7ffe1e2c",
   "metadata": {
    "papermill": {
     "duration": 0.011086,
     "end_time": "2024-09-14T01:46:06.552908",
     "exception": false,
     "start_time": "2024-09-14T01:46:06.541822",
     "status": "completed"
    },
    "tags": []
   },
   "source": [
    "# Evaluate"
   ]
  },
  {
   "cell_type": "code",
   "execution_count": 22,
   "id": "37b5f922",
   "metadata": {
    "execution": {
     "iopub.execute_input": "2024-09-14T01:46:06.579007Z",
     "iopub.status.busy": "2024-09-14T01:46:06.578594Z",
     "iopub.status.idle": "2024-09-14T01:46:06.602802Z",
     "shell.execute_reply": "2024-09-14T01:46:06.601417Z"
    },
    "papermill": {
     "duration": 0.04065,
     "end_time": "2024-09-14T01:46:06.605893",
     "exception": false,
     "start_time": "2024-09-14T01:46:06.565243",
     "status": "completed"
    },
    "tags": []
   },
   "outputs": [],
   "source": [
    "train_ex_long = train_ex_long.with_columns(\n",
    "    pl.Series(train_sorted_indices[:, :RETRIEVE_NUM].tolist()).alias(\n",
    "        \"PredictMisconceptionId\"\n",
    "    )\n",
    ")"
   ]
  },
  {
   "cell_type": "code",
   "execution_count": 23,
   "id": "19b400a0",
   "metadata": {
    "execution": {
     "iopub.execute_input": "2024-09-14T01:46:06.631229Z",
     "iopub.status.busy": "2024-09-14T01:46:06.630809Z",
     "iopub.status.idle": "2024-09-14T01:46:06.638133Z",
     "shell.execute_reply": "2024-09-14T01:46:06.636961Z"
    },
    "papermill": {
     "duration": 0.023321,
     "end_time": "2024-09-14T01:46:06.640719",
     "exception": false,
     "start_time": "2024-09-14T01:46:06.617398",
     "status": "completed"
    },
    "tags": []
   },
   "outputs": [],
   "source": [
    "# https://www.kaggle.com/code/cdeotte/how-to-train-open-book-model-part-1#MAP@3-Metric\n",
    "def map_at_25(predictions, labels):\n",
    "    map_sum = 0\n",
    "    for x, y in zip(predictions, labels):\n",
    "        z = [1 / i if y == j else 0 for i, j in zip(range(1, 26), x)]\n",
    "        map_sum += np.sum(z)\n",
    "    return map_sum / len(predictions)"
   ]
  },
  {
   "cell_type": "code",
   "execution_count": 24,
   "id": "dbd99f42",
   "metadata": {
    "execution": {
     "iopub.execute_input": "2024-09-14T01:46:06.666065Z",
     "iopub.status.busy": "2024-09-14T01:46:06.665606Z",
     "iopub.status.idle": "2024-09-14T01:46:06.762803Z",
     "shell.execute_reply": "2024-09-14T01:46:06.761446Z"
    },
    "papermill": {
     "duration": 0.113621,
     "end_time": "2024-09-14T01:46:06.765721",
     "exception": false,
     "start_time": "2024-09-14T01:46:06.652100",
     "status": "completed"
    },
    "tags": []
   },
   "outputs": [
    {
     "data": {
      "text/plain": [
       "0.4374102480029539"
      ]
     },
     "execution_count": 24,
     "metadata": {},
     "output_type": "execute_result"
    }
   ],
   "source": [
    "map_at_25_score = map_at_25(\n",
    "    train_ex_long.filter(pl.col(\"MisconceptionId\").is_not_null())[\n",
    "        \"PredictMisconceptionId\"\n",
    "    ],\n",
    "    train_ex_long.filter(pl.col(\"MisconceptionId\").is_not_null())[\"MisconceptionId\"],\n",
    ")\n",
    "map_at_25_score"
   ]
  },
  {
   "cell_type": "code",
   "execution_count": 25,
   "id": "1a66afa0",
   "metadata": {
    "execution": {
     "iopub.execute_input": "2024-09-14T01:46:06.790904Z",
     "iopub.status.busy": "2024-09-14T01:46:06.790453Z",
     "iopub.status.idle": "2024-09-14T01:46:06.809203Z",
     "shell.execute_reply": "2024-09-14T01:46:06.807875Z"
    },
    "papermill": {
     "duration": 0.034606,
     "end_time": "2024-09-14T01:46:06.812192",
     "exception": false,
     "start_time": "2024-09-14T01:46:06.777586",
     "status": "completed"
    },
    "tags": []
   },
   "outputs": [
    {
     "data": {
      "text/plain": [
       "0.8410147991543341"
      ]
     },
     "execution_count": 25,
     "metadata": {},
     "output_type": "execute_result"
    }
   ],
   "source": [
    "def recall(predictions, labels):\n",
    "    acc_num = np.sum([1 for x, y in zip(predictions, labels) if y in x])\n",
    "    return acc_num / len(predictions)\n",
    "\n",
    "\n",
    "recall_score = recall(\n",
    "    train_ex_long.filter(pl.col(\"MisconceptionId\").is_not_null())[\n",
    "        \"PredictMisconceptionId\"\n",
    "    ],\n",
    "    train_ex_long.filter(pl.col(\"MisconceptionId\").is_not_null())[\"MisconceptionId\"],\n",
    ")\n",
    "recall_score"
   ]
  },
  {
   "cell_type": "markdown",
   "id": "0657bf3d",
   "metadata": {
    "papermill": {
     "duration": 0.011875,
     "end_time": "2024-09-14T01:46:07.146569",
     "exception": false,
     "start_time": "2024-09-14T01:46:07.134694",
     "status": "completed"
    },
    "tags": []
   },
   "source": [
    "# Make Retrieved Train File"
   ]
  },
  {
   "cell_type": "code",
   "execution_count": 26,
   "id": "297ca4b1",
   "metadata": {},
   "outputs": [
    {
     "data": {
      "text/plain": [
       "(59125, 12)"
      ]
     },
     "execution_count": 26,
     "metadata": {},
     "output_type": "execute_result"
    }
   ],
   "source": [
    "train_retrieved = (\n",
    "    train_ex_long.filter(\n",
    "        pl.col(\n",
    "            \"MisconceptionId\"\n",
    "        ).is_not_null()  # TODO: Consider ways to utilize data where MisconceptionId is NaN.\n",
    "    )\n",
    "    .explode(\"PredictMisconceptionId\")\n",
    "    .with_columns(\n",
    "        (pl.col(\"MisconceptionId\") == pl.col(\"PredictMisconceptionId\"))\n",
    "        .cast(pl.Int64)\n",
    "        .alias(\"target\")\n",
    "    )\n",
    "    .join(\n",
    "        misconception_mapping,\n",
    "        on=\"MisconceptionId\",\n",
    "    )\n",
    "    .join(\n",
    "        misconception_mapping.rename(lambda x: \"Predict\" + x),\n",
    "        on=\"PredictMisconceptionId\",\n",
    "    )\n",
    ")\n",
    "train_retrieved.shape"
   ]
  },
  {
   "cell_type": "code",
   "execution_count": 27,
   "id": "c51a27ee",
   "metadata": {},
   "outputs": [
    {
     "data": {
      "text/html": [
       "<div><style>\n",
       ".dataframe > thead > tr,\n",
       ".dataframe > tbody > tr {\n",
       "  text-align: right;\n",
       "  white-space: pre-wrap;\n",
       "}\n",
       "</style>\n",
       "<small>shape: (2_570, 9)</small><table border=\"1\" class=\"dataframe\"><thead><tr><th>QuestionText</th><th>ConstructName</th><th>SubjectName</th><th>CorrectAnswerText</th><th>IncorrectAnswerText</th><th>MisconceptionName</th><th>AllText</th><th>MisconceptionId</th><th>PredictMisconceptionId</th></tr><tr><td>str</td><td>str</td><td>str</td><td>str</td><td>str</td><td>str</td><td>str</td><td>i64</td><td>list[i64]</td></tr></thead><tbody><tr><td>&quot;If you have a triangle with tw…</td><td>&quot;Use the angle sum property of …</td><td>&quot;Geometry&quot;</td><td>&quot;\\(40^\\circ\\)&quot;</td><td>&quot;\\(50^\\circ\\)&quot;</td><td>&quot;Does not know that angles in a…</td><td>&quot;Use the angle sum property of …</td><td>0</td><td>[793, 356, … 1527]</td></tr><tr><td>&quot;What is the product of \\( \\fra…</td><td>&quot;Multiply fractions by applying…</td><td>&quot;Fractions&quot;</td><td>&quot;\\( \\frac{4}{15} \\)&quot;</td><td>&quot;\\( \\frac{5}{12} \\)&quot;</td><td>&quot;Uses dividing fractions method…</td><td>&quot;Multiply fractions by applying…</td><td>1</td><td>[1374, 1280, … 825]</td></tr><tr><td>&quot;Sarah is designing a pinwheel …</td><td>&quot;Understand and use angle measu…</td><td>&quot;Geometry&quot;</td><td>&quot;72 degrees&quot;</td><td>&quot;20 degrees&quot;</td><td>&quot;Believes there are 100 degrees…</td><td>&quot;Understand and use angle measu…</td><td>2</td><td>[1067, 640, … 1964]</td></tr><tr><td>&quot;Consider the quadratic equatio…</td><td>&quot;Factorizing quadratic equation…</td><td>&quot;Algebra&quot;</td><td>&quot;Yes, it can be factorized as \\…</td><td>&quot;No, it cannot be factorized be…</td><td>&quot;Thinks a quadratic without a n…</td><td>&quot;Factorizing quadratic equation…</td><td>3</td><td>[3, 2142, … 1735]</td></tr><tr><td>&quot;Solve for \\( x \\) in the equat…</td><td>&quot;Solve algebraic equations invo…</td><td>&quot;Algebra&quot;</td><td>&quot;\\( x = 2 \\) or \\( x = -1 \\)&quot;</td><td>&quot;\\( x = 2 \\)&quot;</td><td>&quot;Believes addition of terms and…</td><td>&quot;Solve algebraic equations invo…</td><td>4</td><td>[1134, 2085, … 2070]</td></tr><tr><td>&hellip;</td><td>&hellip;</td><td>&hellip;</td><td>&hellip;</td><td>&hellip;</td><td>&hellip;</td><td>&hellip;</td><td>&hellip;</td><td>&hellip;</td></tr><tr><td>&quot;What is the result of \\( x^3 \\…</td><td>&quot;Multiplying powers with the sa…</td><td>&quot;Exponents and Powers&quot;</td><td>&quot;\\( x^7 \\)&quot;</td><td>&quot;\\( x^{12} \\)&quot;</td><td>&quot;When multiplying numbers with …</td><td>&quot;Multiplying powers with the sa…</td><td>2582</td><td>[2582, 1792, … 2512]</td></tr><tr><td>&quot;Which of the following numbers…</td><td>&quot;Identify and understand cube n…</td><td>&quot;Properties of Numbers&quot;</td><td>&quot;\\( 8 \\)&quot;</td><td>&quot;\\( 10 \\)&quot;</td><td>&quot;Does not know what a cube numb…</td><td>&quot;Identify and understand cube n…</td><td>2583</td><td>[2583, 2489, … 2086]</td></tr><tr><td>&quot;Which is greater, 2% of 1000 o…</td><td>&quot;Compare percentages of differe…</td><td>&quot;Percentage Comparison&quot;</td><td>&quot;10% of 150&quot;</td><td>&quot;2% of 1000&quot;</td><td>&quot;Believes that any percentage o…</td><td>&quot;Compare percentages of differe…</td><td>2584</td><td>[914, 2361, … 2123]</td></tr><tr><td>&quot;Which of the following is a cu…</td><td>&quot;Identify the structure of poly…</td><td>&quot;Algebraic Expressions&quot;</td><td>&quot;D) \\( x^3 - 5x + 2 \\)&quot;</td><td>&quot;A) \\( x^3 + x^2 + x \\)&quot;</td><td>&quot;Believes a cubic expression sh…</td><td>&quot;Identify the structure of poly…</td><td>2585</td><td>[2585, 1239, … 1936]</td></tr><tr><td>&quot;Evaluate the expression: &quot;</td><td>&quot;Apply the correct order of ope…</td><td>&quot;Arithmetic Expressions&quot;</td><td>&quot;The correct answer is 10, beca…</td><td>&quot;The correct answer is 14, beca…</td><td>&quot;Misunderstands order of operat…</td><td>&quot;Apply the correct order of ope…</td><td>2586</td><td>[2586, 1119, … 256]</td></tr></tbody></table></div>"
      ],
      "text/plain": [
       "shape: (2_570, 9)\n",
       "┌───────────┬───────────┬───────────┬───────────┬───┬───────────┬───────────┬───────────┬──────────┐\n",
       "│ QuestionT ┆ Construct ┆ SubjectNa ┆ CorrectAn ┆ … ┆ Misconcep ┆ AllText   ┆ Misconcep ┆ PredictM │\n",
       "│ ext       ┆ Name      ┆ me        ┆ swerText  ┆   ┆ tionName  ┆ ---       ┆ tionId    ┆ isconcep │\n",
       "│ ---       ┆ ---       ┆ ---       ┆ ---       ┆   ┆ ---       ┆ str       ┆ ---       ┆ tionId   │\n",
       "│ str       ┆ str       ┆ str       ┆ str       ┆   ┆ str       ┆           ┆ i64       ┆ ---      │\n",
       "│           ┆           ┆           ┆           ┆   ┆           ┆           ┆           ┆ list[i64 │\n",
       "│           ┆           ┆           ┆           ┆   ┆           ┆           ┆           ┆ ]        │\n",
       "╞═══════════╪═══════════╪═══════════╪═══════════╪═══╪═══════════╪═══════════╪═══════════╪══════════╡\n",
       "│ If you    ┆ Use the   ┆ Geometry  ┆ \\(40^\\cir ┆ … ┆ Does not  ┆ Use the   ┆ 0         ┆ [793,    │\n",
       "│ have a    ┆ angle sum ┆           ┆ c\\)       ┆   ┆ know that ┆ angle sum ┆           ┆ 356, …   │\n",
       "│ triangle  ┆ property  ┆           ┆           ┆   ┆ angles in ┆ property  ┆           ┆ 1527]    │\n",
       "│ with tw…  ┆ of …      ┆           ┆           ┆   ┆ a…        ┆ of …      ┆           ┆          │\n",
       "│ What is   ┆ Multiply  ┆ Fractions ┆ \\( \\frac{ ┆ … ┆ Uses      ┆ Multiply  ┆ 1         ┆ [1374,   │\n",
       "│ the       ┆ fractions ┆           ┆ 4}{15} \\) ┆   ┆ dividing  ┆ fractions ┆           ┆ 1280, …  │\n",
       "│ product   ┆ by        ┆           ┆           ┆   ┆ fractions ┆ by        ┆           ┆ 825]     │\n",
       "│ of \\(     ┆ applying… ┆           ┆           ┆   ┆ method…   ┆ applying… ┆           ┆          │\n",
       "│ \\fra…     ┆           ┆           ┆           ┆   ┆           ┆           ┆           ┆          │\n",
       "│ Sarah is  ┆ Understan ┆ Geometry  ┆ 72        ┆ … ┆ Believes  ┆ Understan ┆ 2         ┆ [1067,   │\n",
       "│ designing ┆ d and use ┆           ┆ degrees   ┆   ┆ there are ┆ d and use ┆           ┆ 640, …   │\n",
       "│ a         ┆ angle     ┆           ┆           ┆   ┆ 100       ┆ angle     ┆           ┆ 1964]    │\n",
       "│ pinwheel  ┆ measu…    ┆           ┆           ┆   ┆ degrees…  ┆ measu…    ┆           ┆          │\n",
       "│ …         ┆           ┆           ┆           ┆   ┆           ┆           ┆           ┆          │\n",
       "│ Consider  ┆ Factorizi ┆ Algebra   ┆ Yes, it   ┆ … ┆ Thinks a  ┆ Factorizi ┆ 3         ┆ [3,      │\n",
       "│ the       ┆ ng        ┆           ┆ can be    ┆   ┆ quadratic ┆ ng        ┆           ┆ 2142, …  │\n",
       "│ quadratic ┆ quadratic ┆           ┆ factorize ┆   ┆ without a ┆ quadratic ┆           ┆ 1735]    │\n",
       "│ equatio…  ┆ equation… ┆           ┆ d as \\…   ┆   ┆ n…        ┆ equation… ┆           ┆          │\n",
       "│ Solve for ┆ Solve     ┆ Algebra   ┆ \\( x = 2  ┆ … ┆ Believes  ┆ Solve     ┆ 4         ┆ [1134,   │\n",
       "│ \\( x \\)   ┆ algebraic ┆           ┆ \\) or \\(  ┆   ┆ addition  ┆ algebraic ┆           ┆ 2085, …  │\n",
       "│ in the    ┆ equations ┆           ┆ x = -1 \\) ┆   ┆ of terms  ┆ equations ┆           ┆ 2070]    │\n",
       "│ equat…    ┆ invo…     ┆           ┆           ┆   ┆ and…      ┆ invo…     ┆           ┆          │\n",
       "│ …         ┆ …         ┆ …         ┆ …         ┆ … ┆ …         ┆ …         ┆ …         ┆ …        │\n",
       "│ What is   ┆ Multiplyi ┆ Exponents ┆ \\( x^7 \\) ┆ … ┆ When mult ┆ Multiplyi ┆ 2582      ┆ [2582,   │\n",
       "│ the       ┆ ng powers ┆ and       ┆           ┆   ┆ iplying   ┆ ng powers ┆           ┆ 1792, …  │\n",
       "│ result of ┆ with the  ┆ Powers    ┆           ┆   ┆ numbers   ┆ with the  ┆           ┆ 2512]    │\n",
       "│ \\( x^3 \\… ┆ sa…       ┆           ┆           ┆   ┆ with …    ┆ sa…       ┆           ┆          │\n",
       "│ Which of  ┆ Identify  ┆ Propertie ┆ \\( 8 \\)   ┆ … ┆ Does not  ┆ Identify  ┆ 2583      ┆ [2583,   │\n",
       "│ the       ┆ and under ┆ s of      ┆           ┆   ┆ know what ┆ and under ┆           ┆ 2489, …  │\n",
       "│ following ┆ stand     ┆ Numbers   ┆           ┆   ┆ a cube    ┆ stand     ┆           ┆ 2086]    │\n",
       "│ numbers…  ┆ cube n…   ┆           ┆           ┆   ┆ numb…     ┆ cube n…   ┆           ┆          │\n",
       "│ Which is  ┆ Compare   ┆ Percentag ┆ 10% of    ┆ … ┆ Believes  ┆ Compare   ┆ 2584      ┆ [914,    │\n",
       "│ greater,  ┆ percentag ┆ e Compari ┆ 150       ┆   ┆ that any  ┆ percentag ┆           ┆ 2361, …  │\n",
       "│ 2% of     ┆ es of     ┆ son       ┆           ┆   ┆ percentag ┆ es of     ┆           ┆ 2123]    │\n",
       "│ 1000 o…   ┆ differe…  ┆           ┆           ┆   ┆ e o…      ┆ differe…  ┆           ┆          │\n",
       "│ Which of  ┆ Identify  ┆ Algebraic ┆ D) \\( x^3 ┆ … ┆ Believes  ┆ Identify  ┆ 2585      ┆ [2585,   │\n",
       "│ the       ┆ the       ┆ Expressio ┆ - 5x + 2  ┆   ┆ a cubic   ┆ the       ┆           ┆ 1239, …  │\n",
       "│ following ┆ structure ┆ ns        ┆ \\)        ┆   ┆ expressio ┆ structure ┆           ┆ 1936]    │\n",
       "│ is a cu…  ┆ of poly…  ┆           ┆           ┆   ┆ n sh…     ┆ of poly…  ┆           ┆          │\n",
       "│ Evaluate  ┆ Apply the ┆ Arithmeti ┆ The       ┆ … ┆ Misunders ┆ Apply the ┆ 2586      ┆ [2586,   │\n",
       "│ the expre ┆ correct   ┆ c Express ┆ correct   ┆   ┆ tands     ┆ correct   ┆           ┆ 1119, …  │\n",
       "│ ssion:    ┆ order of  ┆ ions      ┆ answer is ┆   ┆ order of  ┆ order of  ┆           ┆ 256]     │\n",
       "│           ┆ ope…      ┆           ┆ 10, beca… ┆   ┆ operat…   ┆ ope…      ┆           ┆          │\n",
       "└───────────┴───────────┴───────────┴───────────┴───┴───────────┴───────────┴───────────┴──────────┘"
      ]
     },
     "execution_count": 27,
     "metadata": {},
     "output_type": "execute_result"
    }
   ],
   "source": [
    "train_ex_long"
   ]
  },
  {
   "cell_type": "code",
   "execution_count": 28,
   "id": "0928c0e3",
   "metadata": {},
   "outputs": [
    {
     "data": {
      "text/plain": [
       "(59125, 12)"
      ]
     },
     "execution_count": 28,
     "metadata": {},
     "output_type": "execute_result"
    }
   ],
   "source": [
    "train_retrieved.shape"
   ]
  },
  {
   "cell_type": "code",
   "execution_count": 29,
   "id": "5fdd7ac6",
   "metadata": {},
   "outputs": [],
   "source": [
    "train_retrieved.write_csv(\n",
    "    f\"{OUTPUT_PATH}/{EXP_NAME}-ret{RETRIEVE_NUM}-map{map_at_25_score:.4f}-recall{recall_score:.4f}.csv\",\n",
    ")"
   ]
  },
  {
   "cell_type": "code",
   "execution_count": 30,
   "id": "0f7d6dcf",
   "metadata": {},
   "outputs": [
    {
     "name": "stdout",
     "output_type": "stream",
     "text": [
      "../../output/retriever/e013-ret-bge-prepare/e013-ret-bge-prepare-ret25-map0.4374-recall0.8410.csv\n"
     ]
    }
   ],
   "source": [
    "print(\n",
    "    f\"{OUTPUT_PATH}/{EXP_NAME}-ret{RETRIEVE_NUM}-map{map_at_25_score:.4f}-recall{recall_score:.4f}.csv\",\n",
    ")"
   ]
  },
  {
   "cell_type": "markdown",
   "id": "ffaa7596",
   "metadata": {},
   "source": [
    "# Kaggle Upload"
   ]
  },
  {
   "cell_type": "code",
   "execution_count": 31,
   "id": "f368627a",
   "metadata": {},
   "outputs": [
    {
     "name": "stdout",
     "output_type": "stream",
     "text": [
      "Create Dataset name:e013-ret-bge-prepare, output_dir:../../output/retriever/e013-ret-bge-prepare\n",
      "Starting upload for file misconception_mapping_vec.npy\n"
     ]
    },
    {
     "name": "stderr",
     "output_type": "stream",
     "text": [
      "100%|██████████| 10.1M/10.1M [00:01<00:00, 7.07MB/s]\n"
     ]
    },
    {
     "name": "stdout",
     "output_type": "stream",
     "text": [
      "Upload successful: misconception_mapping_vec.npy (10MB)\n",
      "Starting upload for file e013-ret-bge-prepare-ret25-map0.4374-recall0.8410.csv\n"
     ]
    },
    {
     "name": "stderr",
     "output_type": "stream",
     "text": [
      "100%|██████████| 36.3M/36.3M [00:04<00:00, 9.02MB/s]"
     ]
    },
    {
     "name": "stdout",
     "output_type": "stream",
     "text": [
      "Upload successful: e013-ret-bge-prepare-ret25-map0.4374-recall0.8410.csv (36MB)\n"
     ]
    },
    {
     "name": "stderr",
     "output_type": "stream",
     "text": [
      "\n"
     ]
    }
   ],
   "source": [
    "import os\n",
    "import json\n",
    "\n",
    "from kaggle.api.kaggle_api_extended import KaggleApi\n",
    "\n",
    "\n",
    "def dataset_create_new(dataset_name: str, upload_dir: str):\n",
    "    # if \"_\" in dataset_name:\n",
    "    #     raise ValueError(\"datasetの名称に_の使用は禁止です\")\n",
    "    dataset_metadata = {}\n",
    "    dataset_metadata[\"id\"] = f\"sinchir0/{dataset_name}\"\n",
    "    dataset_metadata[\"licenses\"] = [{\"name\": \"CC0-1.0\"}]\n",
    "    dataset_metadata[\"title\"] = dataset_name\n",
    "    with open(os.path.join(upload_dir, \"dataset-metadata.json\"), \"w\") as f:\n",
    "        json.dump(dataset_metadata, f, indent=4)\n",
    "    api = KaggleApi()\n",
    "    api.authenticate()\n",
    "    api.dataset_create_new(folder=upload_dir, convert_to_csv=False, dir_mode=\"tar\")\n",
    "\n",
    "\n",
    "print(f\"Create Dataset name:{DATASET_NAME}, output_dir:{OUTPUT_PATH}\")\n",
    "dataset_create_new(dataset_name=DATASET_NAME, upload_dir=OUTPUT_PATH)"
   ]
  },
  {
   "cell_type": "code",
   "execution_count": null,
   "id": "5a0f1c40",
   "metadata": {},
   "outputs": [],
   "source": []
  }
 ],
 "metadata": {
  "kaggle": {
   "accelerator": "none",
   "dataSources": [
    {
     "databundleVersionId": 9551816,
     "sourceId": 82695,
     "sourceType": "competition"
    }
   ],
   "dockerImageVersionId": 30761,
   "isGpuEnabled": false,
   "isInternetEnabled": false,
   "language": "python",
   "sourceType": "notebook"
  },
  "kernelspec": {
   "display_name": "base",
   "language": "python",
   "name": "python3"
  },
  "language_info": {
   "codemirror_mode": {
    "name": "ipython",
    "version": 3
   },
   "file_extension": ".py",
   "mimetype": "text/x-python",
   "name": "python",
   "nbconvert_exporter": "python",
   "pygments_lexer": "ipython3",
   "version": "3.10.14"
  },
  "papermill": {
   "default_parameters": {},
   "duration": 14.614286,
   "end_time": "2024-09-14T01:46:08.075104",
   "environment_variables": {},
   "exception": null,
   "input_path": "__notebook__.ipynb",
   "output_path": "__notebook__.ipynb",
   "parameters": {},
   "start_time": "2024-09-14T01:45:53.460818",
   "version": "2.6.0"
  }
 },
 "nbformat": 4,
 "nbformat_minor": 5
}
