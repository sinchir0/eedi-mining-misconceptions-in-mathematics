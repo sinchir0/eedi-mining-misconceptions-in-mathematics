{
 "cells": [
  {
   "cell_type": "markdown",
   "metadata": {
    "id": "fzT66iezisGu"
   },
   "source": [
    "# 目的\n",
    "tokenizer.padding_side = \"right\"によって、正常に動作するかのテスト\n",
    "\n",
    "ref: \n",
    "- https://github.com/unslothai/unsloth\n",
    "- https://colab.research.google.com/drive/1vIrqH5uYDQwsJ4-OO3DErvuv4pBgVwk4?usp=sharing#scrollTo=6bZsfBuZDeCL\n",
    "- https://huggingface.co/blog/mlabonne/sft-llama3\n",
    "- https://huggingface.co/docs/trl/sft_trainer#accelerate-fine-tuning-2x-using-unsloth"
   ]
  },
  {
   "cell_type": "code",
   "execution_count": 66,
   "metadata": {
    "execution": {
     "iopub.execute_input": "2024-10-11T01:01:55.919869Z",
     "iopub.status.busy": "2024-10-11T01:01:55.919510Z",
     "iopub.status.idle": "2024-10-11T01:01:55.936021Z",
     "shell.execute_reply": "2024-10-11T01:01:55.935162Z"
    }
   },
   "outputs": [],
   "source": [
    "# pip install \"unsloth[cu121-torch230] @ git+https://github.com/unslothai/unsloth.git\"\n",
    "# -> だめ\n",
    "\n",
    "# pip uninstall torch\n",
    "# pip install torch torchvision torchaudio --index-url https://download.pytorch.org/whl/cu121\n",
    "# pip install \"unsloth[cu121-torch240] @ git+https://github.com/unslothai/unsloth.git\"\n",
    "# -> OK"
   ]
  },
  {
   "cell_type": "code",
   "execution_count": 67,
   "metadata": {
    "execution": {
     "iopub.execute_input": "2024-10-11T01:01:55.940160Z",
     "iopub.status.busy": "2024-10-11T01:01:55.939834Z",
     "iopub.status.idle": "2024-10-11T01:01:55.948839Z",
     "shell.execute_reply": "2024-10-11T01:01:55.947976Z"
    },
    "id": "v7YkHHYsisGw",
    "tags": []
   },
   "outputs": [],
   "source": [
    "# path setting\n",
    "EXP_NAME = \"e014-causal\"\n",
    "# MODEL_NAME = \"unsloth/gemma-2-9b-it-bnb-4bit\"\n",
    "MODEL_NAME = \"unsloth/Meta-Llama-3.1-8B-Instruct-bnb-4bit\"\n",
    "COMPETITION_NAME = \"eedi-mining-misconceptions-in-mathematics\"\n",
    "\n",
    "DATA_PATH = \"data\"\n",
    "DATASET_NAME = f\"{EXP_NAME}-{MODEL_NAME.split('/')[-1].replace('.', '-')}\"\n",
    "OUTPUT_PATH = f\"output/causal/{EXP_NAME}\"\n",
    "MODEL_OUTPUT_PATH = f\"{OUTPUT_PATH}/trained_model\"\n",
    "ENV_PATH = \"env_file\"\n",
    "\n",
    "# experiment parameter\n",
    "DEBUG = False\n",
    "TRAINING = True\n",
    "UPLOAD_DATA_TO_S3 = True\n",
    "UPLOAD_DATA_TO_KAGGLE = True\n",
    "REMOVE_LOCAL_FILE = False\n",
    "WANDB = True\n",
    "\n",
    "# USE_FOLD = 0\n",
    "# USE_DATA_RATE = 1.0\n",
    "# VALID_DATA_SIZE = 3000\n",
    "\n",
    "# model parameter\n",
    "TRAINING_MAX_LENGTH = 512\n",
    "SEED = 42\n",
    "EPOCH = 5\n",
    "LR = 2e-04\n",
    "TRAIN_BS = 1  # 2  # 4  # 16\n",
    "GRAD_ACC_STEP = 128 // TRAIN_BS  # 仮想的なバッチサイズはTRAIN_BS * GRAD_ACC_STEPとなる\n",
    "EVAL_BS = 1  # 2  # 4  # 16\n",
    "# NUM_LABELS = 3\n",
    "\n",
    "FREEZE_LAYERS = 16\n",
    "\n",
    "# rola parameter\n",
    "LORA_R = 16\n",
    "LORA_ALPHA = LORA_R * 2\n",
    "LORA_BIAS = \"none\"\n",
    "\n",
    "RESUME_FROM_CHECKPOINT = False  # 途中から再開する場合はTrueにする"
   ]
  },
  {
   "cell_type": "code",
   "execution_count": 68,
   "metadata": {
    "colab": {
     "base_uri": "https://localhost:8080/"
    },
    "execution": {
     "iopub.execute_input": "2024-10-11T01:01:55.953068Z",
     "iopub.status.busy": "2024-10-11T01:01:55.952276Z",
     "iopub.status.idle": "2024-10-11T01:01:56.354337Z",
     "shell.execute_reply": "2024-10-11T01:01:56.353155Z"
    },
    "id": "k-1rTdTmisGy",
    "outputId": "325e68ee-4d23-4a14-ff44-df1acc833ad3",
    "tags": []
   },
   "outputs": [
    {
     "name": "stdout",
     "output_type": "stream",
     "text": [
      "Sat Oct 12 06:36:35 2024       \n",
      "+---------------------------------------------------------------------------------------+\n",
      "| NVIDIA-SMI 535.154.05             Driver Version: 535.154.05   CUDA Version: 12.2     |\n",
      "|-----------------------------------------+----------------------+----------------------+\n",
      "| GPU  Name                 Persistence-M | Bus-Id        Disp.A | Volatile Uncorr. ECC |\n",
      "| Fan  Temp   Perf          Pwr:Usage/Cap |         Memory-Usage | GPU-Util  Compute M. |\n",
      "|                                         |                      |               MIG M. |\n",
      "|=========================================+======================+======================|\n",
      "|   0  Tesla V100-PCIE-16GB           On  | 00000000:25:00.0 Off |                    0 |\n",
      "| N/A   22C    P0              35W / 250W |   7008MiB / 16384MiB |      0%      Default |\n",
      "|                                         |                      |                  N/A |\n",
      "+-----------------------------------------+----------------------+----------------------+\n",
      "                                                                                         \n",
      "+---------------------------------------------------------------------------------------+\n",
      "| Processes:                                                                            |\n",
      "|  GPU   GI   CI        PID   Type   Process name                            GPU Memory |\n",
      "|        ID   ID                                                             Usage      |\n",
      "|=======================================================================================|\n",
      "+---------------------------------------------------------------------------------------+\n"
     ]
    }
   ],
   "source": [
    "!nvidia-smi"
   ]
  },
  {
   "cell_type": "code",
   "execution_count": 69,
   "metadata": {
    "colab": {
     "base_uri": "https://localhost:8080/"
    },
    "execution": {
     "iopub.execute_input": "2024-10-11T01:01:56.358710Z",
     "iopub.status.busy": "2024-10-11T01:01:56.358357Z",
     "iopub.status.idle": "2024-10-11T01:01:56.634931Z",
     "shell.execute_reply": "2024-10-11T01:01:56.633639Z"
    },
    "id": "xdIcXQzqisGz",
    "outputId": "9de0ed12-bdfb-4fb2-c5b1-c6114afff122",
    "tags": []
   },
   "outputs": [
    {
     "name": "stdout",
     "output_type": "stream",
     "text": [
      "Python 3.10.14\n"
     ]
    }
   ],
   "source": [
    "!python --version"
   ]
  },
  {
   "cell_type": "code",
   "execution_count": 70,
   "metadata": {
    "colab": {
     "base_uri": "https://localhost:8080/"
    },
    "execution": {
     "iopub.execute_input": "2024-10-11T01:01:56.639485Z",
     "iopub.status.busy": "2024-10-11T01:01:56.638997Z",
     "iopub.status.idle": "2024-10-11T01:01:56.651209Z",
     "shell.execute_reply": "2024-10-11T01:01:56.650239Z"
    },
    "id": "YeHMykyGisG0",
    "outputId": "7c447bf6-7758-40eb-aaee-4b35037d5567",
    "tags": []
   },
   "outputs": [
    {
     "name": "stdout",
     "output_type": "stream",
     "text": [
      "/root/eedi-mining-misconceptions-in-mathematics/exp/causal\n",
      "VastAi! Causal\n",
      "../../data\n",
      "/root/eedi-mining-misconceptions-in-mathematics/exp/causal\n",
      "VastAi! Causal\n",
      "../../output/causal/e014-causal\n",
      "/root/eedi-mining-misconceptions-in-mathematics/exp/causal\n",
      "VastAi! Causal\n",
      "../../output/causal/e014-causal/trained_model\n",
      "/root/eedi-mining-misconceptions-in-mathematics/exp/causal\n",
      "VastAi! Causal\n",
      "../../env_file\n"
     ]
    }
   ],
   "source": [
    "def resolve_path(base_path: str) -> str:\n",
    "    import os\n",
    "\n",
    "    cwd = os.getcwd()\n",
    "    print(cwd)\n",
    "    if cwd == f\"/notebooks\":\n",
    "        print(\"Jupyter Kernel By VSCode!\")\n",
    "        return f\"/notebooks/{COMPETITION_NAME}/{base_path}\"\n",
    "    elif cwd == f\"/notebooks/{COMPETITION_NAME}\":\n",
    "        print(\"nohup!\")\n",
    "        return base_path\n",
    "    elif cwd == f\"/notebooks/{COMPETITION_NAME}/{COMPETITION_NAME}/exp\":\n",
    "        print(\"Jupyter Lab!\")\n",
    "        return f\"../../{base_path}\"\n",
    "    elif cwd == f\"/root/{COMPETITION_NAME}/exp/reranker\":\n",
    "        print(\"VastAi! Reranker\")\n",
    "        return f\"../../{base_path}\"\n",
    "    elif cwd == f\"/root/{COMPETITION_NAME}/exp/retriever\":\n",
    "        print(\"VastAi! Retriever\")\n",
    "        return f\"../../{base_path}\"\n",
    "    elif cwd == f\"/root/{COMPETITION_NAME}/exp/causal\":\n",
    "        print(\"VastAi! Causal\")\n",
    "        return f\"../../{base_path}\"\n",
    "    elif cwd == f\"/root/{COMPETITION_NAME}\":\n",
    "        print(\"VastAi!\")\n",
    "        return base_path\n",
    "    else:\n",
    "        raise Exception(\"Unknown environment\")\n",
    "\n",
    "\n",
    "DATA_PATH = resolve_path(DATA_PATH)\n",
    "print(DATA_PATH)\n",
    "OUTPUT_PATH = resolve_path(OUTPUT_PATH)\n",
    "print(OUTPUT_PATH)\n",
    "MODEL_OUTPUT_PATH = resolve_path(MODEL_OUTPUT_PATH)\n",
    "print(MODEL_OUTPUT_PATH)\n",
    "ENV_PATH = resolve_path(ENV_PATH)\n",
    "print(ENV_PATH)"
   ]
  },
  {
   "cell_type": "code",
   "execution_count": 71,
   "metadata": {
    "autoscroll": "auto",
    "collapsed": false,
    "execution": {
     "iopub.execute_input": "2024-10-11T01:01:56.655344Z",
     "iopub.status.busy": "2024-10-11T01:01:56.655011Z",
     "iopub.status.idle": "2024-10-11T01:01:56.661262Z",
     "shell.execute_reply": "2024-10-11T01:01:56.660395Z"
    },
    "id": "E78wS3ypisG0",
    "tags": []
   },
   "outputs": [],
   "source": [
    "def validate_dataset_name(dataset_name: str) -> None:\n",
    "    if len(dataset_name) < 6 or len(dataset_name) > 50:\n",
    "        raise Exception(\n",
    "            f\"データセットの文字列は6~50文字にしてください。現在{len(DATASET_NAME)}文字\"\n",
    "        )\n",
    "    if \"_\" in dataset_name or \".\" in dataset_name:\n",
    "        raise Exception(\"datasetの名称に'_'、'.'の使用は禁止です\")\n",
    "\n",
    "\n",
    "validate_dataset_name(DATASET_NAME)"
   ]
  },
  {
   "cell_type": "markdown",
   "metadata": {
    "id": "j3uVqXs-isG1"
   },
   "source": [
    "# import"
   ]
  },
  {
   "cell_type": "code",
   "execution_count": 72,
   "metadata": {
    "autoscroll": "auto",
    "collapsed": false,
    "execution": {
     "iopub.execute_input": "2024-10-11T01:01:56.665482Z",
     "iopub.status.busy": "2024-10-11T01:01:56.665131Z",
     "iopub.status.idle": "2024-10-11T01:02:02.438278Z",
     "shell.execute_reply": "2024-10-11T01:02:02.437027Z"
    }
   },
   "outputs": [],
   "source": [
    "import os\n",
    "import random\n",
    "\n",
    "import polars as pl\n",
    "import numpy as np\n",
    "\n",
    "import wandb\n",
    "\n",
    "import torch\n",
    "from datasets import Dataset\n",
    "from transformers import TrainingArguments\n",
    "\n",
    "from trl import SFTTrainer\n",
    "from unsloth import FastLanguageModel, is_bfloat16_supported"
   ]
  },
  {
   "cell_type": "code",
   "execution_count": 73,
   "metadata": {
    "execution": {
     "iopub.execute_input": "2024-10-11T01:02:02.442561Z",
     "iopub.status.busy": "2024-10-11T01:02:02.442177Z",
     "iopub.status.idle": "2024-10-11T01:02:02.446844Z",
     "shell.execute_reply": "2024-10-11T01:02:02.445876Z"
    },
    "id": "fLkGFO2PisG1",
    "tags": []
   },
   "outputs": [],
   "source": [
    "os.environ[\"TOKENIZERS_PARALLELISM\"] = \"true\"\n",
    "NUM_PROC = 16  # os.cpu_count()"
   ]
  },
  {
   "cell_type": "code",
   "execution_count": 74,
   "metadata": {
    "execution": {
     "iopub.execute_input": "2024-10-11T01:02:02.450353Z",
     "iopub.status.busy": "2024-10-11T01:02:02.450178Z",
     "iopub.status.idle": "2024-10-11T01:02:02.454529Z",
     "shell.execute_reply": "2024-10-11T01:02:02.453678Z"
    }
   },
   "outputs": [],
   "source": [
    "import torch\n",
    "import transformers\n",
    "import datasets\n",
    "import trl\n",
    "\n",
    "assert torch.__version__ == \"2.4.0+cu121\"\n",
    "assert transformers.__version__ == \"4.44.2\"\n",
    "assert datasets.__version__ == \"3.0.0\"\n",
    "assert trl.__version__ == \"0.11.1\""
   ]
  },
  {
   "cell_type": "code",
   "execution_count": 75,
   "metadata": {
    "execution": {
     "iopub.execute_input": "2024-10-11T01:02:02.458233Z",
     "iopub.status.busy": "2024-10-11T01:02:02.457920Z",
     "iopub.status.idle": "2024-10-11T01:02:02.463895Z",
     "shell.execute_reply": "2024-10-11T01:02:02.462976Z"
    },
    "id": "o3ZVc72wisG2",
    "tags": []
   },
   "outputs": [],
   "source": [
    "# Seed the same seed to all\n",
    "def seed_everything(seed: int):\n",
    "    random.seed(seed)\n",
    "    os.environ[\"PYTHONHASHSEED\"] = str(seed)\n",
    "    np.random.seed(seed)\n",
    "    torch.manual_seed(seed)\n",
    "    torch.cuda.manual_seed(seed)\n",
    "    torch.backends.cudnn.deterministic = True\n",
    "    torch.backends.cudnn.benchmark = True\n",
    "\n",
    "\n",
    "seed_everything(SEED)"
   ]
  },
  {
   "cell_type": "code",
   "execution_count": 76,
   "metadata": {
    "autoscroll": "auto",
    "colab": {
     "base_uri": "https://localhost:8080/"
    },
    "collapsed": false,
    "execution": {
     "iopub.execute_input": "2024-10-11T01:02:02.467549Z",
     "iopub.status.busy": "2024-10-11T01:02:02.467178Z",
     "iopub.status.idle": "2024-10-11T01:02:02.481926Z",
     "shell.execute_reply": "2024-10-11T01:02:02.481004Z"
    },
    "id": "8-7WkHGUisG2",
    "jupyter": {
     "outputs_hidden": false
    },
    "outputId": "e8711fa2-cd7f-4291-e280-0915341f5efc",
    "tags": []
   },
   "outputs": [
    {
     "data": {
      "text/plain": [
       "True"
      ]
     },
     "execution_count": 76,
     "metadata": {},
     "output_type": "execute_result"
    }
   ],
   "source": [
    "from dotenv import load_dotenv\n",
    "\n",
    "load_dotenv(f\"{ENV_PATH}/.env\")"
   ]
  },
  {
   "cell_type": "markdown",
   "metadata": {
    "id": "ohXfhbqXisG2"
   },
   "source": [
    "# Wandb"
   ]
  },
  {
   "cell_type": "code",
   "execution_count": 77,
   "metadata": {
    "autoscroll": "auto",
    "colab": {
     "base_uri": "https://localhost:8080/",
     "height": 197
    },
    "collapsed": false,
    "execution": {
     "iopub.execute_input": "2024-10-11T01:02:02.540684Z",
     "iopub.status.busy": "2024-10-11T01:02:02.540249Z",
     "iopub.status.idle": "2024-10-11T01:02:04.055758Z",
     "shell.execute_reply": "2024-10-11T01:02:04.054765Z"
    },
    "id": "KGR9aE2YisG2",
    "jupyter": {
     "outputs_hidden": false
    },
    "outputId": "95031754-538e-4af9-efc0-dec4d85afaf1"
   },
   "outputs": [
    {
     "name": "stderr",
     "output_type": "stream",
     "text": [
      "\u001b[34m\u001b[1mwandb\u001b[0m: \u001b[33mWARNING\u001b[0m If you're specifying your api key in code, ensure this code is not shared publicly.\n",
      "\u001b[34m\u001b[1mwandb\u001b[0m: \u001b[33mWARNING\u001b[0m Consider setting the WANDB_API_KEY environment variable, or running `wandb login` from the command line.\n",
      "\u001b[34m\u001b[1mwandb\u001b[0m: Appending key for api.wandb.ai to your netrc file: /root/.netrc\n"
     ]
    },
    {
     "data": {
      "text/html": [
       "Tracking run with wandb version 0.18.0"
      ],
      "text/plain": [
       "<IPython.core.display.HTML object>"
      ]
     },
     "metadata": {},
     "output_type": "display_data"
    },
    {
     "data": {
      "text/html": [
       "Run data is saved locally in <code>/root/eedi-mining-misconceptions-in-mathematics/exp/causal/wandb/run-20241012_063640-1j99n2q8</code>"
      ],
      "text/plain": [
       "<IPython.core.display.HTML object>"
      ]
     },
     "metadata": {},
     "output_type": "display_data"
    },
    {
     "data": {
      "text/html": [
       "Syncing run <strong><a href='https://wandb.ai/sinchir0/eedi-mining-misconceptions-in-mathematics/runs/1j99n2q8' target=\"_blank\">e014-causal</a></strong> to <a href='https://wandb.ai/sinchir0/eedi-mining-misconceptions-in-mathematics' target=\"_blank\">Weights & Biases</a> (<a href='https://wandb.me/run' target=\"_blank\">docs</a>)<br/>"
      ],
      "text/plain": [
       "<IPython.core.display.HTML object>"
      ]
     },
     "metadata": {},
     "output_type": "display_data"
    },
    {
     "data": {
      "text/html": [
       " View project at <a href='https://wandb.ai/sinchir0/eedi-mining-misconceptions-in-mathematics' target=\"_blank\">https://wandb.ai/sinchir0/eedi-mining-misconceptions-in-mathematics</a>"
      ],
      "text/plain": [
       "<IPython.core.display.HTML object>"
      ]
     },
     "metadata": {},
     "output_type": "display_data"
    },
    {
     "data": {
      "text/html": [
       " View run at <a href='https://wandb.ai/sinchir0/eedi-mining-misconceptions-in-mathematics/runs/1j99n2q8' target=\"_blank\">https://wandb.ai/sinchir0/eedi-mining-misconceptions-in-mathematics/runs/1j99n2q8</a>"
      ],
      "text/plain": [
       "<IPython.core.display.HTML object>"
      ]
     },
     "metadata": {},
     "output_type": "display_data"
    },
    {
     "data": {
      "text/plain": [
       "'wandb'"
      ]
     },
     "execution_count": 77,
     "metadata": {},
     "output_type": "execute_result"
    }
   ],
   "source": [
    "if WANDB:\n",
    "    wandb.login(key=os.environ[\"WANDB_API_KEY\"])\n",
    "    wandb.init(project=COMPETITION_NAME, name=EXP_NAME)\n",
    "    REPORT_TO = \"wandb\"\n",
    "else:\n",
    "    REPORT_TO = \"none\"\n",
    "\n",
    "REPORT_TO"
   ]
  },
  {
   "cell_type": "markdown",
   "metadata": {},
   "source": [
    "# Model Tokenizer Load"
   ]
  },
  {
   "cell_type": "code",
   "execution_count": 78,
   "metadata": {
    "autoscroll": "auto",
    "collapsed": false,
    "execution": {
     "iopub.execute_input": "2024-10-11T01:02:04.059609Z",
     "iopub.status.busy": "2024-10-11T01:02:04.059410Z",
     "iopub.status.idle": "2024-10-11T01:02:14.860549Z",
     "shell.execute_reply": "2024-10-11T01:02:14.859280Z"
    }
   },
   "outputs": [
    {
     "name": "stdout",
     "output_type": "stream",
     "text": [
      "==((====))==  Unsloth 2024.9.post3: Fast Llama patching. Transformers = 4.44.2.\n",
      "   \\\\   /|    GPU: Tesla V100-PCIE-16GB. Max memory: 15.773 GB. Platform = Linux.\n",
      "O^O/ \\_/ \\    Pytorch: 2.4.0+cu121. CUDA = 7.0. CUDA Toolkit = 12.1.\n",
      "\\        /    Bfloat16 = FALSE. FA [Xformers = 0.0.28.post1. FA2 = False]\n",
      " \"-____-\"     Free Apache license: http://github.com/unslothai/unsloth\n"
     ]
    }
   ],
   "source": [
    "model, tokenizer = FastLanguageModel.from_pretrained(\n",
    "    model_name=MODEL_NAME,\n",
    "    max_seq_length=TRAINING_MAX_LENGTH,\n",
    "    dtype=None,\n",
    "    load_in_4bit=True,\n",
    ")"
   ]
  },
  {
   "cell_type": "code",
   "execution_count": 79,
   "metadata": {},
   "outputs": [],
   "source": [
    "# https://www.kaggle.com/code/kishanvavdara/lmsys-llama-3-tpu-train\n",
    "tokenizer.padding_side = \"right\""
   ]
  },
  {
   "cell_type": "code",
   "execution_count": 83,
   "metadata": {},
   "outputs": [
    {
     "name": "stdout",
     "output_type": "stream",
     "text": [
      "<|begin_of_text|><|start_header_id|>system<|end_header_id|>\n",
      "\n",
      "Cutting Knowledge Date: December 2023\n",
      "Today Date: 26 Jul 2024\n",
      "\n",
      "A chat between a curious user and an artificial intelligence assistant. The assistant gives helpful, detailed, and polite answers to the user's questions.<|eot_id|><|start_header_id|>user<|end_header_id|>\n",
      "\n",
      "Who are you?<|eot_id|><|start_header_id|>assistant<|end_header_id|>\n",
      "\n",
      "\n"
     ]
    }
   ],
   "source": [
    "messages = [\n",
    "    {\n",
    "        \"role\": \"system\",\n",
    "        \"content\": \"A chat between a curious user and an artificial intelligence assistant. The assistant gives helpful, detailed, and polite answers to the user's questions.\",\n",
    "    },\n",
    "    {\"role\": \"user\", \"content\": \"Who are you?\"},\n",
    "]\n",
    "\n",
    "print(\n",
    "    tokenizer.apply_chat_template(messages, tokenize=False, add_generation_prompt=True)\n",
    ")"
   ]
  },
  {
   "cell_type": "markdown",
   "metadata": {
    "id": "xxyhkSG4isG2"
   },
   "source": [
    "# Data Import & Preprocess"
   ]
  },
  {
   "cell_type": "code",
   "execution_count": 36,
   "metadata": {
    "execution": {
     "iopub.execute_input": "2024-10-11T01:02:14.864943Z",
     "iopub.status.busy": "2024-10-11T01:02:14.864746Z",
     "iopub.status.idle": "2024-10-11T01:02:14.894385Z",
     "shell.execute_reply": "2024-10-11T01:02:14.893392Z"
    },
    "id": "JlTiKm6TisG2"
   },
   "outputs": [],
   "source": [
    "train_long = pl.read_csv(f\"{DATA_PATH}/train_long.csv\").filter(\n",
    "    (pl.col(\"CorrectAnswer\") != pl.col(\"AnswerAlphabet\"))\n",
    "    & (pl.col(\"MisconceptionId\").is_not_null())\n",
    ")"
   ]
  },
  {
   "cell_type": "code",
   "execution_count": 37,
   "metadata": {
    "execution": {
     "iopub.execute_input": "2024-10-11T01:02:14.898118Z",
     "iopub.status.busy": "2024-10-11T01:02:14.897795Z",
     "iopub.status.idle": "2024-10-11T01:02:14.901608Z",
     "shell.execute_reply": "2024-10-11T01:02:14.900762Z"
    },
    "id": "6nkbuZVjisG3"
   },
   "outputs": [],
   "source": [
    "if DEBUG:\n",
    "    train_long = train_long.head(100)"
   ]
  },
  {
   "cell_type": "code",
   "execution_count": 38,
   "metadata": {
    "autoscroll": "auto",
    "collapsed": false,
    "execution": {
     "iopub.execute_input": "2024-10-11T01:02:14.905705Z",
     "iopub.status.busy": "2024-10-11T01:02:14.904990Z",
     "iopub.status.idle": "2024-10-11T01:02:14.912514Z",
     "shell.execute_reply": "2024-10-11T01:02:14.911681Z"
    }
   },
   "outputs": [
    {
     "data": {
      "text/html": [
       "<div><style>\n",
       ".dataframe > thead > tr,\n",
       ".dataframe > tbody > tr {\n",
       "  text-align: right;\n",
       "  white-space: pre-wrap;\n",
       "}\n",
       "</style>\n",
       "<small>shape: (4_370, 13)</small><table border=\"1\" class=\"dataframe\"><thead><tr><th>QuestionId</th><th>ConstructName</th><th>SubjectName</th><th>QuestionText</th><th>CorrectAnswer</th><th>CorrectAnswerText</th><th>AnswerType</th><th>AnswerText</th><th>AllText</th><th>AnswerAlphabet</th><th>QuestionId_Answer</th><th>MisconceptionId</th><th>MisconceptionName</th></tr><tr><td>i64</td><td>str</td><td>str</td><td>str</td><td>str</td><td>str</td><td>str</td><td>str</td><td>str</td><td>str</td><td>str</td><td>i64</td><td>str</td></tr></thead><tbody><tr><td>0</td><td>&quot;Use the order of operations to…</td><td>&quot;BIDMAS&quot;</td><td>&quot;\\[\n",
       "3 \\times 2+4-5\n",
       "\\]\n",
       "Where do …</td><td>&quot;A&quot;</td><td>&quot;\\( 3 \\times(2+4)-5 \\)&quot;</td><td>&quot;AnswerDText&quot;</td><td>&quot;Does not need brackets&quot;</td><td>&quot;Use the order of operations to…</td><td>&quot;D&quot;</td><td>&quot;0_D&quot;</td><td>1672</td><td>&quot;Confuses the order of operatio…</td></tr><tr><td>1000</td><td>&quot;Simplify an algebraic fraction…</td><td>&quot;Simplifying Algebraic Fraction…</td><td>&quot;Simplify the following, if pos…</td><td>&quot;B&quot;</td><td>&quot;\\( -1 \\)&quot;</td><td>&quot;AnswerAText&quot;</td><td>&quot;\\( t \\)&quot;</td><td>&quot;Simplify an algebraic fraction…</td><td>&quot;A&quot;</td><td>&quot;1000_A&quot;</td><td>891</td><td>&quot;Incorrectly cancels what they …</td></tr><tr><td>1000</td><td>&quot;Simplify an algebraic fraction…</td><td>&quot;Simplifying Algebraic Fraction…</td><td>&quot;Simplify the following, if pos…</td><td>&quot;B&quot;</td><td>&quot;\\( -1 \\)&quot;</td><td>&quot;AnswerCText&quot;</td><td>&quot;\\( 1 \\)&quot;</td><td>&quot;Simplify an algebraic fraction…</td><td>&quot;C&quot;</td><td>&quot;1000_C&quot;</td><td>891</td><td>&quot;Incorrectly cancels what they …</td></tr><tr><td>1000</td><td>&quot;Simplify an algebraic fraction…</td><td>&quot;Simplifying Algebraic Fraction…</td><td>&quot;Simplify the following, if pos…</td><td>&quot;B&quot;</td><td>&quot;\\( -1 \\)&quot;</td><td>&quot;AnswerDText&quot;</td><td>&quot;Does not simplify&quot;</td><td>&quot;Simplify an algebraic fraction…</td><td>&quot;D&quot;</td><td>&quot;1000_D&quot;</td><td>353</td><td>&quot;Does not recognise when one pa…</td></tr><tr><td>1001</td><td>&quot;Round numbers to two decimal p…</td><td>&quot;Rounding to Decimal Places&quot;</td><td>&quot;What is \\( \\mathbf{3 . 5 1 6 3…</td><td>&quot;B&quot;</td><td>&quot;\\( 3.52 \\)&quot;</td><td>&quot;AnswerAText&quot;</td><td>&quot;\\( 3.51 \\)&quot;</td><td>&quot;Round numbers to two decimal p…</td><td>&quot;A&quot;</td><td>&quot;1001_A&quot;</td><td>1379</td><td>&quot;Rounds down instead of up&quot;</td></tr><tr><td>&hellip;</td><td>&hellip;</td><td>&hellip;</td><td>&hellip;</td><td>&hellip;</td><td>&hellip;</td><td>&hellip;</td><td>&hellip;</td><td>&hellip;</td><td>&hellip;</td><td>&hellip;</td><td>&hellip;</td><td>&hellip;</td></tr><tr><td>99</td><td>&quot;Given the perimeter, work out …</td><td>&quot;Volume and Capacity Units&quot;</td><td>&quot;A regular pentagon has a total…</td><td>&quot;C&quot;</td><td>&quot;\\( 3.4 \\mathrm{~cm} \\)&quot;</td><td>&quot;AnswerBText&quot;</td><td>&quot;\\( 12 \\mathrm{~cm} \\)&quot;</td><td>&quot;Given the perimeter, work out …</td><td>&quot;B&quot;</td><td>&quot;99_B&quot;</td><td>1815</td><td>&quot;When given the perimeter of a …</td></tr><tr><td>99</td><td>&quot;Given the perimeter, work out …</td><td>&quot;Volume and Capacity Units&quot;</td><td>&quot;A regular pentagon has a total…</td><td>&quot;C&quot;</td><td>&quot;\\( 3.4 \\mathrm{~cm} \\)&quot;</td><td>&quot;AnswerDText&quot;</td><td>&quot;Not enough information&quot;</td><td>&quot;Given the perimeter, work out …</td><td>&quot;D&quot;</td><td>&quot;99_D&quot;</td><td>255</td><td>&quot;Does not know the meaning of t…</td></tr><tr><td>9</td><td>&quot;Identify horizontal translatio…</td><td>&quot;Transformations of functions i…</td><td>&quot;What transformation maps the g…</td><td>&quot;C&quot;</td><td>&quot;Translation by vector\n",
       "\\(\n",
       "\\left…</td><td>&quot;AnswerAText&quot;</td><td>&quot;Translation by vector\n",
       "\\(\n",
       "\\left…</td><td>&quot;Identify horizontal translatio…</td><td>&quot;A&quot;</td><td>&quot;9_A&quot;</td><td>1889</td><td>&quot;Believes f(x - a) translates t…</td></tr><tr><td>9</td><td>&quot;Identify horizontal translatio…</td><td>&quot;Transformations of functions i…</td><td>&quot;What transformation maps the g…</td><td>&quot;C&quot;</td><td>&quot;Translation by vector\n",
       "\\(\n",
       "\\left…</td><td>&quot;AnswerBText&quot;</td><td>&quot;Translation by vector\n",
       "\\(\n",
       "\\left…</td><td>&quot;Identify horizontal translatio…</td><td>&quot;B&quot;</td><td>&quot;9_B&quot;</td><td>1234</td><td>&quot;Believes f(x + a) translates t…</td></tr><tr><td>9</td><td>&quot;Identify horizontal translatio…</td><td>&quot;Transformations of functions i…</td><td>&quot;What transformation maps the g…</td><td>&quot;C&quot;</td><td>&quot;Translation by vector\n",
       "\\(\n",
       "\\left…</td><td>&quot;AnswerDText&quot;</td><td>&quot;Translation by vector\n",
       "\\(\n",
       "\\left…</td><td>&quot;Identify horizontal translatio…</td><td>&quot;D&quot;</td><td>&quot;9_D&quot;</td><td>1312</td><td>&quot;Believes f(x) + a translates t…</td></tr></tbody></table></div>"
      ],
      "text/plain": [
       "shape: (4_370, 13)\n",
       "┌───────────┬───────────┬───────────┬───────────┬───┬───────────┬───────────┬───────────┬──────────┐\n",
       "│ QuestionI ┆ Construct ┆ SubjectNa ┆ QuestionT ┆ … ┆ AnswerAlp ┆ QuestionI ┆ Misconcep ┆ Misconce │\n",
       "│ d         ┆ Name      ┆ me        ┆ ext       ┆   ┆ habet     ┆ d_Answer  ┆ tionId    ┆ ptionNam │\n",
       "│ ---       ┆ ---       ┆ ---       ┆ ---       ┆   ┆ ---       ┆ ---       ┆ ---       ┆ e        │\n",
       "│ i64       ┆ str       ┆ str       ┆ str       ┆   ┆ str       ┆ str       ┆ i64       ┆ ---      │\n",
       "│           ┆           ┆           ┆           ┆   ┆           ┆           ┆           ┆ str      │\n",
       "╞═══════════╪═══════════╪═══════════╪═══════════╪═══╪═══════════╪═══════════╪═══════════╪══════════╡\n",
       "│ 0         ┆ Use the   ┆ BIDMAS    ┆ \\[        ┆ … ┆ D         ┆ 0_D       ┆ 1672      ┆ Confuses │\n",
       "│           ┆ order of  ┆           ┆ 3 \\times  ┆   ┆           ┆           ┆           ┆ the      │\n",
       "│           ┆ operation ┆           ┆ 2+4-5     ┆   ┆           ┆           ┆           ┆ order of │\n",
       "│           ┆ s to…     ┆           ┆ \\]        ┆   ┆           ┆           ┆           ┆ operatio │\n",
       "│           ┆           ┆           ┆ Where do  ┆   ┆           ┆           ┆           ┆ …        │\n",
       "│           ┆           ┆           ┆ …         ┆   ┆           ┆           ┆           ┆          │\n",
       "│ 1000      ┆ Simplify  ┆ Simplifyi ┆ Simplify  ┆ … ┆ A         ┆ 1000_A    ┆ 891       ┆ Incorrec │\n",
       "│           ┆ an        ┆ ng        ┆ the follo ┆   ┆           ┆           ┆           ┆ tly      │\n",
       "│           ┆ algebraic ┆ Algebraic ┆ wing, if  ┆   ┆           ┆           ┆           ┆ cancels  │\n",
       "│           ┆ fraction… ┆ Fraction… ┆ pos…      ┆   ┆           ┆           ┆           ┆ what     │\n",
       "│           ┆           ┆           ┆           ┆   ┆           ┆           ┆           ┆ they …   │\n",
       "│ 1000      ┆ Simplify  ┆ Simplifyi ┆ Simplify  ┆ … ┆ C         ┆ 1000_C    ┆ 891       ┆ Incorrec │\n",
       "│           ┆ an        ┆ ng        ┆ the follo ┆   ┆           ┆           ┆           ┆ tly      │\n",
       "│           ┆ algebraic ┆ Algebraic ┆ wing, if  ┆   ┆           ┆           ┆           ┆ cancels  │\n",
       "│           ┆ fraction… ┆ Fraction… ┆ pos…      ┆   ┆           ┆           ┆           ┆ what     │\n",
       "│           ┆           ┆           ┆           ┆   ┆           ┆           ┆           ┆ they …   │\n",
       "│ 1000      ┆ Simplify  ┆ Simplifyi ┆ Simplify  ┆ … ┆ D         ┆ 1000_D    ┆ 353       ┆ Does not │\n",
       "│           ┆ an        ┆ ng        ┆ the follo ┆   ┆           ┆           ┆           ┆ recognis │\n",
       "│           ┆ algebraic ┆ Algebraic ┆ wing, if  ┆   ┆           ┆           ┆           ┆ e when   │\n",
       "│           ┆ fraction… ┆ Fraction… ┆ pos…      ┆   ┆           ┆           ┆           ┆ one pa…  │\n",
       "│ 1001      ┆ Round     ┆ Rounding  ┆ What is   ┆ … ┆ A         ┆ 1001_A    ┆ 1379      ┆ Rounds   │\n",
       "│           ┆ numbers   ┆ to        ┆ \\(        ┆   ┆           ┆           ┆           ┆ down     │\n",
       "│           ┆ to two    ┆ Decimal   ┆ \\mathbf{3 ┆   ┆           ┆           ┆           ┆ instead  │\n",
       "│           ┆ decimal   ┆ Places    ┆ . 5 1 6   ┆   ┆           ┆           ┆           ┆ of up    │\n",
       "│           ┆ p…        ┆           ┆ 3…        ┆   ┆           ┆           ┆           ┆          │\n",
       "│ …         ┆ …         ┆ …         ┆ …         ┆ … ┆ …         ┆ …         ┆ …         ┆ …        │\n",
       "│ 99        ┆ Given the ┆ Volume    ┆ A regular ┆ … ┆ B         ┆ 99_B      ┆ 1815      ┆ When     │\n",
       "│           ┆ perimeter ┆ and       ┆ pentagon  ┆   ┆           ┆           ┆           ┆ given    │\n",
       "│           ┆ , work    ┆ Capacity  ┆ has a     ┆   ┆           ┆           ┆           ┆ the peri │\n",
       "│           ┆ out …     ┆ Units     ┆ total…    ┆   ┆           ┆           ┆           ┆ meter of │\n",
       "│           ┆           ┆           ┆           ┆   ┆           ┆           ┆           ┆ a …      │\n",
       "│ 99        ┆ Given the ┆ Volume    ┆ A regular ┆ … ┆ D         ┆ 99_D      ┆ 255       ┆ Does not │\n",
       "│           ┆ perimeter ┆ and       ┆ pentagon  ┆   ┆           ┆           ┆           ┆ know the │\n",
       "│           ┆ , work    ┆ Capacity  ┆ has a     ┆   ┆           ┆           ┆           ┆ meaning  │\n",
       "│           ┆ out …     ┆ Units     ┆ total…    ┆   ┆           ┆           ┆           ┆ of t…    │\n",
       "│ 9         ┆ Identify  ┆ Transform ┆ What tran ┆ … ┆ A         ┆ 9_A       ┆ 1889      ┆ Believes │\n",
       "│           ┆ horizonta ┆ ations of ┆ sformatio ┆   ┆           ┆           ┆           ┆ f(x - a) │\n",
       "│           ┆ l transla ┆ functions ┆ n maps    ┆   ┆           ┆           ┆           ┆ translat │\n",
       "│           ┆ tio…      ┆ i…        ┆ the g…    ┆   ┆           ┆           ┆           ┆ es t…    │\n",
       "│ 9         ┆ Identify  ┆ Transform ┆ What tran ┆ … ┆ B         ┆ 9_B       ┆ 1234      ┆ Believes │\n",
       "│           ┆ horizonta ┆ ations of ┆ sformatio ┆   ┆           ┆           ┆           ┆ f(x + a) │\n",
       "│           ┆ l transla ┆ functions ┆ n maps    ┆   ┆           ┆           ┆           ┆ translat │\n",
       "│           ┆ tio…      ┆ i…        ┆ the g…    ┆   ┆           ┆           ┆           ┆ es t…    │\n",
       "│ 9         ┆ Identify  ┆ Transform ┆ What tran ┆ … ┆ D         ┆ 9_D       ┆ 1312      ┆ Believes │\n",
       "│           ┆ horizonta ┆ ations of ┆ sformatio ┆   ┆           ┆           ┆           ┆ f(x) + a │\n",
       "│           ┆ l transla ┆ functions ┆ n maps    ┆   ┆           ┆           ┆           ┆ translat │\n",
       "│           ┆ tio…      ┆ i…        ┆ the g…    ┆   ┆           ┆           ┆           ┆ es t…    │\n",
       "└───────────┴───────────┴───────────┴───────────┴───┴───────────┴───────────┴───────────┴──────────┘"
      ]
     },
     "execution_count": 38,
     "metadata": {},
     "output_type": "execute_result"
    }
   ],
   "source": [
    "train_long"
   ]
  },
  {
   "cell_type": "code",
   "execution_count": 39,
   "metadata": {
    "autoscroll": "auto",
    "collapsed": false,
    "execution": {
     "iopub.execute_input": "2024-10-11T01:02:14.916045Z",
     "iopub.status.busy": "2024-10-11T01:02:14.915729Z",
     "iopub.status.idle": "2024-10-11T01:02:15.016051Z",
     "shell.execute_reply": "2024-10-11T01:02:15.014925Z"
    }
   },
   "outputs": [
    {
     "data": {
      "application/vnd.jupyter.widget-view+json": {
       "model_id": "841d9f7ee589435e9b9bbea1945c36b5",
       "version_major": 2,
       "version_minor": 0
      },
      "text/plain": [
       "Map:   0%|          | 0/4370 [00:00<?, ? examples/s]"
      ]
     },
     "metadata": {},
     "output_type": "display_data"
    }
   ],
   "source": [
    "# TODO: CoT(think step by step)をどうFine-Tuningに反映させるべきかを調べる\n",
    "alpaca_prompt = \"\"\"Below is an instruction that describes a task, paired with an input that provides further context. Write a response that appropriately completes the request.\n",
    "\n",
    "### Instruction:\n",
    "Identify the misconception behind Incorrect Answer.\n",
    "\n",
    "### Input:\n",
    "Question: {question_text}\n",
    "Incorrect Answer: {incorrect_answer_text}\n",
    "Correct Answer: {correct_answer_text}\n",
    "Construct Name: {construct_name}\n",
    "Subject Name: {subject_name}\n",
    "\n",
    "### Response:\n",
    "{misconception_name}\"\"\"\n",
    "\n",
    "EOS_TOKEN = tokenizer.eos_token  # Must add EOS_TOKEN\n",
    "\n",
    "\n",
    "def formatting_prompts_func(examples):\n",
    "    texts = []\n",
    "    for (\n",
    "        question_text,\n",
    "        incorrect_answer_text,\n",
    "        correct_answer_text,\n",
    "        construct_name,\n",
    "        subject_name,\n",
    "        misconception_name,\n",
    "    ) in zip(\n",
    "        examples[\"QuestionText\"],\n",
    "        examples[\"AnswerText\"],  # incorrect_answer_text\n",
    "        examples[\"CorrectAnswerText\"],\n",
    "        examples[\"ConstructName\"],\n",
    "        examples[\"SubjectName\"],\n",
    "        examples[\"MisconceptionName\"],\n",
    "    ):\n",
    "        # Must add EOS_TOKEN, otherwise your generation will go on forever!\n",
    "        text = (\n",
    "            alpaca_prompt.format(\n",
    "                question_text=question_text,\n",
    "                incorrect_answer_text=incorrect_answer_text,\n",
    "                correct_answer_text=correct_answer_text,\n",
    "                construct_name=construct_name,\n",
    "                subject_name=subject_name,\n",
    "                misconception_name=misconception_name,\n",
    "            )\n",
    "            + EOS_TOKEN\n",
    "        )\n",
    "        texts.append(text)\n",
    "    return {\n",
    "        \"text\": texts,\n",
    "    }\n",
    "\n",
    "\n",
    "train = Dataset.from_polars(train_long).map(\n",
    "    formatting_prompts_func,\n",
    "    batched=True,\n",
    ")"
   ]
  },
  {
   "cell_type": "code",
   "execution_count": 40,
   "metadata": {
    "autoscroll": "auto",
    "collapsed": false,
    "execution": {
     "iopub.execute_input": "2024-10-11T01:02:15.019581Z",
     "iopub.status.busy": "2024-10-11T01:02:15.019385Z",
     "iopub.status.idle": "2024-10-11T01:02:15.025306Z",
     "shell.execute_reply": "2024-10-11T01:02:15.024396Z"
    }
   },
   "outputs": [
    {
     "name": "stdout",
     "output_type": "stream",
     "text": [
      "Below is an instruction that describes a task, paired with an input that provides further context. Write a response that appropriately completes the request.\n",
      "\n",
      "### Instruction:\n",
      "Identify the misconception behind Incorrect Answer.\n",
      "\n",
      "### Input:\n",
      "Question: \\[\n",
      "3 \\times 2+4-5\n",
      "\\]\n",
      "Where do the brackets need to go to make the answer equal \\( 13 \\) ?\n",
      "Incorrect Answer: Does not need brackets\n",
      "Correct Answer: \\( 3 \\times(2+4)-5 \\)\n",
      "Construct Name: Use the order of operations to carry out calculations involving powers\n",
      "Subject Name: BIDMAS\n",
      "\n",
      "### Response:\n",
      "Confuses the order of operations, believes addition comes before multiplication <|eot_id|>\n"
     ]
    }
   ],
   "source": [
    "print(train[0][\"text\"])"
   ]
  },
  {
   "cell_type": "code",
   "execution_count": 41,
   "metadata": {
    "autoscroll": "auto",
    "collapsed": false,
    "execution": {
     "iopub.execute_input": "2024-10-11T01:02:15.028834Z",
     "iopub.status.busy": "2024-10-11T01:02:15.028233Z",
     "iopub.status.idle": "2024-10-11T01:02:15.033183Z",
     "shell.execute_reply": "2024-10-11T01:02:15.032273Z"
    }
   },
   "outputs": [
    {
     "name": "stdout",
     "output_type": "stream",
     "text": [
      "Below is an instruction that describes a task, paired with an input that provides further context. Write a response that appropriately completes the request.\n",
      "\n",
      "### Instruction:\n",
      "Identify the misconception behind Incorrect Answer.\n",
      "\n",
      "### Input:\n",
      "Question: This pictogram shows the different types of music Bob has in his music collection.\n",
      "\n",
      "How many Blues CDs does Bob have? ![A pictogram showing the number of CDs Bob has in his musical collection. Pop has 3 and a half symbols, rock has 2 symbols, blues has 2 and a quarter symbols, jazz has 3 and a quarter symbols and classical has 1 and three-quarter symbols. Each symbol represents 4 CDs.]()\n",
      "Incorrect Answer: \\( 2.25 \\)\n",
      "Correct Answer: \\( 9 \\)\n",
      "Construct Name: Interpret a pictogram involving fractions of symbols\n",
      "Subject Name: Pictogram\n",
      "\n",
      "### Response:\n",
      "When interpreting a pictogram, thinks each symbol stands for 1<|eot_id|>\n"
     ]
    }
   ],
   "source": [
    "print(train[10][\"text\"])"
   ]
  },
  {
   "cell_type": "markdown",
   "metadata": {},
   "source": [
    "# Split Train Valid"
   ]
  },
  {
   "cell_type": "code",
   "execution_count": 42,
   "metadata": {
    "autoscroll": "auto",
    "collapsed": false,
    "execution": {
     "iopub.execute_input": "2024-10-11T01:02:15.036728Z",
     "iopub.status.busy": "2024-10-11T01:02:15.036418Z",
     "iopub.status.idle": "2024-10-11T01:02:18.090143Z",
     "shell.execute_reply": "2024-10-11T01:02:18.088721Z"
    }
   },
   "outputs": [
    {
     "name": "stderr",
     "output_type": "stream",
     "text": [
      "Setting TOKENIZERS_PARALLELISM=false for forked processes.\n"
     ]
    },
    {
     "data": {
      "application/vnd.jupyter.widget-view+json": {
       "model_id": "3e7d5ce5b8334cfe8383621ffeea6dc8",
       "version_major": 2,
       "version_minor": 0
      },
      "text/plain": [
       "Filter (num_proc=16):   0%|          | 0/4370 [00:00<?, ? examples/s]"
      ]
     },
     "metadata": {},
     "output_type": "display_data"
    },
    {
     "name": "stderr",
     "output_type": "stream",
     "text": [
      "Setting TOKENIZERS_PARALLELISM=false for forked processes.\n"
     ]
    },
    {
     "data": {
      "application/vnd.jupyter.widget-view+json": {
       "model_id": "df003061da0144e2b5e4526f63c077ec",
       "version_major": 2,
       "version_minor": 0
      },
      "text/plain": [
       "Filter (num_proc=16):   0%|          | 0/4370 [00:00<?, ? examples/s]"
      ]
     },
     "metadata": {},
     "output_type": "display_data"
    }
   ],
   "source": [
    "train, valid = (\n",
    "    train.filter(lambda x: x[\"QuestionId\"] % 3 != 0, num_proc=NUM_PROC),\n",
    "    train.filter(lambda x: x[\"QuestionId\"] % 3 == 0, num_proc=NUM_PROC),\n",
    ")"
   ]
  },
  {
   "cell_type": "markdown",
   "metadata": {},
   "source": [
    "# Model Predict Check Before Training"
   ]
  },
  {
   "cell_type": "code",
   "execution_count": 43,
   "metadata": {
    "autoscroll": "auto",
    "collapsed": false,
    "execution": {
     "iopub.execute_input": "2024-10-11T01:02:18.094779Z",
     "iopub.status.busy": "2024-10-11T01:02:18.094305Z",
     "iopub.status.idle": "2024-10-11T01:02:18.203785Z",
     "shell.execute_reply": "2024-10-11T01:02:18.202689Z"
    }
   },
   "outputs": [
    {
     "data": {
      "application/vnd.jupyter.widget-view+json": {
       "model_id": "3f6a4f6d1cd04f2aa0172439637dd8d8",
       "version_major": 2,
       "version_minor": 0
      },
      "text/plain": [
       "Map:   0%|          | 0/1460 [00:00<?, ? examples/s]"
      ]
     },
     "metadata": {},
     "output_type": "display_data"
    }
   ],
   "source": [
    "EOS_TOKEN = tokenizer.eos_token  # Must add EOS_TOKEN\n",
    "\n",
    "\n",
    "def formatting_prompts_func_predict(examples):\n",
    "    texts = []\n",
    "    for (\n",
    "        question_text,\n",
    "        incorrect_answer_text,\n",
    "        correct_answer_text,\n",
    "        construct_name,\n",
    "        subject_name,\n",
    "    ) in zip(\n",
    "        examples[\"QuestionText\"],\n",
    "        examples[\"AnswerText\"],  # incorrect_answer_text\n",
    "        examples[\"CorrectAnswerText\"],\n",
    "        examples[\"ConstructName\"],\n",
    "        examples[\"SubjectName\"],\n",
    "    ):\n",
    "        # Must add EOS_TOKEN, otherwise your generation will go on forever!\n",
    "        text = (\n",
    "            alpaca_prompt.format(\n",
    "                question_text=question_text,\n",
    "                incorrect_answer_text=incorrect_answer_text,\n",
    "                correct_answer_text=correct_answer_text,\n",
    "                construct_name=construct_name,\n",
    "                subject_name=subject_name,\n",
    "                misconception_name=\"\",\n",
    "            )\n",
    "            + EOS_TOKEN\n",
    "        )\n",
    "        texts.append(text)\n",
    "    return {\n",
    "        \"text\": texts,\n",
    "    }\n",
    "\n",
    "\n",
    "valid_for_predict = valid.map(\n",
    "    formatting_prompts_func_predict,\n",
    "    batched=True,\n",
    ")"
   ]
  },
  {
   "cell_type": "code",
   "execution_count": 44,
   "metadata": {
    "execution": {
     "iopub.execute_input": "2024-10-11T01:02:18.208215Z",
     "iopub.status.busy": "2024-10-11T01:02:18.207680Z",
     "iopub.status.idle": "2024-10-11T01:02:18.213496Z",
     "shell.execute_reply": "2024-10-11T01:02:18.212556Z"
    }
   },
   "outputs": [],
   "source": [
    "# alpaca_prompt = Copied from above\n",
    "FastLanguageModel.for_inference(model)  # Enable native 2x faster inference\n",
    "\n",
    "\n",
    "def predict(valid: Dataset, idx: int, model):\n",
    "    inputs = tokenizer(\n",
    "        valid[\"text\"][idx],\n",
    "        return_tensors=\"pt\",\n",
    "    ).to(\"cuda\")\n",
    "\n",
    "    outputs = model.generate(**inputs, max_new_tokens=64, do_sample=True)\n",
    "    print(tokenizer.batch_decode(outputs, skip_special_tokens=True)[0])\n",
    "    print(\"\\n### Answer Misconception Name:\")\n",
    "    print(valid[\"MisconceptionName\"][idx])"
   ]
  },
  {
   "cell_type": "code",
   "execution_count": 45,
   "metadata": {
    "autoscroll": "auto",
    "collapsed": false,
    "execution": {
     "iopub.execute_input": "2024-10-11T01:02:18.217434Z",
     "iopub.status.busy": "2024-10-11T01:02:18.217089Z",
     "iopub.status.idle": "2024-10-11T01:02:21.853297Z",
     "shell.execute_reply": "2024-10-11T01:02:21.851957Z"
    }
   },
   "outputs": [
    {
     "name": "stdout",
     "output_type": "stream",
     "text": [
      "Below is an instruction that describes a task, paired with an input that provides further context. Write a response that appropriately completes the request.\n",
      "\n",
      "### Instruction:\n",
      "Identify the misconception behind Incorrect Answer.\n",
      "\n",
      "### Input:\n",
      "Question: \\[\n",
      "3 \\times 2+4-5\n",
      "\\]\n",
      "Where do the brackets need to go to make the answer equal \\( 13 \\)?\n",
      "Incorrect Answer: Does not need brackets\n",
      "Correct Answer: \\( 3 \\times(2+4)-5 \\)\n",
      "Construct Name: Use the order of operations to carry out calculations involving powers\n",
      "Subject Name: BIDMAS\n",
      "\n",
      "### Response:\n",
      "assistant\n",
      "\n",
      "The misconception behind the incorrect answer is that it does not follow the order of operations, which is to carry out calculations involving powers. The correct order of operations is BIDMAS, which stands for Brackets, Indices, Division, Multiplication, Addition, and Subtraction.\n",
      "\n",
      "In the given expression,\n",
      "\n",
      "### Answer Misconception Name:\n",
      "Confuses the order of operations, believes addition comes before multiplication \n"
     ]
    }
   ],
   "source": [
    "predict(valid_for_predict, 0, model)"
   ]
  },
  {
   "cell_type": "code",
   "execution_count": 46,
   "metadata": {
    "autoscroll": "auto",
    "collapsed": false,
    "execution": {
     "iopub.execute_input": "2024-10-11T01:02:21.857322Z",
     "iopub.status.busy": "2024-10-11T01:02:21.857120Z",
     "iopub.status.idle": "2024-10-11T01:02:24.118300Z",
     "shell.execute_reply": "2024-10-11T01:02:24.117067Z"
    }
   },
   "outputs": [
    {
     "name": "stdout",
     "output_type": "stream",
     "text": [
      "Below is an instruction that describes a task, paired with an input that provides further context. Write a response that appropriately completes the request.\n",
      "\n",
      "### Instruction:\n",
      "Identify the misconception behind Incorrect Answer.\n",
      "\n",
      "### Input:\n",
      "Question: Convert \\( \\frac{3}{20} \\) into a decimal\n",
      "Incorrect Answer: \\( 0.3 \\)\n",
      "Correct Answer: \\( 0.15 \\)\n",
      "Construct Name: Convert fractions less than 1 to terminating decimals of 2 decimal places\n",
      "Subject Name: Converting between Fractions and Decimals\n",
      "\n",
      "### Response:\n",
      "assistant\n",
      "\n",
      "The misconception behind the incorrect answer \\(0.3\\) is that it suggests converting the fraction \\( \\frac{3}{20} \\) directly to a decimal without considering the need to express the denominator as a product of 10 to achieve a terminating decimal.\n",
      "\n",
      "### Answer Misconception Name:\n",
      "Converts a fraction to a decimal by using only the numerator after the decimal point\n"
     ]
    }
   ],
   "source": [
    "predict(valid_for_predict, 1, model)"
   ]
  },
  {
   "cell_type": "code",
   "execution_count": 47,
   "metadata": {
    "autoscroll": "auto",
    "collapsed": false,
    "execution": {
     "iopub.execute_input": "2024-10-11T01:02:24.122125Z",
     "iopub.status.busy": "2024-10-11T01:02:24.121923Z",
     "iopub.status.idle": "2024-10-11T01:02:26.615960Z",
     "shell.execute_reply": "2024-10-11T01:02:26.614715Z"
    }
   },
   "outputs": [
    {
     "name": "stdout",
     "output_type": "stream",
     "text": [
      "Below is an instruction that describes a task, paired with an input that provides further context. Write a response that appropriately completes the request.\n",
      "\n",
      "### Instruction:\n",
      "Identify the misconception behind Incorrect Answer.\n",
      "\n",
      "### Input:\n",
      "Question: Convert \\( \\frac{3}{20} \\) into a decimal\n",
      "Incorrect Answer: \\( 3.20 \\)\n",
      "Correct Answer: \\( 0.15 \\)\n",
      "Construct Name: Convert fractions less than 1 to terminating decimals of 2 decimal places\n",
      "Subject Name: Converting between Fractions and Decimals\n",
      "\n",
      "### Response:\n",
      "assistant\n",
      "\n",
      "The misconception behind the incorrect answer \\(3.20\\) is that it represents the fraction \\(3/20\\) as a decimal without considering the fact that the fraction is less than 1. The correct answer, \\(0.15\\), accurately converts \\(3/20\\) into a decimal with \n",
      "\n",
      "### Answer Misconception Name:\n",
      "Converts a fraction to a decimal by placing a decimal point between the numerator and denominator\n"
     ]
    }
   ],
   "source": [
    "predict(valid_for_predict, 2, model)"
   ]
  },
  {
   "cell_type": "markdown",
   "metadata": {
    "id": "LHoxXNPjisG3"
   },
   "source": [
    "# Model"
   ]
  },
  {
   "cell_type": "code",
   "execution_count": 48,
   "metadata": {
    "autoscroll": "auto",
    "collapsed": false,
    "execution": {
     "iopub.execute_input": "2024-10-11T01:02:26.619955Z",
     "iopub.status.busy": "2024-10-11T01:02:26.619761Z",
     "iopub.status.idle": "2024-10-11T01:02:29.819689Z",
     "shell.execute_reply": "2024-10-11T01:02:29.818371Z"
    }
   },
   "outputs": [
    {
     "name": "stderr",
     "output_type": "stream",
     "text": [
      "Not an error, but Unsloth cannot patch MLP layers with our manual autograd engine since either LoRA adapters\n",
      "are not enabled or a bias term (like in Qwen) is used.\n",
      "Not an error, but Unsloth cannot patch Attention layers with our manual autograd engine since either LoRA adapters\n",
      "are not enabled or a bias term (like in Qwen) is used.\n",
      "Not an error, but Unsloth cannot patch O projection layer with our manual autograd engine since either LoRA adapters\n",
      "are not enabled or a bias term (like in Qwen) is used.\n",
      "Unsloth 2024.9.post3 patched 32 layers with 16 QKV layers, 0 O layers and 0 MLP layers.\n"
     ]
    }
   ],
   "source": [
    "model = FastLanguageModel.get_peft_model(\n",
    "    model,\n",
    "    r=LORA_R,  # Choose any number > 0 ! Suggested 8, 16, 32, 64, 128\n",
    "    target_modules=[\n",
    "        \"q_proj\",\n",
    "        \"k_proj\",\n",
    "        \"v_proj\",\n",
    "        # \"o_proj\",\n",
    "        # \"gate_proj\",\n",
    "        # \"up_proj\",\n",
    "        # \"down_proj\",\n",
    "        # \"embed_tokens\",\n",
    "        # \"lm_head\",\n",
    "    ],\n",
    "    lora_alpha=LORA_ALPHA,\n",
    "    lora_dropout=0,  # Supports any, but = 0 is optimized\n",
    "    bias=\"none\",  # Supports any, but = \"none\" is optimized\n",
    "    # [NEW] \"unsloth\" uses 30% less VRAM, fits 2x larger batch sizes!\n",
    "    use_gradient_checkpointing=\"unsloth\",  # True or \"unsloth\" for very long context\n",
    "    random_state=SEED,\n",
    "    use_rslora=False,  # We support rank stabilized LoRA\n",
    "    loftq_config=None,  # And LoftQ\n",
    "    layers_to_transform=[i for i in range(32) if i >= FREEZE_LAYERS],\n",
    ")"
   ]
  },
  {
   "cell_type": "code",
   "execution_count": 49,
   "metadata": {
    "autoscroll": "auto",
    "collapsed": false,
    "execution": {
     "iopub.execute_input": "2024-10-11T01:02:29.823765Z",
     "iopub.status.busy": "2024-10-11T01:02:29.823560Z",
     "iopub.status.idle": "2024-10-11T01:02:29.834061Z",
     "shell.execute_reply": "2024-10-11T01:02:29.833054Z"
    }
   },
   "outputs": [
    {
     "data": {
      "text/plain": [
       "PeftModelForCausalLM(\n",
       "  (base_model): LoraModel(\n",
       "    (model): LlamaForCausalLM(\n",
       "      (model): LlamaModel(\n",
       "        (embed_tokens): Embedding(128256, 4096)\n",
       "        (layers): ModuleList(\n",
       "          (0-15): 16 x LlamaDecoderLayer(\n",
       "            (self_attn): LlamaAttention(\n",
       "              (q_proj): Linear4bit(in_features=4096, out_features=4096, bias=False)\n",
       "              (k_proj): Linear4bit(in_features=4096, out_features=1024, bias=False)\n",
       "              (v_proj): Linear4bit(in_features=4096, out_features=1024, bias=False)\n",
       "              (o_proj): Linear4bit(in_features=4096, out_features=4096, bias=False)\n",
       "              (rotary_emb): LlamaExtendedRotaryEmbedding()\n",
       "            )\n",
       "            (mlp): LlamaMLP(\n",
       "              (gate_proj): Linear4bit(in_features=4096, out_features=14336, bias=False)\n",
       "              (up_proj): Linear4bit(in_features=4096, out_features=14336, bias=False)\n",
       "              (down_proj): Linear4bit(in_features=14336, out_features=4096, bias=False)\n",
       "              (act_fn): SiLU()\n",
       "            )\n",
       "            (input_layernorm): LlamaRMSNorm((4096,), eps=1e-05)\n",
       "            (post_attention_layernorm): LlamaRMSNorm((4096,), eps=1e-05)\n",
       "          )\n",
       "          (16-31): 16 x LlamaDecoderLayer(\n",
       "            (self_attn): LlamaAttention(\n",
       "              (q_proj): lora.Linear4bit(\n",
       "                (base_layer): Linear4bit(in_features=4096, out_features=4096, bias=False)\n",
       "                (lora_dropout): ModuleDict(\n",
       "                  (default): Identity()\n",
       "                )\n",
       "                (lora_A): ModuleDict(\n",
       "                  (default): Linear(in_features=4096, out_features=16, bias=False)\n",
       "                )\n",
       "                (lora_B): ModuleDict(\n",
       "                  (default): Linear(in_features=16, out_features=4096, bias=False)\n",
       "                )\n",
       "                (lora_embedding_A): ParameterDict()\n",
       "                (lora_embedding_B): ParameterDict()\n",
       "                (lora_magnitude_vector): ModuleDict()\n",
       "              )\n",
       "              (k_proj): lora.Linear4bit(\n",
       "                (base_layer): Linear4bit(in_features=4096, out_features=1024, bias=False)\n",
       "                (lora_dropout): ModuleDict(\n",
       "                  (default): Identity()\n",
       "                )\n",
       "                (lora_A): ModuleDict(\n",
       "                  (default): Linear(in_features=4096, out_features=16, bias=False)\n",
       "                )\n",
       "                (lora_B): ModuleDict(\n",
       "                  (default): Linear(in_features=16, out_features=1024, bias=False)\n",
       "                )\n",
       "                (lora_embedding_A): ParameterDict()\n",
       "                (lora_embedding_B): ParameterDict()\n",
       "                (lora_magnitude_vector): ModuleDict()\n",
       "              )\n",
       "              (v_proj): lora.Linear4bit(\n",
       "                (base_layer): Linear4bit(in_features=4096, out_features=1024, bias=False)\n",
       "                (lora_dropout): ModuleDict(\n",
       "                  (default): Identity()\n",
       "                )\n",
       "                (lora_A): ModuleDict(\n",
       "                  (default): Linear(in_features=4096, out_features=16, bias=False)\n",
       "                )\n",
       "                (lora_B): ModuleDict(\n",
       "                  (default): Linear(in_features=16, out_features=1024, bias=False)\n",
       "                )\n",
       "                (lora_embedding_A): ParameterDict()\n",
       "                (lora_embedding_B): ParameterDict()\n",
       "                (lora_magnitude_vector): ModuleDict()\n",
       "              )\n",
       "              (o_proj): Linear4bit(in_features=4096, out_features=4096, bias=False)\n",
       "              (rotary_emb): LlamaExtendedRotaryEmbedding()\n",
       "            )\n",
       "            (mlp): LlamaMLP(\n",
       "              (gate_proj): Linear4bit(in_features=4096, out_features=14336, bias=False)\n",
       "              (up_proj): Linear4bit(in_features=4096, out_features=14336, bias=False)\n",
       "              (down_proj): Linear4bit(in_features=14336, out_features=4096, bias=False)\n",
       "              (act_fn): SiLU()\n",
       "            )\n",
       "            (input_layernorm): LlamaRMSNorm((4096,), eps=1e-05)\n",
       "            (post_attention_layernorm): LlamaRMSNorm((4096,), eps=1e-05)\n",
       "          )\n",
       "        )\n",
       "        (norm): LlamaRMSNorm((4096,), eps=1e-05)\n",
       "        (rotary_emb): LlamaRotaryEmbedding()\n",
       "      )\n",
       "      (lm_head): Linear(in_features=4096, out_features=128256, bias=False)\n",
       "    )\n",
       "  )\n",
       ")"
      ]
     },
     "execution_count": 49,
     "metadata": {},
     "output_type": "execute_result"
    }
   ],
   "source": [
    "model"
   ]
  },
  {
   "cell_type": "code",
   "execution_count": 50,
   "metadata": {
    "execution": {
     "iopub.execute_input": "2024-10-11T01:02:29.837580Z",
     "iopub.status.busy": "2024-10-11T01:02:29.837402Z",
     "iopub.status.idle": "2024-10-11T01:02:29.883666Z",
     "shell.execute_reply": "2024-10-11T01:02:29.882531Z"
    }
   },
   "outputs": [],
   "source": [
    "training_arguments = TrainingArguments(\n",
    "    output_dir=MODEL_OUTPUT_PATH,\n",
    "    learning_rate=LR,\n",
    "    per_device_train_batch_size=TRAIN_BS,\n",
    "    gradient_accumulation_steps=GRAD_ACC_STEP,\n",
    "    eval_accumulation_steps=GRAD_ACC_STEP,\n",
    "    per_device_eval_batch_size=EVAL_BS,\n",
    "    num_train_epochs=EPOCH,\n",
    "    weight_decay=0.01,\n",
    "    eval_strategy=\"steps\",\n",
    "    eval_steps=0.1,\n",
    "    save_strategy=\"steps\",\n",
    "    save_steps=0.1,\n",
    "    save_total_limit=1,\n",
    "    logging_steps=2,\n",
    "    seed=SEED,\n",
    "    metric_for_best_model=\"eval_loss\",\n",
    "    warmup_ratio=0.1,\n",
    "    lr_scheduler_type=\"cosine_with_restarts\",\n",
    "    report_to=REPORT_TO,\n",
    "    run_name=EXP_NAME,\n",
    "    load_best_model_at_end=True,\n",
    "    fp16=True,\n",
    "    fp16_full_eval=True,\n",
    "    gradient_checkpointing=True,\n",
    ")"
   ]
  },
  {
   "cell_type": "code",
   "execution_count": 51,
   "metadata": {
    "autoscroll": "auto",
    "collapsed": false,
    "execution": {
     "iopub.execute_input": "2024-10-11T01:02:29.887438Z",
     "iopub.status.busy": "2024-10-11T01:02:29.887106Z",
     "iopub.status.idle": "2024-10-11T01:02:40.676158Z",
     "shell.execute_reply": "2024-10-11T01:02:40.674646Z"
    }
   },
   "outputs": [
    {
     "name": "stderr",
     "output_type": "stream",
     "text": [
      "Setting TOKENIZERS_PARALLELISM=false for forked processes.\n"
     ]
    },
    {
     "data": {
      "application/vnd.jupyter.widget-view+json": {
       "model_id": "95bdbcd6f30444889dfb67299581c4b0",
       "version_major": 2,
       "version_minor": 0
      },
      "text/plain": [
       "Map (num_proc=16):   0%|          | 0/2910 [00:00<?, ? examples/s]"
      ]
     },
     "metadata": {},
     "output_type": "display_data"
    },
    {
     "name": "stderr",
     "output_type": "stream",
     "text": [
      "Setting TOKENIZERS_PARALLELISM=false for forked processes.\n"
     ]
    },
    {
     "data": {
      "application/vnd.jupyter.widget-view+json": {
       "model_id": "6e4766f683de48dd8b3cbc241ce0c710",
       "version_major": 2,
       "version_minor": 0
      },
      "text/plain": [
       "Map (num_proc=16):   0%|          | 0/1460 [00:00<?, ? examples/s]"
      ]
     },
     "metadata": {},
     "output_type": "display_data"
    }
   ],
   "source": [
    "trainer = SFTTrainer(\n",
    "    model=model,\n",
    "    tokenizer=tokenizer,\n",
    "    train_dataset=train,\n",
    "    eval_dataset=valid,\n",
    "    dataset_text_field=\"text\",\n",
    "    max_seq_length=TRAINING_MAX_LENGTH,\n",
    "    dataset_num_proc=NUM_PROC,\n",
    "    packing=False,  # Can make training 5x faster for short sequences.\n",
    "    args=training_arguments,\n",
    ")"
   ]
  },
  {
   "cell_type": "code",
   "execution_count": 52,
   "metadata": {
    "autoscroll": "auto",
    "collapsed": false,
    "execution": {
     "iopub.execute_input": "2024-10-11T01:02:40.681544Z",
     "iopub.status.busy": "2024-10-11T01:02:40.681168Z",
     "iopub.status.idle": "2024-10-11T01:02:40.691163Z",
     "shell.execute_reply": "2024-10-11T01:02:40.689944Z"
    }
   },
   "outputs": [
    {
     "name": "stdout",
     "output_type": "stream",
     "text": [
      "GPU = Tesla V100-PCIE-16GB. Max memory = 15.773 GB.\n",
      "12.033 GB of memory reserved.\n"
     ]
    }
   ],
   "source": [
    "# @title Show current memory stats\n",
    "gpu_stats = torch.cuda.get_device_properties(0)\n",
    "start_gpu_memory = round(torch.cuda.max_memory_reserved() / 1024 / 1024 / 1024, 3)\n",
    "max_memory = round(gpu_stats.total_memory / 1024 / 1024 / 1024, 3)\n",
    "print(f\"GPU = {gpu_stats.name}. Max memory = {max_memory} GB.\")\n",
    "print(f\"{start_gpu_memory} GB of memory reserved.\")"
   ]
  },
  {
   "cell_type": "code",
   "execution_count": 53,
   "metadata": {
    "autoscroll": "auto",
    "collapsed": false,
    "execution": {
     "iopub.execute_input": "2024-10-11T01:02:40.695543Z",
     "iopub.status.busy": "2024-10-11T01:02:40.695199Z",
     "iopub.status.idle": "2024-10-11T01:02:40.702015Z",
     "shell.execute_reply": "2024-10-11T01:02:40.700892Z"
    }
   },
   "outputs": [
    {
     "data": {
      "text/plain": [
       "'../../output/causal/e014-causal/trained_model'"
      ]
     },
     "execution_count": 53,
     "metadata": {},
     "output_type": "execute_result"
    }
   ],
   "source": [
    "MODEL_OUTPUT_PATH"
   ]
  },
  {
   "cell_type": "code",
   "execution_count": 54,
   "metadata": {
    "autoscroll": "auto",
    "collapsed": false,
    "execution": {
     "iopub.execute_input": "2024-10-11T01:02:40.706261Z",
     "iopub.status.busy": "2024-10-11T01:02:40.705586Z",
     "iopub.status.idle": "2024-10-11T04:03:40.065840Z",
     "shell.execute_reply": "2024-10-11T04:03:40.064679Z"
    }
   },
   "outputs": [
    {
     "name": "stderr",
     "output_type": "stream",
     "text": [
      "==((====))==  Unsloth - 2x faster free finetuning | Num GPUs = 1\n",
      "   \\\\   /|    Num examples = 2,910 | Num Epochs = 1\n",
      "O^O/ \\_/ \\    Batch size per device = 1 | Gradient Accumulation steps = 128\n",
      "\\        /    Total batch size = 128 | Total steps = 22\n",
      " \"-____-\"     Number of trainable parameters = 4,718,592\n"
     ]
    },
    {
     "data": {
      "text/html": [
       "\n",
       "    <div>\n",
       "      \n",
       "      <progress value='22' max='22' style='width:300px; height:20px; vertical-align: middle;'></progress>\n",
       "      [22/22 1:01:44, Epoch 0/1]\n",
       "    </div>\n",
       "    <table border=\"1\" class=\"dataframe\">\n",
       "  <thead>\n",
       " <tr style=\"text-align: left;\">\n",
       "      <th>Step</th>\n",
       "      <th>Training Loss</th>\n",
       "      <th>Validation Loss</th>\n",
       "    </tr>\n",
       "  </thead>\n",
       "  <tbody>\n",
       "    <tr>\n",
       "      <td>3</td>\n",
       "      <td>2.876300</td>\n",
       "      <td>2.822519</td>\n",
       "    </tr>\n",
       "    <tr>\n",
       "      <td>6</td>\n",
       "      <td>2.742800</td>\n",
       "      <td>2.622105</td>\n",
       "    </tr>\n",
       "    <tr>\n",
       "      <td>9</td>\n",
       "      <td>2.610700</td>\n",
       "      <td>2.424539</td>\n",
       "    </tr>\n",
       "    <tr>\n",
       "      <td>12</td>\n",
       "      <td>2.312700</td>\n",
       "      <td>2.201251</td>\n",
       "    </tr>\n",
       "    <tr>\n",
       "      <td>15</td>\n",
       "      <td>2.211700</td>\n",
       "      <td>2.025804</td>\n",
       "    </tr>\n",
       "    <tr>\n",
       "      <td>18</td>\n",
       "      <td>1.971900</td>\n",
       "      <td>1.933351</td>\n",
       "    </tr>\n",
       "    <tr>\n",
       "      <td>21</td>\n",
       "      <td>1.949100</td>\n",
       "      <td>1.906180</td>\n",
       "    </tr>\n",
       "  </tbody>\n",
       "</table><p>"
      ],
      "text/plain": [
       "<IPython.core.display.HTML object>"
      ]
     },
     "metadata": {},
     "output_type": "display_data"
    }
   ],
   "source": [
    "if TRAINING:\n",
    "    trainer_stats = trainer.train()\n",
    "else:\n",
    "    model, tokenizer = FastLanguageModel.from_pretrained(\n",
    "        model_name=MODEL_OUTPUT_PATH + \"/lora_model\",\n",
    "        max_seq_length=TRAINING_MAX_LENGTH,\n",
    "        dtype=None,  # None for auto detection. Float16 for Tesla T4, V100, Bfloat16 for Ampere+\n",
    "        # load_in_4bit=True,  # Use 4bit quantization to reduce memory usage. Can be False.\n",
    "    )"
   ]
  },
  {
   "cell_type": "markdown",
   "metadata": {},
   "source": [
    "# Predict Valid"
   ]
  },
  {
   "cell_type": "code",
   "execution_count": 55,
   "metadata": {
    "autoscroll": "auto",
    "collapsed": false,
    "execution": {
     "iopub.execute_input": "2024-10-11T04:03:40.070402Z",
     "iopub.status.busy": "2024-10-11T04:03:40.070211Z",
     "iopub.status.idle": "2024-10-11T04:03:40.297862Z",
     "shell.execute_reply": "2024-10-11T04:03:40.296825Z"
    }
   },
   "outputs": [
    {
     "name": "stdout",
     "output_type": "stream",
     "text": [
      "Below is an instruction that describes a task, paired with an input that provides further context. Write a response that appropriately completes the request.\n",
      "\n",
      "### Instruction:\n",
      "Identify the misconception behind Incorrect Answer.\n",
      "\n",
      "### Input:\n",
      "Question: \\[\n",
      "3 \\times 2+4-5\n",
      "\\]\n",
      "Where do the brackets need to go to make the answer equal \\( 13 \\)?\n",
      "Incorrect Answer: Does not need brackets\n",
      "Correct Answer: \\( 3 \\times(2+4)-5 \\)\n",
      "Construct Name: Use the order of operations to carry out calculations involving powers\n",
      "Subject Name: BIDMAS\n",
      "\n",
      "### Response:\n",
      "assistant\n",
      "\n",
      "The misconception behind Incorrect Answer is that it does not need brackets, implying that the order of operations should be followed without any modifications. However, the correct answer, \\( 3 \\times(2+4)-5 \\), indicates that the order of operations is indeed followed, but with the use of\n",
      "\n",
      "### Answer Misconception Name:\n",
      "Confuses the order of operations, believes addition comes before multiplication \n"
     ]
    }
   ],
   "source": [
    "predict(valid_for_predict, 0, model)"
   ]
  },
  {
   "cell_type": "code",
   "execution_count": 56,
   "metadata": {
    "execution": {
     "iopub.execute_input": "2024-10-11T04:03:40.301524Z",
     "iopub.status.busy": "2024-10-11T04:03:40.301343Z",
     "iopub.status.idle": "2024-10-11T04:03:40.524566Z",
     "shell.execute_reply": "2024-10-11T04:03:40.523552Z"
    }
   },
   "outputs": [
    {
     "name": "stdout",
     "output_type": "stream",
     "text": [
      "Below is an instruction that describes a task, paired with an input that provides further context. Write a response that appropriately completes the request.\n",
      "\n",
      "### Instruction:\n",
      "Identify the misconception behind Incorrect Answer.\n",
      "\n",
      "### Input:\n",
      "Question: Convert \\( \\frac{3}{20} \\) into a decimal\n",
      "Incorrect Answer: \\( 0.3 \\)\n",
      "Correct Answer: \\( 0.15 \\)\n",
      "Construct Name: Convert fractions less than 1 to terminating decimals of 2 decimal places\n",
      "Subject Name: Converting between Fractions and Decimals\n",
      "\n",
      "### Response:\n",
      "assistant\n",
      "\n",
      "Construct Name: Convert fractions less than 1 to terminating decimals of 2 decimal places\n",
      "Subject Name: Converting between Fractions and Decimals\n",
      "Construct Name: Convert fractions less than 1 to terminating decimals of 2 decimal places\n",
      "Subject Name: Converting between Fractions and Decimals\n",
      "\n",
      "### Answer Misconception Name:\n",
      "Converts a fraction to a decimal by using only the numerator after the decimal point\n"
     ]
    }
   ],
   "source": [
    "predict(valid_for_predict, 1, model)"
   ]
  },
  {
   "cell_type": "code",
   "execution_count": 57,
   "metadata": {
    "execution": {
     "iopub.execute_input": "2024-10-11T04:03:40.528230Z",
     "iopub.status.busy": "2024-10-11T04:03:40.528050Z",
     "iopub.status.idle": "2024-10-11T04:03:40.751343Z",
     "shell.execute_reply": "2024-10-11T04:03:40.750300Z"
    }
   },
   "outputs": [
    {
     "name": "stdout",
     "output_type": "stream",
     "text": [
      "Below is an instruction that describes a task, paired with an input that provides further context. Write a response that appropriately completes the request.\n",
      "\n",
      "### Instruction:\n",
      "Identify the misconception behind Incorrect Answer.\n",
      "\n",
      "### Input:\n",
      "Question: Convert \\( \\frac{3}{20} \\) into a decimal\n",
      "Incorrect Answer: \\( 3.20 \\)\n",
      "Correct Answer: \\( 0.15 \\)\n",
      "Construct Name: Convert fractions less than 1 to terminating decimals of 2 decimal places\n",
      "Subject Name: Converting between Fractions and Decimals\n",
      "\n",
      "### Response:\n",
      "assistant\n",
      "\n",
      "The misconception behind Incorrect Answer \\( 3.20 \\) is that it fails to understand that fractions less than 1 should be converted to terminating decimals with 2 decimal places. The correct answer, \\( 0.15 \\), is a terminating decimal with 2 decimal places, but the incorrect\n",
      "\n",
      "### Answer Misconception Name:\n",
      "Converts a fraction to a decimal by placing a decimal point between the numerator and denominator\n"
     ]
    }
   ],
   "source": [
    "predict(valid_for_predict, 2, model)"
   ]
  },
  {
   "cell_type": "markdown",
   "metadata": {},
   "source": [
    "# Save"
   ]
  },
  {
   "cell_type": "code",
   "execution_count": 58,
   "metadata": {
    "autoscroll": "auto",
    "collapsed": false,
    "execution": {
     "iopub.execute_input": "2024-10-11T04:03:40.755214Z",
     "iopub.status.busy": "2024-10-11T04:03:40.754895Z",
     "iopub.status.idle": "2024-10-11T04:03:41.253007Z",
     "shell.execute_reply": "2024-10-11T04:03:41.251941Z"
    }
   },
   "outputs": [
    {
     "data": {
      "text/plain": [
       "('../../output/causal/e014-causal/trained_model/lora_model/tokenizer_config.json',\n",
       " '../../output/causal/e014-causal/trained_model/lora_model/special_tokens_map.json',\n",
       " '../../output/causal/e014-causal/trained_model/lora_model/tokenizer.json')"
      ]
     },
     "execution_count": 58,
     "metadata": {},
     "output_type": "execute_result"
    }
   ],
   "source": [
    "model.save_pretrained(f\"{MODEL_OUTPUT_PATH}/lora_model\")  # Local saving\n",
    "tokenizer.save_pretrained(f\"{MODEL_OUTPUT_PATH}/lora_model\")"
   ]
  },
  {
   "cell_type": "markdown",
   "metadata": {
    "id": "Bt4jBGyxisG7"
   },
   "source": [
    "# AWSへのアップロード"
   ]
  },
  {
   "cell_type": "code",
   "execution_count": 59,
   "metadata": {
    "colab": {
     "base_uri": "https://localhost:8080/"
    },
    "execution": {
     "iopub.execute_input": "2024-10-11T04:03:41.256813Z",
     "iopub.status.busy": "2024-10-11T04:03:41.256619Z",
     "iopub.status.idle": "2024-10-11T04:04:03.362879Z",
     "shell.execute_reply": "2024-10-11T04:04:03.361640Z"
    },
    "id": "lupk0lEqisG7",
    "outputId": "c9a3fd96-b5c2-4c0c-8fe6-974459216930",
    "tags": []
   },
   "outputs": [
    {
     "name": "stdout",
     "output_type": "stream",
     "text": [
      "rm: cannot remove '/usr/bin/aws': No such file or directory\n",
      "rm: cannot remove '/usr/bin/aws_completer': No such file or directory\n",
      "  % Total    % Received % Xferd  Average Speed   Time    Time     Time  Current\n",
      "                                 Dload  Upload   Total   Spent    Left  Speed\n",
      "100 63.0M  100 63.0M    0     0  64.8M      0 --:--:-- --:--:-- --:--:-- 64.7M\n",
      "You can now run: /usr/local/bin/aws --version\n",
      "upload: ../../output/causal/e014-causal/trained_model/checkpoint-21/README.md to s3://eedi-mining-misconceptions-in-mathematics/trained_model/trained_model/checkpoint-21/README.md\n",
      "upload: ../../output/causal/e014-causal/trained_model/checkpoint-21/scheduler.pt to s3://eedi-mining-misconceptions-in-mathematics/trained_model/trained_model/checkpoint-21/scheduler.pt\n",
      "upload: ../../output/causal/e014-causal/trained_model/checkpoint-21/special_tokens_map.json to s3://eedi-mining-misconceptions-in-mathematics/trained_model/trained_model/checkpoint-21/special_tokens_map.json\n",
      "upload: ../../output/causal/e014-causal/trained_model/checkpoint-21/adapter_config.json to s3://eedi-mining-misconceptions-in-mathematics/trained_model/trained_model/checkpoint-21/adapter_config.json\n",
      "upload: ../../output/causal/e014-causal/trained_model/checkpoint-21/rng_state.pth to s3://eedi-mining-misconceptions-in-mathematics/trained_model/trained_model/checkpoint-21/rng_state.pth\n",
      "upload: ../../output/causal/e014-causal/trained_model/checkpoint-21/trainer_state.json to s3://eedi-mining-misconceptions-in-mathematics/trained_model/trained_model/checkpoint-21/trainer_state.json\n",
      "upload: ../../output/causal/e014-causal/trained_model/checkpoint-21/tokenizer_config.json to s3://eedi-mining-misconceptions-in-mathematics/trained_model/trained_model/checkpoint-21/tokenizer_config.json\n",
      "upload: ../../output/causal/e014-causal/trained_model/checkpoint-21/training_args.bin to s3://eedi-mining-misconceptions-in-mathematics/trained_model/trained_model/checkpoint-21/training_args.bin\n",
      "upload: ../../output/causal/e014-causal/trained_model/dataset-metadata.json to s3://eedi-mining-misconceptions-in-mathematics/trained_model/trained_model/dataset-metadata.json\n",
      "upload: ../../output/causal/e014-causal/trained_model/checkpoint-21/tokenizer.json to s3://eedi-mining-misconceptions-in-mathematics/trained_model/trained_model/checkpoint-21/tokenizer.json\n",
      "upload: ../../output/causal/e014-causal/trained_model/lora_model/README.md to s3://eedi-mining-misconceptions-in-mathematics/trained_model/trained_model/lora_model/README.md\n",
      "upload: ../../output/causal/e014-causal/trained_model/lora_model/adapter_config.json to s3://eedi-mining-misconceptions-in-mathematics/trained_model/trained_model/lora_model/adapter_config.json\n",
      "upload: ../../output/causal/e014-causal/trained_model/checkpoint-21/adapter_model.safetensors to s3://eedi-mining-misconceptions-in-mathematics/trained_model/trained_model/checkpoint-21/adapter_model.safetensors\n",
      "upload: ../../output/causal/e014-causal/trained_model/lora_model/special_tokens_map.json to s3://eedi-mining-misconceptions-in-mathematics/trained_model/trained_model/lora_model/special_tokens_map.json\n",
      "upload: ../../output/causal/e014-causal/trained_model/lora_model/tokenizer_config.json to s3://eedi-mining-misconceptions-in-mathematics/trained_model/trained_model/lora_model/tokenizer_config.json\n",
      "upload: ../../output/causal/e014-causal/trained_model/checkpoint-21/optimizer.pt to s3://eedi-mining-misconceptions-in-mathematics/trained_model/trained_model/checkpoint-21/optimizer.pt\n",
      "upload: ../../output/causal/e014-causal/trained_model/lora_model/adapter_model.safetensors to s3://eedi-mining-misconceptions-in-mathematics/trained_model/trained_model/lora_model/adapter_model.safetensors\n",
      "upload: ../../output/causal/e014-causal/trained_model/lora_model/tokenizer.json to s3://eedi-mining-misconceptions-in-mathematics/trained_model/trained_model/lora_model/tokenizer.json\n"
     ]
    }
   ],
   "source": [
    "# S3へのアップロード\n",
    "if not DEBUG and UPLOAD_DATA_TO_S3:\n",
    "    # uninstall\n",
    "    !sudo rm /usr/bin/aws\n",
    "    !sudo rm /usr/bin/aws_completer\n",
    "    !sudo rm -rf /usr/local/aws-cli\n",
    "\n",
    "    # install\n",
    "    !curl \"https://awscli.amazonaws.com/awscli-exe-linux-x86_64.zip\" -o \"awscliv2.zip\"\n",
    "    !unzip -o -qq awscliv2.zip\n",
    "    !sudo ./aws/install --update\n",
    "\n",
    "    # upload\n",
    "    output_name = MODEL_OUTPUT_PATH.split(\"/\")[-1]\n",
    "    os.system(\n",
    "        f\"aws s3 cp --recursive {MODEL_OUTPUT_PATH} s3://{COMPETITION_NAME}/trained_model/{output_name}\"\n",
    "    )"
   ]
  },
  {
   "cell_type": "code",
   "execution_count": 60,
   "metadata": {
    "execution": {
     "iopub.execute_input": "2024-10-11T04:04:03.366930Z",
     "iopub.status.busy": "2024-10-11T04:04:03.366734Z",
     "iopub.status.idle": "2024-10-11T04:04:03.371218Z",
     "shell.execute_reply": "2024-10-11T04:04:03.370467Z"
    },
    "id": "oA3GNoNAisG7"
   },
   "outputs": [],
   "source": [
    "# ダウンロード（参考）\n",
    "# !sudo rm /usr/bin/aws\n",
    "# !sudo rm /usr/bin/aws_completer\n",
    "# !sudo rm -rf /usr/local/aws-cli\n",
    "\n",
    "# !curl \"https://awscli.amazonaws.com/awscli-exe-linux-x86_64.zip\" -o \"awscliv2.zip\"\n",
    "# !unzip -o -qq awscliv2.zip\n",
    "# !sudo ./aws/install --update\n",
    "\n",
    "# !aws s3 cp --recursive s3://automated-essay-scoring/trained_model/e005-regression /notebooks/automated_essay_scoring/trained_models/e005-regression"
   ]
  },
  {
   "cell_type": "markdown",
   "metadata": {
    "id": "7XyyX1JqisG7"
   },
   "source": [
    "# Kaggle Datasetへのupload"
   ]
  },
  {
   "cell_type": "code",
   "execution_count": 61,
   "metadata": {
    "autoscroll": "auto",
    "colab": {
     "base_uri": "https://localhost:8080/"
    },
    "collapsed": false,
    "execution": {
     "iopub.execute_input": "2024-10-11T04:04:03.374726Z",
     "iopub.status.busy": "2024-10-11T04:04:03.374562Z",
     "iopub.status.idle": "2024-10-11T04:04:03.388072Z",
     "shell.execute_reply": "2024-10-11T04:04:03.387332Z"
    },
    "id": "2yljmioJisG7",
    "outputId": "5eb1319b-0b11-4317-f01b-cf227b3232c2",
    "tags": []
   },
   "outputs": [
    {
     "data": {
      "text/plain": [
       "0"
      ]
     },
     "execution_count": 61,
     "metadata": {},
     "output_type": "execute_result"
    }
   ],
   "source": [
    "import os\n",
    "\n",
    "os.system(\"mkdir -p ~/.kaggle/\")\n",
    "os.system(f\"cp {ENV_PATH}/kaggle.json ~/.kaggle/\")\n",
    "os.system(\"chmod 600 ~/.kaggle/kaggle.json\")"
   ]
  },
  {
   "cell_type": "code",
   "execution_count": 62,
   "metadata": {
    "autoscroll": "auto",
    "colab": {
     "base_uri": "https://localhost:8080/"
    },
    "collapsed": false,
    "execution": {
     "iopub.execute_input": "2024-10-11T04:04:03.391697Z",
     "iopub.status.busy": "2024-10-11T04:04:03.391385Z",
     "iopub.status.idle": "2024-10-11T04:04:11.894946Z",
     "shell.execute_reply": "2024-10-11T04:04:11.893269Z"
    },
    "id": "EBXdM74XisG7",
    "jupyter": {
     "outputs_hidden": false
    },
    "outputId": "290aef28-6839-4562-bca9-53f774396d12",
    "tags": []
   },
   "outputs": [
    {
     "name": "stdout",
     "output_type": "stream",
     "text": [
      "Create Dataset name:e014-causal-Meta-Llama-3-1-8B-Instruct-bnb-4bit, output_dir:../../output/causal/e014-causal/trained_model\n",
      "Starting upload for file lora_model.tar\n"
     ]
    },
    {
     "name": "stderr",
     "output_type": "stream",
     "text": [
      "100%|██████████| 26.8M/26.8M [00:02<00:00, 12.6MB/s]\n"
     ]
    },
    {
     "name": "stdout",
     "output_type": "stream",
     "text": [
      "Upload successful: lora_model.tar (27MB)\n",
      "Starting upload for file checkpoint-21.tar\n"
     ]
    },
    {
     "name": "stderr",
     "output_type": "stream",
     "text": [
      "100%|██████████| 62.9M/62.9M [00:02<00:00, 22.2MB/s]\n"
     ]
    },
    {
     "name": "stdout",
     "output_type": "stream",
     "text": [
      "Upload successful: checkpoint-21.tar (63MB)\n"
     ]
    }
   ],
   "source": [
    "if not DEBUG and UPLOAD_DATA_TO_KAGGLE:\n",
    "    import os\n",
    "    import json\n",
    "\n",
    "    from kaggle.api.kaggle_api_extended import KaggleApi\n",
    "\n",
    "    def dataset_create_new(dataset_name: str, upload_dir: str):\n",
    "        dataset_metadata = {}\n",
    "        dataset_metadata[\"id\"] = f\"sinchir0/{dataset_name}\"\n",
    "        dataset_metadata[\"licenses\"] = [{\"name\": \"CC0-1.0\"}]\n",
    "        dataset_metadata[\"title\"] = dataset_name\n",
    "        with open(os.path.join(upload_dir, \"dataset-metadata.json\"), \"w\") as f:\n",
    "            json.dump(dataset_metadata, f, indent=4)\n",
    "        api = KaggleApi()\n",
    "        api.authenticate()\n",
    "        api.dataset_create_new(folder=upload_dir, convert_to_csv=False, dir_mode=\"tar\")\n",
    "\n",
    "    print(f\"Create Dataset name:{DATASET_NAME}, output_dir:{MODEL_OUTPUT_PATH}\")\n",
    "    dataset_create_new(dataset_name=DATASET_NAME, upload_dir=MODEL_OUTPUT_PATH)"
   ]
  },
  {
   "cell_type": "markdown",
   "metadata": {
    "id": "D6KFg2LNisG8"
   },
   "source": [
    "# ローカルからのデータの削除"
   ]
  },
  {
   "cell_type": "code",
   "execution_count": 63,
   "metadata": {
    "execution": {
     "iopub.execute_input": "2024-10-11T04:04:11.900324Z",
     "iopub.status.busy": "2024-10-11T04:04:11.899521Z",
     "iopub.status.idle": "2024-10-11T04:04:11.905578Z",
     "shell.execute_reply": "2024-10-11T04:04:11.904216Z"
    },
    "id": "tFhHkzi3isG8",
    "tags": []
   },
   "outputs": [],
   "source": [
    "# if not DEBUG and REMOVE_LOCAL_FILE:\n",
    "#     # ローカルからは削除\n",
    "#     os.system(f\"rm -rf {MODEL_OUTPUT_PATH}\")"
   ]
  },
  {
   "cell_type": "code",
   "execution_count": 64,
   "metadata": {
    "autoscroll": "auto",
    "colab": {
     "base_uri": "https://localhost:8080/",
     "height": 1000,
     "referenced_widgets": [
      "ae1f8a8d15114a55a81d98bbc4563ffa",
      "24846464fd9949488c69b7c8262b8176",
      "a6025d29e90449f49116bb74afc3b591",
      "fc246d5347ee4fc782a9f42e1fb38ffe",
      "e0a0206188b34cb0bbbb62921d4edfb4",
      "b3b2143d95a04a8ab99d72d3ede6012a",
      "13c10dcfeeef4c1a882f260bf1628be2",
      "83014dfe9f554182ab1933951c39f693"
     ]
    },
    "collapsed": false,
    "execution": {
     "iopub.execute_input": "2024-10-11T04:04:11.909660Z",
     "iopub.status.busy": "2024-10-11T04:04:11.909316Z",
     "iopub.status.idle": "2024-10-11T04:04:14.677772Z",
     "shell.execute_reply": "2024-10-11T04:04:14.676439Z"
    },
    "id": "bL2CHIBOisG8",
    "outputId": "5b5cbe19-9070-4319-8867-637c31771b00",
    "tags": []
   },
   "outputs": [
    {
     "data": {
      "application/vnd.jupyter.widget-view+json": {
       "model_id": "bd2422e7a8c64692a8ccbca41e538b9e",
       "version_major": 2,
       "version_minor": 0
      },
      "text/plain": [
       "VBox(children=(Label(value='0.028 MB of 0.028 MB uploaded\\r'), FloatProgress(value=1.0, max=1.0)))"
      ]
     },
     "metadata": {},
     "output_type": "display_data"
    },
    {
     "data": {
      "text/html": [
       "<style>\n",
       "    table.wandb td:nth-child(1) { padding: 0 10px; text-align: left ; width: auto;} td:nth-child(2) {text-align: left ; width: 100%}\n",
       "    .wandb-row { display: flex; flex-direction: row; flex-wrap: wrap; justify-content: flex-start; width: 100% }\n",
       "    .wandb-col { display: flex; flex-direction: column; flex-basis: 100%; flex: 1; padding: 10px; }\n",
       "    </style>\n",
       "<div class=\"wandb-row\"><div class=\"wandb-col\"><h3>Run history:</h3><br/><table class=\"wandb\"><tr><td>eval/loss</td><td>█▆▅▃▂▁▁</td></tr><tr><td>eval/runtime</td><td>▇█▁█▅▄▇</td></tr><tr><td>eval/samples_per_second</td><td>▂▁█▁▅▅▁</td></tr><tr><td>eval/steps_per_second</td><td>▂▁█▁▅▅▁</td></tr><tr><td>train/epoch</td><td>▁▁▂▂▂▃▃▄▅▅▅▆▆▇▇▇███</td></tr><tr><td>train/global_step</td><td>▁▁▂▂▂▃▃▄▅▅▅▆▆▇▇▇███</td></tr><tr><td>train/grad_norm</td><td>▁▂▂▂▇██▇▇▇▇</td></tr><tr><td>train/learning_rate</td><td>▆██▇▆▅▄▃▂▁▁</td></tr><tr><td>train/loss</td><td>██▇▆▅▄▃▂▁▁▁</td></tr></table><br/></div><div class=\"wandb-col\"><h3>Run summary:</h3><br/><table class=\"wandb\"><tr><td>eval/loss</td><td>1.90618</td></tr><tr><td>eval/runtime</td><td>320.9375</td></tr><tr><td>eval/samples_per_second</td><td>4.549</td></tr><tr><td>eval/steps_per_second</td><td>4.549</td></tr><tr><td>total_flos</td><td>1.977805734867763e+16</td></tr><tr><td>train/epoch</td><td>0.9677</td></tr><tr><td>train/global_step</td><td>22</td></tr><tr><td>train/grad_norm</td><td>1.06818</td></tr><tr><td>train/learning_rate</td><td>0</td></tr><tr><td>train/loss</td><td>1.9094</td></tr><tr><td>train_loss</td><td>2.36413</td></tr><tr><td>train_runtime</td><td>3773.725</td></tr><tr><td>train_samples_per_second</td><td>0.771</td></tr><tr><td>train_steps_per_second</td><td>0.006</td></tr></table><br/></div></div>"
      ],
      "text/plain": [
       "<IPython.core.display.HTML object>"
      ]
     },
     "metadata": {},
     "output_type": "display_data"
    },
    {
     "data": {
      "text/html": [
       " View run <strong style=\"color:#cdcd00\">e014-causal</strong> at: <a href='https://wandb.ai/sinchir0/eedi-mining-misconceptions-in-mathematics/runs/rvy54tgs' target=\"_blank\">https://wandb.ai/sinchir0/eedi-mining-misconceptions-in-mathematics/runs/rvy54tgs</a><br/> View project at: <a href='https://wandb.ai/sinchir0/eedi-mining-misconceptions-in-mathematics' target=\"_blank\">https://wandb.ai/sinchir0/eedi-mining-misconceptions-in-mathematics</a><br/>Synced 5 W&B file(s), 0 media file(s), 0 artifact file(s) and 0 other file(s)"
      ],
      "text/plain": [
       "<IPython.core.display.HTML object>"
      ]
     },
     "metadata": {},
     "output_type": "display_data"
    },
    {
     "data": {
      "text/html": [
       "Find logs at: <code>./wandb/run-20241012_052057-rvy54tgs/logs</code>"
      ],
      "text/plain": [
       "<IPython.core.display.HTML object>"
      ]
     },
     "metadata": {},
     "output_type": "display_data"
    }
   ],
   "source": [
    "if WANDB:\n",
    "    wandb.finish()"
   ]
  },
  {
   "cell_type": "code",
   "execution_count": 65,
   "metadata": {
    "autoscroll": "auto",
    "colab": {
     "base_uri": "https://localhost:8080/"
    },
    "collapsed": false,
    "execution": {
     "iopub.execute_input": "2024-10-11T04:04:14.682810Z",
     "iopub.status.busy": "2024-10-11T04:04:14.682445Z",
     "iopub.status.idle": "2024-10-11T04:04:14.688417Z",
     "shell.execute_reply": "2024-10-11T04:04:14.687392Z"
    },
    "id": "ohN9BBugisG8",
    "outputId": "28bd693d-d1fe-4c50-d81b-3412267d48a4",
    "tags": []
   },
   "outputs": [
    {
     "name": "stdout",
     "output_type": "stream",
     "text": [
      "finish Notebook!\n"
     ]
    }
   ],
   "source": [
    "print(\"finish Notebook!\")"
   ]
  },
  {
   "cell_type": "code",
   "execution_count": null,
   "metadata": {
    "id": "mH-uPM5EuoqS"
   },
   "outputs": [],
   "source": []
  }
 ],
 "metadata": {
  "accelerator": "GPU",
  "colab": {
   "gpuType": "A100",
   "include_colab_link": true,
   "machine_shape": "hm",
   "provenance": []
  },
  "kernelspec": {
   "display_name": "base",
   "language": "python",
   "name": "python3"
  },
  "language_info": {
   "codemirror_mode": {
    "name": "ipython",
    "version": 3
   },
   "file_extension": ".py",
   "mimetype": "text/x-python",
   "name": "python",
   "nbconvert_exporter": "python",
   "pygments_lexer": "ipython3",
   "version": "3.10.14"
  },
  "widgets": {
   "application/vnd.jupyter.widget-state+json": {
    "state": {
     "017b5f778e3b47e6b19ecc7b5248fe0f": {
      "model_module": "@jupyter-widgets/controls",
      "model_module_version": "2.0.0",
      "model_name": "HTMLModel",
      "state": {
       "_dom_classes": [],
       "_model_module": "@jupyter-widgets/controls",
       "_model_module_version": "2.0.0",
       "_model_name": "HTMLModel",
       "_view_count": null,
       "_view_module": "@jupyter-widgets/controls",
       "_view_module_version": "2.0.0",
       "_view_name": "HTMLView",
       "description": "",
       "description_allow_html": false,
       "layout": "IPY_MODEL_13c6c519c8534cecbbdd0906becc0358",
       "placeholder": "​",
       "style": "IPY_MODEL_d55143ee999440f6bc89e245ccda82d5",
       "tabbable": null,
       "tooltip": null,
       "value": "Map: 100%"
      }
     },
     "05440e87210540d1ba9cfe9ecbd157b0": {
      "model_module": "@jupyter-widgets/controls",
      "model_module_version": "2.0.0",
      "model_name": "HTMLStyleModel",
      "state": {
       "_model_module": "@jupyter-widgets/controls",
       "_model_module_version": "2.0.0",
       "_model_name": "HTMLStyleModel",
       "_view_count": null,
       "_view_module": "@jupyter-widgets/base",
       "_view_module_version": "2.0.0",
       "_view_name": "StyleView",
       "background": null,
       "description_width": "",
       "font_size": null,
       "text_color": null
      }
     },
     "0ca02b924ea64ae68180176b0e0f0acd": {
      "model_module": "@jupyter-widgets/controls",
      "model_module_version": "2.0.0",
      "model_name": "HTMLStyleModel",
      "state": {
       "_model_module": "@jupyter-widgets/controls",
       "_model_module_version": "2.0.0",
       "_model_name": "HTMLStyleModel",
       "_view_count": null,
       "_view_module": "@jupyter-widgets/base",
       "_view_module_version": "2.0.0",
       "_view_name": "StyleView",
       "background": null,
       "description_width": "",
       "font_size": null,
       "text_color": null
      }
     },
     "0f45854db5fd425b98bcf006731204bb": {
      "model_module": "@jupyter-widgets/controls",
      "model_module_version": "2.0.0",
      "model_name": "ProgressStyleModel",
      "state": {
       "_model_module": "@jupyter-widgets/controls",
       "_model_module_version": "2.0.0",
       "_model_name": "ProgressStyleModel",
       "_view_count": null,
       "_view_module": "@jupyter-widgets/base",
       "_view_module_version": "2.0.0",
       "_view_name": "StyleView",
       "bar_color": null,
       "description_width": ""
      }
     },
     "0fcd87c4b9ee4c338e6a2d1e95f70a23": {
      "model_module": "@jupyter-widgets/base",
      "model_module_version": "2.0.0",
      "model_name": "LayoutModel",
      "state": {
       "_model_module": "@jupyter-widgets/base",
       "_model_module_version": "2.0.0",
       "_model_name": "LayoutModel",
       "_view_count": null,
       "_view_module": "@jupyter-widgets/base",
       "_view_module_version": "2.0.0",
       "_view_name": "LayoutView",
       "align_content": null,
       "align_items": null,
       "align_self": null,
       "border_bottom": null,
       "border_left": null,
       "border_right": null,
       "border_top": null,
       "bottom": null,
       "display": null,
       "flex": null,
       "flex_flow": null,
       "grid_area": null,
       "grid_auto_columns": null,
       "grid_auto_flow": null,
       "grid_auto_rows": null,
       "grid_column": null,
       "grid_gap": null,
       "grid_row": null,
       "grid_template_areas": null,
       "grid_template_columns": null,
       "grid_template_rows": null,
       "height": null,
       "justify_content": null,
       "justify_items": null,
       "left": null,
       "margin": null,
       "max_height": null,
       "max_width": null,
       "min_height": null,
       "min_width": null,
       "object_fit": null,
       "object_position": null,
       "order": null,
       "overflow": null,
       "padding": null,
       "right": null,
       "top": null,
       "visibility": null,
       "width": null
      }
     },
     "13c6c519c8534cecbbdd0906becc0358": {
      "model_module": "@jupyter-widgets/base",
      "model_module_version": "2.0.0",
      "model_name": "LayoutModel",
      "state": {
       "_model_module": "@jupyter-widgets/base",
       "_model_module_version": "2.0.0",
       "_model_name": "LayoutModel",
       "_view_count": null,
       "_view_module": "@jupyter-widgets/base",
       "_view_module_version": "2.0.0",
       "_view_name": "LayoutView",
       "align_content": null,
       "align_items": null,
       "align_self": null,
       "border_bottom": null,
       "border_left": null,
       "border_right": null,
       "border_top": null,
       "bottom": null,
       "display": null,
       "flex": null,
       "flex_flow": null,
       "grid_area": null,
       "grid_auto_columns": null,
       "grid_auto_flow": null,
       "grid_auto_rows": null,
       "grid_column": null,
       "grid_gap": null,
       "grid_row": null,
       "grid_template_areas": null,
       "grid_template_columns": null,
       "grid_template_rows": null,
       "height": null,
       "justify_content": null,
       "justify_items": null,
       "left": null,
       "margin": null,
       "max_height": null,
       "max_width": null,
       "min_height": null,
       "min_width": null,
       "object_fit": null,
       "object_position": null,
       "order": null,
       "overflow": null,
       "padding": null,
       "right": null,
       "top": null,
       "visibility": null,
       "width": null
      }
     },
     "1489647906c64244ac17d2978fce9b82": {
      "model_module": "@jupyter-widgets/controls",
      "model_module_version": "2.0.0",
      "model_name": "HTMLStyleModel",
      "state": {
       "_model_module": "@jupyter-widgets/controls",
       "_model_module_version": "2.0.0",
       "_model_name": "HTMLStyleModel",
       "_view_count": null,
       "_view_module": "@jupyter-widgets/base",
       "_view_module_version": "2.0.0",
       "_view_name": "StyleView",
       "background": null,
       "description_width": "",
       "font_size": null,
       "text_color": null
      }
     },
     "178a64eeae0a48ec8c932d0984d03b28": {
      "model_module": "@jupyter-widgets/base",
      "model_module_version": "2.0.0",
      "model_name": "LayoutModel",
      "state": {
       "_model_module": "@jupyter-widgets/base",
       "_model_module_version": "2.0.0",
       "_model_name": "LayoutModel",
       "_view_count": null,
       "_view_module": "@jupyter-widgets/base",
       "_view_module_version": "2.0.0",
       "_view_name": "LayoutView",
       "align_content": null,
       "align_items": null,
       "align_self": null,
       "border_bottom": null,
       "border_left": null,
       "border_right": null,
       "border_top": null,
       "bottom": null,
       "display": null,
       "flex": null,
       "flex_flow": null,
       "grid_area": null,
       "grid_auto_columns": null,
       "grid_auto_flow": null,
       "grid_auto_rows": null,
       "grid_column": null,
       "grid_gap": null,
       "grid_row": null,
       "grid_template_areas": null,
       "grid_template_columns": null,
       "grid_template_rows": null,
       "height": null,
       "justify_content": null,
       "justify_items": null,
       "left": null,
       "margin": null,
       "max_height": null,
       "max_width": null,
       "min_height": null,
       "min_width": null,
       "object_fit": null,
       "object_position": null,
       "order": null,
       "overflow": null,
       "padding": null,
       "right": null,
       "top": null,
       "visibility": null,
       "width": null
      }
     },
     "20b51035a2ee4c808a4aef5fc8a8c140": {
      "model_module": "@jupyter-widgets/base",
      "model_module_version": "2.0.0",
      "model_name": "LayoutModel",
      "state": {
       "_model_module": "@jupyter-widgets/base",
       "_model_module_version": "2.0.0",
       "_model_name": "LayoutModel",
       "_view_count": null,
       "_view_module": "@jupyter-widgets/base",
       "_view_module_version": "2.0.0",
       "_view_name": "LayoutView",
       "align_content": null,
       "align_items": null,
       "align_self": null,
       "border_bottom": null,
       "border_left": null,
       "border_right": null,
       "border_top": null,
       "bottom": null,
       "display": null,
       "flex": null,
       "flex_flow": null,
       "grid_area": null,
       "grid_auto_columns": null,
       "grid_auto_flow": null,
       "grid_auto_rows": null,
       "grid_column": null,
       "grid_gap": null,
       "grid_row": null,
       "grid_template_areas": null,
       "grid_template_columns": null,
       "grid_template_rows": null,
       "height": null,
       "justify_content": null,
       "justify_items": null,
       "left": null,
       "margin": null,
       "max_height": null,
       "max_width": null,
       "min_height": null,
       "min_width": null,
       "object_fit": null,
       "object_position": null,
       "order": null,
       "overflow": null,
       "padding": null,
       "right": null,
       "top": null,
       "visibility": null,
       "width": null
      }
     },
     "2bda83e810ca419d9d5012dcc6d43ac9": {
      "model_module": "@jupyter-widgets/controls",
      "model_module_version": "2.0.0",
      "model_name": "HBoxModel",
      "state": {
       "_dom_classes": [],
       "_model_module": "@jupyter-widgets/controls",
       "_model_module_version": "2.0.0",
       "_model_name": "HBoxModel",
       "_view_count": null,
       "_view_module": "@jupyter-widgets/controls",
       "_view_module_version": "2.0.0",
       "_view_name": "HBoxView",
       "box_style": "",
       "children": [
        "IPY_MODEL_45e10848f56647c8823943d0e0382381",
        "IPY_MODEL_7de389792a72440eba7f7269887d62b8",
        "IPY_MODEL_6d2dea1dbea94a189015055ff4bfb789"
       ],
       "layout": "IPY_MODEL_e3393262ceae43e280ff561e12b2c2d4",
       "tabbable": null,
       "tooltip": null
      }
     },
     "3c9e2a3b6f5e4840850599940f4be964": {
      "model_module": "@jupyter-widgets/base",
      "model_module_version": "2.0.0",
      "model_name": "LayoutModel",
      "state": {
       "_model_module": "@jupyter-widgets/base",
       "_model_module_version": "2.0.0",
       "_model_name": "LayoutModel",
       "_view_count": null,
       "_view_module": "@jupyter-widgets/base",
       "_view_module_version": "2.0.0",
       "_view_name": "LayoutView",
       "align_content": null,
       "align_items": null,
       "align_self": null,
       "border_bottom": null,
       "border_left": null,
       "border_right": null,
       "border_top": null,
       "bottom": null,
       "display": null,
       "flex": null,
       "flex_flow": null,
       "grid_area": null,
       "grid_auto_columns": null,
       "grid_auto_flow": null,
       "grid_auto_rows": null,
       "grid_column": null,
       "grid_gap": null,
       "grid_row": null,
       "grid_template_areas": null,
       "grid_template_columns": null,
       "grid_template_rows": null,
       "height": null,
       "justify_content": null,
       "justify_items": null,
       "left": null,
       "margin": null,
       "max_height": null,
       "max_width": null,
       "min_height": null,
       "min_width": null,
       "object_fit": null,
       "object_position": null,
       "order": null,
       "overflow": null,
       "padding": null,
       "right": null,
       "top": null,
       "visibility": null,
       "width": null
      }
     },
     "3ef90ae89a89492a889091e27d2c53c4": {
      "model_module": "@jupyter-widgets/base",
      "model_module_version": "2.0.0",
      "model_name": "LayoutModel",
      "state": {
       "_model_module": "@jupyter-widgets/base",
       "_model_module_version": "2.0.0",
       "_model_name": "LayoutModel",
       "_view_count": null,
       "_view_module": "@jupyter-widgets/base",
       "_view_module_version": "2.0.0",
       "_view_name": "LayoutView",
       "align_content": null,
       "align_items": null,
       "align_self": null,
       "border_bottom": null,
       "border_left": null,
       "border_right": null,
       "border_top": null,
       "bottom": null,
       "display": null,
       "flex": null,
       "flex_flow": null,
       "grid_area": null,
       "grid_auto_columns": null,
       "grid_auto_flow": null,
       "grid_auto_rows": null,
       "grid_column": null,
       "grid_gap": null,
       "grid_row": null,
       "grid_template_areas": null,
       "grid_template_columns": null,
       "grid_template_rows": null,
       "height": null,
       "justify_content": null,
       "justify_items": null,
       "left": null,
       "margin": null,
       "max_height": null,
       "max_width": null,
       "min_height": null,
       "min_width": null,
       "object_fit": null,
       "object_position": null,
       "order": null,
       "overflow": null,
       "padding": null,
       "right": null,
       "top": null,
       "visibility": null,
       "width": null
      }
     },
     "4437a3089357415dafd4a8a1a940e3a0": {
      "model_module": "@jupyter-widgets/base",
      "model_module_version": "2.0.0",
      "model_name": "LayoutModel",
      "state": {
       "_model_module": "@jupyter-widgets/base",
       "_model_module_version": "2.0.0",
       "_model_name": "LayoutModel",
       "_view_count": null,
       "_view_module": "@jupyter-widgets/base",
       "_view_module_version": "2.0.0",
       "_view_name": "LayoutView",
       "align_content": null,
       "align_items": null,
       "align_self": null,
       "border_bottom": null,
       "border_left": null,
       "border_right": null,
       "border_top": null,
       "bottom": null,
       "display": null,
       "flex": null,
       "flex_flow": null,
       "grid_area": null,
       "grid_auto_columns": null,
       "grid_auto_flow": null,
       "grid_auto_rows": null,
       "grid_column": null,
       "grid_gap": null,
       "grid_row": null,
       "grid_template_areas": null,
       "grid_template_columns": null,
       "grid_template_rows": null,
       "height": null,
       "justify_content": null,
       "justify_items": null,
       "left": null,
       "margin": null,
       "max_height": null,
       "max_width": null,
       "min_height": null,
       "min_width": null,
       "object_fit": null,
       "object_position": null,
       "order": null,
       "overflow": null,
       "padding": null,
       "right": null,
       "top": null,
       "visibility": null,
       "width": null
      }
     },
     "44de549727624d409aa65f1e8edafc16": {
      "model_module": "@jupyter-widgets/controls",
      "model_module_version": "2.0.0",
      "model_name": "HBoxModel",
      "state": {
       "_dom_classes": [],
       "_model_module": "@jupyter-widgets/controls",
       "_model_module_version": "2.0.0",
       "_model_name": "HBoxModel",
       "_view_count": null,
       "_view_module": "@jupyter-widgets/controls",
       "_view_module_version": "2.0.0",
       "_view_name": "HBoxView",
       "box_style": "",
       "children": [
        "IPY_MODEL_690c09c1ac634fa081bff3ca9744ac99",
        "IPY_MODEL_f69cd887cbac48728cc47c39473d7b48",
        "IPY_MODEL_c400117c433148b2a88d3a8e47e1efe9"
       ],
       "layout": "IPY_MODEL_d696db5071ed4ad29019874a4575a997",
       "tabbable": null,
       "tooltip": null
      }
     },
     "45e10848f56647c8823943d0e0382381": {
      "model_module": "@jupyter-widgets/controls",
      "model_module_version": "2.0.0",
      "model_name": "HTMLModel",
      "state": {
       "_dom_classes": [],
       "_model_module": "@jupyter-widgets/controls",
       "_model_module_version": "2.0.0",
       "_model_name": "HTMLModel",
       "_view_count": null,
       "_view_module": "@jupyter-widgets/controls",
       "_view_module_version": "2.0.0",
       "_view_name": "HTMLView",
       "description": "",
       "description_allow_html": false,
       "layout": "IPY_MODEL_5239598f87d54d22954fdf8f71637851",
       "placeholder": "​",
       "style": "IPY_MODEL_05440e87210540d1ba9cfe9ecbd157b0",
       "tabbable": null,
       "tooltip": null,
       "value": "Filter (num_proc=16): 100%"
      }
     },
     "4ac134739e7d4356877a25248358b105": {
      "model_module": "@jupyter-widgets/controls",
      "model_module_version": "2.0.0",
      "model_name": "FloatProgressModel",
      "state": {
       "_dom_classes": [],
       "_model_module": "@jupyter-widgets/controls",
       "_model_module_version": "2.0.0",
       "_model_name": "FloatProgressModel",
       "_view_count": null,
       "_view_module": "@jupyter-widgets/controls",
       "_view_module_version": "2.0.0",
       "_view_name": "ProgressView",
       "bar_style": "success",
       "description": "",
       "description_allow_html": false,
       "layout": "IPY_MODEL_3ef90ae89a89492a889091e27d2c53c4",
       "max": 4370,
       "min": 0,
       "orientation": "horizontal",
       "style": "IPY_MODEL_8d5db355c0f345da8ebfe05202c462c4",
       "tabbable": null,
       "tooltip": null,
       "value": 4370
      }
     },
     "4d122da0f0d845fab26d24c23df0e027": {
      "model_module": "@jupyter-widgets/controls",
      "model_module_version": "2.0.0",
      "model_name": "HTMLStyleModel",
      "state": {
       "_model_module": "@jupyter-widgets/controls",
       "_model_module_version": "2.0.0",
       "_model_name": "HTMLStyleModel",
       "_view_count": null,
       "_view_module": "@jupyter-widgets/base",
       "_view_module_version": "2.0.0",
       "_view_name": "StyleView",
       "background": null,
       "description_width": "",
       "font_size": null,
       "text_color": null
      }
     },
     "518b4bbb0c034bf6883ae4245f56a843": {
      "model_module": "@jupyter-widgets/base",
      "model_module_version": "2.0.0",
      "model_name": "LayoutModel",
      "state": {
       "_model_module": "@jupyter-widgets/base",
       "_model_module_version": "2.0.0",
       "_model_name": "LayoutModel",
       "_view_count": null,
       "_view_module": "@jupyter-widgets/base",
       "_view_module_version": "2.0.0",
       "_view_name": "LayoutView",
       "align_content": null,
       "align_items": null,
       "align_self": null,
       "border_bottom": null,
       "border_left": null,
       "border_right": null,
       "border_top": null,
       "bottom": null,
       "display": null,
       "flex": null,
       "flex_flow": null,
       "grid_area": null,
       "grid_auto_columns": null,
       "grid_auto_flow": null,
       "grid_auto_rows": null,
       "grid_column": null,
       "grid_gap": null,
       "grid_row": null,
       "grid_template_areas": null,
       "grid_template_columns": null,
       "grid_template_rows": null,
       "height": null,
       "justify_content": null,
       "justify_items": null,
       "left": null,
       "margin": null,
       "max_height": null,
       "max_width": null,
       "min_height": null,
       "min_width": null,
       "object_fit": null,
       "object_position": null,
       "order": null,
       "overflow": null,
       "padding": null,
       "right": null,
       "top": null,
       "visibility": null,
       "width": null
      }
     },
     "5239598f87d54d22954fdf8f71637851": {
      "model_module": "@jupyter-widgets/base",
      "model_module_version": "2.0.0",
      "model_name": "LayoutModel",
      "state": {
       "_model_module": "@jupyter-widgets/base",
       "_model_module_version": "2.0.0",
       "_model_name": "LayoutModel",
       "_view_count": null,
       "_view_module": "@jupyter-widgets/base",
       "_view_module_version": "2.0.0",
       "_view_name": "LayoutView",
       "align_content": null,
       "align_items": null,
       "align_self": null,
       "border_bottom": null,
       "border_left": null,
       "border_right": null,
       "border_top": null,
       "bottom": null,
       "display": null,
       "flex": null,
       "flex_flow": null,
       "grid_area": null,
       "grid_auto_columns": null,
       "grid_auto_flow": null,
       "grid_auto_rows": null,
       "grid_column": null,
       "grid_gap": null,
       "grid_row": null,
       "grid_template_areas": null,
       "grid_template_columns": null,
       "grid_template_rows": null,
       "height": null,
       "justify_content": null,
       "justify_items": null,
       "left": null,
       "margin": null,
       "max_height": null,
       "max_width": null,
       "min_height": null,
       "min_width": null,
       "object_fit": null,
       "object_position": null,
       "order": null,
       "overflow": null,
       "padding": null,
       "right": null,
       "top": null,
       "visibility": null,
       "width": null
      }
     },
     "52d17c0b9ad34af79013adf94ec38f88": {
      "model_module": "@jupyter-widgets/controls",
      "model_module_version": "2.0.0",
      "model_name": "HBoxModel",
      "state": {
       "_dom_classes": [],
       "_model_module": "@jupyter-widgets/controls",
       "_model_module_version": "2.0.0",
       "_model_name": "HBoxModel",
       "_view_count": null,
       "_view_module": "@jupyter-widgets/controls",
       "_view_module_version": "2.0.0",
       "_view_name": "HBoxView",
       "box_style": "",
       "children": [
        "IPY_MODEL_c6980ec15c2947a8bec6710daac5dd8c",
        "IPY_MODEL_63790933f09c40ba88a8a91ad08bd5ed",
        "IPY_MODEL_a116a5b5e6654b898289763b5bf6da17"
       ],
       "layout": "IPY_MODEL_a33130d3106740a7b10cde54fbcf24e8",
       "tabbable": null,
       "tooltip": null
      }
     },
     "588392b47db94653bee364588db46d7e": {
      "model_module": "@jupyter-widgets/controls",
      "model_module_version": "2.0.0",
      "model_name": "HTMLModel",
      "state": {
       "_dom_classes": [],
       "_model_module": "@jupyter-widgets/controls",
       "_model_module_version": "2.0.0",
       "_model_name": "HTMLModel",
       "_view_count": null,
       "_view_module": "@jupyter-widgets/controls",
       "_view_module_version": "2.0.0",
       "_view_name": "HTMLView",
       "description": "",
       "description_allow_html": false,
       "layout": "IPY_MODEL_20b51035a2ee4c808a4aef5fc8a8c140",
       "placeholder": "​",
       "style": "IPY_MODEL_a99ac86d72c64ce28d4a02c7e770f1c6",
       "tabbable": null,
       "tooltip": null,
       "value": " 4370/4370 [00:00&lt;00:00, 7785.30 examples/s]"
      }
     },
     "5f1077f56622442bba1e702efaf41fc5": {
      "model_module": "@jupyter-widgets/controls",
      "model_module_version": "2.0.0",
      "model_name": "HTMLStyleModel",
      "state": {
       "_model_module": "@jupyter-widgets/controls",
       "_model_module_version": "2.0.0",
       "_model_name": "HTMLStyleModel",
       "_view_count": null,
       "_view_module": "@jupyter-widgets/base",
       "_view_module_version": "2.0.0",
       "_view_name": "StyleView",
       "background": null,
       "description_width": "",
       "font_size": null,
       "text_color": null
      }
     },
     "634f96fe62774c0ebd6a473f6c611f5f": {
      "model_module": "@jupyter-widgets/base",
      "model_module_version": "2.0.0",
      "model_name": "LayoutModel",
      "state": {
       "_model_module": "@jupyter-widgets/base",
       "_model_module_version": "2.0.0",
       "_model_name": "LayoutModel",
       "_view_count": null,
       "_view_module": "@jupyter-widgets/base",
       "_view_module_version": "2.0.0",
       "_view_name": "LayoutView",
       "align_content": null,
       "align_items": null,
       "align_self": null,
       "border_bottom": null,
       "border_left": null,
       "border_right": null,
       "border_top": null,
       "bottom": null,
       "display": null,
       "flex": null,
       "flex_flow": null,
       "grid_area": null,
       "grid_auto_columns": null,
       "grid_auto_flow": null,
       "grid_auto_rows": null,
       "grid_column": null,
       "grid_gap": null,
       "grid_row": null,
       "grid_template_areas": null,
       "grid_template_columns": null,
       "grid_template_rows": null,
       "height": null,
       "justify_content": null,
       "justify_items": null,
       "left": null,
       "margin": null,
       "max_height": null,
       "max_width": null,
       "min_height": null,
       "min_width": null,
       "object_fit": null,
       "object_position": null,
       "order": null,
       "overflow": null,
       "padding": null,
       "right": null,
       "top": null,
       "visibility": null,
       "width": null
      }
     },
     "63790933f09c40ba88a8a91ad08bd5ed": {
      "model_module": "@jupyter-widgets/controls",
      "model_module_version": "2.0.0",
      "model_name": "FloatProgressModel",
      "state": {
       "_dom_classes": [],
       "_model_module": "@jupyter-widgets/controls",
       "_model_module_version": "2.0.0",
       "_model_name": "FloatProgressModel",
       "_view_count": null,
       "_view_module": "@jupyter-widgets/controls",
       "_view_module_version": "2.0.0",
       "_view_name": "ProgressView",
       "bar_style": "success",
       "description": "",
       "description_allow_html": false,
       "layout": "IPY_MODEL_7c147d975e944e1f8126a2ac5316c080",
       "max": 1460,
       "min": 0,
       "orientation": "horizontal",
       "style": "IPY_MODEL_0f45854db5fd425b98bcf006731204bb",
       "tabbable": null,
       "tooltip": null,
       "value": 1460
      }
     },
     "690c09c1ac634fa081bff3ca9744ac99": {
      "model_module": "@jupyter-widgets/controls",
      "model_module_version": "2.0.0",
      "model_name": "HTMLModel",
      "state": {
       "_dom_classes": [],
       "_model_module": "@jupyter-widgets/controls",
       "_model_module_version": "2.0.0",
       "_model_name": "HTMLModel",
       "_view_count": null,
       "_view_module": "@jupyter-widgets/controls",
       "_view_module_version": "2.0.0",
       "_view_name": "HTMLView",
       "description": "",
       "description_allow_html": false,
       "layout": "IPY_MODEL_e87e31e6f6474572bc437da6341bbe2e",
       "placeholder": "​",
       "style": "IPY_MODEL_5f1077f56622442bba1e702efaf41fc5",
       "tabbable": null,
       "tooltip": null,
       "value": "Map (num_proc=16): 100%"
      }
     },
     "6ae85b08be004987aef3d8e8131c043d": {
      "model_module": "@jupyter-widgets/controls",
      "model_module_version": "2.0.0",
      "model_name": "ProgressStyleModel",
      "state": {
       "_model_module": "@jupyter-widgets/controls",
       "_model_module_version": "2.0.0",
       "_model_name": "ProgressStyleModel",
       "_view_count": null,
       "_view_module": "@jupyter-widgets/base",
       "_view_module_version": "2.0.0",
       "_view_name": "StyleView",
       "bar_color": null,
       "description_width": ""
      }
     },
     "6c5ccb3ad7c34f3a846be3183ecc0690": {
      "model_module": "@jupyter-widgets/controls",
      "model_module_version": "2.0.0",
      "model_name": "ProgressStyleModel",
      "state": {
       "_model_module": "@jupyter-widgets/controls",
       "_model_module_version": "2.0.0",
       "_model_name": "ProgressStyleModel",
       "_view_count": null,
       "_view_module": "@jupyter-widgets/base",
       "_view_module_version": "2.0.0",
       "_view_name": "StyleView",
       "bar_color": null,
       "description_width": ""
      }
     },
     "6d23e9f9a5d046a0baad1e3f20e2723e": {
      "model_module": "@jupyter-widgets/controls",
      "model_module_version": "2.0.0",
      "model_name": "FloatProgressModel",
      "state": {
       "_dom_classes": [],
       "_model_module": "@jupyter-widgets/controls",
       "_model_module_version": "2.0.0",
       "_model_name": "FloatProgressModel",
       "_view_count": null,
       "_view_module": "@jupyter-widgets/controls",
       "_view_module_version": "2.0.0",
       "_view_name": "ProgressView",
       "bar_style": "success",
       "description": "",
       "description_allow_html": false,
       "layout": "IPY_MODEL_b13654daca3c4cde845de8db030002b9",
       "max": 4370,
       "min": 0,
       "orientation": "horizontal",
       "style": "IPY_MODEL_ae2d79398efe4f04992190796d5abed6",
       "tabbable": null,
       "tooltip": null,
       "value": 4370
      }
     },
     "6d2dea1dbea94a189015055ff4bfb789": {
      "model_module": "@jupyter-widgets/controls",
      "model_module_version": "2.0.0",
      "model_name": "HTMLModel",
      "state": {
       "_dom_classes": [],
       "_model_module": "@jupyter-widgets/controls",
       "_model_module_version": "2.0.0",
       "_model_name": "HTMLModel",
       "_view_count": null,
       "_view_module": "@jupyter-widgets/controls",
       "_view_module_version": "2.0.0",
       "_view_name": "HTMLView",
       "description": "",
       "description_allow_html": false,
       "layout": "IPY_MODEL_f465e8d6562a45a7a2a705fcf0e1e030",
       "placeholder": "​",
       "style": "IPY_MODEL_75cf514d204d495d8bb45cdd98c2292f",
       "tabbable": null,
       "tooltip": null,
       "value": " 4370/4370 [00:00&lt;00:00, 7432.74 examples/s]"
      }
     },
     "6d80002167984a4fb5d552f8f13067a4": {
      "model_module": "@jupyter-widgets/controls",
      "model_module_version": "2.0.0",
      "model_name": "HTMLStyleModel",
      "state": {
       "_model_module": "@jupyter-widgets/controls",
       "_model_module_version": "2.0.0",
       "_model_name": "HTMLStyleModel",
       "_view_count": null,
       "_view_module": "@jupyter-widgets/base",
       "_view_module_version": "2.0.0",
       "_view_name": "StyleView",
       "background": null,
       "description_width": "",
       "font_size": null,
       "text_color": null
      }
     },
     "75cf514d204d495d8bb45cdd98c2292f": {
      "model_module": "@jupyter-widgets/controls",
      "model_module_version": "2.0.0",
      "model_name": "HTMLStyleModel",
      "state": {
       "_model_module": "@jupyter-widgets/controls",
       "_model_module_version": "2.0.0",
       "_model_name": "HTMLStyleModel",
       "_view_count": null,
       "_view_module": "@jupyter-widgets/base",
       "_view_module_version": "2.0.0",
       "_view_name": "StyleView",
       "background": null,
       "description_width": "",
       "font_size": null,
       "text_color": null
      }
     },
     "7adab06a685d4f849a31692877e84198": {
      "model_module": "@jupyter-widgets/base",
      "model_module_version": "2.0.0",
      "model_name": "LayoutModel",
      "state": {
       "_model_module": "@jupyter-widgets/base",
       "_model_module_version": "2.0.0",
       "_model_name": "LayoutModel",
       "_view_count": null,
       "_view_module": "@jupyter-widgets/base",
       "_view_module_version": "2.0.0",
       "_view_name": "LayoutView",
       "align_content": null,
       "align_items": null,
       "align_self": null,
       "border_bottom": null,
       "border_left": null,
       "border_right": null,
       "border_top": null,
       "bottom": null,
       "display": null,
       "flex": null,
       "flex_flow": null,
       "grid_area": null,
       "grid_auto_columns": null,
       "grid_auto_flow": null,
       "grid_auto_rows": null,
       "grid_column": null,
       "grid_gap": null,
       "grid_row": null,
       "grid_template_areas": null,
       "grid_template_columns": null,
       "grid_template_rows": null,
       "height": null,
       "justify_content": null,
       "justify_items": null,
       "left": null,
       "margin": null,
       "max_height": null,
       "max_width": null,
       "min_height": null,
       "min_width": null,
       "object_fit": null,
       "object_position": null,
       "order": null,
       "overflow": null,
       "padding": null,
       "right": null,
       "top": null,
       "visibility": null,
       "width": null
      }
     },
     "7c147d975e944e1f8126a2ac5316c080": {
      "model_module": "@jupyter-widgets/base",
      "model_module_version": "2.0.0",
      "model_name": "LayoutModel",
      "state": {
       "_model_module": "@jupyter-widgets/base",
       "_model_module_version": "2.0.0",
       "_model_name": "LayoutModel",
       "_view_count": null,
       "_view_module": "@jupyter-widgets/base",
       "_view_module_version": "2.0.0",
       "_view_name": "LayoutView",
       "align_content": null,
       "align_items": null,
       "align_self": null,
       "border_bottom": null,
       "border_left": null,
       "border_right": null,
       "border_top": null,
       "bottom": null,
       "display": null,
       "flex": null,
       "flex_flow": null,
       "grid_area": null,
       "grid_auto_columns": null,
       "grid_auto_flow": null,
       "grid_auto_rows": null,
       "grid_column": null,
       "grid_gap": null,
       "grid_row": null,
       "grid_template_areas": null,
       "grid_template_columns": null,
       "grid_template_rows": null,
       "height": null,
       "justify_content": null,
       "justify_items": null,
       "left": null,
       "margin": null,
       "max_height": null,
       "max_width": null,
       "min_height": null,
       "min_width": null,
       "object_fit": null,
       "object_position": null,
       "order": null,
       "overflow": null,
       "padding": null,
       "right": null,
       "top": null,
       "visibility": null,
       "width": null
      }
     },
     "7de389792a72440eba7f7269887d62b8": {
      "model_module": "@jupyter-widgets/controls",
      "model_module_version": "2.0.0",
      "model_name": "FloatProgressModel",
      "state": {
       "_dom_classes": [],
       "_model_module": "@jupyter-widgets/controls",
       "_model_module_version": "2.0.0",
       "_model_name": "FloatProgressModel",
       "_view_count": null,
       "_view_module": "@jupyter-widgets/controls",
       "_view_module_version": "2.0.0",
       "_view_name": "ProgressView",
       "bar_style": "success",
       "description": "",
       "description_allow_html": false,
       "layout": "IPY_MODEL_0fcd87c4b9ee4c338e6a2d1e95f70a23",
       "max": 4370,
       "min": 0,
       "orientation": "horizontal",
       "style": "IPY_MODEL_f10722cd7ad0402b87893846c235b226",
       "tabbable": null,
       "tooltip": null,
       "value": 4370
      }
     },
     "813e332602884e3fa729795bf63d2813": {
      "model_module": "@jupyter-widgets/base",
      "model_module_version": "2.0.0",
      "model_name": "LayoutModel",
      "state": {
       "_model_module": "@jupyter-widgets/base",
       "_model_module_version": "2.0.0",
       "_model_name": "LayoutModel",
       "_view_count": null,
       "_view_module": "@jupyter-widgets/base",
       "_view_module_version": "2.0.0",
       "_view_name": "LayoutView",
       "align_content": null,
       "align_items": null,
       "align_self": null,
       "border_bottom": null,
       "border_left": null,
       "border_right": null,
       "border_top": null,
       "bottom": null,
       "display": null,
       "flex": null,
       "flex_flow": null,
       "grid_area": null,
       "grid_auto_columns": null,
       "grid_auto_flow": null,
       "grid_auto_rows": null,
       "grid_column": null,
       "grid_gap": null,
       "grid_row": null,
       "grid_template_areas": null,
       "grid_template_columns": null,
       "grid_template_rows": null,
       "height": null,
       "justify_content": null,
       "justify_items": null,
       "left": null,
       "margin": null,
       "max_height": null,
       "max_width": null,
       "min_height": null,
       "min_width": null,
       "object_fit": null,
       "object_position": null,
       "order": null,
       "overflow": null,
       "padding": null,
       "right": null,
       "top": null,
       "visibility": null,
       "width": null
      }
     },
     "8b3ddcbeb88c4bb9a5061adb70b73b99": {
      "model_module": "@jupyter-widgets/controls",
      "model_module_version": "2.0.0",
      "model_name": "HTMLModel",
      "state": {
       "_dom_classes": [],
       "_model_module": "@jupyter-widgets/controls",
       "_model_module_version": "2.0.0",
       "_model_name": "HTMLModel",
       "_view_count": null,
       "_view_module": "@jupyter-widgets/controls",
       "_view_module_version": "2.0.0",
       "_view_name": "HTMLView",
       "description": "",
       "description_allow_html": false,
       "layout": "IPY_MODEL_b17b7236ce6942b3a51e1350b70cd22b",
       "placeholder": "​",
       "style": "IPY_MODEL_ef517942618c412fbf8b0241ae95b77e",
       "tabbable": null,
       "tooltip": null,
       "value": "Map (num_proc=16): 100%"
      }
     },
     "8d5db355c0f345da8ebfe05202c462c4": {
      "model_module": "@jupyter-widgets/controls",
      "model_module_version": "2.0.0",
      "model_name": "ProgressStyleModel",
      "state": {
       "_model_module": "@jupyter-widgets/controls",
       "_model_module_version": "2.0.0",
       "_model_name": "ProgressStyleModel",
       "_view_count": null,
       "_view_module": "@jupyter-widgets/base",
       "_view_module_version": "2.0.0",
       "_view_name": "StyleView",
       "bar_color": null,
       "description_width": ""
      }
     },
     "903f76b3d1254bef8406b36948585089": {
      "model_module": "@jupyter-widgets/controls",
      "model_module_version": "2.0.0",
      "model_name": "HTMLStyleModel",
      "state": {
       "_model_module": "@jupyter-widgets/controls",
       "_model_module_version": "2.0.0",
       "_model_name": "HTMLStyleModel",
       "_view_count": null,
       "_view_module": "@jupyter-widgets/base",
       "_view_module_version": "2.0.0",
       "_view_name": "StyleView",
       "background": null,
       "description_width": "",
       "font_size": null,
       "text_color": null
      }
     },
     "90a3b627f1c342e693db827955c90966": {
      "model_module": "@jupyter-widgets/controls",
      "model_module_version": "2.0.0",
      "model_name": "FloatProgressModel",
      "state": {
       "_dom_classes": [],
       "_model_module": "@jupyter-widgets/controls",
       "_model_module_version": "2.0.0",
       "_model_name": "FloatProgressModel",
       "_view_count": null,
       "_view_module": "@jupyter-widgets/controls",
       "_view_module_version": "2.0.0",
       "_view_name": "ProgressView",
       "bar_style": "success",
       "description": "",
       "description_allow_html": false,
       "layout": "IPY_MODEL_4437a3089357415dafd4a8a1a940e3a0",
       "max": 2910,
       "min": 0,
       "orientation": "horizontal",
       "style": "IPY_MODEL_6c5ccb3ad7c34f3a846be3183ecc0690",
       "tabbable": null,
       "tooltip": null,
       "value": 2910
      }
     },
     "929937f44a804dcf9d70d12eda855a5f": {
      "model_module": "@jupyter-widgets/base",
      "model_module_version": "2.0.0",
      "model_name": "LayoutModel",
      "state": {
       "_model_module": "@jupyter-widgets/base",
       "_model_module_version": "2.0.0",
       "_model_name": "LayoutModel",
       "_view_count": null,
       "_view_module": "@jupyter-widgets/base",
       "_view_module_version": "2.0.0",
       "_view_name": "LayoutView",
       "align_content": null,
       "align_items": null,
       "align_self": null,
       "border_bottom": null,
       "border_left": null,
       "border_right": null,
       "border_top": null,
       "bottom": null,
       "display": null,
       "flex": null,
       "flex_flow": null,
       "grid_area": null,
       "grid_auto_columns": null,
       "grid_auto_flow": null,
       "grid_auto_rows": null,
       "grid_column": null,
       "grid_gap": null,
       "grid_row": null,
       "grid_template_areas": null,
       "grid_template_columns": null,
       "grid_template_rows": null,
       "height": null,
       "justify_content": null,
       "justify_items": null,
       "left": null,
       "margin": null,
       "max_height": null,
       "max_width": null,
       "min_height": null,
       "min_width": null,
       "object_fit": null,
       "object_position": null,
       "order": null,
       "overflow": null,
       "padding": null,
       "right": null,
       "top": null,
       "visibility": null,
       "width": null
      }
     },
     "a095e5b4d0d64f339c75638adc2adf28": {
      "model_module": "@jupyter-widgets/controls",
      "model_module_version": "2.0.0",
      "model_name": "HBoxModel",
      "state": {
       "_dom_classes": [],
       "_model_module": "@jupyter-widgets/controls",
       "_model_module_version": "2.0.0",
       "_model_name": "HBoxModel",
       "_view_count": null,
       "_view_module": "@jupyter-widgets/controls",
       "_view_module_version": "2.0.0",
       "_view_name": "HBoxView",
       "box_style": "",
       "children": [
        "IPY_MODEL_017b5f778e3b47e6b19ecc7b5248fe0f",
        "IPY_MODEL_4ac134739e7d4356877a25248358b105",
        "IPY_MODEL_decbd3d66fc94c47bb4e45612f58c7d6"
       ],
       "layout": "IPY_MODEL_813e332602884e3fa729795bf63d2813",
       "tabbable": null,
       "tooltip": null
      }
     },
     "a116a5b5e6654b898289763b5bf6da17": {
      "model_module": "@jupyter-widgets/controls",
      "model_module_version": "2.0.0",
      "model_name": "HTMLModel",
      "state": {
       "_dom_classes": [],
       "_model_module": "@jupyter-widgets/controls",
       "_model_module_version": "2.0.0",
       "_model_name": "HTMLModel",
       "_view_count": null,
       "_view_module": "@jupyter-widgets/controls",
       "_view_module_version": "2.0.0",
       "_view_name": "HTMLView",
       "description": "",
       "description_allow_html": false,
       "layout": "IPY_MODEL_af0368e8bdee4560aa03d28d277fe359",
       "placeholder": "​",
       "style": "IPY_MODEL_1489647906c64244ac17d2978fce9b82",
       "tabbable": null,
       "tooltip": null,
       "value": " 1460/1460 [00:00&lt;00:00, 14931.55 examples/s]"
      }
     },
     "a33130d3106740a7b10cde54fbcf24e8": {
      "model_module": "@jupyter-widgets/base",
      "model_module_version": "2.0.0",
      "model_name": "LayoutModel",
      "state": {
       "_model_module": "@jupyter-widgets/base",
       "_model_module_version": "2.0.0",
       "_model_name": "LayoutModel",
       "_view_count": null,
       "_view_module": "@jupyter-widgets/base",
       "_view_module_version": "2.0.0",
       "_view_name": "LayoutView",
       "align_content": null,
       "align_items": null,
       "align_self": null,
       "border_bottom": null,
       "border_left": null,
       "border_right": null,
       "border_top": null,
       "bottom": null,
       "display": null,
       "flex": null,
       "flex_flow": null,
       "grid_area": null,
       "grid_auto_columns": null,
       "grid_auto_flow": null,
       "grid_auto_rows": null,
       "grid_column": null,
       "grid_gap": null,
       "grid_row": null,
       "grid_template_areas": null,
       "grid_template_columns": null,
       "grid_template_rows": null,
       "height": null,
       "justify_content": null,
       "justify_items": null,
       "left": null,
       "margin": null,
       "max_height": null,
       "max_width": null,
       "min_height": null,
       "min_width": null,
       "object_fit": null,
       "object_position": null,
       "order": null,
       "overflow": null,
       "padding": null,
       "right": null,
       "top": null,
       "visibility": null,
       "width": null
      }
     },
     "a99ac86d72c64ce28d4a02c7e770f1c6": {
      "model_module": "@jupyter-widgets/controls",
      "model_module_version": "2.0.0",
      "model_name": "HTMLStyleModel",
      "state": {
       "_model_module": "@jupyter-widgets/controls",
       "_model_module_version": "2.0.0",
       "_model_name": "HTMLStyleModel",
       "_view_count": null,
       "_view_module": "@jupyter-widgets/base",
       "_view_module_version": "2.0.0",
       "_view_name": "StyleView",
       "background": null,
       "description_width": "",
       "font_size": null,
       "text_color": null
      }
     },
     "ae2d79398efe4f04992190796d5abed6": {
      "model_module": "@jupyter-widgets/controls",
      "model_module_version": "2.0.0",
      "model_name": "ProgressStyleModel",
      "state": {
       "_model_module": "@jupyter-widgets/controls",
       "_model_module_version": "2.0.0",
       "_model_name": "ProgressStyleModel",
       "_view_count": null,
       "_view_module": "@jupyter-widgets/base",
       "_view_module_version": "2.0.0",
       "_view_name": "StyleView",
       "bar_color": null,
       "description_width": ""
      }
     },
     "af0368e8bdee4560aa03d28d277fe359": {
      "model_module": "@jupyter-widgets/base",
      "model_module_version": "2.0.0",
      "model_name": "LayoutModel",
      "state": {
       "_model_module": "@jupyter-widgets/base",
       "_model_module_version": "2.0.0",
       "_model_name": "LayoutModel",
       "_view_count": null,
       "_view_module": "@jupyter-widgets/base",
       "_view_module_version": "2.0.0",
       "_view_name": "LayoutView",
       "align_content": null,
       "align_items": null,
       "align_self": null,
       "border_bottom": null,
       "border_left": null,
       "border_right": null,
       "border_top": null,
       "bottom": null,
       "display": null,
       "flex": null,
       "flex_flow": null,
       "grid_area": null,
       "grid_auto_columns": null,
       "grid_auto_flow": null,
       "grid_auto_rows": null,
       "grid_column": null,
       "grid_gap": null,
       "grid_row": null,
       "grid_template_areas": null,
       "grid_template_columns": null,
       "grid_template_rows": null,
       "height": null,
       "justify_content": null,
       "justify_items": null,
       "left": null,
       "margin": null,
       "max_height": null,
       "max_width": null,
       "min_height": null,
       "min_width": null,
       "object_fit": null,
       "object_position": null,
       "order": null,
       "overflow": null,
       "padding": null,
       "right": null,
       "top": null,
       "visibility": null,
       "width": null
      }
     },
     "b13654daca3c4cde845de8db030002b9": {
      "model_module": "@jupyter-widgets/base",
      "model_module_version": "2.0.0",
      "model_name": "LayoutModel",
      "state": {
       "_model_module": "@jupyter-widgets/base",
       "_model_module_version": "2.0.0",
       "_model_name": "LayoutModel",
       "_view_count": null,
       "_view_module": "@jupyter-widgets/base",
       "_view_module_version": "2.0.0",
       "_view_name": "LayoutView",
       "align_content": null,
       "align_items": null,
       "align_self": null,
       "border_bottom": null,
       "border_left": null,
       "border_right": null,
       "border_top": null,
       "bottom": null,
       "display": null,
       "flex": null,
       "flex_flow": null,
       "grid_area": null,
       "grid_auto_columns": null,
       "grid_auto_flow": null,
       "grid_auto_rows": null,
       "grid_column": null,
       "grid_gap": null,
       "grid_row": null,
       "grid_template_areas": null,
       "grid_template_columns": null,
       "grid_template_rows": null,
       "height": null,
       "justify_content": null,
       "justify_items": null,
       "left": null,
       "margin": null,
       "max_height": null,
       "max_width": null,
       "min_height": null,
       "min_width": null,
       "object_fit": null,
       "object_position": null,
       "order": null,
       "overflow": null,
       "padding": null,
       "right": null,
       "top": null,
       "visibility": null,
       "width": null
      }
     },
     "b17b7236ce6942b3a51e1350b70cd22b": {
      "model_module": "@jupyter-widgets/base",
      "model_module_version": "2.0.0",
      "model_name": "LayoutModel",
      "state": {
       "_model_module": "@jupyter-widgets/base",
       "_model_module_version": "2.0.0",
       "_model_name": "LayoutModel",
       "_view_count": null,
       "_view_module": "@jupyter-widgets/base",
       "_view_module_version": "2.0.0",
       "_view_name": "LayoutView",
       "align_content": null,
       "align_items": null,
       "align_self": null,
       "border_bottom": null,
       "border_left": null,
       "border_right": null,
       "border_top": null,
       "bottom": null,
       "display": null,
       "flex": null,
       "flex_flow": null,
       "grid_area": null,
       "grid_auto_columns": null,
       "grid_auto_flow": null,
       "grid_auto_rows": null,
       "grid_column": null,
       "grid_gap": null,
       "grid_row": null,
       "grid_template_areas": null,
       "grid_template_columns": null,
       "grid_template_rows": null,
       "height": null,
       "justify_content": null,
       "justify_items": null,
       "left": null,
       "margin": null,
       "max_height": null,
       "max_width": null,
       "min_height": null,
       "min_width": null,
       "object_fit": null,
       "object_position": null,
       "order": null,
       "overflow": null,
       "padding": null,
       "right": null,
       "top": null,
       "visibility": null,
       "width": null
      }
     },
     "c400117c433148b2a88d3a8e47e1efe9": {
      "model_module": "@jupyter-widgets/controls",
      "model_module_version": "2.0.0",
      "model_name": "HTMLModel",
      "state": {
       "_dom_classes": [],
       "_model_module": "@jupyter-widgets/controls",
       "_model_module_version": "2.0.0",
       "_model_name": "HTMLModel",
       "_view_count": null,
       "_view_module": "@jupyter-widgets/controls",
       "_view_module_version": "2.0.0",
       "_view_name": "HTMLView",
       "description": "",
       "description_allow_html": false,
       "layout": "IPY_MODEL_7adab06a685d4f849a31692877e84198",
       "placeholder": "​",
       "style": "IPY_MODEL_6d80002167984a4fb5d552f8f13067a4",
       "tabbable": null,
       "tooltip": null,
       "value": " 1460/1460 [00:03&lt;00:00, 477.48 examples/s]"
      }
     },
     "c6980ec15c2947a8bec6710daac5dd8c": {
      "model_module": "@jupyter-widgets/controls",
      "model_module_version": "2.0.0",
      "model_name": "HTMLModel",
      "state": {
       "_dom_classes": [],
       "_model_module": "@jupyter-widgets/controls",
       "_model_module_version": "2.0.0",
       "_model_name": "HTMLModel",
       "_view_count": null,
       "_view_module": "@jupyter-widgets/controls",
       "_view_module_version": "2.0.0",
       "_view_name": "HTMLView",
       "description": "",
       "description_allow_html": false,
       "layout": "IPY_MODEL_3c9e2a3b6f5e4840850599940f4be964",
       "placeholder": "​",
       "style": "IPY_MODEL_903f76b3d1254bef8406b36948585089",
       "tabbable": null,
       "tooltip": null,
       "value": "Map: 100%"
      }
     },
     "c9ea5df4a48d42d98054aa74d8500fc7": {
      "model_module": "@jupyter-widgets/controls",
      "model_module_version": "2.0.0",
      "model_name": "HTMLModel",
      "state": {
       "_dom_classes": [],
       "_model_module": "@jupyter-widgets/controls",
       "_model_module_version": "2.0.0",
       "_model_name": "HTMLModel",
       "_view_count": null,
       "_view_module": "@jupyter-widgets/controls",
       "_view_module_version": "2.0.0",
       "_view_name": "HTMLView",
       "description": "",
       "description_allow_html": false,
       "layout": "IPY_MODEL_178a64eeae0a48ec8c932d0984d03b28",
       "placeholder": "​",
       "style": "IPY_MODEL_4d122da0f0d845fab26d24c23df0e027",
       "tabbable": null,
       "tooltip": null,
       "value": "Filter (num_proc=16): 100%"
      }
     },
     "d2cf71dd69d44805a9bbc8a877cdad11": {
      "model_module": "@jupyter-widgets/controls",
      "model_module_version": "2.0.0",
      "model_name": "HBoxModel",
      "state": {
       "_dom_classes": [],
       "_model_module": "@jupyter-widgets/controls",
       "_model_module_version": "2.0.0",
       "_model_name": "HBoxModel",
       "_view_count": null,
       "_view_module": "@jupyter-widgets/controls",
       "_view_module_version": "2.0.0",
       "_view_name": "HBoxView",
       "box_style": "",
       "children": [
        "IPY_MODEL_c9ea5df4a48d42d98054aa74d8500fc7",
        "IPY_MODEL_6d23e9f9a5d046a0baad1e3f20e2723e",
        "IPY_MODEL_588392b47db94653bee364588db46d7e"
       ],
       "layout": "IPY_MODEL_f2172117728546e788dbadcc68b7cc4d",
       "tabbable": null,
       "tooltip": null
      }
     },
     "d55143ee999440f6bc89e245ccda82d5": {
      "model_module": "@jupyter-widgets/controls",
      "model_module_version": "2.0.0",
      "model_name": "HTMLStyleModel",
      "state": {
       "_model_module": "@jupyter-widgets/controls",
       "_model_module_version": "2.0.0",
       "_model_name": "HTMLStyleModel",
       "_view_count": null,
       "_view_module": "@jupyter-widgets/base",
       "_view_module_version": "2.0.0",
       "_view_name": "StyleView",
       "background": null,
       "description_width": "",
       "font_size": null,
       "text_color": null
      }
     },
     "d696db5071ed4ad29019874a4575a997": {
      "model_module": "@jupyter-widgets/base",
      "model_module_version": "2.0.0",
      "model_name": "LayoutModel",
      "state": {
       "_model_module": "@jupyter-widgets/base",
       "_model_module_version": "2.0.0",
       "_model_name": "LayoutModel",
       "_view_count": null,
       "_view_module": "@jupyter-widgets/base",
       "_view_module_version": "2.0.0",
       "_view_name": "LayoutView",
       "align_content": null,
       "align_items": null,
       "align_self": null,
       "border_bottom": null,
       "border_left": null,
       "border_right": null,
       "border_top": null,
       "bottom": null,
       "display": null,
       "flex": null,
       "flex_flow": null,
       "grid_area": null,
       "grid_auto_columns": null,
       "grid_auto_flow": null,
       "grid_auto_rows": null,
       "grid_column": null,
       "grid_gap": null,
       "grid_row": null,
       "grid_template_areas": null,
       "grid_template_columns": null,
       "grid_template_rows": null,
       "height": null,
       "justify_content": null,
       "justify_items": null,
       "left": null,
       "margin": null,
       "max_height": null,
       "max_width": null,
       "min_height": null,
       "min_width": null,
       "object_fit": null,
       "object_position": null,
       "order": null,
       "overflow": null,
       "padding": null,
       "right": null,
       "top": null,
       "visibility": null,
       "width": null
      }
     },
     "d9bf418f7bd14da5a6baed763a6dc4cc": {
      "model_module": "@jupyter-widgets/controls",
      "model_module_version": "2.0.0",
      "model_name": "HBoxModel",
      "state": {
       "_dom_classes": [],
       "_model_module": "@jupyter-widgets/controls",
       "_model_module_version": "2.0.0",
       "_model_name": "HBoxModel",
       "_view_count": null,
       "_view_module": "@jupyter-widgets/controls",
       "_view_module_version": "2.0.0",
       "_view_name": "HBoxView",
       "box_style": "",
       "children": [
        "IPY_MODEL_8b3ddcbeb88c4bb9a5061adb70b73b99",
        "IPY_MODEL_90a3b627f1c342e693db827955c90966",
        "IPY_MODEL_fbe7228fe4fe462eb8aac2e0af7c682a"
       ],
       "layout": "IPY_MODEL_518b4bbb0c034bf6883ae4245f56a843",
       "tabbable": null,
       "tooltip": null
      }
     },
     "dbc380dd07bf4a0ea67a282234fe5dbb": {
      "model_module": "@jupyter-widgets/base",
      "model_module_version": "2.0.0",
      "model_name": "LayoutModel",
      "state": {
       "_model_module": "@jupyter-widgets/base",
       "_model_module_version": "2.0.0",
       "_model_name": "LayoutModel",
       "_view_count": null,
       "_view_module": "@jupyter-widgets/base",
       "_view_module_version": "2.0.0",
       "_view_name": "LayoutView",
       "align_content": null,
       "align_items": null,
       "align_self": null,
       "border_bottom": null,
       "border_left": null,
       "border_right": null,
       "border_top": null,
       "bottom": null,
       "display": null,
       "flex": null,
       "flex_flow": null,
       "grid_area": null,
       "grid_auto_columns": null,
       "grid_auto_flow": null,
       "grid_auto_rows": null,
       "grid_column": null,
       "grid_gap": null,
       "grid_row": null,
       "grid_template_areas": null,
       "grid_template_columns": null,
       "grid_template_rows": null,
       "height": null,
       "justify_content": null,
       "justify_items": null,
       "left": null,
       "margin": null,
       "max_height": null,
       "max_width": null,
       "min_height": null,
       "min_width": null,
       "object_fit": null,
       "object_position": null,
       "order": null,
       "overflow": null,
       "padding": null,
       "right": null,
       "top": null,
       "visibility": null,
       "width": null
      }
     },
     "decbd3d66fc94c47bb4e45612f58c7d6": {
      "model_module": "@jupyter-widgets/controls",
      "model_module_version": "2.0.0",
      "model_name": "HTMLModel",
      "state": {
       "_dom_classes": [],
       "_model_module": "@jupyter-widgets/controls",
       "_model_module_version": "2.0.0",
       "_model_name": "HTMLModel",
       "_view_count": null,
       "_view_module": "@jupyter-widgets/controls",
       "_view_module_version": "2.0.0",
       "_view_name": "HTMLView",
       "description": "",
       "description_allow_html": false,
       "layout": "IPY_MODEL_929937f44a804dcf9d70d12eda855a5f",
       "placeholder": "​",
       "style": "IPY_MODEL_f323aa37a86d4cbfb8583723e1da5466",
       "tabbable": null,
       "tooltip": null,
       "value": " 4370/4370 [00:00&lt;00:00, 63319.54 examples/s]"
      }
     },
     "e3393262ceae43e280ff561e12b2c2d4": {
      "model_module": "@jupyter-widgets/base",
      "model_module_version": "2.0.0",
      "model_name": "LayoutModel",
      "state": {
       "_model_module": "@jupyter-widgets/base",
       "_model_module_version": "2.0.0",
       "_model_name": "LayoutModel",
       "_view_count": null,
       "_view_module": "@jupyter-widgets/base",
       "_view_module_version": "2.0.0",
       "_view_name": "LayoutView",
       "align_content": null,
       "align_items": null,
       "align_self": null,
       "border_bottom": null,
       "border_left": null,
       "border_right": null,
       "border_top": null,
       "bottom": null,
       "display": null,
       "flex": null,
       "flex_flow": null,
       "grid_area": null,
       "grid_auto_columns": null,
       "grid_auto_flow": null,
       "grid_auto_rows": null,
       "grid_column": null,
       "grid_gap": null,
       "grid_row": null,
       "grid_template_areas": null,
       "grid_template_columns": null,
       "grid_template_rows": null,
       "height": null,
       "justify_content": null,
       "justify_items": null,
       "left": null,
       "margin": null,
       "max_height": null,
       "max_width": null,
       "min_height": null,
       "min_width": null,
       "object_fit": null,
       "object_position": null,
       "order": null,
       "overflow": null,
       "padding": null,
       "right": null,
       "top": null,
       "visibility": null,
       "width": null
      }
     },
     "e87e31e6f6474572bc437da6341bbe2e": {
      "model_module": "@jupyter-widgets/base",
      "model_module_version": "2.0.0",
      "model_name": "LayoutModel",
      "state": {
       "_model_module": "@jupyter-widgets/base",
       "_model_module_version": "2.0.0",
       "_model_name": "LayoutModel",
       "_view_count": null,
       "_view_module": "@jupyter-widgets/base",
       "_view_module_version": "2.0.0",
       "_view_name": "LayoutView",
       "align_content": null,
       "align_items": null,
       "align_self": null,
       "border_bottom": null,
       "border_left": null,
       "border_right": null,
       "border_top": null,
       "bottom": null,
       "display": null,
       "flex": null,
       "flex_flow": null,
       "grid_area": null,
       "grid_auto_columns": null,
       "grid_auto_flow": null,
       "grid_auto_rows": null,
       "grid_column": null,
       "grid_gap": null,
       "grid_row": null,
       "grid_template_areas": null,
       "grid_template_columns": null,
       "grid_template_rows": null,
       "height": null,
       "justify_content": null,
       "justify_items": null,
       "left": null,
       "margin": null,
       "max_height": null,
       "max_width": null,
       "min_height": null,
       "min_width": null,
       "object_fit": null,
       "object_position": null,
       "order": null,
       "overflow": null,
       "padding": null,
       "right": null,
       "top": null,
       "visibility": null,
       "width": null
      }
     },
     "ef517942618c412fbf8b0241ae95b77e": {
      "model_module": "@jupyter-widgets/controls",
      "model_module_version": "2.0.0",
      "model_name": "HTMLStyleModel",
      "state": {
       "_model_module": "@jupyter-widgets/controls",
       "_model_module_version": "2.0.0",
       "_model_name": "HTMLStyleModel",
       "_view_count": null,
       "_view_module": "@jupyter-widgets/base",
       "_view_module_version": "2.0.0",
       "_view_name": "StyleView",
       "background": null,
       "description_width": "",
       "font_size": null,
       "text_color": null
      }
     },
     "f10722cd7ad0402b87893846c235b226": {
      "model_module": "@jupyter-widgets/controls",
      "model_module_version": "2.0.0",
      "model_name": "ProgressStyleModel",
      "state": {
       "_model_module": "@jupyter-widgets/controls",
       "_model_module_version": "2.0.0",
       "_model_name": "ProgressStyleModel",
       "_view_count": null,
       "_view_module": "@jupyter-widgets/base",
       "_view_module_version": "2.0.0",
       "_view_name": "StyleView",
       "bar_color": null,
       "description_width": ""
      }
     },
     "f2172117728546e788dbadcc68b7cc4d": {
      "model_module": "@jupyter-widgets/base",
      "model_module_version": "2.0.0",
      "model_name": "LayoutModel",
      "state": {
       "_model_module": "@jupyter-widgets/base",
       "_model_module_version": "2.0.0",
       "_model_name": "LayoutModel",
       "_view_count": null,
       "_view_module": "@jupyter-widgets/base",
       "_view_module_version": "2.0.0",
       "_view_name": "LayoutView",
       "align_content": null,
       "align_items": null,
       "align_self": null,
       "border_bottom": null,
       "border_left": null,
       "border_right": null,
       "border_top": null,
       "bottom": null,
       "display": null,
       "flex": null,
       "flex_flow": null,
       "grid_area": null,
       "grid_auto_columns": null,
       "grid_auto_flow": null,
       "grid_auto_rows": null,
       "grid_column": null,
       "grid_gap": null,
       "grid_row": null,
       "grid_template_areas": null,
       "grid_template_columns": null,
       "grid_template_rows": null,
       "height": null,
       "justify_content": null,
       "justify_items": null,
       "left": null,
       "margin": null,
       "max_height": null,
       "max_width": null,
       "min_height": null,
       "min_width": null,
       "object_fit": null,
       "object_position": null,
       "order": null,
       "overflow": null,
       "padding": null,
       "right": null,
       "top": null,
       "visibility": null,
       "width": null
      }
     },
     "f323aa37a86d4cbfb8583723e1da5466": {
      "model_module": "@jupyter-widgets/controls",
      "model_module_version": "2.0.0",
      "model_name": "HTMLStyleModel",
      "state": {
       "_model_module": "@jupyter-widgets/controls",
       "_model_module_version": "2.0.0",
       "_model_name": "HTMLStyleModel",
       "_view_count": null,
       "_view_module": "@jupyter-widgets/base",
       "_view_module_version": "2.0.0",
       "_view_name": "StyleView",
       "background": null,
       "description_width": "",
       "font_size": null,
       "text_color": null
      }
     },
     "f465e8d6562a45a7a2a705fcf0e1e030": {
      "model_module": "@jupyter-widgets/base",
      "model_module_version": "2.0.0",
      "model_name": "LayoutModel",
      "state": {
       "_model_module": "@jupyter-widgets/base",
       "_model_module_version": "2.0.0",
       "_model_name": "LayoutModel",
       "_view_count": null,
       "_view_module": "@jupyter-widgets/base",
       "_view_module_version": "2.0.0",
       "_view_name": "LayoutView",
       "align_content": null,
       "align_items": null,
       "align_self": null,
       "border_bottom": null,
       "border_left": null,
       "border_right": null,
       "border_top": null,
       "bottom": null,
       "display": null,
       "flex": null,
       "flex_flow": null,
       "grid_area": null,
       "grid_auto_columns": null,
       "grid_auto_flow": null,
       "grid_auto_rows": null,
       "grid_column": null,
       "grid_gap": null,
       "grid_row": null,
       "grid_template_areas": null,
       "grid_template_columns": null,
       "grid_template_rows": null,
       "height": null,
       "justify_content": null,
       "justify_items": null,
       "left": null,
       "margin": null,
       "max_height": null,
       "max_width": null,
       "min_height": null,
       "min_width": null,
       "object_fit": null,
       "object_position": null,
       "order": null,
       "overflow": null,
       "padding": null,
       "right": null,
       "top": null,
       "visibility": null,
       "width": null
      }
     },
     "f69cd887cbac48728cc47c39473d7b48": {
      "model_module": "@jupyter-widgets/controls",
      "model_module_version": "2.0.0",
      "model_name": "FloatProgressModel",
      "state": {
       "_dom_classes": [],
       "_model_module": "@jupyter-widgets/controls",
       "_model_module_version": "2.0.0",
       "_model_name": "FloatProgressModel",
       "_view_count": null,
       "_view_module": "@jupyter-widgets/controls",
       "_view_module_version": "2.0.0",
       "_view_name": "ProgressView",
       "bar_style": "success",
       "description": "",
       "description_allow_html": false,
       "layout": "IPY_MODEL_dbc380dd07bf4a0ea67a282234fe5dbb",
       "max": 1460,
       "min": 0,
       "orientation": "horizontal",
       "style": "IPY_MODEL_6ae85b08be004987aef3d8e8131c043d",
       "tabbable": null,
       "tooltip": null,
       "value": 1460
      }
     },
     "fbe7228fe4fe462eb8aac2e0af7c682a": {
      "model_module": "@jupyter-widgets/controls",
      "model_module_version": "2.0.0",
      "model_name": "HTMLModel",
      "state": {
       "_dom_classes": [],
       "_model_module": "@jupyter-widgets/controls",
       "_model_module_version": "2.0.0",
       "_model_name": "HTMLModel",
       "_view_count": null,
       "_view_module": "@jupyter-widgets/controls",
       "_view_module_version": "2.0.0",
       "_view_name": "HTMLView",
       "description": "",
       "description_allow_html": false,
       "layout": "IPY_MODEL_634f96fe62774c0ebd6a473f6c611f5f",
       "placeholder": "​",
       "style": "IPY_MODEL_0ca02b924ea64ae68180176b0e0f0acd",
       "tabbable": null,
       "tooltip": null,
       "value": " 2910/2910 [00:04&lt;00:00, 761.43 examples/s]"
      }
     }
    },
    "version_major": 2,
    "version_minor": 0
   }
  }
 },
 "nbformat": 4,
 "nbformat_minor": 0
}
