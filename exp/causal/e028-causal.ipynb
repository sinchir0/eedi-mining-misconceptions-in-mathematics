{
 "cells": [
  {
   "cell_type": "markdown",
   "metadata": {
    "id": "fzT66iezisGu"
   },
   "source": [
    "# 目的\n",
    "- Qwen2.5-32B-Instruct-AWQをSFTTrainerする\n",
    "- apply_templateを使う。\n",
    "\n",
    "ref:\n",
    "- https://qwen.readthedocs.io/en/v1.5/training/SFT/example.html\n",
    "- https://huggingface.co/docs/trl/v0.12.0/en/sft_trainer#trl.SFTTrainer\n",
    "\n",
    "ref(old):\n",
    "- https://github.com/unslothai/unsloth\n",
    "- https://colab.research.google.com/drive/1vIrqH5uYDQwsJ4-OO3DErvuv4pBgVwk4?usp=sharing#scrollTo=6bZsfBuZDeCL\n",
    "- https://huggingface.co/blog/mlabonne/sft-llama3\n",
    "- https://huggingface.co/docs/trl/sft_trainer#accelerate-fine-tuning-2x-using-unsloth"
   ]
  },
  {
   "cell_type": "code",
   "execution_count": 1,
   "metadata": {
    "execution": {
     "iopub.execute_input": "2024-11-03T09:59:02.652018Z",
     "iopub.status.busy": "2024-11-03T09:59:02.651622Z",
     "iopub.status.idle": "2024-11-03T09:59:02.662738Z",
     "shell.execute_reply": "2024-11-03T09:59:02.662213Z"
    },
    "id": "v7YkHHYsisGw",
    "tags": []
   },
   "outputs": [],
   "source": [
    "# path setting\n",
    "EXP_NAME = \"e028-causal\"\n",
    "MODEL_NAME = \"Qwen/Qwen2.5-32B-Instruct-AWQ\"\n",
    "\n",
    "COMPETITION_NAME = \"eedi-mining-misconceptions-in-mathematics\"\n",
    "\n",
    "DATA_PATH = \"data\"\n",
    "DATASET_NAME = f\"{EXP_NAME}-{MODEL_NAME.split('/')[-1].replace('.', '-')}\"\n",
    "OUTPUT_PATH = f\"output/causal/{EXP_NAME}\"\n",
    "MODEL_OUTPUT_PATH = f\"{OUTPUT_PATH}/trained_model\"\n",
    "ENV_PATH = \"env_file\"\n",
    "\n",
    "# experiment parameter\n",
    "DEBUG = False\n",
    "TRAINING = False\n",
    "UPLOAD_DATA_TO_S3 = True\n",
    "UPLOAD_DATA_TO_KAGGLE = True\n",
    "REMOVE_LOCAL_FILE = False\n",
    "WANDB = True\n",
    "\n",
    "# USE_FOLD = 0\n",
    "# USE_DATA_RATE = 1.0\n",
    "# VALID_DATA_SIZE = 3000\n",
    "\n",
    "# model parameter\n",
    "TRAINING_MAX_LENGTH = 512\n",
    "SEED = 42\n",
    "EPOCH = 5\n",
    "LR = 2e-04\n",
    "TRAIN_BS = 1  # 2  # 4  # 16\n",
    "GRAD_ACC_STEP = 128 // TRAIN_BS  # 仮想的なバッチサイズはTRAIN_BS * GRAD_ACC_STEPとなる\n",
    "EVAL_BS = 1  # 2  # 4  # 16\n",
    "# NUM_LABELS = 3\n",
    "\n",
    "FREEZE_LAYERS = 16\n",
    "\n",
    "# rola parameter\n",
    "LORA_R = 16\n",
    "LORA_ALPHA = LORA_R * 2\n",
    "LORA_BIAS = \"none\"\n",
    "\n",
    "RESUME_FROM_CHECKPOINT = False  # 途中から再開する場合はTrueにする"
   ]
  },
  {
   "cell_type": "code",
   "execution_count": 2,
   "metadata": {
    "colab": {
     "base_uri": "https://localhost:8080/"
    },
    "execution": {
     "iopub.execute_input": "2024-11-03T09:59:02.664350Z",
     "iopub.status.busy": "2024-11-03T09:59:02.664241Z",
     "iopub.status.idle": "2024-11-03T09:59:03.063127Z",
     "shell.execute_reply": "2024-11-03T09:59:03.062302Z"
    },
    "id": "k-1rTdTmisGy",
    "outputId": "325e68ee-4d23-4a14-ff44-df1acc833ad3",
    "tags": []
   },
   "outputs": [
    {
     "name": "stdout",
     "output_type": "stream",
     "text": [
      "Mon Nov  4 01:10:04 2024       \n",
      "+-----------------------------------------------------------------------------------------+\n",
      "| NVIDIA-SMI 550.107.02             Driver Version: 550.107.02     CUDA Version: 12.4     |\n",
      "|-----------------------------------------+------------------------+----------------------+\n",
      "| GPU  Name                 Persistence-M | Bus-Id          Disp.A | Volatile Uncorr. ECC |\n",
      "| Fan  Temp   Perf          Pwr:Usage/Cap |           Memory-Usage | GPU-Util  Compute M. |\n",
      "|                                         |                        |               MIG M. |\n",
      "|=========================================+========================+======================|\n",
      "|   0  NVIDIA GeForce RTX 3090        On  |   00000000:0B:00.0 Off |                  N/A |\n",
      "|  0%   46C    P8             20W /  315W |       2MiB /  24576MiB |      0%      Default |\n",
      "|                                         |                        |                  N/A |\n",
      "+-----------------------------------------+------------------------+----------------------+\n",
      "                                                                                         \n",
      "+-----------------------------------------------------------------------------------------+\n",
      "| Processes:                                                                              |\n",
      "|  GPU   GI   CI        PID   Type   Process name                              GPU Memory |\n",
      "|        ID   ID                                                               Usage      |\n",
      "|=========================================================================================|\n",
      "|  No running processes found                                                             |\n",
      "+-----------------------------------------------------------------------------------------+\n"
     ]
    }
   ],
   "source": [
    "!nvidia-smi"
   ]
  },
  {
   "cell_type": "code",
   "execution_count": 3,
   "metadata": {
    "colab": {
     "base_uri": "https://localhost:8080/"
    },
    "execution": {
     "iopub.execute_input": "2024-11-03T09:59:03.065688Z",
     "iopub.status.busy": "2024-11-03T09:59:03.065368Z",
     "iopub.status.idle": "2024-11-03T09:59:03.388026Z",
     "shell.execute_reply": "2024-11-03T09:59:03.387196Z"
    },
    "id": "xdIcXQzqisGz",
    "outputId": "9de0ed12-bdfb-4fb2-c5b1-c6114afff122",
    "tags": []
   },
   "outputs": [
    {
     "name": "stdout",
     "output_type": "stream",
     "text": [
      "Python 3.10.14\n"
     ]
    }
   ],
   "source": [
    "!python --version"
   ]
  },
  {
   "cell_type": "code",
   "execution_count": 4,
   "metadata": {
    "colab": {
     "base_uri": "https://localhost:8080/"
    },
    "execution": {
     "iopub.execute_input": "2024-11-03T09:59:03.390692Z",
     "iopub.status.busy": "2024-11-03T09:59:03.390373Z",
     "iopub.status.idle": "2024-11-03T09:59:03.398133Z",
     "shell.execute_reply": "2024-11-03T09:59:03.397704Z"
    },
    "id": "YeHMykyGisG0",
    "outputId": "7c447bf6-7758-40eb-aaee-4b35037d5567",
    "tags": []
   },
   "outputs": [
    {
     "name": "stdout",
     "output_type": "stream",
     "text": [
      "/root/eedi-mining-misconceptions-in-mathematics/exp/causal\n",
      "VastAi! Causal\n",
      "../../data\n",
      "/root/eedi-mining-misconceptions-in-mathematics/exp/causal\n",
      "VastAi! Causal\n",
      "../../output/causal/e028-causal\n",
      "/root/eedi-mining-misconceptions-in-mathematics/exp/causal\n",
      "VastAi! Causal\n",
      "../../output/causal/e028-causal/trained_model\n",
      "/root/eedi-mining-misconceptions-in-mathematics/exp/causal\n",
      "VastAi! Causal\n",
      "../../env_file\n"
     ]
    }
   ],
   "source": [
    "def resolve_path(base_path: str) -> str:\n",
    "    import os\n",
    "\n",
    "    cwd = os.getcwd()\n",
    "    print(cwd)\n",
    "    if cwd == f\"/notebooks\":\n",
    "        print(\"Jupyter Kernel By VSCode!\")\n",
    "        return f\"/notebooks/{COMPETITION_NAME}/{base_path}\"\n",
    "    elif cwd == f\"/notebooks/{COMPETITION_NAME}\":\n",
    "        print(\"nohup!\")\n",
    "        return base_path\n",
    "    elif cwd == f\"/notebooks/{COMPETITION_NAME}/{COMPETITION_NAME}/exp\":\n",
    "        print(\"Jupyter Lab!\")\n",
    "        return f\"../../{base_path}\"\n",
    "    elif cwd == f\"/root/{COMPETITION_NAME}/exp/reranker\":\n",
    "        print(\"VastAi! Reranker\")\n",
    "        return f\"../../{base_path}\"\n",
    "    elif cwd == f\"/root/{COMPETITION_NAME}/exp/retriever\":\n",
    "        print(\"VastAi! Retriever\")\n",
    "        return f\"../../{base_path}\"\n",
    "    elif cwd == f\"/root/{COMPETITION_NAME}/exp/causal\":\n",
    "        print(\"VastAi! Causal\")\n",
    "        return f\"../../{base_path}\"\n",
    "    elif cwd == f\"/root/{COMPETITION_NAME}\":\n",
    "        print(\"VastAi!\")\n",
    "        return base_path\n",
    "    else:\n",
    "        raise Exception(\"Unknown environment\")\n",
    "\n",
    "\n",
    "DATA_PATH = resolve_path(DATA_PATH)\n",
    "print(DATA_PATH)\n",
    "OUTPUT_PATH = resolve_path(OUTPUT_PATH)\n",
    "print(OUTPUT_PATH)\n",
    "MODEL_OUTPUT_PATH = resolve_path(MODEL_OUTPUT_PATH)\n",
    "print(MODEL_OUTPUT_PATH)\n",
    "ENV_PATH = resolve_path(ENV_PATH)\n",
    "print(ENV_PATH)"
   ]
  },
  {
   "cell_type": "code",
   "execution_count": 5,
   "metadata": {
    "autoscroll": "auto",
    "collapsed": false,
    "execution": {
     "iopub.execute_input": "2024-11-03T09:59:03.399899Z",
     "iopub.status.busy": "2024-11-03T09:59:03.399788Z",
     "iopub.status.idle": "2024-11-03T09:59:03.402701Z",
     "shell.execute_reply": "2024-11-03T09:59:03.402272Z"
    },
    "id": "E78wS3ypisG0",
    "tags": []
   },
   "outputs": [],
   "source": [
    "def validate_dataset_name(dataset_name: str) -> None:\n",
    "    if len(dataset_name) < 6 or len(dataset_name) > 50:\n",
    "        raise Exception(\n",
    "            f\"データセットの文字列は6~50文字にしてください。現在{len(DATASET_NAME)}文字\"\n",
    "        )\n",
    "    if \"_\" in dataset_name or \".\" in dataset_name:\n",
    "        raise Exception(\"datasetの名称に'_'、'.'の使用は禁止です\")\n",
    "\n",
    "\n",
    "validate_dataset_name(DATASET_NAME)"
   ]
  },
  {
   "cell_type": "markdown",
   "metadata": {
    "id": "j3uVqXs-isG1"
   },
   "source": [
    "# import"
   ]
  },
  {
   "cell_type": "code",
   "execution_count": 6,
   "metadata": {
    "autoscroll": "auto",
    "collapsed": false,
    "execution": {
     "iopub.execute_input": "2024-11-03T09:59:03.404844Z",
     "iopub.status.busy": "2024-11-03T09:59:03.404671Z",
     "iopub.status.idle": "2024-11-03T09:59:06.739285Z",
     "shell.execute_reply": "2024-11-03T09:59:06.738684Z"
    }
   },
   "outputs": [],
   "source": [
    "import os\n",
    "import random\n",
    "\n",
    "import polars as pl\n",
    "import numpy as np\n",
    "\n",
    "import wandb\n",
    "\n",
    "import torch\n",
    "from datasets import Dataset\n",
    "from transformers import TrainingArguments, AutoModelForCausalLM, AutoTokenizer\n",
    "\n",
    "from peft import LoraConfig\n",
    "from trl import SFTConfig, SFTTrainer\n",
    "# from unsloth import FastLanguageModel, is_bfloat16_supported"
   ]
  },
  {
   "cell_type": "code",
   "execution_count": 7,
   "metadata": {
    "execution": {
     "iopub.execute_input": "2024-11-03T09:59:06.741392Z",
     "iopub.status.busy": "2024-11-03T09:59:06.740797Z",
     "iopub.status.idle": "2024-11-03T09:59:06.743927Z",
     "shell.execute_reply": "2024-11-03T09:59:06.743354Z"
    },
    "id": "fLkGFO2PisG1",
    "tags": []
   },
   "outputs": [],
   "source": [
    "os.environ[\"TOKENIZERS_PARALLELISM\"] = \"true\"\n",
    "NUM_PROC = 16  # os.cpu_count()"
   ]
  },
  {
   "cell_type": "code",
   "execution_count": 8,
   "metadata": {
    "autoscroll": "auto",
    "collapsed": false,
    "execution": {
     "iopub.execute_input": "2024-11-03T09:59:06.746022Z",
     "iopub.status.busy": "2024-11-03T09:59:06.745630Z",
     "iopub.status.idle": "2024-11-03T09:59:06.749473Z",
     "shell.execute_reply": "2024-11-03T09:59:06.748936Z"
    }
   },
   "outputs": [],
   "source": [
    "# import importlib.metadata\n",
    "\n",
    "import torch\n",
    "import transformers\n",
    "import datasets\n",
    "import trl\n",
    "import peft\n",
    "\n",
    "\n",
    "assert torch.__version__ == \"2.3.1+cu121\"\n",
    "assert transformers.__version__ == \"4.44.2\"\n",
    "# assert transformers.__version__ == \"4.46.1\" # unslothがimportできない\n",
    "assert datasets.__version__ == \"3.0.0\"\n",
    "assert trl.__version__ == \"0.11.4\"\n",
    "# assert importlib.metadata.version(\"unsloth\") == \"2024.10.2\"\n",
    "assert peft.__version__ == \"0.13.2\""
   ]
  },
  {
   "cell_type": "code",
   "execution_count": 9,
   "metadata": {
    "execution": {
     "iopub.execute_input": "2024-11-03T09:59:06.751327Z",
     "iopub.status.busy": "2024-11-03T09:59:06.750952Z",
     "iopub.status.idle": "2024-11-03T09:59:06.756248Z",
     "shell.execute_reply": "2024-11-03T09:59:06.755707Z"
    },
    "id": "o3ZVc72wisG2",
    "tags": []
   },
   "outputs": [],
   "source": [
    "# Seed the same seed to all\n",
    "def seed_everything(seed: int):\n",
    "    random.seed(seed)\n",
    "    os.environ[\"PYTHONHASHSEED\"] = str(seed)\n",
    "    np.random.seed(seed)\n",
    "    torch.manual_seed(seed)\n",
    "    torch.cuda.manual_seed(seed)\n",
    "    torch.backends.cudnn.deterministic = True\n",
    "    torch.backends.cudnn.benchmark = True\n",
    "\n",
    "\n",
    "seed_everything(SEED)"
   ]
  },
  {
   "cell_type": "code",
   "execution_count": 10,
   "metadata": {
    "autoscroll": "auto",
    "colab": {
     "base_uri": "https://localhost:8080/"
    },
    "collapsed": false,
    "execution": {
     "iopub.execute_input": "2024-11-03T09:59:06.758091Z",
     "iopub.status.busy": "2024-11-03T09:59:06.757783Z",
     "iopub.status.idle": "2024-11-03T09:59:06.765810Z",
     "shell.execute_reply": "2024-11-03T09:59:06.765335Z"
    },
    "id": "8-7WkHGUisG2",
    "jupyter": {
     "outputs_hidden": false
    },
    "outputId": "e8711fa2-cd7f-4291-e280-0915341f5efc",
    "tags": []
   },
   "outputs": [
    {
     "data": {
      "text/plain": [
       "True"
      ]
     },
     "execution_count": 10,
     "metadata": {},
     "output_type": "execute_result"
    }
   ],
   "source": [
    "from dotenv import load_dotenv\n",
    "\n",
    "load_dotenv(f\"{ENV_PATH}/.env\")"
   ]
  },
  {
   "cell_type": "markdown",
   "metadata": {
    "id": "ohXfhbqXisG2"
   },
   "source": [
    "# Wandb"
   ]
  },
  {
   "cell_type": "code",
   "execution_count": 11,
   "metadata": {
    "autoscroll": "auto",
    "colab": {
     "base_uri": "https://localhost:8080/",
     "height": 197
    },
    "collapsed": false,
    "execution": {
     "iopub.execute_input": "2024-11-03T09:59:06.799227Z",
     "iopub.status.busy": "2024-11-03T09:59:06.798695Z",
     "iopub.status.idle": "2024-11-03T09:59:07.799070Z",
     "shell.execute_reply": "2024-11-03T09:59:07.798566Z"
    },
    "id": "KGR9aE2YisG2",
    "jupyter": {
     "outputs_hidden": false
    },
    "outputId": "95031754-538e-4af9-efc0-dec4d85afaf1"
   },
   "outputs": [
    {
     "name": "stderr",
     "output_type": "stream",
     "text": [
      "Failed to detect the name of this notebook, you can set it manually with the WANDB_NOTEBOOK_NAME environment variable to enable code saving.\n",
      "\u001b[34m\u001b[1mwandb\u001b[0m: Using wandb-core as the SDK backend. Please refer to https://wandb.me/wandb-core for more information.\n"
     ]
    },
    {
     "name": "stderr",
     "output_type": "stream",
     "text": [
      "\u001b[34m\u001b[1mwandb\u001b[0m: Currently logged in as: \u001b[33msinchir0\u001b[0m. Use \u001b[1m`wandb login --relogin`\u001b[0m to force relogin\n",
      "\u001b[34m\u001b[1mwandb\u001b[0m: \u001b[33mWARNING\u001b[0m If you're specifying your api key in code, ensure this code is not shared publicly.\n",
      "\u001b[34m\u001b[1mwandb\u001b[0m: \u001b[33mWARNING\u001b[0m Consider setting the WANDB_API_KEY environment variable, or running `wandb login` from the command line.\n",
      "\u001b[34m\u001b[1mwandb\u001b[0m: Appending key for api.wandb.ai to your netrc file: /root/.netrc\n"
     ]
    },
    {
     "data": {
      "application/vnd.jupyter.widget-view+json": {
       "model_id": "8b60d548c21b4f6c844260a93573b807",
       "version_major": 2,
       "version_minor": 0
      },
      "text/plain": [
       "VBox(children=(Label(value='Waiting for wandb.init()...\\r'), FloatProgress(value=0.011112779788931625, max=1.0…"
      ]
     },
     "metadata": {},
     "output_type": "display_data"
    },
    {
     "data": {
      "text/html": [
       "Tracking run with wandb version 0.18.0"
      ],
      "text/plain": [
       "<IPython.core.display.HTML object>"
      ]
     },
     "metadata": {},
     "output_type": "display_data"
    },
    {
     "data": {
      "text/html": [
       "Run data is saved locally in <code>/root/eedi-mining-misconceptions-in-mathematics/exp/causal/wandb/run-20241104_011008-v5he92wl</code>"
      ],
      "text/plain": [
       "<IPython.core.display.HTML object>"
      ]
     },
     "metadata": {},
     "output_type": "display_data"
    },
    {
     "data": {
      "text/html": [
       "Syncing run <strong><a href='https://wandb.ai/sinchir0/eedi-mining-misconceptions-in-mathematics/runs/v5he92wl' target=\"_blank\">e028-causal</a></strong> to <a href='https://wandb.ai/sinchir0/eedi-mining-misconceptions-in-mathematics' target=\"_blank\">Weights & Biases</a> (<a href='https://wandb.me/run' target=\"_blank\">docs</a>)<br/>"
      ],
      "text/plain": [
       "<IPython.core.display.HTML object>"
      ]
     },
     "metadata": {},
     "output_type": "display_data"
    },
    {
     "data": {
      "text/html": [
       " View project at <a href='https://wandb.ai/sinchir0/eedi-mining-misconceptions-in-mathematics' target=\"_blank\">https://wandb.ai/sinchir0/eedi-mining-misconceptions-in-mathematics</a>"
      ],
      "text/plain": [
       "<IPython.core.display.HTML object>"
      ]
     },
     "metadata": {},
     "output_type": "display_data"
    },
    {
     "data": {
      "text/html": [
       " View run at <a href='https://wandb.ai/sinchir0/eedi-mining-misconceptions-in-mathematics/runs/v5he92wl' target=\"_blank\">https://wandb.ai/sinchir0/eedi-mining-misconceptions-in-mathematics/runs/v5he92wl</a>"
      ],
      "text/plain": [
       "<IPython.core.display.HTML object>"
      ]
     },
     "metadata": {},
     "output_type": "display_data"
    },
    {
     "data": {
      "text/plain": [
       "'wandb'"
      ]
     },
     "execution_count": 11,
     "metadata": {},
     "output_type": "execute_result"
    }
   ],
   "source": [
    "if WANDB:\n",
    "    wandb.login(key=os.environ[\"WANDB_API_KEY\"])\n",
    "    wandb.init(project=COMPETITION_NAME, name=EXP_NAME)\n",
    "    REPORT_TO = \"wandb\"\n",
    "else:\n",
    "    REPORT_TO = \"none\"\n",
    "\n",
    "REPORT_TO"
   ]
  },
  {
   "cell_type": "markdown",
   "metadata": {},
   "source": [
    "# Model Tokenizer Load"
   ]
  },
  {
   "cell_type": "code",
   "execution_count": 12,
   "metadata": {
    "execution": {
     "iopub.execute_input": "2024-11-03T09:59:07.800900Z",
     "iopub.status.busy": "2024-11-03T09:59:07.800776Z",
     "iopub.status.idle": "2024-11-03T09:59:08.133718Z",
     "shell.execute_reply": "2024-11-03T09:59:08.133116Z"
    }
   },
   "outputs": [],
   "source": [
    "tokenizer = AutoTokenizer.from_pretrained(\n",
    "    MODEL_NAME,\n",
    "    padding_side=\"right\",\n",
    "    use_fast=False,\n",
    ")"
   ]
  },
  {
   "cell_type": "code",
   "execution_count": 13,
   "metadata": {
    "autoscroll": "auto",
    "collapsed": false,
    "execution": {
     "iopub.execute_input": "2024-11-03T09:59:08.135755Z",
     "iopub.status.busy": "2024-11-03T09:59:08.135626Z",
     "iopub.status.idle": "2024-11-03T09:59:08.138488Z",
     "shell.execute_reply": "2024-11-03T09:59:08.137889Z"
    }
   },
   "outputs": [],
   "source": [
    "# model, tokenizer = FastLanguageModel.from_pretrained(\n",
    "#     model_name=MODEL_NAME,\n",
    "#     max_seq_length=TRAINING_MAX_LENGTH,\n",
    "#     dtype=None,  # 学習のタイミングでRuntimeError: Expected out tensor to have dtype c10::Half, but got float insteadと出てしまう\n",
    "#     # dtype=torch.float16,\n",
    "#     # load_in_4bit=True,\n",
    "# )"
   ]
  },
  {
   "cell_type": "code",
   "execution_count": 14,
   "metadata": {
    "execution": {
     "iopub.execute_input": "2024-11-03T09:59:08.140640Z",
     "iopub.status.busy": "2024-11-03T09:59:08.140456Z",
     "iopub.status.idle": "2024-11-03T09:59:08.142973Z",
     "shell.execute_reply": "2024-11-03T09:59:08.142489Z"
    }
   },
   "outputs": [],
   "source": [
    "# https://www.kaggle.com/code/kishanvavdara/lmsys-llama-3-tpu-train\n",
    "# tokenizer.padding_side = \"right\""
   ]
  },
  {
   "cell_type": "markdown",
   "metadata": {
    "id": "xxyhkSG4isG2"
   },
   "source": [
    "# Data Import & Preprocess"
   ]
  },
  {
   "cell_type": "code",
   "execution_count": 15,
   "metadata": {
    "execution": {
     "iopub.execute_input": "2024-11-03T09:59:08.145421Z",
     "iopub.status.busy": "2024-11-03T09:59:08.145019Z",
     "iopub.status.idle": "2024-11-03T09:59:08.177885Z",
     "shell.execute_reply": "2024-11-03T09:59:08.177405Z"
    },
    "id": "JlTiKm6TisG2"
   },
   "outputs": [],
   "source": [
    "train_long = pl.read_csv(f\"{DATA_PATH}/train_long.csv\").filter(\n",
    "    (pl.col(\"CorrectAnswer\") != pl.col(\"AnswerAlphabet\"))\n",
    "    & (pl.col(\"MisconceptionId\").is_not_null())\n",
    ")"
   ]
  },
  {
   "cell_type": "code",
   "execution_count": 16,
   "metadata": {
    "execution": {
     "iopub.execute_input": "2024-11-03T09:59:08.179640Z",
     "iopub.status.busy": "2024-11-03T09:59:08.179515Z",
     "iopub.status.idle": "2024-11-03T09:59:08.181991Z",
     "shell.execute_reply": "2024-11-03T09:59:08.181541Z"
    },
    "id": "6nkbuZVjisG3"
   },
   "outputs": [],
   "source": [
    "if DEBUG:\n",
    "    train_long = train_long.head(100)"
   ]
  },
  {
   "cell_type": "code",
   "execution_count": 17,
   "metadata": {
    "autoscroll": "auto",
    "collapsed": false,
    "execution": {
     "iopub.execute_input": "2024-11-03T09:59:08.184060Z",
     "iopub.status.busy": "2024-11-03T09:59:08.183446Z",
     "iopub.status.idle": "2024-11-03T09:59:08.189858Z",
     "shell.execute_reply": "2024-11-03T09:59:08.189340Z"
    }
   },
   "outputs": [
    {
     "data": {
      "text/html": [
       "<div><style>\n",
       ".dataframe > thead > tr,\n",
       ".dataframe > tbody > tr {\n",
       "  text-align: right;\n",
       "  white-space: pre-wrap;\n",
       "}\n",
       "</style>\n",
       "<small>shape: (5, 13)</small><table border=\"1\" class=\"dataframe\"><thead><tr><th>QuestionId</th><th>ConstructName</th><th>SubjectName</th><th>QuestionText</th><th>CorrectAnswer</th><th>CorrectAnswerText</th><th>AnswerType</th><th>AnswerText</th><th>AllText</th><th>AnswerAlphabet</th><th>QuestionId_Answer</th><th>MisconceptionId</th><th>MisconceptionName</th></tr><tr><td>i64</td><td>str</td><td>str</td><td>str</td><td>str</td><td>str</td><td>str</td><td>str</td><td>str</td><td>str</td><td>str</td><td>i64</td><td>str</td></tr></thead><tbody><tr><td>0</td><td>&quot;Use the order of operations to…</td><td>&quot;BIDMAS&quot;</td><td>&quot;\\[\n",
       "3 \\times 2+4-5\n",
       "\\]\n",
       "Where do …</td><td>&quot;A&quot;</td><td>&quot;\\( 3 \\times(2+4)-5 \\)&quot;</td><td>&quot;AnswerDText&quot;</td><td>&quot;Does not need brackets&quot;</td><td>&quot;Use the order of operations to…</td><td>&quot;D&quot;</td><td>&quot;0_D&quot;</td><td>1672</td><td>&quot;Confuses the order of operatio…</td></tr><tr><td>1000</td><td>&quot;Simplify an algebraic fraction…</td><td>&quot;Simplifying Algebraic Fraction…</td><td>&quot;Simplify the following, if pos…</td><td>&quot;B&quot;</td><td>&quot;\\( -1 \\)&quot;</td><td>&quot;AnswerAText&quot;</td><td>&quot;\\( t \\)&quot;</td><td>&quot;Simplify an algebraic fraction…</td><td>&quot;A&quot;</td><td>&quot;1000_A&quot;</td><td>891</td><td>&quot;Incorrectly cancels what they …</td></tr><tr><td>1000</td><td>&quot;Simplify an algebraic fraction…</td><td>&quot;Simplifying Algebraic Fraction…</td><td>&quot;Simplify the following, if pos…</td><td>&quot;B&quot;</td><td>&quot;\\( -1 \\)&quot;</td><td>&quot;AnswerCText&quot;</td><td>&quot;\\( 1 \\)&quot;</td><td>&quot;Simplify an algebraic fraction…</td><td>&quot;C&quot;</td><td>&quot;1000_C&quot;</td><td>891</td><td>&quot;Incorrectly cancels what they …</td></tr><tr><td>1000</td><td>&quot;Simplify an algebraic fraction…</td><td>&quot;Simplifying Algebraic Fraction…</td><td>&quot;Simplify the following, if pos…</td><td>&quot;B&quot;</td><td>&quot;\\( -1 \\)&quot;</td><td>&quot;AnswerDText&quot;</td><td>&quot;Does not simplify&quot;</td><td>&quot;Simplify an algebraic fraction…</td><td>&quot;D&quot;</td><td>&quot;1000_D&quot;</td><td>353</td><td>&quot;Does not recognise when one pa…</td></tr><tr><td>1001</td><td>&quot;Round numbers to two decimal p…</td><td>&quot;Rounding to Decimal Places&quot;</td><td>&quot;What is \\( \\mathbf{3 . 5 1 6 3…</td><td>&quot;B&quot;</td><td>&quot;\\( 3.52 \\)&quot;</td><td>&quot;AnswerAText&quot;</td><td>&quot;\\( 3.51 \\)&quot;</td><td>&quot;Round numbers to two decimal p…</td><td>&quot;A&quot;</td><td>&quot;1001_A&quot;</td><td>1379</td><td>&quot;Rounds down instead of up&quot;</td></tr></tbody></table></div>"
      ],
      "text/plain": [
       "shape: (5, 13)\n",
       "┌───────────┬───────────┬───────────┬───────────┬───┬───────────┬───────────┬───────────┬──────────┐\n",
       "│ QuestionI ┆ Construct ┆ SubjectNa ┆ QuestionT ┆ … ┆ AnswerAlp ┆ QuestionI ┆ Misconcep ┆ Misconce │\n",
       "│ d         ┆ Name      ┆ me        ┆ ext       ┆   ┆ habet     ┆ d_Answer  ┆ tionId    ┆ ptionNam │\n",
       "│ ---       ┆ ---       ┆ ---       ┆ ---       ┆   ┆ ---       ┆ ---       ┆ ---       ┆ e        │\n",
       "│ i64       ┆ str       ┆ str       ┆ str       ┆   ┆ str       ┆ str       ┆ i64       ┆ ---      │\n",
       "│           ┆           ┆           ┆           ┆   ┆           ┆           ┆           ┆ str      │\n",
       "╞═══════════╪═══════════╪═══════════╪═══════════╪═══╪═══════════╪═══════════╪═══════════╪══════════╡\n",
       "│ 0         ┆ Use the   ┆ BIDMAS    ┆ \\[        ┆ … ┆ D         ┆ 0_D       ┆ 1672      ┆ Confuses │\n",
       "│           ┆ order of  ┆           ┆ 3 \\times  ┆   ┆           ┆           ┆           ┆ the      │\n",
       "│           ┆ operation ┆           ┆ 2+4-5     ┆   ┆           ┆           ┆           ┆ order of │\n",
       "│           ┆ s to…     ┆           ┆ \\]        ┆   ┆           ┆           ┆           ┆ operatio │\n",
       "│           ┆           ┆           ┆ Where do  ┆   ┆           ┆           ┆           ┆ …        │\n",
       "│           ┆           ┆           ┆ …         ┆   ┆           ┆           ┆           ┆          │\n",
       "│ 1000      ┆ Simplify  ┆ Simplifyi ┆ Simplify  ┆ … ┆ A         ┆ 1000_A    ┆ 891       ┆ Incorrec │\n",
       "│           ┆ an        ┆ ng        ┆ the follo ┆   ┆           ┆           ┆           ┆ tly      │\n",
       "│           ┆ algebraic ┆ Algebraic ┆ wing, if  ┆   ┆           ┆           ┆           ┆ cancels  │\n",
       "│           ┆ fraction… ┆ Fraction… ┆ pos…      ┆   ┆           ┆           ┆           ┆ what     │\n",
       "│           ┆           ┆           ┆           ┆   ┆           ┆           ┆           ┆ they …   │\n",
       "│ 1000      ┆ Simplify  ┆ Simplifyi ┆ Simplify  ┆ … ┆ C         ┆ 1000_C    ┆ 891       ┆ Incorrec │\n",
       "│           ┆ an        ┆ ng        ┆ the follo ┆   ┆           ┆           ┆           ┆ tly      │\n",
       "│           ┆ algebraic ┆ Algebraic ┆ wing, if  ┆   ┆           ┆           ┆           ┆ cancels  │\n",
       "│           ┆ fraction… ┆ Fraction… ┆ pos…      ┆   ┆           ┆           ┆           ┆ what     │\n",
       "│           ┆           ┆           ┆           ┆   ┆           ┆           ┆           ┆ they …   │\n",
       "│ 1000      ┆ Simplify  ┆ Simplifyi ┆ Simplify  ┆ … ┆ D         ┆ 1000_D    ┆ 353       ┆ Does not │\n",
       "│           ┆ an        ┆ ng        ┆ the follo ┆   ┆           ┆           ┆           ┆ recognis │\n",
       "│           ┆ algebraic ┆ Algebraic ┆ wing, if  ┆   ┆           ┆           ┆           ┆ e when   │\n",
       "│           ┆ fraction… ┆ Fraction… ┆ pos…      ┆   ┆           ┆           ┆           ┆ one pa…  │\n",
       "│ 1001      ┆ Round     ┆ Rounding  ┆ What is   ┆ … ┆ A         ┆ 1001_A    ┆ 1379      ┆ Rounds   │\n",
       "│           ┆ numbers   ┆ to        ┆ \\(        ┆   ┆           ┆           ┆           ┆ down     │\n",
       "│           ┆ to two    ┆ Decimal   ┆ \\mathbf{3 ┆   ┆           ┆           ┆           ┆ instead  │\n",
       "│           ┆ decimal   ┆ Places    ┆ . 5 1 6   ┆   ┆           ┆           ┆           ┆ of up    │\n",
       "│           ┆ p…        ┆           ┆ 3…        ┆   ┆           ┆           ┆           ┆          │\n",
       "└───────────┴───────────┴───────────┴───────────┴───┴───────────┴───────────┴───────────┴──────────┘"
      ]
     },
     "execution_count": 17,
     "metadata": {},
     "output_type": "execute_result"
    }
   ],
   "source": [
    "train_long.head()"
   ]
  },
  {
   "cell_type": "code",
   "execution_count": 18,
   "metadata": {
    "autoscroll": "auto",
    "collapsed": false,
    "execution": {
     "iopub.execute_input": "2024-11-03T09:59:08.191815Z",
     "iopub.status.busy": "2024-11-03T09:59:08.191470Z",
     "iopub.status.idle": "2024-11-03T09:59:11.303488Z",
     "shell.execute_reply": "2024-11-03T09:59:11.302670Z"
    }
   },
   "outputs": [
    {
     "data": {
      "application/vnd.jupyter.widget-view+json": {
       "model_id": "06445c3f1f4f45d09d097ad767b8654f",
       "version_major": 2,
       "version_minor": 0
      },
      "text/plain": [
       "Map:   0%|          | 0/4370 [00:00<?, ? examples/s]"
      ]
     },
     "metadata": {},
     "output_type": "display_data"
    }
   ],
   "source": [
    "QUESTION_TEMPLATE = \"\"\"Question: {question_text}\n",
    "Incorrect Answer: {incorrect_answer_text}\n",
    "Correct Answer: {correct_answer_text}\n",
    "Construct Name: {construct_name}\n",
    "Subject Name: {subject_name}\"\"\"\n",
    "\n",
    "\n",
    "class ApplyTemplateForTrain:\n",
    "    def make_masaages(self, question: str, answer: str) -> list[dict[str, str]]:\n",
    "        return [\n",
    "            {\n",
    "                \"role\": \"system\",\n",
    "                \"content\": \"You are a mathematics expert. You are given a mathematics question, an incorrect answer, a correct answer, a construct name, and a subject name. Using these, identify what misconception exists in the incorrect answer.\",\n",
    "            },\n",
    "            {\"role\": \"user\", \"content\": question},\n",
    "            {\"role\": \"assistant\", \"content\": answer},\n",
    "        ]\n",
    "\n",
    "    def apply_template(self, examples):\n",
    "        messages = []\n",
    "        for (\n",
    "            question_text,\n",
    "            incorrect_answer_text,\n",
    "            correct_answer_text,\n",
    "            construct_name,\n",
    "            subject_name,\n",
    "            misconception_name,\n",
    "        ) in zip(\n",
    "            examples[\"QuestionText\"],\n",
    "            examples[\"AnswerText\"],  # incorrect_answer_text\n",
    "            examples[\"CorrectAnswerText\"],\n",
    "            examples[\"ConstructName\"],\n",
    "            examples[\"SubjectName\"],\n",
    "            examples[\"MisconceptionName\"],\n",
    "        ):\n",
    "            message = self.make_masaages(\n",
    "                question=QUESTION_TEMPLATE.format(\n",
    "                    question_text=question_text,\n",
    "                    incorrect_answer_text=incorrect_answer_text,\n",
    "                    correct_answer_text=correct_answer_text,\n",
    "                    construct_name=construct_name,\n",
    "                    subject_name=subject_name,\n",
    "                ),\n",
    "                answer=misconception_name,\n",
    "            )\n",
    "            messages.append(message)\n",
    "\n",
    "        text = [\n",
    "            tokenizer.apply_chat_template(\n",
    "                message,\n",
    "                tokenize=False,\n",
    "                add_generation_prompt=False,\n",
    "            )\n",
    "            for message in messages\n",
    "        ]\n",
    "\n",
    "        return {\"text\": text}\n",
    "\n",
    "\n",
    "train = Dataset.from_polars(train_long).map(\n",
    "    ApplyTemplateForTrain().apply_template, batched=True\n",
    ")"
   ]
  },
  {
   "cell_type": "code",
   "execution_count": 19,
   "metadata": {
    "autoscroll": "auto",
    "collapsed": false,
    "execution": {
     "iopub.execute_input": "2024-11-03T09:59:11.306004Z",
     "iopub.status.busy": "2024-11-03T09:59:11.305757Z",
     "iopub.status.idle": "2024-11-03T09:59:11.310741Z",
     "shell.execute_reply": "2024-11-03T09:59:11.310053Z"
    }
   },
   "outputs": [
    {
     "name": "stdout",
     "output_type": "stream",
     "text": [
      "<|im_start|>system\n",
      "You are a mathematics expert. You are given a mathematics question, an incorrect answer, a correct answer, a construct name, and a subject name. Using these, identify what misconception exists in the incorrect answer.<|im_end|>\n",
      "<|im_start|>user\n",
      "Question: \\[\n",
      "3 \\times 2+4-5\n",
      "\\]\n",
      "Where do the brackets need to go to make the answer equal \\( 13 \\) ?\n",
      "Incorrect Answer: Does not need brackets\n",
      "Correct Answer: \\( 3 \\times(2+4)-5 \\)\n",
      "Construct Name: Use the order of operations to carry out calculations involving powers\n",
      "Subject Name: BIDMAS<|im_end|>\n",
      "<|im_start|>assistant\n",
      "Confuses the order of operations, believes addition comes before multiplication <|im_end|>\n",
      "\n"
     ]
    }
   ],
   "source": [
    "print(train[0][\"text\"])"
   ]
  },
  {
   "cell_type": "code",
   "execution_count": 20,
   "metadata": {
    "autoscroll": "auto",
    "collapsed": false,
    "execution": {
     "iopub.execute_input": "2024-11-03T09:59:11.312854Z",
     "iopub.status.busy": "2024-11-03T09:59:11.312669Z",
     "iopub.status.idle": "2024-11-03T09:59:11.316410Z",
     "shell.execute_reply": "2024-11-03T09:59:11.315837Z"
    }
   },
   "outputs": [
    {
     "name": "stdout",
     "output_type": "stream",
     "text": [
      "<|im_start|>system\n",
      "You are a mathematics expert. You are given a mathematics question, an incorrect answer, a correct answer, a construct name, and a subject name. Using these, identify what misconception exists in the incorrect answer.<|im_end|>\n",
      "<|im_start|>user\n",
      "Question: This pictogram shows the different types of music Bob has in his music collection.\n",
      "\n",
      "How many Blues CDs does Bob have? ![A pictogram showing the number of CDs Bob has in his musical collection. Pop has 3 and a half symbols, rock has 2 symbols, blues has 2 and a quarter symbols, jazz has 3 and a quarter symbols and classical has 1 and three-quarter symbols. Each symbol represents 4 CDs.]()\n",
      "Incorrect Answer: \\( 2.25 \\)\n",
      "Correct Answer: \\( 9 \\)\n",
      "Construct Name: Interpret a pictogram involving fractions of symbols\n",
      "Subject Name: Pictogram<|im_end|>\n",
      "<|im_start|>assistant\n",
      "When interpreting a pictogram, thinks each symbol stands for 1<|im_end|>\n",
      "\n"
     ]
    }
   ],
   "source": [
    "print(train[10][\"text\"])"
   ]
  },
  {
   "cell_type": "markdown",
   "metadata": {},
   "source": [
    "# Split Train Valid"
   ]
  },
  {
   "cell_type": "code",
   "execution_count": 21,
   "metadata": {
    "autoscroll": "auto",
    "collapsed": false,
    "execution": {
     "iopub.execute_input": "2024-11-03T09:59:11.318441Z",
     "iopub.status.busy": "2024-11-03T09:59:11.318087Z",
     "iopub.status.idle": "2024-11-03T09:59:13.192982Z",
     "shell.execute_reply": "2024-11-03T09:59:13.192438Z"
    }
   },
   "outputs": [
    {
     "name": "stderr",
     "output_type": "stream",
     "text": [
      "Setting TOKENIZERS_PARALLELISM=false for forked processes.\n"
     ]
    },
    {
     "data": {
      "application/vnd.jupyter.widget-view+json": {
       "model_id": "a371ef27dbbc4372a37869457ed0d60b",
       "version_major": 2,
       "version_minor": 0
      },
      "text/plain": [
       "Filter (num_proc=16):   0%|          | 0/4370 [00:00<?, ? examples/s]"
      ]
     },
     "metadata": {},
     "output_type": "display_data"
    },
    {
     "name": "stderr",
     "output_type": "stream",
     "text": [
      "Setting TOKENIZERS_PARALLELISM=false for forked processes.\n"
     ]
    },
    {
     "data": {
      "application/vnd.jupyter.widget-view+json": {
       "model_id": "ba8b19bc97ac4c3cb813bc70c3d96674",
       "version_major": 2,
       "version_minor": 0
      },
      "text/plain": [
       "Filter (num_proc=16):   0%|          | 0/4370 [00:00<?, ? examples/s]"
      ]
     },
     "metadata": {},
     "output_type": "display_data"
    }
   ],
   "source": [
    "train, valid = (\n",
    "    train.filter(lambda x: x[\"QuestionId\"] % 3 != 0, num_proc=NUM_PROC),\n",
    "    train.filter(lambda x: x[\"QuestionId\"] % 3 == 0, num_proc=NUM_PROC),\n",
    ")"
   ]
  },
  {
   "cell_type": "markdown",
   "metadata": {},
   "source": [
    "# Model"
   ]
  },
  {
   "cell_type": "code",
   "execution_count": 22,
   "metadata": {
    "autoscroll": "auto",
    "collapsed": false,
    "execution": {
     "iopub.execute_input": "2024-11-03T09:59:13.195017Z",
     "iopub.status.busy": "2024-11-03T09:59:13.194879Z",
     "iopub.status.idle": "2024-11-03T09:59:23.830878Z",
     "shell.execute_reply": "2024-11-03T09:59:23.830293Z"
    }
   },
   "outputs": [
    {
     "name": "stderr",
     "output_type": "stream",
     "text": [
      "You have loaded an AWQ model on CPU and have a CUDA device available, make sure to set your model on a GPU device in order to run your model.\n"
     ]
    },
    {
     "name": "stderr",
     "output_type": "stream",
     "text": [
      "`low_cpu_mem_usage` was None, now set to True since model is quantized.\n"
     ]
    },
    {
     "data": {
      "application/vnd.jupyter.widget-view+json": {
       "model_id": "85dc0b641d474f10983da72d93d28657",
       "version_major": 2,
       "version_minor": 0
      },
      "text/plain": [
       "Loading checkpoint shards:   0%|          | 0/5 [00:00<?, ?it/s]"
      ]
     },
     "metadata": {},
     "output_type": "display_data"
    },
    {
     "data": {
      "text/plain": [
       "Qwen2ForCausalLM(\n",
       "  (model): Qwen2Model(\n",
       "    (embed_tokens): Embedding(152064, 5120)\n",
       "    (layers): ModuleList(\n",
       "      (0-63): 64 x Qwen2DecoderLayer(\n",
       "        (self_attn): Qwen2SdpaAttention(\n",
       "          (q_proj): WQLinear_GEMM(in_features=5120, out_features=5120, bias=True, w_bit=4, group_size=128)\n",
       "          (k_proj): WQLinear_GEMM(in_features=5120, out_features=1024, bias=True, w_bit=4, group_size=128)\n",
       "          (v_proj): WQLinear_GEMM(in_features=5120, out_features=1024, bias=True, w_bit=4, group_size=128)\n",
       "          (o_proj): WQLinear_GEMM(in_features=5120, out_features=5120, bias=False, w_bit=4, group_size=128)\n",
       "          (rotary_emb): Qwen2RotaryEmbedding()\n",
       "        )\n",
       "        (mlp): Qwen2MLP(\n",
       "          (gate_proj): WQLinear_GEMM(in_features=5120, out_features=27648, bias=False, w_bit=4, group_size=128)\n",
       "          (up_proj): WQLinear_GEMM(in_features=5120, out_features=27648, bias=False, w_bit=4, group_size=128)\n",
       "          (down_proj): WQLinear_GEMM(in_features=27648, out_features=5120, bias=False, w_bit=4, group_size=128)\n",
       "          (act_fn): SiLU()\n",
       "        )\n",
       "        (input_layernorm): Qwen2RMSNorm((5120,), eps=1e-06)\n",
       "        (post_attention_layernorm): Qwen2RMSNorm((5120,), eps=1e-06)\n",
       "      )\n",
       "    )\n",
       "    (norm): Qwen2RMSNorm((5120,), eps=1e-06)\n",
       "  )\n",
       "  (lm_head): Linear(in_features=5120, out_features=152064, bias=False)\n",
       ")"
      ]
     },
     "execution_count": 22,
     "metadata": {},
     "output_type": "execute_result"
    }
   ],
   "source": [
    "model = AutoModelForCausalLM.from_pretrained(MODEL_NAME, torch_dtype=torch.float16)\n",
    "model.to(\"cuda\")"
   ]
  },
  {
   "cell_type": "code",
   "execution_count": 23,
   "metadata": {
    "autoscroll": "auto",
    "collapsed": false,
    "execution": {
     "iopub.execute_input": "2024-11-03T09:59:23.832841Z",
     "iopub.status.busy": "2024-11-03T09:59:23.832713Z",
     "iopub.status.idle": "2024-11-03T09:59:23.839240Z",
     "shell.execute_reply": "2024-11-03T09:59:23.838646Z"
    }
   },
   "outputs": [
    {
     "data": {
      "text/plain": [
       "Qwen2ForCausalLM(\n",
       "  (model): Qwen2Model(\n",
       "    (embed_tokens): Embedding(152064, 5120)\n",
       "    (layers): ModuleList(\n",
       "      (0-63): 64 x Qwen2DecoderLayer(\n",
       "        (self_attn): Qwen2SdpaAttention(\n",
       "          (q_proj): WQLinear_GEMM(in_features=5120, out_features=5120, bias=True, w_bit=4, group_size=128)\n",
       "          (k_proj): WQLinear_GEMM(in_features=5120, out_features=1024, bias=True, w_bit=4, group_size=128)\n",
       "          (v_proj): WQLinear_GEMM(in_features=5120, out_features=1024, bias=True, w_bit=4, group_size=128)\n",
       "          (o_proj): WQLinear_GEMM(in_features=5120, out_features=5120, bias=False, w_bit=4, group_size=128)\n",
       "          (rotary_emb): Qwen2RotaryEmbedding()\n",
       "        )\n",
       "        (mlp): Qwen2MLP(\n",
       "          (gate_proj): WQLinear_GEMM(in_features=5120, out_features=27648, bias=False, w_bit=4, group_size=128)\n",
       "          (up_proj): WQLinear_GEMM(in_features=5120, out_features=27648, bias=False, w_bit=4, group_size=128)\n",
       "          (down_proj): WQLinear_GEMM(in_features=27648, out_features=5120, bias=False, w_bit=4, group_size=128)\n",
       "          (act_fn): SiLU()\n",
       "        )\n",
       "        (input_layernorm): Qwen2RMSNorm((5120,), eps=1e-06)\n",
       "        (post_attention_layernorm): Qwen2RMSNorm((5120,), eps=1e-06)\n",
       "      )\n",
       "    )\n",
       "    (norm): Qwen2RMSNorm((5120,), eps=1e-06)\n",
       "  )\n",
       "  (lm_head): Linear(in_features=5120, out_features=152064, bias=False)\n",
       ")"
      ]
     },
     "execution_count": 23,
     "metadata": {},
     "output_type": "execute_result"
    }
   ],
   "source": [
    "model"
   ]
  },
  {
   "cell_type": "markdown",
   "metadata": {},
   "source": [
    "# Model Predict Check Before Training"
   ]
  },
  {
   "cell_type": "code",
   "execution_count": 24,
   "metadata": {
    "autoscroll": "auto",
    "collapsed": false,
    "execution": {
     "iopub.execute_input": "2024-11-03T09:59:23.841149Z",
     "iopub.status.busy": "2024-11-03T09:59:23.840965Z",
     "iopub.status.idle": "2024-11-03T09:59:26.835503Z",
     "shell.execute_reply": "2024-11-03T09:59:26.834898Z"
    }
   },
   "outputs": [
    {
     "data": {
      "application/vnd.jupyter.widget-view+json": {
       "model_id": "0541fe5150fd42c2a5ea9265099318de",
       "version_major": 2,
       "version_minor": 0
      },
      "text/plain": [
       "Map:   0%|          | 0/1460 [00:00<?, ? examples/s]"
      ]
     },
     "metadata": {},
     "output_type": "display_data"
    }
   ],
   "source": [
    "class ApplyTemplateForPredict:\n",
    "    def make_masaages(self, question: str) -> list[dict[str, str]]:\n",
    "        return [\n",
    "            {\n",
    "                \"role\": \"system\",\n",
    "                \"content\": \"You are a mathematics expert. You are given a mathematics question, an incorrect answer, a correct answer, a construct name, and a subject name. Using these, identify what misconception exists in the incorrect answer.\",\n",
    "            },\n",
    "            {\"role\": \"user\", \"content\": question},\n",
    "        ]\n",
    "\n",
    "    def apply_template(self, examples):\n",
    "        messages = []\n",
    "        for (\n",
    "            question_text,\n",
    "            incorrect_answer_text,\n",
    "            correct_answer_text,\n",
    "            construct_name,\n",
    "            subject_name,\n",
    "        ) in zip(\n",
    "            examples[\"QuestionText\"],\n",
    "            examples[\"AnswerText\"],  # incorrect_answer_text\n",
    "            examples[\"CorrectAnswerText\"],\n",
    "            examples[\"ConstructName\"],\n",
    "            examples[\"SubjectName\"],\n",
    "        ):\n",
    "            message = self.make_masaages(\n",
    "                question=QUESTION_TEMPLATE.format(\n",
    "                    question_text=question_text,\n",
    "                    incorrect_answer_text=incorrect_answer_text,\n",
    "                    correct_answer_text=correct_answer_text,\n",
    "                    construct_name=construct_name,\n",
    "                    subject_name=subject_name,\n",
    "                )\n",
    "            )\n",
    "            messages.append(message)\n",
    "\n",
    "        text = [\n",
    "            tokenizer.apply_chat_template(\n",
    "                message, tokenize=False, add_generation_prompt=True\n",
    "            )\n",
    "            for message in messages\n",
    "        ]\n",
    "\n",
    "        return {\"text\": text}\n",
    "\n",
    "\n",
    "valid_for_predict = valid.map(ApplyTemplateForPredict().apply_template, batched=True)"
   ]
  },
  {
   "cell_type": "code",
   "execution_count": 25,
   "metadata": {
    "execution": {
     "iopub.execute_input": "2024-11-03T09:59:26.837576Z",
     "iopub.status.busy": "2024-11-03T09:59:26.837452Z",
     "iopub.status.idle": "2024-11-03T09:59:26.841030Z",
     "shell.execute_reply": "2024-11-03T09:59:26.840434Z"
    }
   },
   "outputs": [],
   "source": [
    "def predict(valid: Dataset, idx: int, model):\n",
    "    inputs = tokenizer(\n",
    "        valid[\"text\"][idx],\n",
    "        return_tensors=\"pt\",\n",
    "    ).to(\"cuda\")\n",
    "\n",
    "    outputs = model.generate(**inputs, max_new_tokens=64, do_sample=True)\n",
    "    print(tokenizer.batch_decode(outputs, skip_special_tokens=True)[0])\n",
    "    print(\"\\n### Answer Misconception Name:\")\n",
    "    print(valid[\"MisconceptionName\"][idx])"
   ]
  },
  {
   "cell_type": "code",
   "execution_count": 26,
   "metadata": {
    "autoscroll": "auto",
    "collapsed": false,
    "execution": {
     "iopub.execute_input": "2024-11-03T09:59:26.843085Z",
     "iopub.status.busy": "2024-11-03T09:59:26.842898Z",
     "iopub.status.idle": "2024-11-03T09:59:31.467310Z",
     "shell.execute_reply": "2024-11-03T09:59:31.466446Z"
    }
   },
   "outputs": [
    {
     "name": "stdout",
     "output_type": "stream",
     "text": [
      "system\n",
      "You are a mathematics expert. You are given a mathematics question, an incorrect answer, a correct answer, a construct name, and a subject name. Using these, identify what misconception exists in the incorrect answer.\n",
      "user\n",
      "Question: \\[\n",
      "3 \\times 2+4-5\n",
      "\\]\n",
      "Where do the brackets need to go to make the answer equal \\( 13 \\) ?\n",
      "Incorrect Answer: Does not need brackets\n",
      "Correct Answer: \\( 3 \\times(2+4)-5 \\)\n",
      "Construct Name: Use the order of operations to carry out calculations involving powers\n",
      "Subject Name: BIDMAS\n",
      "assistant\n",
      "The misconception in the incorrect answer is that it fails to recognize the necessity of using brackets to alter the order of operations (BIDMAS/BODMAS rules) to achieve the desired result. The student may have assumed that the expression can yield the correct answer without any modification or addition of brackets, which is incorrect. In\n",
      "\n",
      "### Answer Misconception Name:\n",
      "Confuses the order of operations, believes addition comes before multiplication \n"
     ]
    }
   ],
   "source": [
    "predict(valid_for_predict, 0, model)"
   ]
  },
  {
   "cell_type": "code",
   "execution_count": 27,
   "metadata": {
    "autoscroll": "auto",
    "collapsed": false,
    "execution": {
     "iopub.execute_input": "2024-11-03T09:59:31.469170Z",
     "iopub.status.busy": "2024-11-03T09:59:31.469041Z",
     "iopub.status.idle": "2024-11-03T09:59:35.904482Z",
     "shell.execute_reply": "2024-11-03T09:59:35.903682Z"
    }
   },
   "outputs": [
    {
     "name": "stdout",
     "output_type": "stream",
     "text": [
      "system\n",
      "You are a mathematics expert. You are given a mathematics question, an incorrect answer, a correct answer, a construct name, and a subject name. Using these, identify what misconception exists in the incorrect answer.\n",
      "user\n",
      "Question: Convert \\( \\frac{3}{20} \\) into a decimal\n",
      "Incorrect Answer: \\( 0.3 \\)\n",
      "Correct Answer: \\( 0.15 \\)\n",
      "Construct Name: Convert fractions less than 1 to terminating decimals of 2 decimal places\n",
      "Subject Name: Converting between Fractions and Decimals\n",
      "assistant\n",
      "The misconception in the incorrect answer is that the student has not correctly understood how to convert a fraction to its decimal form. Specifically, they seem to have incorrectly placed the decimal point. The student may have simply taken the numerator and placed it after a decimal point without considering the value of the denominator. \n",
      "\n",
      "In this case,\n",
      "\n",
      "### Answer Misconception Name:\n",
      "Converts a fraction to a decimal by using only the numerator after the decimal point\n"
     ]
    }
   ],
   "source": [
    "predict(valid_for_predict, 1, model)"
   ]
  },
  {
   "cell_type": "code",
   "execution_count": 28,
   "metadata": {
    "autoscroll": "auto",
    "collapsed": false,
    "execution": {
     "iopub.execute_input": "2024-11-03T09:59:35.906306Z",
     "iopub.status.busy": "2024-11-03T09:59:35.906179Z",
     "iopub.status.idle": "2024-11-03T09:59:40.299458Z",
     "shell.execute_reply": "2024-11-03T09:59:40.298610Z"
    }
   },
   "outputs": [
    {
     "name": "stdout",
     "output_type": "stream",
     "text": [
      "system\n",
      "You are a mathematics expert. You are given a mathematics question, an incorrect answer, a correct answer, a construct name, and a subject name. Using these, identify what misconception exists in the incorrect answer.\n",
      "user\n",
      "Question: Convert \\( \\frac{3}{20} \\) into a decimal\n",
      "Incorrect Answer: \\( 3.20 \\)\n",
      "Correct Answer: \\( 0.15 \\)\n",
      "Construct Name: Convert fractions less than 1 to terminating decimals of 2 decimal places\n",
      "Subject Name: Converting between Fractions and Decimals\n",
      "assistant\n",
      "The misconception in the incorrect answer lies in a fundamental misunderstanding of how to convert a fraction into a decimal. The student has incorrectly interpreted the fraction \\( \\frac{3}{20} \\) as the decimal number \\( 3.20 \\), which suggests they may be confusing the numerator and denominator with whole numbers\n",
      "\n",
      "### Answer Misconception Name:\n",
      "Converts a fraction to a decimal by placing a decimal point between the numerator and denominator\n"
     ]
    }
   ],
   "source": [
    "predict(valid_for_predict, 2, model)"
   ]
  },
  {
   "cell_type": "markdown",
   "metadata": {
    "id": "LHoxXNPjisG3"
   },
   "source": [
    "# Model"
   ]
  },
  {
   "cell_type": "code",
   "execution_count": 29,
   "metadata": {
    "autoscroll": "auto",
    "collapsed": false,
    "execution": {
     "iopub.execute_input": "2024-11-03T09:59:40.301425Z",
     "iopub.status.busy": "2024-11-03T09:59:40.301296Z",
     "iopub.status.idle": "2024-11-03T09:59:40.304347Z",
     "shell.execute_reply": "2024-11-03T09:59:40.303817Z"
    }
   },
   "outputs": [],
   "source": [
    "# model = FastLanguageModel.get_peft_model(\n",
    "#     model,\n",
    "#     r=LORA_R,  # Choose any number > 0 ! Suggested 8, 16, 32, 64, 128\n",
    "#     target_modules=[\n",
    "#         \"q_proj\",\n",
    "#         \"k_proj\",\n",
    "#         \"v_proj\",\n",
    "#         # \"o_proj\",\n",
    "#         # \"gate_proj\",\n",
    "#         # \"up_proj\",\n",
    "#         # \"down_proj\",\n",
    "#         # \"embed_tokens\",\n",
    "#         # \"lm_head\",\n",
    "#     ],\n",
    "#     lora_alpha=LORA_ALPHA,\n",
    "#     lora_dropout=0,  # Supports any, but = 0 is optimized\n",
    "#     bias=\"none\",  # Supports any, but = \"none\" is optimized\n",
    "#     # [NEW] \"unsloth\" uses 30% less VRAM, fits 2x larger batch sizes!\n",
    "#     use_gradient_checkpointing=\"unsloth\",  # True or \"unsloth\" for very long context\n",
    "#     random_state=SEED,\n",
    "#     use_rslora=False,  # We support rank stabilized LoRA\n",
    "#     loftq_config=None,  # And LoftQ\n",
    "#     layers_to_transform=[i for i in range(32) if i >= FREEZE_LAYERS],\n",
    "# )\n",
    "\n",
    "# trainer = SFTTrainer(\n",
    "#     MODEL_NAME,\n",
    "#     train_dataset=train,\n",
    "#     eval_dataset=valid,\n",
    "#     args=SFTConfig(output_dir=\"/tmp\"),\n",
    "#     peft_config=peft_config,\n",
    "#     dataset_text_field=\"text\"\n",
    "# )"
   ]
  },
  {
   "cell_type": "code",
   "execution_count": 30,
   "metadata": {
    "execution": {
     "iopub.execute_input": "2024-11-03T09:59:40.306395Z",
     "iopub.status.busy": "2024-11-03T09:59:40.306215Z",
     "iopub.status.idle": "2024-11-03T09:59:40.372493Z",
     "shell.execute_reply": "2024-11-03T09:59:40.371727Z"
    }
   },
   "outputs": [],
   "source": [
    "# training_arguments = TrainingArguments(\n",
    "training_arguments = SFTConfig(\n",
    "    output_dir=MODEL_OUTPUT_PATH,\n",
    "    learning_rate=LR,\n",
    "    per_device_train_batch_size=TRAIN_BS,\n",
    "    gradient_accumulation_steps=GRAD_ACC_STEP,\n",
    "    eval_accumulation_steps=GRAD_ACC_STEP,\n",
    "    per_device_eval_batch_size=EVAL_BS,\n",
    "    num_train_epochs=EPOCH,\n",
    "    weight_decay=0.01,\n",
    "    eval_strategy=\"steps\",\n",
    "    eval_steps=0.1,\n",
    "    save_strategy=\"steps\",\n",
    "    save_steps=0.1,\n",
    "    save_total_limit=1,\n",
    "    logging_steps=2,\n",
    "    seed=SEED,\n",
    "    metric_for_best_model=\"eval_loss\",\n",
    "    warmup_ratio=0.1,\n",
    "    lr_scheduler_type=\"cosine_with_restarts\",\n",
    "    report_to=REPORT_TO,\n",
    "    run_name=EXP_NAME,\n",
    "    load_best_model_at_end=True,\n",
    "    fp16=True,\n",
    "    fp16_full_eval=True,\n",
    "    gradient_checkpointing=True,\n",
    "    remove_unused_columns=False,\n",
    "    group_by_length=True,\n",
    ")"
   ]
  },
  {
   "cell_type": "code",
   "execution_count": 31,
   "metadata": {
    "execution": {
     "iopub.execute_input": "2024-11-03T09:59:40.374871Z",
     "iopub.status.busy": "2024-11-03T09:59:40.374595Z",
     "iopub.status.idle": "2024-11-03T09:59:40.378388Z",
     "shell.execute_reply": "2024-11-03T09:59:40.377724Z"
    }
   },
   "outputs": [],
   "source": [
    "peft_config = LoraConfig(\n",
    "    target_modules=[\n",
    "        \"q_proj\",\n",
    "        \"k_proj\",\n",
    "        \"v_proj\",\n",
    "        # \"o_proj\",\n",
    "        # \"gate_proj\",\n",
    "        # \"up_proj\",\n",
    "        # \"down_proj\",\n",
    "        # \"embed_tokens\",\n",
    "        # \"lm_head\",\n",
    "    ],\n",
    "    r=LORA_R,\n",
    "    lora_alpha=LORA_ALPHA,\n",
    "    lora_dropout=0.05,\n",
    "    bias=\"none\",\n",
    "    task_type=\"CAUSAL_LM\",\n",
    ")"
   ]
  },
  {
   "cell_type": "code",
   "execution_count": 32,
   "metadata": {
    "autoscroll": "auto",
    "collapsed": false,
    "execution": {
     "iopub.execute_input": "2024-11-03T09:59:40.380641Z",
     "iopub.status.busy": "2024-11-03T09:59:40.380388Z",
     "iopub.status.idle": "2024-11-03T09:59:46.741522Z",
     "shell.execute_reply": "2024-11-03T09:59:46.740935Z"
    }
   },
   "outputs": [
    {
     "name": "stderr",
     "output_type": "stream",
     "text": [
      "/opt/conda/lib/python3.10/site-packages/huggingface_hub/utils/_deprecation.py:100: FutureWarning: Deprecated argument(s) used in '__init__': dataset_text_field, max_seq_length, dataset_num_proc, packing. Will not be supported from version '1.0.0'.\n",
      "\n",
      "Deprecated positional argument(s) used in SFTTrainer, please use the SFTConfig to set these arguments instead.\n",
      "  warnings.warn(message, FutureWarning)\n",
      "/opt/conda/lib/python3.10/site-packages/trl/trainer/sft_trainer.py:195: UserWarning: You passed a `packing` argument to the SFTTrainer, the value you passed will override the one in the `SFTConfig`.\n",
      "  warnings.warn(\n",
      "/opt/conda/lib/python3.10/site-packages/trl/trainer/sft_trainer.py:283: UserWarning: You passed a `max_seq_length` argument to the SFTTrainer, the value you passed will override the one in the `SFTConfig`.\n",
      "  warnings.warn(\n",
      "/opt/conda/lib/python3.10/site-packages/trl/trainer/sft_trainer.py:297: UserWarning: You passed a `dataset_num_proc` argument to the SFTTrainer, the value you passed will override the one in the `SFTConfig`.\n",
      "  warnings.warn(\n",
      "/opt/conda/lib/python3.10/site-packages/trl/trainer/sft_trainer.py:321: UserWarning: You passed a `dataset_text_field` argument to the SFTTrainer, the value you passed will override the one in the `SFTConfig`.\n",
      "  warnings.warn(\n"
     ]
    }
   ],
   "source": [
    "trainer = SFTTrainer(\n",
    "    model=model,\n",
    "    tokenizer=tokenizer,\n",
    "    train_dataset=train,\n",
    "    eval_dataset=valid,\n",
    "    dataset_text_field=\"text\",\n",
    "    max_seq_length=TRAINING_MAX_LENGTH,\n",
    "    dataset_num_proc=NUM_PROC,\n",
    "    # packing=False,  # Can make training 5x faster for short sequences.\n",
    "    packing=True,  # Can make training 5x faster for short sequences.\n",
    "    args=training_arguments,\n",
    "    peft_config=peft_config,\n",
    ")"
   ]
  },
  {
   "cell_type": "code",
   "execution_count": 33,
   "metadata": {
    "autoscroll": "auto",
    "collapsed": false,
    "execution": {
     "iopub.execute_input": "2024-11-03T09:59:46.744050Z",
     "iopub.status.busy": "2024-11-03T09:59:46.743925Z",
     "iopub.status.idle": "2024-11-03T09:59:46.749570Z",
     "shell.execute_reply": "2024-11-03T09:59:46.748725Z"
    }
   },
   "outputs": [
    {
     "name": "stdout",
     "output_type": "stream",
     "text": [
      "GPU = NVIDIA GeForce RTX 3090. Max memory = 23.682 GB.\n",
      "19.566 GB of memory reserved.\n"
     ]
    }
   ],
   "source": [
    "# @title Show current memory stats\n",
    "gpu_stats = torch.cuda.get_device_properties(0)\n",
    "start_gpu_memory = round(torch.cuda.max_memory_reserved() / 1024 / 1024 / 1024, 3)\n",
    "max_memory = round(gpu_stats.total_memory / 1024 / 1024 / 1024, 3)\n",
    "print(f\"GPU = {gpu_stats.name}. Max memory = {max_memory} GB.\")\n",
    "print(f\"{start_gpu_memory} GB of memory reserved.\")"
   ]
  },
  {
   "cell_type": "code",
   "execution_count": 37,
   "metadata": {
    "autoscroll": "auto",
    "collapsed": false,
    "execution": {
     "iopub.execute_input": "2024-11-03T09:59:46.751451Z",
     "iopub.status.busy": "2024-11-03T09:59:46.751266Z",
     "iopub.status.idle": "2024-11-03T17:10:47.308521Z",
     "shell.execute_reply": "2024-11-03T17:10:47.307883Z"
    }
   },
   "outputs": [
    {
     "name": "stderr",
     "output_type": "stream",
     "text": [
      "`low_cpu_mem_usage` was None, now set to True since model is quantized.\n"
     ]
    },
    {
     "data": {
      "application/vnd.jupyter.widget-view+json": {
       "model_id": "647e8a0eb23c42ed9213a44c00c2b9ab",
       "version_major": 2,
       "version_minor": 0
      },
      "text/plain": [
       "Loading checkpoint shards:   0%|          | 0/5 [00:00<?, ?it/s]"
      ]
     },
     "metadata": {},
     "output_type": "display_data"
    },
    {
     "ename": "OutOfMemoryError",
     "evalue": "CUDA out of memory. Tried to allocate 68.00 MiB. GPU ",
     "output_type": "error",
     "traceback": [
      "\u001b[0;31m---------------------------------------------------------------------------\u001b[0m",
      "\u001b[0;31mOutOfMemoryError\u001b[0m                          Traceback (most recent call last)",
      "Cell \u001b[0;32mIn[37], line 9\u001b[0m\n\u001b[1;32m      4\u001b[0m \u001b[38;5;28;01mfrom\u001b[39;00m \u001b[38;5;21;01mpeft\u001b[39;00m \u001b[38;5;28;01mimport\u001b[39;00m AutoPeftModelForCausalLM\n\u001b[1;32m      6\u001b[0m model \u001b[38;5;241m=\u001b[39m AutoPeftModelForCausalLM\u001b[38;5;241m.\u001b[39mfrom_pretrained(\n\u001b[1;32m      7\u001b[0m     MODEL_OUTPUT_PATH \u001b[38;5;241m+\u001b[39m \u001b[38;5;124m\"\u001b[39m\u001b[38;5;124m/checkpoint-32\u001b[39m\u001b[38;5;124m\"\u001b[39m, torch_dtype\u001b[38;5;241m=\u001b[39mtorch\u001b[38;5;241m.\u001b[39mfloat16\n\u001b[1;32m      8\u001b[0m )\n\u001b[0;32m----> 9\u001b[0m \u001b[43mmodel\u001b[49m\u001b[38;5;241;43m.\u001b[39;49m\u001b[43mto\u001b[49m\u001b[43m(\u001b[49m\u001b[38;5;124;43m\"\u001b[39;49m\u001b[38;5;124;43mcuda\u001b[39;49m\u001b[38;5;124;43m\"\u001b[39;49m\u001b[43m)\u001b[49m\n\u001b[1;32m     11\u001b[0m tokenizer \u001b[38;5;241m=\u001b[39m AutoTokenizer\u001b[38;5;241m.\u001b[39mfrom_pretrained(\n\u001b[1;32m     12\u001b[0m     MODEL_NAME,\n\u001b[1;32m     13\u001b[0m     padding_side\u001b[38;5;241m=\u001b[39m\u001b[38;5;124m\"\u001b[39m\u001b[38;5;124mright\u001b[39m\u001b[38;5;124m\"\u001b[39m,\n\u001b[1;32m     14\u001b[0m     use_fast\u001b[38;5;241m=\u001b[39m\u001b[38;5;28;01mFalse\u001b[39;00m,\n\u001b[1;32m     15\u001b[0m )\n",
      "File \u001b[0;32m/opt/conda/lib/python3.10/site-packages/torch/nn/modules/module.py:1173\u001b[0m, in \u001b[0;36mModule.to\u001b[0;34m(self, *args, **kwargs)\u001b[0m\n\u001b[1;32m   1170\u001b[0m         \u001b[38;5;28;01melse\u001b[39;00m:\n\u001b[1;32m   1171\u001b[0m             \u001b[38;5;28;01mraise\u001b[39;00m\n\u001b[0;32m-> 1173\u001b[0m \u001b[38;5;28;01mreturn\u001b[39;00m \u001b[38;5;28;43mself\u001b[39;49m\u001b[38;5;241;43m.\u001b[39;49m\u001b[43m_apply\u001b[49m\u001b[43m(\u001b[49m\u001b[43mconvert\u001b[49m\u001b[43m)\u001b[49m\n",
      "File \u001b[0;32m/opt/conda/lib/python3.10/site-packages/torch/nn/modules/module.py:779\u001b[0m, in \u001b[0;36mModule._apply\u001b[0;34m(self, fn, recurse)\u001b[0m\n\u001b[1;32m    777\u001b[0m \u001b[38;5;28;01mif\u001b[39;00m recurse:\n\u001b[1;32m    778\u001b[0m     \u001b[38;5;28;01mfor\u001b[39;00m module \u001b[38;5;129;01min\u001b[39;00m \u001b[38;5;28mself\u001b[39m\u001b[38;5;241m.\u001b[39mchildren():\n\u001b[0;32m--> 779\u001b[0m         \u001b[43mmodule\u001b[49m\u001b[38;5;241;43m.\u001b[39;49m\u001b[43m_apply\u001b[49m\u001b[43m(\u001b[49m\u001b[43mfn\u001b[49m\u001b[43m)\u001b[49m\n\u001b[1;32m    781\u001b[0m \u001b[38;5;28;01mdef\u001b[39;00m \u001b[38;5;21mcompute_should_use_set_data\u001b[39m(tensor, tensor_applied):\n\u001b[1;32m    782\u001b[0m     \u001b[38;5;28;01mif\u001b[39;00m torch\u001b[38;5;241m.\u001b[39m_has_compatible_shallow_copy_type(tensor, tensor_applied):\n\u001b[1;32m    783\u001b[0m         \u001b[38;5;66;03m# If the new tensor has compatible tensor type as the existing tensor,\u001b[39;00m\n\u001b[1;32m    784\u001b[0m         \u001b[38;5;66;03m# the current behavior is to change the tensor in-place using `.data =`,\u001b[39;00m\n\u001b[0;32m   (...)\u001b[0m\n\u001b[1;32m    789\u001b[0m         \u001b[38;5;66;03m# global flag to let the user control whether they want the future\u001b[39;00m\n\u001b[1;32m    790\u001b[0m         \u001b[38;5;66;03m# behavior of overwriting the existing tensor or not.\u001b[39;00m\n",
      "File \u001b[0;32m/opt/conda/lib/python3.10/site-packages/torch/nn/modules/module.py:779\u001b[0m, in \u001b[0;36mModule._apply\u001b[0;34m(self, fn, recurse)\u001b[0m\n\u001b[1;32m    777\u001b[0m \u001b[38;5;28;01mif\u001b[39;00m recurse:\n\u001b[1;32m    778\u001b[0m     \u001b[38;5;28;01mfor\u001b[39;00m module \u001b[38;5;129;01min\u001b[39;00m \u001b[38;5;28mself\u001b[39m\u001b[38;5;241m.\u001b[39mchildren():\n\u001b[0;32m--> 779\u001b[0m         \u001b[43mmodule\u001b[49m\u001b[38;5;241;43m.\u001b[39;49m\u001b[43m_apply\u001b[49m\u001b[43m(\u001b[49m\u001b[43mfn\u001b[49m\u001b[43m)\u001b[49m\n\u001b[1;32m    781\u001b[0m \u001b[38;5;28;01mdef\u001b[39;00m \u001b[38;5;21mcompute_should_use_set_data\u001b[39m(tensor, tensor_applied):\n\u001b[1;32m    782\u001b[0m     \u001b[38;5;28;01mif\u001b[39;00m torch\u001b[38;5;241m.\u001b[39m_has_compatible_shallow_copy_type(tensor, tensor_applied):\n\u001b[1;32m    783\u001b[0m         \u001b[38;5;66;03m# If the new tensor has compatible tensor type as the existing tensor,\u001b[39;00m\n\u001b[1;32m    784\u001b[0m         \u001b[38;5;66;03m# the current behavior is to change the tensor in-place using `.data =`,\u001b[39;00m\n\u001b[0;32m   (...)\u001b[0m\n\u001b[1;32m    789\u001b[0m         \u001b[38;5;66;03m# global flag to let the user control whether they want the future\u001b[39;00m\n\u001b[1;32m    790\u001b[0m         \u001b[38;5;66;03m# behavior of overwriting the existing tensor or not.\u001b[39;00m\n",
      "    \u001b[0;31m[... skipping similar frames: Module._apply at line 779 (4 times)]\u001b[0m\n",
      "File \u001b[0;32m/opt/conda/lib/python3.10/site-packages/torch/nn/modules/module.py:779\u001b[0m, in \u001b[0;36mModule._apply\u001b[0;34m(self, fn, recurse)\u001b[0m\n\u001b[1;32m    777\u001b[0m \u001b[38;5;28;01mif\u001b[39;00m recurse:\n\u001b[1;32m    778\u001b[0m     \u001b[38;5;28;01mfor\u001b[39;00m module \u001b[38;5;129;01min\u001b[39;00m \u001b[38;5;28mself\u001b[39m\u001b[38;5;241m.\u001b[39mchildren():\n\u001b[0;32m--> 779\u001b[0m         \u001b[43mmodule\u001b[49m\u001b[38;5;241;43m.\u001b[39;49m\u001b[43m_apply\u001b[49m\u001b[43m(\u001b[49m\u001b[43mfn\u001b[49m\u001b[43m)\u001b[49m\n\u001b[1;32m    781\u001b[0m \u001b[38;5;28;01mdef\u001b[39;00m \u001b[38;5;21mcompute_should_use_set_data\u001b[39m(tensor, tensor_applied):\n\u001b[1;32m    782\u001b[0m     \u001b[38;5;28;01mif\u001b[39;00m torch\u001b[38;5;241m.\u001b[39m_has_compatible_shallow_copy_type(tensor, tensor_applied):\n\u001b[1;32m    783\u001b[0m         \u001b[38;5;66;03m# If the new tensor has compatible tensor type as the existing tensor,\u001b[39;00m\n\u001b[1;32m    784\u001b[0m         \u001b[38;5;66;03m# the current behavior is to change the tensor in-place using `.data =`,\u001b[39;00m\n\u001b[0;32m   (...)\u001b[0m\n\u001b[1;32m    789\u001b[0m         \u001b[38;5;66;03m# global flag to let the user control whether they want the future\u001b[39;00m\n\u001b[1;32m    790\u001b[0m         \u001b[38;5;66;03m# behavior of overwriting the existing tensor or not.\u001b[39;00m\n",
      "File \u001b[0;32m/opt/conda/lib/python3.10/site-packages/torch/nn/modules/module.py:853\u001b[0m, in \u001b[0;36mModule._apply\u001b[0;34m(self, fn, recurse)\u001b[0m\n\u001b[1;32m    851\u001b[0m \u001b[38;5;28;01mfor\u001b[39;00m key, buf \u001b[38;5;129;01min\u001b[39;00m \u001b[38;5;28mself\u001b[39m\u001b[38;5;241m.\u001b[39m_buffers\u001b[38;5;241m.\u001b[39mitems():\n\u001b[1;32m    852\u001b[0m     \u001b[38;5;28;01mif\u001b[39;00m buf \u001b[38;5;129;01mis\u001b[39;00m \u001b[38;5;129;01mnot\u001b[39;00m \u001b[38;5;28;01mNone\u001b[39;00m:\n\u001b[0;32m--> 853\u001b[0m         \u001b[38;5;28mself\u001b[39m\u001b[38;5;241m.\u001b[39m_buffers[key] \u001b[38;5;241m=\u001b[39m \u001b[43mfn\u001b[49m\u001b[43m(\u001b[49m\u001b[43mbuf\u001b[49m\u001b[43m)\u001b[49m\n\u001b[1;32m    855\u001b[0m \u001b[38;5;28;01mreturn\u001b[39;00m \u001b[38;5;28mself\u001b[39m\n",
      "File \u001b[0;32m/opt/conda/lib/python3.10/site-packages/torch/nn/modules/module.py:1159\u001b[0m, in \u001b[0;36mModule.to.<locals>.convert\u001b[0;34m(t)\u001b[0m\n\u001b[1;32m   1152\u001b[0m     \u001b[38;5;28;01mif\u001b[39;00m convert_to_format \u001b[38;5;129;01mis\u001b[39;00m \u001b[38;5;129;01mnot\u001b[39;00m \u001b[38;5;28;01mNone\u001b[39;00m \u001b[38;5;129;01mand\u001b[39;00m t\u001b[38;5;241m.\u001b[39mdim() \u001b[38;5;129;01min\u001b[39;00m (\u001b[38;5;241m4\u001b[39m, \u001b[38;5;241m5\u001b[39m):\n\u001b[1;32m   1153\u001b[0m         \u001b[38;5;28;01mreturn\u001b[39;00m t\u001b[38;5;241m.\u001b[39mto(\n\u001b[1;32m   1154\u001b[0m             device,\n\u001b[1;32m   1155\u001b[0m             dtype \u001b[38;5;28;01mif\u001b[39;00m t\u001b[38;5;241m.\u001b[39mis_floating_point() \u001b[38;5;129;01mor\u001b[39;00m t\u001b[38;5;241m.\u001b[39mis_complex() \u001b[38;5;28;01melse\u001b[39;00m \u001b[38;5;28;01mNone\u001b[39;00m,\n\u001b[1;32m   1156\u001b[0m             non_blocking,\n\u001b[1;32m   1157\u001b[0m             memory_format\u001b[38;5;241m=\u001b[39mconvert_to_format,\n\u001b[1;32m   1158\u001b[0m         )\n\u001b[0;32m-> 1159\u001b[0m     \u001b[38;5;28;01mreturn\u001b[39;00m \u001b[43mt\u001b[49m\u001b[38;5;241;43m.\u001b[39;49m\u001b[43mto\u001b[49m\u001b[43m(\u001b[49m\n\u001b[1;32m   1160\u001b[0m \u001b[43m        \u001b[49m\u001b[43mdevice\u001b[49m\u001b[43m,\u001b[49m\n\u001b[1;32m   1161\u001b[0m \u001b[43m        \u001b[49m\u001b[43mdtype\u001b[49m\u001b[43m \u001b[49m\u001b[38;5;28;43;01mif\u001b[39;49;00m\u001b[43m \u001b[49m\u001b[43mt\u001b[49m\u001b[38;5;241;43m.\u001b[39;49m\u001b[43mis_floating_point\u001b[49m\u001b[43m(\u001b[49m\u001b[43m)\u001b[49m\u001b[43m \u001b[49m\u001b[38;5;129;43;01mor\u001b[39;49;00m\u001b[43m \u001b[49m\u001b[43mt\u001b[49m\u001b[38;5;241;43m.\u001b[39;49m\u001b[43mis_complex\u001b[49m\u001b[43m(\u001b[49m\u001b[43m)\u001b[49m\u001b[43m \u001b[49m\u001b[38;5;28;43;01melse\u001b[39;49;00m\u001b[43m \u001b[49m\u001b[38;5;28;43;01mNone\u001b[39;49;00m\u001b[43m,\u001b[49m\n\u001b[1;32m   1162\u001b[0m \u001b[43m        \u001b[49m\u001b[43mnon_blocking\u001b[49m\u001b[43m,\u001b[49m\n\u001b[1;32m   1163\u001b[0m \u001b[43m    \u001b[49m\u001b[43m)\u001b[49m\n\u001b[1;32m   1164\u001b[0m \u001b[38;5;28;01mexcept\u001b[39;00m \u001b[38;5;167;01mNotImplementedError\u001b[39;00m \u001b[38;5;28;01mas\u001b[39;00m e:\n\u001b[1;32m   1165\u001b[0m     \u001b[38;5;28;01mif\u001b[39;00m \u001b[38;5;28mstr\u001b[39m(e) \u001b[38;5;241m==\u001b[39m \u001b[38;5;124m\"\u001b[39m\u001b[38;5;124mCannot copy out of meta tensor; no data!\u001b[39m\u001b[38;5;124m\"\u001b[39m:\n",
      "\u001b[0;31mOutOfMemoryError\u001b[0m: CUDA out of memory. Tried to allocate 68.00 MiB. GPU "
     ]
    }
   ],
   "source": [
    "if TRAINING:\n",
    "    trainer.train()\n",
    "else:\n",
    "    from peft import AutoPeftModelForCausalLM\n",
    "\n",
    "    model = AutoPeftModelForCausalLM.from_pretrained(\n",
    "        MODEL_OUTPUT_PATH + \"/checkpoint-32\", torch_dtype=torch.float16\n",
    "    )\n",
    "    model.to(\"cuda\")\n",
    "\n",
    "    tokenizer = AutoTokenizer.from_pretrained(\n",
    "        MODEL_NAME,\n",
    "        padding_side=\"right\",\n",
    "        use_fast=False,\n",
    "    )\n",
    "\n",
    "    # model, tokenizer = FastLanguageModel.from_pretrained(\n",
    "    #     model_name=MODEL_OUTPUT_PATH + \"/lora_model\",\n",
    "    #     max_seq_length=TRAINING_MAX_LENGTH,\n",
    "    #     dtype=None,  # None for auto detection. Float16 for Tesla T4, V100, Bfloat16 for Ampere+\n",
    "    #     # load_in_4bit=True,  # Use 4bit quantization to reduce memory usage. Can be False.\n",
    "    # )"
   ]
  },
  {
   "cell_type": "code",
   "execution_count": 35,
   "metadata": {
    "autoscroll": "auto",
    "collapsed": false,
    "execution": {
     "iopub.execute_input": "2024-11-03T17:10:47.310584Z",
     "iopub.status.busy": "2024-11-03T17:10:47.310448Z",
     "iopub.status.idle": "2024-11-03T17:10:47.313414Z",
     "shell.execute_reply": "2024-11-03T17:10:47.312824Z"
    }
   },
   "outputs": [],
   "source": [
    "# if TRAINING:\n",
    "#     trainer_stats = trainer.train()\n",
    "# else:\n",
    "#     model, tokenizer = FastLanguageModel.from_pretrained(\n",
    "#         model_name=MODEL_OUTPUT_PATH + \"/lora_model\",\n",
    "#         max_seq_length=TRAINING_MAX_LENGTH,\n",
    "#         dtype=None,  # None for auto detection. Float16 for Tesla T4, V100, Bfloat16 for Ampere+\n",
    "#         # load_in_4bit=True,  # Use 4bit quantization to reduce memory usage. Can be False.\n",
    "#     )"
   ]
  },
  {
   "cell_type": "markdown",
   "metadata": {},
   "source": [
    "# Predict Valid"
   ]
  },
  {
   "cell_type": "code",
   "execution_count": 36,
   "metadata": {
    "autoscroll": "auto",
    "collapsed": false,
    "execution": {
     "iopub.execute_input": "2024-11-03T17:10:47.315621Z",
     "iopub.status.busy": "2024-11-03T17:10:47.315435Z",
     "iopub.status.idle": "2024-11-03T17:10:48.222872Z",
     "shell.execute_reply": "2024-11-03T17:10:48.221888Z"
    }
   },
   "outputs": [],
   "source": [
    "predict(valid_for_predict, 0, model)"
   ]
  },
  {
   "cell_type": "code",
   "execution_count": 37,
   "metadata": {
    "execution": {
     "iopub.execute_input": "2024-11-03T17:10:48.224853Z",
     "iopub.status.busy": "2024-11-03T17:10:48.224720Z",
     "iopub.status.idle": "2024-11-03T17:10:49.668441Z",
     "shell.execute_reply": "2024-11-03T17:10:49.667489Z"
    }
   },
   "outputs": [],
   "source": [
    "predict(valid_for_predict, 1, model)"
   ]
  },
  {
   "cell_type": "code",
   "execution_count": 38,
   "metadata": {
    "execution": {
     "iopub.execute_input": "2024-11-03T17:10:49.670319Z",
     "iopub.status.busy": "2024-11-03T17:10:49.670186Z",
     "iopub.status.idle": "2024-11-03T17:10:50.777793Z",
     "shell.execute_reply": "2024-11-03T17:10:50.777168Z"
    }
   },
   "outputs": [],
   "source": [
    "predict(valid_for_predict, 2, model)"
   ]
  },
  {
   "cell_type": "markdown",
   "metadata": {},
   "source": [
    "# Save"
   ]
  },
  {
   "cell_type": "code",
   "execution_count": 39,
   "metadata": {
    "autoscroll": "auto",
    "collapsed": false,
    "execution": {
     "iopub.execute_input": "2024-11-03T17:10:50.779762Z",
     "iopub.status.busy": "2024-11-03T17:10:50.779631Z",
     "iopub.status.idle": "2024-11-03T17:10:51.879774Z",
     "shell.execute_reply": "2024-11-03T17:10:51.877188Z"
    }
   },
   "outputs": [
    {
     "ename": "RuntimeError",
     "evalue": "The weights trying to be saved contained shared tensors [{'model.layers.0.self_attn.q_proj.quant_linear_module.qweight', 'model.layers.0.self_attn.q_proj.base_layer.qweight'}, {'model.layers.0.self_attn.q_proj.quant_linear_module.qzeros', 'model.layers.0.self_attn.q_proj.base_layer.qzeros'}, {'model.layers.0.self_attn.q_proj.base_layer.scales', 'model.layers.0.self_attn.q_proj.quant_linear_module.scales'}, {'model.layers.0.self_attn.q_proj.base_layer.bias', 'model.layers.0.self_attn.q_proj.quant_linear_module.bias'}, {'model.layers.0.self_attn.k_proj.quant_linear_module.qweight', 'model.layers.0.self_attn.k_proj.base_layer.qweight'}, {'model.layers.0.self_attn.k_proj.base_layer.qzeros', 'model.layers.0.self_attn.k_proj.quant_linear_module.qzeros'}, {'model.layers.0.self_attn.k_proj.base_layer.scales', 'model.layers.0.self_attn.k_proj.quant_linear_module.scales'}, {'model.layers.0.self_attn.k_proj.quant_linear_module.bias', 'model.layers.0.self_attn.k_proj.base_layer.bias'}, {'model.layers.0.self_attn.v_proj.base_layer.qweight', 'model.layers.0.self_attn.v_proj.quant_linear_module.qweight'}, {'model.layers.0.self_attn.v_proj.quant_linear_module.qzeros', 'model.layers.0.self_attn.v_proj.base_layer.qzeros'}, {'model.layers.0.self_attn.v_proj.base_layer.scales', 'model.layers.0.self_attn.v_proj.quant_linear_module.scales'}, {'model.layers.0.self_attn.v_proj.quant_linear_module.bias', 'model.layers.0.self_attn.v_proj.base_layer.bias'}, {'model.layers.1.self_attn.q_proj.quant_linear_module.qweight', 'model.layers.1.self_attn.q_proj.base_layer.qweight'}, {'model.layers.1.self_attn.q_proj.base_layer.qzeros', 'model.layers.1.self_attn.q_proj.quant_linear_module.qzeros'}, {'model.layers.1.self_attn.q_proj.base_layer.scales', 'model.layers.1.self_attn.q_proj.quant_linear_module.scales'}, {'model.layers.1.self_attn.q_proj.base_layer.bias', 'model.layers.1.self_attn.q_proj.quant_linear_module.bias'}, {'model.layers.1.self_attn.k_proj.quant_linear_module.qweight', 'model.layers.1.self_attn.k_proj.base_layer.qweight'}, {'model.layers.1.self_attn.k_proj.quant_linear_module.qzeros', 'model.layers.1.self_attn.k_proj.base_layer.qzeros'}, {'model.layers.1.self_attn.k_proj.base_layer.scales', 'model.layers.1.self_attn.k_proj.quant_linear_module.scales'}, {'model.layers.1.self_attn.k_proj.quant_linear_module.bias', 'model.layers.1.self_attn.k_proj.base_layer.bias'}, {'model.layers.1.self_attn.v_proj.quant_linear_module.qweight', 'model.layers.1.self_attn.v_proj.base_layer.qweight'}, {'model.layers.1.self_attn.v_proj.quant_linear_module.qzeros', 'model.layers.1.self_attn.v_proj.base_layer.qzeros'}, {'model.layers.1.self_attn.v_proj.base_layer.scales', 'model.layers.1.self_attn.v_proj.quant_linear_module.scales'}, {'model.layers.1.self_attn.v_proj.base_layer.bias', 'model.layers.1.self_attn.v_proj.quant_linear_module.bias'}, {'model.layers.2.self_attn.q_proj.base_layer.qweight', 'model.layers.2.self_attn.q_proj.quant_linear_module.qweight'}, {'model.layers.2.self_attn.q_proj.quant_linear_module.qzeros', 'model.layers.2.self_attn.q_proj.base_layer.qzeros'}, {'model.layers.2.self_attn.q_proj.quant_linear_module.scales', 'model.layers.2.self_attn.q_proj.base_layer.scales'}, {'model.layers.2.self_attn.q_proj.base_layer.bias', 'model.layers.2.self_attn.q_proj.quant_linear_module.bias'}, {'model.layers.2.self_attn.k_proj.base_layer.qweight', 'model.layers.2.self_attn.k_proj.quant_linear_module.qweight'}, {'model.layers.2.self_attn.k_proj.base_layer.qzeros', 'model.layers.2.self_attn.k_proj.quant_linear_module.qzeros'}, {'model.layers.2.self_attn.k_proj.base_layer.scales', 'model.layers.2.self_attn.k_proj.quant_linear_module.scales'}, {'model.layers.2.self_attn.k_proj.quant_linear_module.bias', 'model.layers.2.self_attn.k_proj.base_layer.bias'}, {'model.layers.2.self_attn.v_proj.base_layer.qweight', 'model.layers.2.self_attn.v_proj.quant_linear_module.qweight'}, {'model.layers.2.self_attn.v_proj.base_layer.qzeros', 'model.layers.2.self_attn.v_proj.quant_linear_module.qzeros'}, {'model.layers.2.self_attn.v_proj.quant_linear_module.scales', 'model.layers.2.self_attn.v_proj.base_layer.scales'}, {'model.layers.2.self_attn.v_proj.quant_linear_module.bias', 'model.layers.2.self_attn.v_proj.base_layer.bias'}, {'model.layers.3.self_attn.q_proj.quant_linear_module.qweight', 'model.layers.3.self_attn.q_proj.base_layer.qweight'}, {'model.layers.3.self_attn.q_proj.base_layer.qzeros', 'model.layers.3.self_attn.q_proj.quant_linear_module.qzeros'}, {'model.layers.3.self_attn.q_proj.base_layer.scales', 'model.layers.3.self_attn.q_proj.quant_linear_module.scales'}, {'model.layers.3.self_attn.q_proj.base_layer.bias', 'model.layers.3.self_attn.q_proj.quant_linear_module.bias'}, {'model.layers.3.self_attn.k_proj.quant_linear_module.qweight', 'model.layers.3.self_attn.k_proj.base_layer.qweight'}, {'model.layers.3.self_attn.k_proj.base_layer.qzeros', 'model.layers.3.self_attn.k_proj.quant_linear_module.qzeros'}, {'model.layers.3.self_attn.k_proj.quant_linear_module.scales', 'model.layers.3.self_attn.k_proj.base_layer.scales'}, {'model.layers.3.self_attn.k_proj.base_layer.bias', 'model.layers.3.self_attn.k_proj.quant_linear_module.bias'}, {'model.layers.3.self_attn.v_proj.quant_linear_module.qweight', 'model.layers.3.self_attn.v_proj.base_layer.qweight'}, {'model.layers.3.self_attn.v_proj.quant_linear_module.qzeros', 'model.layers.3.self_attn.v_proj.base_layer.qzeros'}, {'model.layers.3.self_attn.v_proj.quant_linear_module.scales', 'model.layers.3.self_attn.v_proj.base_layer.scales'}, {'model.layers.3.self_attn.v_proj.base_layer.bias', 'model.layers.3.self_attn.v_proj.quant_linear_module.bias'}, {'model.layers.4.self_attn.q_proj.base_layer.qweight', 'model.layers.4.self_attn.q_proj.quant_linear_module.qweight'}, {'model.layers.4.self_attn.q_proj.base_layer.qzeros', 'model.layers.4.self_attn.q_proj.quant_linear_module.qzeros'}, {'model.layers.4.self_attn.q_proj.quant_linear_module.scales', 'model.layers.4.self_attn.q_proj.base_layer.scales'}, {'model.layers.4.self_attn.q_proj.quant_linear_module.bias', 'model.layers.4.self_attn.q_proj.base_layer.bias'}, {'model.layers.4.self_attn.k_proj.base_layer.qweight', 'model.layers.4.self_attn.k_proj.quant_linear_module.qweight'}, {'model.layers.4.self_attn.k_proj.base_layer.qzeros', 'model.layers.4.self_attn.k_proj.quant_linear_module.qzeros'}, {'model.layers.4.self_attn.k_proj.base_layer.scales', 'model.layers.4.self_attn.k_proj.quant_linear_module.scales'}, {'model.layers.4.self_attn.k_proj.base_layer.bias', 'model.layers.4.self_attn.k_proj.quant_linear_module.bias'}, {'model.layers.4.self_attn.v_proj.base_layer.qweight', 'model.layers.4.self_attn.v_proj.quant_linear_module.qweight'}, {'model.layers.4.self_attn.v_proj.quant_linear_module.qzeros', 'model.layers.4.self_attn.v_proj.base_layer.qzeros'}, {'model.layers.4.self_attn.v_proj.quant_linear_module.scales', 'model.layers.4.self_attn.v_proj.base_layer.scales'}, {'model.layers.4.self_attn.v_proj.base_layer.bias', 'model.layers.4.self_attn.v_proj.quant_linear_module.bias'}, {'model.layers.5.self_attn.q_proj.quant_linear_module.qweight', 'model.layers.5.self_attn.q_proj.base_layer.qweight'}, {'model.layers.5.self_attn.q_proj.quant_linear_module.qzeros', 'model.layers.5.self_attn.q_proj.base_layer.qzeros'}, {'model.layers.5.self_attn.q_proj.quant_linear_module.scales', 'model.layers.5.self_attn.q_proj.base_layer.scales'}, {'model.layers.5.self_attn.q_proj.base_layer.bias', 'model.layers.5.self_attn.q_proj.quant_linear_module.bias'}, {'model.layers.5.self_attn.k_proj.quant_linear_module.qweight', 'model.layers.5.self_attn.k_proj.base_layer.qweight'}, {'model.layers.5.self_attn.k_proj.quant_linear_module.qzeros', 'model.layers.5.self_attn.k_proj.base_layer.qzeros'}, {'model.layers.5.self_attn.k_proj.base_layer.scales', 'model.layers.5.self_attn.k_proj.quant_linear_module.scales'}, {'model.layers.5.self_attn.k_proj.quant_linear_module.bias', 'model.layers.5.self_attn.k_proj.base_layer.bias'}, {'model.layers.5.self_attn.v_proj.quant_linear_module.qweight', 'model.layers.5.self_attn.v_proj.base_layer.qweight'}, {'model.layers.5.self_attn.v_proj.base_layer.qzeros', 'model.layers.5.self_attn.v_proj.quant_linear_module.qzeros'}, {'model.layers.5.self_attn.v_proj.base_layer.scales', 'model.layers.5.self_attn.v_proj.quant_linear_module.scales'}, {'model.layers.5.self_attn.v_proj.base_layer.bias', 'model.layers.5.self_attn.v_proj.quant_linear_module.bias'}, {'model.layers.6.self_attn.q_proj.quant_linear_module.qweight', 'model.layers.6.self_attn.q_proj.base_layer.qweight'}, {'model.layers.6.self_attn.q_proj.quant_linear_module.qzeros', 'model.layers.6.self_attn.q_proj.base_layer.qzeros'}, {'model.layers.6.self_attn.q_proj.base_layer.scales', 'model.layers.6.self_attn.q_proj.quant_linear_module.scales'}, {'model.layers.6.self_attn.q_proj.base_layer.bias', 'model.layers.6.self_attn.q_proj.quant_linear_module.bias'}, {'model.layers.6.self_attn.k_proj.quant_linear_module.qweight', 'model.layers.6.self_attn.k_proj.base_layer.qweight'}, {'model.layers.6.self_attn.k_proj.base_layer.qzeros', 'model.layers.6.self_attn.k_proj.quant_linear_module.qzeros'}, {'model.layers.6.self_attn.k_proj.base_layer.scales', 'model.layers.6.self_attn.k_proj.quant_linear_module.scales'}, {'model.layers.6.self_attn.k_proj.quant_linear_module.bias', 'model.layers.6.self_attn.k_proj.base_layer.bias'}, {'model.layers.6.self_attn.v_proj.quant_linear_module.qweight', 'model.layers.6.self_attn.v_proj.base_layer.qweight'}, {'model.layers.6.self_attn.v_proj.base_layer.qzeros', 'model.layers.6.self_attn.v_proj.quant_linear_module.qzeros'}, {'model.layers.6.self_attn.v_proj.base_layer.scales', 'model.layers.6.self_attn.v_proj.quant_linear_module.scales'}, {'model.layers.6.self_attn.v_proj.base_layer.bias', 'model.layers.6.self_attn.v_proj.quant_linear_module.bias'}, {'model.layers.7.self_attn.q_proj.base_layer.qweight', 'model.layers.7.self_attn.q_proj.quant_linear_module.qweight'}, {'model.layers.7.self_attn.q_proj.base_layer.qzeros', 'model.layers.7.self_attn.q_proj.quant_linear_module.qzeros'}, {'model.layers.7.self_attn.q_proj.base_layer.scales', 'model.layers.7.self_attn.q_proj.quant_linear_module.scales'}, {'model.layers.7.self_attn.q_proj.base_layer.bias', 'model.layers.7.self_attn.q_proj.quant_linear_module.bias'}, {'model.layers.7.self_attn.k_proj.base_layer.qweight', 'model.layers.7.self_attn.k_proj.quant_linear_module.qweight'}, {'model.layers.7.self_attn.k_proj.base_layer.qzeros', 'model.layers.7.self_attn.k_proj.quant_linear_module.qzeros'}, {'model.layers.7.self_attn.k_proj.base_layer.scales', 'model.layers.7.self_attn.k_proj.quant_linear_module.scales'}, {'model.layers.7.self_attn.k_proj.base_layer.bias', 'model.layers.7.self_attn.k_proj.quant_linear_module.bias'}, {'model.layers.7.self_attn.v_proj.base_layer.qweight', 'model.layers.7.self_attn.v_proj.quant_linear_module.qweight'}, {'model.layers.7.self_attn.v_proj.quant_linear_module.qzeros', 'model.layers.7.self_attn.v_proj.base_layer.qzeros'}, {'model.layers.7.self_attn.v_proj.quant_linear_module.scales', 'model.layers.7.self_attn.v_proj.base_layer.scales'}, {'model.layers.7.self_attn.v_proj.quant_linear_module.bias', 'model.layers.7.self_attn.v_proj.base_layer.bias'}, {'model.layers.8.self_attn.q_proj.base_layer.qweight', 'model.layers.8.self_attn.q_proj.quant_linear_module.qweight'}, {'model.layers.8.self_attn.q_proj.quant_linear_module.qzeros', 'model.layers.8.self_attn.q_proj.base_layer.qzeros'}, {'model.layers.8.self_attn.q_proj.quant_linear_module.scales', 'model.layers.8.self_attn.q_proj.base_layer.scales'}, {'model.layers.8.self_attn.q_proj.base_layer.bias', 'model.layers.8.self_attn.q_proj.quant_linear_module.bias'}, {'model.layers.8.self_attn.k_proj.base_layer.qweight', 'model.layers.8.self_attn.k_proj.quant_linear_module.qweight'}, {'model.layers.8.self_attn.k_proj.quant_linear_module.qzeros', 'model.layers.8.self_attn.k_proj.base_layer.qzeros'}, {'model.layers.8.self_attn.k_proj.quant_linear_module.scales', 'model.layers.8.self_attn.k_proj.base_layer.scales'}, {'model.layers.8.self_attn.k_proj.quant_linear_module.bias', 'model.layers.8.self_attn.k_proj.base_layer.bias'}, {'model.layers.8.self_attn.v_proj.quant_linear_module.qweight', 'model.layers.8.self_attn.v_proj.base_layer.qweight'}, {'model.layers.8.self_attn.v_proj.base_layer.qzeros', 'model.layers.8.self_attn.v_proj.quant_linear_module.qzeros'}, {'model.layers.8.self_attn.v_proj.base_layer.scales', 'model.layers.8.self_attn.v_proj.quant_linear_module.scales'}, {'model.layers.8.self_attn.v_proj.quant_linear_module.bias', 'model.layers.8.self_attn.v_proj.base_layer.bias'}, {'model.layers.9.self_attn.q_proj.quant_linear_module.qweight', 'model.layers.9.self_attn.q_proj.base_layer.qweight'}, {'model.layers.9.self_attn.q_proj.base_layer.qzeros', 'model.layers.9.self_attn.q_proj.quant_linear_module.qzeros'}, {'model.layers.9.self_attn.q_proj.base_layer.scales', 'model.layers.9.self_attn.q_proj.quant_linear_module.scales'}, {'model.layers.9.self_attn.q_proj.base_layer.bias', 'model.layers.9.self_attn.q_proj.quant_linear_module.bias'}, {'model.layers.9.self_attn.k_proj.base_layer.qweight', 'model.layers.9.self_attn.k_proj.quant_linear_module.qweight'}, {'model.layers.9.self_attn.k_proj.quant_linear_module.qzeros', 'model.layers.9.self_attn.k_proj.base_layer.qzeros'}, {'model.layers.9.self_attn.k_proj.quant_linear_module.scales', 'model.layers.9.self_attn.k_proj.base_layer.scales'}, {'model.layers.9.self_attn.k_proj.quant_linear_module.bias', 'model.layers.9.self_attn.k_proj.base_layer.bias'}, {'model.layers.9.self_attn.v_proj.base_layer.qweight', 'model.layers.9.self_attn.v_proj.quant_linear_module.qweight'}, {'model.layers.9.self_attn.v_proj.quant_linear_module.qzeros', 'model.layers.9.self_attn.v_proj.base_layer.qzeros'}, {'model.layers.9.self_attn.v_proj.quant_linear_module.scales', 'model.layers.9.self_attn.v_proj.base_layer.scales'}, {'model.layers.9.self_attn.v_proj.base_layer.bias', 'model.layers.9.self_attn.v_proj.quant_linear_module.bias'}, {'model.layers.10.self_attn.q_proj.base_layer.qweight', 'model.layers.10.self_attn.q_proj.quant_linear_module.qweight'}, {'model.layers.10.self_attn.q_proj.base_layer.qzeros', 'model.layers.10.self_attn.q_proj.quant_linear_module.qzeros'}, {'model.layers.10.self_attn.q_proj.base_layer.scales', 'model.layers.10.self_attn.q_proj.quant_linear_module.scales'}, {'model.layers.10.self_attn.q_proj.quant_linear_module.bias', 'model.layers.10.self_attn.q_proj.base_layer.bias'}, {'model.layers.10.self_attn.k_proj.quant_linear_module.qweight', 'model.layers.10.self_attn.k_proj.base_layer.qweight'}, {'model.layers.10.self_attn.k_proj.quant_linear_module.qzeros', 'model.layers.10.self_attn.k_proj.base_layer.qzeros'}, {'model.layers.10.self_attn.k_proj.quant_linear_module.scales', 'model.layers.10.self_attn.k_proj.base_layer.scales'}, {'model.layers.10.self_attn.k_proj.base_layer.bias', 'model.layers.10.self_attn.k_proj.quant_linear_module.bias'}, {'model.layers.10.self_attn.v_proj.quant_linear_module.qweight', 'model.layers.10.self_attn.v_proj.base_layer.qweight'}, {'model.layers.10.self_attn.v_proj.quant_linear_module.qzeros', 'model.layers.10.self_attn.v_proj.base_layer.qzeros'}, {'model.layers.10.self_attn.v_proj.base_layer.scales', 'model.layers.10.self_attn.v_proj.quant_linear_module.scales'}, {'model.layers.10.self_attn.v_proj.base_layer.bias', 'model.layers.10.self_attn.v_proj.quant_linear_module.bias'}, {'model.layers.11.self_attn.q_proj.base_layer.qweight', 'model.layers.11.self_attn.q_proj.quant_linear_module.qweight'}, {'model.layers.11.self_attn.q_proj.base_layer.qzeros', 'model.layers.11.self_attn.q_proj.quant_linear_module.qzeros'}, {'model.layers.11.self_attn.q_proj.base_layer.scales', 'model.layers.11.self_attn.q_proj.quant_linear_module.scales'}, {'model.layers.11.self_attn.q_proj.quant_linear_module.bias', 'model.layers.11.self_attn.q_proj.base_layer.bias'}, {'model.layers.11.self_attn.k_proj.quant_linear_module.qweight', 'model.layers.11.self_attn.k_proj.base_layer.qweight'}, {'model.layers.11.self_attn.k_proj.quant_linear_module.qzeros', 'model.layers.11.self_attn.k_proj.base_layer.qzeros'}, {'model.layers.11.self_attn.k_proj.base_layer.scales', 'model.layers.11.self_attn.k_proj.quant_linear_module.scales'}, {'model.layers.11.self_attn.k_proj.base_layer.bias', 'model.layers.11.self_attn.k_proj.quant_linear_module.bias'}, {'model.layers.11.self_attn.v_proj.quant_linear_module.qweight', 'model.layers.11.self_attn.v_proj.base_layer.qweight'}, {'model.layers.11.self_attn.v_proj.base_layer.qzeros', 'model.layers.11.self_attn.v_proj.quant_linear_module.qzeros'}, {'model.layers.11.self_attn.v_proj.quant_linear_module.scales', 'model.layers.11.self_attn.v_proj.base_layer.scales'}, {'model.layers.11.self_attn.v_proj.quant_linear_module.bias', 'model.layers.11.self_attn.v_proj.base_layer.bias'}, {'model.layers.12.self_attn.q_proj.quant_linear_module.qweight', 'model.layers.12.self_attn.q_proj.base_layer.qweight'}, {'model.layers.12.self_attn.q_proj.base_layer.qzeros', 'model.layers.12.self_attn.q_proj.quant_linear_module.qzeros'}, {'model.layers.12.self_attn.q_proj.base_layer.scales', 'model.layers.12.self_attn.q_proj.quant_linear_module.scales'}, {'model.layers.12.self_attn.q_proj.quant_linear_module.bias', 'model.layers.12.self_attn.q_proj.base_layer.bias'}, {'model.layers.12.self_attn.k_proj.base_layer.qweight', 'model.layers.12.self_attn.k_proj.quant_linear_module.qweight'}, {'model.layers.12.self_attn.k_proj.base_layer.qzeros', 'model.layers.12.self_attn.k_proj.quant_linear_module.qzeros'}, {'model.layers.12.self_attn.k_proj.quant_linear_module.scales', 'model.layers.12.self_attn.k_proj.base_layer.scales'}, {'model.layers.12.self_attn.k_proj.quant_linear_module.bias', 'model.layers.12.self_attn.k_proj.base_layer.bias'}, {'model.layers.12.self_attn.v_proj.base_layer.qweight', 'model.layers.12.self_attn.v_proj.quant_linear_module.qweight'}, {'model.layers.12.self_attn.v_proj.quant_linear_module.qzeros', 'model.layers.12.self_attn.v_proj.base_layer.qzeros'}, {'model.layers.12.self_attn.v_proj.quant_linear_module.scales', 'model.layers.12.self_attn.v_proj.base_layer.scales'}, {'model.layers.12.self_attn.v_proj.base_layer.bias', 'model.layers.12.self_attn.v_proj.quant_linear_module.bias'}, {'model.layers.13.self_attn.q_proj.base_layer.qweight', 'model.layers.13.self_attn.q_proj.quant_linear_module.qweight'}, {'model.layers.13.self_attn.q_proj.quant_linear_module.qzeros', 'model.layers.13.self_attn.q_proj.base_layer.qzeros'}, {'model.layers.13.self_attn.q_proj.base_layer.scales', 'model.layers.13.self_attn.q_proj.quant_linear_module.scales'}, {'model.layers.13.self_attn.q_proj.base_layer.bias', 'model.layers.13.self_attn.q_proj.quant_linear_module.bias'}, {'model.layers.13.self_attn.k_proj.quant_linear_module.qweight', 'model.layers.13.self_attn.k_proj.base_layer.qweight'}, {'model.layers.13.self_attn.k_proj.quant_linear_module.qzeros', 'model.layers.13.self_attn.k_proj.base_layer.qzeros'}, {'model.layers.13.self_attn.k_proj.quant_linear_module.scales', 'model.layers.13.self_attn.k_proj.base_layer.scales'}, {'model.layers.13.self_attn.k_proj.quant_linear_module.bias', 'model.layers.13.self_attn.k_proj.base_layer.bias'}, {'model.layers.13.self_attn.v_proj.base_layer.qweight', 'model.layers.13.self_attn.v_proj.quant_linear_module.qweight'}, {'model.layers.13.self_attn.v_proj.base_layer.qzeros', 'model.layers.13.self_attn.v_proj.quant_linear_module.qzeros'}, {'model.layers.13.self_attn.v_proj.quant_linear_module.scales', 'model.layers.13.self_attn.v_proj.base_layer.scales'}, {'model.layers.13.self_attn.v_proj.quant_linear_module.bias', 'model.layers.13.self_attn.v_proj.base_layer.bias'}, {'model.layers.14.self_attn.q_proj.base_layer.qweight', 'model.layers.14.self_attn.q_proj.quant_linear_module.qweight'}, {'model.layers.14.self_attn.q_proj.base_layer.qzeros', 'model.layers.14.self_attn.q_proj.quant_linear_module.qzeros'}, {'model.layers.14.self_attn.q_proj.base_layer.scales', 'model.layers.14.self_attn.q_proj.quant_linear_module.scales'}, {'model.layers.14.self_attn.q_proj.quant_linear_module.bias', 'model.layers.14.self_attn.q_proj.base_layer.bias'}, {'model.layers.14.self_attn.k_proj.base_layer.qweight', 'model.layers.14.self_attn.k_proj.quant_linear_module.qweight'}, {'model.layers.14.self_attn.k_proj.quant_linear_module.qzeros', 'model.layers.14.self_attn.k_proj.base_layer.qzeros'}, {'model.layers.14.self_attn.k_proj.quant_linear_module.scales', 'model.layers.14.self_attn.k_proj.base_layer.scales'}, {'model.layers.14.self_attn.k_proj.quant_linear_module.bias', 'model.layers.14.self_attn.k_proj.base_layer.bias'}, {'model.layers.14.self_attn.v_proj.base_layer.qweight', 'model.layers.14.self_attn.v_proj.quant_linear_module.qweight'}, {'model.layers.14.self_attn.v_proj.base_layer.qzeros', 'model.layers.14.self_attn.v_proj.quant_linear_module.qzeros'}, {'model.layers.14.self_attn.v_proj.base_layer.scales', 'model.layers.14.self_attn.v_proj.quant_linear_module.scales'}, {'model.layers.14.self_attn.v_proj.quant_linear_module.bias', 'model.layers.14.self_attn.v_proj.base_layer.bias'}, {'model.layers.15.self_attn.q_proj.quant_linear_module.qweight', 'model.layers.15.self_attn.q_proj.base_layer.qweight'}, {'model.layers.15.self_attn.q_proj.quant_linear_module.qzeros', 'model.layers.15.self_attn.q_proj.base_layer.qzeros'}, {'model.layers.15.self_attn.q_proj.base_layer.scales', 'model.layers.15.self_attn.q_proj.quant_linear_module.scales'}, {'model.layers.15.self_attn.q_proj.base_layer.bias', 'model.layers.15.self_attn.q_proj.quant_linear_module.bias'}, {'model.layers.15.self_attn.k_proj.quant_linear_module.qweight', 'model.layers.15.self_attn.k_proj.base_layer.qweight'}, {'model.layers.15.self_attn.k_proj.quant_linear_module.qzeros', 'model.layers.15.self_attn.k_proj.base_layer.qzeros'}, {'model.layers.15.self_attn.k_proj.base_layer.scales', 'model.layers.15.self_attn.k_proj.quant_linear_module.scales'}, {'model.layers.15.self_attn.k_proj.base_layer.bias', 'model.layers.15.self_attn.k_proj.quant_linear_module.bias'}, {'model.layers.15.self_attn.v_proj.quant_linear_module.qweight', 'model.layers.15.self_attn.v_proj.base_layer.qweight'}, {'model.layers.15.self_attn.v_proj.quant_linear_module.qzeros', 'model.layers.15.self_attn.v_proj.base_layer.qzeros'}, {'model.layers.15.self_attn.v_proj.base_layer.scales', 'model.layers.15.self_attn.v_proj.quant_linear_module.scales'}, {'model.layers.15.self_attn.v_proj.base_layer.bias', 'model.layers.15.self_attn.v_proj.quant_linear_module.bias'}, {'model.layers.16.self_attn.q_proj.quant_linear_module.qweight', 'model.layers.16.self_attn.q_proj.base_layer.qweight'}, {'model.layers.16.self_attn.q_proj.base_layer.qzeros', 'model.layers.16.self_attn.q_proj.quant_linear_module.qzeros'}, {'model.layers.16.self_attn.q_proj.quant_linear_module.scales', 'model.layers.16.self_attn.q_proj.base_layer.scales'}, {'model.layers.16.self_attn.q_proj.quant_linear_module.bias', 'model.layers.16.self_attn.q_proj.base_layer.bias'}, {'model.layers.16.self_attn.k_proj.base_layer.qweight', 'model.layers.16.self_attn.k_proj.quant_linear_module.qweight'}, {'model.layers.16.self_attn.k_proj.quant_linear_module.qzeros', 'model.layers.16.self_attn.k_proj.base_layer.qzeros'}, {'model.layers.16.self_attn.k_proj.base_layer.scales', 'model.layers.16.self_attn.k_proj.quant_linear_module.scales'}, {'model.layers.16.self_attn.k_proj.quant_linear_module.bias', 'model.layers.16.self_attn.k_proj.base_layer.bias'}, {'model.layers.16.self_attn.v_proj.base_layer.qweight', 'model.layers.16.self_attn.v_proj.quant_linear_module.qweight'}, {'model.layers.16.self_attn.v_proj.base_layer.qzeros', 'model.layers.16.self_attn.v_proj.quant_linear_module.qzeros'}, {'model.layers.16.self_attn.v_proj.quant_linear_module.scales', 'model.layers.16.self_attn.v_proj.base_layer.scales'}, {'model.layers.16.self_attn.v_proj.quant_linear_module.bias', 'model.layers.16.self_attn.v_proj.base_layer.bias'}, {'model.layers.17.self_attn.q_proj.quant_linear_module.qweight', 'model.layers.17.self_attn.q_proj.base_layer.qweight'}, {'model.layers.17.self_attn.q_proj.base_layer.qzeros', 'model.layers.17.self_attn.q_proj.quant_linear_module.qzeros'}, {'model.layers.17.self_attn.q_proj.quant_linear_module.scales', 'model.layers.17.self_attn.q_proj.base_layer.scales'}, {'model.layers.17.self_attn.q_proj.quant_linear_module.bias', 'model.layers.17.self_attn.q_proj.base_layer.bias'}, {'model.layers.17.self_attn.k_proj.quant_linear_module.qweight', 'model.layers.17.self_attn.k_proj.base_layer.qweight'}, {'model.layers.17.self_attn.k_proj.quant_linear_module.qzeros', 'model.layers.17.self_attn.k_proj.base_layer.qzeros'}, {'model.layers.17.self_attn.k_proj.base_layer.scales', 'model.layers.17.self_attn.k_proj.quant_linear_module.scales'}, {'model.layers.17.self_attn.k_proj.base_layer.bias', 'model.layers.17.self_attn.k_proj.quant_linear_module.bias'}, {'model.layers.17.self_attn.v_proj.base_layer.qweight', 'model.layers.17.self_attn.v_proj.quant_linear_module.qweight'}, {'model.layers.17.self_attn.v_proj.base_layer.qzeros', 'model.layers.17.self_attn.v_proj.quant_linear_module.qzeros'}, {'model.layers.17.self_attn.v_proj.quant_linear_module.scales', 'model.layers.17.self_attn.v_proj.base_layer.scales'}, {'model.layers.17.self_attn.v_proj.base_layer.bias', 'model.layers.17.self_attn.v_proj.quant_linear_module.bias'}, {'model.layers.18.self_attn.q_proj.quant_linear_module.qweight', 'model.layers.18.self_attn.q_proj.base_layer.qweight'}, {'model.layers.18.self_attn.q_proj.quant_linear_module.qzeros', 'model.layers.18.self_attn.q_proj.base_layer.qzeros'}, {'model.layers.18.self_attn.q_proj.base_layer.scales', 'model.layers.18.self_attn.q_proj.quant_linear_module.scales'}, {'model.layers.18.self_attn.q_proj.quant_linear_module.bias', 'model.layers.18.self_attn.q_proj.base_layer.bias'}, {'model.layers.18.self_attn.k_proj.quant_linear_module.qweight', 'model.layers.18.self_attn.k_proj.base_layer.qweight'}, {'model.layers.18.self_attn.k_proj.base_layer.qzeros', 'model.layers.18.self_attn.k_proj.quant_linear_module.qzeros'}, {'model.layers.18.self_attn.k_proj.quant_linear_module.scales', 'model.layers.18.self_attn.k_proj.base_layer.scales'}, {'model.layers.18.self_attn.k_proj.quant_linear_module.bias', 'model.layers.18.self_attn.k_proj.base_layer.bias'}, {'model.layers.18.self_attn.v_proj.base_layer.qweight', 'model.layers.18.self_attn.v_proj.quant_linear_module.qweight'}, {'model.layers.18.self_attn.v_proj.quant_linear_module.qzeros', 'model.layers.18.self_attn.v_proj.base_layer.qzeros'}, {'model.layers.18.self_attn.v_proj.base_layer.scales', 'model.layers.18.self_attn.v_proj.quant_linear_module.scales'}, {'model.layers.18.self_attn.v_proj.base_layer.bias', 'model.layers.18.self_attn.v_proj.quant_linear_module.bias'}, {'model.layers.19.self_attn.q_proj.base_layer.qweight', 'model.layers.19.self_attn.q_proj.quant_linear_module.qweight'}, {'model.layers.19.self_attn.q_proj.quant_linear_module.qzeros', 'model.layers.19.self_attn.q_proj.base_layer.qzeros'}, {'model.layers.19.self_attn.q_proj.quant_linear_module.scales', 'model.layers.19.self_attn.q_proj.base_layer.scales'}, {'model.layers.19.self_attn.q_proj.quant_linear_module.bias', 'model.layers.19.self_attn.q_proj.base_layer.bias'}, {'model.layers.19.self_attn.k_proj.base_layer.qweight', 'model.layers.19.self_attn.k_proj.quant_linear_module.qweight'}, {'model.layers.19.self_attn.k_proj.base_layer.qzeros', 'model.layers.19.self_attn.k_proj.quant_linear_module.qzeros'}, {'model.layers.19.self_attn.k_proj.quant_linear_module.scales', 'model.layers.19.self_attn.k_proj.base_layer.scales'}, {'model.layers.19.self_attn.k_proj.base_layer.bias', 'model.layers.19.self_attn.k_proj.quant_linear_module.bias'}, {'model.layers.19.self_attn.v_proj.base_layer.qweight', 'model.layers.19.self_attn.v_proj.quant_linear_module.qweight'}, {'model.layers.19.self_attn.v_proj.quant_linear_module.qzeros', 'model.layers.19.self_attn.v_proj.base_layer.qzeros'}, {'model.layers.19.self_attn.v_proj.quant_linear_module.scales', 'model.layers.19.self_attn.v_proj.base_layer.scales'}, {'model.layers.19.self_attn.v_proj.quant_linear_module.bias', 'model.layers.19.self_attn.v_proj.base_layer.bias'}, {'model.layers.20.self_attn.q_proj.base_layer.qweight', 'model.layers.20.self_attn.q_proj.quant_linear_module.qweight'}, {'model.layers.20.self_attn.q_proj.quant_linear_module.qzeros', 'model.layers.20.self_attn.q_proj.base_layer.qzeros'}, {'model.layers.20.self_attn.q_proj.base_layer.scales', 'model.layers.20.self_attn.q_proj.quant_linear_module.scales'}, {'model.layers.20.self_attn.q_proj.base_layer.bias', 'model.layers.20.self_attn.q_proj.quant_linear_module.bias'}, {'model.layers.20.self_attn.k_proj.quant_linear_module.qweight', 'model.layers.20.self_attn.k_proj.base_layer.qweight'}, {'model.layers.20.self_attn.k_proj.base_layer.qzeros', 'model.layers.20.self_attn.k_proj.quant_linear_module.qzeros'}, {'model.layers.20.self_attn.k_proj.quant_linear_module.scales', 'model.layers.20.self_attn.k_proj.base_layer.scales'}, {'model.layers.20.self_attn.k_proj.quant_linear_module.bias', 'model.layers.20.self_attn.k_proj.base_layer.bias'}, {'model.layers.20.self_attn.v_proj.base_layer.qweight', 'model.layers.20.self_attn.v_proj.quant_linear_module.qweight'}, {'model.layers.20.self_attn.v_proj.quant_linear_module.qzeros', 'model.layers.20.self_attn.v_proj.base_layer.qzeros'}, {'model.layers.20.self_attn.v_proj.base_layer.scales', 'model.layers.20.self_attn.v_proj.quant_linear_module.scales'}, {'model.layers.20.self_attn.v_proj.quant_linear_module.bias', 'model.layers.20.self_attn.v_proj.base_layer.bias'}, {'model.layers.21.self_attn.q_proj.base_layer.qweight', 'model.layers.21.self_attn.q_proj.quant_linear_module.qweight'}, {'model.layers.21.self_attn.q_proj.quant_linear_module.qzeros', 'model.layers.21.self_attn.q_proj.base_layer.qzeros'}, {'model.layers.21.self_attn.q_proj.base_layer.scales', 'model.layers.21.self_attn.q_proj.quant_linear_module.scales'}, {'model.layers.21.self_attn.q_proj.base_layer.bias', 'model.layers.21.self_attn.q_proj.quant_linear_module.bias'}, {'model.layers.21.self_attn.k_proj.base_layer.qweight', 'model.layers.21.self_attn.k_proj.quant_linear_module.qweight'}, {'model.layers.21.self_attn.k_proj.base_layer.qzeros', 'model.layers.21.self_attn.k_proj.quant_linear_module.qzeros'}, {'model.layers.21.self_attn.k_proj.quant_linear_module.scales', 'model.layers.21.self_attn.k_proj.base_layer.scales'}, {'model.layers.21.self_attn.k_proj.base_layer.bias', 'model.layers.21.self_attn.k_proj.quant_linear_module.bias'}, {'model.layers.21.self_attn.v_proj.base_layer.qweight', 'model.layers.21.self_attn.v_proj.quant_linear_module.qweight'}, {'model.layers.21.self_attn.v_proj.base_layer.qzeros', 'model.layers.21.self_attn.v_proj.quant_linear_module.qzeros'}, {'model.layers.21.self_attn.v_proj.quant_linear_module.scales', 'model.layers.21.self_attn.v_proj.base_layer.scales'}, {'model.layers.21.self_attn.v_proj.base_layer.bias', 'model.layers.21.self_attn.v_proj.quant_linear_module.bias'}, {'model.layers.22.self_attn.q_proj.base_layer.qweight', 'model.layers.22.self_attn.q_proj.quant_linear_module.qweight'}, {'model.layers.22.self_attn.q_proj.base_layer.qzeros', 'model.layers.22.self_attn.q_proj.quant_linear_module.qzeros'}, {'model.layers.22.self_attn.q_proj.base_layer.scales', 'model.layers.22.self_attn.q_proj.quant_linear_module.scales'}, {'model.layers.22.self_attn.q_proj.quant_linear_module.bias', 'model.layers.22.self_attn.q_proj.base_layer.bias'}, {'model.layers.22.self_attn.k_proj.quant_linear_module.qweight', 'model.layers.22.self_attn.k_proj.base_layer.qweight'}, {'model.layers.22.self_attn.k_proj.quant_linear_module.qzeros', 'model.layers.22.self_attn.k_proj.base_layer.qzeros'}, {'model.layers.22.self_attn.k_proj.base_layer.scales', 'model.layers.22.self_attn.k_proj.quant_linear_module.scales'}, {'model.layers.22.self_attn.k_proj.base_layer.bias', 'model.layers.22.self_attn.k_proj.quant_linear_module.bias'}, {'model.layers.22.self_attn.v_proj.base_layer.qweight', 'model.layers.22.self_attn.v_proj.quant_linear_module.qweight'}, {'model.layers.22.self_attn.v_proj.quant_linear_module.qzeros', 'model.layers.22.self_attn.v_proj.base_layer.qzeros'}, {'model.layers.22.self_attn.v_proj.quant_linear_module.scales', 'model.layers.22.self_attn.v_proj.base_layer.scales'}, {'model.layers.22.self_attn.v_proj.base_layer.bias', 'model.layers.22.self_attn.v_proj.quant_linear_module.bias'}, {'model.layers.23.self_attn.q_proj.quant_linear_module.qweight', 'model.layers.23.self_attn.q_proj.base_layer.qweight'}, {'model.layers.23.self_attn.q_proj.base_layer.qzeros', 'model.layers.23.self_attn.q_proj.quant_linear_module.qzeros'}, {'model.layers.23.self_attn.q_proj.quant_linear_module.scales', 'model.layers.23.self_attn.q_proj.base_layer.scales'}, {'model.layers.23.self_attn.q_proj.quant_linear_module.bias', 'model.layers.23.self_attn.q_proj.base_layer.bias'}, {'model.layers.23.self_attn.k_proj.base_layer.qweight', 'model.layers.23.self_attn.k_proj.quant_linear_module.qweight'}, {'model.layers.23.self_attn.k_proj.quant_linear_module.qzeros', 'model.layers.23.self_attn.k_proj.base_layer.qzeros'}, {'model.layers.23.self_attn.k_proj.quant_linear_module.scales', 'model.layers.23.self_attn.k_proj.base_layer.scales'}, {'model.layers.23.self_attn.k_proj.quant_linear_module.bias', 'model.layers.23.self_attn.k_proj.base_layer.bias'}, {'model.layers.23.self_attn.v_proj.base_layer.qweight', 'model.layers.23.self_attn.v_proj.quant_linear_module.qweight'}, {'model.layers.23.self_attn.v_proj.quant_linear_module.qzeros', 'model.layers.23.self_attn.v_proj.base_layer.qzeros'}, {'model.layers.23.self_attn.v_proj.base_layer.scales', 'model.layers.23.self_attn.v_proj.quant_linear_module.scales'}, {'model.layers.23.self_attn.v_proj.quant_linear_module.bias', 'model.layers.23.self_attn.v_proj.base_layer.bias'}, {'model.layers.24.self_attn.q_proj.quant_linear_module.qweight', 'model.layers.24.self_attn.q_proj.base_layer.qweight'}, {'model.layers.24.self_attn.q_proj.quant_linear_module.qzeros', 'model.layers.24.self_attn.q_proj.base_layer.qzeros'}, {'model.layers.24.self_attn.q_proj.base_layer.scales', 'model.layers.24.self_attn.q_proj.quant_linear_module.scales'}, {'model.layers.24.self_attn.q_proj.base_layer.bias', 'model.layers.24.self_attn.q_proj.quant_linear_module.bias'}, {'model.layers.24.self_attn.k_proj.base_layer.qweight', 'model.layers.24.self_attn.k_proj.quant_linear_module.qweight'}, {'model.layers.24.self_attn.k_proj.quant_linear_module.qzeros', 'model.layers.24.self_attn.k_proj.base_layer.qzeros'}, {'model.layers.24.self_attn.k_proj.base_layer.scales', 'model.layers.24.self_attn.k_proj.quant_linear_module.scales'}, {'model.layers.24.self_attn.k_proj.quant_linear_module.bias', 'model.layers.24.self_attn.k_proj.base_layer.bias'}, {'model.layers.24.self_attn.v_proj.quant_linear_module.qweight', 'model.layers.24.self_attn.v_proj.base_layer.qweight'}, {'model.layers.24.self_attn.v_proj.base_layer.qzeros', 'model.layers.24.self_attn.v_proj.quant_linear_module.qzeros'}, {'model.layers.24.self_attn.v_proj.quant_linear_module.scales', 'model.layers.24.self_attn.v_proj.base_layer.scales'}, {'model.layers.24.self_attn.v_proj.base_layer.bias', 'model.layers.24.self_attn.v_proj.quant_linear_module.bias'}, {'model.layers.25.self_attn.q_proj.base_layer.qweight', 'model.layers.25.self_attn.q_proj.quant_linear_module.qweight'}, {'model.layers.25.self_attn.q_proj.quant_linear_module.qzeros', 'model.layers.25.self_attn.q_proj.base_layer.qzeros'}, {'model.layers.25.self_attn.q_proj.quant_linear_module.scales', 'model.layers.25.self_attn.q_proj.base_layer.scales'}, {'model.layers.25.self_attn.q_proj.base_layer.bias', 'model.layers.25.self_attn.q_proj.quant_linear_module.bias'}, {'model.layers.25.self_attn.k_proj.base_layer.qweight', 'model.layers.25.self_attn.k_proj.quant_linear_module.qweight'}, {'model.layers.25.self_attn.k_proj.base_layer.qzeros', 'model.layers.25.self_attn.k_proj.quant_linear_module.qzeros'}, {'model.layers.25.self_attn.k_proj.base_layer.scales', 'model.layers.25.self_attn.k_proj.quant_linear_module.scales'}, {'model.layers.25.self_attn.k_proj.quant_linear_module.bias', 'model.layers.25.self_attn.k_proj.base_layer.bias'}, {'model.layers.25.self_attn.v_proj.quant_linear_module.qweight', 'model.layers.25.self_attn.v_proj.base_layer.qweight'}, {'model.layers.25.self_attn.v_proj.quant_linear_module.qzeros', 'model.layers.25.self_attn.v_proj.base_layer.qzeros'}, {'model.layers.25.self_attn.v_proj.quant_linear_module.scales', 'model.layers.25.self_attn.v_proj.base_layer.scales'}, {'model.layers.25.self_attn.v_proj.base_layer.bias', 'model.layers.25.self_attn.v_proj.quant_linear_module.bias'}, {'model.layers.26.self_attn.q_proj.base_layer.qweight', 'model.layers.26.self_attn.q_proj.quant_linear_module.qweight'}, {'model.layers.26.self_attn.q_proj.base_layer.qzeros', 'model.layers.26.self_attn.q_proj.quant_linear_module.qzeros'}, {'model.layers.26.self_attn.q_proj.quant_linear_module.scales', 'model.layers.26.self_attn.q_proj.base_layer.scales'}, {'model.layers.26.self_attn.q_proj.quant_linear_module.bias', 'model.layers.26.self_attn.q_proj.base_layer.bias'}, {'model.layers.26.self_attn.k_proj.base_layer.qweight', 'model.layers.26.self_attn.k_proj.quant_linear_module.qweight'}, {'model.layers.26.self_attn.k_proj.quant_linear_module.qzeros', 'model.layers.26.self_attn.k_proj.base_layer.qzeros'}, {'model.layers.26.self_attn.k_proj.base_layer.scales', 'model.layers.26.self_attn.k_proj.quant_linear_module.scales'}, {'model.layers.26.self_attn.k_proj.quant_linear_module.bias', 'model.layers.26.self_attn.k_proj.base_layer.bias'}, {'model.layers.26.self_attn.v_proj.base_layer.qweight', 'model.layers.26.self_attn.v_proj.quant_linear_module.qweight'}, {'model.layers.26.self_attn.v_proj.base_layer.qzeros', 'model.layers.26.self_attn.v_proj.quant_linear_module.qzeros'}, {'model.layers.26.self_attn.v_proj.base_layer.scales', 'model.layers.26.self_attn.v_proj.quant_linear_module.scales'}, {'model.layers.26.self_attn.v_proj.quant_linear_module.bias', 'model.layers.26.self_attn.v_proj.base_layer.bias'}, {'model.layers.27.self_attn.q_proj.quant_linear_module.qweight', 'model.layers.27.self_attn.q_proj.base_layer.qweight'}, {'model.layers.27.self_attn.q_proj.base_layer.qzeros', 'model.layers.27.self_attn.q_proj.quant_linear_module.qzeros'}, {'model.layers.27.self_attn.q_proj.base_layer.scales', 'model.layers.27.self_attn.q_proj.quant_linear_module.scales'}, {'model.layers.27.self_attn.q_proj.quant_linear_module.bias', 'model.layers.27.self_attn.q_proj.base_layer.bias'}, {'model.layers.27.self_attn.k_proj.base_layer.qweight', 'model.layers.27.self_attn.k_proj.quant_linear_module.qweight'}, {'model.layers.27.self_attn.k_proj.base_layer.qzeros', 'model.layers.27.self_attn.k_proj.quant_linear_module.qzeros'}, {'model.layers.27.self_attn.k_proj.base_layer.scales', 'model.layers.27.self_attn.k_proj.quant_linear_module.scales'}, {'model.layers.27.self_attn.k_proj.base_layer.bias', 'model.layers.27.self_attn.k_proj.quant_linear_module.bias'}, {'model.layers.27.self_attn.v_proj.base_layer.qweight', 'model.layers.27.self_attn.v_proj.quant_linear_module.qweight'}, {'model.layers.27.self_attn.v_proj.base_layer.qzeros', 'model.layers.27.self_attn.v_proj.quant_linear_module.qzeros'}, {'model.layers.27.self_attn.v_proj.quant_linear_module.scales', 'model.layers.27.self_attn.v_proj.base_layer.scales'}, {'model.layers.27.self_attn.v_proj.base_layer.bias', 'model.layers.27.self_attn.v_proj.quant_linear_module.bias'}, {'model.layers.28.self_attn.q_proj.base_layer.qweight', 'model.layers.28.self_attn.q_proj.quant_linear_module.qweight'}, {'model.layers.28.self_attn.q_proj.quant_linear_module.qzeros', 'model.layers.28.self_attn.q_proj.base_layer.qzeros'}, {'model.layers.28.self_attn.q_proj.base_layer.scales', 'model.layers.28.self_attn.q_proj.quant_linear_module.scales'}, {'model.layers.28.self_attn.q_proj.quant_linear_module.bias', 'model.layers.28.self_attn.q_proj.base_layer.bias'}, {'model.layers.28.self_attn.k_proj.quant_linear_module.qweight', 'model.layers.28.self_attn.k_proj.base_layer.qweight'}, {'model.layers.28.self_attn.k_proj.quant_linear_module.qzeros', 'model.layers.28.self_attn.k_proj.base_layer.qzeros'}, {'model.layers.28.self_attn.k_proj.quant_linear_module.scales', 'model.layers.28.self_attn.k_proj.base_layer.scales'}, {'model.layers.28.self_attn.k_proj.base_layer.bias', 'model.layers.28.self_attn.k_proj.quant_linear_module.bias'}, {'model.layers.28.self_attn.v_proj.quant_linear_module.qweight', 'model.layers.28.self_attn.v_proj.base_layer.qweight'}, {'model.layers.28.self_attn.v_proj.base_layer.qzeros', 'model.layers.28.self_attn.v_proj.quant_linear_module.qzeros'}, {'model.layers.28.self_attn.v_proj.quant_linear_module.scales', 'model.layers.28.self_attn.v_proj.base_layer.scales'}, {'model.layers.28.self_attn.v_proj.base_layer.bias', 'model.layers.28.self_attn.v_proj.quant_linear_module.bias'}, {'model.layers.29.self_attn.q_proj.quant_linear_module.qweight', 'model.layers.29.self_attn.q_proj.base_layer.qweight'}, {'model.layers.29.self_attn.q_proj.base_layer.qzeros', 'model.layers.29.self_attn.q_proj.quant_linear_module.qzeros'}, {'model.layers.29.self_attn.q_proj.base_layer.scales', 'model.layers.29.self_attn.q_proj.quant_linear_module.scales'}, {'model.layers.29.self_attn.q_proj.quant_linear_module.bias', 'model.layers.29.self_attn.q_proj.base_layer.bias'}, {'model.layers.29.self_attn.k_proj.base_layer.qweight', 'model.layers.29.self_attn.k_proj.quant_linear_module.qweight'}, {'model.layers.29.self_attn.k_proj.base_layer.qzeros', 'model.layers.29.self_attn.k_proj.quant_linear_module.qzeros'}, {'model.layers.29.self_attn.k_proj.base_layer.scales', 'model.layers.29.self_attn.k_proj.quant_linear_module.scales'}, {'model.layers.29.self_attn.k_proj.base_layer.bias', 'model.layers.29.self_attn.k_proj.quant_linear_module.bias'}, {'model.layers.29.self_attn.v_proj.base_layer.qweight', 'model.layers.29.self_attn.v_proj.quant_linear_module.qweight'}, {'model.layers.29.self_attn.v_proj.base_layer.qzeros', 'model.layers.29.self_attn.v_proj.quant_linear_module.qzeros'}, {'model.layers.29.self_attn.v_proj.base_layer.scales', 'model.layers.29.self_attn.v_proj.quant_linear_module.scales'}, {'model.layers.29.self_attn.v_proj.base_layer.bias', 'model.layers.29.self_attn.v_proj.quant_linear_module.bias'}, {'model.layers.30.self_attn.q_proj.quant_linear_module.qweight', 'model.layers.30.self_attn.q_proj.base_layer.qweight'}, {'model.layers.30.self_attn.q_proj.base_layer.qzeros', 'model.layers.30.self_attn.q_proj.quant_linear_module.qzeros'}, {'model.layers.30.self_attn.q_proj.quant_linear_module.scales', 'model.layers.30.self_attn.q_proj.base_layer.scales'}, {'model.layers.30.self_attn.q_proj.quant_linear_module.bias', 'model.layers.30.self_attn.q_proj.base_layer.bias'}, {'model.layers.30.self_attn.k_proj.base_layer.qweight', 'model.layers.30.self_attn.k_proj.quant_linear_module.qweight'}, {'model.layers.30.self_attn.k_proj.base_layer.qzeros', 'model.layers.30.self_attn.k_proj.quant_linear_module.qzeros'}, {'model.layers.30.self_attn.k_proj.base_layer.scales', 'model.layers.30.self_attn.k_proj.quant_linear_module.scales'}, {'model.layers.30.self_attn.k_proj.quant_linear_module.bias', 'model.layers.30.self_attn.k_proj.base_layer.bias'}, {'model.layers.30.self_attn.v_proj.base_layer.qweight', 'model.layers.30.self_attn.v_proj.quant_linear_module.qweight'}, {'model.layers.30.self_attn.v_proj.quant_linear_module.qzeros', 'model.layers.30.self_attn.v_proj.base_layer.qzeros'}, {'model.layers.30.self_attn.v_proj.base_layer.scales', 'model.layers.30.self_attn.v_proj.quant_linear_module.scales'}, {'model.layers.30.self_attn.v_proj.quant_linear_module.bias', 'model.layers.30.self_attn.v_proj.base_layer.bias'}, {'model.layers.31.self_attn.q_proj.base_layer.qweight', 'model.layers.31.self_attn.q_proj.quant_linear_module.qweight'}, {'model.layers.31.self_attn.q_proj.base_layer.qzeros', 'model.layers.31.self_attn.q_proj.quant_linear_module.qzeros'}, {'model.layers.31.self_attn.q_proj.base_layer.scales', 'model.layers.31.self_attn.q_proj.quant_linear_module.scales'}, {'model.layers.31.self_attn.q_proj.quant_linear_module.bias', 'model.layers.31.self_attn.q_proj.base_layer.bias'}, {'model.layers.31.self_attn.k_proj.base_layer.qweight', 'model.layers.31.self_attn.k_proj.quant_linear_module.qweight'}, {'model.layers.31.self_attn.k_proj.base_layer.qzeros', 'model.layers.31.self_attn.k_proj.quant_linear_module.qzeros'}, {'model.layers.31.self_attn.k_proj.quant_linear_module.scales', 'model.layers.31.self_attn.k_proj.base_layer.scales'}, {'model.layers.31.self_attn.k_proj.base_layer.bias', 'model.layers.31.self_attn.k_proj.quant_linear_module.bias'}, {'model.layers.31.self_attn.v_proj.quant_linear_module.qweight', 'model.layers.31.self_attn.v_proj.base_layer.qweight'}, {'model.layers.31.self_attn.v_proj.base_layer.qzeros', 'model.layers.31.self_attn.v_proj.quant_linear_module.qzeros'}, {'model.layers.31.self_attn.v_proj.quant_linear_module.scales', 'model.layers.31.self_attn.v_proj.base_layer.scales'}, {'model.layers.31.self_attn.v_proj.base_layer.bias', 'model.layers.31.self_attn.v_proj.quant_linear_module.bias'}, {'model.layers.32.self_attn.q_proj.quant_linear_module.qweight', 'model.layers.32.self_attn.q_proj.base_layer.qweight'}, {'model.layers.32.self_attn.q_proj.quant_linear_module.qzeros', 'model.layers.32.self_attn.q_proj.base_layer.qzeros'}, {'model.layers.32.self_attn.q_proj.base_layer.scales', 'model.layers.32.self_attn.q_proj.quant_linear_module.scales'}, {'model.layers.32.self_attn.q_proj.base_layer.bias', 'model.layers.32.self_attn.q_proj.quant_linear_module.bias'}, {'model.layers.32.self_attn.k_proj.base_layer.qweight', 'model.layers.32.self_attn.k_proj.quant_linear_module.qweight'}, {'model.layers.32.self_attn.k_proj.base_layer.qzeros', 'model.layers.32.self_attn.k_proj.quant_linear_module.qzeros'}, {'model.layers.32.self_attn.k_proj.quant_linear_module.scales', 'model.layers.32.self_attn.k_proj.base_layer.scales'}, {'model.layers.32.self_attn.k_proj.base_layer.bias', 'model.layers.32.self_attn.k_proj.quant_linear_module.bias'}, {'model.layers.32.self_attn.v_proj.quant_linear_module.qweight', 'model.layers.32.self_attn.v_proj.base_layer.qweight'}, {'model.layers.32.self_attn.v_proj.quant_linear_module.qzeros', 'model.layers.32.self_attn.v_proj.base_layer.qzeros'}, {'model.layers.32.self_attn.v_proj.base_layer.scales', 'model.layers.32.self_attn.v_proj.quant_linear_module.scales'}, {'model.layers.32.self_attn.v_proj.quant_linear_module.bias', 'model.layers.32.self_attn.v_proj.base_layer.bias'}, {'model.layers.33.self_attn.q_proj.base_layer.qweight', 'model.layers.33.self_attn.q_proj.quant_linear_module.qweight'}, {'model.layers.33.self_attn.q_proj.base_layer.qzeros', 'model.layers.33.self_attn.q_proj.quant_linear_module.qzeros'}, {'model.layers.33.self_attn.q_proj.base_layer.scales', 'model.layers.33.self_attn.q_proj.quant_linear_module.scales'}, {'model.layers.33.self_attn.q_proj.quant_linear_module.bias', 'model.layers.33.self_attn.q_proj.base_layer.bias'}, {'model.layers.33.self_attn.k_proj.base_layer.qweight', 'model.layers.33.self_attn.k_proj.quant_linear_module.qweight'}, {'model.layers.33.self_attn.k_proj.base_layer.qzeros', 'model.layers.33.self_attn.k_proj.quant_linear_module.qzeros'}, {'model.layers.33.self_attn.k_proj.quant_linear_module.scales', 'model.layers.33.self_attn.k_proj.base_layer.scales'}, {'model.layers.33.self_attn.k_proj.base_layer.bias', 'model.layers.33.self_attn.k_proj.quant_linear_module.bias'}, {'model.layers.33.self_attn.v_proj.base_layer.qweight', 'model.layers.33.self_attn.v_proj.quant_linear_module.qweight'}, {'model.layers.33.self_attn.v_proj.base_layer.qzeros', 'model.layers.33.self_attn.v_proj.quant_linear_module.qzeros'}, {'model.layers.33.self_attn.v_proj.base_layer.scales', 'model.layers.33.self_attn.v_proj.quant_linear_module.scales'}, {'model.layers.33.self_attn.v_proj.quant_linear_module.bias', 'model.layers.33.self_attn.v_proj.base_layer.bias'}, {'model.layers.34.self_attn.q_proj.base_layer.qweight', 'model.layers.34.self_attn.q_proj.quant_linear_module.qweight'}, {'model.layers.34.self_attn.q_proj.base_layer.qzeros', 'model.layers.34.self_attn.q_proj.quant_linear_module.qzeros'}, {'model.layers.34.self_attn.q_proj.quant_linear_module.scales', 'model.layers.34.self_attn.q_proj.base_layer.scales'}, {'model.layers.34.self_attn.q_proj.base_layer.bias', 'model.layers.34.self_attn.q_proj.quant_linear_module.bias'}, {'model.layers.34.self_attn.k_proj.base_layer.qweight', 'model.layers.34.self_attn.k_proj.quant_linear_module.qweight'}, {'model.layers.34.self_attn.k_proj.quant_linear_module.qzeros', 'model.layers.34.self_attn.k_proj.base_layer.qzeros'}, {'model.layers.34.self_attn.k_proj.base_layer.scales', 'model.layers.34.self_attn.k_proj.quant_linear_module.scales'}, {'model.layers.34.self_attn.k_proj.quant_linear_module.bias', 'model.layers.34.self_attn.k_proj.base_layer.bias'}, {'model.layers.34.self_attn.v_proj.quant_linear_module.qweight', 'model.layers.34.self_attn.v_proj.base_layer.qweight'}, {'model.layers.34.self_attn.v_proj.quant_linear_module.qzeros', 'model.layers.34.self_attn.v_proj.base_layer.qzeros'}, {'model.layers.34.self_attn.v_proj.base_layer.scales', 'model.layers.34.self_attn.v_proj.quant_linear_module.scales'}, {'model.layers.34.self_attn.v_proj.quant_linear_module.bias', 'model.layers.34.self_attn.v_proj.base_layer.bias'}, {'model.layers.35.self_attn.q_proj.quant_linear_module.qweight', 'model.layers.35.self_attn.q_proj.base_layer.qweight'}, {'model.layers.35.self_attn.q_proj.quant_linear_module.qzeros', 'model.layers.35.self_attn.q_proj.base_layer.qzeros'}, {'model.layers.35.self_attn.q_proj.base_layer.scales', 'model.layers.35.self_attn.q_proj.quant_linear_module.scales'}, {'model.layers.35.self_attn.q_proj.quant_linear_module.bias', 'model.layers.35.self_attn.q_proj.base_layer.bias'}, {'model.layers.35.self_attn.k_proj.base_layer.qweight', 'model.layers.35.self_attn.k_proj.quant_linear_module.qweight'}, {'model.layers.35.self_attn.k_proj.base_layer.qzeros', 'model.layers.35.self_attn.k_proj.quant_linear_module.qzeros'}, {'model.layers.35.self_attn.k_proj.quant_linear_module.scales', 'model.layers.35.self_attn.k_proj.base_layer.scales'}, {'model.layers.35.self_attn.k_proj.base_layer.bias', 'model.layers.35.self_attn.k_proj.quant_linear_module.bias'}, {'model.layers.35.self_attn.v_proj.base_layer.qweight', 'model.layers.35.self_attn.v_proj.quant_linear_module.qweight'}, {'model.layers.35.self_attn.v_proj.base_layer.qzeros', 'model.layers.35.self_attn.v_proj.quant_linear_module.qzeros'}, {'model.layers.35.self_attn.v_proj.base_layer.scales', 'model.layers.35.self_attn.v_proj.quant_linear_module.scales'}, {'model.layers.35.self_attn.v_proj.base_layer.bias', 'model.layers.35.self_attn.v_proj.quant_linear_module.bias'}, {'model.layers.36.self_attn.q_proj.quant_linear_module.qweight', 'model.layers.36.self_attn.q_proj.base_layer.qweight'}, {'model.layers.36.self_attn.q_proj.quant_linear_module.qzeros', 'model.layers.36.self_attn.q_proj.base_layer.qzeros'}, {'model.layers.36.self_attn.q_proj.base_layer.scales', 'model.layers.36.self_attn.q_proj.quant_linear_module.scales'}, {'model.layers.36.self_attn.q_proj.base_layer.bias', 'model.layers.36.self_attn.q_proj.quant_linear_module.bias'}, {'model.layers.36.self_attn.k_proj.quant_linear_module.qweight', 'model.layers.36.self_attn.k_proj.base_layer.qweight'}, {'model.layers.36.self_attn.k_proj.quant_linear_module.qzeros', 'model.layers.36.self_attn.k_proj.base_layer.qzeros'}, {'model.layers.36.self_attn.k_proj.base_layer.scales', 'model.layers.36.self_attn.k_proj.quant_linear_module.scales'}, {'model.layers.36.self_attn.k_proj.base_layer.bias', 'model.layers.36.self_attn.k_proj.quant_linear_module.bias'}, {'model.layers.36.self_attn.v_proj.quant_linear_module.qweight', 'model.layers.36.self_attn.v_proj.base_layer.qweight'}, {'model.layers.36.self_attn.v_proj.base_layer.qzeros', 'model.layers.36.self_attn.v_proj.quant_linear_module.qzeros'}, {'model.layers.36.self_attn.v_proj.base_layer.scales', 'model.layers.36.self_attn.v_proj.quant_linear_module.scales'}, {'model.layers.36.self_attn.v_proj.base_layer.bias', 'model.layers.36.self_attn.v_proj.quant_linear_module.bias'}, {'model.layers.37.self_attn.q_proj.quant_linear_module.qweight', 'model.layers.37.self_attn.q_proj.base_layer.qweight'}, {'model.layers.37.self_attn.q_proj.base_layer.qzeros', 'model.layers.37.self_attn.q_proj.quant_linear_module.qzeros'}, {'model.layers.37.self_attn.q_proj.base_layer.scales', 'model.layers.37.self_attn.q_proj.quant_linear_module.scales'}, {'model.layers.37.self_attn.q_proj.base_layer.bias', 'model.layers.37.self_attn.q_proj.quant_linear_module.bias'}, {'model.layers.37.self_attn.k_proj.base_layer.qweight', 'model.layers.37.self_attn.k_proj.quant_linear_module.qweight'}, {'model.layers.37.self_attn.k_proj.base_layer.qzeros', 'model.layers.37.self_attn.k_proj.quant_linear_module.qzeros'}, {'model.layers.37.self_attn.k_proj.base_layer.scales', 'model.layers.37.self_attn.k_proj.quant_linear_module.scales'}, {'model.layers.37.self_attn.k_proj.base_layer.bias', 'model.layers.37.self_attn.k_proj.quant_linear_module.bias'}, {'model.layers.37.self_attn.v_proj.quant_linear_module.qweight', 'model.layers.37.self_attn.v_proj.base_layer.qweight'}, {'model.layers.37.self_attn.v_proj.quant_linear_module.qzeros', 'model.layers.37.self_attn.v_proj.base_layer.qzeros'}, {'model.layers.37.self_attn.v_proj.quant_linear_module.scales', 'model.layers.37.self_attn.v_proj.base_layer.scales'}, {'model.layers.37.self_attn.v_proj.base_layer.bias', 'model.layers.37.self_attn.v_proj.quant_linear_module.bias'}, {'model.layers.38.self_attn.q_proj.base_layer.qweight', 'model.layers.38.self_attn.q_proj.quant_linear_module.qweight'}, {'model.layers.38.self_attn.q_proj.quant_linear_module.qzeros', 'model.layers.38.self_attn.q_proj.base_layer.qzeros'}, {'model.layers.38.self_attn.q_proj.quant_linear_module.scales', 'model.layers.38.self_attn.q_proj.base_layer.scales'}, {'model.layers.38.self_attn.q_proj.base_layer.bias', 'model.layers.38.self_attn.q_proj.quant_linear_module.bias'}, {'model.layers.38.self_attn.k_proj.base_layer.qweight', 'model.layers.38.self_attn.k_proj.quant_linear_module.qweight'}, {'model.layers.38.self_attn.k_proj.quant_linear_module.qzeros', 'model.layers.38.self_attn.k_proj.base_layer.qzeros'}, {'model.layers.38.self_attn.k_proj.quant_linear_module.scales', 'model.layers.38.self_attn.k_proj.base_layer.scales'}, {'model.layers.38.self_attn.k_proj.base_layer.bias', 'model.layers.38.self_attn.k_proj.quant_linear_module.bias'}, {'model.layers.38.self_attn.v_proj.quant_linear_module.qweight', 'model.layers.38.self_attn.v_proj.base_layer.qweight'}, {'model.layers.38.self_attn.v_proj.quant_linear_module.qzeros', 'model.layers.38.self_attn.v_proj.base_layer.qzeros'}, {'model.layers.38.self_attn.v_proj.quant_linear_module.scales', 'model.layers.38.self_attn.v_proj.base_layer.scales'}, {'model.layers.38.self_attn.v_proj.base_layer.bias', 'model.layers.38.self_attn.v_proj.quant_linear_module.bias'}, {'model.layers.39.self_attn.q_proj.base_layer.qweight', 'model.layers.39.self_attn.q_proj.quant_linear_module.qweight'}, {'model.layers.39.self_attn.q_proj.base_layer.qzeros', 'model.layers.39.self_attn.q_proj.quant_linear_module.qzeros'}, {'model.layers.39.self_attn.q_proj.base_layer.scales', 'model.layers.39.self_attn.q_proj.quant_linear_module.scales'}, {'model.layers.39.self_attn.q_proj.base_layer.bias', 'model.layers.39.self_attn.q_proj.quant_linear_module.bias'}, {'model.layers.39.self_attn.k_proj.base_layer.qweight', 'model.layers.39.self_attn.k_proj.quant_linear_module.qweight'}, {'model.layers.39.self_attn.k_proj.base_layer.qzeros', 'model.layers.39.self_attn.k_proj.quant_linear_module.qzeros'}, {'model.layers.39.self_attn.k_proj.quant_linear_module.scales', 'model.layers.39.self_attn.k_proj.base_layer.scales'}, {'model.layers.39.self_attn.k_proj.base_layer.bias', 'model.layers.39.self_attn.k_proj.quant_linear_module.bias'}, {'model.layers.39.self_attn.v_proj.quant_linear_module.qweight', 'model.layers.39.self_attn.v_proj.base_layer.qweight'}, {'model.layers.39.self_attn.v_proj.quant_linear_module.qzeros', 'model.layers.39.self_attn.v_proj.base_layer.qzeros'}, {'model.layers.39.self_attn.v_proj.base_layer.scales', 'model.layers.39.self_attn.v_proj.quant_linear_module.scales'}, {'model.layers.39.self_attn.v_proj.base_layer.bias', 'model.layers.39.self_attn.v_proj.quant_linear_module.bias'}, {'model.layers.40.self_attn.q_proj.quant_linear_module.qweight', 'model.layers.40.self_attn.q_proj.base_layer.qweight'}, {'model.layers.40.self_attn.q_proj.quant_linear_module.qzeros', 'model.layers.40.self_attn.q_proj.base_layer.qzeros'}, {'model.layers.40.self_attn.q_proj.base_layer.scales', 'model.layers.40.self_attn.q_proj.quant_linear_module.scales'}, {'model.layers.40.self_attn.q_proj.base_layer.bias', 'model.layers.40.self_attn.q_proj.quant_linear_module.bias'}, {'model.layers.40.self_attn.k_proj.base_layer.qweight', 'model.layers.40.self_attn.k_proj.quant_linear_module.qweight'}, {'model.layers.40.self_attn.k_proj.base_layer.qzeros', 'model.layers.40.self_attn.k_proj.quant_linear_module.qzeros'}, {'model.layers.40.self_attn.k_proj.quant_linear_module.scales', 'model.layers.40.self_attn.k_proj.base_layer.scales'}, {'model.layers.40.self_attn.k_proj.base_layer.bias', 'model.layers.40.self_attn.k_proj.quant_linear_module.bias'}, {'model.layers.40.self_attn.v_proj.base_layer.qweight', 'model.layers.40.self_attn.v_proj.quant_linear_module.qweight'}, {'model.layers.40.self_attn.v_proj.base_layer.qzeros', 'model.layers.40.self_attn.v_proj.quant_linear_module.qzeros'}, {'model.layers.40.self_attn.v_proj.quant_linear_module.scales', 'model.layers.40.self_attn.v_proj.base_layer.scales'}, {'model.layers.40.self_attn.v_proj.base_layer.bias', 'model.layers.40.self_attn.v_proj.quant_linear_module.bias'}, {'model.layers.41.self_attn.q_proj.quant_linear_module.qweight', 'model.layers.41.self_attn.q_proj.base_layer.qweight'}, {'model.layers.41.self_attn.q_proj.quant_linear_module.qzeros', 'model.layers.41.self_attn.q_proj.base_layer.qzeros'}, {'model.layers.41.self_attn.q_proj.base_layer.scales', 'model.layers.41.self_attn.q_proj.quant_linear_module.scales'}, {'model.layers.41.self_attn.q_proj.quant_linear_module.bias', 'model.layers.41.self_attn.q_proj.base_layer.bias'}, {'model.layers.41.self_attn.k_proj.base_layer.qweight', 'model.layers.41.self_attn.k_proj.quant_linear_module.qweight'}, {'model.layers.41.self_attn.k_proj.base_layer.qzeros', 'model.layers.41.self_attn.k_proj.quant_linear_module.qzeros'}, {'model.layers.41.self_attn.k_proj.base_layer.scales', 'model.layers.41.self_attn.k_proj.quant_linear_module.scales'}, {'model.layers.41.self_attn.k_proj.quant_linear_module.bias', 'model.layers.41.self_attn.k_proj.base_layer.bias'}, {'model.layers.41.self_attn.v_proj.quant_linear_module.qweight', 'model.layers.41.self_attn.v_proj.base_layer.qweight'}, {'model.layers.41.self_attn.v_proj.base_layer.qzeros', 'model.layers.41.self_attn.v_proj.quant_linear_module.qzeros'}, {'model.layers.41.self_attn.v_proj.quant_linear_module.scales', 'model.layers.41.self_attn.v_proj.base_layer.scales'}, {'model.layers.41.self_attn.v_proj.base_layer.bias', 'model.layers.41.self_attn.v_proj.quant_linear_module.bias'}, {'model.layers.42.self_attn.q_proj.base_layer.qweight', 'model.layers.42.self_attn.q_proj.quant_linear_module.qweight'}, {'model.layers.42.self_attn.q_proj.base_layer.qzeros', 'model.layers.42.self_attn.q_proj.quant_linear_module.qzeros'}, {'model.layers.42.self_attn.q_proj.quant_linear_module.scales', 'model.layers.42.self_attn.q_proj.base_layer.scales'}, {'model.layers.42.self_attn.q_proj.quant_linear_module.bias', 'model.layers.42.self_attn.q_proj.base_layer.bias'}, {'model.layers.42.self_attn.k_proj.base_layer.qweight', 'model.layers.42.self_attn.k_proj.quant_linear_module.qweight'}, {'model.layers.42.self_attn.k_proj.quant_linear_module.qzeros', 'model.layers.42.self_attn.k_proj.base_layer.qzeros'}, {'model.layers.42.self_attn.k_proj.base_layer.scales', 'model.layers.42.self_attn.k_proj.quant_linear_module.scales'}, {'model.layers.42.self_attn.k_proj.quant_linear_module.bias', 'model.layers.42.self_attn.k_proj.base_layer.bias'}, {'model.layers.42.self_attn.v_proj.quant_linear_module.qweight', 'model.layers.42.self_attn.v_proj.base_layer.qweight'}, {'model.layers.42.self_attn.v_proj.quant_linear_module.qzeros', 'model.layers.42.self_attn.v_proj.base_layer.qzeros'}, {'model.layers.42.self_attn.v_proj.base_layer.scales', 'model.layers.42.self_attn.v_proj.quant_linear_module.scales'}, {'model.layers.42.self_attn.v_proj.base_layer.bias', 'model.layers.42.self_attn.v_proj.quant_linear_module.bias'}, {'model.layers.43.self_attn.q_proj.base_layer.qweight', 'model.layers.43.self_attn.q_proj.quant_linear_module.qweight'}, {'model.layers.43.self_attn.q_proj.quant_linear_module.qzeros', 'model.layers.43.self_attn.q_proj.base_layer.qzeros'}, {'model.layers.43.self_attn.q_proj.base_layer.scales', 'model.layers.43.self_attn.q_proj.quant_linear_module.scales'}, {'model.layers.43.self_attn.q_proj.quant_linear_module.bias', 'model.layers.43.self_attn.q_proj.base_layer.bias'}, {'model.layers.43.self_attn.k_proj.quant_linear_module.qweight', 'model.layers.43.self_attn.k_proj.base_layer.qweight'}, {'model.layers.43.self_attn.k_proj.quant_linear_module.qzeros', 'model.layers.43.self_attn.k_proj.base_layer.qzeros'}, {'model.layers.43.self_attn.k_proj.quant_linear_module.scales', 'model.layers.43.self_attn.k_proj.base_layer.scales'}, {'model.layers.43.self_attn.k_proj.base_layer.bias', 'model.layers.43.self_attn.k_proj.quant_linear_module.bias'}, {'model.layers.43.self_attn.v_proj.base_layer.qweight', 'model.layers.43.self_attn.v_proj.quant_linear_module.qweight'}, {'model.layers.43.self_attn.v_proj.base_layer.qzeros', 'model.layers.43.self_attn.v_proj.quant_linear_module.qzeros'}, {'model.layers.43.self_attn.v_proj.quant_linear_module.scales', 'model.layers.43.self_attn.v_proj.base_layer.scales'}, {'model.layers.43.self_attn.v_proj.quant_linear_module.bias', 'model.layers.43.self_attn.v_proj.base_layer.bias'}, {'model.layers.44.self_attn.q_proj.base_layer.qweight', 'model.layers.44.self_attn.q_proj.quant_linear_module.qweight'}, {'model.layers.44.self_attn.q_proj.quant_linear_module.qzeros', 'model.layers.44.self_attn.q_proj.base_layer.qzeros'}, {'model.layers.44.self_attn.q_proj.base_layer.scales', 'model.layers.44.self_attn.q_proj.quant_linear_module.scales'}, {'model.layers.44.self_attn.q_proj.base_layer.bias', 'model.layers.44.self_attn.q_proj.quant_linear_module.bias'}, {'model.layers.44.self_attn.k_proj.base_layer.qweight', 'model.layers.44.self_attn.k_proj.quant_linear_module.qweight'}, {'model.layers.44.self_attn.k_proj.quant_linear_module.qzeros', 'model.layers.44.self_attn.k_proj.base_layer.qzeros'}, {'model.layers.44.self_attn.k_proj.base_layer.scales', 'model.layers.44.self_attn.k_proj.quant_linear_module.scales'}, {'model.layers.44.self_attn.k_proj.quant_linear_module.bias', 'model.layers.44.self_attn.k_proj.base_layer.bias'}, {'model.layers.44.self_attn.v_proj.quant_linear_module.qweight', 'model.layers.44.self_attn.v_proj.base_layer.qweight'}, {'model.layers.44.self_attn.v_proj.base_layer.qzeros', 'model.layers.44.self_attn.v_proj.quant_linear_module.qzeros'}, {'model.layers.44.self_attn.v_proj.base_layer.scales', 'model.layers.44.self_attn.v_proj.quant_linear_module.scales'}, {'model.layers.44.self_attn.v_proj.base_layer.bias', 'model.layers.44.self_attn.v_proj.quant_linear_module.bias'}, {'model.layers.45.self_attn.q_proj.base_layer.qweight', 'model.layers.45.self_attn.q_proj.quant_linear_module.qweight'}, {'model.layers.45.self_attn.q_proj.quant_linear_module.qzeros', 'model.layers.45.self_attn.q_proj.base_layer.qzeros'}, {'model.layers.45.self_attn.q_proj.quant_linear_module.scales', 'model.layers.45.self_attn.q_proj.base_layer.scales'}, {'model.layers.45.self_attn.q_proj.base_layer.bias', 'model.layers.45.self_attn.q_proj.quant_linear_module.bias'}, {'model.layers.45.self_attn.k_proj.quant_linear_module.qweight', 'model.layers.45.self_attn.k_proj.base_layer.qweight'}, {'model.layers.45.self_attn.k_proj.base_layer.qzeros', 'model.layers.45.self_attn.k_proj.quant_linear_module.qzeros'}, {'model.layers.45.self_attn.k_proj.base_layer.scales', 'model.layers.45.self_attn.k_proj.quant_linear_module.scales'}, {'model.layers.45.self_attn.k_proj.quant_linear_module.bias', 'model.layers.45.self_attn.k_proj.base_layer.bias'}, {'model.layers.45.self_attn.v_proj.quant_linear_module.qweight', 'model.layers.45.self_attn.v_proj.base_layer.qweight'}, {'model.layers.45.self_attn.v_proj.quant_linear_module.qzeros', 'model.layers.45.self_attn.v_proj.base_layer.qzeros'}, {'model.layers.45.self_attn.v_proj.base_layer.scales', 'model.layers.45.self_attn.v_proj.quant_linear_module.scales'}, {'model.layers.45.self_attn.v_proj.quant_linear_module.bias', 'model.layers.45.self_attn.v_proj.base_layer.bias'}, {'model.layers.46.self_attn.q_proj.quant_linear_module.qweight', 'model.layers.46.self_attn.q_proj.base_layer.qweight'}, {'model.layers.46.self_attn.q_proj.quant_linear_module.qzeros', 'model.layers.46.self_attn.q_proj.base_layer.qzeros'}, {'model.layers.46.self_attn.q_proj.base_layer.scales', 'model.layers.46.self_attn.q_proj.quant_linear_module.scales'}, {'model.layers.46.self_attn.q_proj.base_layer.bias', 'model.layers.46.self_attn.q_proj.quant_linear_module.bias'}, {'model.layers.46.self_attn.k_proj.quant_linear_module.qweight', 'model.layers.46.self_attn.k_proj.base_layer.qweight'}, {'model.layers.46.self_attn.k_proj.quant_linear_module.qzeros', 'model.layers.46.self_attn.k_proj.base_layer.qzeros'}, {'model.layers.46.self_attn.k_proj.base_layer.scales', 'model.layers.46.self_attn.k_proj.quant_linear_module.scales'}, {'model.layers.46.self_attn.k_proj.quant_linear_module.bias', 'model.layers.46.self_attn.k_proj.base_layer.bias'}, {'model.layers.46.self_attn.v_proj.quant_linear_module.qweight', 'model.layers.46.self_attn.v_proj.base_layer.qweight'}, {'model.layers.46.self_attn.v_proj.quant_linear_module.qzeros', 'model.layers.46.self_attn.v_proj.base_layer.qzeros'}, {'model.layers.46.self_attn.v_proj.base_layer.scales', 'model.layers.46.self_attn.v_proj.quant_linear_module.scales'}, {'model.layers.46.self_attn.v_proj.base_layer.bias', 'model.layers.46.self_attn.v_proj.quant_linear_module.bias'}, {'model.layers.47.self_attn.q_proj.quant_linear_module.qweight', 'model.layers.47.self_attn.q_proj.base_layer.qweight'}, {'model.layers.47.self_attn.q_proj.base_layer.qzeros', 'model.layers.47.self_attn.q_proj.quant_linear_module.qzeros'}, {'model.layers.47.self_attn.q_proj.quant_linear_module.scales', 'model.layers.47.self_attn.q_proj.base_layer.scales'}, {'model.layers.47.self_attn.q_proj.quant_linear_module.bias', 'model.layers.47.self_attn.q_proj.base_layer.bias'}, {'model.layers.47.self_attn.k_proj.base_layer.qweight', 'model.layers.47.self_attn.k_proj.quant_linear_module.qweight'}, {'model.layers.47.self_attn.k_proj.base_layer.qzeros', 'model.layers.47.self_attn.k_proj.quant_linear_module.qzeros'}, {'model.layers.47.self_attn.k_proj.base_layer.scales', 'model.layers.47.self_attn.k_proj.quant_linear_module.scales'}, {'model.layers.47.self_attn.k_proj.base_layer.bias', 'model.layers.47.self_attn.k_proj.quant_linear_module.bias'}, {'model.layers.47.self_attn.v_proj.quant_linear_module.qweight', 'model.layers.47.self_attn.v_proj.base_layer.qweight'}, {'model.layers.47.self_attn.v_proj.quant_linear_module.qzeros', 'model.layers.47.self_attn.v_proj.base_layer.qzeros'}, {'model.layers.47.self_attn.v_proj.base_layer.scales', 'model.layers.47.self_attn.v_proj.quant_linear_module.scales'}, {'model.layers.47.self_attn.v_proj.quant_linear_module.bias', 'model.layers.47.self_attn.v_proj.base_layer.bias'}, {'model.layers.48.self_attn.q_proj.base_layer.qweight', 'model.layers.48.self_attn.q_proj.quant_linear_module.qweight'}, {'model.layers.48.self_attn.q_proj.base_layer.qzeros', 'model.layers.48.self_attn.q_proj.quant_linear_module.qzeros'}, {'model.layers.48.self_attn.q_proj.base_layer.scales', 'model.layers.48.self_attn.q_proj.quant_linear_module.scales'}, {'model.layers.48.self_attn.q_proj.quant_linear_module.bias', 'model.layers.48.self_attn.q_proj.base_layer.bias'}, {'model.layers.48.self_attn.k_proj.base_layer.qweight', 'model.layers.48.self_attn.k_proj.quant_linear_module.qweight'}, {'model.layers.48.self_attn.k_proj.base_layer.qzeros', 'model.layers.48.self_attn.k_proj.quant_linear_module.qzeros'}, {'model.layers.48.self_attn.k_proj.base_layer.scales', 'model.layers.48.self_attn.k_proj.quant_linear_module.scales'}, {'model.layers.48.self_attn.k_proj.quant_linear_module.bias', 'model.layers.48.self_attn.k_proj.base_layer.bias'}, {'model.layers.48.self_attn.v_proj.quant_linear_module.qweight', 'model.layers.48.self_attn.v_proj.base_layer.qweight'}, {'model.layers.48.self_attn.v_proj.quant_linear_module.qzeros', 'model.layers.48.self_attn.v_proj.base_layer.qzeros'}, {'model.layers.48.self_attn.v_proj.base_layer.scales', 'model.layers.48.self_attn.v_proj.quant_linear_module.scales'}, {'model.layers.48.self_attn.v_proj.quant_linear_module.bias', 'model.layers.48.self_attn.v_proj.base_layer.bias'}, {'model.layers.49.self_attn.q_proj.base_layer.qweight', 'model.layers.49.self_attn.q_proj.quant_linear_module.qweight'}, {'model.layers.49.self_attn.q_proj.quant_linear_module.qzeros', 'model.layers.49.self_attn.q_proj.base_layer.qzeros'}, {'model.layers.49.self_attn.q_proj.quant_linear_module.scales', 'model.layers.49.self_attn.q_proj.base_layer.scales'}, {'model.layers.49.self_attn.q_proj.quant_linear_module.bias', 'model.layers.49.self_attn.q_proj.base_layer.bias'}, {'model.layers.49.self_attn.k_proj.base_layer.qweight', 'model.layers.49.self_attn.k_proj.quant_linear_module.qweight'}, {'model.layers.49.self_attn.k_proj.quant_linear_module.qzeros', 'model.layers.49.self_attn.k_proj.base_layer.qzeros'}, {'model.layers.49.self_attn.k_proj.quant_linear_module.scales', 'model.layers.49.self_attn.k_proj.base_layer.scales'}, {'model.layers.49.self_attn.k_proj.base_layer.bias', 'model.layers.49.self_attn.k_proj.quant_linear_module.bias'}, {'model.layers.49.self_attn.v_proj.quant_linear_module.qweight', 'model.layers.49.self_attn.v_proj.base_layer.qweight'}, {'model.layers.49.self_attn.v_proj.quant_linear_module.qzeros', 'model.layers.49.self_attn.v_proj.base_layer.qzeros'}, {'model.layers.49.self_attn.v_proj.quant_linear_module.scales', 'model.layers.49.self_attn.v_proj.base_layer.scales'}, {'model.layers.49.self_attn.v_proj.base_layer.bias', 'model.layers.49.self_attn.v_proj.quant_linear_module.bias'}, {'model.layers.50.self_attn.q_proj.base_layer.qweight', 'model.layers.50.self_attn.q_proj.quant_linear_module.qweight'}, {'model.layers.50.self_attn.q_proj.base_layer.qzeros', 'model.layers.50.self_attn.q_proj.quant_linear_module.qzeros'}, {'model.layers.50.self_attn.q_proj.quant_linear_module.scales', 'model.layers.50.self_attn.q_proj.base_layer.scales'}, {'model.layers.50.self_attn.q_proj.base_layer.bias', 'model.layers.50.self_attn.q_proj.quant_linear_module.bias'}, {'model.layers.50.self_attn.k_proj.quant_linear_module.qweight', 'model.layers.50.self_attn.k_proj.base_layer.qweight'}, {'model.layers.50.self_attn.k_proj.base_layer.qzeros', 'model.layers.50.self_attn.k_proj.quant_linear_module.qzeros'}, {'model.layers.50.self_attn.k_proj.base_layer.scales', 'model.layers.50.self_attn.k_proj.quant_linear_module.scales'}, {'model.layers.50.self_attn.k_proj.quant_linear_module.bias', 'model.layers.50.self_attn.k_proj.base_layer.bias'}, {'model.layers.50.self_attn.v_proj.base_layer.qweight', 'model.layers.50.self_attn.v_proj.quant_linear_module.qweight'}, {'model.layers.50.self_attn.v_proj.quant_linear_module.qzeros', 'model.layers.50.self_attn.v_proj.base_layer.qzeros'}, {'model.layers.50.self_attn.v_proj.quant_linear_module.scales', 'model.layers.50.self_attn.v_proj.base_layer.scales'}, {'model.layers.50.self_attn.v_proj.quant_linear_module.bias', 'model.layers.50.self_attn.v_proj.base_layer.bias'}, {'model.layers.51.self_attn.q_proj.base_layer.qweight', 'model.layers.51.self_attn.q_proj.quant_linear_module.qweight'}, {'model.layers.51.self_attn.q_proj.quant_linear_module.qzeros', 'model.layers.51.self_attn.q_proj.base_layer.qzeros'}, {'model.layers.51.self_attn.q_proj.base_layer.scales', 'model.layers.51.self_attn.q_proj.quant_linear_module.scales'}, {'model.layers.51.self_attn.q_proj.base_layer.bias', 'model.layers.51.self_attn.q_proj.quant_linear_module.bias'}, {'model.layers.51.self_attn.k_proj.base_layer.qweight', 'model.layers.51.self_attn.k_proj.quant_linear_module.qweight'}, {'model.layers.51.self_attn.k_proj.quant_linear_module.qzeros', 'model.layers.51.self_attn.k_proj.base_layer.qzeros'}, {'model.layers.51.self_attn.k_proj.quant_linear_module.scales', 'model.layers.51.self_attn.k_proj.base_layer.scales'}, {'model.layers.51.self_attn.k_proj.base_layer.bias', 'model.layers.51.self_attn.k_proj.quant_linear_module.bias'}, {'model.layers.51.self_attn.v_proj.quant_linear_module.qweight', 'model.layers.51.self_attn.v_proj.base_layer.qweight'}, {'model.layers.51.self_attn.v_proj.quant_linear_module.qzeros', 'model.layers.51.self_attn.v_proj.base_layer.qzeros'}, {'model.layers.51.self_attn.v_proj.base_layer.scales', 'model.layers.51.self_attn.v_proj.quant_linear_module.scales'}, {'model.layers.51.self_attn.v_proj.base_layer.bias', 'model.layers.51.self_attn.v_proj.quant_linear_module.bias'}, {'model.layers.52.self_attn.q_proj.quant_linear_module.qweight', 'model.layers.52.self_attn.q_proj.base_layer.qweight'}, {'model.layers.52.self_attn.q_proj.base_layer.qzeros', 'model.layers.52.self_attn.q_proj.quant_linear_module.qzeros'}, {'model.layers.52.self_attn.q_proj.base_layer.scales', 'model.layers.52.self_attn.q_proj.quant_linear_module.scales'}, {'model.layers.52.self_attn.q_proj.quant_linear_module.bias', 'model.layers.52.self_attn.q_proj.base_layer.bias'}, {'model.layers.52.self_attn.k_proj.base_layer.qweight', 'model.layers.52.self_attn.k_proj.quant_linear_module.qweight'}, {'model.layers.52.self_attn.k_proj.base_layer.qzeros', 'model.layers.52.self_attn.k_proj.quant_linear_module.qzeros'}, {'model.layers.52.self_attn.k_proj.base_layer.scales', 'model.layers.52.self_attn.k_proj.quant_linear_module.scales'}, {'model.layers.52.self_attn.k_proj.quant_linear_module.bias', 'model.layers.52.self_attn.k_proj.base_layer.bias'}, {'model.layers.52.self_attn.v_proj.quant_linear_module.qweight', 'model.layers.52.self_attn.v_proj.base_layer.qweight'}, {'model.layers.52.self_attn.v_proj.quant_linear_module.qzeros', 'model.layers.52.self_attn.v_proj.base_layer.qzeros'}, {'model.layers.52.self_attn.v_proj.quant_linear_module.scales', 'model.layers.52.self_attn.v_proj.base_layer.scales'}, {'model.layers.52.self_attn.v_proj.base_layer.bias', 'model.layers.52.self_attn.v_proj.quant_linear_module.bias'}, {'model.layers.53.self_attn.q_proj.quant_linear_module.qweight', 'model.layers.53.self_attn.q_proj.base_layer.qweight'}, {'model.layers.53.self_attn.q_proj.base_layer.qzeros', 'model.layers.53.self_attn.q_proj.quant_linear_module.qzeros'}, {'model.layers.53.self_attn.q_proj.base_layer.scales', 'model.layers.53.self_attn.q_proj.quant_linear_module.scales'}, {'model.layers.53.self_attn.q_proj.quant_linear_module.bias', 'model.layers.53.self_attn.q_proj.base_layer.bias'}, {'model.layers.53.self_attn.k_proj.quant_linear_module.qweight', 'model.layers.53.self_attn.k_proj.base_layer.qweight'}, {'model.layers.53.self_attn.k_proj.quant_linear_module.qzeros', 'model.layers.53.self_attn.k_proj.base_layer.qzeros'}, {'model.layers.53.self_attn.k_proj.quant_linear_module.scales', 'model.layers.53.self_attn.k_proj.base_layer.scales'}, {'model.layers.53.self_attn.k_proj.base_layer.bias', 'model.layers.53.self_attn.k_proj.quant_linear_module.bias'}, {'model.layers.53.self_attn.v_proj.base_layer.qweight', 'model.layers.53.self_attn.v_proj.quant_linear_module.qweight'}, {'model.layers.53.self_attn.v_proj.quant_linear_module.qzeros', 'model.layers.53.self_attn.v_proj.base_layer.qzeros'}, {'model.layers.53.self_attn.v_proj.quant_linear_module.scales', 'model.layers.53.self_attn.v_proj.base_layer.scales'}, {'model.layers.53.self_attn.v_proj.quant_linear_module.bias', 'model.layers.53.self_attn.v_proj.base_layer.bias'}, {'model.layers.54.self_attn.q_proj.base_layer.qweight', 'model.layers.54.self_attn.q_proj.quant_linear_module.qweight'}, {'model.layers.54.self_attn.q_proj.base_layer.qzeros', 'model.layers.54.self_attn.q_proj.quant_linear_module.qzeros'}, {'model.layers.54.self_attn.q_proj.quant_linear_module.scales', 'model.layers.54.self_attn.q_proj.base_layer.scales'}, {'model.layers.54.self_attn.q_proj.base_layer.bias', 'model.layers.54.self_attn.q_proj.quant_linear_module.bias'}, {'model.layers.54.self_attn.k_proj.quant_linear_module.qweight', 'model.layers.54.self_attn.k_proj.base_layer.qweight'}, {'model.layers.54.self_attn.k_proj.base_layer.qzeros', 'model.layers.54.self_attn.k_proj.quant_linear_module.qzeros'}, {'model.layers.54.self_attn.k_proj.base_layer.scales', 'model.layers.54.self_attn.k_proj.quant_linear_module.scales'}, {'model.layers.54.self_attn.k_proj.quant_linear_module.bias', 'model.layers.54.self_attn.k_proj.base_layer.bias'}, {'model.layers.54.self_attn.v_proj.base_layer.qweight', 'model.layers.54.self_attn.v_proj.quant_linear_module.qweight'}, {'model.layers.54.self_attn.v_proj.quant_linear_module.qzeros', 'model.layers.54.self_attn.v_proj.base_layer.qzeros'}, {'model.layers.54.self_attn.v_proj.base_layer.scales', 'model.layers.54.self_attn.v_proj.quant_linear_module.scales'}, {'model.layers.54.self_attn.v_proj.base_layer.bias', 'model.layers.54.self_attn.v_proj.quant_linear_module.bias'}, {'model.layers.55.self_attn.q_proj.quant_linear_module.qweight', 'model.layers.55.self_attn.q_proj.base_layer.qweight'}, {'model.layers.55.self_attn.q_proj.base_layer.qzeros', 'model.layers.55.self_attn.q_proj.quant_linear_module.qzeros'}, {'model.layers.55.self_attn.q_proj.quant_linear_module.scales', 'model.layers.55.self_attn.q_proj.base_layer.scales'}, {'model.layers.55.self_attn.q_proj.base_layer.bias', 'model.layers.55.self_attn.q_proj.quant_linear_module.bias'}, {'model.layers.55.self_attn.k_proj.quant_linear_module.qweight', 'model.layers.55.self_attn.k_proj.base_layer.qweight'}, {'model.layers.55.self_attn.k_proj.quant_linear_module.qzeros', 'model.layers.55.self_attn.k_proj.base_layer.qzeros'}, {'model.layers.55.self_attn.k_proj.quant_linear_module.scales', 'model.layers.55.self_attn.k_proj.base_layer.scales'}, {'model.layers.55.self_attn.k_proj.base_layer.bias', 'model.layers.55.self_attn.k_proj.quant_linear_module.bias'}, {'model.layers.55.self_attn.v_proj.base_layer.qweight', 'model.layers.55.self_attn.v_proj.quant_linear_module.qweight'}, {'model.layers.55.self_attn.v_proj.quant_linear_module.qzeros', 'model.layers.55.self_attn.v_proj.base_layer.qzeros'}, {'model.layers.55.self_attn.v_proj.base_layer.scales', 'model.layers.55.self_attn.v_proj.quant_linear_module.scales'}, {'model.layers.55.self_attn.v_proj.base_layer.bias', 'model.layers.55.self_attn.v_proj.quant_linear_module.bias'}, {'model.layers.56.self_attn.q_proj.base_layer.qweight', 'model.layers.56.self_attn.q_proj.quant_linear_module.qweight'}, {'model.layers.56.self_attn.q_proj.base_layer.qzeros', 'model.layers.56.self_attn.q_proj.quant_linear_module.qzeros'}, {'model.layers.56.self_attn.q_proj.quant_linear_module.scales', 'model.layers.56.self_attn.q_proj.base_layer.scales'}, {'model.layers.56.self_attn.q_proj.base_layer.bias', 'model.layers.56.self_attn.q_proj.quant_linear_module.bias'}, {'model.layers.56.self_attn.k_proj.base_layer.qweight', 'model.layers.56.self_attn.k_proj.quant_linear_module.qweight'}, {'model.layers.56.self_attn.k_proj.base_layer.qzeros', 'model.layers.56.self_attn.k_proj.quant_linear_module.qzeros'}, {'model.layers.56.self_attn.k_proj.base_layer.scales', 'model.layers.56.self_attn.k_proj.quant_linear_module.scales'}, {'model.layers.56.self_attn.k_proj.quant_linear_module.bias', 'model.layers.56.self_attn.k_proj.base_layer.bias'}, {'model.layers.56.self_attn.v_proj.base_layer.qweight', 'model.layers.56.self_attn.v_proj.quant_linear_module.qweight'}, {'model.layers.56.self_attn.v_proj.base_layer.qzeros', 'model.layers.56.self_attn.v_proj.quant_linear_module.qzeros'}, {'model.layers.56.self_attn.v_proj.quant_linear_module.scales', 'model.layers.56.self_attn.v_proj.base_layer.scales'}, {'model.layers.56.self_attn.v_proj.quant_linear_module.bias', 'model.layers.56.self_attn.v_proj.base_layer.bias'}, {'model.layers.57.self_attn.q_proj.base_layer.qweight', 'model.layers.57.self_attn.q_proj.quant_linear_module.qweight'}, {'model.layers.57.self_attn.q_proj.base_layer.qzeros', 'model.layers.57.self_attn.q_proj.quant_linear_module.qzeros'}, {'model.layers.57.self_attn.q_proj.base_layer.scales', 'model.layers.57.self_attn.q_proj.quant_linear_module.scales'}, {'model.layers.57.self_attn.q_proj.quant_linear_module.bias', 'model.layers.57.self_attn.q_proj.base_layer.bias'}, {'model.layers.57.self_attn.k_proj.base_layer.qweight', 'model.layers.57.self_attn.k_proj.quant_linear_module.qweight'}, {'model.layers.57.self_attn.k_proj.quant_linear_module.qzeros', 'model.layers.57.self_attn.k_proj.base_layer.qzeros'}, {'model.layers.57.self_attn.k_proj.quant_linear_module.scales', 'model.layers.57.self_attn.k_proj.base_layer.scales'}, {'model.layers.57.self_attn.k_proj.base_layer.bias', 'model.layers.57.self_attn.k_proj.quant_linear_module.bias'}, {'model.layers.57.self_attn.v_proj.base_layer.qweight', 'model.layers.57.self_attn.v_proj.quant_linear_module.qweight'}, {'model.layers.57.self_attn.v_proj.base_layer.qzeros', 'model.layers.57.self_attn.v_proj.quant_linear_module.qzeros'}, {'model.layers.57.self_attn.v_proj.base_layer.scales', 'model.layers.57.self_attn.v_proj.quant_linear_module.scales'}, {'model.layers.57.self_attn.v_proj.base_layer.bias', 'model.layers.57.self_attn.v_proj.quant_linear_module.bias'}, {'model.layers.58.self_attn.q_proj.quant_linear_module.qweight', 'model.layers.58.self_attn.q_proj.base_layer.qweight'}, {'model.layers.58.self_attn.q_proj.base_layer.qzeros', 'model.layers.58.self_attn.q_proj.quant_linear_module.qzeros'}, {'model.layers.58.self_attn.q_proj.quant_linear_module.scales', 'model.layers.58.self_attn.q_proj.base_layer.scales'}, {'model.layers.58.self_attn.q_proj.base_layer.bias', 'model.layers.58.self_attn.q_proj.quant_linear_module.bias'}, {'model.layers.58.self_attn.k_proj.quant_linear_module.qweight', 'model.layers.58.self_attn.k_proj.base_layer.qweight'}, {'model.layers.58.self_attn.k_proj.base_layer.qzeros', 'model.layers.58.self_attn.k_proj.quant_linear_module.qzeros'}, {'model.layers.58.self_attn.k_proj.quant_linear_module.scales', 'model.layers.58.self_attn.k_proj.base_layer.scales'}, {'model.layers.58.self_attn.k_proj.quant_linear_module.bias', 'model.layers.58.self_attn.k_proj.base_layer.bias'}, {'model.layers.58.self_attn.v_proj.base_layer.qweight', 'model.layers.58.self_attn.v_proj.quant_linear_module.qweight'}, {'model.layers.58.self_attn.v_proj.quant_linear_module.qzeros', 'model.layers.58.self_attn.v_proj.base_layer.qzeros'}, {'model.layers.58.self_attn.v_proj.base_layer.scales', 'model.layers.58.self_attn.v_proj.quant_linear_module.scales'}, {'model.layers.58.self_attn.v_proj.quant_linear_module.bias', 'model.layers.58.self_attn.v_proj.base_layer.bias'}, {'model.layers.59.self_attn.q_proj.base_layer.qweight', 'model.layers.59.self_attn.q_proj.quant_linear_module.qweight'}, {'model.layers.59.self_attn.q_proj.quant_linear_module.qzeros', 'model.layers.59.self_attn.q_proj.base_layer.qzeros'}, {'model.layers.59.self_attn.q_proj.base_layer.scales', 'model.layers.59.self_attn.q_proj.quant_linear_module.scales'}, {'model.layers.59.self_attn.q_proj.quant_linear_module.bias', 'model.layers.59.self_attn.q_proj.base_layer.bias'}, {'model.layers.59.self_attn.k_proj.quant_linear_module.qweight', 'model.layers.59.self_attn.k_proj.base_layer.qweight'}, {'model.layers.59.self_attn.k_proj.quant_linear_module.qzeros', 'model.layers.59.self_attn.k_proj.base_layer.qzeros'}, {'model.layers.59.self_attn.k_proj.base_layer.scales', 'model.layers.59.self_attn.k_proj.quant_linear_module.scales'}, {'model.layers.59.self_attn.k_proj.base_layer.bias', 'model.layers.59.self_attn.k_proj.quant_linear_module.bias'}, {'model.layers.59.self_attn.v_proj.base_layer.qweight', 'model.layers.59.self_attn.v_proj.quant_linear_module.qweight'}, {'model.layers.59.self_attn.v_proj.quant_linear_module.qzeros', 'model.layers.59.self_attn.v_proj.base_layer.qzeros'}, {'model.layers.59.self_attn.v_proj.quant_linear_module.scales', 'model.layers.59.self_attn.v_proj.base_layer.scales'}, {'model.layers.59.self_attn.v_proj.quant_linear_module.bias', 'model.layers.59.self_attn.v_proj.base_layer.bias'}, {'model.layers.60.self_attn.q_proj.base_layer.qweight', 'model.layers.60.self_attn.q_proj.quant_linear_module.qweight'}, {'model.layers.60.self_attn.q_proj.quant_linear_module.qzeros', 'model.layers.60.self_attn.q_proj.base_layer.qzeros'}, {'model.layers.60.self_attn.q_proj.base_layer.scales', 'model.layers.60.self_attn.q_proj.quant_linear_module.scales'}, {'model.layers.60.self_attn.q_proj.base_layer.bias', 'model.layers.60.self_attn.q_proj.quant_linear_module.bias'}, {'model.layers.60.self_attn.k_proj.base_layer.qweight', 'model.layers.60.self_attn.k_proj.quant_linear_module.qweight'}, {'model.layers.60.self_attn.k_proj.base_layer.qzeros', 'model.layers.60.self_attn.k_proj.quant_linear_module.qzeros'}, {'model.layers.60.self_attn.k_proj.base_layer.scales', 'model.layers.60.self_attn.k_proj.quant_linear_module.scales'}, {'model.layers.60.self_attn.k_proj.base_layer.bias', 'model.layers.60.self_attn.k_proj.quant_linear_module.bias'}, {'model.layers.60.self_attn.v_proj.base_layer.qweight', 'model.layers.60.self_attn.v_proj.quant_linear_module.qweight'}, {'model.layers.60.self_attn.v_proj.base_layer.qzeros', 'model.layers.60.self_attn.v_proj.quant_linear_module.qzeros'}, {'model.layers.60.self_attn.v_proj.quant_linear_module.scales', 'model.layers.60.self_attn.v_proj.base_layer.scales'}, {'model.layers.60.self_attn.v_proj.base_layer.bias', 'model.layers.60.self_attn.v_proj.quant_linear_module.bias'}, {'model.layers.61.self_attn.q_proj.base_layer.qweight', 'model.layers.61.self_attn.q_proj.quant_linear_module.qweight'}, {'model.layers.61.self_attn.q_proj.quant_linear_module.qzeros', 'model.layers.61.self_attn.q_proj.base_layer.qzeros'}, {'model.layers.61.self_attn.q_proj.base_layer.scales', 'model.layers.61.self_attn.q_proj.quant_linear_module.scales'}, {'model.layers.61.self_attn.q_proj.base_layer.bias', 'model.layers.61.self_attn.q_proj.quant_linear_module.bias'}, {'model.layers.61.self_attn.k_proj.quant_linear_module.qweight', 'model.layers.61.self_attn.k_proj.base_layer.qweight'}, {'model.layers.61.self_attn.k_proj.base_layer.qzeros', 'model.layers.61.self_attn.k_proj.quant_linear_module.qzeros'}, {'model.layers.61.self_attn.k_proj.base_layer.scales', 'model.layers.61.self_attn.k_proj.quant_linear_module.scales'}, {'model.layers.61.self_attn.k_proj.base_layer.bias', 'model.layers.61.self_attn.k_proj.quant_linear_module.bias'}, {'model.layers.61.self_attn.v_proj.base_layer.qweight', 'model.layers.61.self_attn.v_proj.quant_linear_module.qweight'}, {'model.layers.61.self_attn.v_proj.quant_linear_module.qzeros', 'model.layers.61.self_attn.v_proj.base_layer.qzeros'}, {'model.layers.61.self_attn.v_proj.base_layer.scales', 'model.layers.61.self_attn.v_proj.quant_linear_module.scales'}, {'model.layers.61.self_attn.v_proj.quant_linear_module.bias', 'model.layers.61.self_attn.v_proj.base_layer.bias'}, {'model.layers.62.self_attn.q_proj.quant_linear_module.qweight', 'model.layers.62.self_attn.q_proj.base_layer.qweight'}, {'model.layers.62.self_attn.q_proj.quant_linear_module.qzeros', 'model.layers.62.self_attn.q_proj.base_layer.qzeros'}, {'model.layers.62.self_attn.q_proj.base_layer.scales', 'model.layers.62.self_attn.q_proj.quant_linear_module.scales'}, {'model.layers.62.self_attn.q_proj.quant_linear_module.bias', 'model.layers.62.self_attn.q_proj.base_layer.bias'}, {'model.layers.62.self_attn.k_proj.base_layer.qweight', 'model.layers.62.self_attn.k_proj.quant_linear_module.qweight'}, {'model.layers.62.self_attn.k_proj.base_layer.qzeros', 'model.layers.62.self_attn.k_proj.quant_linear_module.qzeros'}, {'model.layers.62.self_attn.k_proj.base_layer.scales', 'model.layers.62.self_attn.k_proj.quant_linear_module.scales'}, {'model.layers.62.self_attn.k_proj.base_layer.bias', 'model.layers.62.self_attn.k_proj.quant_linear_module.bias'}, {'model.layers.62.self_attn.v_proj.quant_linear_module.qweight', 'model.layers.62.self_attn.v_proj.base_layer.qweight'}, {'model.layers.62.self_attn.v_proj.base_layer.qzeros', 'model.layers.62.self_attn.v_proj.quant_linear_module.qzeros'}, {'model.layers.62.self_attn.v_proj.base_layer.scales', 'model.layers.62.self_attn.v_proj.quant_linear_module.scales'}, {'model.layers.62.self_attn.v_proj.quant_linear_module.bias', 'model.layers.62.self_attn.v_proj.base_layer.bias'}, {'model.layers.63.self_attn.q_proj.quant_linear_module.qweight', 'model.layers.63.self_attn.q_proj.base_layer.qweight'}, {'model.layers.63.self_attn.q_proj.base_layer.qzeros', 'model.layers.63.self_attn.q_proj.quant_linear_module.qzeros'}, {'model.layers.63.self_attn.q_proj.quant_linear_module.scales', 'model.layers.63.self_attn.q_proj.base_layer.scales'}, {'model.layers.63.self_attn.q_proj.quant_linear_module.bias', 'model.layers.63.self_attn.q_proj.base_layer.bias'}, {'model.layers.63.self_attn.k_proj.base_layer.qweight', 'model.layers.63.self_attn.k_proj.quant_linear_module.qweight'}, {'model.layers.63.self_attn.k_proj.base_layer.qzeros', 'model.layers.63.self_attn.k_proj.quant_linear_module.qzeros'}, {'model.layers.63.self_attn.k_proj.base_layer.scales', 'model.layers.63.self_attn.k_proj.quant_linear_module.scales'}, {'model.layers.63.self_attn.k_proj.base_layer.bias', 'model.layers.63.self_attn.k_proj.quant_linear_module.bias'}, {'model.layers.63.self_attn.v_proj.base_layer.qweight', 'model.layers.63.self_attn.v_proj.quant_linear_module.qweight'}, {'model.layers.63.self_attn.v_proj.quant_linear_module.qzeros', 'model.layers.63.self_attn.v_proj.base_layer.qzeros'}, {'model.layers.63.self_attn.v_proj.quant_linear_module.scales', 'model.layers.63.self_attn.v_proj.base_layer.scales'}, {'model.layers.63.self_attn.v_proj.quant_linear_module.bias', 'model.layers.63.self_attn.v_proj.base_layer.bias'}] that are mismatching the transformers base configuration. Try saving using `safe_serialization=False` or remove this tensor sharing.",
     "output_type": "error",
     "traceback": [
      "\u001b[0;31m---------------------------------------------------------------------------\u001b[0m",
      "\u001b[0;31mRuntimeError\u001b[0m                              Traceback (most recent call last)",
      "Cell \u001b[0;32mIn[39], line 1\u001b[0m\n\u001b[0;32m----> 1\u001b[0m \u001b[43mmodel\u001b[49m\u001b[38;5;241;43m.\u001b[39;49m\u001b[43msave_pretrained\u001b[49m\u001b[43m(\u001b[49m\u001b[38;5;124;43mf\u001b[39;49m\u001b[38;5;124;43m\"\u001b[39;49m\u001b[38;5;132;43;01m{\u001b[39;49;00m\u001b[43mMODEL_OUTPUT_PATH\u001b[49m\u001b[38;5;132;43;01m}\u001b[39;49;00m\u001b[38;5;124;43m/lora_model\u001b[39;49m\u001b[38;5;124;43m\"\u001b[39;49m\u001b[43m)\u001b[49m  \u001b[38;5;66;03m# Local saving\u001b[39;00m\n\u001b[1;32m      2\u001b[0m tokenizer\u001b[38;5;241m.\u001b[39msave_pretrained(\u001b[38;5;124mf\u001b[39m\u001b[38;5;124m\"\u001b[39m\u001b[38;5;132;01m{\u001b[39;00mMODEL_OUTPUT_PATH\u001b[38;5;132;01m}\u001b[39;00m\u001b[38;5;124m/lora_model\u001b[39m\u001b[38;5;124m\"\u001b[39m)\n",
      "File \u001b[0;32m/opt/conda/lib/python3.10/site-packages/transformers/modeling_utils.py:2723\u001b[0m, in \u001b[0;36mPreTrainedModel.save_pretrained\u001b[0;34m(self, save_directory, is_main_process, state_dict, save_function, push_to_hub, max_shard_size, safe_serialization, variant, token, save_peft_format, **kwargs)\u001b[0m\n\u001b[1;32m   2720\u001b[0m         error_names\u001b[38;5;241m.\u001b[39mappend(\u001b[38;5;28mset\u001b[39m(shared_names))\n\u001b[1;32m   2722\u001b[0m     \u001b[38;5;28;01mif\u001b[39;00m \u001b[38;5;28mlen\u001b[39m(error_names) \u001b[38;5;241m>\u001b[39m \u001b[38;5;241m0\u001b[39m:\n\u001b[0;32m-> 2723\u001b[0m         \u001b[38;5;28;01mraise\u001b[39;00m \u001b[38;5;167;01mRuntimeError\u001b[39;00m(\n\u001b[1;32m   2724\u001b[0m             \u001b[38;5;124mf\u001b[39m\u001b[38;5;124m\"\u001b[39m\u001b[38;5;124mThe weights trying to be saved contained shared tensors \u001b[39m\u001b[38;5;132;01m{\u001b[39;00merror_names\u001b[38;5;132;01m}\u001b[39;00m\u001b[38;5;124m that are mismatching the transformers base configuration. Try saving using `safe_serialization=False` or remove this tensor sharing.\u001b[39m\u001b[38;5;124m\"\u001b[39m,\n\u001b[1;32m   2725\u001b[0m         )\n\u001b[1;32m   2727\u001b[0m \u001b[38;5;66;03m# Shard the model if it is too big.\u001b[39;00m\n\u001b[1;32m   2728\u001b[0m \u001b[38;5;28;01mif\u001b[39;00m \u001b[38;5;129;01mnot\u001b[39;00m _hf_peft_config_loaded:\n",
      "\u001b[0;31mRuntimeError\u001b[0m: The weights trying to be saved contained shared tensors [{'model.layers.0.self_attn.q_proj.quant_linear_module.qweight', 'model.layers.0.self_attn.q_proj.base_layer.qweight'}, {'model.layers.0.self_attn.q_proj.quant_linear_module.qzeros', 'model.layers.0.self_attn.q_proj.base_layer.qzeros'}, {'model.layers.0.self_attn.q_proj.base_layer.scales', 'model.layers.0.self_attn.q_proj.quant_linear_module.scales'}, {'model.layers.0.self_attn.q_proj.base_layer.bias', 'model.layers.0.self_attn.q_proj.quant_linear_module.bias'}, {'model.layers.0.self_attn.k_proj.quant_linear_module.qweight', 'model.layers.0.self_attn.k_proj.base_layer.qweight'}, {'model.layers.0.self_attn.k_proj.base_layer.qzeros', 'model.layers.0.self_attn.k_proj.quant_linear_module.qzeros'}, {'model.layers.0.self_attn.k_proj.base_layer.scales', 'model.layers.0.self_attn.k_proj.quant_linear_module.scales'}, {'model.layers.0.self_attn.k_proj.quant_linear_module.bias', 'model.layers.0.self_attn.k_proj.base_layer.bias'}, {'model.layers.0.self_attn.v_proj.base_layer.qweight', 'model.layers.0.self_attn.v_proj.quant_linear_module.qweight'}, {'model.layers.0.self_attn.v_proj.quant_linear_module.qzeros', 'model.layers.0.self_attn.v_proj.base_layer.qzeros'}, {'model.layers.0.self_attn.v_proj.base_layer.scales', 'model.layers.0.self_attn.v_proj.quant_linear_module.scales'}, {'model.layers.0.self_attn.v_proj.quant_linear_module.bias', 'model.layers.0.self_attn.v_proj.base_layer.bias'}, {'model.layers.1.self_attn.q_proj.quant_linear_module.qweight', 'model.layers.1.self_attn.q_proj.base_layer.qweight'}, {'model.layers.1.self_attn.q_proj.base_layer.qzeros', 'model.layers.1.self_attn.q_proj.quant_linear_module.qzeros'}, {'model.layers.1.self_attn.q_proj.base_layer.scales', 'model.layers.1.self_attn.q_proj.quant_linear_module.scales'}, {'model.layers.1.self_attn.q_proj.base_layer.bias', 'model.layers.1.self_attn.q_proj.quant_linear_module.bias'}, {'model.layers.1.self_attn.k_proj.quant_linear_module.qweight', 'model.layers.1.self_attn.k_proj.base_layer.qweight'}, {'model.layers.1.self_attn.k_proj.quant_linear_module.qzeros', 'model.layers.1.self_attn.k_proj.base_layer.qzeros'}, {'model.layers.1.self_attn.k_proj.base_layer.scales', 'model.layers.1.self_attn.k_proj.quant_linear_module.scales'}, {'model.layers.1.self_attn.k_proj.quant_linear_module.bias', 'model.layers.1.self_attn.k_proj.base_layer.bias'}, {'model.layers.1.self_attn.v_proj.quant_linear_module.qweight', 'model.layers.1.self_attn.v_proj.base_layer.qweight'}, {'model.layers.1.self_attn.v_proj.quant_linear_module.qzeros', 'model.layers.1.self_attn.v_proj.base_layer.qzeros'}, {'model.layers.1.self_attn.v_proj.base_layer.scales', 'model.layers.1.self_attn.v_proj.quant_linear_module.scales'}, {'model.layers.1.self_attn.v_proj.base_layer.bias', 'model.layers.1.self_attn.v_proj.quant_linear_module.bias'}, {'model.layers.2.self_attn.q_proj.base_layer.qweight', 'model.layers.2.self_attn.q_proj.quant_linear_module.qweight'}, {'model.layers.2.self_attn.q_proj.quant_linear_module.qzeros', 'model.layers.2.self_attn.q_proj.base_layer.qzeros'}, {'model.layers.2.self_attn.q_proj.quant_linear_module.scales', 'model.layers.2.self_attn.q_proj.base_layer.scales'}, {'model.layers.2.self_attn.q_proj.base_layer.bias', 'model.layers.2.self_attn.q_proj.quant_linear_module.bias'}, {'model.layers.2.self_attn.k_proj.base_layer.qweight', 'model.layers.2.self_attn.k_proj.quant_linear_module.qweight'}, {'model.layers.2.self_attn.k_proj.base_layer.qzeros', 'model.layers.2.self_attn.k_proj.quant_linear_module.qzeros'}, {'model.layers.2.self_attn.k_proj.base_layer.scales', 'model.layers.2.self_attn.k_proj.quant_linear_module.scales'}, {'model.layers.2.self_attn.k_proj.quant_linear_module.bias', 'model.layers.2.self_attn.k_proj.base_layer.bias'}, {'model.layers.2.self_attn.v_proj.base_layer.qweight', 'model.layers.2.self_attn.v_proj.quant_linear_module.qweight'}, {'model.layers.2.self_attn.v_proj.base_layer.qzeros', 'model.layers.2.self_attn.v_proj.quant_linear_module.qzeros'}, {'model.layers.2.self_attn.v_proj.quant_linear_module.scales', 'model.layers.2.self_attn.v_proj.base_layer.scales'}, {'model.layers.2.self_attn.v_proj.quant_linear_module.bias', 'model.layers.2.self_attn.v_proj.base_layer.bias'}, {'model.layers.3.self_attn.q_proj.quant_linear_module.qweight', 'model.layers.3.self_attn.q_proj.base_layer.qweight'}, {'model.layers.3.self_attn.q_proj.base_layer.qzeros', 'model.layers.3.self_attn.q_proj.quant_linear_module.qzeros'}, {'model.layers.3.self_attn.q_proj.base_layer.scales', 'model.layers.3.self_attn.q_proj.quant_linear_module.scales'}, {'model.layers.3.self_attn.q_proj.base_layer.bias', 'model.layers.3.self_attn.q_proj.quant_linear_module.bias'}, {'model.layers.3.self_attn.k_proj.quant_linear_module.qweight', 'model.layers.3.self_attn.k_proj.base_layer.qweight'}, {'model.layers.3.self_attn.k_proj.base_layer.qzeros', 'model.layers.3.self_attn.k_proj.quant_linear_module.qzeros'}, {'model.layers.3.self_attn.k_proj.quant_linear_module.scales', 'model.layers.3.self_attn.k_proj.base_layer.scales'}, {'model.layers.3.self_attn.k_proj.base_layer.bias', 'model.layers.3.self_attn.k_proj.quant_linear_module.bias'}, {'model.layers.3.self_attn.v_proj.quant_linear_module.qweight', 'model.layers.3.self_attn.v_proj.base_layer.qweight'}, {'model.layers.3.self_attn.v_proj.quant_linear_module.qzeros', 'model.layers.3.self_attn.v_proj.base_layer.qzeros'}, {'model.layers.3.self_attn.v_proj.quant_linear_module.scales', 'model.layers.3.self_attn.v_proj.base_layer.scales'}, {'model.layers.3.self_attn.v_proj.base_layer.bias', 'model.layers.3.self_attn.v_proj.quant_linear_module.bias'}, {'model.layers.4.self_attn.q_proj.base_layer.qweight', 'model.layers.4.self_attn.q_proj.quant_linear_module.qweight'}, {'model.layers.4.self_attn.q_proj.base_layer.qzeros', 'model.layers.4.self_attn.q_proj.quant_linear_module.qzeros'}, {'model.layers.4.self_attn.q_proj.quant_linear_module.scales', 'model.layers.4.self_attn.q_proj.base_layer.scales'}, {'model.layers.4.self_attn.q_proj.quant_linear_module.bias', 'model.layers.4.self_attn.q_proj.base_layer.bias'}, {'model.layers.4.self_attn.k_proj.base_layer.qweight', 'model.layers.4.self_attn.k_proj.quant_linear_module.qweight'}, {'model.layers.4.self_attn.k_proj.base_layer.qzeros', 'model.layers.4.self_attn.k_proj.quant_linear_module.qzeros'}, {'model.layers.4.self_attn.k_proj.base_layer.scales', 'model.layers.4.self_attn.k_proj.quant_linear_module.scales'}, {'model.layers.4.self_attn.k_proj.base_layer.bias', 'model.layers.4.self_attn.k_proj.quant_linear_module.bias'}, {'model.layers.4.self_attn.v_proj.base_layer.qweight', 'model.layers.4.self_attn.v_proj.quant_linear_module.qweight'}, {'model.layers.4.self_attn.v_proj.quant_linear_module.qzeros', 'model.layers.4.self_attn.v_proj.base_layer.qzeros'}, {'model.layers.4.self_attn.v_proj.quant_linear_module.scales', 'model.layers.4.self_attn.v_proj.base_layer.scales'}, {'model.layers.4.self_attn.v_proj.base_layer.bias', 'model.layers.4.self_attn.v_proj.quant_linear_module.bias'}, {'model.layers.5.self_attn.q_proj.quant_linear_module.qweight', 'model.layers.5.self_attn.q_proj.base_layer.qweight'}, {'model.layers.5.self_attn.q_proj.quant_linear_module.qzeros', 'model.layers.5.self_attn.q_proj.base_layer.qzeros'}, {'model.layers.5.self_attn.q_proj.quant_linear_module.scales', 'model.layers.5.self_attn.q_proj.base_layer.scales'}, {'model.layers.5.self_attn.q_proj.base_layer.bias', 'model.layers.5.self_attn.q_proj.quant_linear_module.bias'}, {'model.layers.5.self_attn.k_proj.quant_linear_module.qweight', 'model.layers.5.self_attn.k_proj.base_layer.qweight'}, {'model.layers.5.self_attn.k_proj.quant_linear_module.qzeros', 'model.layers.5.self_attn.k_proj.base_layer.qzeros'}, {'model.layers.5.self_attn.k_proj.base_layer.scales', 'model.layers.5.self_attn.k_proj.quant_linear_module.scales'}, {'model.layers.5.self_attn.k_proj.quant_linear_module.bias', 'model.layers.5.self_attn.k_proj.base_layer.bias'}, {'model.layers.5.self_attn.v_proj.quant_linear_module.qweight', 'model.layers.5.self_attn.v_proj.base_layer.qweight'}, {'model.layers.5.self_attn.v_proj.base_layer.qzeros', 'model.layers.5.self_attn.v_proj.quant_linear_module.qzeros'}, {'model.layers.5.self_attn.v_proj.base_layer.scales', 'model.layers.5.self_attn.v_proj.quant_linear_module.scales'}, {'model.layers.5.self_attn.v_proj.base_layer.bias', 'model.layers.5.self_attn.v_proj.quant_linear_module.bias'}, {'model.layers.6.self_attn.q_proj.quant_linear_module.qweight', 'model.layers.6.self_attn.q_proj.base_layer.qweight'}, {'model.layers.6.self_attn.q_proj.quant_linear_module.qzeros', 'model.layers.6.self_attn.q_proj.base_layer.qzeros'}, {'model.layers.6.self_attn.q_proj.base_layer.scales', 'model.layers.6.self_attn.q_proj.quant_linear_module.scales'}, {'model.layers.6.self_attn.q_proj.base_layer.bias', 'model.layers.6.self_attn.q_proj.quant_linear_module.bias'}, {'model.layers.6.self_attn.k_proj.quant_linear_module.qweight', 'model.layers.6.self_attn.k_proj.base_layer.qweight'}, {'model.layers.6.self_attn.k_proj.base_layer.qzeros', 'model.layers.6.self_attn.k_proj.quant_linear_module.qzeros'}, {'model.layers.6.self_attn.k_proj.base_layer.scales', 'model.layers.6.self_attn.k_proj.quant_linear_module.scales'}, {'model.layers.6.self_attn.k_proj.quant_linear_module.bias', 'model.layers.6.self_attn.k_proj.base_layer.bias'}, {'model.layers.6.self_attn.v_proj.quant_linear_module.qweight', 'model.layers.6.self_attn.v_proj.base_layer.qweight'}, {'model.layers.6.self_attn.v_proj.base_layer.qzeros', 'model.layers.6.self_attn.v_proj.quant_linear_module.qzeros'}, {'model.layers.6.self_attn.v_proj.base_layer.scales', 'model.layers.6.self_attn.v_proj.quant_linear_module.scales'}, {'model.layers.6.self_attn.v_proj.base_layer.bias', 'model.layers.6.self_attn.v_proj.quant_linear_module.bias'}, {'model.layers.7.self_attn.q_proj.base_layer.qweight', 'model.layers.7.self_attn.q_proj.quant_linear_module.qweight'}, {'model.layers.7.self_attn.q_proj.base_layer.qzeros', 'model.layers.7.self_attn.q_proj.quant_linear_module.qzeros'}, {'model.layers.7.self_attn.q_proj.base_layer.scales', 'model.layers.7.self_attn.q_proj.quant_linear_module.scales'}, {'model.layers.7.self_attn.q_proj.base_layer.bias', 'model.layers.7.self_attn.q_proj.quant_linear_module.bias'}, {'model.layers.7.self_attn.k_proj.base_layer.qweight', 'model.layers.7.self_attn.k_proj.quant_linear_module.qweight'}, {'model.layers.7.self_attn.k_proj.base_layer.qzeros', 'model.layers.7.self_attn.k_proj.quant_linear_module.qzeros'}, {'model.layers.7.self_attn.k_proj.base_layer.scales', 'model.layers.7.self_attn.k_proj.quant_linear_module.scales'}, {'model.layers.7.self_attn.k_proj.base_layer.bias', 'model.layers.7.self_attn.k_proj.quant_linear_module.bias'}, {'model.layers.7.self_attn.v_proj.base_layer.qweight', 'model.layers.7.self_attn.v_proj.quant_linear_module.qweight'}, {'model.layers.7.self_attn.v_proj.quant_linear_module.qzeros', 'model.layers.7.self_attn.v_proj.base_layer.qzeros'}, {'model.layers.7.self_attn.v_proj.quant_linear_module.scales', 'model.layers.7.self_attn.v_proj.base_layer.scales'}, {'model.layers.7.self_attn.v_proj.quant_linear_module.bias', 'model.layers.7.self_attn.v_proj.base_layer.bias'}, {'model.layers.8.self_attn.q_proj.base_layer.qweight', 'model.layers.8.self_attn.q_proj.quant_linear_module.qweight'}, {'model.layers.8.self_attn.q_proj.quant_linear_module.qzeros', 'model.layers.8.self_attn.q_proj.base_layer.qzeros'}, {'model.layers.8.self_attn.q_proj.quant_linear_module.scales', 'model.layers.8.self_attn.q_proj.base_layer.scales'}, {'model.layers.8.self_attn.q_proj.base_layer.bias', 'model.layers.8.self_attn.q_proj.quant_linear_module.bias'}, {'model.layers.8.self_attn.k_proj.base_layer.qweight', 'model.layers.8.self_attn.k_proj.quant_linear_module.qweight'}, {'model.layers.8.self_attn.k_proj.quant_linear_module.qzeros', 'model.layers.8.self_attn.k_proj.base_layer.qzeros'}, {'model.layers.8.self_attn.k_proj.quant_linear_module.scales', 'model.layers.8.self_attn.k_proj.base_layer.scales'}, {'model.layers.8.self_attn.k_proj.quant_linear_module.bias', 'model.layers.8.self_attn.k_proj.base_layer.bias'}, {'model.layers.8.self_attn.v_proj.quant_linear_module.qweight', 'model.layers.8.self_attn.v_proj.base_layer.qweight'}, {'model.layers.8.self_attn.v_proj.base_layer.qzeros', 'model.layers.8.self_attn.v_proj.quant_linear_module.qzeros'}, {'model.layers.8.self_attn.v_proj.base_layer.scales', 'model.layers.8.self_attn.v_proj.quant_linear_module.scales'}, {'model.layers.8.self_attn.v_proj.quant_linear_module.bias', 'model.layers.8.self_attn.v_proj.base_layer.bias'}, {'model.layers.9.self_attn.q_proj.quant_linear_module.qweight', 'model.layers.9.self_attn.q_proj.base_layer.qweight'}, {'model.layers.9.self_attn.q_proj.base_layer.qzeros', 'model.layers.9.self_attn.q_proj.quant_linear_module.qzeros'}, {'model.layers.9.self_attn.q_proj.base_layer.scales', 'model.layers.9.self_attn.q_proj.quant_linear_module.scales'}, {'model.layers.9.self_attn.q_proj.base_layer.bias', 'model.layers.9.self_attn.q_proj.quant_linear_module.bias'}, {'model.layers.9.self_attn.k_proj.base_layer.qweight', 'model.layers.9.self_attn.k_proj.quant_linear_module.qweight'}, {'model.layers.9.self_attn.k_proj.quant_linear_module.qzeros', 'model.layers.9.self_attn.k_proj.base_layer.qzeros'}, {'model.layers.9.self_attn.k_proj.quant_linear_module.scales', 'model.layers.9.self_attn.k_proj.base_layer.scales'}, {'model.layers.9.self_attn.k_proj.quant_linear_module.bias', 'model.layers.9.self_attn.k_proj.base_layer.bias'}, {'model.layers.9.self_attn.v_proj.base_layer.qweight', 'model.layers.9.self_attn.v_proj.quant_linear_module.qweight'}, {'model.layers.9.self_attn.v_proj.quant_linear_module.qzeros', 'model.layers.9.self_attn.v_proj.base_layer.qzeros'}, {'model.layers.9.self_attn.v_proj.quant_linear_module.scales', 'model.layers.9.self_attn.v_proj.base_layer.scales'}, {'model.layers.9.self_attn.v_proj.base_layer.bias', 'model.layers.9.self_attn.v_proj.quant_linear_module.bias'}, {'model.layers.10.self_attn.q_proj.base_layer.qweight', 'model.layers.10.self_attn.q_proj.quant_linear_module.qweight'}, {'model.layers.10.self_attn.q_proj.base_layer.qzeros', 'model.layers.10.self_attn.q_proj.quant_linear_module.qzeros'}, {'model.layers.10.self_attn.q_proj.base_layer.scales', 'model.layers.10.self_attn.q_proj.quant_linear_module.scales'}, {'model.layers.10.self_attn.q_proj.quant_linear_module.bias', 'model.layers.10.self_attn.q_proj.base_layer.bias'}, {'model.layers.10.self_attn.k_proj.quant_linear_module.qweight', 'model.layers.10.self_attn.k_proj.base_layer.qweight'}, {'model.layers.10.self_attn.k_proj.quant_linear_module.qzeros', 'model.layers.10.self_attn.k_proj.base_layer.qzeros'}, {'model.layers.10.self_attn.k_proj.quant_linear_module.scales', 'model.layers.10.self_attn.k_proj.base_layer.scales'}, {'model.layers.10.self_attn.k_proj.base_layer.bias', 'model.layers.10.self_attn.k_proj.quant_linear_module.bias'}, {'model.layers.10.self_attn.v_proj.quant_linear_module.qweight', 'model.layers.10.self_attn.v_proj.base_layer.qweight'}, {'model.layers.10.self_attn.v_proj.quant_linear_module.qzeros', 'model.layers.10.self_attn.v_proj.base_layer.qzeros'}, {'model.layers.10.self_attn.v_proj.base_layer.scales', 'model.layers.10.self_attn.v_proj.quant_linear_module.scales'}, {'model.layers.10.self_attn.v_proj.base_layer.bias', 'model.layers.10.self_attn.v_proj.quant_linear_module.bias'}, {'model.layers.11.self_attn.q_proj.base_layer.qweight', 'model.layers.11.self_attn.q_proj.quant_linear_module.qweight'}, {'model.layers.11.self_attn.q_proj.base_layer.qzeros', 'model.layers.11.self_attn.q_proj.quant_linear_module.qzeros'}, {'model.layers.11.self_attn.q_proj.base_layer.scales', 'model.layers.11.self_attn.q_proj.quant_linear_module.scales'}, {'model.layers.11.self_attn.q_proj.quant_linear_module.bias', 'model.layers.11.self_attn.q_proj.base_layer.bias'}, {'model.layers.11.self_attn.k_proj.quant_linear_module.qweight', 'model.layers.11.self_attn.k_proj.base_layer.qweight'}, {'model.layers.11.self_attn.k_proj.quant_linear_module.qzeros', 'model.layers.11.self_attn.k_proj.base_layer.qzeros'}, {'model.layers.11.self_attn.k_proj.base_layer.scales', 'model.layers.11.self_attn.k_proj.quant_linear_module.scales'}, {'model.layers.11.self_attn.k_proj.base_layer.bias', 'model.layers.11.self_attn.k_proj.quant_linear_module.bias'}, {'model.layers.11.self_attn.v_proj.quant_linear_module.qweight', 'model.layers.11.self_attn.v_proj.base_layer.qweight'}, {'model.layers.11.self_attn.v_proj.base_layer.qzeros', 'model.layers.11.self_attn.v_proj.quant_linear_module.qzeros'}, {'model.layers.11.self_attn.v_proj.quant_linear_module.scales', 'model.layers.11.self_attn.v_proj.base_layer.scales'}, {'model.layers.11.self_attn.v_proj.quant_linear_module.bias', 'model.layers.11.self_attn.v_proj.base_layer.bias'}, {'model.layers.12.self_attn.q_proj.quant_linear_module.qweight', 'model.layers.12.self_attn.q_proj.base_layer.qweight'}, {'model.layers.12.self_attn.q_proj.base_layer.qzeros', 'model.layers.12.self_attn.q_proj.quant_linear_module.qzeros'}, {'model.layers.12.self_attn.q_proj.base_layer.scales', 'model.layers.12.self_attn.q_proj.quant_linear_module.scales'}, {'model.layers.12.self_attn.q_proj.quant_linear_module.bias', 'model.layers.12.self_attn.q_proj.base_layer.bias'}, {'model.layers.12.self_attn.k_proj.base_layer.qweight', 'model.layers.12.self_attn.k_proj.quant_linear_module.qweight'}, {'model.layers.12.self_attn.k_proj.base_layer.qzeros', 'model.layers.12.self_attn.k_proj.quant_linear_module.qzeros'}, {'model.layers.12.self_attn.k_proj.quant_linear_module.scales', 'model.layers.12.self_attn.k_proj.base_layer.scales'}, {'model.layers.12.self_attn.k_proj.quant_linear_module.bias', 'model.layers.12.self_attn.k_proj.base_layer.bias'}, {'model.layers.12.self_attn.v_proj.base_layer.qweight', 'model.layers.12.self_attn.v_proj.quant_linear_module.qweight'}, {'model.layers.12.self_attn.v_proj.quant_linear_module.qzeros', 'model.layers.12.self_attn.v_proj.base_layer.qzeros'}, {'model.layers.12.self_attn.v_proj.quant_linear_module.scales', 'model.layers.12.self_attn.v_proj.base_layer.scales'}, {'model.layers.12.self_attn.v_proj.base_layer.bias', 'model.layers.12.self_attn.v_proj.quant_linear_module.bias'}, {'model.layers.13.self_attn.q_proj.base_layer.qweight', 'model.layers.13.self_attn.q_proj.quant_linear_module.qweight'}, {'model.layers.13.self_attn.q_proj.quant_linear_module.qzeros', 'model.layers.13.self_attn.q_proj.base_layer.qzeros'}, {'model.layers.13.self_attn.q_proj.base_layer.scales', 'model.layers.13.self_attn.q_proj.quant_linear_module.scales'}, {'model.layers.13.self_attn.q_proj.base_layer.bias', 'model.layers.13.self_attn.q_proj.quant_linear_module.bias'}, {'model.layers.13.self_attn.k_proj.quant_linear_module.qweight', 'model.layers.13.self_attn.k_proj.base_layer.qweight'}, {'model.layers.13.self_attn.k_proj.quant_linear_module.qzeros', 'model.layers.13.self_attn.k_proj.base_layer.qzeros'}, {'model.layers.13.self_attn.k_proj.quant_linear_module.scales', 'model.layers.13.self_attn.k_proj.base_layer.scales'}, {'model.layers.13.self_attn.k_proj.quant_linear_module.bias', 'model.layers.13.self_attn.k_proj.base_layer.bias'}, {'model.layers.13.self_attn.v_proj.base_layer.qweight', 'model.layers.13.self_attn.v_proj.quant_linear_module.qweight'}, {'model.layers.13.self_attn.v_proj.base_layer.qzeros', 'model.layers.13.self_attn.v_proj.quant_linear_module.qzeros'}, {'model.layers.13.self_attn.v_proj.quant_linear_module.scales', 'model.layers.13.self_attn.v_proj.base_layer.scales'}, {'model.layers.13.self_attn.v_proj.quant_linear_module.bias', 'model.layers.13.self_attn.v_proj.base_layer.bias'}, {'model.layers.14.self_attn.q_proj.base_layer.qweight', 'model.layers.14.self_attn.q_proj.quant_linear_module.qweight'}, {'model.layers.14.self_attn.q_proj.base_layer.qzeros', 'model.layers.14.self_attn.q_proj.quant_linear_module.qzeros'}, {'model.layers.14.self_attn.q_proj.base_layer.scales', 'model.layers.14.self_attn.q_proj.quant_linear_module.scales'}, {'model.layers.14.self_attn.q_proj.quant_linear_module.bias', 'model.layers.14.self_attn.q_proj.base_layer.bias'}, {'model.layers.14.self_attn.k_proj.base_layer.qweight', 'model.layers.14.self_attn.k_proj.quant_linear_module.qweight'}, {'model.layers.14.self_attn.k_proj.quant_linear_module.qzeros', 'model.layers.14.self_attn.k_proj.base_layer.qzeros'}, {'model.layers.14.self_attn.k_proj.quant_linear_module.scales', 'model.layers.14.self_attn.k_proj.base_layer.scales'}, {'model.layers.14.self_attn.k_proj.quant_linear_module.bias', 'model.layers.14.self_attn.k_proj.base_layer.bias'}, {'model.layers.14.self_attn.v_proj.base_layer.qweight', 'model.layers.14.self_attn.v_proj.quant_linear_module.qweight'}, {'model.layers.14.self_attn.v_proj.base_layer.qzeros', 'model.layers.14.self_attn.v_proj.quant_linear_module.qzeros'}, {'model.layers.14.self_attn.v_proj.base_layer.scales', 'model.layers.14.self_attn.v_proj.quant_linear_module.scales'}, {'model.layers.14.self_attn.v_proj.quant_linear_module.bias', 'model.layers.14.self_attn.v_proj.base_layer.bias'}, {'model.layers.15.self_attn.q_proj.quant_linear_module.qweight', 'model.layers.15.self_attn.q_proj.base_layer.qweight'}, {'model.layers.15.self_attn.q_proj.quant_linear_module.qzeros', 'model.layers.15.self_attn.q_proj.base_layer.qzeros'}, {'model.layers.15.self_attn.q_proj.base_layer.scales', 'model.layers.15.self_attn.q_proj.quant_linear_module.scales'}, {'model.layers.15.self_attn.q_proj.base_layer.bias', 'model.layers.15.self_attn.q_proj.quant_linear_module.bias'}, {'model.layers.15.self_attn.k_proj.quant_linear_module.qweight', 'model.layers.15.self_attn.k_proj.base_layer.qweight'}, {'model.layers.15.self_attn.k_proj.quant_linear_module.qzeros', 'model.layers.15.self_attn.k_proj.base_layer.qzeros'}, {'model.layers.15.self_attn.k_proj.base_layer.scales', 'model.layers.15.self_attn.k_proj.quant_linear_module.scales'}, {'model.layers.15.self_attn.k_proj.base_layer.bias', 'model.layers.15.self_attn.k_proj.quant_linear_module.bias'}, {'model.layers.15.self_attn.v_proj.quant_linear_module.qweight', 'model.layers.15.self_attn.v_proj.base_layer.qweight'}, {'model.layers.15.self_attn.v_proj.quant_linear_module.qzeros', 'model.layers.15.self_attn.v_proj.base_layer.qzeros'}, {'model.layers.15.self_attn.v_proj.base_layer.scales', 'model.layers.15.self_attn.v_proj.quant_linear_module.scales'}, {'model.layers.15.self_attn.v_proj.base_layer.bias', 'model.layers.15.self_attn.v_proj.quant_linear_module.bias'}, {'model.layers.16.self_attn.q_proj.quant_linear_module.qweight', 'model.layers.16.self_attn.q_proj.base_layer.qweight'}, {'model.layers.16.self_attn.q_proj.base_layer.qzeros', 'model.layers.16.self_attn.q_proj.quant_linear_module.qzeros'}, {'model.layers.16.self_attn.q_proj.quant_linear_module.scales', 'model.layers.16.self_attn.q_proj.base_layer.scales'}, {'model.layers.16.self_attn.q_proj.quant_linear_module.bias', 'model.layers.16.self_attn.q_proj.base_layer.bias'}, {'model.layers.16.self_attn.k_proj.base_layer.qweight', 'model.layers.16.self_attn.k_proj.quant_linear_module.qweight'}, {'model.layers.16.self_attn.k_proj.quant_linear_module.qzeros', 'model.layers.16.self_attn.k_proj.base_layer.qzeros'}, {'model.layers.16.self_attn.k_proj.base_layer.scales', 'model.layers.16.self_attn.k_proj.quant_linear_module.scales'}, {'model.layers.16.self_attn.k_proj.quant_linear_module.bias', 'model.layers.16.self_attn.k_proj.base_layer.bias'}, {'model.layers.16.self_attn.v_proj.base_layer.qweight', 'model.layers.16.self_attn.v_proj.quant_linear_module.qweight'}, {'model.layers.16.self_attn.v_proj.base_layer.qzeros', 'model.layers.16.self_attn.v_proj.quant_linear_module.qzeros'}, {'model.layers.16.self_attn.v_proj.quant_linear_module.scales', 'model.layers.16.self_attn.v_proj.base_layer.scales'}, {'model.layers.16.self_attn.v_proj.quant_linear_module.bias', 'model.layers.16.self_attn.v_proj.base_layer.bias'}, {'model.layers.17.self_attn.q_proj.quant_linear_module.qweight', 'model.layers.17.self_attn.q_proj.base_layer.qweight'}, {'model.layers.17.self_attn.q_proj.base_layer.qzeros', 'model.layers.17.self_attn.q_proj.quant_linear_module.qzeros'}, {'model.layers.17.self_attn.q_proj.quant_linear_module.scales', 'model.layers.17.self_attn.q_proj.base_layer.scales'}, {'model.layers.17.self_attn.q_proj.quant_linear_module.bias', 'model.layers.17.self_attn.q_proj.base_layer.bias'}, {'model.layers.17.self_attn.k_proj.quant_linear_module.qweight', 'model.layers.17.self_attn.k_proj.base_layer.qweight'}, {'model.layers.17.self_attn.k_proj.quant_linear_module.qzeros', 'model.layers.17.self_attn.k_proj.base_layer.qzeros'}, {'model.layers.17.self_attn.k_proj.base_layer.scales', 'model.layers.17.self_attn.k_proj.quant_linear_module.scales'}, {'model.layers.17.self_attn.k_proj.base_layer.bias', 'model.layers.17.self_attn.k_proj.quant_linear_module.bias'}, {'model.layers.17.self_attn.v_proj.base_layer.qweight', 'model.layers.17.self_attn.v_proj.quant_linear_module.qweight'}, {'model.layers.17.self_attn.v_proj.base_layer.qzeros', 'model.layers.17.self_attn.v_proj.quant_linear_module.qzeros'}, {'model.layers.17.self_attn.v_proj.quant_linear_module.scales', 'model.layers.17.self_attn.v_proj.base_layer.scales'}, {'model.layers.17.self_attn.v_proj.base_layer.bias', 'model.layers.17.self_attn.v_proj.quant_linear_module.bias'}, {'model.layers.18.self_attn.q_proj.quant_linear_module.qweight', 'model.layers.18.self_attn.q_proj.base_layer.qweight'}, {'model.layers.18.self_attn.q_proj.quant_linear_module.qzeros', 'model.layers.18.self_attn.q_proj.base_layer.qzeros'}, {'model.layers.18.self_attn.q_proj.base_layer.scales', 'model.layers.18.self_attn.q_proj.quant_linear_module.scales'}, {'model.layers.18.self_attn.q_proj.quant_linear_module.bias', 'model.layers.18.self_attn.q_proj.base_layer.bias'}, {'model.layers.18.self_attn.k_proj.quant_linear_module.qweight', 'model.layers.18.self_attn.k_proj.base_layer.qweight'}, {'model.layers.18.self_attn.k_proj.base_layer.qzeros', 'model.layers.18.self_attn.k_proj.quant_linear_module.qzeros'}, {'model.layers.18.self_attn.k_proj.quant_linear_module.scales', 'model.layers.18.self_attn.k_proj.base_layer.scales'}, {'model.layers.18.self_attn.k_proj.quant_linear_module.bias', 'model.layers.18.self_attn.k_proj.base_layer.bias'}, {'model.layers.18.self_attn.v_proj.base_layer.qweight', 'model.layers.18.self_attn.v_proj.quant_linear_module.qweight'}, {'model.layers.18.self_attn.v_proj.quant_linear_module.qzeros', 'model.layers.18.self_attn.v_proj.base_layer.qzeros'}, {'model.layers.18.self_attn.v_proj.base_layer.scales', 'model.layers.18.self_attn.v_proj.quant_linear_module.scales'}, {'model.layers.18.self_attn.v_proj.base_layer.bias', 'model.layers.18.self_attn.v_proj.quant_linear_module.bias'}, {'model.layers.19.self_attn.q_proj.base_layer.qweight', 'model.layers.19.self_attn.q_proj.quant_linear_module.qweight'}, {'model.layers.19.self_attn.q_proj.quant_linear_module.qzeros', 'model.layers.19.self_attn.q_proj.base_layer.qzeros'}, {'model.layers.19.self_attn.q_proj.quant_linear_module.scales', 'model.layers.19.self_attn.q_proj.base_layer.scales'}, {'model.layers.19.self_attn.q_proj.quant_linear_module.bias', 'model.layers.19.self_attn.q_proj.base_layer.bias'}, {'model.layers.19.self_attn.k_proj.base_layer.qweight', 'model.layers.19.self_attn.k_proj.quant_linear_module.qweight'}, {'model.layers.19.self_attn.k_proj.base_layer.qzeros', 'model.layers.19.self_attn.k_proj.quant_linear_module.qzeros'}, {'model.layers.19.self_attn.k_proj.quant_linear_module.scales', 'model.layers.19.self_attn.k_proj.base_layer.scales'}, {'model.layers.19.self_attn.k_proj.base_layer.bias', 'model.layers.19.self_attn.k_proj.quant_linear_module.bias'}, {'model.layers.19.self_attn.v_proj.base_layer.qweight', 'model.layers.19.self_attn.v_proj.quant_linear_module.qweight'}, {'model.layers.19.self_attn.v_proj.quant_linear_module.qzeros', 'model.layers.19.self_attn.v_proj.base_layer.qzeros'}, {'model.layers.19.self_attn.v_proj.quant_linear_module.scales', 'model.layers.19.self_attn.v_proj.base_layer.scales'}, {'model.layers.19.self_attn.v_proj.quant_linear_module.bias', 'model.layers.19.self_attn.v_proj.base_layer.bias'}, {'model.layers.20.self_attn.q_proj.base_layer.qweight', 'model.layers.20.self_attn.q_proj.quant_linear_module.qweight'}, {'model.layers.20.self_attn.q_proj.quant_linear_module.qzeros', 'model.layers.20.self_attn.q_proj.base_layer.qzeros'}, {'model.layers.20.self_attn.q_proj.base_layer.scales', 'model.layers.20.self_attn.q_proj.quant_linear_module.scales'}, {'model.layers.20.self_attn.q_proj.base_layer.bias', 'model.layers.20.self_attn.q_proj.quant_linear_module.bias'}, {'model.layers.20.self_attn.k_proj.quant_linear_module.qweight', 'model.layers.20.self_attn.k_proj.base_layer.qweight'}, {'model.layers.20.self_attn.k_proj.base_layer.qzeros', 'model.layers.20.self_attn.k_proj.quant_linear_module.qzeros'}, {'model.layers.20.self_attn.k_proj.quant_linear_module.scales', 'model.layers.20.self_attn.k_proj.base_layer.scales'}, {'model.layers.20.self_attn.k_proj.quant_linear_module.bias', 'model.layers.20.self_attn.k_proj.base_layer.bias'}, {'model.layers.20.self_attn.v_proj.base_layer.qweight', 'model.layers.20.self_attn.v_proj.quant_linear_module.qweight'}, {'model.layers.20.self_attn.v_proj.quant_linear_module.qzeros', 'model.layers.20.self_attn.v_proj.base_layer.qzeros'}, {'model.layers.20.self_attn.v_proj.base_layer.scales', 'model.layers.20.self_attn.v_proj.quant_linear_module.scales'}, {'model.layers.20.self_attn.v_proj.quant_linear_module.bias', 'model.layers.20.self_attn.v_proj.base_layer.bias'}, {'model.layers.21.self_attn.q_proj.base_layer.qweight', 'model.layers.21.self_attn.q_proj.quant_linear_module.qweight'}, {'model.layers.21.self_attn.q_proj.quant_linear_module.qzeros', 'model.layers.21.self_attn.q_proj.base_layer.qzeros'}, {'model.layers.21.self_attn.q_proj.base_layer.scales', 'model.layers.21.self_attn.q_proj.quant_linear_module.scales'}, {'model.layers.21.self_attn.q_proj.base_layer.bias', 'model.layers.21.self_attn.q_proj.quant_linear_module.bias'}, {'model.layers.21.self_attn.k_proj.base_layer.qweight', 'model.layers.21.self_attn.k_proj.quant_linear_module.qweight'}, {'model.layers.21.self_attn.k_proj.base_layer.qzeros', 'model.layers.21.self_attn.k_proj.quant_linear_module.qzeros'}, {'model.layers.21.self_attn.k_proj.quant_linear_module.scales', 'model.layers.21.self_attn.k_proj.base_layer.scales'}, {'model.layers.21.self_attn.k_proj.base_layer.bias', 'model.layers.21.self_attn.k_proj.quant_linear_module.bias'}, {'model.layers.21.self_attn.v_proj.base_layer.qweight', 'model.layers.21.self_attn.v_proj.quant_linear_module.qweight'}, {'model.layers.21.self_attn.v_proj.base_layer.qzeros', 'model.layers.21.self_attn.v_proj.quant_linear_module.qzeros'}, {'model.layers.21.self_attn.v_proj.quant_linear_module.scales', 'model.layers.21.self_attn.v_proj.base_layer.scales'}, {'model.layers.21.self_attn.v_proj.base_layer.bias', 'model.layers.21.self_attn.v_proj.quant_linear_module.bias'}, {'model.layers.22.self_attn.q_proj.base_layer.qweight', 'model.layers.22.self_attn.q_proj.quant_linear_module.qweight'}, {'model.layers.22.self_attn.q_proj.base_layer.qzeros', 'model.layers.22.self_attn.q_proj.quant_linear_module.qzeros'}, {'model.layers.22.self_attn.q_proj.base_layer.scales', 'model.layers.22.self_attn.q_proj.quant_linear_module.scales'}, {'model.layers.22.self_attn.q_proj.quant_linear_module.bias', 'model.layers.22.self_attn.q_proj.base_layer.bias'}, {'model.layers.22.self_attn.k_proj.quant_linear_module.qweight', 'model.layers.22.self_attn.k_proj.base_layer.qweight'}, {'model.layers.22.self_attn.k_proj.quant_linear_module.qzeros', 'model.layers.22.self_attn.k_proj.base_layer.qzeros'}, {'model.layers.22.self_attn.k_proj.base_layer.scales', 'model.layers.22.self_attn.k_proj.quant_linear_module.scales'}, {'model.layers.22.self_attn.k_proj.base_layer.bias', 'model.layers.22.self_attn.k_proj.quant_linear_module.bias'}, {'model.layers.22.self_attn.v_proj.base_layer.qweight', 'model.layers.22.self_attn.v_proj.quant_linear_module.qweight'}, {'model.layers.22.self_attn.v_proj.quant_linear_module.qzeros', 'model.layers.22.self_attn.v_proj.base_layer.qzeros'}, {'model.layers.22.self_attn.v_proj.quant_linear_module.scales', 'model.layers.22.self_attn.v_proj.base_layer.scales'}, {'model.layers.22.self_attn.v_proj.base_layer.bias', 'model.layers.22.self_attn.v_proj.quant_linear_module.bias'}, {'model.layers.23.self_attn.q_proj.quant_linear_module.qweight', 'model.layers.23.self_attn.q_proj.base_layer.qweight'}, {'model.layers.23.self_attn.q_proj.base_layer.qzeros', 'model.layers.23.self_attn.q_proj.quant_linear_module.qzeros'}, {'model.layers.23.self_attn.q_proj.quant_linear_module.scales', 'model.layers.23.self_attn.q_proj.base_layer.scales'}, {'model.layers.23.self_attn.q_proj.quant_linear_module.bias', 'model.layers.23.self_attn.q_proj.base_layer.bias'}, {'model.layers.23.self_attn.k_proj.base_layer.qweight', 'model.layers.23.self_attn.k_proj.quant_linear_module.qweight'}, {'model.layers.23.self_attn.k_proj.quant_linear_module.qzeros', 'model.layers.23.self_attn.k_proj.base_layer.qzeros'}, {'model.layers.23.self_attn.k_proj.quant_linear_module.scales', 'model.layers.23.self_attn.k_proj.base_layer.scales'}, {'model.layers.23.self_attn.k_proj.quant_linear_module.bias', 'model.layers.23.self_attn.k_proj.base_layer.bias'}, {'model.layers.23.self_attn.v_proj.base_layer.qweight', 'model.layers.23.self_attn.v_proj.quant_linear_module.qweight'}, {'model.layers.23.self_attn.v_proj.quant_linear_module.qzeros', 'model.layers.23.self_attn.v_proj.base_layer.qzeros'}, {'model.layers.23.self_attn.v_proj.base_layer.scales', 'model.layers.23.self_attn.v_proj.quant_linear_module.scales'}, {'model.layers.23.self_attn.v_proj.quant_linear_module.bias', 'model.layers.23.self_attn.v_proj.base_layer.bias'}, {'model.layers.24.self_attn.q_proj.quant_linear_module.qweight', 'model.layers.24.self_attn.q_proj.base_layer.qweight'}, {'model.layers.24.self_attn.q_proj.quant_linear_module.qzeros', 'model.layers.24.self_attn.q_proj.base_layer.qzeros'}, {'model.layers.24.self_attn.q_proj.base_layer.scales', 'model.layers.24.self_attn.q_proj.quant_linear_module.scales'}, {'model.layers.24.self_attn.q_proj.base_layer.bias', 'model.layers.24.self_attn.q_proj.quant_linear_module.bias'}, {'model.layers.24.self_attn.k_proj.base_layer.qweight', 'model.layers.24.self_attn.k_proj.quant_linear_module.qweight'}, {'model.layers.24.self_attn.k_proj.quant_linear_module.qzeros', 'model.layers.24.self_attn.k_proj.base_layer.qzeros'}, {'model.layers.24.self_attn.k_proj.base_layer.scales', 'model.layers.24.self_attn.k_proj.quant_linear_module.scales'}, {'model.layers.24.self_attn.k_proj.quant_linear_module.bias', 'model.layers.24.self_attn.k_proj.base_layer.bias'}, {'model.layers.24.self_attn.v_proj.quant_linear_module.qweight', 'model.layers.24.self_attn.v_proj.base_layer.qweight'}, {'model.layers.24.self_attn.v_proj.base_layer.qzeros', 'model.layers.24.self_attn.v_proj.quant_linear_module.qzeros'}, {'model.layers.24.self_attn.v_proj.quant_linear_module.scales', 'model.layers.24.self_attn.v_proj.base_layer.scales'}, {'model.layers.24.self_attn.v_proj.base_layer.bias', 'model.layers.24.self_attn.v_proj.quant_linear_module.bias'}, {'model.layers.25.self_attn.q_proj.base_layer.qweight', 'model.layers.25.self_attn.q_proj.quant_linear_module.qweight'}, {'model.layers.25.self_attn.q_proj.quant_linear_module.qzeros', 'model.layers.25.self_attn.q_proj.base_layer.qzeros'}, {'model.layers.25.self_attn.q_proj.quant_linear_module.scales', 'model.layers.25.self_attn.q_proj.base_layer.scales'}, {'model.layers.25.self_attn.q_proj.base_layer.bias', 'model.layers.25.self_attn.q_proj.quant_linear_module.bias'}, {'model.layers.25.self_attn.k_proj.base_layer.qweight', 'model.layers.25.self_attn.k_proj.quant_linear_module.qweight'}, {'model.layers.25.self_attn.k_proj.base_layer.qzeros', 'model.layers.25.self_attn.k_proj.quant_linear_module.qzeros'}, {'model.layers.25.self_attn.k_proj.base_layer.scales', 'model.layers.25.self_attn.k_proj.quant_linear_module.scales'}, {'model.layers.25.self_attn.k_proj.quant_linear_module.bias', 'model.layers.25.self_attn.k_proj.base_layer.bias'}, {'model.layers.25.self_attn.v_proj.quant_linear_module.qweight', 'model.layers.25.self_attn.v_proj.base_layer.qweight'}, {'model.layers.25.self_attn.v_proj.quant_linear_module.qzeros', 'model.layers.25.self_attn.v_proj.base_layer.qzeros'}, {'model.layers.25.self_attn.v_proj.quant_linear_module.scales', 'model.layers.25.self_attn.v_proj.base_layer.scales'}, {'model.layers.25.self_attn.v_proj.base_layer.bias', 'model.layers.25.self_attn.v_proj.quant_linear_module.bias'}, {'model.layers.26.self_attn.q_proj.base_layer.qweight', 'model.layers.26.self_attn.q_proj.quant_linear_module.qweight'}, {'model.layers.26.self_attn.q_proj.base_layer.qzeros', 'model.layers.26.self_attn.q_proj.quant_linear_module.qzeros'}, {'model.layers.26.self_attn.q_proj.quant_linear_module.scales', 'model.layers.26.self_attn.q_proj.base_layer.scales'}, {'model.layers.26.self_attn.q_proj.quant_linear_module.bias', 'model.layers.26.self_attn.q_proj.base_layer.bias'}, {'model.layers.26.self_attn.k_proj.base_layer.qweight', 'model.layers.26.self_attn.k_proj.quant_linear_module.qweight'}, {'model.layers.26.self_attn.k_proj.quant_linear_module.qzeros', 'model.layers.26.self_attn.k_proj.base_layer.qzeros'}, {'model.layers.26.self_attn.k_proj.base_layer.scales', 'model.layers.26.self_attn.k_proj.quant_linear_module.scales'}, {'model.layers.26.self_attn.k_proj.quant_linear_module.bias', 'model.layers.26.self_attn.k_proj.base_layer.bias'}, {'model.layers.26.self_attn.v_proj.base_layer.qweight', 'model.layers.26.self_attn.v_proj.quant_linear_module.qweight'}, {'model.layers.26.self_attn.v_proj.base_layer.qzeros', 'model.layers.26.self_attn.v_proj.quant_linear_module.qzeros'}, {'model.layers.26.self_attn.v_proj.base_layer.scales', 'model.layers.26.self_attn.v_proj.quant_linear_module.scales'}, {'model.layers.26.self_attn.v_proj.quant_linear_module.bias', 'model.layers.26.self_attn.v_proj.base_layer.bias'}, {'model.layers.27.self_attn.q_proj.quant_linear_module.qweight', 'model.layers.27.self_attn.q_proj.base_layer.qweight'}, {'model.layers.27.self_attn.q_proj.base_layer.qzeros', 'model.layers.27.self_attn.q_proj.quant_linear_module.qzeros'}, {'model.layers.27.self_attn.q_proj.base_layer.scales', 'model.layers.27.self_attn.q_proj.quant_linear_module.scales'}, {'model.layers.27.self_attn.q_proj.quant_linear_module.bias', 'model.layers.27.self_attn.q_proj.base_layer.bias'}, {'model.layers.27.self_attn.k_proj.base_layer.qweight', 'model.layers.27.self_attn.k_proj.quant_linear_module.qweight'}, {'model.layers.27.self_attn.k_proj.base_layer.qzeros', 'model.layers.27.self_attn.k_proj.quant_linear_module.qzeros'}, {'model.layers.27.self_attn.k_proj.base_layer.scales', 'model.layers.27.self_attn.k_proj.quant_linear_module.scales'}, {'model.layers.27.self_attn.k_proj.base_layer.bias', 'model.layers.27.self_attn.k_proj.quant_linear_module.bias'}, {'model.layers.27.self_attn.v_proj.base_layer.qweight', 'model.layers.27.self_attn.v_proj.quant_linear_module.qweight'}, {'model.layers.27.self_attn.v_proj.base_layer.qzeros', 'model.layers.27.self_attn.v_proj.quant_linear_module.qzeros'}, {'model.layers.27.self_attn.v_proj.quant_linear_module.scales', 'model.layers.27.self_attn.v_proj.base_layer.scales'}, {'model.layers.27.self_attn.v_proj.base_layer.bias', 'model.layers.27.self_attn.v_proj.quant_linear_module.bias'}, {'model.layers.28.self_attn.q_proj.base_layer.qweight', 'model.layers.28.self_attn.q_proj.quant_linear_module.qweight'}, {'model.layers.28.self_attn.q_proj.quant_linear_module.qzeros', 'model.layers.28.self_attn.q_proj.base_layer.qzeros'}, {'model.layers.28.self_attn.q_proj.base_layer.scales', 'model.layers.28.self_attn.q_proj.quant_linear_module.scales'}, {'model.layers.28.self_attn.q_proj.quant_linear_module.bias', 'model.layers.28.self_attn.q_proj.base_layer.bias'}, {'model.layers.28.self_attn.k_proj.quant_linear_module.qweight', 'model.layers.28.self_attn.k_proj.base_layer.qweight'}, {'model.layers.28.self_attn.k_proj.quant_linear_module.qzeros', 'model.layers.28.self_attn.k_proj.base_layer.qzeros'}, {'model.layers.28.self_attn.k_proj.quant_linear_module.scales', 'model.layers.28.self_attn.k_proj.base_layer.scales'}, {'model.layers.28.self_attn.k_proj.base_layer.bias', 'model.layers.28.self_attn.k_proj.quant_linear_module.bias'}, {'model.layers.28.self_attn.v_proj.quant_linear_module.qweight', 'model.layers.28.self_attn.v_proj.base_layer.qweight'}, {'model.layers.28.self_attn.v_proj.base_layer.qzeros', 'model.layers.28.self_attn.v_proj.quant_linear_module.qzeros'}, {'model.layers.28.self_attn.v_proj.quant_linear_module.scales', 'model.layers.28.self_attn.v_proj.base_layer.scales'}, {'model.layers.28.self_attn.v_proj.base_layer.bias', 'model.layers.28.self_attn.v_proj.quant_linear_module.bias'}, {'model.layers.29.self_attn.q_proj.quant_linear_module.qweight', 'model.layers.29.self_attn.q_proj.base_layer.qweight'}, {'model.layers.29.self_attn.q_proj.base_layer.qzeros', 'model.layers.29.self_attn.q_proj.quant_linear_module.qzeros'}, {'model.layers.29.self_attn.q_proj.base_layer.scales', 'model.layers.29.self_attn.q_proj.quant_linear_module.scales'}, {'model.layers.29.self_attn.q_proj.quant_linear_module.bias', 'model.layers.29.self_attn.q_proj.base_layer.bias'}, {'model.layers.29.self_attn.k_proj.base_layer.qweight', 'model.layers.29.self_attn.k_proj.quant_linear_module.qweight'}, {'model.layers.29.self_attn.k_proj.base_layer.qzeros', 'model.layers.29.self_attn.k_proj.quant_linear_module.qzeros'}, {'model.layers.29.self_attn.k_proj.base_layer.scales', 'model.layers.29.self_attn.k_proj.quant_linear_module.scales'}, {'model.layers.29.self_attn.k_proj.base_layer.bias', 'model.layers.29.self_attn.k_proj.quant_linear_module.bias'}, {'model.layers.29.self_attn.v_proj.base_layer.qweight', 'model.layers.29.self_attn.v_proj.quant_linear_module.qweight'}, {'model.layers.29.self_attn.v_proj.base_layer.qzeros', 'model.layers.29.self_attn.v_proj.quant_linear_module.qzeros'}, {'model.layers.29.self_attn.v_proj.base_layer.scales', 'model.layers.29.self_attn.v_proj.quant_linear_module.scales'}, {'model.layers.29.self_attn.v_proj.base_layer.bias', 'model.layers.29.self_attn.v_proj.quant_linear_module.bias'}, {'model.layers.30.self_attn.q_proj.quant_linear_module.qweight', 'model.layers.30.self_attn.q_proj.base_layer.qweight'}, {'model.layers.30.self_attn.q_proj.base_layer.qzeros', 'model.layers.30.self_attn.q_proj.quant_linear_module.qzeros'}, {'model.layers.30.self_attn.q_proj.quant_linear_module.scales', 'model.layers.30.self_attn.q_proj.base_layer.scales'}, {'model.layers.30.self_attn.q_proj.quant_linear_module.bias', 'model.layers.30.self_attn.q_proj.base_layer.bias'}, {'model.layers.30.self_attn.k_proj.base_layer.qweight', 'model.layers.30.self_attn.k_proj.quant_linear_module.qweight'}, {'model.layers.30.self_attn.k_proj.base_layer.qzeros', 'model.layers.30.self_attn.k_proj.quant_linear_module.qzeros'}, {'model.layers.30.self_attn.k_proj.base_layer.scales', 'model.layers.30.self_attn.k_proj.quant_linear_module.scales'}, {'model.layers.30.self_attn.k_proj.quant_linear_module.bias', 'model.layers.30.self_attn.k_proj.base_layer.bias'}, {'model.layers.30.self_attn.v_proj.base_layer.qweight', 'model.layers.30.self_attn.v_proj.quant_linear_module.qweight'}, {'model.layers.30.self_attn.v_proj.quant_linear_module.qzeros', 'model.layers.30.self_attn.v_proj.base_layer.qzeros'}, {'model.layers.30.self_attn.v_proj.base_layer.scales', 'model.layers.30.self_attn.v_proj.quant_linear_module.scales'}, {'model.layers.30.self_attn.v_proj.quant_linear_module.bias', 'model.layers.30.self_attn.v_proj.base_layer.bias'}, {'model.layers.31.self_attn.q_proj.base_layer.qweight', 'model.layers.31.self_attn.q_proj.quant_linear_module.qweight'}, {'model.layers.31.self_attn.q_proj.base_layer.qzeros', 'model.layers.31.self_attn.q_proj.quant_linear_module.qzeros'}, {'model.layers.31.self_attn.q_proj.base_layer.scales', 'model.layers.31.self_attn.q_proj.quant_linear_module.scales'}, {'model.layers.31.self_attn.q_proj.quant_linear_module.bias', 'model.layers.31.self_attn.q_proj.base_layer.bias'}, {'model.layers.31.self_attn.k_proj.base_layer.qweight', 'model.layers.31.self_attn.k_proj.quant_linear_module.qweight'}, {'model.layers.31.self_attn.k_proj.base_layer.qzeros', 'model.layers.31.self_attn.k_proj.quant_linear_module.qzeros'}, {'model.layers.31.self_attn.k_proj.quant_linear_module.scales', 'model.layers.31.self_attn.k_proj.base_layer.scales'}, {'model.layers.31.self_attn.k_proj.base_layer.bias', 'model.layers.31.self_attn.k_proj.quant_linear_module.bias'}, {'model.layers.31.self_attn.v_proj.quant_linear_module.qweight', 'model.layers.31.self_attn.v_proj.base_layer.qweight'}, {'model.layers.31.self_attn.v_proj.base_layer.qzeros', 'model.layers.31.self_attn.v_proj.quant_linear_module.qzeros'}, {'model.layers.31.self_attn.v_proj.quant_linear_module.scales', 'model.layers.31.self_attn.v_proj.base_layer.scales'}, {'model.layers.31.self_attn.v_proj.base_layer.bias', 'model.layers.31.self_attn.v_proj.quant_linear_module.bias'}, {'model.layers.32.self_attn.q_proj.quant_linear_module.qweight', 'model.layers.32.self_attn.q_proj.base_layer.qweight'}, {'model.layers.32.self_attn.q_proj.quant_linear_module.qzeros', 'model.layers.32.self_attn.q_proj.base_layer.qzeros'}, {'model.layers.32.self_attn.q_proj.base_layer.scales', 'model.layers.32.self_attn.q_proj.quant_linear_module.scales'}, {'model.layers.32.self_attn.q_proj.base_layer.bias', 'model.layers.32.self_attn.q_proj.quant_linear_module.bias'}, {'model.layers.32.self_attn.k_proj.base_layer.qweight', 'model.layers.32.self_attn.k_proj.quant_linear_module.qweight'}, {'model.layers.32.self_attn.k_proj.base_layer.qzeros', 'model.layers.32.self_attn.k_proj.quant_linear_module.qzeros'}, {'model.layers.32.self_attn.k_proj.quant_linear_module.scales', 'model.layers.32.self_attn.k_proj.base_layer.scales'}, {'model.layers.32.self_attn.k_proj.base_layer.bias', 'model.layers.32.self_attn.k_proj.quant_linear_module.bias'}, {'model.layers.32.self_attn.v_proj.quant_linear_module.qweight', 'model.layers.32.self_attn.v_proj.base_layer.qweight'}, {'model.layers.32.self_attn.v_proj.quant_linear_module.qzeros', 'model.layers.32.self_attn.v_proj.base_layer.qzeros'}, {'model.layers.32.self_attn.v_proj.base_layer.scales', 'model.layers.32.self_attn.v_proj.quant_linear_module.scales'}, {'model.layers.32.self_attn.v_proj.quant_linear_module.bias', 'model.layers.32.self_attn.v_proj.base_layer.bias'}, {'model.layers.33.self_attn.q_proj.base_layer.qweight', 'model.layers.33.self_attn.q_proj.quant_linear_module.qweight'}, {'model.layers.33.self_attn.q_proj.base_layer.qzeros', 'model.layers.33.self_attn.q_proj.quant_linear_module.qzeros'}, {'model.layers.33.self_attn.q_proj.base_layer.scales', 'model.layers.33.self_attn.q_proj.quant_linear_module.scales'}, {'model.layers.33.self_attn.q_proj.quant_linear_module.bias', 'model.layers.33.self_attn.q_proj.base_layer.bias'}, {'model.layers.33.self_attn.k_proj.base_layer.qweight', 'model.layers.33.self_attn.k_proj.quant_linear_module.qweight'}, {'model.layers.33.self_attn.k_proj.base_layer.qzeros', 'model.layers.33.self_attn.k_proj.quant_linear_module.qzeros'}, {'model.layers.33.self_attn.k_proj.quant_linear_module.scales', 'model.layers.33.self_attn.k_proj.base_layer.scales'}, {'model.layers.33.self_attn.k_proj.base_layer.bias', 'model.layers.33.self_attn.k_proj.quant_linear_module.bias'}, {'model.layers.33.self_attn.v_proj.base_layer.qweight', 'model.layers.33.self_attn.v_proj.quant_linear_module.qweight'}, {'model.layers.33.self_attn.v_proj.base_layer.qzeros', 'model.layers.33.self_attn.v_proj.quant_linear_module.qzeros'}, {'model.layers.33.self_attn.v_proj.base_layer.scales', 'model.layers.33.self_attn.v_proj.quant_linear_module.scales'}, {'model.layers.33.self_attn.v_proj.quant_linear_module.bias', 'model.layers.33.self_attn.v_proj.base_layer.bias'}, {'model.layers.34.self_attn.q_proj.base_layer.qweight', 'model.layers.34.self_attn.q_proj.quant_linear_module.qweight'}, {'model.layers.34.self_attn.q_proj.base_layer.qzeros', 'model.layers.34.self_attn.q_proj.quant_linear_module.qzeros'}, {'model.layers.34.self_attn.q_proj.quant_linear_module.scales', 'model.layers.34.self_attn.q_proj.base_layer.scales'}, {'model.layers.34.self_attn.q_proj.base_layer.bias', 'model.layers.34.self_attn.q_proj.quant_linear_module.bias'}, {'model.layers.34.self_attn.k_proj.base_layer.qweight', 'model.layers.34.self_attn.k_proj.quant_linear_module.qweight'}, {'model.layers.34.self_attn.k_proj.quant_linear_module.qzeros', 'model.layers.34.self_attn.k_proj.base_layer.qzeros'}, {'model.layers.34.self_attn.k_proj.base_layer.scales', 'model.layers.34.self_attn.k_proj.quant_linear_module.scales'}, {'model.layers.34.self_attn.k_proj.quant_linear_module.bias', 'model.layers.34.self_attn.k_proj.base_layer.bias'}, {'model.layers.34.self_attn.v_proj.quant_linear_module.qweight', 'model.layers.34.self_attn.v_proj.base_layer.qweight'}, {'model.layers.34.self_attn.v_proj.quant_linear_module.qzeros', 'model.layers.34.self_attn.v_proj.base_layer.qzeros'}, {'model.layers.34.self_attn.v_proj.base_layer.scales', 'model.layers.34.self_attn.v_proj.quant_linear_module.scales'}, {'model.layers.34.self_attn.v_proj.quant_linear_module.bias', 'model.layers.34.self_attn.v_proj.base_layer.bias'}, {'model.layers.35.self_attn.q_proj.quant_linear_module.qweight', 'model.layers.35.self_attn.q_proj.base_layer.qweight'}, {'model.layers.35.self_attn.q_proj.quant_linear_module.qzeros', 'model.layers.35.self_attn.q_proj.base_layer.qzeros'}, {'model.layers.35.self_attn.q_proj.base_layer.scales', 'model.layers.35.self_attn.q_proj.quant_linear_module.scales'}, {'model.layers.35.self_attn.q_proj.quant_linear_module.bias', 'model.layers.35.self_attn.q_proj.base_layer.bias'}, {'model.layers.35.self_attn.k_proj.base_layer.qweight', 'model.layers.35.self_attn.k_proj.quant_linear_module.qweight'}, {'model.layers.35.self_attn.k_proj.base_layer.qzeros', 'model.layers.35.self_attn.k_proj.quant_linear_module.qzeros'}, {'model.layers.35.self_attn.k_proj.quant_linear_module.scales', 'model.layers.35.self_attn.k_proj.base_layer.scales'}, {'model.layers.35.self_attn.k_proj.base_layer.bias', 'model.layers.35.self_attn.k_proj.quant_linear_module.bias'}, {'model.layers.35.self_attn.v_proj.base_layer.qweight', 'model.layers.35.self_attn.v_proj.quant_linear_module.qweight'}, {'model.layers.35.self_attn.v_proj.base_layer.qzeros', 'model.layers.35.self_attn.v_proj.quant_linear_module.qzeros'}, {'model.layers.35.self_attn.v_proj.base_layer.scales', 'model.layers.35.self_attn.v_proj.quant_linear_module.scales'}, {'model.layers.35.self_attn.v_proj.base_layer.bias', 'model.layers.35.self_attn.v_proj.quant_linear_module.bias'}, {'model.layers.36.self_attn.q_proj.quant_linear_module.qweight', 'model.layers.36.self_attn.q_proj.base_layer.qweight'}, {'model.layers.36.self_attn.q_proj.quant_linear_module.qzeros', 'model.layers.36.self_attn.q_proj.base_layer.qzeros'}, {'model.layers.36.self_attn.q_proj.base_layer.scales', 'model.layers.36.self_attn.q_proj.quant_linear_module.scales'}, {'model.layers.36.self_attn.q_proj.base_layer.bias', 'model.layers.36.self_attn.q_proj.quant_linear_module.bias'}, {'model.layers.36.self_attn.k_proj.quant_linear_module.qweight', 'model.layers.36.self_attn.k_proj.base_layer.qweight'}, {'model.layers.36.self_attn.k_proj.quant_linear_module.qzeros', 'model.layers.36.self_attn.k_proj.base_layer.qzeros'}, {'model.layers.36.self_attn.k_proj.base_layer.scales', 'model.layers.36.self_attn.k_proj.quant_linear_module.scales'}, {'model.layers.36.self_attn.k_proj.base_layer.bias', 'model.layers.36.self_attn.k_proj.quant_linear_module.bias'}, {'model.layers.36.self_attn.v_proj.quant_linear_module.qweight', 'model.layers.36.self_attn.v_proj.base_layer.qweight'}, {'model.layers.36.self_attn.v_proj.base_layer.qzeros', 'model.layers.36.self_attn.v_proj.quant_linear_module.qzeros'}, {'model.layers.36.self_attn.v_proj.base_layer.scales', 'model.layers.36.self_attn.v_proj.quant_linear_module.scales'}, {'model.layers.36.self_attn.v_proj.base_layer.bias', 'model.layers.36.self_attn.v_proj.quant_linear_module.bias'}, {'model.layers.37.self_attn.q_proj.quant_linear_module.qweight', 'model.layers.37.self_attn.q_proj.base_layer.qweight'}, {'model.layers.37.self_attn.q_proj.base_layer.qzeros', 'model.layers.37.self_attn.q_proj.quant_linear_module.qzeros'}, {'model.layers.37.self_attn.q_proj.base_layer.scales', 'model.layers.37.self_attn.q_proj.quant_linear_module.scales'}, {'model.layers.37.self_attn.q_proj.base_layer.bias', 'model.layers.37.self_attn.q_proj.quant_linear_module.bias'}, {'model.layers.37.self_attn.k_proj.base_layer.qweight', 'model.layers.37.self_attn.k_proj.quant_linear_module.qweight'}, {'model.layers.37.self_attn.k_proj.base_layer.qzeros', 'model.layers.37.self_attn.k_proj.quant_linear_module.qzeros'}, {'model.layers.37.self_attn.k_proj.base_layer.scales', 'model.layers.37.self_attn.k_proj.quant_linear_module.scales'}, {'model.layers.37.self_attn.k_proj.base_layer.bias', 'model.layers.37.self_attn.k_proj.quant_linear_module.bias'}, {'model.layers.37.self_attn.v_proj.quant_linear_module.qweight', 'model.layers.37.self_attn.v_proj.base_layer.qweight'}, {'model.layers.37.self_attn.v_proj.quant_linear_module.qzeros', 'model.layers.37.self_attn.v_proj.base_layer.qzeros'}, {'model.layers.37.self_attn.v_proj.quant_linear_module.scales', 'model.layers.37.self_attn.v_proj.base_layer.scales'}, {'model.layers.37.self_attn.v_proj.base_layer.bias', 'model.layers.37.self_attn.v_proj.quant_linear_module.bias'}, {'model.layers.38.self_attn.q_proj.base_layer.qweight', 'model.layers.38.self_attn.q_proj.quant_linear_module.qweight'}, {'model.layers.38.self_attn.q_proj.quant_linear_module.qzeros', 'model.layers.38.self_attn.q_proj.base_layer.qzeros'}, {'model.layers.38.self_attn.q_proj.quant_linear_module.scales', 'model.layers.38.self_attn.q_proj.base_layer.scales'}, {'model.layers.38.self_attn.q_proj.base_layer.bias', 'model.layers.38.self_attn.q_proj.quant_linear_module.bias'}, {'model.layers.38.self_attn.k_proj.base_layer.qweight', 'model.layers.38.self_attn.k_proj.quant_linear_module.qweight'}, {'model.layers.38.self_attn.k_proj.quant_linear_module.qzeros', 'model.layers.38.self_attn.k_proj.base_layer.qzeros'}, {'model.layers.38.self_attn.k_proj.quant_linear_module.scales', 'model.layers.38.self_attn.k_proj.base_layer.scales'}, {'model.layers.38.self_attn.k_proj.base_layer.bias', 'model.layers.38.self_attn.k_proj.quant_linear_module.bias'}, {'model.layers.38.self_attn.v_proj.quant_linear_module.qweight', 'model.layers.38.self_attn.v_proj.base_layer.qweight'}, {'model.layers.38.self_attn.v_proj.quant_linear_module.qzeros', 'model.layers.38.self_attn.v_proj.base_layer.qzeros'}, {'model.layers.38.self_attn.v_proj.quant_linear_module.scales', 'model.layers.38.self_attn.v_proj.base_layer.scales'}, {'model.layers.38.self_attn.v_proj.base_layer.bias', 'model.layers.38.self_attn.v_proj.quant_linear_module.bias'}, {'model.layers.39.self_attn.q_proj.base_layer.qweight', 'model.layers.39.self_attn.q_proj.quant_linear_module.qweight'}, {'model.layers.39.self_attn.q_proj.base_layer.qzeros', 'model.layers.39.self_attn.q_proj.quant_linear_module.qzeros'}, {'model.layers.39.self_attn.q_proj.base_layer.scales', 'model.layers.39.self_attn.q_proj.quant_linear_module.scales'}, {'model.layers.39.self_attn.q_proj.base_layer.bias', 'model.layers.39.self_attn.q_proj.quant_linear_module.bias'}, {'model.layers.39.self_attn.k_proj.base_layer.qweight', 'model.layers.39.self_attn.k_proj.quant_linear_module.qweight'}, {'model.layers.39.self_attn.k_proj.base_layer.qzeros', 'model.layers.39.self_attn.k_proj.quant_linear_module.qzeros'}, {'model.layers.39.self_attn.k_proj.quant_linear_module.scales', 'model.layers.39.self_attn.k_proj.base_layer.scales'}, {'model.layers.39.self_attn.k_proj.base_layer.bias', 'model.layers.39.self_attn.k_proj.quant_linear_module.bias'}, {'model.layers.39.self_attn.v_proj.quant_linear_module.qweight', 'model.layers.39.self_attn.v_proj.base_layer.qweight'}, {'model.layers.39.self_attn.v_proj.quant_linear_module.qzeros', 'model.layers.39.self_attn.v_proj.base_layer.qzeros'}, {'model.layers.39.self_attn.v_proj.base_layer.scales', 'model.layers.39.self_attn.v_proj.quant_linear_module.scales'}, {'model.layers.39.self_attn.v_proj.base_layer.bias', 'model.layers.39.self_attn.v_proj.quant_linear_module.bias'}, {'model.layers.40.self_attn.q_proj.quant_linear_module.qweight', 'model.layers.40.self_attn.q_proj.base_layer.qweight'}, {'model.layers.40.self_attn.q_proj.quant_linear_module.qzeros', 'model.layers.40.self_attn.q_proj.base_layer.qzeros'}, {'model.layers.40.self_attn.q_proj.base_layer.scales', 'model.layers.40.self_attn.q_proj.quant_linear_module.scales'}, {'model.layers.40.self_attn.q_proj.base_layer.bias', 'model.layers.40.self_attn.q_proj.quant_linear_module.bias'}, {'model.layers.40.self_attn.k_proj.base_layer.qweight', 'model.layers.40.self_attn.k_proj.quant_linear_module.qweight'}, {'model.layers.40.self_attn.k_proj.base_layer.qzeros', 'model.layers.40.self_attn.k_proj.quant_linear_module.qzeros'}, {'model.layers.40.self_attn.k_proj.quant_linear_module.scales', 'model.layers.40.self_attn.k_proj.base_layer.scales'}, {'model.layers.40.self_attn.k_proj.base_layer.bias', 'model.layers.40.self_attn.k_proj.quant_linear_module.bias'}, {'model.layers.40.self_attn.v_proj.base_layer.qweight', 'model.layers.40.self_attn.v_proj.quant_linear_module.qweight'}, {'model.layers.40.self_attn.v_proj.base_layer.qzeros', 'model.layers.40.self_attn.v_proj.quant_linear_module.qzeros'}, {'model.layers.40.self_attn.v_proj.quant_linear_module.scales', 'model.layers.40.self_attn.v_proj.base_layer.scales'}, {'model.layers.40.self_attn.v_proj.base_layer.bias', 'model.layers.40.self_attn.v_proj.quant_linear_module.bias'}, {'model.layers.41.self_attn.q_proj.quant_linear_module.qweight', 'model.layers.41.self_attn.q_proj.base_layer.qweight'}, {'model.layers.41.self_attn.q_proj.quant_linear_module.qzeros', 'model.layers.41.self_attn.q_proj.base_layer.qzeros'}, {'model.layers.41.self_attn.q_proj.base_layer.scales', 'model.layers.41.self_attn.q_proj.quant_linear_module.scales'}, {'model.layers.41.self_attn.q_proj.quant_linear_module.bias', 'model.layers.41.self_attn.q_proj.base_layer.bias'}, {'model.layers.41.self_attn.k_proj.base_layer.qweight', 'model.layers.41.self_attn.k_proj.quant_linear_module.qweight'}, {'model.layers.41.self_attn.k_proj.base_layer.qzeros', 'model.layers.41.self_attn.k_proj.quant_linear_module.qzeros'}, {'model.layers.41.self_attn.k_proj.base_layer.scales', 'model.layers.41.self_attn.k_proj.quant_linear_module.scales'}, {'model.layers.41.self_attn.k_proj.quant_linear_module.bias', 'model.layers.41.self_attn.k_proj.base_layer.bias'}, {'model.layers.41.self_attn.v_proj.quant_linear_module.qweight', 'model.layers.41.self_attn.v_proj.base_layer.qweight'}, {'model.layers.41.self_attn.v_proj.base_layer.qzeros', 'model.layers.41.self_attn.v_proj.quant_linear_module.qzeros'}, {'model.layers.41.self_attn.v_proj.quant_linear_module.scales', 'model.layers.41.self_attn.v_proj.base_layer.scales'}, {'model.layers.41.self_attn.v_proj.base_layer.bias', 'model.layers.41.self_attn.v_proj.quant_linear_module.bias'}, {'model.layers.42.self_attn.q_proj.base_layer.qweight', 'model.layers.42.self_attn.q_proj.quant_linear_module.qweight'}, {'model.layers.42.self_attn.q_proj.base_layer.qzeros', 'model.layers.42.self_attn.q_proj.quant_linear_module.qzeros'}, {'model.layers.42.self_attn.q_proj.quant_linear_module.scales', 'model.layers.42.self_attn.q_proj.base_layer.scales'}, {'model.layers.42.self_attn.q_proj.quant_linear_module.bias', 'model.layers.42.self_attn.q_proj.base_layer.bias'}, {'model.layers.42.self_attn.k_proj.base_layer.qweight', 'model.layers.42.self_attn.k_proj.quant_linear_module.qweight'}, {'model.layers.42.self_attn.k_proj.quant_linear_module.qzeros', 'model.layers.42.self_attn.k_proj.base_layer.qzeros'}, {'model.layers.42.self_attn.k_proj.base_layer.scales', 'model.layers.42.self_attn.k_proj.quant_linear_module.scales'}, {'model.layers.42.self_attn.k_proj.quant_linear_module.bias', 'model.layers.42.self_attn.k_proj.base_layer.bias'}, {'model.layers.42.self_attn.v_proj.quant_linear_module.qweight', 'model.layers.42.self_attn.v_proj.base_layer.qweight'}, {'model.layers.42.self_attn.v_proj.quant_linear_module.qzeros', 'model.layers.42.self_attn.v_proj.base_layer.qzeros'}, {'model.layers.42.self_attn.v_proj.base_layer.scales', 'model.layers.42.self_attn.v_proj.quant_linear_module.scales'}, {'model.layers.42.self_attn.v_proj.base_layer.bias', 'model.layers.42.self_attn.v_proj.quant_linear_module.bias'}, {'model.layers.43.self_attn.q_proj.base_layer.qweight', 'model.layers.43.self_attn.q_proj.quant_linear_module.qweight'}, {'model.layers.43.self_attn.q_proj.quant_linear_module.qzeros', 'model.layers.43.self_attn.q_proj.base_layer.qzeros'}, {'model.layers.43.self_attn.q_proj.base_layer.scales', 'model.layers.43.self_attn.q_proj.quant_linear_module.scales'}, {'model.layers.43.self_attn.q_proj.quant_linear_module.bias', 'model.layers.43.self_attn.q_proj.base_layer.bias'}, {'model.layers.43.self_attn.k_proj.quant_linear_module.qweight', 'model.layers.43.self_attn.k_proj.base_layer.qweight'}, {'model.layers.43.self_attn.k_proj.quant_linear_module.qzeros', 'model.layers.43.self_attn.k_proj.base_layer.qzeros'}, {'model.layers.43.self_attn.k_proj.quant_linear_module.scales', 'model.layers.43.self_attn.k_proj.base_layer.scales'}, {'model.layers.43.self_attn.k_proj.base_layer.bias', 'model.layers.43.self_attn.k_proj.quant_linear_module.bias'}, {'model.layers.43.self_attn.v_proj.base_layer.qweight', 'model.layers.43.self_attn.v_proj.quant_linear_module.qweight'}, {'model.layers.43.self_attn.v_proj.base_layer.qzeros', 'model.layers.43.self_attn.v_proj.quant_linear_module.qzeros'}, {'model.layers.43.self_attn.v_proj.quant_linear_module.scales', 'model.layers.43.self_attn.v_proj.base_layer.scales'}, {'model.layers.43.self_attn.v_proj.quant_linear_module.bias', 'model.layers.43.self_attn.v_proj.base_layer.bias'}, {'model.layers.44.self_attn.q_proj.base_layer.qweight', 'model.layers.44.self_attn.q_proj.quant_linear_module.qweight'}, {'model.layers.44.self_attn.q_proj.quant_linear_module.qzeros', 'model.layers.44.self_attn.q_proj.base_layer.qzeros'}, {'model.layers.44.self_attn.q_proj.base_layer.scales', 'model.layers.44.self_attn.q_proj.quant_linear_module.scales'}, {'model.layers.44.self_attn.q_proj.base_layer.bias', 'model.layers.44.self_attn.q_proj.quant_linear_module.bias'}, {'model.layers.44.self_attn.k_proj.base_layer.qweight', 'model.layers.44.self_attn.k_proj.quant_linear_module.qweight'}, {'model.layers.44.self_attn.k_proj.quant_linear_module.qzeros', 'model.layers.44.self_attn.k_proj.base_layer.qzeros'}, {'model.layers.44.self_attn.k_proj.base_layer.scales', 'model.layers.44.self_attn.k_proj.quant_linear_module.scales'}, {'model.layers.44.self_attn.k_proj.quant_linear_module.bias', 'model.layers.44.self_attn.k_proj.base_layer.bias'}, {'model.layers.44.self_attn.v_proj.quant_linear_module.qweight', 'model.layers.44.self_attn.v_proj.base_layer.qweight'}, {'model.layers.44.self_attn.v_proj.base_layer.qzeros', 'model.layers.44.self_attn.v_proj.quant_linear_module.qzeros'}, {'model.layers.44.self_attn.v_proj.base_layer.scales', 'model.layers.44.self_attn.v_proj.quant_linear_module.scales'}, {'model.layers.44.self_attn.v_proj.base_layer.bias', 'model.layers.44.self_attn.v_proj.quant_linear_module.bias'}, {'model.layers.45.self_attn.q_proj.base_layer.qweight', 'model.layers.45.self_attn.q_proj.quant_linear_module.qweight'}, {'model.layers.45.self_attn.q_proj.quant_linear_module.qzeros', 'model.layers.45.self_attn.q_proj.base_layer.qzeros'}, {'model.layers.45.self_attn.q_proj.quant_linear_module.scales', 'model.layers.45.self_attn.q_proj.base_layer.scales'}, {'model.layers.45.self_attn.q_proj.base_layer.bias', 'model.layers.45.self_attn.q_proj.quant_linear_module.bias'}, {'model.layers.45.self_attn.k_proj.quant_linear_module.qweight', 'model.layers.45.self_attn.k_proj.base_layer.qweight'}, {'model.layers.45.self_attn.k_proj.base_layer.qzeros', 'model.layers.45.self_attn.k_proj.quant_linear_module.qzeros'}, {'model.layers.45.self_attn.k_proj.base_layer.scales', 'model.layers.45.self_attn.k_proj.quant_linear_module.scales'}, {'model.layers.45.self_attn.k_proj.quant_linear_module.bias', 'model.layers.45.self_attn.k_proj.base_layer.bias'}, {'model.layers.45.self_attn.v_proj.quant_linear_module.qweight', 'model.layers.45.self_attn.v_proj.base_layer.qweight'}, {'model.layers.45.self_attn.v_proj.quant_linear_module.qzeros', 'model.layers.45.self_attn.v_proj.base_layer.qzeros'}, {'model.layers.45.self_attn.v_proj.base_layer.scales', 'model.layers.45.self_attn.v_proj.quant_linear_module.scales'}, {'model.layers.45.self_attn.v_proj.quant_linear_module.bias', 'model.layers.45.self_attn.v_proj.base_layer.bias'}, {'model.layers.46.self_attn.q_proj.quant_linear_module.qweight', 'model.layers.46.self_attn.q_proj.base_layer.qweight'}, {'model.layers.46.self_attn.q_proj.quant_linear_module.qzeros', 'model.layers.46.self_attn.q_proj.base_layer.qzeros'}, {'model.layers.46.self_attn.q_proj.base_layer.scales', 'model.layers.46.self_attn.q_proj.quant_linear_module.scales'}, {'model.layers.46.self_attn.q_proj.base_layer.bias', 'model.layers.46.self_attn.q_proj.quant_linear_module.bias'}, {'model.layers.46.self_attn.k_proj.quant_linear_module.qweight', 'model.layers.46.self_attn.k_proj.base_layer.qweight'}, {'model.layers.46.self_attn.k_proj.quant_linear_module.qzeros', 'model.layers.46.self_attn.k_proj.base_layer.qzeros'}, {'model.layers.46.self_attn.k_proj.base_layer.scales', 'model.layers.46.self_attn.k_proj.quant_linear_module.scales'}, {'model.layers.46.self_attn.k_proj.quant_linear_module.bias', 'model.layers.46.self_attn.k_proj.base_layer.bias'}, {'model.layers.46.self_attn.v_proj.quant_linear_module.qweight', 'model.layers.46.self_attn.v_proj.base_layer.qweight'}, {'model.layers.46.self_attn.v_proj.quant_linear_module.qzeros', 'model.layers.46.self_attn.v_proj.base_layer.qzeros'}, {'model.layers.46.self_attn.v_proj.base_layer.scales', 'model.layers.46.self_attn.v_proj.quant_linear_module.scales'}, {'model.layers.46.self_attn.v_proj.base_layer.bias', 'model.layers.46.self_attn.v_proj.quant_linear_module.bias'}, {'model.layers.47.self_attn.q_proj.quant_linear_module.qweight', 'model.layers.47.self_attn.q_proj.base_layer.qweight'}, {'model.layers.47.self_attn.q_proj.base_layer.qzeros', 'model.layers.47.self_attn.q_proj.quant_linear_module.qzeros'}, {'model.layers.47.self_attn.q_proj.quant_linear_module.scales', 'model.layers.47.self_attn.q_proj.base_layer.scales'}, {'model.layers.47.self_attn.q_proj.quant_linear_module.bias', 'model.layers.47.self_attn.q_proj.base_layer.bias'}, {'model.layers.47.self_attn.k_proj.base_layer.qweight', 'model.layers.47.self_attn.k_proj.quant_linear_module.qweight'}, {'model.layers.47.self_attn.k_proj.base_layer.qzeros', 'model.layers.47.self_attn.k_proj.quant_linear_module.qzeros'}, {'model.layers.47.self_attn.k_proj.base_layer.scales', 'model.layers.47.self_attn.k_proj.quant_linear_module.scales'}, {'model.layers.47.self_attn.k_proj.base_layer.bias', 'model.layers.47.self_attn.k_proj.quant_linear_module.bias'}, {'model.layers.47.self_attn.v_proj.quant_linear_module.qweight', 'model.layers.47.self_attn.v_proj.base_layer.qweight'}, {'model.layers.47.self_attn.v_proj.quant_linear_module.qzeros', 'model.layers.47.self_attn.v_proj.base_layer.qzeros'}, {'model.layers.47.self_attn.v_proj.base_layer.scales', 'model.layers.47.self_attn.v_proj.quant_linear_module.scales'}, {'model.layers.47.self_attn.v_proj.quant_linear_module.bias', 'model.layers.47.self_attn.v_proj.base_layer.bias'}, {'model.layers.48.self_attn.q_proj.base_layer.qweight', 'model.layers.48.self_attn.q_proj.quant_linear_module.qweight'}, {'model.layers.48.self_attn.q_proj.base_layer.qzeros', 'model.layers.48.self_attn.q_proj.quant_linear_module.qzeros'}, {'model.layers.48.self_attn.q_proj.base_layer.scales', 'model.layers.48.self_attn.q_proj.quant_linear_module.scales'}, {'model.layers.48.self_attn.q_proj.quant_linear_module.bias', 'model.layers.48.self_attn.q_proj.base_layer.bias'}, {'model.layers.48.self_attn.k_proj.base_layer.qweight', 'model.layers.48.self_attn.k_proj.quant_linear_module.qweight'}, {'model.layers.48.self_attn.k_proj.base_layer.qzeros', 'model.layers.48.self_attn.k_proj.quant_linear_module.qzeros'}, {'model.layers.48.self_attn.k_proj.base_layer.scales', 'model.layers.48.self_attn.k_proj.quant_linear_module.scales'}, {'model.layers.48.self_attn.k_proj.quant_linear_module.bias', 'model.layers.48.self_attn.k_proj.base_layer.bias'}, {'model.layers.48.self_attn.v_proj.quant_linear_module.qweight', 'model.layers.48.self_attn.v_proj.base_layer.qweight'}, {'model.layers.48.self_attn.v_proj.quant_linear_module.qzeros', 'model.layers.48.self_attn.v_proj.base_layer.qzeros'}, {'model.layers.48.self_attn.v_proj.base_layer.scales', 'model.layers.48.self_attn.v_proj.quant_linear_module.scales'}, {'model.layers.48.self_attn.v_proj.quant_linear_module.bias', 'model.layers.48.self_attn.v_proj.base_layer.bias'}, {'model.layers.49.self_attn.q_proj.base_layer.qweight', 'model.layers.49.self_attn.q_proj.quant_linear_module.qweight'}, {'model.layers.49.self_attn.q_proj.quant_linear_module.qzeros', 'model.layers.49.self_attn.q_proj.base_layer.qzeros'}, {'model.layers.49.self_attn.q_proj.quant_linear_module.scales', 'model.layers.49.self_attn.q_proj.base_layer.scales'}, {'model.layers.49.self_attn.q_proj.quant_linear_module.bias', 'model.layers.49.self_attn.q_proj.base_layer.bias'}, {'model.layers.49.self_attn.k_proj.base_layer.qweight', 'model.layers.49.self_attn.k_proj.quant_linear_module.qweight'}, {'model.layers.49.self_attn.k_proj.quant_linear_module.qzeros', 'model.layers.49.self_attn.k_proj.base_layer.qzeros'}, {'model.layers.49.self_attn.k_proj.quant_linear_module.scales', 'model.layers.49.self_attn.k_proj.base_layer.scales'}, {'model.layers.49.self_attn.k_proj.base_layer.bias', 'model.layers.49.self_attn.k_proj.quant_linear_module.bias'}, {'model.layers.49.self_attn.v_proj.quant_linear_module.qweight', 'model.layers.49.self_attn.v_proj.base_layer.qweight'}, {'model.layers.49.self_attn.v_proj.quant_linear_module.qzeros', 'model.layers.49.self_attn.v_proj.base_layer.qzeros'}, {'model.layers.49.self_attn.v_proj.quant_linear_module.scales', 'model.layers.49.self_attn.v_proj.base_layer.scales'}, {'model.layers.49.self_attn.v_proj.base_layer.bias', 'model.layers.49.self_attn.v_proj.quant_linear_module.bias'}, {'model.layers.50.self_attn.q_proj.base_layer.qweight', 'model.layers.50.self_attn.q_proj.quant_linear_module.qweight'}, {'model.layers.50.self_attn.q_proj.base_layer.qzeros', 'model.layers.50.self_attn.q_proj.quant_linear_module.qzeros'}, {'model.layers.50.self_attn.q_proj.quant_linear_module.scales', 'model.layers.50.self_attn.q_proj.base_layer.scales'}, {'model.layers.50.self_attn.q_proj.base_layer.bias', 'model.layers.50.self_attn.q_proj.quant_linear_module.bias'}, {'model.layers.50.self_attn.k_proj.quant_linear_module.qweight', 'model.layers.50.self_attn.k_proj.base_layer.qweight'}, {'model.layers.50.self_attn.k_proj.base_layer.qzeros', 'model.layers.50.self_attn.k_proj.quant_linear_module.qzeros'}, {'model.layers.50.self_attn.k_proj.base_layer.scales', 'model.layers.50.self_attn.k_proj.quant_linear_module.scales'}, {'model.layers.50.self_attn.k_proj.quant_linear_module.bias', 'model.layers.50.self_attn.k_proj.base_layer.bias'}, {'model.layers.50.self_attn.v_proj.base_layer.qweight', 'model.layers.50.self_attn.v_proj.quant_linear_module.qweight'}, {'model.layers.50.self_attn.v_proj.quant_linear_module.qzeros', 'model.layers.50.self_attn.v_proj.base_layer.qzeros'}, {'model.layers.50.self_attn.v_proj.quant_linear_module.scales', 'model.layers.50.self_attn.v_proj.base_layer.scales'}, {'model.layers.50.self_attn.v_proj.quant_linear_module.bias', 'model.layers.50.self_attn.v_proj.base_layer.bias'}, {'model.layers.51.self_attn.q_proj.base_layer.qweight', 'model.layers.51.self_attn.q_proj.quant_linear_module.qweight'}, {'model.layers.51.self_attn.q_proj.quant_linear_module.qzeros', 'model.layers.51.self_attn.q_proj.base_layer.qzeros'}, {'model.layers.51.self_attn.q_proj.base_layer.scales', 'model.layers.51.self_attn.q_proj.quant_linear_module.scales'}, {'model.layers.51.self_attn.q_proj.base_layer.bias', 'model.layers.51.self_attn.q_proj.quant_linear_module.bias'}, {'model.layers.51.self_attn.k_proj.base_layer.qweight', 'model.layers.51.self_attn.k_proj.quant_linear_module.qweight'}, {'model.layers.51.self_attn.k_proj.quant_linear_module.qzeros', 'model.layers.51.self_attn.k_proj.base_layer.qzeros'}, {'model.layers.51.self_attn.k_proj.quant_linear_module.scales', 'model.layers.51.self_attn.k_proj.base_layer.scales'}, {'model.layers.51.self_attn.k_proj.base_layer.bias', 'model.layers.51.self_attn.k_proj.quant_linear_module.bias'}, {'model.layers.51.self_attn.v_proj.quant_linear_module.qweight', 'model.layers.51.self_attn.v_proj.base_layer.qweight'}, {'model.layers.51.self_attn.v_proj.quant_linear_module.qzeros', 'model.layers.51.self_attn.v_proj.base_layer.qzeros'}, {'model.layers.51.self_attn.v_proj.base_layer.scales', 'model.layers.51.self_attn.v_proj.quant_linear_module.scales'}, {'model.layers.51.self_attn.v_proj.base_layer.bias', 'model.layers.51.self_attn.v_proj.quant_linear_module.bias'}, {'model.layers.52.self_attn.q_proj.quant_linear_module.qweight', 'model.layers.52.self_attn.q_proj.base_layer.qweight'}, {'model.layers.52.self_attn.q_proj.base_layer.qzeros', 'model.layers.52.self_attn.q_proj.quant_linear_module.qzeros'}, {'model.layers.52.self_attn.q_proj.base_layer.scales', 'model.layers.52.self_attn.q_proj.quant_linear_module.scales'}, {'model.layers.52.self_attn.q_proj.quant_linear_module.bias', 'model.layers.52.self_attn.q_proj.base_layer.bias'}, {'model.layers.52.self_attn.k_proj.base_layer.qweight', 'model.layers.52.self_attn.k_proj.quant_linear_module.qweight'}, {'model.layers.52.self_attn.k_proj.base_layer.qzeros', 'model.layers.52.self_attn.k_proj.quant_linear_module.qzeros'}, {'model.layers.52.self_attn.k_proj.base_layer.scales', 'model.layers.52.self_attn.k_proj.quant_linear_module.scales'}, {'model.layers.52.self_attn.k_proj.quant_linear_module.bias', 'model.layers.52.self_attn.k_proj.base_layer.bias'}, {'model.layers.52.self_attn.v_proj.quant_linear_module.qweight', 'model.layers.52.self_attn.v_proj.base_layer.qweight'}, {'model.layers.52.self_attn.v_proj.quant_linear_module.qzeros', 'model.layers.52.self_attn.v_proj.base_layer.qzeros'}, {'model.layers.52.self_attn.v_proj.quant_linear_module.scales', 'model.layers.52.self_attn.v_proj.base_layer.scales'}, {'model.layers.52.self_attn.v_proj.base_layer.bias', 'model.layers.52.self_attn.v_proj.quant_linear_module.bias'}, {'model.layers.53.self_attn.q_proj.quant_linear_module.qweight', 'model.layers.53.self_attn.q_proj.base_layer.qweight'}, {'model.layers.53.self_attn.q_proj.base_layer.qzeros', 'model.layers.53.self_attn.q_proj.quant_linear_module.qzeros'}, {'model.layers.53.self_attn.q_proj.base_layer.scales', 'model.layers.53.self_attn.q_proj.quant_linear_module.scales'}, {'model.layers.53.self_attn.q_proj.quant_linear_module.bias', 'model.layers.53.self_attn.q_proj.base_layer.bias'}, {'model.layers.53.self_attn.k_proj.quant_linear_module.qweight', 'model.layers.53.self_attn.k_proj.base_layer.qweight'}, {'model.layers.53.self_attn.k_proj.quant_linear_module.qzeros', 'model.layers.53.self_attn.k_proj.base_layer.qzeros'}, {'model.layers.53.self_attn.k_proj.quant_linear_module.scales', 'model.layers.53.self_attn.k_proj.base_layer.scales'}, {'model.layers.53.self_attn.k_proj.base_layer.bias', 'model.layers.53.self_attn.k_proj.quant_linear_module.bias'}, {'model.layers.53.self_attn.v_proj.base_layer.qweight', 'model.layers.53.self_attn.v_proj.quant_linear_module.qweight'}, {'model.layers.53.self_attn.v_proj.quant_linear_module.qzeros', 'model.layers.53.self_attn.v_proj.base_layer.qzeros'}, {'model.layers.53.self_attn.v_proj.quant_linear_module.scales', 'model.layers.53.self_attn.v_proj.base_layer.scales'}, {'model.layers.53.self_attn.v_proj.quant_linear_module.bias', 'model.layers.53.self_attn.v_proj.base_layer.bias'}, {'model.layers.54.self_attn.q_proj.base_layer.qweight', 'model.layers.54.self_attn.q_proj.quant_linear_module.qweight'}, {'model.layers.54.self_attn.q_proj.base_layer.qzeros', 'model.layers.54.self_attn.q_proj.quant_linear_module.qzeros'}, {'model.layers.54.self_attn.q_proj.quant_linear_module.scales', 'model.layers.54.self_attn.q_proj.base_layer.scales'}, {'model.layers.54.self_attn.q_proj.base_layer.bias', 'model.layers.54.self_attn.q_proj.quant_linear_module.bias'}, {'model.layers.54.self_attn.k_proj.quant_linear_module.qweight', 'model.layers.54.self_attn.k_proj.base_layer.qweight'}, {'model.layers.54.self_attn.k_proj.base_layer.qzeros', 'model.layers.54.self_attn.k_proj.quant_linear_module.qzeros'}, {'model.layers.54.self_attn.k_proj.base_layer.scales', 'model.layers.54.self_attn.k_proj.quant_linear_module.scales'}, {'model.layers.54.self_attn.k_proj.quant_linear_module.bias', 'model.layers.54.self_attn.k_proj.base_layer.bias'}, {'model.layers.54.self_attn.v_proj.base_layer.qweight', 'model.layers.54.self_attn.v_proj.quant_linear_module.qweight'}, {'model.layers.54.self_attn.v_proj.quant_linear_module.qzeros', 'model.layers.54.self_attn.v_proj.base_layer.qzeros'}, {'model.layers.54.self_attn.v_proj.base_layer.scales', 'model.layers.54.self_attn.v_proj.quant_linear_module.scales'}, {'model.layers.54.self_attn.v_proj.base_layer.bias', 'model.layers.54.self_attn.v_proj.quant_linear_module.bias'}, {'model.layers.55.self_attn.q_proj.quant_linear_module.qweight', 'model.layers.55.self_attn.q_proj.base_layer.qweight'}, {'model.layers.55.self_attn.q_proj.base_layer.qzeros', 'model.layers.55.self_attn.q_proj.quant_linear_module.qzeros'}, {'model.layers.55.self_attn.q_proj.quant_linear_module.scales', 'model.layers.55.self_attn.q_proj.base_layer.scales'}, {'model.layers.55.self_attn.q_proj.base_layer.bias', 'model.layers.55.self_attn.q_proj.quant_linear_module.bias'}, {'model.layers.55.self_attn.k_proj.quant_linear_module.qweight', 'model.layers.55.self_attn.k_proj.base_layer.qweight'}, {'model.layers.55.self_attn.k_proj.quant_linear_module.qzeros', 'model.layers.55.self_attn.k_proj.base_layer.qzeros'}, {'model.layers.55.self_attn.k_proj.quant_linear_module.scales', 'model.layers.55.self_attn.k_proj.base_layer.scales'}, {'model.layers.55.self_attn.k_proj.base_layer.bias', 'model.layers.55.self_attn.k_proj.quant_linear_module.bias'}, {'model.layers.55.self_attn.v_proj.base_layer.qweight', 'model.layers.55.self_attn.v_proj.quant_linear_module.qweight'}, {'model.layers.55.self_attn.v_proj.quant_linear_module.qzeros', 'model.layers.55.self_attn.v_proj.base_layer.qzeros'}, {'model.layers.55.self_attn.v_proj.base_layer.scales', 'model.layers.55.self_attn.v_proj.quant_linear_module.scales'}, {'model.layers.55.self_attn.v_proj.base_layer.bias', 'model.layers.55.self_attn.v_proj.quant_linear_module.bias'}, {'model.layers.56.self_attn.q_proj.base_layer.qweight', 'model.layers.56.self_attn.q_proj.quant_linear_module.qweight'}, {'model.layers.56.self_attn.q_proj.base_layer.qzeros', 'model.layers.56.self_attn.q_proj.quant_linear_module.qzeros'}, {'model.layers.56.self_attn.q_proj.quant_linear_module.scales', 'model.layers.56.self_attn.q_proj.base_layer.scales'}, {'model.layers.56.self_attn.q_proj.base_layer.bias', 'model.layers.56.self_attn.q_proj.quant_linear_module.bias'}, {'model.layers.56.self_attn.k_proj.base_layer.qweight', 'model.layers.56.self_attn.k_proj.quant_linear_module.qweight'}, {'model.layers.56.self_attn.k_proj.base_layer.qzeros', 'model.layers.56.self_attn.k_proj.quant_linear_module.qzeros'}, {'model.layers.56.self_attn.k_proj.base_layer.scales', 'model.layers.56.self_attn.k_proj.quant_linear_module.scales'}, {'model.layers.56.self_attn.k_proj.quant_linear_module.bias', 'model.layers.56.self_attn.k_proj.base_layer.bias'}, {'model.layers.56.self_attn.v_proj.base_layer.qweight', 'model.layers.56.self_attn.v_proj.quant_linear_module.qweight'}, {'model.layers.56.self_attn.v_proj.base_layer.qzeros', 'model.layers.56.self_attn.v_proj.quant_linear_module.qzeros'}, {'model.layers.56.self_attn.v_proj.quant_linear_module.scales', 'model.layers.56.self_attn.v_proj.base_layer.scales'}, {'model.layers.56.self_attn.v_proj.quant_linear_module.bias', 'model.layers.56.self_attn.v_proj.base_layer.bias'}, {'model.layers.57.self_attn.q_proj.base_layer.qweight', 'model.layers.57.self_attn.q_proj.quant_linear_module.qweight'}, {'model.layers.57.self_attn.q_proj.base_layer.qzeros', 'model.layers.57.self_attn.q_proj.quant_linear_module.qzeros'}, {'model.layers.57.self_attn.q_proj.base_layer.scales', 'model.layers.57.self_attn.q_proj.quant_linear_module.scales'}, {'model.layers.57.self_attn.q_proj.quant_linear_module.bias', 'model.layers.57.self_attn.q_proj.base_layer.bias'}, {'model.layers.57.self_attn.k_proj.base_layer.qweight', 'model.layers.57.self_attn.k_proj.quant_linear_module.qweight'}, {'model.layers.57.self_attn.k_proj.quant_linear_module.qzeros', 'model.layers.57.self_attn.k_proj.base_layer.qzeros'}, {'model.layers.57.self_attn.k_proj.quant_linear_module.scales', 'model.layers.57.self_attn.k_proj.base_layer.scales'}, {'model.layers.57.self_attn.k_proj.base_layer.bias', 'model.layers.57.self_attn.k_proj.quant_linear_module.bias'}, {'model.layers.57.self_attn.v_proj.base_layer.qweight', 'model.layers.57.self_attn.v_proj.quant_linear_module.qweight'}, {'model.layers.57.self_attn.v_proj.base_layer.qzeros', 'model.layers.57.self_attn.v_proj.quant_linear_module.qzeros'}, {'model.layers.57.self_attn.v_proj.base_layer.scales', 'model.layers.57.self_attn.v_proj.quant_linear_module.scales'}, {'model.layers.57.self_attn.v_proj.base_layer.bias', 'model.layers.57.self_attn.v_proj.quant_linear_module.bias'}, {'model.layers.58.self_attn.q_proj.quant_linear_module.qweight', 'model.layers.58.self_attn.q_proj.base_layer.qweight'}, {'model.layers.58.self_attn.q_proj.base_layer.qzeros', 'model.layers.58.self_attn.q_proj.quant_linear_module.qzeros'}, {'model.layers.58.self_attn.q_proj.quant_linear_module.scales', 'model.layers.58.self_attn.q_proj.base_layer.scales'}, {'model.layers.58.self_attn.q_proj.base_layer.bias', 'model.layers.58.self_attn.q_proj.quant_linear_module.bias'}, {'model.layers.58.self_attn.k_proj.quant_linear_module.qweight', 'model.layers.58.self_attn.k_proj.base_layer.qweight'}, {'model.layers.58.self_attn.k_proj.base_layer.qzeros', 'model.layers.58.self_attn.k_proj.quant_linear_module.qzeros'}, {'model.layers.58.self_attn.k_proj.quant_linear_module.scales', 'model.layers.58.self_attn.k_proj.base_layer.scales'}, {'model.layers.58.self_attn.k_proj.quant_linear_module.bias', 'model.layers.58.self_attn.k_proj.base_layer.bias'}, {'model.layers.58.self_attn.v_proj.base_layer.qweight', 'model.layers.58.self_attn.v_proj.quant_linear_module.qweight'}, {'model.layers.58.self_attn.v_proj.quant_linear_module.qzeros', 'model.layers.58.self_attn.v_proj.base_layer.qzeros'}, {'model.layers.58.self_attn.v_proj.base_layer.scales', 'model.layers.58.self_attn.v_proj.quant_linear_module.scales'}, {'model.layers.58.self_attn.v_proj.quant_linear_module.bias', 'model.layers.58.self_attn.v_proj.base_layer.bias'}, {'model.layers.59.self_attn.q_proj.base_layer.qweight', 'model.layers.59.self_attn.q_proj.quant_linear_module.qweight'}, {'model.layers.59.self_attn.q_proj.quant_linear_module.qzeros', 'model.layers.59.self_attn.q_proj.base_layer.qzeros'}, {'model.layers.59.self_attn.q_proj.base_layer.scales', 'model.layers.59.self_attn.q_proj.quant_linear_module.scales'}, {'model.layers.59.self_attn.q_proj.quant_linear_module.bias', 'model.layers.59.self_attn.q_proj.base_layer.bias'}, {'model.layers.59.self_attn.k_proj.quant_linear_module.qweight', 'model.layers.59.self_attn.k_proj.base_layer.qweight'}, {'model.layers.59.self_attn.k_proj.quant_linear_module.qzeros', 'model.layers.59.self_attn.k_proj.base_layer.qzeros'}, {'model.layers.59.self_attn.k_proj.base_layer.scales', 'model.layers.59.self_attn.k_proj.quant_linear_module.scales'}, {'model.layers.59.self_attn.k_proj.base_layer.bias', 'model.layers.59.self_attn.k_proj.quant_linear_module.bias'}, {'model.layers.59.self_attn.v_proj.base_layer.qweight', 'model.layers.59.self_attn.v_proj.quant_linear_module.qweight'}, {'model.layers.59.self_attn.v_proj.quant_linear_module.qzeros', 'model.layers.59.self_attn.v_proj.base_layer.qzeros'}, {'model.layers.59.self_attn.v_proj.quant_linear_module.scales', 'model.layers.59.self_attn.v_proj.base_layer.scales'}, {'model.layers.59.self_attn.v_proj.quant_linear_module.bias', 'model.layers.59.self_attn.v_proj.base_layer.bias'}, {'model.layers.60.self_attn.q_proj.base_layer.qweight', 'model.layers.60.self_attn.q_proj.quant_linear_module.qweight'}, {'model.layers.60.self_attn.q_proj.quant_linear_module.qzeros', 'model.layers.60.self_attn.q_proj.base_layer.qzeros'}, {'model.layers.60.self_attn.q_proj.base_layer.scales', 'model.layers.60.self_attn.q_proj.quant_linear_module.scales'}, {'model.layers.60.self_attn.q_proj.base_layer.bias', 'model.layers.60.self_attn.q_proj.quant_linear_module.bias'}, {'model.layers.60.self_attn.k_proj.base_layer.qweight', 'model.layers.60.self_attn.k_proj.quant_linear_module.qweight'}, {'model.layers.60.self_attn.k_proj.base_layer.qzeros', 'model.layers.60.self_attn.k_proj.quant_linear_module.qzeros'}, {'model.layers.60.self_attn.k_proj.base_layer.scales', 'model.layers.60.self_attn.k_proj.quant_linear_module.scales'}, {'model.layers.60.self_attn.k_proj.base_layer.bias', 'model.layers.60.self_attn.k_proj.quant_linear_module.bias'}, {'model.layers.60.self_attn.v_proj.base_layer.qweight', 'model.layers.60.self_attn.v_proj.quant_linear_module.qweight'}, {'model.layers.60.self_attn.v_proj.base_layer.qzeros', 'model.layers.60.self_attn.v_proj.quant_linear_module.qzeros'}, {'model.layers.60.self_attn.v_proj.quant_linear_module.scales', 'model.layers.60.self_attn.v_proj.base_layer.scales'}, {'model.layers.60.self_attn.v_proj.base_layer.bias', 'model.layers.60.self_attn.v_proj.quant_linear_module.bias'}, {'model.layers.61.self_attn.q_proj.base_layer.qweight', 'model.layers.61.self_attn.q_proj.quant_linear_module.qweight'}, {'model.layers.61.self_attn.q_proj.quant_linear_module.qzeros', 'model.layers.61.self_attn.q_proj.base_layer.qzeros'}, {'model.layers.61.self_attn.q_proj.base_layer.scales', 'model.layers.61.self_attn.q_proj.quant_linear_module.scales'}, {'model.layers.61.self_attn.q_proj.base_layer.bias', 'model.layers.61.self_attn.q_proj.quant_linear_module.bias'}, {'model.layers.61.self_attn.k_proj.quant_linear_module.qweight', 'model.layers.61.self_attn.k_proj.base_layer.qweight'}, {'model.layers.61.self_attn.k_proj.base_layer.qzeros', 'model.layers.61.self_attn.k_proj.quant_linear_module.qzeros'}, {'model.layers.61.self_attn.k_proj.base_layer.scales', 'model.layers.61.self_attn.k_proj.quant_linear_module.scales'}, {'model.layers.61.self_attn.k_proj.base_layer.bias', 'model.layers.61.self_attn.k_proj.quant_linear_module.bias'}, {'model.layers.61.self_attn.v_proj.base_layer.qweight', 'model.layers.61.self_attn.v_proj.quant_linear_module.qweight'}, {'model.layers.61.self_attn.v_proj.quant_linear_module.qzeros', 'model.layers.61.self_attn.v_proj.base_layer.qzeros'}, {'model.layers.61.self_attn.v_proj.base_layer.scales', 'model.layers.61.self_attn.v_proj.quant_linear_module.scales'}, {'model.layers.61.self_attn.v_proj.quant_linear_module.bias', 'model.layers.61.self_attn.v_proj.base_layer.bias'}, {'model.layers.62.self_attn.q_proj.quant_linear_module.qweight', 'model.layers.62.self_attn.q_proj.base_layer.qweight'}, {'model.layers.62.self_attn.q_proj.quant_linear_module.qzeros', 'model.layers.62.self_attn.q_proj.base_layer.qzeros'}, {'model.layers.62.self_attn.q_proj.base_layer.scales', 'model.layers.62.self_attn.q_proj.quant_linear_module.scales'}, {'model.layers.62.self_attn.q_proj.quant_linear_module.bias', 'model.layers.62.self_attn.q_proj.base_layer.bias'}, {'model.layers.62.self_attn.k_proj.base_layer.qweight', 'model.layers.62.self_attn.k_proj.quant_linear_module.qweight'}, {'model.layers.62.self_attn.k_proj.base_layer.qzeros', 'model.layers.62.self_attn.k_proj.quant_linear_module.qzeros'}, {'model.layers.62.self_attn.k_proj.base_layer.scales', 'model.layers.62.self_attn.k_proj.quant_linear_module.scales'}, {'model.layers.62.self_attn.k_proj.base_layer.bias', 'model.layers.62.self_attn.k_proj.quant_linear_module.bias'}, {'model.layers.62.self_attn.v_proj.quant_linear_module.qweight', 'model.layers.62.self_attn.v_proj.base_layer.qweight'}, {'model.layers.62.self_attn.v_proj.base_layer.qzeros', 'model.layers.62.self_attn.v_proj.quant_linear_module.qzeros'}, {'model.layers.62.self_attn.v_proj.base_layer.scales', 'model.layers.62.self_attn.v_proj.quant_linear_module.scales'}, {'model.layers.62.self_attn.v_proj.quant_linear_module.bias', 'model.layers.62.self_attn.v_proj.base_layer.bias'}, {'model.layers.63.self_attn.q_proj.quant_linear_module.qweight', 'model.layers.63.self_attn.q_proj.base_layer.qweight'}, {'model.layers.63.self_attn.q_proj.base_layer.qzeros', 'model.layers.63.self_attn.q_proj.quant_linear_module.qzeros'}, {'model.layers.63.self_attn.q_proj.quant_linear_module.scales', 'model.layers.63.self_attn.q_proj.base_layer.scales'}, {'model.layers.63.self_attn.q_proj.quant_linear_module.bias', 'model.layers.63.self_attn.q_proj.base_layer.bias'}, {'model.layers.63.self_attn.k_proj.base_layer.qweight', 'model.layers.63.self_attn.k_proj.quant_linear_module.qweight'}, {'model.layers.63.self_attn.k_proj.base_layer.qzeros', 'model.layers.63.self_attn.k_proj.quant_linear_module.qzeros'}, {'model.layers.63.self_attn.k_proj.base_layer.scales', 'model.layers.63.self_attn.k_proj.quant_linear_module.scales'}, {'model.layers.63.self_attn.k_proj.base_layer.bias', 'model.layers.63.self_attn.k_proj.quant_linear_module.bias'}, {'model.layers.63.self_attn.v_proj.base_layer.qweight', 'model.layers.63.self_attn.v_proj.quant_linear_module.qweight'}, {'model.layers.63.self_attn.v_proj.quant_linear_module.qzeros', 'model.layers.63.self_attn.v_proj.base_layer.qzeros'}, {'model.layers.63.self_attn.v_proj.quant_linear_module.scales', 'model.layers.63.self_attn.v_proj.base_layer.scales'}, {'model.layers.63.self_attn.v_proj.quant_linear_module.bias', 'model.layers.63.self_attn.v_proj.base_layer.bias'}] that are mismatching the transformers base configuration. Try saving using `safe_serialization=False` or remove this tensor sharing."
     ]
    }
   ],
   "source": [
    "model.save_pretrained(f\"{MODEL_OUTPUT_PATH}/lora_model\")  # Local saving\n",
    "tokenizer.save_pretrained(f\"{MODEL_OUTPUT_PATH}/lora_model\")"
   ]
  },
  {
   "cell_type": "markdown",
   "metadata": {
    "id": "Bt4jBGyxisG7"
   },
   "source": [
    "# AWSへのアップロード"
   ]
  },
  {
   "cell_type": "code",
   "execution_count": 40,
   "metadata": {
    "colab": {
     "base_uri": "https://localhost:8080/"
    },
    "execution": {
     "iopub.execute_input": "2024-10-28T09:03:39.290429Z",
     "iopub.status.busy": "2024-10-28T09:03:39.290170Z",
     "iopub.status.idle": "2024-10-28T09:03:54.359137Z",
     "shell.execute_reply": "2024-10-28T09:03:54.358210Z"
    },
    "id": "lupk0lEqisG7",
    "outputId": "c9a3fd96-b5c2-4c0c-8fe6-974459216930",
    "tags": []
   },
   "outputs": [],
   "source": [
    "# S3へのアップロード\n",
    "if not DEBUG and UPLOAD_DATA_TO_S3:\n",
    "    # uninstall\n",
    "    !sudo rm /usr/bin/aws\n",
    "    !sudo rm /usr/bin/aws_completer\n",
    "    !sudo rm -rf /usr/local/aws-cli\n",
    "\n",
    "    # install\n",
    "    !curl \"https://awscli.amazonaws.com/awscli-exe-linux-x86_64.zip\" -o \"awscliv2.zip\"\n",
    "    !unzip -o -qq awscliv2.zip\n",
    "    !sudo ./aws/install --update\n",
    "\n",
    "    # upload\n",
    "    output_name = MODEL_OUTPUT_PATH.split(\"/\")[-1]\n",
    "    os.system(\n",
    "        f\"aws s3 cp --recursive {MODEL_OUTPUT_PATH} s3://{COMPETITION_NAME}/trained_model/{output_name}\"\n",
    "    )"
   ]
  },
  {
   "cell_type": "code",
   "execution_count": 41,
   "metadata": {
    "execution": {
     "iopub.execute_input": "2024-10-28T09:03:54.361975Z",
     "iopub.status.busy": "2024-10-28T09:03:54.361626Z",
     "iopub.status.idle": "2024-10-28T09:03:54.365583Z",
     "shell.execute_reply": "2024-10-28T09:03:54.364902Z"
    },
    "id": "oA3GNoNAisG7"
   },
   "outputs": [],
   "source": [
    "# ダウンロード（参考）\n",
    "# !sudo rm /usr/bin/aws\n",
    "# !sudo rm /usr/bin/aws_completer\n",
    "# !sudo rm -rf /usr/local/aws-cli\n",
    "\n",
    "# !curl \"https://awscli.amazonaws.com/awscli-exe-linux-x86_64.zip\" -o \"awscliv2.zip\"\n",
    "# !unzip -o -qq awscliv2.zip\n",
    "# !sudo ./aws/install --update\n",
    "\n",
    "# !aws s3 cp --recursive s3://automated-essay-scoring/trained_model/e005-regression /notebooks/automated_essay_scoring/trained_models/e005-regression"
   ]
  },
  {
   "cell_type": "markdown",
   "metadata": {
    "id": "7XyyX1JqisG7"
   },
   "source": [
    "# Kaggle Datasetへのupload"
   ]
  },
  {
   "cell_type": "code",
   "execution_count": 38,
   "metadata": {
    "autoscroll": "auto",
    "colab": {
     "base_uri": "https://localhost:8080/"
    },
    "collapsed": false,
    "execution": {
     "iopub.execute_input": "2024-10-28T09:03:54.367443Z",
     "iopub.status.busy": "2024-10-28T09:03:54.367218Z",
     "iopub.status.idle": "2024-10-28T09:03:54.377274Z",
     "shell.execute_reply": "2024-10-28T09:03:54.376548Z"
    },
    "id": "2yljmioJisG7",
    "outputId": "5eb1319b-0b11-4317-f01b-cf227b3232c2",
    "tags": []
   },
   "outputs": [
    {
     "data": {
      "text/plain": [
       "0"
      ]
     },
     "execution_count": 38,
     "metadata": {},
     "output_type": "execute_result"
    }
   ],
   "source": [
    "import os\n",
    "\n",
    "os.system(\"mkdir -p ~/.kaggle/\")\n",
    "os.system(f\"cp {ENV_PATH}/kaggle.json ~/.kaggle/\")\n",
    "os.system(\"chmod 600 ~/.kaggle/kaggle.json\")"
   ]
  },
  {
   "cell_type": "code",
   "execution_count": 39,
   "metadata": {
    "autoscroll": "auto",
    "colab": {
     "base_uri": "https://localhost:8080/"
    },
    "collapsed": false,
    "execution": {
     "iopub.execute_input": "2024-10-28T09:03:54.379243Z",
     "iopub.status.busy": "2024-10-28T09:03:54.379001Z",
     "iopub.status.idle": "2024-10-28T09:04:05.799812Z",
     "shell.execute_reply": "2024-10-28T09:04:05.799174Z"
    },
    "id": "EBXdM74XisG7",
    "jupyter": {
     "outputs_hidden": false
    },
    "outputId": "290aef28-6839-4562-bca9-53f774396d12",
    "tags": []
   },
   "outputs": [
    {
     "name": "stdout",
     "output_type": "stream",
     "text": [
      "Create Dataset name:e028-causal-Qwen2-5-32B-Instruct-AWQ, output_dir:../../output/causal/e028-causal/trained_model\n",
      "Starting upload for file checkpoint-32.tar\n"
     ]
    },
    {
     "name": "stderr",
     "output_type": "stream",
     "text": [
      "100%|██████████| 269M/269M [01:26<00:00, 3.27MB/s] \n"
     ]
    },
    {
     "name": "stdout",
     "output_type": "stream",
     "text": [
      "Upload successful: checkpoint-32.tar (269MB)\n",
      "Starting upload for file lora_model.tar\n"
     ]
    },
    {
     "name": "stderr",
     "output_type": "stream",
     "text": [
      "100%|██████████| 10.0k/10.0k [00:00<00:00, 15.6kB/s]\n"
     ]
    },
    {
     "name": "stdout",
     "output_type": "stream",
     "text": [
      "Upload successful: lora_model.tar (10KB)\n"
     ]
    }
   ],
   "source": [
    "if not DEBUG and UPLOAD_DATA_TO_KAGGLE:\n",
    "    import os\n",
    "    import json\n",
    "\n",
    "    from kaggle.api.kaggle_api_extended import KaggleApi\n",
    "\n",
    "    def dataset_create_new(dataset_name: str, upload_dir: str):\n",
    "        dataset_metadata = {}\n",
    "        dataset_metadata[\"id\"] = f\"sinchir0/{dataset_name}\"\n",
    "        dataset_metadata[\"licenses\"] = [{\"name\": \"CC0-1.0\"}]\n",
    "        dataset_metadata[\"title\"] = dataset_name\n",
    "        with open(os.path.join(upload_dir, \"dataset-metadata.json\"), \"w\") as f:\n",
    "            json.dump(dataset_metadata, f, indent=4)\n",
    "        api = KaggleApi()\n",
    "        api.authenticate()\n",
    "        api.dataset_create_new(folder=upload_dir, convert_to_csv=False, dir_mode=\"tar\")\n",
    "\n",
    "    print(f\"Create Dataset name:{DATASET_NAME}, output_dir:{MODEL_OUTPUT_PATH}\")\n",
    "    dataset_create_new(dataset_name=DATASET_NAME, upload_dir=MODEL_OUTPUT_PATH)"
   ]
  },
  {
   "cell_type": "markdown",
   "metadata": {
    "id": "D6KFg2LNisG8"
   },
   "source": [
    "# ローカルからのデータの削除"
   ]
  },
  {
   "cell_type": "code",
   "execution_count": 44,
   "metadata": {
    "execution": {
     "iopub.execute_input": "2024-10-28T09:04:05.802329Z",
     "iopub.status.busy": "2024-10-28T09:04:05.801974Z",
     "iopub.status.idle": "2024-10-28T09:04:05.805213Z",
     "shell.execute_reply": "2024-10-28T09:04:05.804584Z"
    },
    "id": "tFhHkzi3isG8",
    "tags": []
   },
   "outputs": [],
   "source": [
    "# if not DEBUG and REMOVE_LOCAL_FILE:\n",
    "#     # ローカルからは削除\n",
    "#     os.system(f\"rm -rf {MODEL_OUTPUT_PATH}\")"
   ]
  },
  {
   "cell_type": "code",
   "execution_count": 45,
   "metadata": {
    "autoscroll": "auto",
    "colab": {
     "base_uri": "https://localhost:8080/",
     "height": 1000,
     "referenced_widgets": [
      "ae1f8a8d15114a55a81d98bbc4563ffa",
      "24846464fd9949488c69b7c8262b8176",
      "a6025d29e90449f49116bb74afc3b591",
      "fc246d5347ee4fc782a9f42e1fb38ffe",
      "e0a0206188b34cb0bbbb62921d4edfb4",
      "b3b2143d95a04a8ab99d72d3ede6012a",
      "13c10dcfeeef4c1a882f260bf1628be2",
      "83014dfe9f554182ab1933951c39f693"
     ]
    },
    "collapsed": false,
    "execution": {
     "iopub.execute_input": "2024-10-28T09:04:05.807187Z",
     "iopub.status.busy": "2024-10-28T09:04:05.806981Z",
     "iopub.status.idle": "2024-10-28T09:04:08.751435Z",
     "shell.execute_reply": "2024-10-28T09:04:08.750683Z"
    },
    "id": "bL2CHIBOisG8",
    "outputId": "5b5cbe19-9070-4319-8867-637c31771b00",
    "tags": []
   },
   "outputs": [],
   "source": [
    "if WANDB:\n",
    "    wandb.finish()"
   ]
  },
  {
   "cell_type": "code",
   "execution_count": 46,
   "metadata": {
    "autoscroll": "auto",
    "colab": {
     "base_uri": "https://localhost:8080/"
    },
    "collapsed": false,
    "execution": {
     "iopub.execute_input": "2024-10-28T09:04:08.754094Z",
     "iopub.status.busy": "2024-10-28T09:04:08.753852Z",
     "iopub.status.idle": "2024-10-28T09:04:08.757631Z",
     "shell.execute_reply": "2024-10-28T09:04:08.757011Z"
    },
    "id": "ohN9BBugisG8",
    "outputId": "28bd693d-d1fe-4c50-d81b-3412267d48a4",
    "tags": []
   },
   "outputs": [],
   "source": [
    "print(\"finish Notebook!\")"
   ]
  },
  {
   "cell_type": "code",
   "execution_count": null,
   "metadata": {
    "id": "mH-uPM5EuoqS"
   },
   "outputs": [],
   "source": []
  }
 ],
 "metadata": {
  "accelerator": "GPU",
  "colab": {
   "gpuType": "A100",
   "include_colab_link": true,
   "machine_shape": "hm",
   "provenance": []
  },
  "kernelspec": {
   "display_name": "base",
   "language": "python",
   "name": "python3"
  },
  "language_info": {
   "codemirror_mode": {
    "name": "ipython",
    "version": 3
   },
   "file_extension": ".py",
   "mimetype": "text/x-python",
   "name": "python",
   "nbconvert_exporter": "python",
   "pygments_lexer": "ipython3",
   "version": "3.10.14"
  },
  "widgets": {
   "application/vnd.jupyter.widget-state+json": {
    "state": {
     "03f1c1f769084a03b4f99ff243c4030b": {
      "model_module": "@jupyter-widgets/controls",
      "model_module_version": "2.0.0",
      "model_name": "HTMLStyleModel",
      "state": {
       "_model_module": "@jupyter-widgets/controls",
       "_model_module_version": "2.0.0",
       "_model_name": "HTMLStyleModel",
       "_view_count": null,
       "_view_module": "@jupyter-widgets/base",
       "_view_module_version": "2.0.0",
       "_view_name": "StyleView",
       "background": null,
       "description_width": "",
       "font_size": null,
       "text_color": null
      }
     },
     "07d27012f8fa40849b8ff4d8478b9f79": {
      "model_module": "@jupyter-widgets/base",
      "model_module_version": "2.0.0",
      "model_name": "LayoutModel",
      "state": {
       "_model_module": "@jupyter-widgets/base",
       "_model_module_version": "2.0.0",
       "_model_name": "LayoutModel",
       "_view_count": null,
       "_view_module": "@jupyter-widgets/base",
       "_view_module_version": "2.0.0",
       "_view_name": "LayoutView",
       "align_content": null,
       "align_items": null,
       "align_self": null,
       "border_bottom": null,
       "border_left": null,
       "border_right": null,
       "border_top": null,
       "bottom": null,
       "display": null,
       "flex": null,
       "flex_flow": null,
       "grid_area": null,
       "grid_auto_columns": null,
       "grid_auto_flow": null,
       "grid_auto_rows": null,
       "grid_column": null,
       "grid_gap": null,
       "grid_row": null,
       "grid_template_areas": null,
       "grid_template_columns": null,
       "grid_template_rows": null,
       "height": null,
       "justify_content": null,
       "justify_items": null,
       "left": null,
       "margin": null,
       "max_height": null,
       "max_width": null,
       "min_height": null,
       "min_width": null,
       "object_fit": null,
       "object_position": null,
       "order": null,
       "overflow": null,
       "padding": null,
       "right": null,
       "top": null,
       "visibility": null,
       "width": null
      }
     },
     "0e3323971e634b99b79045edd76a420d": {
      "model_module": "@jupyter-widgets/controls",
      "model_module_version": "2.0.0",
      "model_name": "HTMLModel",
      "state": {
       "_dom_classes": [],
       "_model_module": "@jupyter-widgets/controls",
       "_model_module_version": "2.0.0",
       "_model_name": "HTMLModel",
       "_view_count": null,
       "_view_module": "@jupyter-widgets/controls",
       "_view_module_version": "2.0.0",
       "_view_name": "HTMLView",
       "description": "",
       "description_allow_html": false,
       "layout": "IPY_MODEL_586e05cff1ef4d71a3e00ec364af2ec5",
       "placeholder": "​",
       "style": "IPY_MODEL_f60a30cf024d49dca53befb50d78f081",
       "tabbable": null,
       "tooltip": null,
       "value": " 4370/4370 [00:00&lt;00:00, 19669.37 examples/s]"
      }
     },
     "1748003d45fe477a8fe8e104ba1a02fa": {
      "model_module": "@jupyter-widgets/controls",
      "model_module_version": "2.0.0",
      "model_name": "HTMLModel",
      "state": {
       "_dom_classes": [],
       "_model_module": "@jupyter-widgets/controls",
       "_model_module_version": "2.0.0",
       "_model_name": "HTMLModel",
       "_view_count": null,
       "_view_module": "@jupyter-widgets/controls",
       "_view_module_version": "2.0.0",
       "_view_name": "HTMLView",
       "description": "",
       "description_allow_html": false,
       "layout": "IPY_MODEL_803bc8cf73024feca8c7c408e5a8f857",
       "placeholder": "​",
       "style": "IPY_MODEL_7026963b6d5a4143b890f82d7e85b414",
       "tabbable": null,
       "tooltip": null,
       "value": "Map (num_proc=16): 100%"
      }
     },
     "1c2fcdd79d1441da88415079bdbe2aed": {
      "model_module": "@jupyter-widgets/base",
      "model_module_version": "2.0.0",
      "model_name": "LayoutModel",
      "state": {
       "_model_module": "@jupyter-widgets/base",
       "_model_module_version": "2.0.0",
       "_model_name": "LayoutModel",
       "_view_count": null,
       "_view_module": "@jupyter-widgets/base",
       "_view_module_version": "2.0.0",
       "_view_name": "LayoutView",
       "align_content": null,
       "align_items": null,
       "align_self": null,
       "border_bottom": null,
       "border_left": null,
       "border_right": null,
       "border_top": null,
       "bottom": null,
       "display": null,
       "flex": null,
       "flex_flow": null,
       "grid_area": null,
       "grid_auto_columns": null,
       "grid_auto_flow": null,
       "grid_auto_rows": null,
       "grid_column": null,
       "grid_gap": null,
       "grid_row": null,
       "grid_template_areas": null,
       "grid_template_columns": null,
       "grid_template_rows": null,
       "height": null,
       "justify_content": null,
       "justify_items": null,
       "left": null,
       "margin": null,
       "max_height": null,
       "max_width": null,
       "min_height": null,
       "min_width": null,
       "object_fit": null,
       "object_position": null,
       "order": null,
       "overflow": null,
       "padding": null,
       "right": null,
       "top": null,
       "visibility": null,
       "width": null
      }
     },
     "2257dcc3e7284550bbd138695f27034a": {
      "model_module": "@jupyter-widgets/controls",
      "model_module_version": "2.0.0",
      "model_name": "HTMLModel",
      "state": {
       "_dom_classes": [],
       "_model_module": "@jupyter-widgets/controls",
       "_model_module_version": "2.0.0",
       "_model_name": "HTMLModel",
       "_view_count": null,
       "_view_module": "@jupyter-widgets/controls",
       "_view_module_version": "2.0.0",
       "_view_name": "HTMLView",
       "description": "",
       "description_allow_html": false,
       "layout": "IPY_MODEL_56647a248e3d480eb1d99da6f425ad4e",
       "placeholder": "​",
       "style": "IPY_MODEL_e0be29ffcb6f44aeae4ae10167a47c1f",
       "tabbable": null,
       "tooltip": null,
       "value": " 4370/4370 [00:00&lt;00:00, 11212.07 examples/s]"
      }
     },
     "2398155de4e242f6a0575acaef48b685": {
      "model_module": "@jupyter-widgets/base",
      "model_module_version": "2.0.0",
      "model_name": "LayoutModel",
      "state": {
       "_model_module": "@jupyter-widgets/base",
       "_model_module_version": "2.0.0",
       "_model_name": "LayoutModel",
       "_view_count": null,
       "_view_module": "@jupyter-widgets/base",
       "_view_module_version": "2.0.0",
       "_view_name": "LayoutView",
       "align_content": null,
       "align_items": null,
       "align_self": null,
       "border_bottom": null,
       "border_left": null,
       "border_right": null,
       "border_top": null,
       "bottom": null,
       "display": null,
       "flex": null,
       "flex_flow": null,
       "grid_area": null,
       "grid_auto_columns": null,
       "grid_auto_flow": null,
       "grid_auto_rows": null,
       "grid_column": null,
       "grid_gap": null,
       "grid_row": null,
       "grid_template_areas": null,
       "grid_template_columns": null,
       "grid_template_rows": null,
       "height": null,
       "justify_content": null,
       "justify_items": null,
       "left": null,
       "margin": null,
       "max_height": null,
       "max_width": null,
       "min_height": null,
       "min_width": null,
       "object_fit": null,
       "object_position": null,
       "order": null,
       "overflow": null,
       "padding": null,
       "right": null,
       "top": null,
       "visibility": null,
       "width": null
      }
     },
     "25e007f4d94e4822a023c987f5e2edf0": {
      "model_module": "@jupyter-widgets/base",
      "model_module_version": "2.0.0",
      "model_name": "LayoutModel",
      "state": {
       "_model_module": "@jupyter-widgets/base",
       "_model_module_version": "2.0.0",
       "_model_name": "LayoutModel",
       "_view_count": null,
       "_view_module": "@jupyter-widgets/base",
       "_view_module_version": "2.0.0",
       "_view_name": "LayoutView",
       "align_content": null,
       "align_items": null,
       "align_self": null,
       "border_bottom": null,
       "border_left": null,
       "border_right": null,
       "border_top": null,
       "bottom": null,
       "display": null,
       "flex": null,
       "flex_flow": null,
       "grid_area": null,
       "grid_auto_columns": null,
       "grid_auto_flow": null,
       "grid_auto_rows": null,
       "grid_column": null,
       "grid_gap": null,
       "grid_row": null,
       "grid_template_areas": null,
       "grid_template_columns": null,
       "grid_template_rows": null,
       "height": null,
       "justify_content": null,
       "justify_items": null,
       "left": null,
       "margin": null,
       "max_height": null,
       "max_width": null,
       "min_height": null,
       "min_width": null,
       "object_fit": null,
       "object_position": null,
       "order": null,
       "overflow": null,
       "padding": null,
       "right": null,
       "top": null,
       "visibility": null,
       "width": null
      }
     },
     "28bd3df16fcf481298d40928a8f45c4d": {
      "model_module": "@jupyter-widgets/controls",
      "model_module_version": "2.0.0",
      "model_name": "ProgressStyleModel",
      "state": {
       "_model_module": "@jupyter-widgets/controls",
       "_model_module_version": "2.0.0",
       "_model_name": "ProgressStyleModel",
       "_view_count": null,
       "_view_module": "@jupyter-widgets/base",
       "_view_module_version": "2.0.0",
       "_view_name": "StyleView",
       "bar_color": null,
       "description_width": ""
      }
     },
     "28ece750cf4049849130f6509a8c962c": {
      "model_module": "@jupyter-widgets/controls",
      "model_module_version": "2.0.0",
      "model_name": "HTMLStyleModel",
      "state": {
       "_model_module": "@jupyter-widgets/controls",
       "_model_module_version": "2.0.0",
       "_model_name": "HTMLStyleModel",
       "_view_count": null,
       "_view_module": "@jupyter-widgets/base",
       "_view_module_version": "2.0.0",
       "_view_name": "StyleView",
       "background": null,
       "description_width": "",
       "font_size": null,
       "text_color": null
      }
     },
     "2db44bc66b104e3b82b1376a5105eb64": {
      "model_module": "@jupyter-widgets/controls",
      "model_module_version": "2.0.0",
      "model_name": "HTMLModel",
      "state": {
       "_dom_classes": [],
       "_model_module": "@jupyter-widgets/controls",
       "_model_module_version": "2.0.0",
       "_model_name": "HTMLModel",
       "_view_count": null,
       "_view_module": "@jupyter-widgets/controls",
       "_view_module_version": "2.0.0",
       "_view_name": "HTMLView",
       "description": "",
       "description_allow_html": false,
       "layout": "IPY_MODEL_63a54731c7004f1493b139429f69dee0",
       "placeholder": "​",
       "style": "IPY_MODEL_03f1c1f769084a03b4f99ff243c4030b",
       "tabbable": null,
       "tooltip": null,
       "value": "Map (num_proc=16): 100%"
      }
     },
     "3890f49912d140e5937fb44be5ba8009": {
      "model_module": "@jupyter-widgets/base",
      "model_module_version": "2.0.0",
      "model_name": "LayoutModel",
      "state": {
       "_model_module": "@jupyter-widgets/base",
       "_model_module_version": "2.0.0",
       "_model_name": "LayoutModel",
       "_view_count": null,
       "_view_module": "@jupyter-widgets/base",
       "_view_module_version": "2.0.0",
       "_view_name": "LayoutView",
       "align_content": null,
       "align_items": null,
       "align_self": null,
       "border_bottom": null,
       "border_left": null,
       "border_right": null,
       "border_top": null,
       "bottom": null,
       "display": null,
       "flex": null,
       "flex_flow": null,
       "grid_area": null,
       "grid_auto_columns": null,
       "grid_auto_flow": null,
       "grid_auto_rows": null,
       "grid_column": null,
       "grid_gap": null,
       "grid_row": null,
       "grid_template_areas": null,
       "grid_template_columns": null,
       "grid_template_rows": null,
       "height": null,
       "justify_content": null,
       "justify_items": null,
       "left": null,
       "margin": null,
       "max_height": null,
       "max_width": null,
       "min_height": null,
       "min_width": null,
       "object_fit": null,
       "object_position": null,
       "order": null,
       "overflow": null,
       "padding": null,
       "right": null,
       "top": null,
       "visibility": null,
       "width": null
      }
     },
     "39e9998162b747e8bb7421ac03522193": {
      "model_module": "@jupyter-widgets/controls",
      "model_module_version": "2.0.0",
      "model_name": "HTMLStyleModel",
      "state": {
       "_model_module": "@jupyter-widgets/controls",
       "_model_module_version": "2.0.0",
       "_model_name": "HTMLStyleModel",
       "_view_count": null,
       "_view_module": "@jupyter-widgets/base",
       "_view_module_version": "2.0.0",
       "_view_name": "StyleView",
       "background": null,
       "description_width": "",
       "font_size": null,
       "text_color": null
      }
     },
     "3da414b8fa5645b59f05a8a1c3a2a500": {
      "model_module": "@jupyter-widgets/controls",
      "model_module_version": "2.0.0",
      "model_name": "HTMLStyleModel",
      "state": {
       "_model_module": "@jupyter-widgets/controls",
       "_model_module_version": "2.0.0",
       "_model_name": "HTMLStyleModel",
       "_view_count": null,
       "_view_module": "@jupyter-widgets/base",
       "_view_module_version": "2.0.0",
       "_view_name": "StyleView",
       "background": null,
       "description_width": "",
       "font_size": null,
       "text_color": null
      }
     },
     "3ee0d4e2f2e74f848b638bf523b6e2cd": {
      "model_module": "@jupyter-widgets/base",
      "model_module_version": "2.0.0",
      "model_name": "LayoutModel",
      "state": {
       "_model_module": "@jupyter-widgets/base",
       "_model_module_version": "2.0.0",
       "_model_name": "LayoutModel",
       "_view_count": null,
       "_view_module": "@jupyter-widgets/base",
       "_view_module_version": "2.0.0",
       "_view_name": "LayoutView",
       "align_content": null,
       "align_items": null,
       "align_self": null,
       "border_bottom": null,
       "border_left": null,
       "border_right": null,
       "border_top": null,
       "bottom": null,
       "display": null,
       "flex": null,
       "flex_flow": null,
       "grid_area": null,
       "grid_auto_columns": null,
       "grid_auto_flow": null,
       "grid_auto_rows": null,
       "grid_column": null,
       "grid_gap": null,
       "grid_row": null,
       "grid_template_areas": null,
       "grid_template_columns": null,
       "grid_template_rows": null,
       "height": null,
       "justify_content": null,
       "justify_items": null,
       "left": null,
       "margin": null,
       "max_height": null,
       "max_width": null,
       "min_height": null,
       "min_width": null,
       "object_fit": null,
       "object_position": null,
       "order": null,
       "overflow": null,
       "padding": null,
       "right": null,
       "top": null,
       "visibility": null,
       "width": null
      }
     },
     "426796a7c4fb413c8ff095bcb057c5f3": {
      "model_module": "@jupyter-widgets/base",
      "model_module_version": "2.0.0",
      "model_name": "LayoutModel",
      "state": {
       "_model_module": "@jupyter-widgets/base",
       "_model_module_version": "2.0.0",
       "_model_name": "LayoutModel",
       "_view_count": null,
       "_view_module": "@jupyter-widgets/base",
       "_view_module_version": "2.0.0",
       "_view_name": "LayoutView",
       "align_content": null,
       "align_items": null,
       "align_self": null,
       "border_bottom": null,
       "border_left": null,
       "border_right": null,
       "border_top": null,
       "bottom": null,
       "display": null,
       "flex": null,
       "flex_flow": null,
       "grid_area": null,
       "grid_auto_columns": null,
       "grid_auto_flow": null,
       "grid_auto_rows": null,
       "grid_column": null,
       "grid_gap": null,
       "grid_row": null,
       "grid_template_areas": null,
       "grid_template_columns": null,
       "grid_template_rows": null,
       "height": null,
       "justify_content": null,
       "justify_items": null,
       "left": null,
       "margin": null,
       "max_height": null,
       "max_width": null,
       "min_height": null,
       "min_width": null,
       "object_fit": null,
       "object_position": null,
       "order": null,
       "overflow": null,
       "padding": null,
       "right": null,
       "top": null,
       "visibility": null,
       "width": null
      }
     },
     "454e59e789a0429d980261cc00680068": {
      "model_module": "@jupyter-widgets/controls",
      "model_module_version": "2.0.0",
      "model_name": "HTMLModel",
      "state": {
       "_dom_classes": [],
       "_model_module": "@jupyter-widgets/controls",
       "_model_module_version": "2.0.0",
       "_model_name": "HTMLModel",
       "_view_count": null,
       "_view_module": "@jupyter-widgets/controls",
       "_view_module_version": "2.0.0",
       "_view_name": "HTMLView",
       "description": "",
       "description_allow_html": false,
       "layout": "IPY_MODEL_e2f24d95465c4ef6abd22b0cfa47fc49",
       "placeholder": "​",
       "style": "IPY_MODEL_9d58ce4693c84b55a1660bba5f177e87",
       "tabbable": null,
       "tooltip": null,
       "value": "Map: 100%"
      }
     },
     "4666ca293c544d0da97f699d2f5ab1a0": {
      "model_module": "@jupyter-widgets/controls",
      "model_module_version": "2.0.0",
      "model_name": "FloatProgressModel",
      "state": {
       "_dom_classes": [],
       "_model_module": "@jupyter-widgets/controls",
       "_model_module_version": "2.0.0",
       "_model_name": "FloatProgressModel",
       "_view_count": null,
       "_view_module": "@jupyter-widgets/controls",
       "_view_module_version": "2.0.0",
       "_view_name": "ProgressView",
       "bar_style": "success",
       "description": "",
       "description_allow_html": false,
       "layout": "IPY_MODEL_7834b57927c8488a99cb6932925e7e68",
       "max": 4370,
       "min": 0,
       "orientation": "horizontal",
       "style": "IPY_MODEL_7de0d5a2ec964279abcc6efa27bd5b60",
       "tabbable": null,
       "tooltip": null,
       "value": 4370
      }
     },
     "47410599e07a46a282d5ddc4201f209b": {
      "model_module": "@jupyter-widgets/controls",
      "model_module_version": "2.0.0",
      "model_name": "HTMLModel",
      "state": {
       "_dom_classes": [],
       "_model_module": "@jupyter-widgets/controls",
       "_model_module_version": "2.0.0",
       "_model_name": "HTMLModel",
       "_view_count": null,
       "_view_module": "@jupyter-widgets/controls",
       "_view_module_version": "2.0.0",
       "_view_name": "HTMLView",
       "description": "",
       "description_allow_html": false,
       "layout": "IPY_MODEL_87956238d9ba4d80bdc2b80684c967af",
       "placeholder": "​",
       "style": "IPY_MODEL_75081c14147b494090783af2f0888660",
       "tabbable": null,
       "tooltip": null,
       "value": " 1460/1460 [00:02&lt;00:00, 641.00 examples/s]"
      }
     },
     "49fbacce8b694df0ab99d7a8e8c27ed3": {
      "model_module": "@jupyter-widgets/base",
      "model_module_version": "2.0.0",
      "model_name": "LayoutModel",
      "state": {
       "_model_module": "@jupyter-widgets/base",
       "_model_module_version": "2.0.0",
       "_model_name": "LayoutModel",
       "_view_count": null,
       "_view_module": "@jupyter-widgets/base",
       "_view_module_version": "2.0.0",
       "_view_name": "LayoutView",
       "align_content": null,
       "align_items": null,
       "align_self": null,
       "border_bottom": null,
       "border_left": null,
       "border_right": null,
       "border_top": null,
       "bottom": null,
       "display": null,
       "flex": null,
       "flex_flow": null,
       "grid_area": null,
       "grid_auto_columns": null,
       "grid_auto_flow": null,
       "grid_auto_rows": null,
       "grid_column": null,
       "grid_gap": null,
       "grid_row": null,
       "grid_template_areas": null,
       "grid_template_columns": null,
       "grid_template_rows": null,
       "height": null,
       "justify_content": null,
       "justify_items": null,
       "left": null,
       "margin": null,
       "max_height": null,
       "max_width": null,
       "min_height": null,
       "min_width": null,
       "object_fit": null,
       "object_position": null,
       "order": null,
       "overflow": null,
       "padding": null,
       "right": null,
       "top": null,
       "visibility": null,
       "width": null
      }
     },
     "554828d568984443af4d8b6e102e401e": {
      "model_module": "@jupyter-widgets/base",
      "model_module_version": "2.0.0",
      "model_name": "LayoutModel",
      "state": {
       "_model_module": "@jupyter-widgets/base",
       "_model_module_version": "2.0.0",
       "_model_name": "LayoutModel",
       "_view_count": null,
       "_view_module": "@jupyter-widgets/base",
       "_view_module_version": "2.0.0",
       "_view_name": "LayoutView",
       "align_content": null,
       "align_items": null,
       "align_self": null,
       "border_bottom": null,
       "border_left": null,
       "border_right": null,
       "border_top": null,
       "bottom": null,
       "display": null,
       "flex": null,
       "flex_flow": null,
       "grid_area": null,
       "grid_auto_columns": null,
       "grid_auto_flow": null,
       "grid_auto_rows": null,
       "grid_column": null,
       "grid_gap": null,
       "grid_row": null,
       "grid_template_areas": null,
       "grid_template_columns": null,
       "grid_template_rows": null,
       "height": null,
       "justify_content": null,
       "justify_items": null,
       "left": null,
       "margin": null,
       "max_height": null,
       "max_width": null,
       "min_height": null,
       "min_width": null,
       "object_fit": null,
       "object_position": null,
       "order": null,
       "overflow": null,
       "padding": null,
       "right": null,
       "top": null,
       "visibility": null,
       "width": null
      }
     },
     "56647a248e3d480eb1d99da6f425ad4e": {
      "model_module": "@jupyter-widgets/base",
      "model_module_version": "2.0.0",
      "model_name": "LayoutModel",
      "state": {
       "_model_module": "@jupyter-widgets/base",
       "_model_module_version": "2.0.0",
       "_model_name": "LayoutModel",
       "_view_count": null,
       "_view_module": "@jupyter-widgets/base",
       "_view_module_version": "2.0.0",
       "_view_name": "LayoutView",
       "align_content": null,
       "align_items": null,
       "align_self": null,
       "border_bottom": null,
       "border_left": null,
       "border_right": null,
       "border_top": null,
       "bottom": null,
       "display": null,
       "flex": null,
       "flex_flow": null,
       "grid_area": null,
       "grid_auto_columns": null,
       "grid_auto_flow": null,
       "grid_auto_rows": null,
       "grid_column": null,
       "grid_gap": null,
       "grid_row": null,
       "grid_template_areas": null,
       "grid_template_columns": null,
       "grid_template_rows": null,
       "height": null,
       "justify_content": null,
       "justify_items": null,
       "left": null,
       "margin": null,
       "max_height": null,
       "max_width": null,
       "min_height": null,
       "min_width": null,
       "object_fit": null,
       "object_position": null,
       "order": null,
       "overflow": null,
       "padding": null,
       "right": null,
       "top": null,
       "visibility": null,
       "width": null
      }
     },
     "586e05cff1ef4d71a3e00ec364af2ec5": {
      "model_module": "@jupyter-widgets/base",
      "model_module_version": "2.0.0",
      "model_name": "LayoutModel",
      "state": {
       "_model_module": "@jupyter-widgets/base",
       "_model_module_version": "2.0.0",
       "_model_name": "LayoutModel",
       "_view_count": null,
       "_view_module": "@jupyter-widgets/base",
       "_view_module_version": "2.0.0",
       "_view_name": "LayoutView",
       "align_content": null,
       "align_items": null,
       "align_self": null,
       "border_bottom": null,
       "border_left": null,
       "border_right": null,
       "border_top": null,
       "bottom": null,
       "display": null,
       "flex": null,
       "flex_flow": null,
       "grid_area": null,
       "grid_auto_columns": null,
       "grid_auto_flow": null,
       "grid_auto_rows": null,
       "grid_column": null,
       "grid_gap": null,
       "grid_row": null,
       "grid_template_areas": null,
       "grid_template_columns": null,
       "grid_template_rows": null,
       "height": null,
       "justify_content": null,
       "justify_items": null,
       "left": null,
       "margin": null,
       "max_height": null,
       "max_width": null,
       "min_height": null,
       "min_width": null,
       "object_fit": null,
       "object_position": null,
       "order": null,
       "overflow": null,
       "padding": null,
       "right": null,
       "top": null,
       "visibility": null,
       "width": null
      }
     },
     "5bd9746c2462442891a4a70e2667a849": {
      "model_module": "@jupyter-widgets/base",
      "model_module_version": "2.0.0",
      "model_name": "LayoutModel",
      "state": {
       "_model_module": "@jupyter-widgets/base",
       "_model_module_version": "2.0.0",
       "_model_name": "LayoutModel",
       "_view_count": null,
       "_view_module": "@jupyter-widgets/base",
       "_view_module_version": "2.0.0",
       "_view_name": "LayoutView",
       "align_content": null,
       "align_items": null,
       "align_self": null,
       "border_bottom": null,
       "border_left": null,
       "border_right": null,
       "border_top": null,
       "bottom": null,
       "display": null,
       "flex": null,
       "flex_flow": null,
       "grid_area": null,
       "grid_auto_columns": null,
       "grid_auto_flow": null,
       "grid_auto_rows": null,
       "grid_column": null,
       "grid_gap": null,
       "grid_row": null,
       "grid_template_areas": null,
       "grid_template_columns": null,
       "grid_template_rows": null,
       "height": null,
       "justify_content": null,
       "justify_items": null,
       "left": null,
       "margin": null,
       "max_height": null,
       "max_width": null,
       "min_height": null,
       "min_width": null,
       "object_fit": null,
       "object_position": null,
       "order": null,
       "overflow": null,
       "padding": null,
       "right": null,
       "top": null,
       "visibility": null,
       "width": null
      }
     },
     "5d1d5e714ade48e1a47501ac1b889598": {
      "model_module": "@jupyter-widgets/controls",
      "model_module_version": "2.0.0",
      "model_name": "FloatProgressModel",
      "state": {
       "_dom_classes": [],
       "_model_module": "@jupyter-widgets/controls",
       "_model_module_version": "2.0.0",
       "_model_name": "FloatProgressModel",
       "_view_count": null,
       "_view_module": "@jupyter-widgets/controls",
       "_view_module_version": "2.0.0",
       "_view_name": "ProgressView",
       "bar_style": "success",
       "description": "",
       "description_allow_html": false,
       "layout": "IPY_MODEL_c053779ec602476faa9a02fa7b516b2c",
       "max": 2910,
       "min": 0,
       "orientation": "horizontal",
       "style": "IPY_MODEL_9c7cf5fd3a034c2ea6a27cc3f3ade52b",
       "tabbable": null,
       "tooltip": null,
       "value": 2910
      }
     },
     "5f8196037f7e45b38a890e34582947e7": {
      "model_module": "@jupyter-widgets/controls",
      "model_module_version": "2.0.0",
      "model_name": "FloatProgressModel",
      "state": {
       "_dom_classes": [],
       "_model_module": "@jupyter-widgets/controls",
       "_model_module_version": "2.0.0",
       "_model_name": "FloatProgressModel",
       "_view_count": null,
       "_view_module": "@jupyter-widgets/controls",
       "_view_module_version": "2.0.0",
       "_view_name": "ProgressView",
       "bar_style": "success",
       "description": "",
       "description_allow_html": false,
       "layout": "IPY_MODEL_a79e8a77f0ec4a61af43bef219d0582e",
       "max": 1460,
       "min": 0,
       "orientation": "horizontal",
       "style": "IPY_MODEL_28bd3df16fcf481298d40928a8f45c4d",
       "tabbable": null,
       "tooltip": null,
       "value": 1460
      }
     },
     "627509639c42455da92f0ec254b27726": {
      "model_module": "@jupyter-widgets/controls",
      "model_module_version": "2.0.0",
      "model_name": "HBoxModel",
      "state": {
       "_dom_classes": [],
       "_model_module": "@jupyter-widgets/controls",
       "_model_module_version": "2.0.0",
       "_model_name": "HBoxModel",
       "_view_count": null,
       "_view_module": "@jupyter-widgets/controls",
       "_view_module_version": "2.0.0",
       "_view_name": "HBoxView",
       "box_style": "",
       "children": [
        "IPY_MODEL_1748003d45fe477a8fe8e104ba1a02fa",
        "IPY_MODEL_5f8196037f7e45b38a890e34582947e7",
        "IPY_MODEL_47410599e07a46a282d5ddc4201f209b"
       ],
       "layout": "IPY_MODEL_f57cf2e3ad4240bb8f697506f2d9de53",
       "tabbable": null,
       "tooltip": null
      }
     },
     "63a54731c7004f1493b139429f69dee0": {
      "model_module": "@jupyter-widgets/base",
      "model_module_version": "2.0.0",
      "model_name": "LayoutModel",
      "state": {
       "_model_module": "@jupyter-widgets/base",
       "_model_module_version": "2.0.0",
       "_model_name": "LayoutModel",
       "_view_count": null,
       "_view_module": "@jupyter-widgets/base",
       "_view_module_version": "2.0.0",
       "_view_name": "LayoutView",
       "align_content": null,
       "align_items": null,
       "align_self": null,
       "border_bottom": null,
       "border_left": null,
       "border_right": null,
       "border_top": null,
       "bottom": null,
       "display": null,
       "flex": null,
       "flex_flow": null,
       "grid_area": null,
       "grid_auto_columns": null,
       "grid_auto_flow": null,
       "grid_auto_rows": null,
       "grid_column": null,
       "grid_gap": null,
       "grid_row": null,
       "grid_template_areas": null,
       "grid_template_columns": null,
       "grid_template_rows": null,
       "height": null,
       "justify_content": null,
       "justify_items": null,
       "left": null,
       "margin": null,
       "max_height": null,
       "max_width": null,
       "min_height": null,
       "min_width": null,
       "object_fit": null,
       "object_position": null,
       "order": null,
       "overflow": null,
       "padding": null,
       "right": null,
       "top": null,
       "visibility": null,
       "width": null
      }
     },
     "6402246fea5b450a87bedaddf3c38d51": {
      "model_module": "@jupyter-widgets/controls",
      "model_module_version": "2.0.0",
      "model_name": "ProgressStyleModel",
      "state": {
       "_model_module": "@jupyter-widgets/controls",
       "_model_module_version": "2.0.0",
       "_model_name": "ProgressStyleModel",
       "_view_count": null,
       "_view_module": "@jupyter-widgets/base",
       "_view_module_version": "2.0.0",
       "_view_name": "StyleView",
       "bar_color": null,
       "description_width": ""
      }
     },
     "64404e48e9d5452daa898db30c5bcfe7": {
      "model_module": "@jupyter-widgets/controls",
      "model_module_version": "2.0.0",
      "model_name": "HBoxModel",
      "state": {
       "_dom_classes": [],
       "_model_module": "@jupyter-widgets/controls",
       "_model_module_version": "2.0.0",
       "_model_name": "HBoxModel",
       "_view_count": null,
       "_view_module": "@jupyter-widgets/controls",
       "_view_module_version": "2.0.0",
       "_view_name": "HBoxView",
       "box_style": "",
       "children": [
        "IPY_MODEL_2db44bc66b104e3b82b1376a5105eb64",
        "IPY_MODEL_5d1d5e714ade48e1a47501ac1b889598",
        "IPY_MODEL_edc739dbb1ef460d93f95cee18a99ca0"
       ],
       "layout": "IPY_MODEL_3ee0d4e2f2e74f848b638bf523b6e2cd",
       "tabbable": null,
       "tooltip": null
      }
     },
     "7026963b6d5a4143b890f82d7e85b414": {
      "model_module": "@jupyter-widgets/controls",
      "model_module_version": "2.0.0",
      "model_name": "HTMLStyleModel",
      "state": {
       "_model_module": "@jupyter-widgets/controls",
       "_model_module_version": "2.0.0",
       "_model_name": "HTMLStyleModel",
       "_view_count": null,
       "_view_module": "@jupyter-widgets/base",
       "_view_module_version": "2.0.0",
       "_view_name": "StyleView",
       "background": null,
       "description_width": "",
       "font_size": null,
       "text_color": null
      }
     },
     "75081c14147b494090783af2f0888660": {
      "model_module": "@jupyter-widgets/controls",
      "model_module_version": "2.0.0",
      "model_name": "HTMLStyleModel",
      "state": {
       "_model_module": "@jupyter-widgets/controls",
       "_model_module_version": "2.0.0",
       "_model_name": "HTMLStyleModel",
       "_view_count": null,
       "_view_module": "@jupyter-widgets/base",
       "_view_module_version": "2.0.0",
       "_view_name": "StyleView",
       "background": null,
       "description_width": "",
       "font_size": null,
       "text_color": null
      }
     },
     "7834b57927c8488a99cb6932925e7e68": {
      "model_module": "@jupyter-widgets/base",
      "model_module_version": "2.0.0",
      "model_name": "LayoutModel",
      "state": {
       "_model_module": "@jupyter-widgets/base",
       "_model_module_version": "2.0.0",
       "_model_name": "LayoutModel",
       "_view_count": null,
       "_view_module": "@jupyter-widgets/base",
       "_view_module_version": "2.0.0",
       "_view_name": "LayoutView",
       "align_content": null,
       "align_items": null,
       "align_self": null,
       "border_bottom": null,
       "border_left": null,
       "border_right": null,
       "border_top": null,
       "bottom": null,
       "display": null,
       "flex": null,
       "flex_flow": null,
       "grid_area": null,
       "grid_auto_columns": null,
       "grid_auto_flow": null,
       "grid_auto_rows": null,
       "grid_column": null,
       "grid_gap": null,
       "grid_row": null,
       "grid_template_areas": null,
       "grid_template_columns": null,
       "grid_template_rows": null,
       "height": null,
       "justify_content": null,
       "justify_items": null,
       "left": null,
       "margin": null,
       "max_height": null,
       "max_width": null,
       "min_height": null,
       "min_width": null,
       "object_fit": null,
       "object_position": null,
       "order": null,
       "overflow": null,
       "padding": null,
       "right": null,
       "top": null,
       "visibility": null,
       "width": null
      }
     },
     "7b8efb80db1d4cd39dc03a9c02f52460": {
      "model_module": "@jupyter-widgets/base",
      "model_module_version": "2.0.0",
      "model_name": "LayoutModel",
      "state": {
       "_model_module": "@jupyter-widgets/base",
       "_model_module_version": "2.0.0",
       "_model_name": "LayoutModel",
       "_view_count": null,
       "_view_module": "@jupyter-widgets/base",
       "_view_module_version": "2.0.0",
       "_view_name": "LayoutView",
       "align_content": null,
       "align_items": null,
       "align_self": null,
       "border_bottom": null,
       "border_left": null,
       "border_right": null,
       "border_top": null,
       "bottom": null,
       "display": null,
       "flex": null,
       "flex_flow": null,
       "grid_area": null,
       "grid_auto_columns": null,
       "grid_auto_flow": null,
       "grid_auto_rows": null,
       "grid_column": null,
       "grid_gap": null,
       "grid_row": null,
       "grid_template_areas": null,
       "grid_template_columns": null,
       "grid_template_rows": null,
       "height": null,
       "justify_content": null,
       "justify_items": null,
       "left": null,
       "margin": null,
       "max_height": null,
       "max_width": null,
       "min_height": null,
       "min_width": null,
       "object_fit": null,
       "object_position": null,
       "order": null,
       "overflow": null,
       "padding": null,
       "right": null,
       "top": null,
       "visibility": null,
       "width": null
      }
     },
     "7de0d5a2ec964279abcc6efa27bd5b60": {
      "model_module": "@jupyter-widgets/controls",
      "model_module_version": "2.0.0",
      "model_name": "ProgressStyleModel",
      "state": {
       "_model_module": "@jupyter-widgets/controls",
       "_model_module_version": "2.0.0",
       "_model_name": "ProgressStyleModel",
       "_view_count": null,
       "_view_module": "@jupyter-widgets/base",
       "_view_module_version": "2.0.0",
       "_view_name": "StyleView",
       "bar_color": null,
       "description_width": ""
      }
     },
     "803bc8cf73024feca8c7c408e5a8f857": {
      "model_module": "@jupyter-widgets/base",
      "model_module_version": "2.0.0",
      "model_name": "LayoutModel",
      "state": {
       "_model_module": "@jupyter-widgets/base",
       "_model_module_version": "2.0.0",
       "_model_name": "LayoutModel",
       "_view_count": null,
       "_view_module": "@jupyter-widgets/base",
       "_view_module_version": "2.0.0",
       "_view_name": "LayoutView",
       "align_content": null,
       "align_items": null,
       "align_self": null,
       "border_bottom": null,
       "border_left": null,
       "border_right": null,
       "border_top": null,
       "bottom": null,
       "display": null,
       "flex": null,
       "flex_flow": null,
       "grid_area": null,
       "grid_auto_columns": null,
       "grid_auto_flow": null,
       "grid_auto_rows": null,
       "grid_column": null,
       "grid_gap": null,
       "grid_row": null,
       "grid_template_areas": null,
       "grid_template_columns": null,
       "grid_template_rows": null,
       "height": null,
       "justify_content": null,
       "justify_items": null,
       "left": null,
       "margin": null,
       "max_height": null,
       "max_width": null,
       "min_height": null,
       "min_width": null,
       "object_fit": null,
       "object_position": null,
       "order": null,
       "overflow": null,
       "padding": null,
       "right": null,
       "top": null,
       "visibility": null,
       "width": null
      }
     },
     "87956238d9ba4d80bdc2b80684c967af": {
      "model_module": "@jupyter-widgets/base",
      "model_module_version": "2.0.0",
      "model_name": "LayoutModel",
      "state": {
       "_model_module": "@jupyter-widgets/base",
       "_model_module_version": "2.0.0",
       "_model_name": "LayoutModel",
       "_view_count": null,
       "_view_module": "@jupyter-widgets/base",
       "_view_module_version": "2.0.0",
       "_view_name": "LayoutView",
       "align_content": null,
       "align_items": null,
       "align_self": null,
       "border_bottom": null,
       "border_left": null,
       "border_right": null,
       "border_top": null,
       "bottom": null,
       "display": null,
       "flex": null,
       "flex_flow": null,
       "grid_area": null,
       "grid_auto_columns": null,
       "grid_auto_flow": null,
       "grid_auto_rows": null,
       "grid_column": null,
       "grid_gap": null,
       "grid_row": null,
       "grid_template_areas": null,
       "grid_template_columns": null,
       "grid_template_rows": null,
       "height": null,
       "justify_content": null,
       "justify_items": null,
       "left": null,
       "margin": null,
       "max_height": null,
       "max_width": null,
       "min_height": null,
       "min_width": null,
       "object_fit": null,
       "object_position": null,
       "order": null,
       "overflow": null,
       "padding": null,
       "right": null,
       "top": null,
       "visibility": null,
       "width": null
      }
     },
     "88c2f5e3cad04685a56f4449dd2073f6": {
      "model_module": "@jupyter-widgets/controls",
      "model_module_version": "2.0.0",
      "model_name": "HTMLModel",
      "state": {
       "_dom_classes": [],
       "_model_module": "@jupyter-widgets/controls",
       "_model_module_version": "2.0.0",
       "_model_name": "HTMLModel",
       "_view_count": null,
       "_view_module": "@jupyter-widgets/controls",
       "_view_module_version": "2.0.0",
       "_view_name": "HTMLView",
       "description": "",
       "description_allow_html": false,
       "layout": "IPY_MODEL_49fbacce8b694df0ab99d7a8e8c27ed3",
       "placeholder": "​",
       "style": "IPY_MODEL_c10fc20db96a450fae038f081ce908d5",
       "tabbable": null,
       "tooltip": null,
       "value": "Map: 100%"
      }
     },
     "8c82176bf0c743188cd4c93537f40182": {
      "model_module": "@jupyter-widgets/controls",
      "model_module_version": "2.0.0",
      "model_name": "FloatProgressModel",
      "state": {
       "_dom_classes": [],
       "_model_module": "@jupyter-widgets/controls",
       "_model_module_version": "2.0.0",
       "_model_name": "FloatProgressModel",
       "_view_count": null,
       "_view_module": "@jupyter-widgets/controls",
       "_view_module_version": "2.0.0",
       "_view_name": "ProgressView",
       "bar_style": "success",
       "description": "",
       "description_allow_html": false,
       "layout": "IPY_MODEL_7b8efb80db1d4cd39dc03a9c02f52460",
       "max": 4370,
       "min": 0,
       "orientation": "horizontal",
       "style": "IPY_MODEL_faf37738139a447697fc0590720130ab",
       "tabbable": null,
       "tooltip": null,
       "value": 4370
      }
     },
     "97e0c844b6844b0198bdcd7f6ba9fe7a": {
      "model_module": "@jupyter-widgets/controls",
      "model_module_version": "2.0.0",
      "model_name": "HBoxModel",
      "state": {
       "_dom_classes": [],
       "_model_module": "@jupyter-widgets/controls",
       "_model_module_version": "2.0.0",
       "_model_name": "HBoxModel",
       "_view_count": null,
       "_view_module": "@jupyter-widgets/controls",
       "_view_module_version": "2.0.0",
       "_view_name": "HBoxView",
       "box_style": "",
       "children": [
        "IPY_MODEL_454e59e789a0429d980261cc00680068",
        "IPY_MODEL_f6a39a067abf43f9a2abbfbc0e59975f",
        "IPY_MODEL_c8489895689745ea93ea5781b361d76f"
       ],
       "layout": "IPY_MODEL_e6b0f40a772f4cb78b9469e0a423579e",
       "tabbable": null,
       "tooltip": null
      }
     },
     "9c7cf5fd3a034c2ea6a27cc3f3ade52b": {
      "model_module": "@jupyter-widgets/controls",
      "model_module_version": "2.0.0",
      "model_name": "ProgressStyleModel",
      "state": {
       "_model_module": "@jupyter-widgets/controls",
       "_model_module_version": "2.0.0",
       "_model_name": "ProgressStyleModel",
       "_view_count": null,
       "_view_module": "@jupyter-widgets/base",
       "_view_module_version": "2.0.0",
       "_view_name": "StyleView",
       "bar_color": null,
       "description_width": ""
      }
     },
     "9d58ce4693c84b55a1660bba5f177e87": {
      "model_module": "@jupyter-widgets/controls",
      "model_module_version": "2.0.0",
      "model_name": "HTMLStyleModel",
      "state": {
       "_model_module": "@jupyter-widgets/controls",
       "_model_module_version": "2.0.0",
       "_model_name": "HTMLStyleModel",
       "_view_count": null,
       "_view_module": "@jupyter-widgets/base",
       "_view_module_version": "2.0.0",
       "_view_name": "StyleView",
       "background": null,
       "description_width": "",
       "font_size": null,
       "text_color": null
      }
     },
     "9d92e8bf7908453d87b5d1dd88237dea": {
      "model_module": "@jupyter-widgets/controls",
      "model_module_version": "2.0.0",
      "model_name": "ProgressStyleModel",
      "state": {
       "_model_module": "@jupyter-widgets/controls",
       "_model_module_version": "2.0.0",
       "_model_name": "ProgressStyleModel",
       "_view_count": null,
       "_view_module": "@jupyter-widgets/base",
       "_view_module_version": "2.0.0",
       "_view_name": "StyleView",
       "bar_color": null,
       "description_width": ""
      }
     },
     "a03bd758c323460abe48cce213697f7b": {
      "model_module": "@jupyter-widgets/controls",
      "model_module_version": "2.0.0",
      "model_name": "HTMLStyleModel",
      "state": {
       "_model_module": "@jupyter-widgets/controls",
       "_model_module_version": "2.0.0",
       "_model_name": "HTMLStyleModel",
       "_view_count": null,
       "_view_module": "@jupyter-widgets/base",
       "_view_module_version": "2.0.0",
       "_view_name": "StyleView",
       "background": null,
       "description_width": "",
       "font_size": null,
       "text_color": null
      }
     },
     "a10b0678e3ad400595880d6553919c44": {
      "model_module": "@jupyter-widgets/controls",
      "model_module_version": "2.0.0",
      "model_name": "FloatProgressModel",
      "state": {
       "_dom_classes": [],
       "_model_module": "@jupyter-widgets/controls",
       "_model_module_version": "2.0.0",
       "_model_name": "FloatProgressModel",
       "_view_count": null,
       "_view_module": "@jupyter-widgets/controls",
       "_view_module_version": "2.0.0",
       "_view_name": "ProgressView",
       "bar_style": "success",
       "description": "",
       "description_allow_html": false,
       "layout": "IPY_MODEL_426796a7c4fb413c8ff095bcb057c5f3",
       "max": 4,
       "min": 0,
       "orientation": "horizontal",
       "style": "IPY_MODEL_ed39af1e0dd943cfa8a929f287866a61",
       "tabbable": null,
       "tooltip": null,
       "value": 4
      }
     },
     "a2165f020ea242329b069bbe78b438f4": {
      "model_module": "@jupyter-widgets/base",
      "model_module_version": "2.0.0",
      "model_name": "LayoutModel",
      "state": {
       "_model_module": "@jupyter-widgets/base",
       "_model_module_version": "2.0.0",
       "_model_name": "LayoutModel",
       "_view_count": null,
       "_view_module": "@jupyter-widgets/base",
       "_view_module_version": "2.0.0",
       "_view_name": "LayoutView",
       "align_content": null,
       "align_items": null,
       "align_self": null,
       "border_bottom": null,
       "border_left": null,
       "border_right": null,
       "border_top": null,
       "bottom": null,
       "display": null,
       "flex": null,
       "flex_flow": null,
       "grid_area": null,
       "grid_auto_columns": null,
       "grid_auto_flow": null,
       "grid_auto_rows": null,
       "grid_column": null,
       "grid_gap": null,
       "grid_row": null,
       "grid_template_areas": null,
       "grid_template_columns": null,
       "grid_template_rows": null,
       "height": null,
       "justify_content": null,
       "justify_items": null,
       "left": null,
       "margin": null,
       "max_height": null,
       "max_width": null,
       "min_height": null,
       "min_width": null,
       "object_fit": null,
       "object_position": null,
       "order": null,
       "overflow": null,
       "padding": null,
       "right": null,
       "top": null,
       "visibility": null,
       "width": null
      }
     },
     "a79e8a77f0ec4a61af43bef219d0582e": {
      "model_module": "@jupyter-widgets/base",
      "model_module_version": "2.0.0",
      "model_name": "LayoutModel",
      "state": {
       "_model_module": "@jupyter-widgets/base",
       "_model_module_version": "2.0.0",
       "_model_name": "LayoutModel",
       "_view_count": null,
       "_view_module": "@jupyter-widgets/base",
       "_view_module_version": "2.0.0",
       "_view_name": "LayoutView",
       "align_content": null,
       "align_items": null,
       "align_self": null,
       "border_bottom": null,
       "border_left": null,
       "border_right": null,
       "border_top": null,
       "bottom": null,
       "display": null,
       "flex": null,
       "flex_flow": null,
       "grid_area": null,
       "grid_auto_columns": null,
       "grid_auto_flow": null,
       "grid_auto_rows": null,
       "grid_column": null,
       "grid_gap": null,
       "grid_row": null,
       "grid_template_areas": null,
       "grid_template_columns": null,
       "grid_template_rows": null,
       "height": null,
       "justify_content": null,
       "justify_items": null,
       "left": null,
       "margin": null,
       "max_height": null,
       "max_width": null,
       "min_height": null,
       "min_width": null,
       "object_fit": null,
       "object_position": null,
       "order": null,
       "overflow": null,
       "padding": null,
       "right": null,
       "top": null,
       "visibility": null,
       "width": null
      }
     },
     "aeedc16d15ac46ef9c990710b75cd12b": {
      "model_module": "@jupyter-widgets/base",
      "model_module_version": "2.0.0",
      "model_name": "LayoutModel",
      "state": {
       "_model_module": "@jupyter-widgets/base",
       "_model_module_version": "2.0.0",
       "_model_name": "LayoutModel",
       "_view_count": null,
       "_view_module": "@jupyter-widgets/base",
       "_view_module_version": "2.0.0",
       "_view_name": "LayoutView",
       "align_content": null,
       "align_items": null,
       "align_self": null,
       "border_bottom": null,
       "border_left": null,
       "border_right": null,
       "border_top": null,
       "bottom": null,
       "display": null,
       "flex": null,
       "flex_flow": null,
       "grid_area": null,
       "grid_auto_columns": null,
       "grid_auto_flow": null,
       "grid_auto_rows": null,
       "grid_column": null,
       "grid_gap": null,
       "grid_row": null,
       "grid_template_areas": null,
       "grid_template_columns": null,
       "grid_template_rows": null,
       "height": null,
       "justify_content": null,
       "justify_items": null,
       "left": null,
       "margin": null,
       "max_height": null,
       "max_width": null,
       "min_height": null,
       "min_width": null,
       "object_fit": null,
       "object_position": null,
       "order": null,
       "overflow": null,
       "padding": null,
       "right": null,
       "top": null,
       "visibility": null,
       "width": null
      }
     },
     "af29b134ca024ae5b801f5c9e358795d": {
      "model_module": "@jupyter-widgets/controls",
      "model_module_version": "2.0.0",
      "model_name": "HTMLStyleModel",
      "state": {
       "_model_module": "@jupyter-widgets/controls",
       "_model_module_version": "2.0.0",
       "_model_name": "HTMLStyleModel",
       "_view_count": null,
       "_view_module": "@jupyter-widgets/base",
       "_view_module_version": "2.0.0",
       "_view_name": "StyleView",
       "background": null,
       "description_width": "",
       "font_size": null,
       "text_color": null
      }
     },
     "b3412a4fbdab4fe098c95a447d7bf3cf": {
      "model_module": "@jupyter-widgets/base",
      "model_module_version": "2.0.0",
      "model_name": "LayoutModel",
      "state": {
       "_model_module": "@jupyter-widgets/base",
       "_model_module_version": "2.0.0",
       "_model_name": "LayoutModel",
       "_view_count": null,
       "_view_module": "@jupyter-widgets/base",
       "_view_module_version": "2.0.0",
       "_view_name": "LayoutView",
       "align_content": null,
       "align_items": null,
       "align_self": null,
       "border_bottom": null,
       "border_left": null,
       "border_right": null,
       "border_top": null,
       "bottom": null,
       "display": null,
       "flex": null,
       "flex_flow": null,
       "grid_area": null,
       "grid_auto_columns": null,
       "grid_auto_flow": null,
       "grid_auto_rows": null,
       "grid_column": null,
       "grid_gap": null,
       "grid_row": null,
       "grid_template_areas": null,
       "grid_template_columns": null,
       "grid_template_rows": null,
       "height": null,
       "justify_content": null,
       "justify_items": null,
       "left": null,
       "margin": null,
       "max_height": null,
       "max_width": null,
       "min_height": null,
       "min_width": null,
       "object_fit": null,
       "object_position": null,
       "order": null,
       "overflow": null,
       "padding": null,
       "right": null,
       "top": null,
       "visibility": null,
       "width": null
      }
     },
     "b6cdc1901b0249feae42981284b1048f": {
      "model_module": "@jupyter-widgets/controls",
      "model_module_version": "2.0.0",
      "model_name": "HTMLModel",
      "state": {
       "_dom_classes": [],
       "_model_module": "@jupyter-widgets/controls",
       "_model_module_version": "2.0.0",
       "_model_name": "HTMLModel",
       "_view_count": null,
       "_view_module": "@jupyter-widgets/controls",
       "_view_module_version": "2.0.0",
       "_view_name": "HTMLView",
       "description": "",
       "description_allow_html": false,
       "layout": "IPY_MODEL_07d27012f8fa40849b8ff4d8478b9f79",
       "placeholder": "​",
       "style": "IPY_MODEL_f1969a7095c94321a3621fd00689d70d",
       "tabbable": null,
       "tooltip": null,
       "value": " 4370/4370 [00:00&lt;00:00, 12899.57 examples/s]"
      }
     },
     "c053779ec602476faa9a02fa7b516b2c": {
      "model_module": "@jupyter-widgets/base",
      "model_module_version": "2.0.0",
      "model_name": "LayoutModel",
      "state": {
       "_model_module": "@jupyter-widgets/base",
       "_model_module_version": "2.0.0",
       "_model_name": "LayoutModel",
       "_view_count": null,
       "_view_module": "@jupyter-widgets/base",
       "_view_module_version": "2.0.0",
       "_view_name": "LayoutView",
       "align_content": null,
       "align_items": null,
       "align_self": null,
       "border_bottom": null,
       "border_left": null,
       "border_right": null,
       "border_top": null,
       "bottom": null,
       "display": null,
       "flex": null,
       "flex_flow": null,
       "grid_area": null,
       "grid_auto_columns": null,
       "grid_auto_flow": null,
       "grid_auto_rows": null,
       "grid_column": null,
       "grid_gap": null,
       "grid_row": null,
       "grid_template_areas": null,
       "grid_template_columns": null,
       "grid_template_rows": null,
       "height": null,
       "justify_content": null,
       "justify_items": null,
       "left": null,
       "margin": null,
       "max_height": null,
       "max_width": null,
       "min_height": null,
       "min_width": null,
       "object_fit": null,
       "object_position": null,
       "order": null,
       "overflow": null,
       "padding": null,
       "right": null,
       "top": null,
       "visibility": null,
       "width": null
      }
     },
     "c10fc20db96a450fae038f081ce908d5": {
      "model_module": "@jupyter-widgets/controls",
      "model_module_version": "2.0.0",
      "model_name": "HTMLStyleModel",
      "state": {
       "_model_module": "@jupyter-widgets/controls",
       "_model_module_version": "2.0.0",
       "_model_name": "HTMLStyleModel",
       "_view_count": null,
       "_view_module": "@jupyter-widgets/base",
       "_view_module_version": "2.0.0",
       "_view_name": "StyleView",
       "background": null,
       "description_width": "",
       "font_size": null,
       "text_color": null
      }
     },
     "c8489895689745ea93ea5781b361d76f": {
      "model_module": "@jupyter-widgets/controls",
      "model_module_version": "2.0.0",
      "model_name": "HTMLModel",
      "state": {
       "_dom_classes": [],
       "_model_module": "@jupyter-widgets/controls",
       "_model_module_version": "2.0.0",
       "_model_name": "HTMLModel",
       "_view_count": null,
       "_view_module": "@jupyter-widgets/controls",
       "_view_module_version": "2.0.0",
       "_view_name": "HTMLView",
       "description": "",
       "description_allow_html": false,
       "layout": "IPY_MODEL_2398155de4e242f6a0575acaef48b685",
       "placeholder": "​",
       "style": "IPY_MODEL_af29b134ca024ae5b801f5c9e358795d",
       "tabbable": null,
       "tooltip": null,
       "value": " 1460/1460 [00:00&lt;00:00, 13421.07 examples/s]"
      }
     },
     "cf0d1dc341504fd6b01e3fe6289f469e": {
      "model_module": "@jupyter-widgets/controls",
      "model_module_version": "2.0.0",
      "model_name": "HTMLModel",
      "state": {
       "_dom_classes": [],
       "_model_module": "@jupyter-widgets/controls",
       "_model_module_version": "2.0.0",
       "_model_name": "HTMLModel",
       "_view_count": null,
       "_view_module": "@jupyter-widgets/controls",
       "_view_module_version": "2.0.0",
       "_view_name": "HTMLView",
       "description": "",
       "description_allow_html": false,
       "layout": "IPY_MODEL_b3412a4fbdab4fe098c95a447d7bf3cf",
       "placeholder": "​",
       "style": "IPY_MODEL_f1e0137e4bd44febac0c32bad8082be0",
       "tabbable": null,
       "tooltip": null,
       "value": "Filter (num_proc=16): 100%"
      }
     },
     "d1e48335b4b54c489b3239be99284090": {
      "model_module": "@jupyter-widgets/base",
      "model_module_version": "2.0.0",
      "model_name": "LayoutModel",
      "state": {
       "_model_module": "@jupyter-widgets/base",
       "_model_module_version": "2.0.0",
       "_model_name": "LayoutModel",
       "_view_count": null,
       "_view_module": "@jupyter-widgets/base",
       "_view_module_version": "2.0.0",
       "_view_name": "LayoutView",
       "align_content": null,
       "align_items": null,
       "align_self": null,
       "border_bottom": null,
       "border_left": null,
       "border_right": null,
       "border_top": null,
       "bottom": null,
       "display": null,
       "flex": null,
       "flex_flow": null,
       "grid_area": null,
       "grid_auto_columns": null,
       "grid_auto_flow": null,
       "grid_auto_rows": null,
       "grid_column": null,
       "grid_gap": null,
       "grid_row": null,
       "grid_template_areas": null,
       "grid_template_columns": null,
       "grid_template_rows": null,
       "height": null,
       "justify_content": null,
       "justify_items": null,
       "left": null,
       "margin": null,
       "max_height": null,
       "max_width": null,
       "min_height": null,
       "min_width": null,
       "object_fit": null,
       "object_position": null,
       "order": null,
       "overflow": null,
       "padding": null,
       "right": null,
       "top": null,
       "visibility": null,
       "width": null
      }
     },
     "d7834b7c896f4c6b99d826fbeb01607e": {
      "model_module": "@jupyter-widgets/controls",
      "model_module_version": "2.0.0",
      "model_name": "FloatProgressModel",
      "state": {
       "_dom_classes": [],
       "_model_module": "@jupyter-widgets/controls",
       "_model_module_version": "2.0.0",
       "_model_name": "FloatProgressModel",
       "_view_count": null,
       "_view_module": "@jupyter-widgets/controls",
       "_view_module_version": "2.0.0",
       "_view_name": "ProgressView",
       "bar_style": "success",
       "description": "",
       "description_allow_html": false,
       "layout": "IPY_MODEL_3890f49912d140e5937fb44be5ba8009",
       "max": 4370,
       "min": 0,
       "orientation": "horizontal",
       "style": "IPY_MODEL_9d92e8bf7908453d87b5d1dd88237dea",
       "tabbable": null,
       "tooltip": null,
       "value": 4370
      }
     },
     "d8acac6d3d4e4590b084574ddb2fdd01": {
      "model_module": "@jupyter-widgets/controls",
      "model_module_version": "2.0.0",
      "model_name": "HTMLModel",
      "state": {
       "_dom_classes": [],
       "_model_module": "@jupyter-widgets/controls",
       "_model_module_version": "2.0.0",
       "_model_name": "HTMLModel",
       "_view_count": null,
       "_view_module": "@jupyter-widgets/controls",
       "_view_module_version": "2.0.0",
       "_view_name": "HTMLView",
       "description": "",
       "description_allow_html": false,
       "layout": "IPY_MODEL_ed07dd81bb3b4f50b752fbfd0da62e93",
       "placeholder": "​",
       "style": "IPY_MODEL_a03bd758c323460abe48cce213697f7b",
       "tabbable": null,
       "tooltip": null,
       "value": " 4/4 [00:04&lt;00:00,  1.13s/it]"
      }
     },
     "db2d006bb2e04652bce2b2b6812d2b20": {
      "model_module": "@jupyter-widgets/controls",
      "model_module_version": "2.0.0",
      "model_name": "HTMLModel",
      "state": {
       "_dom_classes": [],
       "_model_module": "@jupyter-widgets/controls",
       "_model_module_version": "2.0.0",
       "_model_name": "HTMLModel",
       "_view_count": null,
       "_view_module": "@jupyter-widgets/controls",
       "_view_module_version": "2.0.0",
       "_view_name": "HTMLView",
       "description": "",
       "description_allow_html": false,
       "layout": "IPY_MODEL_a2165f020ea242329b069bbe78b438f4",
       "placeholder": "​",
       "style": "IPY_MODEL_3da414b8fa5645b59f05a8a1c3a2a500",
       "tabbable": null,
       "tooltip": null,
       "value": "Filter (num_proc=16): 100%"
      }
     },
     "dbd0e04d6e4a46f6a413b2b4d44d39c3": {
      "model_module": "@jupyter-widgets/controls",
      "model_module_version": "2.0.0",
      "model_name": "HBoxModel",
      "state": {
       "_dom_classes": [],
       "_model_module": "@jupyter-widgets/controls",
       "_model_module_version": "2.0.0",
       "_model_name": "HBoxModel",
       "_view_count": null,
       "_view_module": "@jupyter-widgets/controls",
       "_view_module_version": "2.0.0",
       "_view_name": "HBoxView",
       "box_style": "",
       "children": [
        "IPY_MODEL_cf0d1dc341504fd6b01e3fe6289f469e",
        "IPY_MODEL_4666ca293c544d0da97f699d2f5ab1a0",
        "IPY_MODEL_2257dcc3e7284550bbd138695f27034a"
       ],
       "layout": "IPY_MODEL_aeedc16d15ac46ef9c990710b75cd12b",
       "tabbable": null,
       "tooltip": null
      }
     },
     "e0be29ffcb6f44aeae4ae10167a47c1f": {
      "model_module": "@jupyter-widgets/controls",
      "model_module_version": "2.0.0",
      "model_name": "HTMLStyleModel",
      "state": {
       "_model_module": "@jupyter-widgets/controls",
       "_model_module_version": "2.0.0",
       "_model_name": "HTMLStyleModel",
       "_view_count": null,
       "_view_module": "@jupyter-widgets/base",
       "_view_module_version": "2.0.0",
       "_view_name": "StyleView",
       "background": null,
       "description_width": "",
       "font_size": null,
       "text_color": null
      }
     },
     "e2f24d95465c4ef6abd22b0cfa47fc49": {
      "model_module": "@jupyter-widgets/base",
      "model_module_version": "2.0.0",
      "model_name": "LayoutModel",
      "state": {
       "_model_module": "@jupyter-widgets/base",
       "_model_module_version": "2.0.0",
       "_model_name": "LayoutModel",
       "_view_count": null,
       "_view_module": "@jupyter-widgets/base",
       "_view_module_version": "2.0.0",
       "_view_name": "LayoutView",
       "align_content": null,
       "align_items": null,
       "align_self": null,
       "border_bottom": null,
       "border_left": null,
       "border_right": null,
       "border_top": null,
       "bottom": null,
       "display": null,
       "flex": null,
       "flex_flow": null,
       "grid_area": null,
       "grid_auto_columns": null,
       "grid_auto_flow": null,
       "grid_auto_rows": null,
       "grid_column": null,
       "grid_gap": null,
       "grid_row": null,
       "grid_template_areas": null,
       "grid_template_columns": null,
       "grid_template_rows": null,
       "height": null,
       "justify_content": null,
       "justify_items": null,
       "left": null,
       "margin": null,
       "max_height": null,
       "max_width": null,
       "min_height": null,
       "min_width": null,
       "object_fit": null,
       "object_position": null,
       "order": null,
       "overflow": null,
       "padding": null,
       "right": null,
       "top": null,
       "visibility": null,
       "width": null
      }
     },
     "e6b0f40a772f4cb78b9469e0a423579e": {
      "model_module": "@jupyter-widgets/base",
      "model_module_version": "2.0.0",
      "model_name": "LayoutModel",
      "state": {
       "_model_module": "@jupyter-widgets/base",
       "_model_module_version": "2.0.0",
       "_model_name": "LayoutModel",
       "_view_count": null,
       "_view_module": "@jupyter-widgets/base",
       "_view_module_version": "2.0.0",
       "_view_name": "LayoutView",
       "align_content": null,
       "align_items": null,
       "align_self": null,
       "border_bottom": null,
       "border_left": null,
       "border_right": null,
       "border_top": null,
       "bottom": null,
       "display": null,
       "flex": null,
       "flex_flow": null,
       "grid_area": null,
       "grid_auto_columns": null,
       "grid_auto_flow": null,
       "grid_auto_rows": null,
       "grid_column": null,
       "grid_gap": null,
       "grid_row": null,
       "grid_template_areas": null,
       "grid_template_columns": null,
       "grid_template_rows": null,
       "height": null,
       "justify_content": null,
       "justify_items": null,
       "left": null,
       "margin": null,
       "max_height": null,
       "max_width": null,
       "min_height": null,
       "min_width": null,
       "object_fit": null,
       "object_position": null,
       "order": null,
       "overflow": null,
       "padding": null,
       "right": null,
       "top": null,
       "visibility": null,
       "width": null
      }
     },
     "e767e6063a66450a8b6642a434e06316": {
      "model_module": "@jupyter-widgets/base",
      "model_module_version": "2.0.0",
      "model_name": "LayoutModel",
      "state": {
       "_model_module": "@jupyter-widgets/base",
       "_model_module_version": "2.0.0",
       "_model_name": "LayoutModel",
       "_view_count": null,
       "_view_module": "@jupyter-widgets/base",
       "_view_module_version": "2.0.0",
       "_view_name": "LayoutView",
       "align_content": null,
       "align_items": null,
       "align_self": null,
       "border_bottom": null,
       "border_left": null,
       "border_right": null,
       "border_top": null,
       "bottom": null,
       "display": null,
       "flex": null,
       "flex_flow": null,
       "grid_area": null,
       "grid_auto_columns": null,
       "grid_auto_flow": null,
       "grid_auto_rows": null,
       "grid_column": null,
       "grid_gap": null,
       "grid_row": null,
       "grid_template_areas": null,
       "grid_template_columns": null,
       "grid_template_rows": null,
       "height": null,
       "justify_content": null,
       "justify_items": null,
       "left": null,
       "margin": null,
       "max_height": null,
       "max_width": null,
       "min_height": null,
       "min_width": null,
       "object_fit": null,
       "object_position": null,
       "order": null,
       "overflow": null,
       "padding": null,
       "right": null,
       "top": null,
       "visibility": null,
       "width": null
      }
     },
     "ed07dd81bb3b4f50b752fbfd0da62e93": {
      "model_module": "@jupyter-widgets/base",
      "model_module_version": "2.0.0",
      "model_name": "LayoutModel",
      "state": {
       "_model_module": "@jupyter-widgets/base",
       "_model_module_version": "2.0.0",
       "_model_name": "LayoutModel",
       "_view_count": null,
       "_view_module": "@jupyter-widgets/base",
       "_view_module_version": "2.0.0",
       "_view_name": "LayoutView",
       "align_content": null,
       "align_items": null,
       "align_self": null,
       "border_bottom": null,
       "border_left": null,
       "border_right": null,
       "border_top": null,
       "bottom": null,
       "display": null,
       "flex": null,
       "flex_flow": null,
       "grid_area": null,
       "grid_auto_columns": null,
       "grid_auto_flow": null,
       "grid_auto_rows": null,
       "grid_column": null,
       "grid_gap": null,
       "grid_row": null,
       "grid_template_areas": null,
       "grid_template_columns": null,
       "grid_template_rows": null,
       "height": null,
       "justify_content": null,
       "justify_items": null,
       "left": null,
       "margin": null,
       "max_height": null,
       "max_width": null,
       "min_height": null,
       "min_width": null,
       "object_fit": null,
       "object_position": null,
       "order": null,
       "overflow": null,
       "padding": null,
       "right": null,
       "top": null,
       "visibility": null,
       "width": null
      }
     },
     "ed39af1e0dd943cfa8a929f287866a61": {
      "model_module": "@jupyter-widgets/controls",
      "model_module_version": "2.0.0",
      "model_name": "ProgressStyleModel",
      "state": {
       "_model_module": "@jupyter-widgets/controls",
       "_model_module_version": "2.0.0",
       "_model_name": "ProgressStyleModel",
       "_view_count": null,
       "_view_module": "@jupyter-widgets/base",
       "_view_module_version": "2.0.0",
       "_view_name": "StyleView",
       "bar_color": null,
       "description_width": ""
      }
     },
     "edc739dbb1ef460d93f95cee18a99ca0": {
      "model_module": "@jupyter-widgets/controls",
      "model_module_version": "2.0.0",
      "model_name": "HTMLModel",
      "state": {
       "_dom_classes": [],
       "_model_module": "@jupyter-widgets/controls",
       "_model_module_version": "2.0.0",
       "_model_name": "HTMLModel",
       "_view_count": null,
       "_view_module": "@jupyter-widgets/controls",
       "_view_module_version": "2.0.0",
       "_view_name": "HTMLView",
       "description": "",
       "description_allow_html": false,
       "layout": "IPY_MODEL_25e007f4d94e4822a023c987f5e2edf0",
       "placeholder": "​",
       "style": "IPY_MODEL_28ece750cf4049849130f6509a8c962c",
       "tabbable": null,
       "tooltip": null,
       "value": " 2910/2910 [00:02&lt;00:00, 1236.67 examples/s]"
      }
     },
     "efcbb1c8c1ac4fb38f1d0471ca26c104": {
      "model_module": "@jupyter-widgets/controls",
      "model_module_version": "2.0.0",
      "model_name": "HTMLModel",
      "state": {
       "_dom_classes": [],
       "_model_module": "@jupyter-widgets/controls",
       "_model_module_version": "2.0.0",
       "_model_name": "HTMLModel",
       "_view_count": null,
       "_view_module": "@jupyter-widgets/controls",
       "_view_module_version": "2.0.0",
       "_view_name": "HTMLView",
       "description": "",
       "description_allow_html": false,
       "layout": "IPY_MODEL_1c2fcdd79d1441da88415079bdbe2aed",
       "placeholder": "​",
       "style": "IPY_MODEL_39e9998162b747e8bb7421ac03522193",
       "tabbable": null,
       "tooltip": null,
       "value": "Loading checkpoint shards: 100%"
      }
     },
     "f04ad0c8d0af4f3a9f0c33c94ffa61b6": {
      "model_module": "@jupyter-widgets/controls",
      "model_module_version": "2.0.0",
      "model_name": "HBoxModel",
      "state": {
       "_dom_classes": [],
       "_model_module": "@jupyter-widgets/controls",
       "_model_module_version": "2.0.0",
       "_model_name": "HBoxModel",
       "_view_count": null,
       "_view_module": "@jupyter-widgets/controls",
       "_view_module_version": "2.0.0",
       "_view_name": "HBoxView",
       "box_style": "",
       "children": [
        "IPY_MODEL_88c2f5e3cad04685a56f4449dd2073f6",
        "IPY_MODEL_d7834b7c896f4c6b99d826fbeb01607e",
        "IPY_MODEL_0e3323971e634b99b79045edd76a420d"
       ],
       "layout": "IPY_MODEL_554828d568984443af4d8b6e102e401e",
       "tabbable": null,
       "tooltip": null
      }
     },
     "f1969a7095c94321a3621fd00689d70d": {
      "model_module": "@jupyter-widgets/controls",
      "model_module_version": "2.0.0",
      "model_name": "HTMLStyleModel",
      "state": {
       "_model_module": "@jupyter-widgets/controls",
       "_model_module_version": "2.0.0",
       "_model_name": "HTMLStyleModel",
       "_view_count": null,
       "_view_module": "@jupyter-widgets/base",
       "_view_module_version": "2.0.0",
       "_view_name": "StyleView",
       "background": null,
       "description_width": "",
       "font_size": null,
       "text_color": null
      }
     },
     "f1e0137e4bd44febac0c32bad8082be0": {
      "model_module": "@jupyter-widgets/controls",
      "model_module_version": "2.0.0",
      "model_name": "HTMLStyleModel",
      "state": {
       "_model_module": "@jupyter-widgets/controls",
       "_model_module_version": "2.0.0",
       "_model_name": "HTMLStyleModel",
       "_view_count": null,
       "_view_module": "@jupyter-widgets/base",
       "_view_module_version": "2.0.0",
       "_view_name": "StyleView",
       "background": null,
       "description_width": "",
       "font_size": null,
       "text_color": null
      }
     },
     "f57cf2e3ad4240bb8f697506f2d9de53": {
      "model_module": "@jupyter-widgets/base",
      "model_module_version": "2.0.0",
      "model_name": "LayoutModel",
      "state": {
       "_model_module": "@jupyter-widgets/base",
       "_model_module_version": "2.0.0",
       "_model_name": "LayoutModel",
       "_view_count": null,
       "_view_module": "@jupyter-widgets/base",
       "_view_module_version": "2.0.0",
       "_view_name": "LayoutView",
       "align_content": null,
       "align_items": null,
       "align_self": null,
       "border_bottom": null,
       "border_left": null,
       "border_right": null,
       "border_top": null,
       "bottom": null,
       "display": null,
       "flex": null,
       "flex_flow": null,
       "grid_area": null,
       "grid_auto_columns": null,
       "grid_auto_flow": null,
       "grid_auto_rows": null,
       "grid_column": null,
       "grid_gap": null,
       "grid_row": null,
       "grid_template_areas": null,
       "grid_template_columns": null,
       "grid_template_rows": null,
       "height": null,
       "justify_content": null,
       "justify_items": null,
       "left": null,
       "margin": null,
       "max_height": null,
       "max_width": null,
       "min_height": null,
       "min_width": null,
       "object_fit": null,
       "object_position": null,
       "order": null,
       "overflow": null,
       "padding": null,
       "right": null,
       "top": null,
       "visibility": null,
       "width": null
      }
     },
     "f60a30cf024d49dca53befb50d78f081": {
      "model_module": "@jupyter-widgets/controls",
      "model_module_version": "2.0.0",
      "model_name": "HTMLStyleModel",
      "state": {
       "_model_module": "@jupyter-widgets/controls",
       "_model_module_version": "2.0.0",
       "_model_name": "HTMLStyleModel",
       "_view_count": null,
       "_view_module": "@jupyter-widgets/base",
       "_view_module_version": "2.0.0",
       "_view_name": "StyleView",
       "background": null,
       "description_width": "",
       "font_size": null,
       "text_color": null
      }
     },
     "f6a39a067abf43f9a2abbfbc0e59975f": {
      "model_module": "@jupyter-widgets/controls",
      "model_module_version": "2.0.0",
      "model_name": "FloatProgressModel",
      "state": {
       "_dom_classes": [],
       "_model_module": "@jupyter-widgets/controls",
       "_model_module_version": "2.0.0",
       "_model_name": "FloatProgressModel",
       "_view_count": null,
       "_view_module": "@jupyter-widgets/controls",
       "_view_module_version": "2.0.0",
       "_view_name": "ProgressView",
       "bar_style": "success",
       "description": "",
       "description_allow_html": false,
       "layout": "IPY_MODEL_5bd9746c2462442891a4a70e2667a849",
       "max": 1460,
       "min": 0,
       "orientation": "horizontal",
       "style": "IPY_MODEL_6402246fea5b450a87bedaddf3c38d51",
       "tabbable": null,
       "tooltip": null,
       "value": 1460
      }
     },
     "f7861fbdddaa4c40a49b95b1f784981c": {
      "model_module": "@jupyter-widgets/controls",
      "model_module_version": "2.0.0",
      "model_name": "HBoxModel",
      "state": {
       "_dom_classes": [],
       "_model_module": "@jupyter-widgets/controls",
       "_model_module_version": "2.0.0",
       "_model_name": "HBoxModel",
       "_view_count": null,
       "_view_module": "@jupyter-widgets/controls",
       "_view_module_version": "2.0.0",
       "_view_name": "HBoxView",
       "box_style": "",
       "children": [
        "IPY_MODEL_efcbb1c8c1ac4fb38f1d0471ca26c104",
        "IPY_MODEL_a10b0678e3ad400595880d6553919c44",
        "IPY_MODEL_d8acac6d3d4e4590b084574ddb2fdd01"
       ],
       "layout": "IPY_MODEL_e767e6063a66450a8b6642a434e06316",
       "tabbable": null,
       "tooltip": null
      }
     },
     "faf37738139a447697fc0590720130ab": {
      "model_module": "@jupyter-widgets/controls",
      "model_module_version": "2.0.0",
      "model_name": "ProgressStyleModel",
      "state": {
       "_model_module": "@jupyter-widgets/controls",
       "_model_module_version": "2.0.0",
       "_model_name": "ProgressStyleModel",
       "_view_count": null,
       "_view_module": "@jupyter-widgets/base",
       "_view_module_version": "2.0.0",
       "_view_name": "StyleView",
       "bar_color": null,
       "description_width": ""
      }
     },
     "fd1f2457928b4be3934cc24f3e5456cf": {
      "model_module": "@jupyter-widgets/controls",
      "model_module_version": "2.0.0",
      "model_name": "HBoxModel",
      "state": {
       "_dom_classes": [],
       "_model_module": "@jupyter-widgets/controls",
       "_model_module_version": "2.0.0",
       "_model_name": "HBoxModel",
       "_view_count": null,
       "_view_module": "@jupyter-widgets/controls",
       "_view_module_version": "2.0.0",
       "_view_name": "HBoxView",
       "box_style": "",
       "children": [
        "IPY_MODEL_db2d006bb2e04652bce2b2b6812d2b20",
        "IPY_MODEL_8c82176bf0c743188cd4c93537f40182",
        "IPY_MODEL_b6cdc1901b0249feae42981284b1048f"
       ],
       "layout": "IPY_MODEL_d1e48335b4b54c489b3239be99284090",
       "tabbable": null,
       "tooltip": null
      }
     }
    },
    "version_major": 2,
    "version_minor": 0
   }
  }
 },
 "nbformat": 4,
 "nbformat_minor": 0
}
