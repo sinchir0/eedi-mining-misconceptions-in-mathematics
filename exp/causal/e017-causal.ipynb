{
 "cells": [
  {
   "cell_type": "markdown",
   "metadata": {
    "id": "fzT66iezisGu"
   },
   "source": [
    "# 目的\n",
    "apply_chat_templateを使うテスト\n",
    "\n",
    "ref: \n",
    "- https://github.com/unslothai/unsloth\n",
    "- https://colab.research.google.com/drive/1vIrqH5uYDQwsJ4-OO3DErvuv4pBgVwk4?usp=sharing#scrollTo=6bZsfBuZDeCL\n",
    "- https://huggingface.co/blog/mlabonne/sft-llama3\n",
    "- https://huggingface.co/docs/trl/sft_trainer#accelerate-fine-tuning-2x-using-unsloth"
   ]
  },
  {
   "cell_type": "code",
   "execution_count": 1,
   "metadata": {
    "execution": {
     "iopub.execute_input": "2024-10-12T07:46:00.923398Z",
     "iopub.status.busy": "2024-10-12T07:46:00.923033Z",
     "iopub.status.idle": "2024-10-12T07:46:00.939332Z",
     "shell.execute_reply": "2024-10-12T07:46:00.938335Z"
    }
   },
   "outputs": [],
   "source": [
    "# pip install \"unsloth[cu121-torch230] @ git+https://github.com/unslothai/unsloth.git\"\n",
    "# -> だめ\n",
    "\n",
    "# pip uninstall torch\n",
    "# pip install torch torchvision torchaudio --index-url https://download.pytorch.org/whl/cu121\n",
    "# pip install \"unsloth[cu121-torch240] @ git+https://github.com/unslothai/unsloth.git\"\n",
    "# -> OK"
   ]
  },
  {
   "cell_type": "code",
   "execution_count": 2,
   "metadata": {
    "execution": {
     "iopub.execute_input": "2024-10-12T07:46:00.943744Z",
     "iopub.status.busy": "2024-10-12T07:46:00.943404Z",
     "iopub.status.idle": "2024-10-12T07:46:00.952812Z",
     "shell.execute_reply": "2024-10-12T07:46:00.951734Z"
    },
    "id": "v7YkHHYsisGw",
    "tags": []
   },
   "outputs": [],
   "source": [
    "# path setting\n",
    "EXP_NAME = \"e017-causal\"\n",
    "# MODEL_NAME = \"unsloth/gemma-2-9b-it-bnb-4bit\"\n",
    "MODEL_NAME = \"unsloth/Meta-Llama-3.1-8B-Instruct-bnb-4bit\"\n",
    "COMPETITION_NAME = \"eedi-mining-misconceptions-in-mathematics\"\n",
    "\n",
    "DATA_PATH = \"data\"\n",
    "DATASET_NAME = f\"{EXP_NAME}-{MODEL_NAME.split('/')[-1].replace('.', '-')}\"\n",
    "OUTPUT_PATH = f\"output/causal/{EXP_NAME}\"\n",
    "MODEL_OUTPUT_PATH = f\"{OUTPUT_PATH}/trained_model\"\n",
    "ENV_PATH = \"env_file\"\n",
    "\n",
    "# experiment parameter\n",
    "DEBUG = False\n",
    "TRAINING = True\n",
    "UPLOAD_DATA_TO_S3 = True\n",
    "UPLOAD_DATA_TO_KAGGLE = True\n",
    "REMOVE_LOCAL_FILE = False\n",
    "WANDB = True\n",
    "\n",
    "# USE_FOLD = 0\n",
    "# USE_DATA_RATE = 1.0\n",
    "# VALID_DATA_SIZE = 3000\n",
    "\n",
    "# model parameter\n",
    "TRAINING_MAX_LENGTH = 512\n",
    "SEED = 42\n",
    "EPOCH = 5\n",
    "LR = 2e-04\n",
    "TRAIN_BS = 1  # 2  # 4  # 16\n",
    "GRAD_ACC_STEP = 128 // TRAIN_BS  # 仮想的なバッチサイズはTRAIN_BS * GRAD_ACC_STEPとなる\n",
    "EVAL_BS = 1  # 2  # 4  # 16\n",
    "# NUM_LABELS = 3\n",
    "\n",
    "FREEZE_LAYERS = 16\n",
    "\n",
    "# rola parameter\n",
    "LORA_R = 16\n",
    "LORA_ALPHA = LORA_R * 2\n",
    "LORA_BIAS = \"none\"\n",
    "\n",
    "RESUME_FROM_CHECKPOINT = False  # 途中から再開する場合はTrueにする"
   ]
  },
  {
   "cell_type": "code",
   "execution_count": 3,
   "metadata": {
    "colab": {
     "base_uri": "https://localhost:8080/"
    },
    "execution": {
     "iopub.execute_input": "2024-10-12T07:46:00.957143Z",
     "iopub.status.busy": "2024-10-12T07:46:00.956802Z",
     "iopub.status.idle": "2024-10-12T07:46:01.371703Z",
     "shell.execute_reply": "2024-10-12T07:46:01.370362Z"
    },
    "id": "k-1rTdTmisGy",
    "outputId": "325e68ee-4d23-4a14-ff44-df1acc833ad3",
    "tags": []
   },
   "outputs": [
    {
     "name": "stdout",
     "output_type": "stream",
     "text": [
      "Sun Oct 13 05:48:01 2024       \n",
      "+---------------------------------------------------------------------------------------+\n",
      "| NVIDIA-SMI 535.154.05             Driver Version: 535.154.05   CUDA Version: 12.2     |\n",
      "|-----------------------------------------+----------------------+----------------------+\n",
      "| GPU  Name                 Persistence-M | Bus-Id        Disp.A | Volatile Uncorr. ECC |\n",
      "| Fan  Temp   Perf          Pwr:Usage/Cap |         Memory-Usage | GPU-Util  Compute M. |\n",
      "|                                         |                      |               MIG M. |\n",
      "|=========================================+======================+======================|\n",
      "|   0  Tesla V100-PCIE-16GB           On  | 00000000:25:00.0 Off |                    0 |\n",
      "| N/A   21C    P0              25W / 250W |      0MiB / 16384MiB |      0%      Default |\n",
      "|                                         |                      |                  N/A |\n",
      "+-----------------------------------------+----------------------+----------------------+\n",
      "                                                                                         \n",
      "+---------------------------------------------------------------------------------------+\n",
      "| Processes:                                                                            |\n",
      "|  GPU   GI   CI        PID   Type   Process name                            GPU Memory |\n",
      "|        ID   ID                                                             Usage      |\n",
      "|=======================================================================================|\n",
      "|  No running processes found                                                           |\n",
      "+---------------------------------------------------------------------------------------+\n"
     ]
    }
   ],
   "source": [
    "!nvidia-smi"
   ]
  },
  {
   "cell_type": "code",
   "execution_count": 4,
   "metadata": {
    "colab": {
     "base_uri": "https://localhost:8080/"
    },
    "execution": {
     "iopub.execute_input": "2024-10-12T07:46:01.376873Z",
     "iopub.status.busy": "2024-10-12T07:46:01.376472Z",
     "iopub.status.idle": "2024-10-12T07:46:01.660716Z",
     "shell.execute_reply": "2024-10-12T07:46:01.659741Z"
    },
    "id": "xdIcXQzqisGz",
    "outputId": "9de0ed12-bdfb-4fb2-c5b1-c6114afff122",
    "tags": []
   },
   "outputs": [
    {
     "name": "stdout",
     "output_type": "stream",
     "text": [
      "Python 3.10.14\n"
     ]
    }
   ],
   "source": [
    "!python --version"
   ]
  },
  {
   "cell_type": "code",
   "execution_count": 5,
   "metadata": {
    "colab": {
     "base_uri": "https://localhost:8080/"
    },
    "execution": {
     "iopub.execute_input": "2024-10-12T07:46:01.664591Z",
     "iopub.status.busy": "2024-10-12T07:46:01.664413Z",
     "iopub.status.idle": "2024-10-12T07:46:01.671863Z",
     "shell.execute_reply": "2024-10-12T07:46:01.671007Z"
    },
    "id": "YeHMykyGisG0",
    "outputId": "7c447bf6-7758-40eb-aaee-4b35037d5567",
    "tags": []
   },
   "outputs": [
    {
     "name": "stdout",
     "output_type": "stream",
     "text": [
      "/root/eedi-mining-misconceptions-in-mathematics/exp/causal\n",
      "VastAi! Causal\n",
      "../../data\n",
      "/root/eedi-mining-misconceptions-in-mathematics/exp/causal\n",
      "VastAi! Causal\n",
      "../../output/causal/e017-causal\n",
      "/root/eedi-mining-misconceptions-in-mathematics/exp/causal\n",
      "VastAi! Causal\n",
      "../../output/causal/e017-causal/trained_model\n",
      "/root/eedi-mining-misconceptions-in-mathematics/exp/causal\n",
      "VastAi! Causal\n",
      "../../env_file\n"
     ]
    }
   ],
   "source": [
    "def resolve_path(base_path: str) -> str:\n",
    "    import os\n",
    "\n",
    "    cwd = os.getcwd()\n",
    "    print(cwd)\n",
    "    if cwd == f\"/notebooks\":\n",
    "        print(\"Jupyter Kernel By VSCode!\")\n",
    "        return f\"/notebooks/{COMPETITION_NAME}/{base_path}\"\n",
    "    elif cwd == f\"/notebooks/{COMPETITION_NAME}\":\n",
    "        print(\"nohup!\")\n",
    "        return base_path\n",
    "    elif cwd == f\"/notebooks/{COMPETITION_NAME}/{COMPETITION_NAME}/exp\":\n",
    "        print(\"Jupyter Lab!\")\n",
    "        return f\"../../{base_path}\"\n",
    "    elif cwd == f\"/root/{COMPETITION_NAME}/exp/reranker\":\n",
    "        print(\"VastAi! Reranker\")\n",
    "        return f\"../../{base_path}\"\n",
    "    elif cwd == f\"/root/{COMPETITION_NAME}/exp/retriever\":\n",
    "        print(\"VastAi! Retriever\")\n",
    "        return f\"../../{base_path}\"\n",
    "    elif cwd == f\"/root/{COMPETITION_NAME}/exp/causal\":\n",
    "        print(\"VastAi! Causal\")\n",
    "        return f\"../../{base_path}\"\n",
    "    elif cwd == f\"/root/{COMPETITION_NAME}\":\n",
    "        print(\"VastAi!\")\n",
    "        return base_path\n",
    "    else:\n",
    "        raise Exception(\"Unknown environment\")\n",
    "\n",
    "\n",
    "DATA_PATH = resolve_path(DATA_PATH)\n",
    "print(DATA_PATH)\n",
    "OUTPUT_PATH = resolve_path(OUTPUT_PATH)\n",
    "print(OUTPUT_PATH)\n",
    "MODEL_OUTPUT_PATH = resolve_path(MODEL_OUTPUT_PATH)\n",
    "print(MODEL_OUTPUT_PATH)\n",
    "ENV_PATH = resolve_path(ENV_PATH)\n",
    "print(ENV_PATH)"
   ]
  },
  {
   "cell_type": "code",
   "execution_count": 6,
   "metadata": {
    "autoscroll": "auto",
    "collapsed": false,
    "execution": {
     "iopub.execute_input": "2024-10-12T07:46:01.675299Z",
     "iopub.status.busy": "2024-10-12T07:46:01.675057Z",
     "iopub.status.idle": "2024-10-12T07:46:01.679180Z",
     "shell.execute_reply": "2024-10-12T07:46:01.678446Z"
    },
    "id": "E78wS3ypisG0",
    "tags": []
   },
   "outputs": [],
   "source": [
    "def validate_dataset_name(dataset_name: str) -> None:\n",
    "    if len(dataset_name) < 6 or len(dataset_name) > 50:\n",
    "        raise Exception(\n",
    "            f\"データセットの文字列は6~50文字にしてください。現在{len(DATASET_NAME)}文字\"\n",
    "        )\n",
    "    if \"_\" in dataset_name or \".\" in dataset_name:\n",
    "        raise Exception(\"datasetの名称に'_'、'.'の使用は禁止です\")\n",
    "\n",
    "\n",
    "validate_dataset_name(DATASET_NAME)"
   ]
  },
  {
   "cell_type": "markdown",
   "metadata": {
    "id": "j3uVqXs-isG1"
   },
   "source": [
    "# import"
   ]
  },
  {
   "cell_type": "code",
   "execution_count": 7,
   "metadata": {
    "autoscroll": "auto",
    "collapsed": false,
    "execution": {
     "iopub.execute_input": "2024-10-12T07:46:01.682844Z",
     "iopub.status.busy": "2024-10-12T07:46:01.682584Z",
     "iopub.status.idle": "2024-10-12T07:46:07.309163Z",
     "shell.execute_reply": "2024-10-12T07:46:07.308108Z"
    }
   },
   "outputs": [
    {
     "name": "stdout",
     "output_type": "stream",
     "text": [
      "🦥 Unsloth: Will patch your computer to enable 2x faster free finetuning.\n"
     ]
    }
   ],
   "source": [
    "import os\n",
    "import random\n",
    "\n",
    "import polars as pl\n",
    "import numpy as np\n",
    "\n",
    "import wandb\n",
    "\n",
    "import torch\n",
    "from datasets import Dataset\n",
    "from transformers import TrainingArguments\n",
    "\n",
    "from trl import SFTTrainer\n",
    "from unsloth import FastLanguageModel, is_bfloat16_supported"
   ]
  },
  {
   "cell_type": "code",
   "execution_count": 8,
   "metadata": {
    "execution": {
     "iopub.execute_input": "2024-10-12T07:46:07.313244Z",
     "iopub.status.busy": "2024-10-12T07:46:07.312898Z",
     "iopub.status.idle": "2024-10-12T07:46:07.317076Z",
     "shell.execute_reply": "2024-10-12T07:46:07.316213Z"
    },
    "id": "fLkGFO2PisG1",
    "tags": []
   },
   "outputs": [],
   "source": [
    "os.environ[\"TOKENIZERS_PARALLELISM\"] = \"true\"\n",
    "NUM_PROC = 16  # os.cpu_count()"
   ]
  },
  {
   "cell_type": "code",
   "execution_count": 9,
   "metadata": {
    "execution": {
     "iopub.execute_input": "2024-10-12T07:46:07.320888Z",
     "iopub.status.busy": "2024-10-12T07:46:07.320676Z",
     "iopub.status.idle": "2024-10-12T07:46:07.324758Z",
     "shell.execute_reply": "2024-10-12T07:46:07.323915Z"
    }
   },
   "outputs": [],
   "source": [
    "import torch\n",
    "import transformers\n",
    "import datasets\n",
    "import trl\n",
    "\n",
    "assert torch.__version__ == \"2.4.0+cu121\"\n",
    "assert transformers.__version__ == \"4.44.2\"\n",
    "assert datasets.__version__ == \"3.0.0\"\n",
    "assert trl.__version__ == \"0.11.1\""
   ]
  },
  {
   "cell_type": "code",
   "execution_count": 10,
   "metadata": {
    "execution": {
     "iopub.execute_input": "2024-10-12T07:46:07.328584Z",
     "iopub.status.busy": "2024-10-12T07:46:07.328024Z",
     "iopub.status.idle": "2024-10-12T07:46:07.333584Z",
     "shell.execute_reply": "2024-10-12T07:46:07.332755Z"
    },
    "id": "o3ZVc72wisG2",
    "tags": []
   },
   "outputs": [],
   "source": [
    "# Seed the same seed to all\n",
    "def seed_everything(seed: int):\n",
    "    random.seed(seed)\n",
    "    os.environ[\"PYTHONHASHSEED\"] = str(seed)\n",
    "    np.random.seed(seed)\n",
    "    torch.manual_seed(seed)\n",
    "    torch.cuda.manual_seed(seed)\n",
    "    torch.backends.cudnn.deterministic = True\n",
    "    torch.backends.cudnn.benchmark = True\n",
    "\n",
    "\n",
    "seed_everything(SEED)"
   ]
  },
  {
   "cell_type": "code",
   "execution_count": 11,
   "metadata": {
    "autoscroll": "auto",
    "colab": {
     "base_uri": "https://localhost:8080/"
    },
    "collapsed": false,
    "execution": {
     "iopub.execute_input": "2024-10-12T07:46:07.337054Z",
     "iopub.status.busy": "2024-10-12T07:46:07.336890Z",
     "iopub.status.idle": "2024-10-12T07:46:07.348096Z",
     "shell.execute_reply": "2024-10-12T07:46:07.347353Z"
    },
    "id": "8-7WkHGUisG2",
    "jupyter": {
     "outputs_hidden": false
    },
    "outputId": "e8711fa2-cd7f-4291-e280-0915341f5efc",
    "tags": []
   },
   "outputs": [
    {
     "data": {
      "text/plain": [
       "True"
      ]
     },
     "execution_count": 11,
     "metadata": {},
     "output_type": "execute_result"
    }
   ],
   "source": [
    "from dotenv import load_dotenv\n",
    "\n",
    "load_dotenv(f\"{ENV_PATH}/.env\")"
   ]
  },
  {
   "cell_type": "markdown",
   "metadata": {
    "id": "ohXfhbqXisG2"
   },
   "source": [
    "# Wandb"
   ]
  },
  {
   "cell_type": "code",
   "execution_count": 12,
   "metadata": {
    "autoscroll": "auto",
    "colab": {
     "base_uri": "https://localhost:8080/",
     "height": 197
    },
    "collapsed": false,
    "execution": {
     "iopub.execute_input": "2024-10-12T07:46:07.404215Z",
     "iopub.status.busy": "2024-10-12T07:46:07.403986Z",
     "iopub.status.idle": "2024-10-12T07:46:08.823911Z",
     "shell.execute_reply": "2024-10-12T07:46:08.823159Z"
    },
    "id": "KGR9aE2YisG2",
    "jupyter": {
     "outputs_hidden": false
    },
    "outputId": "95031754-538e-4af9-efc0-dec4d85afaf1"
   },
   "outputs": [
    {
     "data": {
      "text/plain": [
       "'wandb'"
      ]
     },
     "execution_count": 12,
     "metadata": {},
     "output_type": "execute_result"
    }
   ],
   "source": [
    "if WANDB:\n",
    "    wandb.login(key=os.environ[\"WANDB_API_KEY\"])\n",
    "    wandb.init(project=COMPETITION_NAME, name=EXP_NAME)\n",
    "    REPORT_TO = \"wandb\"\n",
    "else:\n",
    "    REPORT_TO = \"none\"\n",
    "\n",
    "REPORT_TO"
   ]
  },
  {
   "cell_type": "markdown",
   "metadata": {},
   "source": [
    "# Model Tokenizer Load"
   ]
  },
  {
   "cell_type": "code",
   "execution_count": 13,
   "metadata": {
    "autoscroll": "auto",
    "collapsed": false,
    "execution": {
     "iopub.execute_input": "2024-10-12T07:46:08.827898Z",
     "iopub.status.busy": "2024-10-12T07:46:08.827719Z",
     "iopub.status.idle": "2024-10-12T07:46:18.678169Z",
     "shell.execute_reply": "2024-10-12T07:46:18.677161Z"
    }
   },
   "outputs": [],
   "source": [
    "model, tokenizer = FastLanguageModel.from_pretrained(\n",
    "    model_name=MODEL_NAME,\n",
    "    max_seq_length=TRAINING_MAX_LENGTH,\n",
    "    dtype=None,\n",
    "    load_in_4bit=True,\n",
    ")"
   ]
  },
  {
   "cell_type": "code",
   "execution_count": 14,
   "metadata": {
    "execution": {
     "iopub.execute_input": "2024-10-12T07:46:18.681757Z",
     "iopub.status.busy": "2024-10-12T07:46:18.681577Z",
     "iopub.status.idle": "2024-10-12T07:46:18.685087Z",
     "shell.execute_reply": "2024-10-12T07:46:18.684356Z"
    }
   },
   "outputs": [],
   "source": [
    "# https://www.kaggle.com/code/kishanvavdara/lmsys-llama-3-tpu-train\n",
    "# tokenizer.padding_side = \"right\""
   ]
  },
  {
   "cell_type": "code",
   "execution_count": 15,
   "metadata": {
    "execution": {
     "iopub.execute_input": "2024-10-12T07:46:18.688947Z",
     "iopub.status.busy": "2024-10-12T07:46:18.688367Z",
     "iopub.status.idle": "2024-10-12T07:46:20.747762Z",
     "shell.execute_reply": "2024-10-12T07:46:20.746553Z"
    }
   },
   "outputs": [],
   "source": [
    "from datasets import load_dataset\n",
    "\n",
    "dataset = load_dataset(\"mlabonne/FineTome-100k\", split=\"train\")"
   ]
  },
  {
   "cell_type": "code",
   "execution_count": 16,
   "metadata": {
    "autoscroll": "auto",
    "collapsed": false,
    "execution": {
     "iopub.execute_input": "2024-10-12T07:46:20.752556Z",
     "iopub.status.busy": "2024-10-12T07:46:20.752187Z",
     "iopub.status.idle": "2024-10-12T07:46:20.760264Z",
     "shell.execute_reply": "2024-10-12T07:46:20.759285Z"
    }
   },
   "outputs": [
    {
     "data": {
      "text/plain": [
       "[{'from': 'human',\n",
       "  'value': 'Explain what boolean operators are, what they do, and provide examples of how they can be used in programming. Additionally, describe the concept of operator precedence and provide examples of how it affects the evaluation of boolean expressions. Discuss the difference between short-circuit evaluation and normal evaluation in boolean expressions and demonstrate their usage in code. \\n\\nFurthermore, add the requirement that the code must be written in a language that does not support short-circuit evaluation natively, forcing the test taker to implement their own logic for short-circuit evaluation.\\n\\nFinally, delve into the concept of truthiness and falsiness in programming languages, explaining how it affects the evaluation of boolean expressions. Add the constraint that the test taker must write code that handles cases where truthiness and falsiness are implemented differently across different programming languages.'},\n",
       " {'from': 'gpt',\n",
       "  'value': 'Boolean operators are logical operators used in programming to manipulate boolean values. They operate on one or more boolean operands and return a boolean result. The three main boolean operators are \"AND\" (&&), \"OR\" (||), and \"NOT\" (!).\\n\\nThe \"AND\" operator returns true if both of its operands are true, and false otherwise. For example:\\n\\n```python\\nx = 5\\ny = 10\\nresult = (x > 0) and (y < 20)  # This expression evaluates to True\\n```\\n\\nThe \"OR\" operator returns true if at least one of its operands is true, and false otherwise. For example:\\n\\n```python\\nx = 5\\ny = 10\\nresult = (x > 0) or (y < 20)  # This expression evaluates to True\\n```\\n\\nThe \"NOT\" operator negates the boolean value of its operand. It returns true if the operand is false, and false if the operand is true. For example:\\n\\n```python\\nx = 5\\nresult = not (x > 10)  # This expression evaluates to True\\n```\\n\\nOperator precedence refers to the order in which operators are evaluated in an expression. It ensures that expressions are evaluated correctly. In most programming languages, logical AND has higher precedence than logical OR. For example:\\n\\n```python\\nresult = True or False and False  # This expression is evaluated as (True or (False and False)), which is True\\n```\\n\\nShort-circuit evaluation is a behavior where the second operand of a logical operator is not evaluated if the result can be determined based on the value of the first operand. In short-circuit evaluation, if the first operand of an \"AND\" operator is false, the second operand is not evaluated because the result will always be false. Similarly, if the first operand of an \"OR\" operator is true, the second operand is not evaluated because the result will always be true.\\n\\nIn programming languages that support short-circuit evaluation natively, you can use it to improve performance or avoid errors. For example:\\n\\n```python\\nif x != 0 and (y / x) > 10:\\n    # Perform some operation\\n```\\n\\nIn languages without native short-circuit evaluation, you can implement your own logic to achieve the same behavior. Here\\'s an example in pseudocode:\\n\\n```\\nif x != 0 {\\n    if (y / x) > 10 {\\n        // Perform some operation\\n    }\\n}\\n```\\n\\nTruthiness and falsiness refer to how non-boolean values are evaluated in boolean contexts. In many programming languages, non-zero numbers and non-empty strings are considered truthy, while zero, empty strings, and null/None values are considered falsy.\\n\\nWhen evaluating boolean expressions, truthiness and falsiness come into play. For example:\\n\\n```python\\nx = 5\\nresult = x  # The value of x is truthy, so result is also truthy\\n```\\n\\nTo handle cases where truthiness and falsiness are implemented differently across programming languages, you can explicitly check the desired condition. For example:\\n\\n```python\\nx = 5\\nresult = bool(x)  # Explicitly converting x to a boolean value\\n```\\n\\nThis ensures that the result is always a boolean value, regardless of the language\\'s truthiness and falsiness rules.'}]"
      ]
     },
     "execution_count": 16,
     "metadata": {},
     "output_type": "execute_result"
    }
   ],
   "source": [
    "dataset[0][\"conversations\"]"
   ]
  },
  {
   "cell_type": "code",
   "execution_count": 17,
   "metadata": {
    "autoscroll": "auto",
    "collapsed": false,
    "execution": {
     "iopub.execute_input": "2024-10-12T07:46:20.764851Z",
     "iopub.status.busy": "2024-10-12T07:46:20.764097Z",
     "iopub.status.idle": "2024-10-12T07:46:20.772215Z",
     "shell.execute_reply": "2024-10-12T07:46:20.770776Z"
    }
   },
   "outputs": [],
   "source": [
    "messages = [\n",
    "    {\n",
    "        \"role\": \"system\",\n",
    "        \"content\": \"A chat between a curious user and an artificial intelligence assistant. The assistant gives helpful, detailed, and polite answers to the user's questions.\",\n",
    "    },\n",
    "    {\"role\": \"user\", \"content\": \"Who are you?\"},\n",
    "]\n",
    "\n",
    "print(\n",
    "    tokenizer.apply_chat_template(messages, tokenize=False, add_generation_prompt=True)\n",
    ")"
   ]
  },
  {
   "cell_type": "code",
   "execution_count": 18,
   "metadata": {
    "autoscroll": "auto",
    "collapsed": false,
    "execution": {
     "iopub.execute_input": "2024-10-12T07:46:20.776229Z",
     "iopub.status.busy": "2024-10-12T07:46:20.775877Z",
     "iopub.status.idle": "2024-10-12T07:46:20.781954Z",
     "shell.execute_reply": "2024-10-12T07:46:20.780933Z"
    }
   },
   "outputs": [],
   "source": [
    "print(\n",
    "    tokenizer.apply_chat_template(messages, tokenize=False, add_generation_prompt=False)\n",
    ")"
   ]
  },
  {
   "cell_type": "markdown",
   "metadata": {
    "id": "xxyhkSG4isG2"
   },
   "source": [
    "# Data Import & Preprocess"
   ]
  },
  {
   "cell_type": "code",
   "execution_count": 19,
   "metadata": {
    "execution": {
     "iopub.execute_input": "2024-10-12T07:46:20.786348Z",
     "iopub.status.busy": "2024-10-12T07:46:20.785621Z",
     "iopub.status.idle": "2024-10-12T07:46:20.818582Z",
     "shell.execute_reply": "2024-10-12T07:46:20.817532Z"
    },
    "id": "JlTiKm6TisG2"
   },
   "outputs": [],
   "source": [
    "train_long = pl.read_csv(f\"{DATA_PATH}/train_long.csv\").filter(\n",
    "    (pl.col(\"CorrectAnswer\") != pl.col(\"AnswerAlphabet\"))\n",
    "    & (pl.col(\"MisconceptionId\").is_not_null())\n",
    ")"
   ]
  },
  {
   "cell_type": "code",
   "execution_count": 20,
   "metadata": {
    "execution": {
     "iopub.execute_input": "2024-10-12T07:46:20.822563Z",
     "iopub.status.busy": "2024-10-12T07:46:20.822202Z",
     "iopub.status.idle": "2024-10-12T07:46:20.826921Z",
     "shell.execute_reply": "2024-10-12T07:46:20.825935Z"
    },
    "id": "6nkbuZVjisG3"
   },
   "outputs": [],
   "source": [
    "if DEBUG:\n",
    "    train_long = train_long.head(100)"
   ]
  },
  {
   "cell_type": "code",
   "execution_count": 21,
   "metadata": {
    "autoscroll": "auto",
    "collapsed": false,
    "execution": {
     "iopub.execute_input": "2024-10-12T07:46:20.830762Z",
     "iopub.status.busy": "2024-10-12T07:46:20.830411Z",
     "iopub.status.idle": "2024-10-12T07:46:20.841431Z",
     "shell.execute_reply": "2024-10-12T07:46:20.840428Z"
    }
   },
   "outputs": [
    {
     "data": {
      "text/html": [
       "<div><style>\n",
       ".dataframe > thead > tr,\n",
       ".dataframe > tbody > tr {\n",
       "  text-align: right;\n",
       "  white-space: pre-wrap;\n",
       "}\n",
       "</style>\n",
       "<small>shape: (4_370, 13)</small><table border=\"1\" class=\"dataframe\"><thead><tr><th>QuestionId</th><th>ConstructName</th><th>SubjectName</th><th>QuestionText</th><th>CorrectAnswer</th><th>CorrectAnswerText</th><th>AnswerType</th><th>AnswerText</th><th>AllText</th><th>AnswerAlphabet</th><th>QuestionId_Answer</th><th>MisconceptionId</th><th>MisconceptionName</th></tr><tr><td>i64</td><td>str</td><td>str</td><td>str</td><td>str</td><td>str</td><td>str</td><td>str</td><td>str</td><td>str</td><td>str</td><td>i64</td><td>str</td></tr></thead><tbody><tr><td>0</td><td>&quot;Use the order of operations to…</td><td>&quot;BIDMAS&quot;</td><td>&quot;\\[\n",
       "3 \\times 2+4-5\n",
       "\\]\n",
       "Where do …</td><td>&quot;A&quot;</td><td>&quot;\\( 3 \\times(2+4)-5 \\)&quot;</td><td>&quot;AnswerDText&quot;</td><td>&quot;Does not need brackets&quot;</td><td>&quot;Use the order of operations to…</td><td>&quot;D&quot;</td><td>&quot;0_D&quot;</td><td>1672</td><td>&quot;Confuses the order of operatio…</td></tr><tr><td>1000</td><td>&quot;Simplify an algebraic fraction…</td><td>&quot;Simplifying Algebraic Fraction…</td><td>&quot;Simplify the following, if pos…</td><td>&quot;B&quot;</td><td>&quot;\\( -1 \\)&quot;</td><td>&quot;AnswerAText&quot;</td><td>&quot;\\( t \\)&quot;</td><td>&quot;Simplify an algebraic fraction…</td><td>&quot;A&quot;</td><td>&quot;1000_A&quot;</td><td>891</td><td>&quot;Incorrectly cancels what they …</td></tr><tr><td>1000</td><td>&quot;Simplify an algebraic fraction…</td><td>&quot;Simplifying Algebraic Fraction…</td><td>&quot;Simplify the following, if pos…</td><td>&quot;B&quot;</td><td>&quot;\\( -1 \\)&quot;</td><td>&quot;AnswerCText&quot;</td><td>&quot;\\( 1 \\)&quot;</td><td>&quot;Simplify an algebraic fraction…</td><td>&quot;C&quot;</td><td>&quot;1000_C&quot;</td><td>891</td><td>&quot;Incorrectly cancels what they …</td></tr><tr><td>1000</td><td>&quot;Simplify an algebraic fraction…</td><td>&quot;Simplifying Algebraic Fraction…</td><td>&quot;Simplify the following, if pos…</td><td>&quot;B&quot;</td><td>&quot;\\( -1 \\)&quot;</td><td>&quot;AnswerDText&quot;</td><td>&quot;Does not simplify&quot;</td><td>&quot;Simplify an algebraic fraction…</td><td>&quot;D&quot;</td><td>&quot;1000_D&quot;</td><td>353</td><td>&quot;Does not recognise when one pa…</td></tr><tr><td>1001</td><td>&quot;Round numbers to two decimal p…</td><td>&quot;Rounding to Decimal Places&quot;</td><td>&quot;What is \\( \\mathbf{3 . 5 1 6 3…</td><td>&quot;B&quot;</td><td>&quot;\\( 3.52 \\)&quot;</td><td>&quot;AnswerAText&quot;</td><td>&quot;\\( 3.51 \\)&quot;</td><td>&quot;Round numbers to two decimal p…</td><td>&quot;A&quot;</td><td>&quot;1001_A&quot;</td><td>1379</td><td>&quot;Rounds down instead of up&quot;</td></tr><tr><td>&hellip;</td><td>&hellip;</td><td>&hellip;</td><td>&hellip;</td><td>&hellip;</td><td>&hellip;</td><td>&hellip;</td><td>&hellip;</td><td>&hellip;</td><td>&hellip;</td><td>&hellip;</td><td>&hellip;</td><td>&hellip;</td></tr><tr><td>99</td><td>&quot;Given the perimeter, work out …</td><td>&quot;Volume and Capacity Units&quot;</td><td>&quot;A regular pentagon has a total…</td><td>&quot;C&quot;</td><td>&quot;\\( 3.4 \\mathrm{~cm} \\)&quot;</td><td>&quot;AnswerBText&quot;</td><td>&quot;\\( 12 \\mathrm{~cm} \\)&quot;</td><td>&quot;Given the perimeter, work out …</td><td>&quot;B&quot;</td><td>&quot;99_B&quot;</td><td>1815</td><td>&quot;When given the perimeter of a …</td></tr><tr><td>99</td><td>&quot;Given the perimeter, work out …</td><td>&quot;Volume and Capacity Units&quot;</td><td>&quot;A regular pentagon has a total…</td><td>&quot;C&quot;</td><td>&quot;\\( 3.4 \\mathrm{~cm} \\)&quot;</td><td>&quot;AnswerDText&quot;</td><td>&quot;Not enough information&quot;</td><td>&quot;Given the perimeter, work out …</td><td>&quot;D&quot;</td><td>&quot;99_D&quot;</td><td>255</td><td>&quot;Does not know the meaning of t…</td></tr><tr><td>9</td><td>&quot;Identify horizontal translatio…</td><td>&quot;Transformations of functions i…</td><td>&quot;What transformation maps the g…</td><td>&quot;C&quot;</td><td>&quot;Translation by vector\n",
       "\\(\n",
       "\\left…</td><td>&quot;AnswerAText&quot;</td><td>&quot;Translation by vector\n",
       "\\(\n",
       "\\left…</td><td>&quot;Identify horizontal translatio…</td><td>&quot;A&quot;</td><td>&quot;9_A&quot;</td><td>1889</td><td>&quot;Believes f(x - a) translates t…</td></tr><tr><td>9</td><td>&quot;Identify horizontal translatio…</td><td>&quot;Transformations of functions i…</td><td>&quot;What transformation maps the g…</td><td>&quot;C&quot;</td><td>&quot;Translation by vector\n",
       "\\(\n",
       "\\left…</td><td>&quot;AnswerBText&quot;</td><td>&quot;Translation by vector\n",
       "\\(\n",
       "\\left…</td><td>&quot;Identify horizontal translatio…</td><td>&quot;B&quot;</td><td>&quot;9_B&quot;</td><td>1234</td><td>&quot;Believes f(x + a) translates t…</td></tr><tr><td>9</td><td>&quot;Identify horizontal translatio…</td><td>&quot;Transformations of functions i…</td><td>&quot;What transformation maps the g…</td><td>&quot;C&quot;</td><td>&quot;Translation by vector\n",
       "\\(\n",
       "\\left…</td><td>&quot;AnswerDText&quot;</td><td>&quot;Translation by vector\n",
       "\\(\n",
       "\\left…</td><td>&quot;Identify horizontal translatio…</td><td>&quot;D&quot;</td><td>&quot;9_D&quot;</td><td>1312</td><td>&quot;Believes f(x) + a translates t…</td></tr></tbody></table></div>"
      ],
      "text/plain": [
       "shape: (4_370, 13)\n",
       "┌───────────┬───────────┬───────────┬───────────┬───┬───────────┬───────────┬───────────┬──────────┐\n",
       "│ QuestionI ┆ Construct ┆ SubjectNa ┆ QuestionT ┆ … ┆ AnswerAlp ┆ QuestionI ┆ Misconcep ┆ Misconce │\n",
       "│ d         ┆ Name      ┆ me        ┆ ext       ┆   ┆ habet     ┆ d_Answer  ┆ tionId    ┆ ptionNam │\n",
       "│ ---       ┆ ---       ┆ ---       ┆ ---       ┆   ┆ ---       ┆ ---       ┆ ---       ┆ e        │\n",
       "│ i64       ┆ str       ┆ str       ┆ str       ┆   ┆ str       ┆ str       ┆ i64       ┆ ---      │\n",
       "│           ┆           ┆           ┆           ┆   ┆           ┆           ┆           ┆ str      │\n",
       "╞═══════════╪═══════════╪═══════════╪═══════════╪═══╪═══════════╪═══════════╪═══════════╪══════════╡\n",
       "│ 0         ┆ Use the   ┆ BIDMAS    ┆ \\[        ┆ … ┆ D         ┆ 0_D       ┆ 1672      ┆ Confuses │\n",
       "│           ┆ order of  ┆           ┆ 3 \\times  ┆   ┆           ┆           ┆           ┆ the      │\n",
       "│           ┆ operation ┆           ┆ 2+4-5     ┆   ┆           ┆           ┆           ┆ order of │\n",
       "│           ┆ s to…     ┆           ┆ \\]        ┆   ┆           ┆           ┆           ┆ operatio │\n",
       "│           ┆           ┆           ┆ Where do  ┆   ┆           ┆           ┆           ┆ …        │\n",
       "│           ┆           ┆           ┆ …         ┆   ┆           ┆           ┆           ┆          │\n",
       "│ 1000      ┆ Simplify  ┆ Simplifyi ┆ Simplify  ┆ … ┆ A         ┆ 1000_A    ┆ 891       ┆ Incorrec │\n",
       "│           ┆ an        ┆ ng        ┆ the follo ┆   ┆           ┆           ┆           ┆ tly      │\n",
       "│           ┆ algebraic ┆ Algebraic ┆ wing, if  ┆   ┆           ┆           ┆           ┆ cancels  │\n",
       "│           ┆ fraction… ┆ Fraction… ┆ pos…      ┆   ┆           ┆           ┆           ┆ what     │\n",
       "│           ┆           ┆           ┆           ┆   ┆           ┆           ┆           ┆ they …   │\n",
       "│ 1000      ┆ Simplify  ┆ Simplifyi ┆ Simplify  ┆ … ┆ C         ┆ 1000_C    ┆ 891       ┆ Incorrec │\n",
       "│           ┆ an        ┆ ng        ┆ the follo ┆   ┆           ┆           ┆           ┆ tly      │\n",
       "│           ┆ algebraic ┆ Algebraic ┆ wing, if  ┆   ┆           ┆           ┆           ┆ cancels  │\n",
       "│           ┆ fraction… ┆ Fraction… ┆ pos…      ┆   ┆           ┆           ┆           ┆ what     │\n",
       "│           ┆           ┆           ┆           ┆   ┆           ┆           ┆           ┆ they …   │\n",
       "│ 1000      ┆ Simplify  ┆ Simplifyi ┆ Simplify  ┆ … ┆ D         ┆ 1000_D    ┆ 353       ┆ Does not │\n",
       "│           ┆ an        ┆ ng        ┆ the follo ┆   ┆           ┆           ┆           ┆ recognis │\n",
       "│           ┆ algebraic ┆ Algebraic ┆ wing, if  ┆   ┆           ┆           ┆           ┆ e when   │\n",
       "│           ┆ fraction… ┆ Fraction… ┆ pos…      ┆   ┆           ┆           ┆           ┆ one pa…  │\n",
       "│ 1001      ┆ Round     ┆ Rounding  ┆ What is   ┆ … ┆ A         ┆ 1001_A    ┆ 1379      ┆ Rounds   │\n",
       "│           ┆ numbers   ┆ to        ┆ \\(        ┆   ┆           ┆           ┆           ┆ down     │\n",
       "│           ┆ to two    ┆ Decimal   ┆ \\mathbf{3 ┆   ┆           ┆           ┆           ┆ instead  │\n",
       "│           ┆ decimal   ┆ Places    ┆ . 5 1 6   ┆   ┆           ┆           ┆           ┆ of up    │\n",
       "│           ┆ p…        ┆           ┆ 3…        ┆   ┆           ┆           ┆           ┆          │\n",
       "│ …         ┆ …         ┆ …         ┆ …         ┆ … ┆ …         ┆ …         ┆ …         ┆ …        │\n",
       "│ 99        ┆ Given the ┆ Volume    ┆ A regular ┆ … ┆ B         ┆ 99_B      ┆ 1815      ┆ When     │\n",
       "│           ┆ perimeter ┆ and       ┆ pentagon  ┆   ┆           ┆           ┆           ┆ given    │\n",
       "│           ┆ , work    ┆ Capacity  ┆ has a     ┆   ┆           ┆           ┆           ┆ the peri │\n",
       "│           ┆ out …     ┆ Units     ┆ total…    ┆   ┆           ┆           ┆           ┆ meter of │\n",
       "│           ┆           ┆           ┆           ┆   ┆           ┆           ┆           ┆ a …      │\n",
       "│ 99        ┆ Given the ┆ Volume    ┆ A regular ┆ … ┆ D         ┆ 99_D      ┆ 255       ┆ Does not │\n",
       "│           ┆ perimeter ┆ and       ┆ pentagon  ┆   ┆           ┆           ┆           ┆ know the │\n",
       "│           ┆ , work    ┆ Capacity  ┆ has a     ┆   ┆           ┆           ┆           ┆ meaning  │\n",
       "│           ┆ out …     ┆ Units     ┆ total…    ┆   ┆           ┆           ┆           ┆ of t…    │\n",
       "│ 9         ┆ Identify  ┆ Transform ┆ What tran ┆ … ┆ A         ┆ 9_A       ┆ 1889      ┆ Believes │\n",
       "│           ┆ horizonta ┆ ations of ┆ sformatio ┆   ┆           ┆           ┆           ┆ f(x - a) │\n",
       "│           ┆ l transla ┆ functions ┆ n maps    ┆   ┆           ┆           ┆           ┆ translat │\n",
       "│           ┆ tio…      ┆ i…        ┆ the g…    ┆   ┆           ┆           ┆           ┆ es t…    │\n",
       "│ 9         ┆ Identify  ┆ Transform ┆ What tran ┆ … ┆ B         ┆ 9_B       ┆ 1234      ┆ Believes │\n",
       "│           ┆ horizonta ┆ ations of ┆ sformatio ┆   ┆           ┆           ┆           ┆ f(x + a) │\n",
       "│           ┆ l transla ┆ functions ┆ n maps    ┆   ┆           ┆           ┆           ┆ translat │\n",
       "│           ┆ tio…      ┆ i…        ┆ the g…    ┆   ┆           ┆           ┆           ┆ es t…    │\n",
       "│ 9         ┆ Identify  ┆ Transform ┆ What tran ┆ … ┆ D         ┆ 9_D       ┆ 1312      ┆ Believes │\n",
       "│           ┆ horizonta ┆ ations of ┆ sformatio ┆   ┆           ┆           ┆           ┆ f(x) + a │\n",
       "│           ┆ l transla ┆ functions ┆ n maps    ┆   ┆           ┆           ┆           ┆ translat │\n",
       "│           ┆ tio…      ┆ i…        ┆ the g…    ┆   ┆           ┆           ┆           ┆ es t…    │\n",
       "└───────────┴───────────┴───────────┴───────────┴───┴───────────┴───────────┴───────────┴──────────┘"
      ]
     },
     "execution_count": 21,
     "metadata": {},
     "output_type": "execute_result"
    }
   ],
   "source": [
    "train_long"
   ]
  },
  {
   "cell_type": "code",
   "execution_count": 22,
   "metadata": {
    "autoscroll": "auto",
    "collapsed": false,
    "execution": {
     "iopub.execute_input": "2024-10-12T07:46:20.845526Z",
     "iopub.status.busy": "2024-10-12T07:46:20.845178Z",
     "iopub.status.idle": "2024-10-12T07:46:20.852054Z",
     "shell.execute_reply": "2024-10-12T07:46:20.851087Z"
    }
   },
   "outputs": [],
   "source": [
    "# messages = [\n",
    "#     {\n",
    "#         \"role\": \"system\",\n",
    "#         \"content\": \"You are a mathematics expert. You are given a mathematics question, an incorrect answer, a correct answer, a construct name, and a subject name. Using these, identify what misconception exists in the incorrect answer.\",\n",
    "#     },\n",
    "#     {\"role\": \"user\", \"content\": \"Who are you?\"},\n",
    "# ]\n",
    "\n",
    "# # TODO: CoT(think step by step)をどうFine-Tuningに反映させるべきかを調べる\n",
    "# alpaca_prompt = \"\"\"### Input:\n",
    "# Question: {question_text}\n",
    "# Incorrect Answer: {incorrect_answer_text}\n",
    "# Correct Answer: {correct_answer_text}\n",
    "# Construct Name: {construct_name}\n",
    "# Subject Name: {subject_name}\n",
    "\n",
    "# ### Response:\n",
    "# {misconception_name}\"\"\"\n",
    "\n",
    "# EOS_TOKEN = tokenizer.eos_token  # Must add EOS_TOKEN\n",
    "\n",
    "\n",
    "# def formatting_prompts_func(examples):\n",
    "#     texts = []\n",
    "#     for (\n",
    "#         question_text,\n",
    "#         incorrect_answer_text,\n",
    "#         correct_answer_text,\n",
    "#         construct_name,\n",
    "#         subject_name,\n",
    "#         misconception_name,\n",
    "#     ) in zip(\n",
    "#         examples[\"QuestionText\"],\n",
    "#         examples[\"AnswerText\"],  # incorrect_answer_text\n",
    "#         examples[\"CorrectAnswerText\"],\n",
    "#         examples[\"ConstructName\"],\n",
    "#         examples[\"SubjectName\"],\n",
    "#         examples[\"MisconceptionName\"],\n",
    "#     ):\n",
    "#         # Must add EOS_TOKEN, otherwise your generation will go on forever!\n",
    "#         text = (\n",
    "#             alpaca_prompt.format(\n",
    "#                 question_text=question_text,\n",
    "#                 incorrect_answer_text=incorrect_answer_text,\n",
    "#                 correct_answer_text=correct_answer_text,\n",
    "#                 construct_name=construct_name,\n",
    "#                 subject_name=subject_name,\n",
    "#                 misconception_name=misconception_name,\n",
    "#             )\n",
    "#             + EOS_TOKEN\n",
    "#         )\n",
    "#         texts.append(text)\n",
    "#     return {\n",
    "#         \"text\": texts,\n",
    "#     }\n",
    "\n",
    "\n",
    "# train = Dataset.from_polars(train_long).map(\n",
    "#     formatting_prompts_func,\n",
    "#     batched=True,\n",
    "# )"
   ]
  },
  {
   "cell_type": "code",
   "execution_count": 23,
   "metadata": {
    "autoscroll": "auto",
    "collapsed": false,
    "execution": {
     "iopub.execute_input": "2024-10-12T07:46:20.856502Z",
     "iopub.status.busy": "2024-10-12T07:46:20.855764Z",
     "iopub.status.idle": "2024-10-12T07:46:21.287388Z",
     "shell.execute_reply": "2024-10-12T07:46:21.286414Z"
    }
   },
   "outputs": [
    {
     "data": {
      "application/vnd.jupyter.widget-view+json": {
       "model_id": "860a6cda02d94be38a53aed85a0d6828",
       "version_major": 2,
       "version_minor": 0
      },
      "text/plain": [
       "Map:   0%|          | 0/4370 [00:00<?, ? examples/s]"
      ]
     },
     "metadata": {},
     "output_type": "display_data"
    }
   ],
   "source": [
    "QUESTION_TEMPLATE = \"\"\"Question: {question_text}\n",
    "Incorrect Answer: {incorrect_answer_text}\n",
    "Correct Answer: {correct_answer_text}\n",
    "Construct Name: {construct_name}\n",
    "Subject Name: {subject_name}\"\"\"\n",
    "\n",
    "\n",
    "class ApplyTemplateForTrain:\n",
    "    def make_masaages(self, question: str, answer: str) -> list[dict[str, str]]:\n",
    "        return [\n",
    "            {\n",
    "                \"role\": \"system\",\n",
    "                \"content\": \"You are a mathematics expert. You are given a mathematics question, an incorrect answer, a correct answer, a construct name, and a subject name. Using these, identify what misconception exists in the incorrect answer.\",\n",
    "            },\n",
    "            {\"role\": \"user\", \"content\": question},\n",
    "            {\"role\": \"assistant\", \"content\": answer},\n",
    "        ]\n",
    "\n",
    "    def apply_template(self, examples):\n",
    "        messages = []\n",
    "        for (\n",
    "            question_text,\n",
    "            incorrect_answer_text,\n",
    "            correct_answer_text,\n",
    "            construct_name,\n",
    "            subject_name,\n",
    "            misconception_name,\n",
    "        ) in zip(\n",
    "            examples[\"QuestionText\"],\n",
    "            examples[\"AnswerText\"],  # incorrect_answer_text\n",
    "            examples[\"CorrectAnswerText\"],\n",
    "            examples[\"ConstructName\"],\n",
    "            examples[\"SubjectName\"],\n",
    "            examples[\"MisconceptionName\"],\n",
    "        ):\n",
    "            message = self.make_masaages(\n",
    "                question=QUESTION_TEMPLATE.format(\n",
    "                    question_text=question_text,\n",
    "                    incorrect_answer_text=incorrect_answer_text,\n",
    "                    correct_answer_text=correct_answer_text,\n",
    "                    construct_name=construct_name,\n",
    "                    subject_name=subject_name,\n",
    "                ),\n",
    "                answer=misconception_name,\n",
    "            )\n",
    "            messages.append(message)\n",
    "\n",
    "        text = [\n",
    "            tokenizer.apply_chat_template(\n",
    "                message, tokenize=False, add_generation_prompt=False\n",
    "            )\n",
    "            for message in messages\n",
    "        ]\n",
    "\n",
    "        return {\"text\": text}\n",
    "\n",
    "\n",
    "train = Dataset.from_polars(train_long).map(\n",
    "    ApplyTemplateForTrain().apply_template, batched=True\n",
    ")"
   ]
  },
  {
   "cell_type": "code",
   "execution_count": 24,
   "metadata": {
    "autoscroll": "auto",
    "collapsed": false,
    "execution": {
     "iopub.execute_input": "2024-10-12T07:46:21.291268Z",
     "iopub.status.busy": "2024-10-12T07:46:21.291093Z",
     "iopub.status.idle": "2024-10-12T07:46:21.296362Z",
     "shell.execute_reply": "2024-10-12T07:46:21.295478Z"
    }
   },
   "outputs": [],
   "source": [
    "print(train[0][\"text\"])"
   ]
  },
  {
   "cell_type": "code",
   "execution_count": 25,
   "metadata": {
    "autoscroll": "auto",
    "collapsed": false,
    "execution": {
     "iopub.execute_input": "2024-10-12T07:46:21.299634Z",
     "iopub.status.busy": "2024-10-12T07:46:21.299361Z",
     "iopub.status.idle": "2024-10-12T07:46:21.304629Z",
     "shell.execute_reply": "2024-10-12T07:46:21.303424Z"
    }
   },
   "outputs": [],
   "source": [
    "print(train[10][\"text\"])"
   ]
  },
  {
   "cell_type": "markdown",
   "metadata": {},
   "source": [
    "# Split Train Valid"
   ]
  },
  {
   "cell_type": "code",
   "execution_count": 26,
   "metadata": {
    "autoscroll": "auto",
    "collapsed": false,
    "execution": {
     "iopub.execute_input": "2024-10-12T07:46:21.308033Z",
     "iopub.status.busy": "2024-10-12T07:46:21.307870Z",
     "iopub.status.idle": "2024-10-12T07:46:24.537099Z",
     "shell.execute_reply": "2024-10-12T07:46:24.535676Z"
    }
   },
   "outputs": [
    {
     "data": {
      "application/vnd.jupyter.widget-view+json": {
       "model_id": "cd1a8c544c2349eb9b175b98489ad798",
       "version_major": 2,
       "version_minor": 0
      },
      "text/plain": [
       "Filter (num_proc=16):   0%|          | 0/4370 [00:00<?, ? examples/s]"
      ]
     },
     "metadata": {},
     "output_type": "display_data"
    },
    {
     "data": {
      "application/vnd.jupyter.widget-view+json": {
       "model_id": "b302589e33d440a4bca18f92fdccc516",
       "version_major": 2,
       "version_minor": 0
      },
      "text/plain": [
       "Filter (num_proc=16):   0%|          | 0/4370 [00:00<?, ? examples/s]"
      ]
     },
     "metadata": {},
     "output_type": "display_data"
    }
   ],
   "source": [
    "train, valid = (\n",
    "    train.filter(lambda x: x[\"QuestionId\"] % 3 != 0, num_proc=NUM_PROC),\n",
    "    train.filter(lambda x: x[\"QuestionId\"] % 3 == 0, num_proc=NUM_PROC),\n",
    ")"
   ]
  },
  {
   "cell_type": "markdown",
   "metadata": {},
   "source": [
    "# Model Predict Check Before Training"
   ]
  },
  {
   "cell_type": "code",
   "execution_count": 27,
   "metadata": {
    "autoscroll": "auto",
    "collapsed": false,
    "execution": {
     "iopub.execute_input": "2024-10-12T07:46:24.541461Z",
     "iopub.status.busy": "2024-10-12T07:46:24.541056Z",
     "iopub.status.idle": "2024-10-12T07:46:24.547919Z",
     "shell.execute_reply": "2024-10-12T07:46:24.546787Z"
    }
   },
   "outputs": [],
   "source": [
    "# EOS_TOKEN = tokenizer.eos_token  # Must add EOS_TOKEN\n",
    "\n",
    "\n",
    "# def formatting_prompts_func_predict(examples):\n",
    "#     texts = []\n",
    "#     for (\n",
    "#         question_text,\n",
    "#         incorrect_answer_text,\n",
    "#         correct_answer_text,\n",
    "#         construct_name,\n",
    "#         subject_name,\n",
    "#     ) in zip(\n",
    "#         examples[\"QuestionText\"],\n",
    "#         examples[\"AnswerText\"],  # incorrect_answer_text\n",
    "#         examples[\"CorrectAnswerText\"],\n",
    "#         examples[\"ConstructName\"],\n",
    "#         examples[\"SubjectName\"],\n",
    "#     ):\n",
    "#         # Must add EOS_TOKEN, otherwise your generation will go on forever!\n",
    "#         text = (\n",
    "#             alpaca_prompt.format(\n",
    "#                 question_text=question_text,\n",
    "#                 incorrect_answer_text=incorrect_answer_text,\n",
    "#                 correct_answer_text=correct_answer_text,\n",
    "#                 construct_name=construct_name,\n",
    "#                 subject_name=subject_name,\n",
    "#                 misconception_name=\"\",\n",
    "#             )\n",
    "#             + EOS_TOKEN\n",
    "#         )\n",
    "#         texts.append(text)\n",
    "#     return {\n",
    "#         \"text\": texts,\n",
    "#     }\n",
    "\n",
    "\n",
    "# valid_for_predict = valid.map(\n",
    "#     formatting_prompts_func_predict,\n",
    "#     batched=True,\n",
    "# )"
   ]
  },
  {
   "cell_type": "code",
   "execution_count": 28,
   "metadata": {
    "autoscroll": "auto",
    "collapsed": false,
    "execution": {
     "iopub.execute_input": "2024-10-12T07:46:24.551123Z",
     "iopub.status.busy": "2024-10-12T07:46:24.550754Z",
     "iopub.status.idle": "2024-10-12T07:46:24.873312Z",
     "shell.execute_reply": "2024-10-12T07:46:24.872324Z"
    }
   },
   "outputs": [
    {
     "data": {
      "application/vnd.jupyter.widget-view+json": {
       "model_id": "679cfc6de2384219a063446435fb9a11",
       "version_major": 2,
       "version_minor": 0
      },
      "text/plain": [
       "Map:   0%|          | 0/1460 [00:00<?, ? examples/s]"
      ]
     },
     "metadata": {},
     "output_type": "display_data"
    }
   ],
   "source": [
    "class ApplyTemplateForPredict:\n",
    "    def make_masaages(self, question: str) -> list[dict[str, str]]:\n",
    "        return [\n",
    "            {\n",
    "                \"role\": \"system\",\n",
    "                \"content\": \"You are a mathematics expert. You are given a mathematics question, an incorrect answer, a correct answer, a construct name, and a subject name. Using these, identify what misconception exists in the incorrect answer.\",\n",
    "            },\n",
    "            {\"role\": \"user\", \"content\": question},\n",
    "        ]\n",
    "\n",
    "    def apply_template(self, examples):\n",
    "        messages = []\n",
    "        for (\n",
    "            question_text,\n",
    "            incorrect_answer_text,\n",
    "            correct_answer_text,\n",
    "            construct_name,\n",
    "            subject_name,\n",
    "        ) in zip(\n",
    "            examples[\"QuestionText\"],\n",
    "            examples[\"AnswerText\"],  # incorrect_answer_text\n",
    "            examples[\"CorrectAnswerText\"],\n",
    "            examples[\"ConstructName\"],\n",
    "            examples[\"SubjectName\"],\n",
    "        ):\n",
    "            message = self.make_masaages(\n",
    "                question=QUESTION_TEMPLATE.format(\n",
    "                    question_text=question_text,\n",
    "                    incorrect_answer_text=incorrect_answer_text,\n",
    "                    correct_answer_text=correct_answer_text,\n",
    "                    construct_name=construct_name,\n",
    "                    subject_name=subject_name,\n",
    "                )\n",
    "            )\n",
    "            messages.append(message)\n",
    "\n",
    "        text = [\n",
    "            tokenizer.apply_chat_template(\n",
    "                message, tokenize=False, add_generation_prompt=True\n",
    "            )\n",
    "            for message in messages\n",
    "        ]\n",
    "\n",
    "        return {\"text\": text}\n",
    "\n",
    "\n",
    "valid_for_predict = valid.map(ApplyTemplateForPredict().apply_template, batched=True)"
   ]
  },
  {
   "cell_type": "code",
   "execution_count": 29,
   "metadata": {
    "autoscroll": "auto",
    "collapsed": false,
    "execution": {
     "iopub.execute_input": "2024-10-12T07:46:24.877051Z",
     "iopub.status.busy": "2024-10-12T07:46:24.876874Z",
     "iopub.status.idle": "2024-10-12T07:46:24.882966Z",
     "shell.execute_reply": "2024-10-12T07:46:24.882063Z"
    }
   },
   "outputs": [],
   "source": [
    "print(valid_for_predict[0][\"text\"])"
   ]
  },
  {
   "cell_type": "code",
   "execution_count": 30,
   "metadata": {
    "execution": {
     "iopub.execute_input": "2024-10-12T07:46:24.886273Z",
     "iopub.status.busy": "2024-10-12T07:46:24.886108Z",
     "iopub.status.idle": "2024-10-12T07:46:24.891226Z",
     "shell.execute_reply": "2024-10-12T07:46:24.890376Z"
    }
   },
   "outputs": [],
   "source": [
    "# alpaca_prompt = Copied from above\n",
    "FastLanguageModel.for_inference(model)  # Enable native 2x faster inference\n",
    "\n",
    "\n",
    "def predict(valid: Dataset, idx: int, model):\n",
    "    inputs = tokenizer(\n",
    "        valid[\"text\"][idx],\n",
    "        return_tensors=\"pt\",\n",
    "    ).to(\"cuda\")\n",
    "\n",
    "    outputs = model.generate(**inputs, max_new_tokens=64, do_sample=True)\n",
    "    print(tokenizer.batch_decode(outputs, skip_special_tokens=True)[0])\n",
    "    print(\"\\n### Answer Misconception Name:\")\n",
    "    print(valid[\"MisconceptionName\"][idx])"
   ]
  },
  {
   "cell_type": "code",
   "execution_count": 31,
   "metadata": {
    "autoscroll": "auto",
    "collapsed": false,
    "execution": {
     "iopub.execute_input": "2024-10-12T07:46:24.894401Z",
     "iopub.status.busy": "2024-10-12T07:46:24.894236Z",
     "iopub.status.idle": "2024-10-12T07:46:24.898940Z",
     "shell.execute_reply": "2024-10-12T07:46:24.898138Z"
    }
   },
   "outputs": [],
   "source": [
    "print(valid_for_predict[0][\"text\"])"
   ]
  },
  {
   "cell_type": "code",
   "execution_count": 32,
   "metadata": {
    "autoscroll": "auto",
    "collapsed": false,
    "execution": {
     "iopub.execute_input": "2024-10-12T07:46:24.902248Z",
     "iopub.status.busy": "2024-10-12T07:46:24.901974Z",
     "iopub.status.idle": "2024-10-12T07:46:28.504059Z",
     "shell.execute_reply": "2024-10-12T07:46:28.502732Z"
    }
   },
   "outputs": [],
   "source": [
    "predict(valid_for_predict, 0, model)"
   ]
  },
  {
   "cell_type": "code",
   "execution_count": 33,
   "metadata": {
    "autoscroll": "auto",
    "collapsed": false,
    "execution": {
     "iopub.execute_input": "2024-10-12T07:46:28.508002Z",
     "iopub.status.busy": "2024-10-12T07:46:28.507813Z",
     "iopub.status.idle": "2024-10-12T07:46:31.320414Z",
     "shell.execute_reply": "2024-10-12T07:46:31.319193Z"
    }
   },
   "outputs": [],
   "source": [
    "predict(valid_for_predict, 1, model)"
   ]
  },
  {
   "cell_type": "code",
   "execution_count": 34,
   "metadata": {
    "autoscroll": "auto",
    "collapsed": false,
    "execution": {
     "iopub.execute_input": "2024-10-12T07:46:31.324312Z",
     "iopub.status.busy": "2024-10-12T07:46:31.324143Z",
     "iopub.status.idle": "2024-10-12T07:46:33.841893Z",
     "shell.execute_reply": "2024-10-12T07:46:33.841095Z"
    }
   },
   "outputs": [],
   "source": [
    "predict(valid_for_predict, 2, model)"
   ]
  },
  {
   "cell_type": "markdown",
   "metadata": {
    "id": "LHoxXNPjisG3"
   },
   "source": [
    "# Model"
   ]
  },
  {
   "cell_type": "code",
   "execution_count": 35,
   "metadata": {
    "autoscroll": "auto",
    "collapsed": false,
    "execution": {
     "iopub.execute_input": "2024-10-12T07:46:33.845610Z",
     "iopub.status.busy": "2024-10-12T07:46:33.845440Z",
     "iopub.status.idle": "2024-10-12T07:46:37.043399Z",
     "shell.execute_reply": "2024-10-12T07:46:37.042309Z"
    }
   },
   "outputs": [],
   "source": [
    "model = FastLanguageModel.get_peft_model(\n",
    "    model,\n",
    "    r=LORA_R,  # Choose any number > 0 ! Suggested 8, 16, 32, 64, 128\n",
    "    target_modules=[\n",
    "        \"q_proj\",\n",
    "        \"k_proj\",\n",
    "        \"v_proj\",\n",
    "        # \"o_proj\",\n",
    "        # \"gate_proj\",\n",
    "        # \"up_proj\",\n",
    "        # \"down_proj\",\n",
    "        # \"embed_tokens\",\n",
    "        # \"lm_head\",\n",
    "    ],\n",
    "    lora_alpha=LORA_ALPHA,\n",
    "    lora_dropout=0,  # Supports any, but = 0 is optimized\n",
    "    bias=\"none\",  # Supports any, but = \"none\" is optimized\n",
    "    # [NEW] \"unsloth\" uses 30% less VRAM, fits 2x larger batch sizes!\n",
    "    use_gradient_checkpointing=\"unsloth\",  # True or \"unsloth\" for very long context\n",
    "    random_state=SEED,\n",
    "    use_rslora=False,  # We support rank stabilized LoRA\n",
    "    loftq_config=None,  # And LoftQ\n",
    "    layers_to_transform=[i for i in range(32) if i >= FREEZE_LAYERS],\n",
    ")"
   ]
  },
  {
   "cell_type": "code",
   "execution_count": 36,
   "metadata": {
    "autoscroll": "auto",
    "collapsed": false,
    "execution": {
     "iopub.execute_input": "2024-10-12T07:46:37.047219Z",
     "iopub.status.busy": "2024-10-12T07:46:37.047031Z",
     "iopub.status.idle": "2024-10-12T07:46:37.056962Z",
     "shell.execute_reply": "2024-10-12T07:46:37.056221Z"
    }
   },
   "outputs": [
    {
     "data": {
      "text/plain": [
       "PeftModelForCausalLM(\n",
       "  (base_model): LoraModel(\n",
       "    (model): LlamaForCausalLM(\n",
       "      (model): LlamaModel(\n",
       "        (embed_tokens): Embedding(128256, 4096)\n",
       "        (layers): ModuleList(\n",
       "          (0-15): 16 x LlamaDecoderLayer(\n",
       "            (self_attn): LlamaAttention(\n",
       "              (q_proj): Linear4bit(in_features=4096, out_features=4096, bias=False)\n",
       "              (k_proj): Linear4bit(in_features=4096, out_features=1024, bias=False)\n",
       "              (v_proj): Linear4bit(in_features=4096, out_features=1024, bias=False)\n",
       "              (o_proj): Linear4bit(in_features=4096, out_features=4096, bias=False)\n",
       "              (rotary_emb): LlamaExtendedRotaryEmbedding()\n",
       "            )\n",
       "            (mlp): LlamaMLP(\n",
       "              (gate_proj): Linear4bit(in_features=4096, out_features=14336, bias=False)\n",
       "              (up_proj): Linear4bit(in_features=4096, out_features=14336, bias=False)\n",
       "              (down_proj): Linear4bit(in_features=14336, out_features=4096, bias=False)\n",
       "              (act_fn): SiLU()\n",
       "            )\n",
       "            (input_layernorm): LlamaRMSNorm((4096,), eps=1e-05)\n",
       "            (post_attention_layernorm): LlamaRMSNorm((4096,), eps=1e-05)\n",
       "          )\n",
       "          (16-31): 16 x LlamaDecoderLayer(\n",
       "            (self_attn): LlamaAttention(\n",
       "              (q_proj): lora.Linear4bit(\n",
       "                (base_layer): Linear4bit(in_features=4096, out_features=4096, bias=False)\n",
       "                (lora_dropout): ModuleDict(\n",
       "                  (default): Identity()\n",
       "                )\n",
       "                (lora_A): ModuleDict(\n",
       "                  (default): Linear(in_features=4096, out_features=16, bias=False)\n",
       "                )\n",
       "                (lora_B): ModuleDict(\n",
       "                  (default): Linear(in_features=16, out_features=4096, bias=False)\n",
       "                )\n",
       "                (lora_embedding_A): ParameterDict()\n",
       "                (lora_embedding_B): ParameterDict()\n",
       "                (lora_magnitude_vector): ModuleDict()\n",
       "              )\n",
       "              (k_proj): lora.Linear4bit(\n",
       "                (base_layer): Linear4bit(in_features=4096, out_features=1024, bias=False)\n",
       "                (lora_dropout): ModuleDict(\n",
       "                  (default): Identity()\n",
       "                )\n",
       "                (lora_A): ModuleDict(\n",
       "                  (default): Linear(in_features=4096, out_features=16, bias=False)\n",
       "                )\n",
       "                (lora_B): ModuleDict(\n",
       "                  (default): Linear(in_features=16, out_features=1024, bias=False)\n",
       "                )\n",
       "                (lora_embedding_A): ParameterDict()\n",
       "                (lora_embedding_B): ParameterDict()\n",
       "                (lora_magnitude_vector): ModuleDict()\n",
       "              )\n",
       "              (v_proj): lora.Linear4bit(\n",
       "                (base_layer): Linear4bit(in_features=4096, out_features=1024, bias=False)\n",
       "                (lora_dropout): ModuleDict(\n",
       "                  (default): Identity()\n",
       "                )\n",
       "                (lora_A): ModuleDict(\n",
       "                  (default): Linear(in_features=4096, out_features=16, bias=False)\n",
       "                )\n",
       "                (lora_B): ModuleDict(\n",
       "                  (default): Linear(in_features=16, out_features=1024, bias=False)\n",
       "                )\n",
       "                (lora_embedding_A): ParameterDict()\n",
       "                (lora_embedding_B): ParameterDict()\n",
       "                (lora_magnitude_vector): ModuleDict()\n",
       "              )\n",
       "              (o_proj): Linear4bit(in_features=4096, out_features=4096, bias=False)\n",
       "              (rotary_emb): LlamaExtendedRotaryEmbedding()\n",
       "            )\n",
       "            (mlp): LlamaMLP(\n",
       "              (gate_proj): Linear4bit(in_features=4096, out_features=14336, bias=False)\n",
       "              (up_proj): Linear4bit(in_features=4096, out_features=14336, bias=False)\n",
       "              (down_proj): Linear4bit(in_features=14336, out_features=4096, bias=False)\n",
       "              (act_fn): SiLU()\n",
       "            )\n",
       "            (input_layernorm): LlamaRMSNorm((4096,), eps=1e-05)\n",
       "            (post_attention_layernorm): LlamaRMSNorm((4096,), eps=1e-05)\n",
       "          )\n",
       "        )\n",
       "        (norm): LlamaRMSNorm((4096,), eps=1e-05)\n",
       "        (rotary_emb): LlamaRotaryEmbedding()\n",
       "      )\n",
       "      (lm_head): Linear(in_features=4096, out_features=128256, bias=False)\n",
       "    )\n",
       "  )\n",
       ")"
      ]
     },
     "execution_count": 36,
     "metadata": {},
     "output_type": "execute_result"
    }
   ],
   "source": [
    "model"
   ]
  },
  {
   "cell_type": "code",
   "execution_count": 37,
   "metadata": {
    "execution": {
     "iopub.execute_input": "2024-10-12T07:46:37.060463Z",
     "iopub.status.busy": "2024-10-12T07:46:37.060196Z",
     "iopub.status.idle": "2024-10-12T07:46:37.098591Z",
     "shell.execute_reply": "2024-10-12T07:46:37.097552Z"
    }
   },
   "outputs": [],
   "source": [
    "training_arguments = TrainingArguments(\n",
    "    output_dir=MODEL_OUTPUT_PATH,\n",
    "    learning_rate=LR,\n",
    "    per_device_train_batch_size=TRAIN_BS,\n",
    "    gradient_accumulation_steps=GRAD_ACC_STEP,\n",
    "    eval_accumulation_steps=GRAD_ACC_STEP,\n",
    "    per_device_eval_batch_size=EVAL_BS,\n",
    "    num_train_epochs=EPOCH,\n",
    "    weight_decay=0.01,\n",
    "    eval_strategy=\"steps\",\n",
    "    eval_steps=0.1,\n",
    "    save_strategy=\"steps\",\n",
    "    save_steps=0.1,\n",
    "    save_total_limit=1,\n",
    "    logging_steps=2,\n",
    "    seed=SEED,\n",
    "    metric_for_best_model=\"eval_loss\",\n",
    "    warmup_ratio=0.1,\n",
    "    lr_scheduler_type=\"cosine_with_restarts\",\n",
    "    report_to=REPORT_TO,\n",
    "    run_name=EXP_NAME,\n",
    "    load_best_model_at_end=True,\n",
    "    fp16=True,\n",
    "    fp16_full_eval=True,\n",
    "    gradient_checkpointing=True,\n",
    ")"
   ]
  },
  {
   "cell_type": "code",
   "execution_count": 38,
   "metadata": {
    "autoscroll": "auto",
    "collapsed": false,
    "execution": {
     "iopub.execute_input": "2024-10-12T07:46:37.102199Z",
     "iopub.status.busy": "2024-10-12T07:46:37.102022Z",
     "iopub.status.idle": "2024-10-12T07:46:47.970394Z",
     "shell.execute_reply": "2024-10-12T07:46:47.969156Z"
    }
   },
   "outputs": [
    {
     "data": {
      "application/vnd.jupyter.widget-view+json": {
       "model_id": "8532dcee5ba44d71b5db6a5a280f8bc9",
       "version_major": 2,
       "version_minor": 0
      },
      "text/plain": [
       "Map (num_proc=16):   0%|          | 0/2910 [00:00<?, ? examples/s]"
      ]
     },
     "metadata": {},
     "output_type": "display_data"
    },
    {
     "data": {
      "application/vnd.jupyter.widget-view+json": {
       "model_id": "7ecd8cd301f541a49bc3a36117eb0f4f",
       "version_major": 2,
       "version_minor": 0
      },
      "text/plain": [
       "Map (num_proc=16):   0%|          | 0/1460 [00:00<?, ? examples/s]"
      ]
     },
     "metadata": {},
     "output_type": "display_data"
    }
   ],
   "source": [
    "trainer = SFTTrainer(\n",
    "    model=model,\n",
    "    tokenizer=tokenizer,\n",
    "    train_dataset=train,\n",
    "    eval_dataset=valid,\n",
    "    dataset_text_field=\"text\",\n",
    "    max_seq_length=TRAINING_MAX_LENGTH,\n",
    "    dataset_num_proc=NUM_PROC,\n",
    "    packing=False,  # Can make training 5x faster for short sequences.\n",
    "    args=training_arguments,\n",
    ")"
   ]
  },
  {
   "cell_type": "code",
   "execution_count": 39,
   "metadata": {
    "autoscroll": "auto",
    "collapsed": false,
    "execution": {
     "iopub.execute_input": "2024-10-12T07:46:47.974303Z",
     "iopub.status.busy": "2024-10-12T07:46:47.973796Z",
     "iopub.status.idle": "2024-10-12T07:46:47.982599Z",
     "shell.execute_reply": "2024-10-12T07:46:47.981635Z"
    }
   },
   "outputs": [],
   "source": [
    "# @title Show current memory stats\n",
    "gpu_stats = torch.cuda.get_device_properties(0)\n",
    "start_gpu_memory = round(torch.cuda.max_memory_reserved() / 1024 / 1024 / 1024, 3)\n",
    "max_memory = round(gpu_stats.total_memory / 1024 / 1024 / 1024, 3)\n",
    "print(f\"GPU = {gpu_stats.name}. Max memory = {max_memory} GB.\")\n",
    "print(f\"{start_gpu_memory} GB of memory reserved.\")"
   ]
  },
  {
   "cell_type": "code",
   "execution_count": 40,
   "metadata": {
    "autoscroll": "auto",
    "collapsed": false,
    "execution": {
     "iopub.execute_input": "2024-10-12T07:46:47.985467Z",
     "iopub.status.busy": "2024-10-12T07:46:47.984823Z",
     "iopub.status.idle": "2024-10-12T07:46:47.991060Z",
     "shell.execute_reply": "2024-10-12T07:46:47.990156Z"
    }
   },
   "outputs": [
    {
     "data": {
      "text/plain": [
       "'output/causal/e014-causal/trained_model'"
      ]
     },
     "execution_count": 40,
     "metadata": {},
     "output_type": "execute_result"
    }
   ],
   "source": [
    "MODEL_OUTPUT_PATH"
   ]
  },
  {
   "cell_type": "code",
   "execution_count": 41,
   "metadata": {
    "autoscroll": "auto",
    "collapsed": false,
    "execution": {
     "iopub.execute_input": "2024-10-12T07:46:47.994029Z",
     "iopub.status.busy": "2024-10-12T07:46:47.993334Z",
     "iopub.status.idle": "2024-10-12T10:53:25.309445Z",
     "shell.execute_reply": "2024-10-12T10:53:25.308396Z"
    }
   },
   "outputs": [
    {
     "data": {
      "text/html": [
       "\n",
       "    <div>\n",
       "      \n",
       "      <progress value='110' max='110' style='width:300px; height:20px; vertical-align: middle;'></progress>\n",
       "      [110/110 3:05:23, Epoch 4/5]\n",
       "    </div>\n",
       "    <table border=\"1\" class=\"dataframe\">\n",
       "  <thead>\n",
       " <tr style=\"text-align: left;\">\n",
       "      <th>Step</th>\n",
       "      <th>Training Loss</th>\n",
       "      <th>Validation Loss</th>\n",
       "    </tr>\n",
       "  </thead>\n",
       "  <tbody>\n",
       "    <tr>\n",
       "      <td>11</td>\n",
       "      <td>2.810000</td>\n",
       "      <td>2.520157</td>\n",
       "    </tr>\n",
       "    <tr>\n",
       "      <td>22</td>\n",
       "      <td>1.473500</td>\n",
       "      <td>1.368530</td>\n",
       "    </tr>\n",
       "    <tr>\n",
       "      <td>33</td>\n",
       "      <td>1.058300</td>\n",
       "      <td>1.023589</td>\n",
       "    </tr>\n",
       "    <tr>\n",
       "      <td>44</td>\n",
       "      <td>0.960100</td>\n",
       "      <td>0.935933</td>\n",
       "    </tr>\n",
       "    <tr>\n",
       "      <td>55</td>\n",
       "      <td>0.908800</td>\n",
       "      <td>0.892349</td>\n",
       "    </tr>\n",
       "    <tr>\n",
       "      <td>66</td>\n",
       "      <td>0.873800</td>\n",
       "      <td>0.866539</td>\n",
       "    </tr>\n",
       "    <tr>\n",
       "      <td>77</td>\n",
       "      <td>0.883300</td>\n",
       "      <td>0.850135</td>\n",
       "    </tr>\n",
       "    <tr>\n",
       "      <td>88</td>\n",
       "      <td>0.831700</td>\n",
       "      <td>0.841180</td>\n",
       "    </tr>\n",
       "    <tr>\n",
       "      <td>99</td>\n",
       "      <td>0.868600</td>\n",
       "      <td>0.837629</td>\n",
       "    </tr>\n",
       "    <tr>\n",
       "      <td>110</td>\n",
       "      <td>0.831900</td>\n",
       "      <td>0.837094</td>\n",
       "    </tr>\n",
       "  </tbody>\n",
       "</table><p>"
      ],
      "text/plain": [
       "<IPython.core.display.HTML object>"
      ]
     },
     "metadata": {},
     "output_type": "display_data"
    }
   ],
   "source": [
    "if TRAINING:\n",
    "    trainer_stats = trainer.train()\n",
    "else:\n",
    "    model, tokenizer = FastLanguageModel.from_pretrained(\n",
    "        model_name=MODEL_OUTPUT_PATH + \"/lora_model\",\n",
    "        max_seq_length=TRAINING_MAX_LENGTH,\n",
    "        dtype=None,  # None for auto detection. Float16 for Tesla T4, V100, Bfloat16 for Ampere+\n",
    "        # load_in_4bit=True,  # Use 4bit quantization to reduce memory usage. Can be False.\n",
    "    )"
   ]
  },
  {
   "cell_type": "markdown",
   "metadata": {},
   "source": [
    "# Predict Valid"
   ]
  },
  {
   "cell_type": "code",
   "execution_count": 42,
   "metadata": {
    "autoscroll": "auto",
    "collapsed": false,
    "execution": {
     "iopub.execute_input": "2024-10-12T10:53:25.313761Z",
     "iopub.status.busy": "2024-10-12T10:53:25.313573Z",
     "iopub.status.idle": "2024-10-12T10:53:26.069064Z",
     "shell.execute_reply": "2024-10-12T10:53:26.067998Z"
    }
   },
   "outputs": [],
   "source": [
    "predict(valid_for_predict, 0, model)"
   ]
  },
  {
   "cell_type": "code",
   "execution_count": 43,
   "metadata": {
    "execution": {
     "iopub.execute_input": "2024-10-12T10:53:26.072961Z",
     "iopub.status.busy": "2024-10-12T10:53:26.072674Z",
     "iopub.status.idle": "2024-10-12T10:53:27.008441Z",
     "shell.execute_reply": "2024-10-12T10:53:27.007424Z"
    }
   },
   "outputs": [],
   "source": [
    "predict(valid_for_predict, 1, model)"
   ]
  },
  {
   "cell_type": "code",
   "execution_count": 44,
   "metadata": {
    "execution": {
     "iopub.execute_input": "2024-10-12T10:53:27.012290Z",
     "iopub.status.busy": "2024-10-12T10:53:27.012112Z",
     "iopub.status.idle": "2024-10-12T10:53:27.715730Z",
     "shell.execute_reply": "2024-10-12T10:53:27.714699Z"
    }
   },
   "outputs": [],
   "source": [
    "predict(valid_for_predict, 2, model)"
   ]
  },
  {
   "cell_type": "markdown",
   "metadata": {},
   "source": [
    "# Save"
   ]
  },
  {
   "cell_type": "code",
   "execution_count": 45,
   "metadata": {
    "autoscroll": "auto",
    "collapsed": false,
    "execution": {
     "iopub.execute_input": "2024-10-12T10:53:27.718430Z",
     "iopub.status.busy": "2024-10-12T10:53:27.718249Z",
     "iopub.status.idle": "2024-10-12T10:53:28.222818Z",
     "shell.execute_reply": "2024-10-12T10:53:28.221831Z"
    }
   },
   "outputs": [
    {
     "data": {
      "text/plain": [
       "('output/causal/e014-causal/trained_model/lora_model/tokenizer_config.json',\n",
       " 'output/causal/e014-causal/trained_model/lora_model/special_tokens_map.json',\n",
       " 'output/causal/e014-causal/trained_model/lora_model/tokenizer.json')"
      ]
     },
     "execution_count": 45,
     "metadata": {},
     "output_type": "execute_result"
    }
   ],
   "source": [
    "model.save_pretrained(f\"{MODEL_OUTPUT_PATH}/lora_model\")  # Local saving\n",
    "tokenizer.save_pretrained(f\"{MODEL_OUTPUT_PATH}/lora_model\")"
   ]
  },
  {
   "cell_type": "markdown",
   "metadata": {
    "id": "Bt4jBGyxisG7"
   },
   "source": [
    "# AWSへのアップロード"
   ]
  },
  {
   "cell_type": "code",
   "execution_count": 46,
   "metadata": {
    "colab": {
     "base_uri": "https://localhost:8080/"
    },
    "execution": {
     "iopub.execute_input": "2024-10-12T10:53:28.226695Z",
     "iopub.status.busy": "2024-10-12T10:53:28.226514Z",
     "iopub.status.idle": "2024-10-12T10:53:57.583798Z",
     "shell.execute_reply": "2024-10-12T10:53:57.582531Z"
    },
    "id": "lupk0lEqisG7",
    "outputId": "c9a3fd96-b5c2-4c0c-8fe6-974459216930",
    "tags": []
   },
   "outputs": [],
   "source": [
    "# S3へのアップロード\n",
    "if not DEBUG and UPLOAD_DATA_TO_S3:\n",
    "    # uninstall\n",
    "    !sudo rm /usr/bin/aws\n",
    "    !sudo rm /usr/bin/aws_completer\n",
    "    !sudo rm -rf /usr/local/aws-cli\n",
    "\n",
    "    # install\n",
    "    !curl \"https://awscli.amazonaws.com/awscli-exe-linux-x86_64.zip\" -o \"awscliv2.zip\"\n",
    "    !unzip -o -qq awscliv2.zip\n",
    "    !sudo ./aws/install --update\n",
    "\n",
    "    # upload\n",
    "    output_name = MODEL_OUTPUT_PATH.split(\"/\")[-1]\n",
    "    os.system(\n",
    "        f\"aws s3 cp --recursive {MODEL_OUTPUT_PATH} s3://{COMPETITION_NAME}/trained_model/{output_name}\"\n",
    "    )"
   ]
  },
  {
   "cell_type": "code",
   "execution_count": 47,
   "metadata": {
    "execution": {
     "iopub.execute_input": "2024-10-12T10:53:57.588460Z",
     "iopub.status.busy": "2024-10-12T10:53:57.588072Z",
     "iopub.status.idle": "2024-10-12T10:53:57.593681Z",
     "shell.execute_reply": "2024-10-12T10:53:57.592695Z"
    },
    "id": "oA3GNoNAisG7"
   },
   "outputs": [],
   "source": [
    "# ダウンロード（参考）\n",
    "# !sudo rm /usr/bin/aws\n",
    "# !sudo rm /usr/bin/aws_completer\n",
    "# !sudo rm -rf /usr/local/aws-cli\n",
    "\n",
    "# !curl \"https://awscli.amazonaws.com/awscli-exe-linux-x86_64.zip\" -o \"awscliv2.zip\"\n",
    "# !unzip -o -qq awscliv2.zip\n",
    "# !sudo ./aws/install --update\n",
    "\n",
    "# !aws s3 cp --recursive s3://automated-essay-scoring/trained_model/e005-regression /notebooks/automated_essay_scoring/trained_models/e005-regression"
   ]
  },
  {
   "cell_type": "markdown",
   "metadata": {
    "id": "7XyyX1JqisG7"
   },
   "source": [
    "# Kaggle Datasetへのupload"
   ]
  },
  {
   "cell_type": "code",
   "execution_count": 12,
   "metadata": {
    "autoscroll": "auto",
    "colab": {
     "base_uri": "https://localhost:8080/"
    },
    "collapsed": false,
    "execution": {
     "iopub.execute_input": "2024-10-12T10:53:57.597737Z",
     "iopub.status.busy": "2024-10-12T10:53:57.597397Z",
     "iopub.status.idle": "2024-10-12T10:53:57.612438Z",
     "shell.execute_reply": "2024-10-12T10:53:57.611572Z"
    },
    "id": "2yljmioJisG7",
    "outputId": "5eb1319b-0b11-4317-f01b-cf227b3232c2",
    "tags": []
   },
   "outputs": [
    {
     "data": {
      "text/plain": [
       "0"
      ]
     },
     "execution_count": 12,
     "metadata": {},
     "output_type": "execute_result"
    }
   ],
   "source": [
    "import os\n",
    "\n",
    "os.system(\"mkdir -p ~/.kaggle/\")\n",
    "os.system(f\"cp {ENV_PATH}/kaggle.json ~/.kaggle/\")\n",
    "os.system(\"chmod 600 ~/.kaggle/kaggle.json\")"
   ]
  },
  {
   "cell_type": "code",
   "execution_count": 13,
   "metadata": {
    "autoscroll": "auto",
    "colab": {
     "base_uri": "https://localhost:8080/"
    },
    "collapsed": false,
    "execution": {
     "iopub.execute_input": "2024-10-12T10:53:57.616575Z",
     "iopub.status.busy": "2024-10-12T10:53:57.616234Z",
     "iopub.status.idle": "2024-10-12T10:54:04.111665Z",
     "shell.execute_reply": "2024-10-12T10:54:04.110141Z"
    },
    "id": "EBXdM74XisG7",
    "jupyter": {
     "outputs_hidden": false
    },
    "outputId": "290aef28-6839-4562-bca9-53f774396d12",
    "tags": []
   },
   "outputs": [
    {
     "name": "stdout",
     "output_type": "stream",
     "text": [
      "Create Dataset name:e017-causal-Meta-Llama-3-1-8B-Instruct-bnb-4bit, output_dir:../../output/causal/e017-causal/trained_model\n",
      "Starting upload for file checkpoint-110.tar\n"
     ]
    },
    {
     "name": "stderr",
     "output_type": "stream",
     "text": [
      "100%|██████████| 62.9M/62.9M [00:03<00:00, 20.2MB/s]\n"
     ]
    },
    {
     "name": "stdout",
     "output_type": "stream",
     "text": [
      "Upload successful: checkpoint-110.tar (63MB)\n",
      "Starting upload for file lora_model.tar\n"
     ]
    },
    {
     "name": "stderr",
     "output_type": "stream",
     "text": [
      "100%|██████████| 26.8M/26.8M [00:02<00:00, 13.9MB/s]\n"
     ]
    },
    {
     "name": "stdout",
     "output_type": "stream",
     "text": [
      "Upload successful: lora_model.tar (27MB)\n"
     ]
    }
   ],
   "source": [
    "if not DEBUG and UPLOAD_DATA_TO_KAGGLE:\n",
    "    import os\n",
    "    import json\n",
    "\n",
    "    from kaggle.api.kaggle_api_extended import KaggleApi\n",
    "\n",
    "    def dataset_create_new(dataset_name: str, upload_dir: str):\n",
    "        dataset_metadata = {}\n",
    "        dataset_metadata[\"id\"] = f\"sinchir0/{dataset_name}\"\n",
    "        dataset_metadata[\"licenses\"] = [{\"name\": \"CC0-1.0\"}]\n",
    "        dataset_metadata[\"title\"] = dataset_name\n",
    "        with open(os.path.join(upload_dir, \"dataset-metadata.json\"), \"w\") as f:\n",
    "            json.dump(dataset_metadata, f, indent=4)\n",
    "        api = KaggleApi()\n",
    "        api.authenticate()\n",
    "        api.dataset_create_new(folder=upload_dir, convert_to_csv=False, dir_mode=\"tar\")\n",
    "\n",
    "    print(f\"Create Dataset name:{DATASET_NAME}, output_dir:{MODEL_OUTPUT_PATH}\")\n",
    "    dataset_create_new(dataset_name=DATASET_NAME, upload_dir=MODEL_OUTPUT_PATH)"
   ]
  },
  {
   "cell_type": "markdown",
   "metadata": {
    "id": "D6KFg2LNisG8"
   },
   "source": [
    "# ローカルからのデータの削除"
   ]
  },
  {
   "cell_type": "code",
   "execution_count": 50,
   "metadata": {
    "execution": {
     "iopub.execute_input": "2024-10-12T10:54:04.115510Z",
     "iopub.status.busy": "2024-10-12T10:54:04.114947Z",
     "iopub.status.idle": "2024-10-12T10:54:04.120592Z",
     "shell.execute_reply": "2024-10-12T10:54:04.119306Z"
    },
    "id": "tFhHkzi3isG8",
    "tags": []
   },
   "outputs": [],
   "source": [
    "# if not DEBUG and REMOVE_LOCAL_FILE:\n",
    "#     # ローカルからは削除\n",
    "#     os.system(f\"rm -rf {MODEL_OUTPUT_PATH}\")"
   ]
  },
  {
   "cell_type": "code",
   "execution_count": 51,
   "metadata": {
    "autoscroll": "auto",
    "colab": {
     "base_uri": "https://localhost:8080/",
     "height": 1000,
     "referenced_widgets": [
      "ae1f8a8d15114a55a81d98bbc4563ffa",
      "24846464fd9949488c69b7c8262b8176",
      "a6025d29e90449f49116bb74afc3b591",
      "fc246d5347ee4fc782a9f42e1fb38ffe",
      "e0a0206188b34cb0bbbb62921d4edfb4",
      "b3b2143d95a04a8ab99d72d3ede6012a",
      "13c10dcfeeef4c1a882f260bf1628be2",
      "83014dfe9f554182ab1933951c39f693"
     ]
    },
    "collapsed": false,
    "execution": {
     "iopub.execute_input": "2024-10-12T10:54:04.124384Z",
     "iopub.status.busy": "2024-10-12T10:54:04.123544Z",
     "iopub.status.idle": "2024-10-12T10:54:07.384661Z",
     "shell.execute_reply": "2024-10-12T10:54:07.383472Z"
    },
    "id": "bL2CHIBOisG8",
    "outputId": "5b5cbe19-9070-4319-8867-637c31771b00",
    "tags": []
   },
   "outputs": [],
   "source": [
    "if WANDB:\n",
    "    wandb.finish()"
   ]
  },
  {
   "cell_type": "code",
   "execution_count": 52,
   "metadata": {
    "autoscroll": "auto",
    "colab": {
     "base_uri": "https://localhost:8080/"
    },
    "collapsed": false,
    "execution": {
     "iopub.execute_input": "2024-10-12T10:54:07.387892Z",
     "iopub.status.busy": "2024-10-12T10:54:07.387530Z",
     "iopub.status.idle": "2024-10-12T10:54:07.393539Z",
     "shell.execute_reply": "2024-10-12T10:54:07.392388Z"
    },
    "id": "ohN9BBugisG8",
    "outputId": "28bd693d-d1fe-4c50-d81b-3412267d48a4",
    "tags": []
   },
   "outputs": [],
   "source": [
    "print(\"finish Notebook!\")"
   ]
  },
  {
   "cell_type": "code",
   "execution_count": null,
   "metadata": {
    "id": "mH-uPM5EuoqS"
   },
   "outputs": [],
   "source": []
  }
 ],
 "metadata": {
  "accelerator": "GPU",
  "colab": {
   "gpuType": "A100",
   "include_colab_link": true,
   "machine_shape": "hm",
   "provenance": []
  },
  "kernelspec": {
   "display_name": "base",
   "language": "python",
   "name": "python3"
  },
  "language_info": {
   "codemirror_mode": {
    "name": "ipython",
    "version": 3
   },
   "file_extension": ".py",
   "mimetype": "text/x-python",
   "name": "python",
   "nbconvert_exporter": "python",
   "pygments_lexer": "ipython3",
   "version": "3.10.14"
  },
  "widgets": {
   "application/vnd.jupyter.widget-state+json": {
    "state": {
     "06ca518a3b0f496a93027fbdd9d81ca2": {
      "model_module": "@jupyter-widgets/base",
      "model_module_version": "2.0.0",
      "model_name": "LayoutModel",
      "state": {
       "_model_module": "@jupyter-widgets/base",
       "_model_module_version": "2.0.0",
       "_model_name": "LayoutModel",
       "_view_count": null,
       "_view_module": "@jupyter-widgets/base",
       "_view_module_version": "2.0.0",
       "_view_name": "LayoutView",
       "align_content": null,
       "align_items": null,
       "align_self": null,
       "border_bottom": null,
       "border_left": null,
       "border_right": null,
       "border_top": null,
       "bottom": null,
       "display": null,
       "flex": null,
       "flex_flow": null,
       "grid_area": null,
       "grid_auto_columns": null,
       "grid_auto_flow": null,
       "grid_auto_rows": null,
       "grid_column": null,
       "grid_gap": null,
       "grid_row": null,
       "grid_template_areas": null,
       "grid_template_columns": null,
       "grid_template_rows": null,
       "height": null,
       "justify_content": null,
       "justify_items": null,
       "left": null,
       "margin": null,
       "max_height": null,
       "max_width": null,
       "min_height": null,
       "min_width": null,
       "object_fit": null,
       "object_position": null,
       "order": null,
       "overflow": null,
       "padding": null,
       "right": null,
       "top": null,
       "visibility": null,
       "width": null
      }
     },
     "0eae588571ba4ea7abe0973ce2bd21e5": {
      "model_module": "@jupyter-widgets/controls",
      "model_module_version": "2.0.0",
      "model_name": "HTMLStyleModel",
      "state": {
       "_model_module": "@jupyter-widgets/controls",
       "_model_module_version": "2.0.0",
       "_model_name": "HTMLStyleModel",
       "_view_count": null,
       "_view_module": "@jupyter-widgets/base",
       "_view_module_version": "2.0.0",
       "_view_name": "StyleView",
       "background": null,
       "description_width": "",
       "font_size": null,
       "text_color": null
      }
     },
     "1074d240df184bac93aed7e75b4b507f": {
      "model_module": "@jupyter-widgets/base",
      "model_module_version": "2.0.0",
      "model_name": "LayoutModel",
      "state": {
       "_model_module": "@jupyter-widgets/base",
       "_model_module_version": "2.0.0",
       "_model_name": "LayoutModel",
       "_view_count": null,
       "_view_module": "@jupyter-widgets/base",
       "_view_module_version": "2.0.0",
       "_view_name": "LayoutView",
       "align_content": null,
       "align_items": null,
       "align_self": null,
       "border_bottom": null,
       "border_left": null,
       "border_right": null,
       "border_top": null,
       "bottom": null,
       "display": null,
       "flex": null,
       "flex_flow": null,
       "grid_area": null,
       "grid_auto_columns": null,
       "grid_auto_flow": null,
       "grid_auto_rows": null,
       "grid_column": null,
       "grid_gap": null,
       "grid_row": null,
       "grid_template_areas": null,
       "grid_template_columns": null,
       "grid_template_rows": null,
       "height": null,
       "justify_content": null,
       "justify_items": null,
       "left": null,
       "margin": null,
       "max_height": null,
       "max_width": null,
       "min_height": null,
       "min_width": null,
       "object_fit": null,
       "object_position": null,
       "order": null,
       "overflow": null,
       "padding": null,
       "right": null,
       "top": null,
       "visibility": null,
       "width": null
      }
     },
     "11158920668648e994d2ca1e531b8ba7": {
      "model_module": "@jupyter-widgets/base",
      "model_module_version": "2.0.0",
      "model_name": "LayoutModel",
      "state": {
       "_model_module": "@jupyter-widgets/base",
       "_model_module_version": "2.0.0",
       "_model_name": "LayoutModel",
       "_view_count": null,
       "_view_module": "@jupyter-widgets/base",
       "_view_module_version": "2.0.0",
       "_view_name": "LayoutView",
       "align_content": null,
       "align_items": null,
       "align_self": null,
       "border_bottom": null,
       "border_left": null,
       "border_right": null,
       "border_top": null,
       "bottom": null,
       "display": null,
       "flex": null,
       "flex_flow": null,
       "grid_area": null,
       "grid_auto_columns": null,
       "grid_auto_flow": null,
       "grid_auto_rows": null,
       "grid_column": null,
       "grid_gap": null,
       "grid_row": null,
       "grid_template_areas": null,
       "grid_template_columns": null,
       "grid_template_rows": null,
       "height": null,
       "justify_content": null,
       "justify_items": null,
       "left": null,
       "margin": null,
       "max_height": null,
       "max_width": null,
       "min_height": null,
       "min_width": null,
       "object_fit": null,
       "object_position": null,
       "order": null,
       "overflow": null,
       "padding": null,
       "right": null,
       "top": null,
       "visibility": null,
       "width": null
      }
     },
     "117c238656a648d7b29da8296ee43474": {
      "model_module": "@jupyter-widgets/controls",
      "model_module_version": "2.0.0",
      "model_name": "HTMLModel",
      "state": {
       "_dom_classes": [],
       "_model_module": "@jupyter-widgets/controls",
       "_model_module_version": "2.0.0",
       "_model_name": "HTMLModel",
       "_view_count": null,
       "_view_module": "@jupyter-widgets/controls",
       "_view_module_version": "2.0.0",
       "_view_name": "HTMLView",
       "description": "",
       "description_allow_html": false,
       "layout": "IPY_MODEL_06ca518a3b0f496a93027fbdd9d81ca2",
       "placeholder": "​",
       "style": "IPY_MODEL_e9de009225594d97af0ab90d9e2d7064",
       "tabbable": null,
       "tooltip": null,
       "value": " 4370/4370 [00:00&lt;00:00, 18846.74 examples/s]"
      }
     },
     "1728dfce451d467e9933f1788ac53852": {
      "model_module": "@jupyter-widgets/controls",
      "model_module_version": "2.0.0",
      "model_name": "HTMLStyleModel",
      "state": {
       "_model_module": "@jupyter-widgets/controls",
       "_model_module_version": "2.0.0",
       "_model_name": "HTMLStyleModel",
       "_view_count": null,
       "_view_module": "@jupyter-widgets/base",
       "_view_module_version": "2.0.0",
       "_view_name": "StyleView",
       "background": null,
       "description_width": "",
       "font_size": null,
       "text_color": null
      }
     },
     "18403d62a8404378ba180feb18005e4a": {
      "model_module": "@jupyter-widgets/controls",
      "model_module_version": "2.0.0",
      "model_name": "HTMLStyleModel",
      "state": {
       "_model_module": "@jupyter-widgets/controls",
       "_model_module_version": "2.0.0",
       "_model_name": "HTMLStyleModel",
       "_view_count": null,
       "_view_module": "@jupyter-widgets/base",
       "_view_module_version": "2.0.0",
       "_view_name": "StyleView",
       "background": null,
       "description_width": "",
       "font_size": null,
       "text_color": null
      }
     },
     "1a0a16968e254bc79d55f43e5b80e6fd": {
      "model_module": "@jupyter-widgets/controls",
      "model_module_version": "2.0.0",
      "model_name": "FloatProgressModel",
      "state": {
       "_dom_classes": [],
       "_model_module": "@jupyter-widgets/controls",
       "_model_module_version": "2.0.0",
       "_model_name": "FloatProgressModel",
       "_view_count": null,
       "_view_module": "@jupyter-widgets/controls",
       "_view_module_version": "2.0.0",
       "_view_name": "ProgressView",
       "bar_style": "success",
       "description": "",
       "description_allow_html": false,
       "layout": "IPY_MODEL_3398dbe96cc546489e7e6645240dacf6",
       "max": 1460,
       "min": 0,
       "orientation": "horizontal",
       "style": "IPY_MODEL_5e7ef871fb3044689ec8f45f880e4eb8",
       "tabbable": null,
       "tooltip": null,
       "value": 1460
      }
     },
     "1c06f5de96e347fb8f9856c5c2ab3544": {
      "model_module": "@jupyter-widgets/controls",
      "model_module_version": "2.0.0",
      "model_name": "ProgressStyleModel",
      "state": {
       "_model_module": "@jupyter-widgets/controls",
       "_model_module_version": "2.0.0",
       "_model_name": "ProgressStyleModel",
       "_view_count": null,
       "_view_module": "@jupyter-widgets/base",
       "_view_module_version": "2.0.0",
       "_view_name": "StyleView",
       "bar_color": null,
       "description_width": ""
      }
     },
     "26b1d92da01b4c10938da135794b0c5b": {
      "model_module": "@jupyter-widgets/controls",
      "model_module_version": "2.0.0",
      "model_name": "HTMLModel",
      "state": {
       "_dom_classes": [],
       "_model_module": "@jupyter-widgets/controls",
       "_model_module_version": "2.0.0",
       "_model_name": "HTMLModel",
       "_view_count": null,
       "_view_module": "@jupyter-widgets/controls",
       "_view_module_version": "2.0.0",
       "_view_name": "HTMLView",
       "description": "",
       "description_allow_html": false,
       "layout": "IPY_MODEL_be0d7f476de745ee907f3a80d9f0c458",
       "placeholder": "​",
       "style": "IPY_MODEL_c1f48b73c26148e29ac0aef46072fa21",
       "tabbable": null,
       "tooltip": null,
       "value": "Map (num_proc=16): 100%"
      }
     },
     "29807d324f944892ac87c6a5eaa06192": {
      "model_module": "@jupyter-widgets/base",
      "model_module_version": "2.0.0",
      "model_name": "LayoutModel",
      "state": {
       "_model_module": "@jupyter-widgets/base",
       "_model_module_version": "2.0.0",
       "_model_name": "LayoutModel",
       "_view_count": null,
       "_view_module": "@jupyter-widgets/base",
       "_view_module_version": "2.0.0",
       "_view_name": "LayoutView",
       "align_content": null,
       "align_items": null,
       "align_self": null,
       "border_bottom": null,
       "border_left": null,
       "border_right": null,
       "border_top": null,
       "bottom": null,
       "display": null,
       "flex": null,
       "flex_flow": null,
       "grid_area": null,
       "grid_auto_columns": null,
       "grid_auto_flow": null,
       "grid_auto_rows": null,
       "grid_column": null,
       "grid_gap": null,
       "grid_row": null,
       "grid_template_areas": null,
       "grid_template_columns": null,
       "grid_template_rows": null,
       "height": null,
       "justify_content": null,
       "justify_items": null,
       "left": null,
       "margin": null,
       "max_height": null,
       "max_width": null,
       "min_height": null,
       "min_width": null,
       "object_fit": null,
       "object_position": null,
       "order": null,
       "overflow": null,
       "padding": null,
       "right": null,
       "top": null,
       "visibility": null,
       "width": null
      }
     },
     "2afcfbd669cb497a819450ec23587552": {
      "model_module": "@jupyter-widgets/controls",
      "model_module_version": "2.0.0",
      "model_name": "HTMLModel",
      "state": {
       "_dom_classes": [],
       "_model_module": "@jupyter-widgets/controls",
       "_model_module_version": "2.0.0",
       "_model_name": "HTMLModel",
       "_view_count": null,
       "_view_module": "@jupyter-widgets/controls",
       "_view_module_version": "2.0.0",
       "_view_name": "HTMLView",
       "description": "",
       "description_allow_html": false,
       "layout": "IPY_MODEL_ddccc1a2b62f4b9d9d1a670228b982f6",
       "placeholder": "​",
       "style": "IPY_MODEL_f0c18510d76440ca895fe40277de02b4",
       "tabbable": null,
       "tooltip": null,
       "value": "Filter (num_proc=16): 100%"
      }
     },
     "2cf645ee721c4ea894562e41c75ea815": {
      "model_module": "@jupyter-widgets/controls",
      "model_module_version": "2.0.0",
      "model_name": "FloatProgressModel",
      "state": {
       "_dom_classes": [],
       "_model_module": "@jupyter-widgets/controls",
       "_model_module_version": "2.0.0",
       "_model_name": "FloatProgressModel",
       "_view_count": null,
       "_view_module": "@jupyter-widgets/controls",
       "_view_module_version": "2.0.0",
       "_view_name": "ProgressView",
       "bar_style": "success",
       "description": "",
       "description_allow_html": false,
       "layout": "IPY_MODEL_b4a627a492904ecca863deb88a3e6702",
       "max": 4370,
       "min": 0,
       "orientation": "horizontal",
       "style": "IPY_MODEL_efa3f1b88d8d45da934229842a554550",
       "tabbable": null,
       "tooltip": null,
       "value": 4370
      }
     },
     "2e7275938c7f49b28fe54c0b028c2565": {
      "model_module": "@jupyter-widgets/controls",
      "model_module_version": "2.0.0",
      "model_name": "FloatProgressModel",
      "state": {
       "_dom_classes": [],
       "_model_module": "@jupyter-widgets/controls",
       "_model_module_version": "2.0.0",
       "_model_name": "FloatProgressModel",
       "_view_count": null,
       "_view_module": "@jupyter-widgets/controls",
       "_view_module_version": "2.0.0",
       "_view_name": "ProgressView",
       "bar_style": "success",
       "description": "",
       "description_allow_html": false,
       "layout": "IPY_MODEL_f07b640e1c4544a38cb22b30caf0664e",
       "max": 2910,
       "min": 0,
       "orientation": "horizontal",
       "style": "IPY_MODEL_7f3f528136974da4afdb85dcf06e3c99",
       "tabbable": null,
       "tooltip": null,
       "value": 2910
      }
     },
     "2f3f0091278e451fa962e89729bc970d": {
      "model_module": "@jupyter-widgets/controls",
      "model_module_version": "2.0.0",
      "model_name": "HTMLStyleModel",
      "state": {
       "_model_module": "@jupyter-widgets/controls",
       "_model_module_version": "2.0.0",
       "_model_name": "HTMLStyleModel",
       "_view_count": null,
       "_view_module": "@jupyter-widgets/base",
       "_view_module_version": "2.0.0",
       "_view_name": "StyleView",
       "background": null,
       "description_width": "",
       "font_size": null,
       "text_color": null
      }
     },
     "319e8f31f007433189581c12e29b3a75": {
      "model_module": "@jupyter-widgets/base",
      "model_module_version": "2.0.0",
      "model_name": "LayoutModel",
      "state": {
       "_model_module": "@jupyter-widgets/base",
       "_model_module_version": "2.0.0",
       "_model_name": "LayoutModel",
       "_view_count": null,
       "_view_module": "@jupyter-widgets/base",
       "_view_module_version": "2.0.0",
       "_view_name": "LayoutView",
       "align_content": null,
       "align_items": null,
       "align_self": null,
       "border_bottom": null,
       "border_left": null,
       "border_right": null,
       "border_top": null,
       "bottom": null,
       "display": null,
       "flex": null,
       "flex_flow": null,
       "grid_area": null,
       "grid_auto_columns": null,
       "grid_auto_flow": null,
       "grid_auto_rows": null,
       "grid_column": null,
       "grid_gap": null,
       "grid_row": null,
       "grid_template_areas": null,
       "grid_template_columns": null,
       "grid_template_rows": null,
       "height": null,
       "justify_content": null,
       "justify_items": null,
       "left": null,
       "margin": null,
       "max_height": null,
       "max_width": null,
       "min_height": null,
       "min_width": null,
       "object_fit": null,
       "object_position": null,
       "order": null,
       "overflow": null,
       "padding": null,
       "right": null,
       "top": null,
       "visibility": null,
       "width": null
      }
     },
     "31f7c6dfdaa6475294d8bca905eadbda": {
      "model_module": "@jupyter-widgets/base",
      "model_module_version": "2.0.0",
      "model_name": "LayoutModel",
      "state": {
       "_model_module": "@jupyter-widgets/base",
       "_model_module_version": "2.0.0",
       "_model_name": "LayoutModel",
       "_view_count": null,
       "_view_module": "@jupyter-widgets/base",
       "_view_module_version": "2.0.0",
       "_view_name": "LayoutView",
       "align_content": null,
       "align_items": null,
       "align_self": null,
       "border_bottom": null,
       "border_left": null,
       "border_right": null,
       "border_top": null,
       "bottom": null,
       "display": null,
       "flex": null,
       "flex_flow": null,
       "grid_area": null,
       "grid_auto_columns": null,
       "grid_auto_flow": null,
       "grid_auto_rows": null,
       "grid_column": null,
       "grid_gap": null,
       "grid_row": null,
       "grid_template_areas": null,
       "grid_template_columns": null,
       "grid_template_rows": null,
       "height": null,
       "justify_content": null,
       "justify_items": null,
       "left": null,
       "margin": null,
       "max_height": null,
       "max_width": null,
       "min_height": null,
       "min_width": null,
       "object_fit": null,
       "object_position": null,
       "order": null,
       "overflow": null,
       "padding": null,
       "right": null,
       "top": null,
       "visibility": null,
       "width": null
      }
     },
     "3398dbe96cc546489e7e6645240dacf6": {
      "model_module": "@jupyter-widgets/base",
      "model_module_version": "2.0.0",
      "model_name": "LayoutModel",
      "state": {
       "_model_module": "@jupyter-widgets/base",
       "_model_module_version": "2.0.0",
       "_model_name": "LayoutModel",
       "_view_count": null,
       "_view_module": "@jupyter-widgets/base",
       "_view_module_version": "2.0.0",
       "_view_name": "LayoutView",
       "align_content": null,
       "align_items": null,
       "align_self": null,
       "border_bottom": null,
       "border_left": null,
       "border_right": null,
       "border_top": null,
       "bottom": null,
       "display": null,
       "flex": null,
       "flex_flow": null,
       "grid_area": null,
       "grid_auto_columns": null,
       "grid_auto_flow": null,
       "grid_auto_rows": null,
       "grid_column": null,
       "grid_gap": null,
       "grid_row": null,
       "grid_template_areas": null,
       "grid_template_columns": null,
       "grid_template_rows": null,
       "height": null,
       "justify_content": null,
       "justify_items": null,
       "left": null,
       "margin": null,
       "max_height": null,
       "max_width": null,
       "min_height": null,
       "min_width": null,
       "object_fit": null,
       "object_position": null,
       "order": null,
       "overflow": null,
       "padding": null,
       "right": null,
       "top": null,
       "visibility": null,
       "width": null
      }
     },
     "37f965c0d1594a0a9e6e46c4c74cb59c": {
      "model_module": "@jupyter-widgets/base",
      "model_module_version": "2.0.0",
      "model_name": "LayoutModel",
      "state": {
       "_model_module": "@jupyter-widgets/base",
       "_model_module_version": "2.0.0",
       "_model_name": "LayoutModel",
       "_view_count": null,
       "_view_module": "@jupyter-widgets/base",
       "_view_module_version": "2.0.0",
       "_view_name": "LayoutView",
       "align_content": null,
       "align_items": null,
       "align_self": null,
       "border_bottom": null,
       "border_left": null,
       "border_right": null,
       "border_top": null,
       "bottom": null,
       "display": null,
       "flex": null,
       "flex_flow": null,
       "grid_area": null,
       "grid_auto_columns": null,
       "grid_auto_flow": null,
       "grid_auto_rows": null,
       "grid_column": null,
       "grid_gap": null,
       "grid_row": null,
       "grid_template_areas": null,
       "grid_template_columns": null,
       "grid_template_rows": null,
       "height": null,
       "justify_content": null,
       "justify_items": null,
       "left": null,
       "margin": null,
       "max_height": null,
       "max_width": null,
       "min_height": null,
       "min_width": null,
       "object_fit": null,
       "object_position": null,
       "order": null,
       "overflow": null,
       "padding": null,
       "right": null,
       "top": null,
       "visibility": null,
       "width": null
      }
     },
     "3ca95c0830244e7f927cfaff94e6d360": {
      "model_module": "@jupyter-widgets/controls",
      "model_module_version": "2.0.0",
      "model_name": "HTMLModel",
      "state": {
       "_dom_classes": [],
       "_model_module": "@jupyter-widgets/controls",
       "_model_module_version": "2.0.0",
       "_model_name": "HTMLModel",
       "_view_count": null,
       "_view_module": "@jupyter-widgets/controls",
       "_view_module_version": "2.0.0",
       "_view_name": "HTMLView",
       "description": "",
       "description_allow_html": false,
       "layout": "IPY_MODEL_29807d324f944892ac87c6a5eaa06192",
       "placeholder": "​",
       "style": "IPY_MODEL_18403d62a8404378ba180feb18005e4a",
       "tabbable": null,
       "tooltip": null,
       "value": " 4370/4370 [00:00&lt;00:00, 6562.63 examples/s]"
      }
     },
     "465890413dc4484bb339e45ea5eae3c3": {
      "model_module": "@jupyter-widgets/base",
      "model_module_version": "2.0.0",
      "model_name": "LayoutModel",
      "state": {
       "_model_module": "@jupyter-widgets/base",
       "_model_module_version": "2.0.0",
       "_model_name": "LayoutModel",
       "_view_count": null,
       "_view_module": "@jupyter-widgets/base",
       "_view_module_version": "2.0.0",
       "_view_name": "LayoutView",
       "align_content": null,
       "align_items": null,
       "align_self": null,
       "border_bottom": null,
       "border_left": null,
       "border_right": null,
       "border_top": null,
       "bottom": null,
       "display": null,
       "flex": null,
       "flex_flow": null,
       "grid_area": null,
       "grid_auto_columns": null,
       "grid_auto_flow": null,
       "grid_auto_rows": null,
       "grid_column": null,
       "grid_gap": null,
       "grid_row": null,
       "grid_template_areas": null,
       "grid_template_columns": null,
       "grid_template_rows": null,
       "height": null,
       "justify_content": null,
       "justify_items": null,
       "left": null,
       "margin": null,
       "max_height": null,
       "max_width": null,
       "min_height": null,
       "min_width": null,
       "object_fit": null,
       "object_position": null,
       "order": null,
       "overflow": null,
       "padding": null,
       "right": null,
       "top": null,
       "visibility": null,
       "width": null
      }
     },
     "489457ccdfee437590550fce8cc22a65": {
      "model_module": "@jupyter-widgets/controls",
      "model_module_version": "2.0.0",
      "model_name": "HTMLModel",
      "state": {
       "_dom_classes": [],
       "_model_module": "@jupyter-widgets/controls",
       "_model_module_version": "2.0.0",
       "_model_name": "HTMLModel",
       "_view_count": null,
       "_view_module": "@jupyter-widgets/controls",
       "_view_module_version": "2.0.0",
       "_view_name": "HTMLView",
       "description": "",
       "description_allow_html": false,
       "layout": "IPY_MODEL_a5d6f0c3df4b41239912f69b7f76a05d",
       "placeholder": "​",
       "style": "IPY_MODEL_0eae588571ba4ea7abe0973ce2bd21e5",
       "tabbable": null,
       "tooltip": null,
       "value": "Map: 100%"
      }
     },
     "5e7ef871fb3044689ec8f45f880e4eb8": {
      "model_module": "@jupyter-widgets/controls",
      "model_module_version": "2.0.0",
      "model_name": "ProgressStyleModel",
      "state": {
       "_model_module": "@jupyter-widgets/controls",
       "_model_module_version": "2.0.0",
       "_model_name": "ProgressStyleModel",
       "_view_count": null,
       "_view_module": "@jupyter-widgets/base",
       "_view_module_version": "2.0.0",
       "_view_name": "StyleView",
       "bar_color": null,
       "description_width": ""
      }
     },
     "60d93dff6caa4bd88ec7540450873316": {
      "model_module": "@jupyter-widgets/controls",
      "model_module_version": "2.0.0",
      "model_name": "HTMLModel",
      "state": {
       "_dom_classes": [],
       "_model_module": "@jupyter-widgets/controls",
       "_model_module_version": "2.0.0",
       "_model_name": "HTMLModel",
       "_view_count": null,
       "_view_module": "@jupyter-widgets/controls",
       "_view_module_version": "2.0.0",
       "_view_name": "HTMLView",
       "description": "",
       "description_allow_html": false,
       "layout": "IPY_MODEL_edccaa95984045af9e80c54cef838c92",
       "placeholder": "​",
       "style": "IPY_MODEL_2f3f0091278e451fa962e89729bc970d",
       "tabbable": null,
       "tooltip": null,
       "value": "Map: 100%"
      }
     },
     "62aa9c11c87e4b65a9b08d7339a2c65b": {
      "model_module": "@jupyter-widgets/base",
      "model_module_version": "2.0.0",
      "model_name": "LayoutModel",
      "state": {
       "_model_module": "@jupyter-widgets/base",
       "_model_module_version": "2.0.0",
       "_model_name": "LayoutModel",
       "_view_count": null,
       "_view_module": "@jupyter-widgets/base",
       "_view_module_version": "2.0.0",
       "_view_name": "LayoutView",
       "align_content": null,
       "align_items": null,
       "align_self": null,
       "border_bottom": null,
       "border_left": null,
       "border_right": null,
       "border_top": null,
       "bottom": null,
       "display": null,
       "flex": null,
       "flex_flow": null,
       "grid_area": null,
       "grid_auto_columns": null,
       "grid_auto_flow": null,
       "grid_auto_rows": null,
       "grid_column": null,
       "grid_gap": null,
       "grid_row": null,
       "grid_template_areas": null,
       "grid_template_columns": null,
       "grid_template_rows": null,
       "height": null,
       "justify_content": null,
       "justify_items": null,
       "left": null,
       "margin": null,
       "max_height": null,
       "max_width": null,
       "min_height": null,
       "min_width": null,
       "object_fit": null,
       "object_position": null,
       "order": null,
       "overflow": null,
       "padding": null,
       "right": null,
       "top": null,
       "visibility": null,
       "width": null
      }
     },
     "679cfc6de2384219a063446435fb9a11": {
      "model_module": "@jupyter-widgets/controls",
      "model_module_version": "2.0.0",
      "model_name": "HBoxModel",
      "state": {
       "_dom_classes": [],
       "_model_module": "@jupyter-widgets/controls",
       "_model_module_version": "2.0.0",
       "_model_name": "HBoxModel",
       "_view_count": null,
       "_view_module": "@jupyter-widgets/controls",
       "_view_module_version": "2.0.0",
       "_view_name": "HBoxView",
       "box_style": "",
       "children": [
        "IPY_MODEL_489457ccdfee437590550fce8cc22a65",
        "IPY_MODEL_98d53ce266f545699dc4c8b0f2c977ec",
        "IPY_MODEL_731941cdc63341259729b6923e9fc5e9"
       ],
       "layout": "IPY_MODEL_11158920668648e994d2ca1e531b8ba7",
       "tabbable": null,
       "tooltip": null
      }
     },
     "6c1d39236fd448208a2a67aadc4c2c92": {
      "model_module": "@jupyter-widgets/base",
      "model_module_version": "2.0.0",
      "model_name": "LayoutModel",
      "state": {
       "_model_module": "@jupyter-widgets/base",
       "_model_module_version": "2.0.0",
       "_model_name": "LayoutModel",
       "_view_count": null,
       "_view_module": "@jupyter-widgets/base",
       "_view_module_version": "2.0.0",
       "_view_name": "LayoutView",
       "align_content": null,
       "align_items": null,
       "align_self": null,
       "border_bottom": null,
       "border_left": null,
       "border_right": null,
       "border_top": null,
       "bottom": null,
       "display": null,
       "flex": null,
       "flex_flow": null,
       "grid_area": null,
       "grid_auto_columns": null,
       "grid_auto_flow": null,
       "grid_auto_rows": null,
       "grid_column": null,
       "grid_gap": null,
       "grid_row": null,
       "grid_template_areas": null,
       "grid_template_columns": null,
       "grid_template_rows": null,
       "height": null,
       "justify_content": null,
       "justify_items": null,
       "left": null,
       "margin": null,
       "max_height": null,
       "max_width": null,
       "min_height": null,
       "min_width": null,
       "object_fit": null,
       "object_position": null,
       "order": null,
       "overflow": null,
       "padding": null,
       "right": null,
       "top": null,
       "visibility": null,
       "width": null
      }
     },
     "6e3883feeedb4ecf8592388dfc6d465e": {
      "model_module": "@jupyter-widgets/base",
      "model_module_version": "2.0.0",
      "model_name": "LayoutModel",
      "state": {
       "_model_module": "@jupyter-widgets/base",
       "_model_module_version": "2.0.0",
       "_model_name": "LayoutModel",
       "_view_count": null,
       "_view_module": "@jupyter-widgets/base",
       "_view_module_version": "2.0.0",
       "_view_name": "LayoutView",
       "align_content": null,
       "align_items": null,
       "align_self": null,
       "border_bottom": null,
       "border_left": null,
       "border_right": null,
       "border_top": null,
       "bottom": null,
       "display": null,
       "flex": null,
       "flex_flow": null,
       "grid_area": null,
       "grid_auto_columns": null,
       "grid_auto_flow": null,
       "grid_auto_rows": null,
       "grid_column": null,
       "grid_gap": null,
       "grid_row": null,
       "grid_template_areas": null,
       "grid_template_columns": null,
       "grid_template_rows": null,
       "height": null,
       "justify_content": null,
       "justify_items": null,
       "left": null,
       "margin": null,
       "max_height": null,
       "max_width": null,
       "min_height": null,
       "min_width": null,
       "object_fit": null,
       "object_position": null,
       "order": null,
       "overflow": null,
       "padding": null,
       "right": null,
       "top": null,
       "visibility": null,
       "width": null
      }
     },
     "731941cdc63341259729b6923e9fc5e9": {
      "model_module": "@jupyter-widgets/controls",
      "model_module_version": "2.0.0",
      "model_name": "HTMLModel",
      "state": {
       "_dom_classes": [],
       "_model_module": "@jupyter-widgets/controls",
       "_model_module_version": "2.0.0",
       "_model_name": "HTMLModel",
       "_view_count": null,
       "_view_module": "@jupyter-widgets/controls",
       "_view_module_version": "2.0.0",
       "_view_name": "HTMLView",
       "description": "",
       "description_allow_html": false,
       "layout": "IPY_MODEL_eeab1a8350974ba9a38ea88a7717d08e",
       "placeholder": "​",
       "style": "IPY_MODEL_b3b270d954a74cc5b751c62bfc390a38",
       "tabbable": null,
       "tooltip": null,
       "value": " 1460/1460 [00:00&lt;00:00, 11881.77 examples/s]"
      }
     },
     "7664b1288ddc4a12b264b692fa4cd44e": {
      "model_module": "@jupyter-widgets/base",
      "model_module_version": "2.0.0",
      "model_name": "LayoutModel",
      "state": {
       "_model_module": "@jupyter-widgets/base",
       "_model_module_version": "2.0.0",
       "_model_name": "LayoutModel",
       "_view_count": null,
       "_view_module": "@jupyter-widgets/base",
       "_view_module_version": "2.0.0",
       "_view_name": "LayoutView",
       "align_content": null,
       "align_items": null,
       "align_self": null,
       "border_bottom": null,
       "border_left": null,
       "border_right": null,
       "border_top": null,
       "bottom": null,
       "display": null,
       "flex": null,
       "flex_flow": null,
       "grid_area": null,
       "grid_auto_columns": null,
       "grid_auto_flow": null,
       "grid_auto_rows": null,
       "grid_column": null,
       "grid_gap": null,
       "grid_row": null,
       "grid_template_areas": null,
       "grid_template_columns": null,
       "grid_template_rows": null,
       "height": null,
       "justify_content": null,
       "justify_items": null,
       "left": null,
       "margin": null,
       "max_height": null,
       "max_width": null,
       "min_height": null,
       "min_width": null,
       "object_fit": null,
       "object_position": null,
       "order": null,
       "overflow": null,
       "padding": null,
       "right": null,
       "top": null,
       "visibility": null,
       "width": null
      }
     },
     "7cd5255247134826b89c98ea81d8caa9": {
      "model_module": "@jupyter-widgets/controls",
      "model_module_version": "2.0.0",
      "model_name": "HTMLStyleModel",
      "state": {
       "_model_module": "@jupyter-widgets/controls",
       "_model_module_version": "2.0.0",
       "_model_name": "HTMLStyleModel",
       "_view_count": null,
       "_view_module": "@jupyter-widgets/base",
       "_view_module_version": "2.0.0",
       "_view_name": "StyleView",
       "background": null,
       "description_width": "",
       "font_size": null,
       "text_color": null
      }
     },
     "7ecd8cd301f541a49bc3a36117eb0f4f": {
      "model_module": "@jupyter-widgets/controls",
      "model_module_version": "2.0.0",
      "model_name": "HBoxModel",
      "state": {
       "_dom_classes": [],
       "_model_module": "@jupyter-widgets/controls",
       "_model_module_version": "2.0.0",
       "_model_name": "HBoxModel",
       "_view_count": null,
       "_view_module": "@jupyter-widgets/controls",
       "_view_module_version": "2.0.0",
       "_view_name": "HBoxView",
       "box_style": "",
       "children": [
        "IPY_MODEL_f99516e2441c4c649e3b1dd36f046395",
        "IPY_MODEL_1a0a16968e254bc79d55f43e5b80e6fd",
        "IPY_MODEL_9f6a75b5f9a44f70b5a641863c48c469"
       ],
       "layout": "IPY_MODEL_465890413dc4484bb339e45ea5eae3c3",
       "tabbable": null,
       "tooltip": null
      }
     },
     "7f3f528136974da4afdb85dcf06e3c99": {
      "model_module": "@jupyter-widgets/controls",
      "model_module_version": "2.0.0",
      "model_name": "ProgressStyleModel",
      "state": {
       "_model_module": "@jupyter-widgets/controls",
       "_model_module_version": "2.0.0",
       "_model_name": "ProgressStyleModel",
       "_view_count": null,
       "_view_module": "@jupyter-widgets/base",
       "_view_module_version": "2.0.0",
       "_view_name": "StyleView",
       "bar_color": null,
       "description_width": ""
      }
     },
     "8532dcee5ba44d71b5db6a5a280f8bc9": {
      "model_module": "@jupyter-widgets/controls",
      "model_module_version": "2.0.0",
      "model_name": "HBoxModel",
      "state": {
       "_dom_classes": [],
       "_model_module": "@jupyter-widgets/controls",
       "_model_module_version": "2.0.0",
       "_model_name": "HBoxModel",
       "_view_count": null,
       "_view_module": "@jupyter-widgets/controls",
       "_view_module_version": "2.0.0",
       "_view_name": "HBoxView",
       "box_style": "",
       "children": [
        "IPY_MODEL_26b1d92da01b4c10938da135794b0c5b",
        "IPY_MODEL_2e7275938c7f49b28fe54c0b028c2565",
        "IPY_MODEL_97c91f13efff4a88a12e8ca1eb534f56"
       ],
       "layout": "IPY_MODEL_e4abf9c42308457a932c045cfae9a4f0",
       "tabbable": null,
       "tooltip": null
      }
     },
     "860a6cda02d94be38a53aed85a0d6828": {
      "model_module": "@jupyter-widgets/controls",
      "model_module_version": "2.0.0",
      "model_name": "HBoxModel",
      "state": {
       "_dom_classes": [],
       "_model_module": "@jupyter-widgets/controls",
       "_model_module_version": "2.0.0",
       "_model_name": "HBoxModel",
       "_view_count": null,
       "_view_module": "@jupyter-widgets/controls",
       "_view_module_version": "2.0.0",
       "_view_name": "HBoxView",
       "box_style": "",
       "children": [
        "IPY_MODEL_60d93dff6caa4bd88ec7540450873316",
        "IPY_MODEL_fba5c97dd2da4610a657cdd1eb1d0dec",
        "IPY_MODEL_117c238656a648d7b29da8296ee43474"
       ],
       "layout": "IPY_MODEL_de0d578526e44a08918da7e7ddfc2e2a",
       "tabbable": null,
       "tooltip": null
      }
     },
     "877de7b6d2da4ac89bfed2e038d67dc8": {
      "model_module": "@jupyter-widgets/controls",
      "model_module_version": "2.0.0",
      "model_name": "ProgressStyleModel",
      "state": {
       "_model_module": "@jupyter-widgets/controls",
       "_model_module_version": "2.0.0",
       "_model_name": "ProgressStyleModel",
       "_view_count": null,
       "_view_module": "@jupyter-widgets/base",
       "_view_module_version": "2.0.0",
       "_view_name": "StyleView",
       "bar_color": null,
       "description_width": ""
      }
     },
     "978cef35ebe24c839406f12bf0512388": {
      "model_module": "@jupyter-widgets/controls",
      "model_module_version": "2.0.0",
      "model_name": "FloatProgressModel",
      "state": {
       "_dom_classes": [],
       "_model_module": "@jupyter-widgets/controls",
       "_model_module_version": "2.0.0",
       "_model_name": "FloatProgressModel",
       "_view_count": null,
       "_view_module": "@jupyter-widgets/controls",
       "_view_module_version": "2.0.0",
       "_view_name": "ProgressView",
       "bar_style": "success",
       "description": "",
       "description_allow_html": false,
       "layout": "IPY_MODEL_6c1d39236fd448208a2a67aadc4c2c92",
       "max": 4370,
       "min": 0,
       "orientation": "horizontal",
       "style": "IPY_MODEL_b1ad66c57fe443f9a3bb9fddce60ebbc",
       "tabbable": null,
       "tooltip": null,
       "value": 4370
      }
     },
     "97c91f13efff4a88a12e8ca1eb534f56": {
      "model_module": "@jupyter-widgets/controls",
      "model_module_version": "2.0.0",
      "model_name": "HTMLModel",
      "state": {
       "_dom_classes": [],
       "_model_module": "@jupyter-widgets/controls",
       "_model_module_version": "2.0.0",
       "_model_name": "HTMLModel",
       "_view_count": null,
       "_view_module": "@jupyter-widgets/controls",
       "_view_module_version": "2.0.0",
       "_view_name": "HTMLView",
       "description": "",
       "description_allow_html": false,
       "layout": "IPY_MODEL_62aa9c11c87e4b65a9b08d7339a2c65b",
       "placeholder": "​",
       "style": "IPY_MODEL_1728dfce451d467e9933f1788ac53852",
       "tabbable": null,
       "tooltip": null,
       "value": " 2910/2910 [00:04&lt;00:00, 777.83 examples/s]"
      }
     },
     "98d53ce266f545699dc4c8b0f2c977ec": {
      "model_module": "@jupyter-widgets/controls",
      "model_module_version": "2.0.0",
      "model_name": "FloatProgressModel",
      "state": {
       "_dom_classes": [],
       "_model_module": "@jupyter-widgets/controls",
       "_model_module_version": "2.0.0",
       "_model_name": "FloatProgressModel",
       "_view_count": null,
       "_view_module": "@jupyter-widgets/controls",
       "_view_module_version": "2.0.0",
       "_view_name": "ProgressView",
       "bar_style": "success",
       "description": "",
       "description_allow_html": false,
       "layout": "IPY_MODEL_6e3883feeedb4ecf8592388dfc6d465e",
       "max": 1460,
       "min": 0,
       "orientation": "horizontal",
       "style": "IPY_MODEL_1c06f5de96e347fb8f9856c5c2ab3544",
       "tabbable": null,
       "tooltip": null,
       "value": 1460
      }
     },
     "9eb8d636574f446793ddce31a2e4efee": {
      "model_module": "@jupyter-widgets/controls",
      "model_module_version": "2.0.0",
      "model_name": "HTMLModel",
      "state": {
       "_dom_classes": [],
       "_model_module": "@jupyter-widgets/controls",
       "_model_module_version": "2.0.0",
       "_model_name": "HTMLModel",
       "_view_count": null,
       "_view_module": "@jupyter-widgets/controls",
       "_view_module_version": "2.0.0",
       "_view_name": "HTMLView",
       "description": "",
       "description_allow_html": false,
       "layout": "IPY_MODEL_319e8f31f007433189581c12e29b3a75",
       "placeholder": "​",
       "style": "IPY_MODEL_cc9329bb95de4bff9d5f86d341b004cf",
       "tabbable": null,
       "tooltip": null,
       "value": " 4370/4370 [00:00&lt;00:00, 6171.42 examples/s]"
      }
     },
     "9f6a75b5f9a44f70b5a641863c48c469": {
      "model_module": "@jupyter-widgets/controls",
      "model_module_version": "2.0.0",
      "model_name": "HTMLModel",
      "state": {
       "_dom_classes": [],
       "_model_module": "@jupyter-widgets/controls",
       "_model_module_version": "2.0.0",
       "_model_name": "HTMLModel",
       "_view_count": null,
       "_view_module": "@jupyter-widgets/controls",
       "_view_module_version": "2.0.0",
       "_view_name": "HTMLView",
       "description": "",
       "description_allow_html": false,
       "layout": "IPY_MODEL_7664b1288ddc4a12b264b692fa4cd44e",
       "placeholder": "​",
       "style": "IPY_MODEL_7cd5255247134826b89c98ea81d8caa9",
       "tabbable": null,
       "tooltip": null,
       "value": " 1460/1460 [00:04&lt;00:00, 403.79 examples/s]"
      }
     },
     "a5d6f0c3df4b41239912f69b7f76a05d": {
      "model_module": "@jupyter-widgets/base",
      "model_module_version": "2.0.0",
      "model_name": "LayoutModel",
      "state": {
       "_model_module": "@jupyter-widgets/base",
       "_model_module_version": "2.0.0",
       "_model_name": "LayoutModel",
       "_view_count": null,
       "_view_module": "@jupyter-widgets/base",
       "_view_module_version": "2.0.0",
       "_view_name": "LayoutView",
       "align_content": null,
       "align_items": null,
       "align_self": null,
       "border_bottom": null,
       "border_left": null,
       "border_right": null,
       "border_top": null,
       "bottom": null,
       "display": null,
       "flex": null,
       "flex_flow": null,
       "grid_area": null,
       "grid_auto_columns": null,
       "grid_auto_flow": null,
       "grid_auto_rows": null,
       "grid_column": null,
       "grid_gap": null,
       "grid_row": null,
       "grid_template_areas": null,
       "grid_template_columns": null,
       "grid_template_rows": null,
       "height": null,
       "justify_content": null,
       "justify_items": null,
       "left": null,
       "margin": null,
       "max_height": null,
       "max_width": null,
       "min_height": null,
       "min_width": null,
       "object_fit": null,
       "object_position": null,
       "order": null,
       "overflow": null,
       "padding": null,
       "right": null,
       "top": null,
       "visibility": null,
       "width": null
      }
     },
     "b1ad66c57fe443f9a3bb9fddce60ebbc": {
      "model_module": "@jupyter-widgets/controls",
      "model_module_version": "2.0.0",
      "model_name": "ProgressStyleModel",
      "state": {
       "_model_module": "@jupyter-widgets/controls",
       "_model_module_version": "2.0.0",
       "_model_name": "ProgressStyleModel",
       "_view_count": null,
       "_view_module": "@jupyter-widgets/base",
       "_view_module_version": "2.0.0",
       "_view_name": "StyleView",
       "bar_color": null,
       "description_width": ""
      }
     },
     "b302589e33d440a4bca18f92fdccc516": {
      "model_module": "@jupyter-widgets/controls",
      "model_module_version": "2.0.0",
      "model_name": "HBoxModel",
      "state": {
       "_dom_classes": [],
       "_model_module": "@jupyter-widgets/controls",
       "_model_module_version": "2.0.0",
       "_model_name": "HBoxModel",
       "_view_count": null,
       "_view_module": "@jupyter-widgets/controls",
       "_view_module_version": "2.0.0",
       "_view_name": "HBoxView",
       "box_style": "",
       "children": [
        "IPY_MODEL_2afcfbd669cb497a819450ec23587552",
        "IPY_MODEL_2cf645ee721c4ea894562e41c75ea815",
        "IPY_MODEL_3ca95c0830244e7f927cfaff94e6d360"
       ],
       "layout": "IPY_MODEL_bd3f9eda00094504915f74f184428a58",
       "tabbable": null,
       "tooltip": null
      }
     },
     "b3b270d954a74cc5b751c62bfc390a38": {
      "model_module": "@jupyter-widgets/controls",
      "model_module_version": "2.0.0",
      "model_name": "HTMLStyleModel",
      "state": {
       "_model_module": "@jupyter-widgets/controls",
       "_model_module_version": "2.0.0",
       "_model_name": "HTMLStyleModel",
       "_view_count": null,
       "_view_module": "@jupyter-widgets/base",
       "_view_module_version": "2.0.0",
       "_view_name": "StyleView",
       "background": null,
       "description_width": "",
       "font_size": null,
       "text_color": null
      }
     },
     "b4a627a492904ecca863deb88a3e6702": {
      "model_module": "@jupyter-widgets/base",
      "model_module_version": "2.0.0",
      "model_name": "LayoutModel",
      "state": {
       "_model_module": "@jupyter-widgets/base",
       "_model_module_version": "2.0.0",
       "_model_name": "LayoutModel",
       "_view_count": null,
       "_view_module": "@jupyter-widgets/base",
       "_view_module_version": "2.0.0",
       "_view_name": "LayoutView",
       "align_content": null,
       "align_items": null,
       "align_self": null,
       "border_bottom": null,
       "border_left": null,
       "border_right": null,
       "border_top": null,
       "bottom": null,
       "display": null,
       "flex": null,
       "flex_flow": null,
       "grid_area": null,
       "grid_auto_columns": null,
       "grid_auto_flow": null,
       "grid_auto_rows": null,
       "grid_column": null,
       "grid_gap": null,
       "grid_row": null,
       "grid_template_areas": null,
       "grid_template_columns": null,
       "grid_template_rows": null,
       "height": null,
       "justify_content": null,
       "justify_items": null,
       "left": null,
       "margin": null,
       "max_height": null,
       "max_width": null,
       "min_height": null,
       "min_width": null,
       "object_fit": null,
       "object_position": null,
       "order": null,
       "overflow": null,
       "padding": null,
       "right": null,
       "top": null,
       "visibility": null,
       "width": null
      }
     },
     "b908a5234f6548d18fbb7a8a3d403e1e": {
      "model_module": "@jupyter-widgets/controls",
      "model_module_version": "2.0.0",
      "model_name": "HTMLStyleModel",
      "state": {
       "_model_module": "@jupyter-widgets/controls",
       "_model_module_version": "2.0.0",
       "_model_name": "HTMLStyleModel",
       "_view_count": null,
       "_view_module": "@jupyter-widgets/base",
       "_view_module_version": "2.0.0",
       "_view_name": "StyleView",
       "background": null,
       "description_width": "",
       "font_size": null,
       "text_color": null
      }
     },
     "bd3f9eda00094504915f74f184428a58": {
      "model_module": "@jupyter-widgets/base",
      "model_module_version": "2.0.0",
      "model_name": "LayoutModel",
      "state": {
       "_model_module": "@jupyter-widgets/base",
       "_model_module_version": "2.0.0",
       "_model_name": "LayoutModel",
       "_view_count": null,
       "_view_module": "@jupyter-widgets/base",
       "_view_module_version": "2.0.0",
       "_view_name": "LayoutView",
       "align_content": null,
       "align_items": null,
       "align_self": null,
       "border_bottom": null,
       "border_left": null,
       "border_right": null,
       "border_top": null,
       "bottom": null,
       "display": null,
       "flex": null,
       "flex_flow": null,
       "grid_area": null,
       "grid_auto_columns": null,
       "grid_auto_flow": null,
       "grid_auto_rows": null,
       "grid_column": null,
       "grid_gap": null,
       "grid_row": null,
       "grid_template_areas": null,
       "grid_template_columns": null,
       "grid_template_rows": null,
       "height": null,
       "justify_content": null,
       "justify_items": null,
       "left": null,
       "margin": null,
       "max_height": null,
       "max_width": null,
       "min_height": null,
       "min_width": null,
       "object_fit": null,
       "object_position": null,
       "order": null,
       "overflow": null,
       "padding": null,
       "right": null,
       "top": null,
       "visibility": null,
       "width": null
      }
     },
     "be0d7f476de745ee907f3a80d9f0c458": {
      "model_module": "@jupyter-widgets/base",
      "model_module_version": "2.0.0",
      "model_name": "LayoutModel",
      "state": {
       "_model_module": "@jupyter-widgets/base",
       "_model_module_version": "2.0.0",
       "_model_name": "LayoutModel",
       "_view_count": null,
       "_view_module": "@jupyter-widgets/base",
       "_view_module_version": "2.0.0",
       "_view_name": "LayoutView",
       "align_content": null,
       "align_items": null,
       "align_self": null,
       "border_bottom": null,
       "border_left": null,
       "border_right": null,
       "border_top": null,
       "bottom": null,
       "display": null,
       "flex": null,
       "flex_flow": null,
       "grid_area": null,
       "grid_auto_columns": null,
       "grid_auto_flow": null,
       "grid_auto_rows": null,
       "grid_column": null,
       "grid_gap": null,
       "grid_row": null,
       "grid_template_areas": null,
       "grid_template_columns": null,
       "grid_template_rows": null,
       "height": null,
       "justify_content": null,
       "justify_items": null,
       "left": null,
       "margin": null,
       "max_height": null,
       "max_width": null,
       "min_height": null,
       "min_width": null,
       "object_fit": null,
       "object_position": null,
       "order": null,
       "overflow": null,
       "padding": null,
       "right": null,
       "top": null,
       "visibility": null,
       "width": null
      }
     },
     "c14c4059133d42d7af2eef835920b2c3": {
      "model_module": "@jupyter-widgets/base",
      "model_module_version": "2.0.0",
      "model_name": "LayoutModel",
      "state": {
       "_model_module": "@jupyter-widgets/base",
       "_model_module_version": "2.0.0",
       "_model_name": "LayoutModel",
       "_view_count": null,
       "_view_module": "@jupyter-widgets/base",
       "_view_module_version": "2.0.0",
       "_view_name": "LayoutView",
       "align_content": null,
       "align_items": null,
       "align_self": null,
       "border_bottom": null,
       "border_left": null,
       "border_right": null,
       "border_top": null,
       "bottom": null,
       "display": null,
       "flex": null,
       "flex_flow": null,
       "grid_area": null,
       "grid_auto_columns": null,
       "grid_auto_flow": null,
       "grid_auto_rows": null,
       "grid_column": null,
       "grid_gap": null,
       "grid_row": null,
       "grid_template_areas": null,
       "grid_template_columns": null,
       "grid_template_rows": null,
       "height": null,
       "justify_content": null,
       "justify_items": null,
       "left": null,
       "margin": null,
       "max_height": null,
       "max_width": null,
       "min_height": null,
       "min_width": null,
       "object_fit": null,
       "object_position": null,
       "order": null,
       "overflow": null,
       "padding": null,
       "right": null,
       "top": null,
       "visibility": null,
       "width": null
      }
     },
     "c1f48b73c26148e29ac0aef46072fa21": {
      "model_module": "@jupyter-widgets/controls",
      "model_module_version": "2.0.0",
      "model_name": "HTMLStyleModel",
      "state": {
       "_model_module": "@jupyter-widgets/controls",
       "_model_module_version": "2.0.0",
       "_model_name": "HTMLStyleModel",
       "_view_count": null,
       "_view_module": "@jupyter-widgets/base",
       "_view_module_version": "2.0.0",
       "_view_name": "StyleView",
       "background": null,
       "description_width": "",
       "font_size": null,
       "text_color": null
      }
     },
     "c9bc9fa0e6264b9db5b33e97ae307b21": {
      "model_module": "@jupyter-widgets/controls",
      "model_module_version": "2.0.0",
      "model_name": "HTMLModel",
      "state": {
       "_dom_classes": [],
       "_model_module": "@jupyter-widgets/controls",
       "_model_module_version": "2.0.0",
       "_model_name": "HTMLModel",
       "_view_count": null,
       "_view_module": "@jupyter-widgets/controls",
       "_view_module_version": "2.0.0",
       "_view_name": "HTMLView",
       "description": "",
       "description_allow_html": false,
       "layout": "IPY_MODEL_c14c4059133d42d7af2eef835920b2c3",
       "placeholder": "​",
       "style": "IPY_MODEL_d4ad80f110154e30a38a62da22e9488c",
       "tabbable": null,
       "tooltip": null,
       "value": "Filter (num_proc=16): 100%"
      }
     },
     "cc9329bb95de4bff9d5f86d341b004cf": {
      "model_module": "@jupyter-widgets/controls",
      "model_module_version": "2.0.0",
      "model_name": "HTMLStyleModel",
      "state": {
       "_model_module": "@jupyter-widgets/controls",
       "_model_module_version": "2.0.0",
       "_model_name": "HTMLStyleModel",
       "_view_count": null,
       "_view_module": "@jupyter-widgets/base",
       "_view_module_version": "2.0.0",
       "_view_name": "StyleView",
       "background": null,
       "description_width": "",
       "font_size": null,
       "text_color": null
      }
     },
     "cd1a8c544c2349eb9b175b98489ad798": {
      "model_module": "@jupyter-widgets/controls",
      "model_module_version": "2.0.0",
      "model_name": "HBoxModel",
      "state": {
       "_dom_classes": [],
       "_model_module": "@jupyter-widgets/controls",
       "_model_module_version": "2.0.0",
       "_model_name": "HBoxModel",
       "_view_count": null,
       "_view_module": "@jupyter-widgets/controls",
       "_view_module_version": "2.0.0",
       "_view_name": "HBoxView",
       "box_style": "",
       "children": [
        "IPY_MODEL_c9bc9fa0e6264b9db5b33e97ae307b21",
        "IPY_MODEL_978cef35ebe24c839406f12bf0512388",
        "IPY_MODEL_9eb8d636574f446793ddce31a2e4efee"
       ],
       "layout": "IPY_MODEL_37f965c0d1594a0a9e6e46c4c74cb59c",
       "tabbable": null,
       "tooltip": null
      }
     },
     "d4ad80f110154e30a38a62da22e9488c": {
      "model_module": "@jupyter-widgets/controls",
      "model_module_version": "2.0.0",
      "model_name": "HTMLStyleModel",
      "state": {
       "_model_module": "@jupyter-widgets/controls",
       "_model_module_version": "2.0.0",
       "_model_name": "HTMLStyleModel",
       "_view_count": null,
       "_view_module": "@jupyter-widgets/base",
       "_view_module_version": "2.0.0",
       "_view_name": "StyleView",
       "background": null,
       "description_width": "",
       "font_size": null,
       "text_color": null
      }
     },
     "ddccc1a2b62f4b9d9d1a670228b982f6": {
      "model_module": "@jupyter-widgets/base",
      "model_module_version": "2.0.0",
      "model_name": "LayoutModel",
      "state": {
       "_model_module": "@jupyter-widgets/base",
       "_model_module_version": "2.0.0",
       "_model_name": "LayoutModel",
       "_view_count": null,
       "_view_module": "@jupyter-widgets/base",
       "_view_module_version": "2.0.0",
       "_view_name": "LayoutView",
       "align_content": null,
       "align_items": null,
       "align_self": null,
       "border_bottom": null,
       "border_left": null,
       "border_right": null,
       "border_top": null,
       "bottom": null,
       "display": null,
       "flex": null,
       "flex_flow": null,
       "grid_area": null,
       "grid_auto_columns": null,
       "grid_auto_flow": null,
       "grid_auto_rows": null,
       "grid_column": null,
       "grid_gap": null,
       "grid_row": null,
       "grid_template_areas": null,
       "grid_template_columns": null,
       "grid_template_rows": null,
       "height": null,
       "justify_content": null,
       "justify_items": null,
       "left": null,
       "margin": null,
       "max_height": null,
       "max_width": null,
       "min_height": null,
       "min_width": null,
       "object_fit": null,
       "object_position": null,
       "order": null,
       "overflow": null,
       "padding": null,
       "right": null,
       "top": null,
       "visibility": null,
       "width": null
      }
     },
     "de0d578526e44a08918da7e7ddfc2e2a": {
      "model_module": "@jupyter-widgets/base",
      "model_module_version": "2.0.0",
      "model_name": "LayoutModel",
      "state": {
       "_model_module": "@jupyter-widgets/base",
       "_model_module_version": "2.0.0",
       "_model_name": "LayoutModel",
       "_view_count": null,
       "_view_module": "@jupyter-widgets/base",
       "_view_module_version": "2.0.0",
       "_view_name": "LayoutView",
       "align_content": null,
       "align_items": null,
       "align_self": null,
       "border_bottom": null,
       "border_left": null,
       "border_right": null,
       "border_top": null,
       "bottom": null,
       "display": null,
       "flex": null,
       "flex_flow": null,
       "grid_area": null,
       "grid_auto_columns": null,
       "grid_auto_flow": null,
       "grid_auto_rows": null,
       "grid_column": null,
       "grid_gap": null,
       "grid_row": null,
       "grid_template_areas": null,
       "grid_template_columns": null,
       "grid_template_rows": null,
       "height": null,
       "justify_content": null,
       "justify_items": null,
       "left": null,
       "margin": null,
       "max_height": null,
       "max_width": null,
       "min_height": null,
       "min_width": null,
       "object_fit": null,
       "object_position": null,
       "order": null,
       "overflow": null,
       "padding": null,
       "right": null,
       "top": null,
       "visibility": null,
       "width": null
      }
     },
     "e4abf9c42308457a932c045cfae9a4f0": {
      "model_module": "@jupyter-widgets/base",
      "model_module_version": "2.0.0",
      "model_name": "LayoutModel",
      "state": {
       "_model_module": "@jupyter-widgets/base",
       "_model_module_version": "2.0.0",
       "_model_name": "LayoutModel",
       "_view_count": null,
       "_view_module": "@jupyter-widgets/base",
       "_view_module_version": "2.0.0",
       "_view_name": "LayoutView",
       "align_content": null,
       "align_items": null,
       "align_self": null,
       "border_bottom": null,
       "border_left": null,
       "border_right": null,
       "border_top": null,
       "bottom": null,
       "display": null,
       "flex": null,
       "flex_flow": null,
       "grid_area": null,
       "grid_auto_columns": null,
       "grid_auto_flow": null,
       "grid_auto_rows": null,
       "grid_column": null,
       "grid_gap": null,
       "grid_row": null,
       "grid_template_areas": null,
       "grid_template_columns": null,
       "grid_template_rows": null,
       "height": null,
       "justify_content": null,
       "justify_items": null,
       "left": null,
       "margin": null,
       "max_height": null,
       "max_width": null,
       "min_height": null,
       "min_width": null,
       "object_fit": null,
       "object_position": null,
       "order": null,
       "overflow": null,
       "padding": null,
       "right": null,
       "top": null,
       "visibility": null,
       "width": null
      }
     },
     "e9de009225594d97af0ab90d9e2d7064": {
      "model_module": "@jupyter-widgets/controls",
      "model_module_version": "2.0.0",
      "model_name": "HTMLStyleModel",
      "state": {
       "_model_module": "@jupyter-widgets/controls",
       "_model_module_version": "2.0.0",
       "_model_name": "HTMLStyleModel",
       "_view_count": null,
       "_view_module": "@jupyter-widgets/base",
       "_view_module_version": "2.0.0",
       "_view_name": "StyleView",
       "background": null,
       "description_width": "",
       "font_size": null,
       "text_color": null
      }
     },
     "edccaa95984045af9e80c54cef838c92": {
      "model_module": "@jupyter-widgets/base",
      "model_module_version": "2.0.0",
      "model_name": "LayoutModel",
      "state": {
       "_model_module": "@jupyter-widgets/base",
       "_model_module_version": "2.0.0",
       "_model_name": "LayoutModel",
       "_view_count": null,
       "_view_module": "@jupyter-widgets/base",
       "_view_module_version": "2.0.0",
       "_view_name": "LayoutView",
       "align_content": null,
       "align_items": null,
       "align_self": null,
       "border_bottom": null,
       "border_left": null,
       "border_right": null,
       "border_top": null,
       "bottom": null,
       "display": null,
       "flex": null,
       "flex_flow": null,
       "grid_area": null,
       "grid_auto_columns": null,
       "grid_auto_flow": null,
       "grid_auto_rows": null,
       "grid_column": null,
       "grid_gap": null,
       "grid_row": null,
       "grid_template_areas": null,
       "grid_template_columns": null,
       "grid_template_rows": null,
       "height": null,
       "justify_content": null,
       "justify_items": null,
       "left": null,
       "margin": null,
       "max_height": null,
       "max_width": null,
       "min_height": null,
       "min_width": null,
       "object_fit": null,
       "object_position": null,
       "order": null,
       "overflow": null,
       "padding": null,
       "right": null,
       "top": null,
       "visibility": null,
       "width": null
      }
     },
     "eeab1a8350974ba9a38ea88a7717d08e": {
      "model_module": "@jupyter-widgets/base",
      "model_module_version": "2.0.0",
      "model_name": "LayoutModel",
      "state": {
       "_model_module": "@jupyter-widgets/base",
       "_model_module_version": "2.0.0",
       "_model_name": "LayoutModel",
       "_view_count": null,
       "_view_module": "@jupyter-widgets/base",
       "_view_module_version": "2.0.0",
       "_view_name": "LayoutView",
       "align_content": null,
       "align_items": null,
       "align_self": null,
       "border_bottom": null,
       "border_left": null,
       "border_right": null,
       "border_top": null,
       "bottom": null,
       "display": null,
       "flex": null,
       "flex_flow": null,
       "grid_area": null,
       "grid_auto_columns": null,
       "grid_auto_flow": null,
       "grid_auto_rows": null,
       "grid_column": null,
       "grid_gap": null,
       "grid_row": null,
       "grid_template_areas": null,
       "grid_template_columns": null,
       "grid_template_rows": null,
       "height": null,
       "justify_content": null,
       "justify_items": null,
       "left": null,
       "margin": null,
       "max_height": null,
       "max_width": null,
       "min_height": null,
       "min_width": null,
       "object_fit": null,
       "object_position": null,
       "order": null,
       "overflow": null,
       "padding": null,
       "right": null,
       "top": null,
       "visibility": null,
       "width": null
      }
     },
     "efa3f1b88d8d45da934229842a554550": {
      "model_module": "@jupyter-widgets/controls",
      "model_module_version": "2.0.0",
      "model_name": "ProgressStyleModel",
      "state": {
       "_model_module": "@jupyter-widgets/controls",
       "_model_module_version": "2.0.0",
       "_model_name": "ProgressStyleModel",
       "_view_count": null,
       "_view_module": "@jupyter-widgets/base",
       "_view_module_version": "2.0.0",
       "_view_name": "StyleView",
       "bar_color": null,
       "description_width": ""
      }
     },
     "f07b640e1c4544a38cb22b30caf0664e": {
      "model_module": "@jupyter-widgets/base",
      "model_module_version": "2.0.0",
      "model_name": "LayoutModel",
      "state": {
       "_model_module": "@jupyter-widgets/base",
       "_model_module_version": "2.0.0",
       "_model_name": "LayoutModel",
       "_view_count": null,
       "_view_module": "@jupyter-widgets/base",
       "_view_module_version": "2.0.0",
       "_view_name": "LayoutView",
       "align_content": null,
       "align_items": null,
       "align_self": null,
       "border_bottom": null,
       "border_left": null,
       "border_right": null,
       "border_top": null,
       "bottom": null,
       "display": null,
       "flex": null,
       "flex_flow": null,
       "grid_area": null,
       "grid_auto_columns": null,
       "grid_auto_flow": null,
       "grid_auto_rows": null,
       "grid_column": null,
       "grid_gap": null,
       "grid_row": null,
       "grid_template_areas": null,
       "grid_template_columns": null,
       "grid_template_rows": null,
       "height": null,
       "justify_content": null,
       "justify_items": null,
       "left": null,
       "margin": null,
       "max_height": null,
       "max_width": null,
       "min_height": null,
       "min_width": null,
       "object_fit": null,
       "object_position": null,
       "order": null,
       "overflow": null,
       "padding": null,
       "right": null,
       "top": null,
       "visibility": null,
       "width": null
      }
     },
     "f0c18510d76440ca895fe40277de02b4": {
      "model_module": "@jupyter-widgets/controls",
      "model_module_version": "2.0.0",
      "model_name": "HTMLStyleModel",
      "state": {
       "_model_module": "@jupyter-widgets/controls",
       "_model_module_version": "2.0.0",
       "_model_name": "HTMLStyleModel",
       "_view_count": null,
       "_view_module": "@jupyter-widgets/base",
       "_view_module_version": "2.0.0",
       "_view_name": "StyleView",
       "background": null,
       "description_width": "",
       "font_size": null,
       "text_color": null
      }
     },
     "f99516e2441c4c649e3b1dd36f046395": {
      "model_module": "@jupyter-widgets/controls",
      "model_module_version": "2.0.0",
      "model_name": "HTMLModel",
      "state": {
       "_dom_classes": [],
       "_model_module": "@jupyter-widgets/controls",
       "_model_module_version": "2.0.0",
       "_model_name": "HTMLModel",
       "_view_count": null,
       "_view_module": "@jupyter-widgets/controls",
       "_view_module_version": "2.0.0",
       "_view_name": "HTMLView",
       "description": "",
       "description_allow_html": false,
       "layout": "IPY_MODEL_31f7c6dfdaa6475294d8bca905eadbda",
       "placeholder": "​",
       "style": "IPY_MODEL_b908a5234f6548d18fbb7a8a3d403e1e",
       "tabbable": null,
       "tooltip": null,
       "value": "Map (num_proc=16): 100%"
      }
     },
     "fba5c97dd2da4610a657cdd1eb1d0dec": {
      "model_module": "@jupyter-widgets/controls",
      "model_module_version": "2.0.0",
      "model_name": "FloatProgressModel",
      "state": {
       "_dom_classes": [],
       "_model_module": "@jupyter-widgets/controls",
       "_model_module_version": "2.0.0",
       "_model_name": "FloatProgressModel",
       "_view_count": null,
       "_view_module": "@jupyter-widgets/controls",
       "_view_module_version": "2.0.0",
       "_view_name": "ProgressView",
       "bar_style": "success",
       "description": "",
       "description_allow_html": false,
       "layout": "IPY_MODEL_1074d240df184bac93aed7e75b4b507f",
       "max": 4370,
       "min": 0,
       "orientation": "horizontal",
       "style": "IPY_MODEL_877de7b6d2da4ac89bfed2e038d67dc8",
       "tabbable": null,
       "tooltip": null,
       "value": 4370
      }
     }
    },
    "version_major": 2,
    "version_minor": 0
   }
  }
 },
 "nbformat": 4,
 "nbformat_minor": 0
}
