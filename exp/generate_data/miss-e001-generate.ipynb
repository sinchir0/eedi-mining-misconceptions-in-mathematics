{
 "cells": [
  {
   "cell_type": "code",
   "execution_count": 1,
   "metadata": {},
   "outputs": [],
   "source": [
    "# 案\n",
    "# misconceptionからランダムに10件データをとってくる\n",
    "# misconceptionを10件見せるから、それに合うようなhoge, fuga, piyoを生成してください\n",
    "# 例を5つ(ランダムに選択)与えるため、参考にしてください。\n",
    "\n",
    "# 結果\n",
    "# ランダムに10件与えらデータから、良い感じに選んでくることができないため、中止"
   ]
  },
  {
   "cell_type": "code",
   "execution_count": 2,
   "metadata": {},
   "outputs": [],
   "source": [
    "# まずは、どのようなpromptを投げたら、良い感じの誤解に基づいた問題を生成してくれるかを調べる。\n",
    "import polars as pl"
   ]
  },
  {
   "cell_type": "code",
   "execution_count": 3,
   "metadata": {},
   "outputs": [],
   "source": [
    "train = pl.read_csv(\"../../data/train.csv\")\n",
    "misconception_mapping = pl.read_csv(\"../../data/misconception_mapping.csv\")"
   ]
  },
  {
   "cell_type": "code",
   "execution_count": 4,
   "metadata": {},
   "outputs": [],
   "source": [
    "misconception_mapping_dict = dict(\n",
    "    zip(\n",
    "        misconception_mapping[\"MisconceptionId\"],\n",
    "        misconception_mapping[\"MisconceptionName\"],\n",
    "    )\n",
    ")"
   ]
  },
  {
   "cell_type": "code",
   "execution_count": 5,
   "metadata": {},
   "outputs": [],
   "source": [
    "# Misconception[A-D]Nameを追加する\n",
    "train = train.with_columns(\n",
    "    [\n",
    "        pl.col(f\"Misconception{word}Id\")\n",
    "        .cast(pl.Int64)\n",
    "        .replace_strict(misconception_mapping_dict)\n",
    "        .alias(f\"Misconception{word}Name\")\n",
    "        for word in \"ABCD\"\n",
    "    ]\n",
    ")"
   ]
  },
  {
   "cell_type": "code",
   "execution_count": 7,
   "metadata": {},
   "outputs": [
    {
     "name": "stdout",
     "output_type": "stream",
     "text": [
      "\n",
      "    I will now provide 10 misconception candidates. \n",
      "    Please select 1-3 out of 10 misconceptions and create problems that could lead to misconceptions.\n",
      "    Please create ConstructName, SubjectName, QuestionText, CorrectAnswer, AnswerAText, AnswerBText, AnswerCText, and AnswerDText. \n",
      "    I will provide 1 examples, so please use them as a reference.\n",
      "\n",
      "    # misconception candidates\n",
      "    'When measuring a reflex angle, gives the acute or obtuse angle that sums to 360 instead',\n",
      "    'Believes gradient = change in y',\n",
      "    'Believes duration can be read from a timetable, rather than calculating from start and end times',\n",
      "    'Thinks that the side view does not include the furthest rows back',\n",
      "    'Does not subtract from the hours, when having to borrow for a time calculation',\n",
      "    'Believes all numbers written in standard form must be smaller than any numbers written in ordinary form',\n",
      "    'Thinks that the scale on axes has to match with the number of squares',\n",
      "    'Assumes there are only 2 terms in the nth term formula for a quadratic sequence',\n",
      "    'Ignores unlabelled angles when applying angle sum rules',\n",
      "    'When solving simultaneous equations graphically, they think the solutions are the x or y intercepts'\n",
      "    \n",
      "    # example\n",
      "    Question: Simplify the following, if possible: \\( \\frac{m^{2}+2 m-3}{m-3} \\)\n",
      "    Correct Answer: D\n",
      "    Construct Name: Simplify an algebraic fraction by factorising the numerator\n",
      "    Subject Name: Simplifying Algebraic Fractions\n",
      "\n",
      "    Answer A Text: \\( m+1 \\)\n",
      "    Answer B Text: \\( m+2 \\)\n",
      "    Answer C Text: \\( m-1 \\)\n",
      "    Answer D Text: Does not simplify \n",
      "\n",
      "    Misconception A Name: Does not know that to factorise a quadratic expression, to find two numbers that add to give the coefficient of the x term, and multiply to give the non variable term\n",
      "\n",
      "    Misconception B Name: Thinks that when you cancel identical terms from the numerator and denominator, they just disappear\n",
      "    Misconception C Name: Does not know that to factorise a quadratic expression, to find two numbers that add to give the coefficient of the x term, and multiply to give the non variable term\n",
      "\n",
      "    Misconception D Name: None\n",
      "    \n"
     ]
    }
   ],
   "source": [
    "# 行単位では行えない、元々のデータだと誤解は４つあるが、誤解からデータを生み出す場合には、\n",
    "def make_prompt(df: pl.DataFrame, idx: int):\n",
    "    row = df[idx]\n",
    "\n",
    "    construct_name = row[\"ConstructName\"][0]\n",
    "    subject_name = row[\"SubjectName\"][0]\n",
    "    question_text = row[\"QuestionText\"][0]\n",
    "    correct_answer = row[\"CorrectAnswer\"][0]\n",
    "\n",
    "    answer_a_text = row[\"AnswerAText\"][0]\n",
    "    answer_b_text = row[\"AnswerBText\"][0]\n",
    "    answer_c_text = row[\"AnswerCText\"][0]\n",
    "    answer_d_text = row[\"AnswerDText\"][0]\n",
    "\n",
    "    misconception_a_name = row[\"MisconceptionAName\"][0]\n",
    "    misconception_b_name = row[\"MisconceptionBName\"][0]\n",
    "    misconception_c_name = row[\"MisconceptionCName\"][0]\n",
    "    misconception_d_name = row[\"MisconceptionDName\"][0]\n",
    "\n",
    "    prompt = f\"\"\"\n",
    "    I will now provide 10 misconception candidates. \n",
    "    Please select 1-3 out of 10 misconceptions and create problems that could lead to misconceptions.\n",
    "    Please create ConstructName, SubjectName, QuestionText, CorrectAnswer, AnswerAText, AnswerBText, AnswerCText, and AnswerDText. \n",
    "    I will provide 1 examples, so please use them as a reference.\n",
    "\n",
    "    # misconception candidates\n",
    "    'When measuring a reflex angle, gives the acute or obtuse angle that sums to 360 instead',\n",
    "    'Believes gradient = change in y',\n",
    "    'Believes duration can be read from a timetable, rather than calculating from start and end times',\n",
    "    'Thinks that the side view does not include the furthest rows back',\n",
    "    'Does not subtract from the hours, when having to borrow for a time calculation',\n",
    "    'Believes all numbers written in standard form must be smaller than any numbers written in ordinary form',\n",
    "    'Thinks that the scale on axes has to match with the number of squares',\n",
    "    'Assumes there are only 2 terms in the nth term formula for a quadratic sequence',\n",
    "    'Ignores unlabelled angles when applying angle sum rules',\n",
    "    'When solving simultaneous equations graphically, they think the solutions are the x or y intercepts'\n",
    "    \n",
    "    # example\n",
    "    Question: {question_text}\n",
    "    Correct Answer: {correct_answer}\n",
    "    Construct Name: {construct_name}\n",
    "    Subject Name: {subject_name}\n",
    "\n",
    "    Answer A Text: {answer_a_text}\n",
    "    Answer B Text: {answer_b_text}\n",
    "    Answer C Text: {answer_c_text}\n",
    "    Answer D Text: {answer_d_text} \n",
    "\n",
    "    Misconception A Name: {misconception_a_name}\n",
    "    Misconception B Name: {misconception_b_name}\n",
    "    Misconception C Name: {misconception_c_name}\n",
    "    Misconception D Name: {misconception_d_name}\n",
    "    \"\"\"\n",
    "    print(prompt)\n",
    "\n",
    "\n",
    "make_prompt(train, 1)\n"
   ]
  },
  {
   "cell_type": "code",
   "execution_count": null,
   "metadata": {},
   "outputs": [],
   "source": [
    "train  # [0][\"ConstructName\"][0]"
   ]
  },
  {
   "cell_type": "code",
   "execution_count": null,
   "metadata": {},
   "outputs": [],
   "source": [
    "# 学習データに対し、それぞれのmisconception_idをnameに変換した列を追加する\n",
    "# hoge, fuga, piyo、answer"
   ]
  }
 ],
 "metadata": {
  "kernelspec": {
   "display_name": "base",
   "language": "python",
   "name": "python3"
  },
  "language_info": {
   "codemirror_mode": {
    "name": "ipython",
    "version": 3
   },
   "file_extension": ".py",
   "mimetype": "text/x-python",
   "name": "python",
   "nbconvert_exporter": "python",
   "pygments_lexer": "ipython3",
   "version": "3.10.14"
  }
 },
 "nbformat": 4,
 "nbformat_minor": 2
}
